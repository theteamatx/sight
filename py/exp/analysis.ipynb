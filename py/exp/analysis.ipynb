{
 "cells": [
  {
   "cell_type": "code",
   "execution_count": 1,
   "metadata": {},
   "outputs": [],
   "source": [
    "from google.cloud import storage\n",
    "import pandas as pd\n",
    "import matplotlib.pyplot as plt\n",
    "import json\n",
    "from datetime import datetime\n",
    "from urllib.parse import urlparse\n",
    "import plotly.express as px\n",
    "\n",
    "\n",
    "def read_logs_from_gs_uri(gs_uri):\n",
    "    \"\"\"\n",
    "    Read logs from a Google Cloud Storage file given a gs:// URI.\n",
    "    \"\"\"\n",
    "    # Parse the gs:// URI\n",
    "    parsed = urlparse(gs_uri)\n",
    "    if parsed.scheme != \"gs\":\n",
    "        raise ValueError(f\"Invalid URI scheme: {gs_uri}. Must start with 'gs://'.\")\n",
    "\n",
    "    bucket_name = parsed.netloc\n",
    "    file_path = parsed.path.lstrip('/')\n",
    "\n",
    "    # Initialize GCS client\n",
    "    client = storage.Client()\n",
    "    bucket = client.bucket(bucket_name)\n",
    "    blob = bucket.blob(file_path)\n",
    "    \n",
    "    # Download the JSON content as a string\n",
    "    logs_json = blob.download_as_string()\n",
    "\n",
    "    # Parse the JSON string into a list of dictionaries\n",
    "    logs = json.loads(logs_json)\n",
    "    return logs\n",
    "\n",
    "def analyze_message_flow(logs):\n",
    "  \n",
    "    # Create a DataFrame from the logs\n",
    "    df = pd.DataFrame(logs)\n",
    "\n",
    "    # Convert the 'timestamp' column to datetime type\n",
    "    df['timestamp'] = pd.to_datetime(df['timestamp'])\n",
    "\n",
    "    # Sort by 'timestamp' to maintain proper order\n",
    "    df = df.sort_values('timestamp')\n",
    "\n",
    "    # Create an interactive scatter plot for the message states over time\n",
    "    fig = px.line(\n",
    "        df,\n",
    "        x='timestamp',\n",
    "        y='message_id',\n",
    "        color='state',  # Color by the state to differentiate states visually\n",
    "        title=\"Message Transitions Over Time\",\n",
    "        labels={\"timestamp\": \"Time\", \"state\": \"State\"},\n",
    "        hover_data=[\"message_id\"],\n",
    "        template=\"plotly_dark\",  # Optional: dark theme\n",
    "        markers=True\n",
    "    )\n",
    "\n",
    "    # Customize layout for better readability\n",
    "    fig.update_layout(\n",
    "        hovermode=\"closest\",\n",
    "        xaxis=dict(showgrid=True, title=\"Timestamp\"),\n",
    "        yaxis=dict(showgrid=True, title=\"State\"),\n",
    "        margin=dict(t=40, b=40, l=40, r=40),  # Adjust margins to make space for labels\n",
    "    )\n",
    "    \n",
    "    # Show the plot\n",
    "    fig.show()\n",
    "\n"
   ]
  },
  {
   "cell_type": "code",
   "execution_count": 35,
   "metadata": {},
   "outputs": [],
   "source": [
    "# Read logs from GCS\n",
    "\n",
    "# workers 2 , tasks 5*2 = 10 , batch_size 5\n",
    "logs10 = read_logs_from_gs_uri(gs_uri= \"gs://cameltrain-sight/doing_mq_analysis/2024-12-20T09:00:43.541533.json\")\n",
    "# workers 2 , tasks 5*2 = 10 , batch_size 5\n",
    "logs10_fast = read_logs_from_gs_uri(gs_uri= \"gs://cameltrain-sight/doing_mq_analysis/2024-12-31T09:40:23.962527.json\")\n"
   ]
  },
  {
   "cell_type": "code",
   "execution_count": 42,
   "metadata": {},
   "outputs": [
    {
     "data": {
      "application/vnd.plotly.v1+json": {
       "config": {
        "plotlyServerURL": "https://plot.ly"
       },
       "data": [
        {
         "hovertemplate": "State=pending<br>Time=%{x}<br>message_id=%{y}<extra></extra>",
         "legendgroup": "pending",
         "line": {
          "color": "#636efa",
          "dash": "solid"
         },
         "marker": {
          "symbol": "circle"
         },
         "mode": "lines+markers",
         "name": "pending",
         "orientation": "v",
         "showlegend": true,
         "type": "scatter",
         "x": [
          "2024-12-20T08:59:44.396588",
          "2024-12-20T08:59:46.073954",
          "2024-12-20T08:59:47.372215",
          "2024-12-20T08:59:48.833797",
          "2024-12-20T08:59:50.305356",
          "2024-12-20T08:59:51.762117",
          "2024-12-20T08:59:53.059995",
          "2024-12-20T08:59:54.643456",
          "2024-12-20T08:59:56.353459",
          "2024-12-20T08:59:57.832053"
         ],
         "xaxis": "x",
         "y": [
          1,
          2,
          3,
          4,
          5,
          6,
          7,
          8,
          9,
          10
         ],
         "yaxis": "y"
        },
        {
         "hovertemplate": "State=active<br>Time=%{x}<br>message_id=%{y}<extra></extra>",
         "legendgroup": "active",
         "line": {
          "color": "#EF553B",
          "dash": "solid"
         },
         "marker": {
          "symbol": "circle"
         },
         "mode": "lines+markers",
         "name": "active",
         "orientation": "v",
         "showlegend": true,
         "type": "scatter",
         "x": [
          "2024-12-20T09:00:02.739369",
          "2024-12-20T09:00:02.739369",
          "2024-12-20T09:00:02.739369",
          "2024-12-20T09:00:02.739369",
          "2024-12-20T09:00:02.739369",
          "2024-12-20T09:00:02.758117",
          "2024-12-20T09:00:02.758117",
          "2024-12-20T09:00:02.758117",
          "2024-12-20T09:00:02.758117",
          "2024-12-20T09:00:02.758117"
         ],
         "xaxis": "x",
         "y": [
          4,
          3,
          5,
          1,
          2,
          6,
          7,
          8,
          9,
          10
         ],
         "yaxis": "y"
        },
        {
         "hovertemplate": "State=completed<br>Time=%{x}<br>message_id=%{y}<extra></extra>",
         "legendgroup": "completed",
         "line": {
          "color": "#00cc96",
          "dash": "solid"
         },
         "marker": {
          "symbol": "circle"
         },
         "mode": "lines+markers",
         "name": "completed",
         "orientation": "v",
         "showlegend": true,
         "type": "scatter",
         "x": [
          "2024-12-20T09:00:28.922982",
          "2024-12-20T09:00:28.923235",
          "2024-12-20T09:00:28.923445",
          "2024-12-20T09:00:28.923648",
          "2024-12-20T09:00:28.923841",
          "2024-12-20T09:00:29.070572",
          "2024-12-20T09:00:29.070823",
          "2024-12-20T09:00:29.071315",
          "2024-12-20T09:00:29.071644",
          "2024-12-20T09:00:29.071875"
         ],
         "xaxis": "x",
         "y": [
          1,
          2,
          3,
          4,
          5,
          6,
          7,
          8,
          9,
          10
         ],
         "yaxis": "y"
        }
       ],
       "layout": {
        "hovermode": "closest",
        "legend": {
         "title": {
          "text": "State"
         },
         "tracegroupgap": 0
        },
        "margin": {
         "b": 40,
         "l": 40,
         "r": 40,
         "t": 40
        },
        "template": {
         "data": {
          "bar": [
           {
            "error_x": {
             "color": "#f2f5fa"
            },
            "error_y": {
             "color": "#f2f5fa"
            },
            "marker": {
             "line": {
              "color": "rgb(17,17,17)",
              "width": 0.5
             },
             "pattern": {
              "fillmode": "overlay",
              "size": 10,
              "solidity": 0.2
             }
            },
            "type": "bar"
           }
          ],
          "barpolar": [
           {
            "marker": {
             "line": {
              "color": "rgb(17,17,17)",
              "width": 0.5
             },
             "pattern": {
              "fillmode": "overlay",
              "size": 10,
              "solidity": 0.2
             }
            },
            "type": "barpolar"
           }
          ],
          "carpet": [
           {
            "aaxis": {
             "endlinecolor": "#A2B1C6",
             "gridcolor": "#506784",
             "linecolor": "#506784",
             "minorgridcolor": "#506784",
             "startlinecolor": "#A2B1C6"
            },
            "baxis": {
             "endlinecolor": "#A2B1C6",
             "gridcolor": "#506784",
             "linecolor": "#506784",
             "minorgridcolor": "#506784",
             "startlinecolor": "#A2B1C6"
            },
            "type": "carpet"
           }
          ],
          "choropleth": [
           {
            "colorbar": {
             "outlinewidth": 0,
             "ticks": ""
            },
            "type": "choropleth"
           }
          ],
          "contour": [
           {
            "colorbar": {
             "outlinewidth": 0,
             "ticks": ""
            },
            "colorscale": [
             [
              0,
              "#0d0887"
             ],
             [
              0.1111111111111111,
              "#46039f"
             ],
             [
              0.2222222222222222,
              "#7201a8"
             ],
             [
              0.3333333333333333,
              "#9c179e"
             ],
             [
              0.4444444444444444,
              "#bd3786"
             ],
             [
              0.5555555555555556,
              "#d8576b"
             ],
             [
              0.6666666666666666,
              "#ed7953"
             ],
             [
              0.7777777777777778,
              "#fb9f3a"
             ],
             [
              0.8888888888888888,
              "#fdca26"
             ],
             [
              1,
              "#f0f921"
             ]
            ],
            "type": "contour"
           }
          ],
          "contourcarpet": [
           {
            "colorbar": {
             "outlinewidth": 0,
             "ticks": ""
            },
            "type": "contourcarpet"
           }
          ],
          "heatmap": [
           {
            "colorbar": {
             "outlinewidth": 0,
             "ticks": ""
            },
            "colorscale": [
             [
              0,
              "#0d0887"
             ],
             [
              0.1111111111111111,
              "#46039f"
             ],
             [
              0.2222222222222222,
              "#7201a8"
             ],
             [
              0.3333333333333333,
              "#9c179e"
             ],
             [
              0.4444444444444444,
              "#bd3786"
             ],
             [
              0.5555555555555556,
              "#d8576b"
             ],
             [
              0.6666666666666666,
              "#ed7953"
             ],
             [
              0.7777777777777778,
              "#fb9f3a"
             ],
             [
              0.8888888888888888,
              "#fdca26"
             ],
             [
              1,
              "#f0f921"
             ]
            ],
            "type": "heatmap"
           }
          ],
          "heatmapgl": [
           {
            "colorbar": {
             "outlinewidth": 0,
             "ticks": ""
            },
            "colorscale": [
             [
              0,
              "#0d0887"
             ],
             [
              0.1111111111111111,
              "#46039f"
             ],
             [
              0.2222222222222222,
              "#7201a8"
             ],
             [
              0.3333333333333333,
              "#9c179e"
             ],
             [
              0.4444444444444444,
              "#bd3786"
             ],
             [
              0.5555555555555556,
              "#d8576b"
             ],
             [
              0.6666666666666666,
              "#ed7953"
             ],
             [
              0.7777777777777778,
              "#fb9f3a"
             ],
             [
              0.8888888888888888,
              "#fdca26"
             ],
             [
              1,
              "#f0f921"
             ]
            ],
            "type": "heatmapgl"
           }
          ],
          "histogram": [
           {
            "marker": {
             "pattern": {
              "fillmode": "overlay",
              "size": 10,
              "solidity": 0.2
             }
            },
            "type": "histogram"
           }
          ],
          "histogram2d": [
           {
            "colorbar": {
             "outlinewidth": 0,
             "ticks": ""
            },
            "colorscale": [
             [
              0,
              "#0d0887"
             ],
             [
              0.1111111111111111,
              "#46039f"
             ],
             [
              0.2222222222222222,
              "#7201a8"
             ],
             [
              0.3333333333333333,
              "#9c179e"
             ],
             [
              0.4444444444444444,
              "#bd3786"
             ],
             [
              0.5555555555555556,
              "#d8576b"
             ],
             [
              0.6666666666666666,
              "#ed7953"
             ],
             [
              0.7777777777777778,
              "#fb9f3a"
             ],
             [
              0.8888888888888888,
              "#fdca26"
             ],
             [
              1,
              "#f0f921"
             ]
            ],
            "type": "histogram2d"
           }
          ],
          "histogram2dcontour": [
           {
            "colorbar": {
             "outlinewidth": 0,
             "ticks": ""
            },
            "colorscale": [
             [
              0,
              "#0d0887"
             ],
             [
              0.1111111111111111,
              "#46039f"
             ],
             [
              0.2222222222222222,
              "#7201a8"
             ],
             [
              0.3333333333333333,
              "#9c179e"
             ],
             [
              0.4444444444444444,
              "#bd3786"
             ],
             [
              0.5555555555555556,
              "#d8576b"
             ],
             [
              0.6666666666666666,
              "#ed7953"
             ],
             [
              0.7777777777777778,
              "#fb9f3a"
             ],
             [
              0.8888888888888888,
              "#fdca26"
             ],
             [
              1,
              "#f0f921"
             ]
            ],
            "type": "histogram2dcontour"
           }
          ],
          "mesh3d": [
           {
            "colorbar": {
             "outlinewidth": 0,
             "ticks": ""
            },
            "type": "mesh3d"
           }
          ],
          "parcoords": [
           {
            "line": {
             "colorbar": {
              "outlinewidth": 0,
              "ticks": ""
             }
            },
            "type": "parcoords"
           }
          ],
          "pie": [
           {
            "automargin": true,
            "type": "pie"
           }
          ],
          "scatter": [
           {
            "marker": {
             "line": {
              "color": "#283442"
             }
            },
            "type": "scatter"
           }
          ],
          "scatter3d": [
           {
            "line": {
             "colorbar": {
              "outlinewidth": 0,
              "ticks": ""
             }
            },
            "marker": {
             "colorbar": {
              "outlinewidth": 0,
              "ticks": ""
             }
            },
            "type": "scatter3d"
           }
          ],
          "scattercarpet": [
           {
            "marker": {
             "colorbar": {
              "outlinewidth": 0,
              "ticks": ""
             }
            },
            "type": "scattercarpet"
           }
          ],
          "scattergeo": [
           {
            "marker": {
             "colorbar": {
              "outlinewidth": 0,
              "ticks": ""
             }
            },
            "type": "scattergeo"
           }
          ],
          "scattergl": [
           {
            "marker": {
             "line": {
              "color": "#283442"
             }
            },
            "type": "scattergl"
           }
          ],
          "scattermapbox": [
           {
            "marker": {
             "colorbar": {
              "outlinewidth": 0,
              "ticks": ""
             }
            },
            "type": "scattermapbox"
           }
          ],
          "scatterpolar": [
           {
            "marker": {
             "colorbar": {
              "outlinewidth": 0,
              "ticks": ""
             }
            },
            "type": "scatterpolar"
           }
          ],
          "scatterpolargl": [
           {
            "marker": {
             "colorbar": {
              "outlinewidth": 0,
              "ticks": ""
             }
            },
            "type": "scatterpolargl"
           }
          ],
          "scatterternary": [
           {
            "marker": {
             "colorbar": {
              "outlinewidth": 0,
              "ticks": ""
             }
            },
            "type": "scatterternary"
           }
          ],
          "surface": [
           {
            "colorbar": {
             "outlinewidth": 0,
             "ticks": ""
            },
            "colorscale": [
             [
              0,
              "#0d0887"
             ],
             [
              0.1111111111111111,
              "#46039f"
             ],
             [
              0.2222222222222222,
              "#7201a8"
             ],
             [
              0.3333333333333333,
              "#9c179e"
             ],
             [
              0.4444444444444444,
              "#bd3786"
             ],
             [
              0.5555555555555556,
              "#d8576b"
             ],
             [
              0.6666666666666666,
              "#ed7953"
             ],
             [
              0.7777777777777778,
              "#fb9f3a"
             ],
             [
              0.8888888888888888,
              "#fdca26"
             ],
             [
              1,
              "#f0f921"
             ]
            ],
            "type": "surface"
           }
          ],
          "table": [
           {
            "cells": {
             "fill": {
              "color": "#506784"
             },
             "line": {
              "color": "rgb(17,17,17)"
             }
            },
            "header": {
             "fill": {
              "color": "#2a3f5f"
             },
             "line": {
              "color": "rgb(17,17,17)"
             }
            },
            "type": "table"
           }
          ]
         },
         "layout": {
          "annotationdefaults": {
           "arrowcolor": "#f2f5fa",
           "arrowhead": 0,
           "arrowwidth": 1
          },
          "autotypenumbers": "strict",
          "coloraxis": {
           "colorbar": {
            "outlinewidth": 0,
            "ticks": ""
           }
          },
          "colorscale": {
           "diverging": [
            [
             0,
             "#8e0152"
            ],
            [
             0.1,
             "#c51b7d"
            ],
            [
             0.2,
             "#de77ae"
            ],
            [
             0.3,
             "#f1b6da"
            ],
            [
             0.4,
             "#fde0ef"
            ],
            [
             0.5,
             "#f7f7f7"
            ],
            [
             0.6,
             "#e6f5d0"
            ],
            [
             0.7,
             "#b8e186"
            ],
            [
             0.8,
             "#7fbc41"
            ],
            [
             0.9,
             "#4d9221"
            ],
            [
             1,
             "#276419"
            ]
           ],
           "sequential": [
            [
             0,
             "#0d0887"
            ],
            [
             0.1111111111111111,
             "#46039f"
            ],
            [
             0.2222222222222222,
             "#7201a8"
            ],
            [
             0.3333333333333333,
             "#9c179e"
            ],
            [
             0.4444444444444444,
             "#bd3786"
            ],
            [
             0.5555555555555556,
             "#d8576b"
            ],
            [
             0.6666666666666666,
             "#ed7953"
            ],
            [
             0.7777777777777778,
             "#fb9f3a"
            ],
            [
             0.8888888888888888,
             "#fdca26"
            ],
            [
             1,
             "#f0f921"
            ]
           ],
           "sequentialminus": [
            [
             0,
             "#0d0887"
            ],
            [
             0.1111111111111111,
             "#46039f"
            ],
            [
             0.2222222222222222,
             "#7201a8"
            ],
            [
             0.3333333333333333,
             "#9c179e"
            ],
            [
             0.4444444444444444,
             "#bd3786"
            ],
            [
             0.5555555555555556,
             "#d8576b"
            ],
            [
             0.6666666666666666,
             "#ed7953"
            ],
            [
             0.7777777777777778,
             "#fb9f3a"
            ],
            [
             0.8888888888888888,
             "#fdca26"
            ],
            [
             1,
             "#f0f921"
            ]
           ]
          },
          "colorway": [
           "#636efa",
           "#EF553B",
           "#00cc96",
           "#ab63fa",
           "#FFA15A",
           "#19d3f3",
           "#FF6692",
           "#B6E880",
           "#FF97FF",
           "#FECB52"
          ],
          "font": {
           "color": "#f2f5fa"
          },
          "geo": {
           "bgcolor": "rgb(17,17,17)",
           "lakecolor": "rgb(17,17,17)",
           "landcolor": "rgb(17,17,17)",
           "showlakes": true,
           "showland": true,
           "subunitcolor": "#506784"
          },
          "hoverlabel": {
           "align": "left"
          },
          "hovermode": "closest",
          "mapbox": {
           "style": "dark"
          },
          "paper_bgcolor": "rgb(17,17,17)",
          "plot_bgcolor": "rgb(17,17,17)",
          "polar": {
           "angularaxis": {
            "gridcolor": "#506784",
            "linecolor": "#506784",
            "ticks": ""
           },
           "bgcolor": "rgb(17,17,17)",
           "radialaxis": {
            "gridcolor": "#506784",
            "linecolor": "#506784",
            "ticks": ""
           }
          },
          "scene": {
           "xaxis": {
            "backgroundcolor": "rgb(17,17,17)",
            "gridcolor": "#506784",
            "gridwidth": 2,
            "linecolor": "#506784",
            "showbackground": true,
            "ticks": "",
            "zerolinecolor": "#C8D4E3"
           },
           "yaxis": {
            "backgroundcolor": "rgb(17,17,17)",
            "gridcolor": "#506784",
            "gridwidth": 2,
            "linecolor": "#506784",
            "showbackground": true,
            "ticks": "",
            "zerolinecolor": "#C8D4E3"
           },
           "zaxis": {
            "backgroundcolor": "rgb(17,17,17)",
            "gridcolor": "#506784",
            "gridwidth": 2,
            "linecolor": "#506784",
            "showbackground": true,
            "ticks": "",
            "zerolinecolor": "#C8D4E3"
           }
          },
          "shapedefaults": {
           "line": {
            "color": "#f2f5fa"
           }
          },
          "sliderdefaults": {
           "bgcolor": "#C8D4E3",
           "bordercolor": "rgb(17,17,17)",
           "borderwidth": 1,
           "tickwidth": 0
          },
          "ternary": {
           "aaxis": {
            "gridcolor": "#506784",
            "linecolor": "#506784",
            "ticks": ""
           },
           "baxis": {
            "gridcolor": "#506784",
            "linecolor": "#506784",
            "ticks": ""
           },
           "bgcolor": "rgb(17,17,17)",
           "caxis": {
            "gridcolor": "#506784",
            "linecolor": "#506784",
            "ticks": ""
           }
          },
          "title": {
           "x": 0.05
          },
          "updatemenudefaults": {
           "bgcolor": "#506784",
           "borderwidth": 0
          },
          "xaxis": {
           "automargin": true,
           "gridcolor": "#283442",
           "linecolor": "#506784",
           "ticks": "",
           "title": {
            "standoff": 15
           },
           "zerolinecolor": "#283442",
           "zerolinewidth": 2
          },
          "yaxis": {
           "automargin": true,
           "gridcolor": "#283442",
           "linecolor": "#506784",
           "ticks": "",
           "title": {
            "standoff": 15
           },
           "zerolinecolor": "#283442",
           "zerolinewidth": 2
          }
         }
        },
        "title": {
         "text": "Message Transitions Over Time"
        },
        "xaxis": {
         "anchor": "y",
         "domain": [
          0,
          1
         ],
         "showgrid": true,
         "title": {
          "text": "Timestamp"
         }
        },
        "yaxis": {
         "anchor": "x",
         "domain": [
          0,
          1
         ],
         "showgrid": true,
         "title": {
          "text": "State"
         }
        }
       }
      }
     },
     "metadata": {},
     "output_type": "display_data"
    },
    {
     "data": {
      "application/vnd.plotly.v1+json": {
       "config": {
        "plotlyServerURL": "https://plot.ly"
       },
       "data": [
        {
         "hovertemplate": "State=pending<br>Time=%{x}<br>message_id=%{y}<extra></extra>",
         "legendgroup": "pending",
         "line": {
          "color": "#636efa",
          "dash": "solid"
         },
         "marker": {
          "symbol": "circle"
         },
         "mode": "lines+markers",
         "name": "pending",
         "orientation": "v",
         "showlegend": true,
         "type": "scatter",
         "x": [
          "2024-12-31T09:39:11.022331",
          "2024-12-31T09:39:11.031632",
          "2024-12-31T09:39:11.033397",
          "2024-12-31T09:39:11.038632",
          "2024-12-31T09:39:11.040371",
          "2024-12-31T09:39:11.043252",
          "2024-12-31T09:39:11.182702",
          "2024-12-31T09:39:11.208347",
          "2024-12-31T09:39:11.244373",
          "2024-12-31T09:39:11.269720"
         ],
         "xaxis": "x",
         "y": [
          1,
          2,
          3,
          4,
          5,
          6,
          7,
          8,
          9,
          10
         ],
         "yaxis": "y"
        },
        {
         "hovertemplate": "State=active<br>Time=%{x}<br>message_id=%{y}<extra></extra>",
         "legendgroup": "active",
         "line": {
          "color": "#EF553B",
          "dash": "solid"
         },
         "marker": {
          "symbol": "circle"
         },
         "mode": "lines+markers",
         "name": "active",
         "orientation": "v",
         "showlegend": true,
         "type": "scatter",
         "x": [
          "2024-12-31T09:39:11.297756",
          "2024-12-31T09:39:11.297756",
          "2024-12-31T09:39:11.297756",
          "2024-12-31T09:39:11.297756",
          "2024-12-31T09:39:11.297756",
          "2024-12-31T09:39:13.491352",
          "2024-12-31T09:39:13.491352",
          "2024-12-31T09:39:13.491352",
          "2024-12-31T09:39:13.491352",
          "2024-12-31T09:39:13.491352"
         ],
         "xaxis": "x",
         "y": [
          4,
          3,
          5,
          1,
          2,
          6,
          7,
          8,
          9,
          10
         ],
         "yaxis": "y"
        },
        {
         "hovertemplate": "State=completed<br>Time=%{x}<br>message_id=%{y}<extra></extra>",
         "legendgroup": "completed",
         "line": {
          "color": "#00cc96",
          "dash": "solid"
         },
         "marker": {
          "symbol": "circle"
         },
         "mode": "lines+markers",
         "name": "completed",
         "orientation": "v",
         "showlegend": true,
         "type": "scatter",
         "x": [
          "2024-12-31T09:40:01.486345",
          "2024-12-31T09:40:01.486569",
          "2024-12-31T09:40:01.486767",
          "2024-12-31T09:40:01.486984",
          "2024-12-31T09:40:01.487301",
          "2024-12-31T09:40:03.674674",
          "2024-12-31T09:40:03.674917",
          "2024-12-31T09:40:03.675134",
          "2024-12-31T09:40:03.675359",
          "2024-12-31T09:40:03.675590"
         ],
         "xaxis": "x",
         "y": [
          1,
          2,
          3,
          4,
          5,
          6,
          7,
          8,
          9,
          10
         ],
         "yaxis": "y"
        }
       ],
       "layout": {
        "hovermode": "closest",
        "legend": {
         "title": {
          "text": "State"
         },
         "tracegroupgap": 0
        },
        "margin": {
         "b": 40,
         "l": 40,
         "r": 40,
         "t": 40
        },
        "template": {
         "data": {
          "bar": [
           {
            "error_x": {
             "color": "#f2f5fa"
            },
            "error_y": {
             "color": "#f2f5fa"
            },
            "marker": {
             "line": {
              "color": "rgb(17,17,17)",
              "width": 0.5
             },
             "pattern": {
              "fillmode": "overlay",
              "size": 10,
              "solidity": 0.2
             }
            },
            "type": "bar"
           }
          ],
          "barpolar": [
           {
            "marker": {
             "line": {
              "color": "rgb(17,17,17)",
              "width": 0.5
             },
             "pattern": {
              "fillmode": "overlay",
              "size": 10,
              "solidity": 0.2
             }
            },
            "type": "barpolar"
           }
          ],
          "carpet": [
           {
            "aaxis": {
             "endlinecolor": "#A2B1C6",
             "gridcolor": "#506784",
             "linecolor": "#506784",
             "minorgridcolor": "#506784",
             "startlinecolor": "#A2B1C6"
            },
            "baxis": {
             "endlinecolor": "#A2B1C6",
             "gridcolor": "#506784",
             "linecolor": "#506784",
             "minorgridcolor": "#506784",
             "startlinecolor": "#A2B1C6"
            },
            "type": "carpet"
           }
          ],
          "choropleth": [
           {
            "colorbar": {
             "outlinewidth": 0,
             "ticks": ""
            },
            "type": "choropleth"
           }
          ],
          "contour": [
           {
            "colorbar": {
             "outlinewidth": 0,
             "ticks": ""
            },
            "colorscale": [
             [
              0,
              "#0d0887"
             ],
             [
              0.1111111111111111,
              "#46039f"
             ],
             [
              0.2222222222222222,
              "#7201a8"
             ],
             [
              0.3333333333333333,
              "#9c179e"
             ],
             [
              0.4444444444444444,
              "#bd3786"
             ],
             [
              0.5555555555555556,
              "#d8576b"
             ],
             [
              0.6666666666666666,
              "#ed7953"
             ],
             [
              0.7777777777777778,
              "#fb9f3a"
             ],
             [
              0.8888888888888888,
              "#fdca26"
             ],
             [
              1,
              "#f0f921"
             ]
            ],
            "type": "contour"
           }
          ],
          "contourcarpet": [
           {
            "colorbar": {
             "outlinewidth": 0,
             "ticks": ""
            },
            "type": "contourcarpet"
           }
          ],
          "heatmap": [
           {
            "colorbar": {
             "outlinewidth": 0,
             "ticks": ""
            },
            "colorscale": [
             [
              0,
              "#0d0887"
             ],
             [
              0.1111111111111111,
              "#46039f"
             ],
             [
              0.2222222222222222,
              "#7201a8"
             ],
             [
              0.3333333333333333,
              "#9c179e"
             ],
             [
              0.4444444444444444,
              "#bd3786"
             ],
             [
              0.5555555555555556,
              "#d8576b"
             ],
             [
              0.6666666666666666,
              "#ed7953"
             ],
             [
              0.7777777777777778,
              "#fb9f3a"
             ],
             [
              0.8888888888888888,
              "#fdca26"
             ],
             [
              1,
              "#f0f921"
             ]
            ],
            "type": "heatmap"
           }
          ],
          "heatmapgl": [
           {
            "colorbar": {
             "outlinewidth": 0,
             "ticks": ""
            },
            "colorscale": [
             [
              0,
              "#0d0887"
             ],
             [
              0.1111111111111111,
              "#46039f"
             ],
             [
              0.2222222222222222,
              "#7201a8"
             ],
             [
              0.3333333333333333,
              "#9c179e"
             ],
             [
              0.4444444444444444,
              "#bd3786"
             ],
             [
              0.5555555555555556,
              "#d8576b"
             ],
             [
              0.6666666666666666,
              "#ed7953"
             ],
             [
              0.7777777777777778,
              "#fb9f3a"
             ],
             [
              0.8888888888888888,
              "#fdca26"
             ],
             [
              1,
              "#f0f921"
             ]
            ],
            "type": "heatmapgl"
           }
          ],
          "histogram": [
           {
            "marker": {
             "pattern": {
              "fillmode": "overlay",
              "size": 10,
              "solidity": 0.2
             }
            },
            "type": "histogram"
           }
          ],
          "histogram2d": [
           {
            "colorbar": {
             "outlinewidth": 0,
             "ticks": ""
            },
            "colorscale": [
             [
              0,
              "#0d0887"
             ],
             [
              0.1111111111111111,
              "#46039f"
             ],
             [
              0.2222222222222222,
              "#7201a8"
             ],
             [
              0.3333333333333333,
              "#9c179e"
             ],
             [
              0.4444444444444444,
              "#bd3786"
             ],
             [
              0.5555555555555556,
              "#d8576b"
             ],
             [
              0.6666666666666666,
              "#ed7953"
             ],
             [
              0.7777777777777778,
              "#fb9f3a"
             ],
             [
              0.8888888888888888,
              "#fdca26"
             ],
             [
              1,
              "#f0f921"
             ]
            ],
            "type": "histogram2d"
           }
          ],
          "histogram2dcontour": [
           {
            "colorbar": {
             "outlinewidth": 0,
             "ticks": ""
            },
            "colorscale": [
             [
              0,
              "#0d0887"
             ],
             [
              0.1111111111111111,
              "#46039f"
             ],
             [
              0.2222222222222222,
              "#7201a8"
             ],
             [
              0.3333333333333333,
              "#9c179e"
             ],
             [
              0.4444444444444444,
              "#bd3786"
             ],
             [
              0.5555555555555556,
              "#d8576b"
             ],
             [
              0.6666666666666666,
              "#ed7953"
             ],
             [
              0.7777777777777778,
              "#fb9f3a"
             ],
             [
              0.8888888888888888,
              "#fdca26"
             ],
             [
              1,
              "#f0f921"
             ]
            ],
            "type": "histogram2dcontour"
           }
          ],
          "mesh3d": [
           {
            "colorbar": {
             "outlinewidth": 0,
             "ticks": ""
            },
            "type": "mesh3d"
           }
          ],
          "parcoords": [
           {
            "line": {
             "colorbar": {
              "outlinewidth": 0,
              "ticks": ""
             }
            },
            "type": "parcoords"
           }
          ],
          "pie": [
           {
            "automargin": true,
            "type": "pie"
           }
          ],
          "scatter": [
           {
            "marker": {
             "line": {
              "color": "#283442"
             }
            },
            "type": "scatter"
           }
          ],
          "scatter3d": [
           {
            "line": {
             "colorbar": {
              "outlinewidth": 0,
              "ticks": ""
             }
            },
            "marker": {
             "colorbar": {
              "outlinewidth": 0,
              "ticks": ""
             }
            },
            "type": "scatter3d"
           }
          ],
          "scattercarpet": [
           {
            "marker": {
             "colorbar": {
              "outlinewidth": 0,
              "ticks": ""
             }
            },
            "type": "scattercarpet"
           }
          ],
          "scattergeo": [
           {
            "marker": {
             "colorbar": {
              "outlinewidth": 0,
              "ticks": ""
             }
            },
            "type": "scattergeo"
           }
          ],
          "scattergl": [
           {
            "marker": {
             "line": {
              "color": "#283442"
             }
            },
            "type": "scattergl"
           }
          ],
          "scattermapbox": [
           {
            "marker": {
             "colorbar": {
              "outlinewidth": 0,
              "ticks": ""
             }
            },
            "type": "scattermapbox"
           }
          ],
          "scatterpolar": [
           {
            "marker": {
             "colorbar": {
              "outlinewidth": 0,
              "ticks": ""
             }
            },
            "type": "scatterpolar"
           }
          ],
          "scatterpolargl": [
           {
            "marker": {
             "colorbar": {
              "outlinewidth": 0,
              "ticks": ""
             }
            },
            "type": "scatterpolargl"
           }
          ],
          "scatterternary": [
           {
            "marker": {
             "colorbar": {
              "outlinewidth": 0,
              "ticks": ""
             }
            },
            "type": "scatterternary"
           }
          ],
          "surface": [
           {
            "colorbar": {
             "outlinewidth": 0,
             "ticks": ""
            },
            "colorscale": [
             [
              0,
              "#0d0887"
             ],
             [
              0.1111111111111111,
              "#46039f"
             ],
             [
              0.2222222222222222,
              "#7201a8"
             ],
             [
              0.3333333333333333,
              "#9c179e"
             ],
             [
              0.4444444444444444,
              "#bd3786"
             ],
             [
              0.5555555555555556,
              "#d8576b"
             ],
             [
              0.6666666666666666,
              "#ed7953"
             ],
             [
              0.7777777777777778,
              "#fb9f3a"
             ],
             [
              0.8888888888888888,
              "#fdca26"
             ],
             [
              1,
              "#f0f921"
             ]
            ],
            "type": "surface"
           }
          ],
          "table": [
           {
            "cells": {
             "fill": {
              "color": "#506784"
             },
             "line": {
              "color": "rgb(17,17,17)"
             }
            },
            "header": {
             "fill": {
              "color": "#2a3f5f"
             },
             "line": {
              "color": "rgb(17,17,17)"
             }
            },
            "type": "table"
           }
          ]
         },
         "layout": {
          "annotationdefaults": {
           "arrowcolor": "#f2f5fa",
           "arrowhead": 0,
           "arrowwidth": 1
          },
          "autotypenumbers": "strict",
          "coloraxis": {
           "colorbar": {
            "outlinewidth": 0,
            "ticks": ""
           }
          },
          "colorscale": {
           "diverging": [
            [
             0,
             "#8e0152"
            ],
            [
             0.1,
             "#c51b7d"
            ],
            [
             0.2,
             "#de77ae"
            ],
            [
             0.3,
             "#f1b6da"
            ],
            [
             0.4,
             "#fde0ef"
            ],
            [
             0.5,
             "#f7f7f7"
            ],
            [
             0.6,
             "#e6f5d0"
            ],
            [
             0.7,
             "#b8e186"
            ],
            [
             0.8,
             "#7fbc41"
            ],
            [
             0.9,
             "#4d9221"
            ],
            [
             1,
             "#276419"
            ]
           ],
           "sequential": [
            [
             0,
             "#0d0887"
            ],
            [
             0.1111111111111111,
             "#46039f"
            ],
            [
             0.2222222222222222,
             "#7201a8"
            ],
            [
             0.3333333333333333,
             "#9c179e"
            ],
            [
             0.4444444444444444,
             "#bd3786"
            ],
            [
             0.5555555555555556,
             "#d8576b"
            ],
            [
             0.6666666666666666,
             "#ed7953"
            ],
            [
             0.7777777777777778,
             "#fb9f3a"
            ],
            [
             0.8888888888888888,
             "#fdca26"
            ],
            [
             1,
             "#f0f921"
            ]
           ],
           "sequentialminus": [
            [
             0,
             "#0d0887"
            ],
            [
             0.1111111111111111,
             "#46039f"
            ],
            [
             0.2222222222222222,
             "#7201a8"
            ],
            [
             0.3333333333333333,
             "#9c179e"
            ],
            [
             0.4444444444444444,
             "#bd3786"
            ],
            [
             0.5555555555555556,
             "#d8576b"
            ],
            [
             0.6666666666666666,
             "#ed7953"
            ],
            [
             0.7777777777777778,
             "#fb9f3a"
            ],
            [
             0.8888888888888888,
             "#fdca26"
            ],
            [
             1,
             "#f0f921"
            ]
           ]
          },
          "colorway": [
           "#636efa",
           "#EF553B",
           "#00cc96",
           "#ab63fa",
           "#FFA15A",
           "#19d3f3",
           "#FF6692",
           "#B6E880",
           "#FF97FF",
           "#FECB52"
          ],
          "font": {
           "color": "#f2f5fa"
          },
          "geo": {
           "bgcolor": "rgb(17,17,17)",
           "lakecolor": "rgb(17,17,17)",
           "landcolor": "rgb(17,17,17)",
           "showlakes": true,
           "showland": true,
           "subunitcolor": "#506784"
          },
          "hoverlabel": {
           "align": "left"
          },
          "hovermode": "closest",
          "mapbox": {
           "style": "dark"
          },
          "paper_bgcolor": "rgb(17,17,17)",
          "plot_bgcolor": "rgb(17,17,17)",
          "polar": {
           "angularaxis": {
            "gridcolor": "#506784",
            "linecolor": "#506784",
            "ticks": ""
           },
           "bgcolor": "rgb(17,17,17)",
           "radialaxis": {
            "gridcolor": "#506784",
            "linecolor": "#506784",
            "ticks": ""
           }
          },
          "scene": {
           "xaxis": {
            "backgroundcolor": "rgb(17,17,17)",
            "gridcolor": "#506784",
            "gridwidth": 2,
            "linecolor": "#506784",
            "showbackground": true,
            "ticks": "",
            "zerolinecolor": "#C8D4E3"
           },
           "yaxis": {
            "backgroundcolor": "rgb(17,17,17)",
            "gridcolor": "#506784",
            "gridwidth": 2,
            "linecolor": "#506784",
            "showbackground": true,
            "ticks": "",
            "zerolinecolor": "#C8D4E3"
           },
           "zaxis": {
            "backgroundcolor": "rgb(17,17,17)",
            "gridcolor": "#506784",
            "gridwidth": 2,
            "linecolor": "#506784",
            "showbackground": true,
            "ticks": "",
            "zerolinecolor": "#C8D4E3"
           }
          },
          "shapedefaults": {
           "line": {
            "color": "#f2f5fa"
           }
          },
          "sliderdefaults": {
           "bgcolor": "#C8D4E3",
           "bordercolor": "rgb(17,17,17)",
           "borderwidth": 1,
           "tickwidth": 0
          },
          "ternary": {
           "aaxis": {
            "gridcolor": "#506784",
            "linecolor": "#506784",
            "ticks": ""
           },
           "baxis": {
            "gridcolor": "#506784",
            "linecolor": "#506784",
            "ticks": ""
           },
           "bgcolor": "rgb(17,17,17)",
           "caxis": {
            "gridcolor": "#506784",
            "linecolor": "#506784",
            "ticks": ""
           }
          },
          "title": {
           "x": 0.05
          },
          "updatemenudefaults": {
           "bgcolor": "#506784",
           "borderwidth": 0
          },
          "xaxis": {
           "automargin": true,
           "gridcolor": "#283442",
           "linecolor": "#506784",
           "ticks": "",
           "title": {
            "standoff": 15
           },
           "zerolinecolor": "#283442",
           "zerolinewidth": 2
          },
          "yaxis": {
           "automargin": true,
           "gridcolor": "#283442",
           "linecolor": "#506784",
           "ticks": "",
           "title": {
            "standoff": 15
           },
           "zerolinecolor": "#283442",
           "zerolinewidth": 2
          }
         }
        },
        "title": {
         "text": "Message Transitions Over Time"
        },
        "xaxis": {
         "anchor": "y",
         "domain": [
          0,
          1
         ],
         "showgrid": true,
         "title": {
          "text": "Timestamp"
         }
        },
        "yaxis": {
         "anchor": "x",
         "domain": [
          0,
          1
         ],
         "showgrid": true,
         "title": {
          "text": "State"
         }
        }
       }
      }
     },
     "metadata": {},
     "output_type": "display_data"
    }
   ],
   "source": [
    "analyze_message_flow(logs10)\n",
    "analyze_message_flow(logs10_fast)"
   ]
  },
  {
   "cell_type": "code",
   "execution_count": 43,
   "metadata": {},
   "outputs": [],
   "source": [
    "# workers 2 , tasks 25*2 = 50 , batch_size 5\n",
    "logs50 = read_logs_from_gs_uri(gs_uri=\"gs://cameltrain-sight/doing_mq_analysis/2024-12-23T15:15:49.032019.json\")\n",
    "logs50_fast = read_logs_from_gs_uri(gs_uri=\"gs://cameltrain-sight/doing_mq_analysis/2024-12-31T10:27:32.520731.json\")\n"
   ]
  },
  {
   "cell_type": "code",
   "execution_count": 44,
   "metadata": {},
   "outputs": [
    {
     "data": {
      "application/vnd.plotly.v1+json": {
       "config": {
        "plotlyServerURL": "https://plot.ly"
       },
       "data": [
        {
         "hovertemplate": "State=pending<br>Time=%{x}<br>message_id=%{y}<extra></extra>",
         "legendgroup": "pending",
         "line": {
          "color": "#636efa",
          "dash": "solid"
         },
         "marker": {
          "symbol": "circle"
         },
         "mode": "lines+markers",
         "name": "pending",
         "orientation": "v",
         "showlegend": true,
         "type": "scatter",
         "x": [
          "2024-12-23T15:11:10.227334",
          "2024-12-23T15:11:13.517650",
          "2024-12-23T15:11:16.933691",
          "2024-12-23T15:11:20.115313",
          "2024-12-23T15:11:23.404700",
          "2024-12-23T15:11:26.659781",
          "2024-12-23T15:11:30.003665",
          "2024-12-23T15:11:33.270237",
          "2024-12-23T15:11:36.530689",
          "2024-12-23T15:11:39.573468",
          "2024-12-23T15:11:42.675254",
          "2024-12-23T15:11:45.758826",
          "2024-12-23T15:11:48.827744",
          "2024-12-23T15:11:52.205965",
          "2024-12-23T15:11:55.456838",
          "2024-12-23T15:11:58.612422",
          "2024-12-23T15:12:02.200592",
          "2024-12-23T15:12:05.337597",
          "2024-12-23T15:12:08.507161",
          "2024-12-23T15:12:11.619422",
          "2024-12-23T15:12:14.764778",
          "2024-12-23T15:12:17.874783",
          "2024-12-23T15:12:21.056739",
          "2024-12-23T15:12:24.434675",
          "2024-12-23T15:12:27.613427",
          "2024-12-23T15:12:30.864462",
          "2024-12-23T15:12:34.307095",
          "2024-12-23T15:12:37.549836",
          "2024-12-23T15:12:40.690358",
          "2024-12-23T15:12:43.793230",
          "2024-12-23T15:12:46.918810",
          "2024-12-23T15:12:50.035470",
          "2024-12-23T15:12:53.248196",
          "2024-12-23T15:12:56.488710",
          "2024-12-23T15:12:59.596855",
          "2024-12-23T15:13:02.728442",
          "2024-12-23T15:13:05.947669",
          "2024-12-23T15:13:09.090233",
          "2024-12-23T15:13:12.177128",
          "2024-12-23T15:13:15.236323",
          "2024-12-23T15:13:18.739944",
          "2024-12-23T15:13:22.152984",
          "2024-12-23T15:13:25.269145",
          "2024-12-23T15:13:28.373681",
          "2024-12-23T15:13:31.486352",
          "2024-12-23T15:13:34.598193",
          "2024-12-23T15:13:37.984617",
          "2024-12-23T15:13:41.024716",
          "2024-12-23T15:13:44.303965",
          "2024-12-23T15:13:47.365888"
         ],
         "xaxis": "x",
         "y": [
          1,
          2,
          3,
          4,
          5,
          6,
          7,
          8,
          9,
          10,
          11,
          12,
          13,
          14,
          15,
          16,
          17,
          18,
          19,
          20,
          21,
          22,
          23,
          24,
          25,
          26,
          27,
          28,
          29,
          30,
          31,
          32,
          33,
          34,
          35,
          36,
          37,
          38,
          39,
          40,
          41,
          42,
          43,
          44,
          45,
          46,
          47,
          48,
          49,
          50
         ],
         "yaxis": "y"
        },
        {
         "hovertemplate": "State=active<br>Time=%{x}<br>message_id=%{y}<extra></extra>",
         "legendgroup": "active",
         "line": {
          "color": "#EF553B",
          "dash": "solid"
         },
         "marker": {
          "symbol": "circle"
         },
         "mode": "lines+markers",
         "name": "active",
         "orientation": "v",
         "showlegend": true,
         "type": "scatter",
         "x": [
          "2024-12-23T15:11:11.553831",
          "2024-12-23T15:11:17.311656",
          "2024-12-23T15:11:17.311656",
          "2024-12-23T15:11:21.674881",
          "2024-12-23T15:11:31.781262",
          "2024-12-23T15:11:31.781262",
          "2024-12-23T15:11:31.781262",
          "2024-12-23T15:11:37.491659",
          "2024-12-23T15:11:37.491659",
          "2024-12-23T15:11:57.635222",
          "2024-12-23T15:11:57.635222",
          "2024-12-23T15:11:57.635222",
          "2024-12-23T15:11:57.635222",
          "2024-12-23T15:11:57.635222",
          "2024-12-23T15:12:01.943880",
          "2024-12-23T15:12:01.943880",
          "2024-12-23T15:12:22.166118",
          "2024-12-23T15:12:22.166118",
          "2024-12-23T15:12:22.166118",
          "2024-12-23T15:12:22.166118",
          "2024-12-23T15:12:22.166118",
          "2024-12-23T15:12:47.981371",
          "2024-12-23T15:12:47.981371",
          "2024-12-23T15:12:47.981371",
          "2024-12-23T15:12:47.981371",
          "2024-12-23T15:12:47.981371",
          "2024-12-23T15:13:12.410780",
          "2024-12-23T15:13:12.410780",
          "2024-12-23T15:13:12.410780",
          "2024-12-23T15:13:12.410780",
          "2024-12-23T15:13:12.410780",
          "2024-12-23T15:13:38.194132",
          "2024-12-23T15:13:38.194132",
          "2024-12-23T15:13:38.194132",
          "2024-12-23T15:13:38.194132",
          "2024-12-23T15:13:38.194132",
          "2024-12-23T15:14:02.655893",
          "2024-12-23T15:14:02.655893",
          "2024-12-23T15:14:02.655893",
          "2024-12-23T15:14:02.655893",
          "2024-12-23T15:14:02.655893",
          "2024-12-23T15:14:28.421420",
          "2024-12-23T15:14:28.421420",
          "2024-12-23T15:14:28.421420",
          "2024-12-23T15:14:28.421420",
          "2024-12-23T15:14:28.421420",
          "2024-12-23T15:14:52.882531",
          "2024-12-23T15:14:52.882531",
          "2024-12-23T15:14:52.882531",
          "2024-12-23T15:14:52.882531"
         ],
         "xaxis": "x",
         "y": [
          1,
          2,
          3,
          4,
          5,
          6,
          7,
          8,
          9,
          10,
          11,
          12,
          13,
          14,
          15,
          16,
          17,
          18,
          19,
          20,
          21,
          22,
          23,
          24,
          25,
          26,
          27,
          28,
          29,
          30,
          31,
          32,
          33,
          34,
          35,
          36,
          37,
          38,
          39,
          40,
          41,
          45,
          44,
          46,
          42,
          43,
          50,
          49,
          47,
          48
         ],
         "yaxis": "y"
        },
        {
         "hovertemplate": "State=completed<br>Time=%{x}<br>message_id=%{y}<extra></extra>",
         "legendgroup": "completed",
         "line": {
          "color": "#00cc96",
          "dash": "solid"
         },
         "marker": {
          "symbol": "circle"
         },
         "mode": "lines+markers",
         "name": "completed",
         "orientation": "v",
         "showlegend": true,
         "type": "scatter",
         "x": [
          "2024-12-23T15:11:21.640985",
          "2024-12-23T15:11:31.748508",
          "2024-12-23T15:11:37.456052",
          "2024-12-23T15:11:37.456298",
          "2024-12-23T15:11:57.598491",
          "2024-12-23T15:11:57.598722",
          "2024-12-23T15:12:01.912344",
          "2024-12-23T15:12:01.912581",
          "2024-12-23T15:12:01.912826",
          "2024-12-23T15:12:22.132278",
          "2024-12-23T15:12:22.132516",
          "2024-12-23T15:12:47.946886",
          "2024-12-23T15:12:47.947133",
          "2024-12-23T15:12:47.947337",
          "2024-12-23T15:12:47.947670",
          "2024-12-23T15:12:47.947874",
          "2024-12-23T15:13:12.377203",
          "2024-12-23T15:13:12.377470",
          "2024-12-23T15:13:12.377701",
          "2024-12-23T15:13:12.377920",
          "2024-12-23T15:13:12.378154",
          "2024-12-23T15:13:38.163179",
          "2024-12-23T15:13:38.163412",
          "2024-12-23T15:13:38.163617",
          "2024-12-23T15:13:38.163826",
          "2024-12-23T15:13:38.164134",
          "2024-12-23T15:14:02.622889",
          "2024-12-23T15:14:02.623123",
          "2024-12-23T15:14:02.623333",
          "2024-12-23T15:14:02.623543",
          "2024-12-23T15:14:02.623749",
          "2024-12-23T15:14:28.385318",
          "2024-12-23T15:14:28.385535",
          "2024-12-23T15:14:28.385736",
          "2024-12-23T15:14:28.385942",
          "2024-12-23T15:14:28.386138",
          "2024-12-23T15:14:52.848221",
          "2024-12-23T15:14:52.848440",
          "2024-12-23T15:14:52.848639",
          "2024-12-23T15:14:52.848848",
          "2024-12-23T15:14:52.849052",
          "2024-12-23T15:15:18.632788",
          "2024-12-23T15:15:18.633007",
          "2024-12-23T15:15:18.633208",
          "2024-12-23T15:15:18.633404",
          "2024-12-23T15:15:18.633605",
          "2024-12-23T15:15:33.042890",
          "2024-12-23T15:15:33.043106",
          "2024-12-23T15:15:33.043304",
          "2024-12-23T15:15:33.043499"
         ],
         "xaxis": "x",
         "y": [
          1,
          4,
          2,
          3,
          8,
          9,
          5,
          6,
          7,
          15,
          16,
          10,
          11,
          12,
          13,
          14,
          17,
          18,
          19,
          20,
          21,
          22,
          23,
          24,
          25,
          26,
          27,
          28,
          29,
          30,
          31,
          32,
          33,
          34,
          35,
          36,
          37,
          38,
          39,
          40,
          41,
          42,
          43,
          44,
          45,
          46,
          47,
          48,
          49,
          50
         ],
         "yaxis": "y"
        }
       ],
       "layout": {
        "hovermode": "closest",
        "legend": {
         "title": {
          "text": "State"
         },
         "tracegroupgap": 0
        },
        "margin": {
         "b": 40,
         "l": 40,
         "r": 40,
         "t": 40
        },
        "template": {
         "data": {
          "bar": [
           {
            "error_x": {
             "color": "#f2f5fa"
            },
            "error_y": {
             "color": "#f2f5fa"
            },
            "marker": {
             "line": {
              "color": "rgb(17,17,17)",
              "width": 0.5
             },
             "pattern": {
              "fillmode": "overlay",
              "size": 10,
              "solidity": 0.2
             }
            },
            "type": "bar"
           }
          ],
          "barpolar": [
           {
            "marker": {
             "line": {
              "color": "rgb(17,17,17)",
              "width": 0.5
             },
             "pattern": {
              "fillmode": "overlay",
              "size": 10,
              "solidity": 0.2
             }
            },
            "type": "barpolar"
           }
          ],
          "carpet": [
           {
            "aaxis": {
             "endlinecolor": "#A2B1C6",
             "gridcolor": "#506784",
             "linecolor": "#506784",
             "minorgridcolor": "#506784",
             "startlinecolor": "#A2B1C6"
            },
            "baxis": {
             "endlinecolor": "#A2B1C6",
             "gridcolor": "#506784",
             "linecolor": "#506784",
             "minorgridcolor": "#506784",
             "startlinecolor": "#A2B1C6"
            },
            "type": "carpet"
           }
          ],
          "choropleth": [
           {
            "colorbar": {
             "outlinewidth": 0,
             "ticks": ""
            },
            "type": "choropleth"
           }
          ],
          "contour": [
           {
            "colorbar": {
             "outlinewidth": 0,
             "ticks": ""
            },
            "colorscale": [
             [
              0,
              "#0d0887"
             ],
             [
              0.1111111111111111,
              "#46039f"
             ],
             [
              0.2222222222222222,
              "#7201a8"
             ],
             [
              0.3333333333333333,
              "#9c179e"
             ],
             [
              0.4444444444444444,
              "#bd3786"
             ],
             [
              0.5555555555555556,
              "#d8576b"
             ],
             [
              0.6666666666666666,
              "#ed7953"
             ],
             [
              0.7777777777777778,
              "#fb9f3a"
             ],
             [
              0.8888888888888888,
              "#fdca26"
             ],
             [
              1,
              "#f0f921"
             ]
            ],
            "type": "contour"
           }
          ],
          "contourcarpet": [
           {
            "colorbar": {
             "outlinewidth": 0,
             "ticks": ""
            },
            "type": "contourcarpet"
           }
          ],
          "heatmap": [
           {
            "colorbar": {
             "outlinewidth": 0,
             "ticks": ""
            },
            "colorscale": [
             [
              0,
              "#0d0887"
             ],
             [
              0.1111111111111111,
              "#46039f"
             ],
             [
              0.2222222222222222,
              "#7201a8"
             ],
             [
              0.3333333333333333,
              "#9c179e"
             ],
             [
              0.4444444444444444,
              "#bd3786"
             ],
             [
              0.5555555555555556,
              "#d8576b"
             ],
             [
              0.6666666666666666,
              "#ed7953"
             ],
             [
              0.7777777777777778,
              "#fb9f3a"
             ],
             [
              0.8888888888888888,
              "#fdca26"
             ],
             [
              1,
              "#f0f921"
             ]
            ],
            "type": "heatmap"
           }
          ],
          "heatmapgl": [
           {
            "colorbar": {
             "outlinewidth": 0,
             "ticks": ""
            },
            "colorscale": [
             [
              0,
              "#0d0887"
             ],
             [
              0.1111111111111111,
              "#46039f"
             ],
             [
              0.2222222222222222,
              "#7201a8"
             ],
             [
              0.3333333333333333,
              "#9c179e"
             ],
             [
              0.4444444444444444,
              "#bd3786"
             ],
             [
              0.5555555555555556,
              "#d8576b"
             ],
             [
              0.6666666666666666,
              "#ed7953"
             ],
             [
              0.7777777777777778,
              "#fb9f3a"
             ],
             [
              0.8888888888888888,
              "#fdca26"
             ],
             [
              1,
              "#f0f921"
             ]
            ],
            "type": "heatmapgl"
           }
          ],
          "histogram": [
           {
            "marker": {
             "pattern": {
              "fillmode": "overlay",
              "size": 10,
              "solidity": 0.2
             }
            },
            "type": "histogram"
           }
          ],
          "histogram2d": [
           {
            "colorbar": {
             "outlinewidth": 0,
             "ticks": ""
            },
            "colorscale": [
             [
              0,
              "#0d0887"
             ],
             [
              0.1111111111111111,
              "#46039f"
             ],
             [
              0.2222222222222222,
              "#7201a8"
             ],
             [
              0.3333333333333333,
              "#9c179e"
             ],
             [
              0.4444444444444444,
              "#bd3786"
             ],
             [
              0.5555555555555556,
              "#d8576b"
             ],
             [
              0.6666666666666666,
              "#ed7953"
             ],
             [
              0.7777777777777778,
              "#fb9f3a"
             ],
             [
              0.8888888888888888,
              "#fdca26"
             ],
             [
              1,
              "#f0f921"
             ]
            ],
            "type": "histogram2d"
           }
          ],
          "histogram2dcontour": [
           {
            "colorbar": {
             "outlinewidth": 0,
             "ticks": ""
            },
            "colorscale": [
             [
              0,
              "#0d0887"
             ],
             [
              0.1111111111111111,
              "#46039f"
             ],
             [
              0.2222222222222222,
              "#7201a8"
             ],
             [
              0.3333333333333333,
              "#9c179e"
             ],
             [
              0.4444444444444444,
              "#bd3786"
             ],
             [
              0.5555555555555556,
              "#d8576b"
             ],
             [
              0.6666666666666666,
              "#ed7953"
             ],
             [
              0.7777777777777778,
              "#fb9f3a"
             ],
             [
              0.8888888888888888,
              "#fdca26"
             ],
             [
              1,
              "#f0f921"
             ]
            ],
            "type": "histogram2dcontour"
           }
          ],
          "mesh3d": [
           {
            "colorbar": {
             "outlinewidth": 0,
             "ticks": ""
            },
            "type": "mesh3d"
           }
          ],
          "parcoords": [
           {
            "line": {
             "colorbar": {
              "outlinewidth": 0,
              "ticks": ""
             }
            },
            "type": "parcoords"
           }
          ],
          "pie": [
           {
            "automargin": true,
            "type": "pie"
           }
          ],
          "scatter": [
           {
            "marker": {
             "line": {
              "color": "#283442"
             }
            },
            "type": "scatter"
           }
          ],
          "scatter3d": [
           {
            "line": {
             "colorbar": {
              "outlinewidth": 0,
              "ticks": ""
             }
            },
            "marker": {
             "colorbar": {
              "outlinewidth": 0,
              "ticks": ""
             }
            },
            "type": "scatter3d"
           }
          ],
          "scattercarpet": [
           {
            "marker": {
             "colorbar": {
              "outlinewidth": 0,
              "ticks": ""
             }
            },
            "type": "scattercarpet"
           }
          ],
          "scattergeo": [
           {
            "marker": {
             "colorbar": {
              "outlinewidth": 0,
              "ticks": ""
             }
            },
            "type": "scattergeo"
           }
          ],
          "scattergl": [
           {
            "marker": {
             "line": {
              "color": "#283442"
             }
            },
            "type": "scattergl"
           }
          ],
          "scattermapbox": [
           {
            "marker": {
             "colorbar": {
              "outlinewidth": 0,
              "ticks": ""
             }
            },
            "type": "scattermapbox"
           }
          ],
          "scatterpolar": [
           {
            "marker": {
             "colorbar": {
              "outlinewidth": 0,
              "ticks": ""
             }
            },
            "type": "scatterpolar"
           }
          ],
          "scatterpolargl": [
           {
            "marker": {
             "colorbar": {
              "outlinewidth": 0,
              "ticks": ""
             }
            },
            "type": "scatterpolargl"
           }
          ],
          "scatterternary": [
           {
            "marker": {
             "colorbar": {
              "outlinewidth": 0,
              "ticks": ""
             }
            },
            "type": "scatterternary"
           }
          ],
          "surface": [
           {
            "colorbar": {
             "outlinewidth": 0,
             "ticks": ""
            },
            "colorscale": [
             [
              0,
              "#0d0887"
             ],
             [
              0.1111111111111111,
              "#46039f"
             ],
             [
              0.2222222222222222,
              "#7201a8"
             ],
             [
              0.3333333333333333,
              "#9c179e"
             ],
             [
              0.4444444444444444,
              "#bd3786"
             ],
             [
              0.5555555555555556,
              "#d8576b"
             ],
             [
              0.6666666666666666,
              "#ed7953"
             ],
             [
              0.7777777777777778,
              "#fb9f3a"
             ],
             [
              0.8888888888888888,
              "#fdca26"
             ],
             [
              1,
              "#f0f921"
             ]
            ],
            "type": "surface"
           }
          ],
          "table": [
           {
            "cells": {
             "fill": {
              "color": "#506784"
             },
             "line": {
              "color": "rgb(17,17,17)"
             }
            },
            "header": {
             "fill": {
              "color": "#2a3f5f"
             },
             "line": {
              "color": "rgb(17,17,17)"
             }
            },
            "type": "table"
           }
          ]
         },
         "layout": {
          "annotationdefaults": {
           "arrowcolor": "#f2f5fa",
           "arrowhead": 0,
           "arrowwidth": 1
          },
          "autotypenumbers": "strict",
          "coloraxis": {
           "colorbar": {
            "outlinewidth": 0,
            "ticks": ""
           }
          },
          "colorscale": {
           "diverging": [
            [
             0,
             "#8e0152"
            ],
            [
             0.1,
             "#c51b7d"
            ],
            [
             0.2,
             "#de77ae"
            ],
            [
             0.3,
             "#f1b6da"
            ],
            [
             0.4,
             "#fde0ef"
            ],
            [
             0.5,
             "#f7f7f7"
            ],
            [
             0.6,
             "#e6f5d0"
            ],
            [
             0.7,
             "#b8e186"
            ],
            [
             0.8,
             "#7fbc41"
            ],
            [
             0.9,
             "#4d9221"
            ],
            [
             1,
             "#276419"
            ]
           ],
           "sequential": [
            [
             0,
             "#0d0887"
            ],
            [
             0.1111111111111111,
             "#46039f"
            ],
            [
             0.2222222222222222,
             "#7201a8"
            ],
            [
             0.3333333333333333,
             "#9c179e"
            ],
            [
             0.4444444444444444,
             "#bd3786"
            ],
            [
             0.5555555555555556,
             "#d8576b"
            ],
            [
             0.6666666666666666,
             "#ed7953"
            ],
            [
             0.7777777777777778,
             "#fb9f3a"
            ],
            [
             0.8888888888888888,
             "#fdca26"
            ],
            [
             1,
             "#f0f921"
            ]
           ],
           "sequentialminus": [
            [
             0,
             "#0d0887"
            ],
            [
             0.1111111111111111,
             "#46039f"
            ],
            [
             0.2222222222222222,
             "#7201a8"
            ],
            [
             0.3333333333333333,
             "#9c179e"
            ],
            [
             0.4444444444444444,
             "#bd3786"
            ],
            [
             0.5555555555555556,
             "#d8576b"
            ],
            [
             0.6666666666666666,
             "#ed7953"
            ],
            [
             0.7777777777777778,
             "#fb9f3a"
            ],
            [
             0.8888888888888888,
             "#fdca26"
            ],
            [
             1,
             "#f0f921"
            ]
           ]
          },
          "colorway": [
           "#636efa",
           "#EF553B",
           "#00cc96",
           "#ab63fa",
           "#FFA15A",
           "#19d3f3",
           "#FF6692",
           "#B6E880",
           "#FF97FF",
           "#FECB52"
          ],
          "font": {
           "color": "#f2f5fa"
          },
          "geo": {
           "bgcolor": "rgb(17,17,17)",
           "lakecolor": "rgb(17,17,17)",
           "landcolor": "rgb(17,17,17)",
           "showlakes": true,
           "showland": true,
           "subunitcolor": "#506784"
          },
          "hoverlabel": {
           "align": "left"
          },
          "hovermode": "closest",
          "mapbox": {
           "style": "dark"
          },
          "paper_bgcolor": "rgb(17,17,17)",
          "plot_bgcolor": "rgb(17,17,17)",
          "polar": {
           "angularaxis": {
            "gridcolor": "#506784",
            "linecolor": "#506784",
            "ticks": ""
           },
           "bgcolor": "rgb(17,17,17)",
           "radialaxis": {
            "gridcolor": "#506784",
            "linecolor": "#506784",
            "ticks": ""
           }
          },
          "scene": {
           "xaxis": {
            "backgroundcolor": "rgb(17,17,17)",
            "gridcolor": "#506784",
            "gridwidth": 2,
            "linecolor": "#506784",
            "showbackground": true,
            "ticks": "",
            "zerolinecolor": "#C8D4E3"
           },
           "yaxis": {
            "backgroundcolor": "rgb(17,17,17)",
            "gridcolor": "#506784",
            "gridwidth": 2,
            "linecolor": "#506784",
            "showbackground": true,
            "ticks": "",
            "zerolinecolor": "#C8D4E3"
           },
           "zaxis": {
            "backgroundcolor": "rgb(17,17,17)",
            "gridcolor": "#506784",
            "gridwidth": 2,
            "linecolor": "#506784",
            "showbackground": true,
            "ticks": "",
            "zerolinecolor": "#C8D4E3"
           }
          },
          "shapedefaults": {
           "line": {
            "color": "#f2f5fa"
           }
          },
          "sliderdefaults": {
           "bgcolor": "#C8D4E3",
           "bordercolor": "rgb(17,17,17)",
           "borderwidth": 1,
           "tickwidth": 0
          },
          "ternary": {
           "aaxis": {
            "gridcolor": "#506784",
            "linecolor": "#506784",
            "ticks": ""
           },
           "baxis": {
            "gridcolor": "#506784",
            "linecolor": "#506784",
            "ticks": ""
           },
           "bgcolor": "rgb(17,17,17)",
           "caxis": {
            "gridcolor": "#506784",
            "linecolor": "#506784",
            "ticks": ""
           }
          },
          "title": {
           "x": 0.05
          },
          "updatemenudefaults": {
           "bgcolor": "#506784",
           "borderwidth": 0
          },
          "xaxis": {
           "automargin": true,
           "gridcolor": "#283442",
           "linecolor": "#506784",
           "ticks": "",
           "title": {
            "standoff": 15
           },
           "zerolinecolor": "#283442",
           "zerolinewidth": 2
          },
          "yaxis": {
           "automargin": true,
           "gridcolor": "#283442",
           "linecolor": "#506784",
           "ticks": "",
           "title": {
            "standoff": 15
           },
           "zerolinecolor": "#283442",
           "zerolinewidth": 2
          }
         }
        },
        "title": {
         "text": "Message Transitions Over Time"
        },
        "xaxis": {
         "anchor": "y",
         "domain": [
          0,
          1
         ],
         "showgrid": true,
         "title": {
          "text": "Timestamp"
         }
        },
        "yaxis": {
         "anchor": "x",
         "domain": [
          0,
          1
         ],
         "showgrid": true,
         "title": {
          "text": "State"
         }
        }
       }
      }
     },
     "metadata": {},
     "output_type": "display_data"
    },
    {
     "data": {
      "application/vnd.plotly.v1+json": {
       "config": {
        "plotlyServerURL": "https://plot.ly"
       },
       "data": [
        {
         "hovertemplate": "State=pending<br>Time=%{x}<br>message_id=%{y}<extra></extra>",
         "legendgroup": "pending",
         "line": {
          "color": "#636efa",
          "dash": "solid"
         },
         "marker": {
          "symbol": "circle"
         },
         "mode": "lines+markers",
         "name": "pending",
         "orientation": "v",
         "showlegend": true,
         "type": "scatter",
         "x": [
          "2024-12-31T10:23:01.339781",
          "2024-12-31T10:23:01.608166",
          "2024-12-31T10:23:01.650603",
          "2024-12-31T10:23:01.677917",
          "2024-12-31T10:23:01.736444",
          "2024-12-31T10:23:01.872202",
          "2024-12-31T10:23:01.888569",
          "2024-12-31T10:23:01.900558",
          "2024-12-31T10:23:01.912507",
          "2024-12-31T10:23:01.938096",
          "2024-12-31T10:23:01.942404",
          "2024-12-31T10:23:01.959511",
          "2024-12-31T10:23:01.983522",
          "2024-12-31T10:23:02.081758",
          "2024-12-31T10:23:02.083766",
          "2024-12-31T10:23:02.165614",
          "2024-12-31T10:23:02.174482",
          "2024-12-31T10:23:02.176097",
          "2024-12-31T10:23:02.191935",
          "2024-12-31T10:23:02.266288",
          "2024-12-31T10:23:02.349656",
          "2024-12-31T10:23:02.381811",
          "2024-12-31T10:23:02.439627",
          "2024-12-31T10:23:02.520220",
          "2024-12-31T10:23:02.602700",
          "2024-12-31T10:23:02.746212",
          "2024-12-31T10:23:02.804739",
          "2024-12-31T10:23:02.855329",
          "2024-12-31T10:23:06.126969",
          "2024-12-31T10:23:06.233180",
          "2024-12-31T10:23:06.459391",
          "2024-12-31T10:23:06.473415",
          "2024-12-31T10:23:06.543299",
          "2024-12-31T10:23:06.556806",
          "2024-12-31T10:23:06.589867",
          "2024-12-31T10:23:06.620892",
          "2024-12-31T10:23:06.626978",
          "2024-12-31T10:23:06.683335",
          "2024-12-31T10:23:06.707131",
          "2024-12-31T10:23:06.766069",
          "2024-12-31T10:23:06.773295",
          "2024-12-31T10:23:06.859631",
          "2024-12-31T10:23:06.886728",
          "2024-12-31T10:23:06.924838",
          "2024-12-31T10:23:06.932095",
          "2024-12-31T10:23:06.950398",
          "2024-12-31T10:23:06.963826",
          "2024-12-31T10:23:06.985143",
          "2024-12-31T10:23:07.065386",
          "2024-12-31T10:23:07.104737"
         ],
         "xaxis": "x",
         "y": [
          1,
          2,
          3,
          4,
          5,
          6,
          7,
          8,
          9,
          10,
          11,
          12,
          13,
          14,
          15,
          16,
          17,
          18,
          19,
          20,
          21,
          22,
          23,
          24,
          25,
          26,
          27,
          28,
          29,
          30,
          31,
          32,
          33,
          34,
          35,
          36,
          37,
          38,
          39,
          40,
          41,
          42,
          43,
          44,
          45,
          46,
          47,
          48,
          49,
          50
         ],
         "yaxis": "y"
        },
        {
         "hovertemplate": "State=active<br>Time=%{x}<br>message_id=%{y}<extra></extra>",
         "legendgroup": "active",
         "line": {
          "color": "#EF553B",
          "dash": "solid"
         },
         "marker": {
          "symbol": "circle"
         },
         "mode": "lines+markers",
         "name": "active",
         "orientation": "v",
         "showlegend": true,
         "type": "scatter",
         "x": [
          "2024-12-31T10:23:02.742709",
          "2024-12-31T10:23:02.742709",
          "2024-12-31T10:23:02.742709",
          "2024-12-31T10:23:02.742709",
          "2024-12-31T10:23:02.742709",
          "2024-12-31T10:23:06.199027",
          "2024-12-31T10:23:06.199027",
          "2024-12-31T10:23:06.199027",
          "2024-12-31T10:23:06.199027",
          "2024-12-31T10:23:06.199027",
          "2024-12-31T10:23:52.972574",
          "2024-12-31T10:23:52.972574",
          "2024-12-31T10:23:52.972574",
          "2024-12-31T10:23:52.972574",
          "2024-12-31T10:23:52.972574",
          "2024-12-31T10:23:56.414960",
          "2024-12-31T10:23:56.414960",
          "2024-12-31T10:23:56.414960",
          "2024-12-31T10:23:56.414960",
          "2024-12-31T10:23:56.414960",
          "2024-12-31T10:24:43.250241",
          "2024-12-31T10:24:43.250241",
          "2024-12-31T10:24:43.250241",
          "2024-12-31T10:24:43.250241",
          "2024-12-31T10:24:43.250241",
          "2024-12-31T10:24:46.698351",
          "2024-12-31T10:24:46.698351",
          "2024-12-31T10:24:46.698351",
          "2024-12-31T10:24:46.698351",
          "2024-12-31T10:24:46.698351",
          "2024-12-31T10:25:33.458546",
          "2024-12-31T10:25:33.458546",
          "2024-12-31T10:25:33.458546",
          "2024-12-31T10:25:33.458546",
          "2024-12-31T10:25:33.458546",
          "2024-12-31T10:25:36.934790",
          "2024-12-31T10:25:36.934790",
          "2024-12-31T10:25:36.934790",
          "2024-12-31T10:25:36.934790",
          "2024-12-31T10:25:36.934790",
          "2024-12-31T10:26:23.681556",
          "2024-12-31T10:26:23.681556",
          "2024-12-31T10:26:23.681556",
          "2024-12-31T10:26:23.681556",
          "2024-12-31T10:26:23.681556",
          "2024-12-31T10:26:27.139640",
          "2024-12-31T10:26:27.139640",
          "2024-12-31T10:26:27.139640",
          "2024-12-31T10:26:27.139640",
          "2024-12-31T10:26:27.139640"
         ],
         "xaxis": "x",
         "y": [
          5,
          4,
          2,
          1,
          3,
          10,
          9,
          8,
          7,
          6,
          11,
          12,
          13,
          14,
          15,
          16,
          17,
          18,
          19,
          20,
          21,
          22,
          23,
          24,
          25,
          26,
          27,
          28,
          29,
          30,
          31,
          32,
          33,
          34,
          35,
          36,
          37,
          38,
          39,
          40,
          41,
          42,
          43,
          44,
          45,
          46,
          47,
          48,
          49,
          50
         ],
         "yaxis": "y"
        },
        {
         "hovertemplate": "State=completed<br>Time=%{x}<br>message_id=%{y}<extra></extra>",
         "legendgroup": "completed",
         "line": {
          "color": "#00cc96",
          "dash": "solid"
         },
         "marker": {
          "symbol": "circle"
         },
         "mode": "lines+markers",
         "name": "completed",
         "orientation": "v",
         "showlegend": true,
         "type": "scatter",
         "x": [
          "2024-12-31T10:23:52.943734",
          "2024-12-31T10:23:52.944219",
          "2024-12-31T10:23:52.944559",
          "2024-12-31T10:23:52.944841",
          "2024-12-31T10:23:52.945121",
          "2024-12-31T10:23:56.382384",
          "2024-12-31T10:23:56.382705",
          "2024-12-31T10:23:56.382949",
          "2024-12-31T10:23:56.384255",
          "2024-12-31T10:23:56.384674",
          "2024-12-31T10:24:43.221861",
          "2024-12-31T10:24:43.222092",
          "2024-12-31T10:24:43.222307",
          "2024-12-31T10:24:43.222509",
          "2024-12-31T10:24:43.222704",
          "2024-12-31T10:24:46.670066",
          "2024-12-31T10:24:46.670304",
          "2024-12-31T10:24:46.670522",
          "2024-12-31T10:24:46.670750",
          "2024-12-31T10:24:46.670956",
          "2024-12-31T10:25:33.428137",
          "2024-12-31T10:25:33.428370",
          "2024-12-31T10:25:33.428575",
          "2024-12-31T10:25:33.428770",
          "2024-12-31T10:25:33.428964",
          "2024-12-31T10:25:36.904331",
          "2024-12-31T10:25:36.904581",
          "2024-12-31T10:25:36.904811",
          "2024-12-31T10:25:36.905045",
          "2024-12-31T10:25:36.905281",
          "2024-12-31T10:26:23.652257",
          "2024-12-31T10:26:23.652493",
          "2024-12-31T10:26:23.652696",
          "2024-12-31T10:26:23.652892",
          "2024-12-31T10:26:23.653092",
          "2024-12-31T10:26:27.108465",
          "2024-12-31T10:26:27.108772",
          "2024-12-31T10:26:27.109052",
          "2024-12-31T10:26:27.109254",
          "2024-12-31T10:26:27.109455",
          "2024-12-31T10:27:13.869955",
          "2024-12-31T10:27:13.870420",
          "2024-12-31T10:27:13.870888",
          "2024-12-31T10:27:13.871126",
          "2024-12-31T10:27:13.871339",
          "2024-12-31T10:27:17.319540",
          "2024-12-31T10:27:17.319918",
          "2024-12-31T10:27:17.320527",
          "2024-12-31T10:27:17.320840",
          "2024-12-31T10:27:17.321128"
         ],
         "xaxis": "x",
         "y": [
          1,
          2,
          3,
          4,
          5,
          6,
          7,
          8,
          9,
          10,
          11,
          12,
          13,
          14,
          15,
          16,
          17,
          18,
          19,
          20,
          21,
          22,
          23,
          24,
          25,
          26,
          27,
          28,
          29,
          30,
          31,
          32,
          33,
          34,
          35,
          36,
          37,
          38,
          39,
          40,
          41,
          42,
          43,
          44,
          45,
          46,
          47,
          48,
          49,
          50
         ],
         "yaxis": "y"
        }
       ],
       "layout": {
        "hovermode": "closest",
        "legend": {
         "title": {
          "text": "State"
         },
         "tracegroupgap": 0
        },
        "margin": {
         "b": 40,
         "l": 40,
         "r": 40,
         "t": 40
        },
        "template": {
         "data": {
          "bar": [
           {
            "error_x": {
             "color": "#f2f5fa"
            },
            "error_y": {
             "color": "#f2f5fa"
            },
            "marker": {
             "line": {
              "color": "rgb(17,17,17)",
              "width": 0.5
             },
             "pattern": {
              "fillmode": "overlay",
              "size": 10,
              "solidity": 0.2
             }
            },
            "type": "bar"
           }
          ],
          "barpolar": [
           {
            "marker": {
             "line": {
              "color": "rgb(17,17,17)",
              "width": 0.5
             },
             "pattern": {
              "fillmode": "overlay",
              "size": 10,
              "solidity": 0.2
             }
            },
            "type": "barpolar"
           }
          ],
          "carpet": [
           {
            "aaxis": {
             "endlinecolor": "#A2B1C6",
             "gridcolor": "#506784",
             "linecolor": "#506784",
             "minorgridcolor": "#506784",
             "startlinecolor": "#A2B1C6"
            },
            "baxis": {
             "endlinecolor": "#A2B1C6",
             "gridcolor": "#506784",
             "linecolor": "#506784",
             "minorgridcolor": "#506784",
             "startlinecolor": "#A2B1C6"
            },
            "type": "carpet"
           }
          ],
          "choropleth": [
           {
            "colorbar": {
             "outlinewidth": 0,
             "ticks": ""
            },
            "type": "choropleth"
           }
          ],
          "contour": [
           {
            "colorbar": {
             "outlinewidth": 0,
             "ticks": ""
            },
            "colorscale": [
             [
              0,
              "#0d0887"
             ],
             [
              0.1111111111111111,
              "#46039f"
             ],
             [
              0.2222222222222222,
              "#7201a8"
             ],
             [
              0.3333333333333333,
              "#9c179e"
             ],
             [
              0.4444444444444444,
              "#bd3786"
             ],
             [
              0.5555555555555556,
              "#d8576b"
             ],
             [
              0.6666666666666666,
              "#ed7953"
             ],
             [
              0.7777777777777778,
              "#fb9f3a"
             ],
             [
              0.8888888888888888,
              "#fdca26"
             ],
             [
              1,
              "#f0f921"
             ]
            ],
            "type": "contour"
           }
          ],
          "contourcarpet": [
           {
            "colorbar": {
             "outlinewidth": 0,
             "ticks": ""
            },
            "type": "contourcarpet"
           }
          ],
          "heatmap": [
           {
            "colorbar": {
             "outlinewidth": 0,
             "ticks": ""
            },
            "colorscale": [
             [
              0,
              "#0d0887"
             ],
             [
              0.1111111111111111,
              "#46039f"
             ],
             [
              0.2222222222222222,
              "#7201a8"
             ],
             [
              0.3333333333333333,
              "#9c179e"
             ],
             [
              0.4444444444444444,
              "#bd3786"
             ],
             [
              0.5555555555555556,
              "#d8576b"
             ],
             [
              0.6666666666666666,
              "#ed7953"
             ],
             [
              0.7777777777777778,
              "#fb9f3a"
             ],
             [
              0.8888888888888888,
              "#fdca26"
             ],
             [
              1,
              "#f0f921"
             ]
            ],
            "type": "heatmap"
           }
          ],
          "heatmapgl": [
           {
            "colorbar": {
             "outlinewidth": 0,
             "ticks": ""
            },
            "colorscale": [
             [
              0,
              "#0d0887"
             ],
             [
              0.1111111111111111,
              "#46039f"
             ],
             [
              0.2222222222222222,
              "#7201a8"
             ],
             [
              0.3333333333333333,
              "#9c179e"
             ],
             [
              0.4444444444444444,
              "#bd3786"
             ],
             [
              0.5555555555555556,
              "#d8576b"
             ],
             [
              0.6666666666666666,
              "#ed7953"
             ],
             [
              0.7777777777777778,
              "#fb9f3a"
             ],
             [
              0.8888888888888888,
              "#fdca26"
             ],
             [
              1,
              "#f0f921"
             ]
            ],
            "type": "heatmapgl"
           }
          ],
          "histogram": [
           {
            "marker": {
             "pattern": {
              "fillmode": "overlay",
              "size": 10,
              "solidity": 0.2
             }
            },
            "type": "histogram"
           }
          ],
          "histogram2d": [
           {
            "colorbar": {
             "outlinewidth": 0,
             "ticks": ""
            },
            "colorscale": [
             [
              0,
              "#0d0887"
             ],
             [
              0.1111111111111111,
              "#46039f"
             ],
             [
              0.2222222222222222,
              "#7201a8"
             ],
             [
              0.3333333333333333,
              "#9c179e"
             ],
             [
              0.4444444444444444,
              "#bd3786"
             ],
             [
              0.5555555555555556,
              "#d8576b"
             ],
             [
              0.6666666666666666,
              "#ed7953"
             ],
             [
              0.7777777777777778,
              "#fb9f3a"
             ],
             [
              0.8888888888888888,
              "#fdca26"
             ],
             [
              1,
              "#f0f921"
             ]
            ],
            "type": "histogram2d"
           }
          ],
          "histogram2dcontour": [
           {
            "colorbar": {
             "outlinewidth": 0,
             "ticks": ""
            },
            "colorscale": [
             [
              0,
              "#0d0887"
             ],
             [
              0.1111111111111111,
              "#46039f"
             ],
             [
              0.2222222222222222,
              "#7201a8"
             ],
             [
              0.3333333333333333,
              "#9c179e"
             ],
             [
              0.4444444444444444,
              "#bd3786"
             ],
             [
              0.5555555555555556,
              "#d8576b"
             ],
             [
              0.6666666666666666,
              "#ed7953"
             ],
             [
              0.7777777777777778,
              "#fb9f3a"
             ],
             [
              0.8888888888888888,
              "#fdca26"
             ],
             [
              1,
              "#f0f921"
             ]
            ],
            "type": "histogram2dcontour"
           }
          ],
          "mesh3d": [
           {
            "colorbar": {
             "outlinewidth": 0,
             "ticks": ""
            },
            "type": "mesh3d"
           }
          ],
          "parcoords": [
           {
            "line": {
             "colorbar": {
              "outlinewidth": 0,
              "ticks": ""
             }
            },
            "type": "parcoords"
           }
          ],
          "pie": [
           {
            "automargin": true,
            "type": "pie"
           }
          ],
          "scatter": [
           {
            "marker": {
             "line": {
              "color": "#283442"
             }
            },
            "type": "scatter"
           }
          ],
          "scatter3d": [
           {
            "line": {
             "colorbar": {
              "outlinewidth": 0,
              "ticks": ""
             }
            },
            "marker": {
             "colorbar": {
              "outlinewidth": 0,
              "ticks": ""
             }
            },
            "type": "scatter3d"
           }
          ],
          "scattercarpet": [
           {
            "marker": {
             "colorbar": {
              "outlinewidth": 0,
              "ticks": ""
             }
            },
            "type": "scattercarpet"
           }
          ],
          "scattergeo": [
           {
            "marker": {
             "colorbar": {
              "outlinewidth": 0,
              "ticks": ""
             }
            },
            "type": "scattergeo"
           }
          ],
          "scattergl": [
           {
            "marker": {
             "line": {
              "color": "#283442"
             }
            },
            "type": "scattergl"
           }
          ],
          "scattermapbox": [
           {
            "marker": {
             "colorbar": {
              "outlinewidth": 0,
              "ticks": ""
             }
            },
            "type": "scattermapbox"
           }
          ],
          "scatterpolar": [
           {
            "marker": {
             "colorbar": {
              "outlinewidth": 0,
              "ticks": ""
             }
            },
            "type": "scatterpolar"
           }
          ],
          "scatterpolargl": [
           {
            "marker": {
             "colorbar": {
              "outlinewidth": 0,
              "ticks": ""
             }
            },
            "type": "scatterpolargl"
           }
          ],
          "scatterternary": [
           {
            "marker": {
             "colorbar": {
              "outlinewidth": 0,
              "ticks": ""
             }
            },
            "type": "scatterternary"
           }
          ],
          "surface": [
           {
            "colorbar": {
             "outlinewidth": 0,
             "ticks": ""
            },
            "colorscale": [
             [
              0,
              "#0d0887"
             ],
             [
              0.1111111111111111,
              "#46039f"
             ],
             [
              0.2222222222222222,
              "#7201a8"
             ],
             [
              0.3333333333333333,
              "#9c179e"
             ],
             [
              0.4444444444444444,
              "#bd3786"
             ],
             [
              0.5555555555555556,
              "#d8576b"
             ],
             [
              0.6666666666666666,
              "#ed7953"
             ],
             [
              0.7777777777777778,
              "#fb9f3a"
             ],
             [
              0.8888888888888888,
              "#fdca26"
             ],
             [
              1,
              "#f0f921"
             ]
            ],
            "type": "surface"
           }
          ],
          "table": [
           {
            "cells": {
             "fill": {
              "color": "#506784"
             },
             "line": {
              "color": "rgb(17,17,17)"
             }
            },
            "header": {
             "fill": {
              "color": "#2a3f5f"
             },
             "line": {
              "color": "rgb(17,17,17)"
             }
            },
            "type": "table"
           }
          ]
         },
         "layout": {
          "annotationdefaults": {
           "arrowcolor": "#f2f5fa",
           "arrowhead": 0,
           "arrowwidth": 1
          },
          "autotypenumbers": "strict",
          "coloraxis": {
           "colorbar": {
            "outlinewidth": 0,
            "ticks": ""
           }
          },
          "colorscale": {
           "diverging": [
            [
             0,
             "#8e0152"
            ],
            [
             0.1,
             "#c51b7d"
            ],
            [
             0.2,
             "#de77ae"
            ],
            [
             0.3,
             "#f1b6da"
            ],
            [
             0.4,
             "#fde0ef"
            ],
            [
             0.5,
             "#f7f7f7"
            ],
            [
             0.6,
             "#e6f5d0"
            ],
            [
             0.7,
             "#b8e186"
            ],
            [
             0.8,
             "#7fbc41"
            ],
            [
             0.9,
             "#4d9221"
            ],
            [
             1,
             "#276419"
            ]
           ],
           "sequential": [
            [
             0,
             "#0d0887"
            ],
            [
             0.1111111111111111,
             "#46039f"
            ],
            [
             0.2222222222222222,
             "#7201a8"
            ],
            [
             0.3333333333333333,
             "#9c179e"
            ],
            [
             0.4444444444444444,
             "#bd3786"
            ],
            [
             0.5555555555555556,
             "#d8576b"
            ],
            [
             0.6666666666666666,
             "#ed7953"
            ],
            [
             0.7777777777777778,
             "#fb9f3a"
            ],
            [
             0.8888888888888888,
             "#fdca26"
            ],
            [
             1,
             "#f0f921"
            ]
           ],
           "sequentialminus": [
            [
             0,
             "#0d0887"
            ],
            [
             0.1111111111111111,
             "#46039f"
            ],
            [
             0.2222222222222222,
             "#7201a8"
            ],
            [
             0.3333333333333333,
             "#9c179e"
            ],
            [
             0.4444444444444444,
             "#bd3786"
            ],
            [
             0.5555555555555556,
             "#d8576b"
            ],
            [
             0.6666666666666666,
             "#ed7953"
            ],
            [
             0.7777777777777778,
             "#fb9f3a"
            ],
            [
             0.8888888888888888,
             "#fdca26"
            ],
            [
             1,
             "#f0f921"
            ]
           ]
          },
          "colorway": [
           "#636efa",
           "#EF553B",
           "#00cc96",
           "#ab63fa",
           "#FFA15A",
           "#19d3f3",
           "#FF6692",
           "#B6E880",
           "#FF97FF",
           "#FECB52"
          ],
          "font": {
           "color": "#f2f5fa"
          },
          "geo": {
           "bgcolor": "rgb(17,17,17)",
           "lakecolor": "rgb(17,17,17)",
           "landcolor": "rgb(17,17,17)",
           "showlakes": true,
           "showland": true,
           "subunitcolor": "#506784"
          },
          "hoverlabel": {
           "align": "left"
          },
          "hovermode": "closest",
          "mapbox": {
           "style": "dark"
          },
          "paper_bgcolor": "rgb(17,17,17)",
          "plot_bgcolor": "rgb(17,17,17)",
          "polar": {
           "angularaxis": {
            "gridcolor": "#506784",
            "linecolor": "#506784",
            "ticks": ""
           },
           "bgcolor": "rgb(17,17,17)",
           "radialaxis": {
            "gridcolor": "#506784",
            "linecolor": "#506784",
            "ticks": ""
           }
          },
          "scene": {
           "xaxis": {
            "backgroundcolor": "rgb(17,17,17)",
            "gridcolor": "#506784",
            "gridwidth": 2,
            "linecolor": "#506784",
            "showbackground": true,
            "ticks": "",
            "zerolinecolor": "#C8D4E3"
           },
           "yaxis": {
            "backgroundcolor": "rgb(17,17,17)",
            "gridcolor": "#506784",
            "gridwidth": 2,
            "linecolor": "#506784",
            "showbackground": true,
            "ticks": "",
            "zerolinecolor": "#C8D4E3"
           },
           "zaxis": {
            "backgroundcolor": "rgb(17,17,17)",
            "gridcolor": "#506784",
            "gridwidth": 2,
            "linecolor": "#506784",
            "showbackground": true,
            "ticks": "",
            "zerolinecolor": "#C8D4E3"
           }
          },
          "shapedefaults": {
           "line": {
            "color": "#f2f5fa"
           }
          },
          "sliderdefaults": {
           "bgcolor": "#C8D4E3",
           "bordercolor": "rgb(17,17,17)",
           "borderwidth": 1,
           "tickwidth": 0
          },
          "ternary": {
           "aaxis": {
            "gridcolor": "#506784",
            "linecolor": "#506784",
            "ticks": ""
           },
           "baxis": {
            "gridcolor": "#506784",
            "linecolor": "#506784",
            "ticks": ""
           },
           "bgcolor": "rgb(17,17,17)",
           "caxis": {
            "gridcolor": "#506784",
            "linecolor": "#506784",
            "ticks": ""
           }
          },
          "title": {
           "x": 0.05
          },
          "updatemenudefaults": {
           "bgcolor": "#506784",
           "borderwidth": 0
          },
          "xaxis": {
           "automargin": true,
           "gridcolor": "#283442",
           "linecolor": "#506784",
           "ticks": "",
           "title": {
            "standoff": 15
           },
           "zerolinecolor": "#283442",
           "zerolinewidth": 2
          },
          "yaxis": {
           "automargin": true,
           "gridcolor": "#283442",
           "linecolor": "#506784",
           "ticks": "",
           "title": {
            "standoff": 15
           },
           "zerolinecolor": "#283442",
           "zerolinewidth": 2
          }
         }
        },
        "title": {
         "text": "Message Transitions Over Time"
        },
        "xaxis": {
         "anchor": "y",
         "domain": [
          0,
          1
         ],
         "showgrid": true,
         "title": {
          "text": "Timestamp"
         }
        },
        "yaxis": {
         "anchor": "x",
         "domain": [
          0,
          1
         ],
         "showgrid": true,
         "title": {
          "text": "State"
         }
        }
       }
      }
     },
     "metadata": {},
     "output_type": "display_data"
    }
   ],
   "source": [
    "analyze_message_flow(logs50)\n",
    "analyze_message_flow(logs50_fast)"
   ]
  },
  {
   "cell_type": "code",
   "execution_count": 37,
   "metadata": {},
   "outputs": [],
   "source": [
    "# workers 2 , tasks 50*2 = 100 , batch_size = 5\n",
    "logs100 = read_logs_from_gs_uri(gs_uri=\"gs://cameltrain-sight/doing_mq_analysis/2024-12-23T19:26:50.355211.json\")\n",
    "logs100_fast = read_logs_from_gs_uri(gs_uri=\"gs://cameltrain-sight/doing_mq_analysis/2024-12-31T10:52:02.779873.json\")\n"
   ]
  },
  {
   "cell_type": "code",
   "execution_count": 38,
   "metadata": {},
   "outputs": [
    {
     "data": {
      "application/vnd.plotly.v1+json": {
       "config": {
        "plotlyServerURL": "https://plot.ly"
       },
       "data": [
        {
         "hovertemplate": "State=pending<br>Time=%{x}<br>message_id=%{y}<extra></extra>",
         "legendgroup": "pending",
         "line": {
          "color": "#636efa",
          "dash": "solid"
         },
         "marker": {
          "symbol": "circle"
         },
         "mode": "lines+markers",
         "name": "pending",
         "orientation": "v",
         "showlegend": true,
         "type": "scatter",
         "x": [
          "2024-12-23T19:18:09.063136",
          "2024-12-23T19:18:12.303071",
          "2024-12-23T19:18:15.529766",
          "2024-12-23T19:18:18.831097",
          "2024-12-23T19:18:22.198760",
          "2024-12-23T19:18:25.336798",
          "2024-12-23T19:18:28.463610",
          "2024-12-23T19:18:31.584864",
          "2024-12-23T19:18:34.706376",
          "2024-12-23T19:18:37.821214",
          "2024-12-23T19:18:41.070966",
          "2024-12-23T19:18:44.210018",
          "2024-12-23T19:18:47.220970",
          "2024-12-23T19:18:50.387290",
          "2024-12-23T19:18:53.490003",
          "2024-12-23T19:18:56.625062",
          "2024-12-23T19:18:59.806968",
          "2024-12-23T19:19:03.061938",
          "2024-12-23T19:19:06.298534",
          "2024-12-23T19:19:09.554416",
          "2024-12-23T19:19:12.743893",
          "2024-12-23T19:19:15.849718",
          "2024-12-23T19:19:18.963752",
          "2024-12-23T19:19:22.116909",
          "2024-12-23T19:19:25.183222",
          "2024-12-23T19:19:28.299470",
          "2024-12-23T19:19:31.424694",
          "2024-12-23T19:19:34.574674",
          "2024-12-23T19:19:37.763589",
          "2024-12-23T19:19:41.008344",
          "2024-12-23T19:19:44.291140",
          "2024-12-23T19:19:47.443406",
          "2024-12-23T19:19:50.579148",
          "2024-12-23T19:19:53.671791",
          "2024-12-23T19:19:57.027843",
          "2024-12-23T19:20:00.319315",
          "2024-12-23T19:20:03.929681",
          "2024-12-23T19:20:07.185339",
          "2024-12-23T19:20:10.293503",
          "2024-12-23T19:20:13.487398",
          "2024-12-23T19:20:16.602742",
          "2024-12-23T19:20:19.763468",
          "2024-12-23T19:20:23.094490",
          "2024-12-23T19:20:26.249047",
          "2024-12-23T19:20:29.286450",
          "2024-12-23T19:20:32.390992",
          "2024-12-23T19:20:35.548265",
          "2024-12-23T19:20:38.826426",
          "2024-12-23T19:20:41.974108",
          "2024-12-23T19:20:45.253304",
          "2024-12-23T19:20:48.321820",
          "2024-12-23T19:20:51.391874",
          "2024-12-23T19:20:54.668902",
          "2024-12-23T19:20:57.856578",
          "2024-12-23T19:21:00.964601",
          "2024-12-23T19:21:04.123260",
          "2024-12-23T19:21:07.263095",
          "2024-12-23T19:21:10.541796",
          "2024-12-23T19:21:13.681093",
          "2024-12-23T19:21:16.789419",
          "2024-12-23T19:21:19.973343",
          "2024-12-23T19:21:23.112595",
          "2024-12-23T19:21:26.257660",
          "2024-12-23T19:21:29.397290",
          "2024-12-23T19:21:32.549622",
          "2024-12-23T19:21:35.649958",
          "2024-12-23T19:21:38.967209",
          "2024-12-23T19:21:42.027746",
          "2024-12-23T19:21:45.174121",
          "2024-12-23T19:21:48.263960",
          "2024-12-23T19:21:51.388938",
          "2024-12-23T19:21:54.466324",
          "2024-12-23T19:21:57.683771",
          "2024-12-23T19:22:00.837117",
          "2024-12-23T19:22:04.150764",
          "2024-12-23T19:22:07.554614",
          "2024-12-23T19:22:10.876528",
          "2024-12-23T19:22:14.115941",
          "2024-12-23T19:22:17.270443",
          "2024-12-23T19:22:20.434956",
          "2024-12-23T19:22:23.649187",
          "2024-12-23T19:22:26.735533",
          "2024-12-23T19:22:30.043451",
          "2024-12-23T19:22:33.233544",
          "2024-12-23T19:22:36.334464",
          "2024-12-23T19:22:39.573459",
          "2024-12-23T19:22:42.796774",
          "2024-12-23T19:22:45.880341",
          "2024-12-23T19:22:49.017988",
          "2024-12-23T19:22:52.339681",
          "2024-12-23T19:22:55.520518",
          "2024-12-23T19:22:58.716659",
          "2024-12-23T19:23:01.915264",
          "2024-12-23T19:23:05.180415",
          "2024-12-23T19:23:08.521371",
          "2024-12-23T19:23:11.662975",
          "2024-12-23T19:23:14.765272",
          "2024-12-23T19:23:17.961905",
          "2024-12-23T19:23:21.150698",
          "2024-12-23T19:23:24.316141"
         ],
         "xaxis": "x",
         "y": [
          1,
          2,
          3,
          4,
          5,
          6,
          7,
          8,
          9,
          10,
          11,
          12,
          13,
          14,
          15,
          16,
          17,
          18,
          19,
          20,
          21,
          22,
          23,
          24,
          25,
          26,
          27,
          28,
          29,
          30,
          31,
          32,
          33,
          34,
          35,
          36,
          37,
          38,
          39,
          40,
          41,
          42,
          43,
          44,
          45,
          46,
          47,
          48,
          49,
          50,
          51,
          52,
          53,
          54,
          55,
          56,
          57,
          58,
          59,
          60,
          61,
          62,
          63,
          64,
          65,
          66,
          67,
          68,
          69,
          70,
          71,
          72,
          73,
          74,
          75,
          76,
          77,
          78,
          79,
          80,
          81,
          82,
          83,
          84,
          85,
          86,
          87,
          88,
          89,
          90,
          91,
          92,
          93,
          94,
          95,
          96,
          97,
          98,
          99,
          100
         ],
         "yaxis": "y"
        },
        {
         "hovertemplate": "State=active<br>Time=%{x}<br>message_id=%{y}<extra></extra>",
         "legendgroup": "active",
         "line": {
          "color": "#EF553B",
          "dash": "solid"
         },
         "marker": {
          "symbol": "circle"
         },
         "mode": "lines+markers",
         "name": "active",
         "orientation": "v",
         "showlegend": true,
         "type": "scatter",
         "x": [
          "2024-12-23T19:18:11.946301",
          "2024-12-23T19:18:12.464746",
          "2024-12-23T19:18:22.065555",
          "2024-12-23T19:18:22.065555",
          "2024-12-23T19:18:22.579363",
          "2024-12-23T19:18:32.799801",
          "2024-12-23T19:18:32.799801",
          "2024-12-23T19:18:32.799801",
          "2024-12-23T19:18:42.217173",
          "2024-12-23T19:18:42.217173",
          "2024-12-23T19:18:42.217173",
          "2024-12-23T19:19:02.964617",
          "2024-12-23T19:19:02.964617",
          "2024-12-23T19:19:02.964617",
          "2024-12-23T19:19:02.964617",
          "2024-12-23T19:19:02.964617",
          "2024-12-23T19:19:12.382133",
          "2024-12-23T19:19:12.382133",
          "2024-12-23T19:19:12.382133",
          "2024-12-23T19:19:12.382133",
          "2024-12-23T19:19:52.656032",
          "2024-12-23T19:19:52.656032",
          "2024-12-23T19:19:52.656032",
          "2024-12-23T19:19:52.656032",
          "2024-12-23T19:19:52.656032",
          "2024-12-23T19:19:53.319612",
          "2024-12-23T19:19:53.319612",
          "2024-12-23T19:19:53.319612",
          "2024-12-23T19:19:53.319612",
          "2024-12-23T19:19:53.319612",
          "2024-12-23T19:20:42.877090",
          "2024-12-23T19:20:42.877090",
          "2024-12-23T19:20:42.877090",
          "2024-12-23T19:20:42.877090",
          "2024-12-23T19:20:42.877090",
          "2024-12-23T19:20:43.545174",
          "2024-12-23T19:20:43.545174",
          "2024-12-23T19:20:43.545174",
          "2024-12-23T19:20:43.545174",
          "2024-12-23T19:20:43.545174",
          "2024-12-23T19:21:33.093135",
          "2024-12-23T19:21:33.093135",
          "2024-12-23T19:21:33.093135",
          "2024-12-23T19:21:33.093135",
          "2024-12-23T19:21:33.093135",
          "2024-12-23T19:21:33.773564",
          "2024-12-23T19:21:33.773564",
          "2024-12-23T19:21:33.773564",
          "2024-12-23T19:21:33.773564",
          "2024-12-23T19:21:33.773564",
          "2024-12-23T19:22:23.310143",
          "2024-12-23T19:22:23.310143",
          "2024-12-23T19:22:23.310143",
          "2024-12-23T19:22:23.310143",
          "2024-12-23T19:22:23.310143",
          "2024-12-23T19:22:23.997699",
          "2024-12-23T19:22:23.997699",
          "2024-12-23T19:22:23.997699",
          "2024-12-23T19:22:23.997699",
          "2024-12-23T19:22:23.997699",
          "2024-12-23T19:23:13.527046",
          "2024-12-23T19:23:13.527046",
          "2024-12-23T19:23:13.527046",
          "2024-12-23T19:23:13.527046",
          "2024-12-23T19:23:13.527046",
          "2024-12-23T19:23:14.215850",
          "2024-12-23T19:23:14.215850",
          "2024-12-23T19:23:14.215850",
          "2024-12-23T19:23:14.215850",
          "2024-12-23T19:23:14.215850",
          "2024-12-23T19:24:03.853691",
          "2024-12-23T19:24:03.853691",
          "2024-12-23T19:24:03.853691",
          "2024-12-23T19:24:03.853691",
          "2024-12-23T19:24:03.853691",
          "2024-12-23T19:24:04.441333",
          "2024-12-23T19:24:04.441333",
          "2024-12-23T19:24:04.441333",
          "2024-12-23T19:24:04.441333",
          "2024-12-23T19:24:04.441333",
          "2024-12-23T19:24:54.071112",
          "2024-12-23T19:24:54.071112",
          "2024-12-23T19:24:54.071112",
          "2024-12-23T19:24:54.071112",
          "2024-12-23T19:24:54.071112",
          "2024-12-23T19:24:54.683159",
          "2024-12-23T19:24:54.683159",
          "2024-12-23T19:24:54.683159",
          "2024-12-23T19:24:54.683159",
          "2024-12-23T19:24:54.683159",
          "2024-12-23T19:25:44.343474",
          "2024-12-23T19:25:44.343474",
          "2024-12-23T19:25:44.343474",
          "2024-12-23T19:25:44.343474",
          "2024-12-23T19:25:44.343474",
          "2024-12-23T19:25:44.970580",
          "2024-12-23T19:25:44.970580",
          "2024-12-23T19:25:44.970580",
          "2024-12-23T19:25:44.970580",
          "2024-12-23T19:25:44.970580"
         ],
         "xaxis": "x",
         "y": [
          1,
          2,
          4,
          3,
          5,
          7,
          8,
          6,
          11,
          9,
          10,
          16,
          15,
          12,
          13,
          14,
          20,
          19,
          17,
          18,
          21,
          22,
          23,
          24,
          25,
          26,
          27,
          28,
          29,
          30,
          31,
          32,
          33,
          34,
          35,
          36,
          37,
          38,
          39,
          40,
          41,
          42,
          43,
          44,
          45,
          46,
          47,
          48,
          49,
          50,
          55,
          53,
          54,
          51,
          52,
          60,
          59,
          56,
          57,
          58,
          65,
          63,
          64,
          61,
          62,
          70,
          68,
          69,
          67,
          66,
          71,
          72,
          73,
          74,
          75,
          76,
          77,
          78,
          79,
          80,
          81,
          82,
          83,
          84,
          85,
          86,
          87,
          88,
          89,
          90,
          94,
          93,
          95,
          91,
          92,
          100,
          99,
          98,
          96,
          97
         ],
         "yaxis": "y"
        },
        {
         "hovertemplate": "State=completed<br>Time=%{x}<br>message_id=%{y}<extra></extra>",
         "legendgroup": "completed",
         "line": {
          "color": "#00cc96",
          "dash": "solid"
         },
         "marker": {
          "symbol": "circle"
         },
         "mode": "lines+markers",
         "name": "completed",
         "orientation": "v",
         "showlegend": true,
         "type": "scatter",
         "x": [
          "2024-12-23T19:18:22.032223",
          "2024-12-23T19:18:22.549529",
          "2024-12-23T19:18:32.768853",
          "2024-12-23T19:18:42.186427",
          "2024-12-23T19:18:42.186699",
          "2024-12-23T19:19:02.932190",
          "2024-12-23T19:19:02.932405",
          "2024-12-23T19:19:02.932610",
          "2024-12-23T19:19:12.349542",
          "2024-12-23T19:19:12.349774",
          "2024-12-23T19:19:12.350119",
          "2024-12-23T19:19:52.623632",
          "2024-12-23T19:19:52.623857",
          "2024-12-23T19:19:52.624057",
          "2024-12-23T19:19:52.624268",
          "2024-12-23T19:19:53.286513",
          "2024-12-23T19:19:53.286762",
          "2024-12-23T19:19:53.287002",
          "2024-12-23T19:19:53.287226",
          "2024-12-23T19:19:53.287441",
          "2024-12-23T19:20:42.845679",
          "2024-12-23T19:20:42.845902",
          "2024-12-23T19:20:42.846100",
          "2024-12-23T19:20:42.846291",
          "2024-12-23T19:20:42.846481",
          "2024-12-23T19:20:43.511397",
          "2024-12-23T19:20:43.511610",
          "2024-12-23T19:20:43.511803",
          "2024-12-23T19:20:43.513310",
          "2024-12-23T19:20:43.513577",
          "2024-12-23T19:21:33.060856",
          "2024-12-23T19:21:33.061088",
          "2024-12-23T19:21:33.061463",
          "2024-12-23T19:21:33.061799",
          "2024-12-23T19:21:33.062037",
          "2024-12-23T19:21:33.741335",
          "2024-12-23T19:21:33.741561",
          "2024-12-23T19:21:33.741777",
          "2024-12-23T19:21:33.741977",
          "2024-12-23T19:21:33.742171",
          "2024-12-23T19:22:23.280261",
          "2024-12-23T19:22:23.280495",
          "2024-12-23T19:22:23.280708",
          "2024-12-23T19:22:23.280920",
          "2024-12-23T19:22:23.281120",
          "2024-12-23T19:22:23.965454",
          "2024-12-23T19:22:23.965671",
          "2024-12-23T19:22:23.965870",
          "2024-12-23T19:22:23.966065",
          "2024-12-23T19:22:23.966265",
          "2024-12-23T19:23:13.494124",
          "2024-12-23T19:23:13.494388",
          "2024-12-23T19:23:13.494600",
          "2024-12-23T19:23:13.494812",
          "2024-12-23T19:23:13.495050",
          "2024-12-23T19:23:14.182935",
          "2024-12-23T19:23:14.183385",
          "2024-12-23T19:23:14.183609",
          "2024-12-23T19:23:14.183922",
          "2024-12-23T19:23:14.184257",
          "2024-12-23T19:24:03.823156",
          "2024-12-23T19:24:03.823375",
          "2024-12-23T19:24:03.823576",
          "2024-12-23T19:24:03.823772",
          "2024-12-23T19:24:03.824003",
          "2024-12-23T19:24:04.411164",
          "2024-12-23T19:24:04.411503",
          "2024-12-23T19:24:04.411717",
          "2024-12-23T19:24:04.411931",
          "2024-12-23T19:24:04.412142",
          "2024-12-23T19:24:54.038258",
          "2024-12-23T19:24:54.038484",
          "2024-12-23T19:24:54.038711",
          "2024-12-23T19:24:54.038915",
          "2024-12-23T19:24:54.039112",
          "2024-12-23T19:24:54.653928",
          "2024-12-23T19:24:54.654147",
          "2024-12-23T19:24:54.654350",
          "2024-12-23T19:24:54.654564",
          "2024-12-23T19:24:54.654760",
          "2024-12-23T19:25:44.305815",
          "2024-12-23T19:25:44.306045",
          "2024-12-23T19:25:44.306249",
          "2024-12-23T19:25:44.306445",
          "2024-12-23T19:25:44.306635",
          "2024-12-23T19:25:44.935092",
          "2024-12-23T19:25:44.935326",
          "2024-12-23T19:25:44.935534",
          "2024-12-23T19:25:44.935730",
          "2024-12-23T19:25:44.935925",
          "2024-12-23T19:26:34.531555",
          "2024-12-23T19:26:34.531776",
          "2024-12-23T19:26:34.531983",
          "2024-12-23T19:26:34.532175",
          "2024-12-23T19:26:34.532375",
          "2024-12-23T19:26:35.150554",
          "2024-12-23T19:26:35.150785",
          "2024-12-23T19:26:35.151000",
          "2024-12-23T19:26:35.152055",
          "2024-12-23T19:26:35.152358"
         ],
         "xaxis": "x",
         "y": [
          1,
          2,
          5,
          3,
          4,
          6,
          7,
          8,
          9,
          10,
          11,
          17,
          18,
          19,
          20,
          12,
          13,
          14,
          15,
          16,
          21,
          22,
          23,
          24,
          25,
          26,
          27,
          28,
          29,
          30,
          31,
          32,
          33,
          34,
          35,
          36,
          37,
          38,
          39,
          40,
          41,
          42,
          43,
          44,
          45,
          46,
          47,
          48,
          49,
          50,
          51,
          52,
          53,
          54,
          55,
          56,
          57,
          58,
          59,
          60,
          61,
          62,
          63,
          64,
          65,
          66,
          67,
          68,
          69,
          70,
          71,
          72,
          73,
          74,
          75,
          76,
          77,
          78,
          79,
          80,
          81,
          82,
          83,
          84,
          85,
          86,
          87,
          88,
          89,
          90,
          91,
          92,
          93,
          94,
          95,
          96,
          97,
          98,
          99,
          100
         ],
         "yaxis": "y"
        }
       ],
       "layout": {
        "hovermode": "closest",
        "legend": {
         "title": {
          "text": "State"
         },
         "tracegroupgap": 0
        },
        "margin": {
         "b": 40,
         "l": 40,
         "r": 40,
         "t": 40
        },
        "template": {
         "data": {
          "bar": [
           {
            "error_x": {
             "color": "#f2f5fa"
            },
            "error_y": {
             "color": "#f2f5fa"
            },
            "marker": {
             "line": {
              "color": "rgb(17,17,17)",
              "width": 0.5
             },
             "pattern": {
              "fillmode": "overlay",
              "size": 10,
              "solidity": 0.2
             }
            },
            "type": "bar"
           }
          ],
          "barpolar": [
           {
            "marker": {
             "line": {
              "color": "rgb(17,17,17)",
              "width": 0.5
             },
             "pattern": {
              "fillmode": "overlay",
              "size": 10,
              "solidity": 0.2
             }
            },
            "type": "barpolar"
           }
          ],
          "carpet": [
           {
            "aaxis": {
             "endlinecolor": "#A2B1C6",
             "gridcolor": "#506784",
             "linecolor": "#506784",
             "minorgridcolor": "#506784",
             "startlinecolor": "#A2B1C6"
            },
            "baxis": {
             "endlinecolor": "#A2B1C6",
             "gridcolor": "#506784",
             "linecolor": "#506784",
             "minorgridcolor": "#506784",
             "startlinecolor": "#A2B1C6"
            },
            "type": "carpet"
           }
          ],
          "choropleth": [
           {
            "colorbar": {
             "outlinewidth": 0,
             "ticks": ""
            },
            "type": "choropleth"
           }
          ],
          "contour": [
           {
            "colorbar": {
             "outlinewidth": 0,
             "ticks": ""
            },
            "colorscale": [
             [
              0,
              "#0d0887"
             ],
             [
              0.1111111111111111,
              "#46039f"
             ],
             [
              0.2222222222222222,
              "#7201a8"
             ],
             [
              0.3333333333333333,
              "#9c179e"
             ],
             [
              0.4444444444444444,
              "#bd3786"
             ],
             [
              0.5555555555555556,
              "#d8576b"
             ],
             [
              0.6666666666666666,
              "#ed7953"
             ],
             [
              0.7777777777777778,
              "#fb9f3a"
             ],
             [
              0.8888888888888888,
              "#fdca26"
             ],
             [
              1,
              "#f0f921"
             ]
            ],
            "type": "contour"
           }
          ],
          "contourcarpet": [
           {
            "colorbar": {
             "outlinewidth": 0,
             "ticks": ""
            },
            "type": "contourcarpet"
           }
          ],
          "heatmap": [
           {
            "colorbar": {
             "outlinewidth": 0,
             "ticks": ""
            },
            "colorscale": [
             [
              0,
              "#0d0887"
             ],
             [
              0.1111111111111111,
              "#46039f"
             ],
             [
              0.2222222222222222,
              "#7201a8"
             ],
             [
              0.3333333333333333,
              "#9c179e"
             ],
             [
              0.4444444444444444,
              "#bd3786"
             ],
             [
              0.5555555555555556,
              "#d8576b"
             ],
             [
              0.6666666666666666,
              "#ed7953"
             ],
             [
              0.7777777777777778,
              "#fb9f3a"
             ],
             [
              0.8888888888888888,
              "#fdca26"
             ],
             [
              1,
              "#f0f921"
             ]
            ],
            "type": "heatmap"
           }
          ],
          "heatmapgl": [
           {
            "colorbar": {
             "outlinewidth": 0,
             "ticks": ""
            },
            "colorscale": [
             [
              0,
              "#0d0887"
             ],
             [
              0.1111111111111111,
              "#46039f"
             ],
             [
              0.2222222222222222,
              "#7201a8"
             ],
             [
              0.3333333333333333,
              "#9c179e"
             ],
             [
              0.4444444444444444,
              "#bd3786"
             ],
             [
              0.5555555555555556,
              "#d8576b"
             ],
             [
              0.6666666666666666,
              "#ed7953"
             ],
             [
              0.7777777777777778,
              "#fb9f3a"
             ],
             [
              0.8888888888888888,
              "#fdca26"
             ],
             [
              1,
              "#f0f921"
             ]
            ],
            "type": "heatmapgl"
           }
          ],
          "histogram": [
           {
            "marker": {
             "pattern": {
              "fillmode": "overlay",
              "size": 10,
              "solidity": 0.2
             }
            },
            "type": "histogram"
           }
          ],
          "histogram2d": [
           {
            "colorbar": {
             "outlinewidth": 0,
             "ticks": ""
            },
            "colorscale": [
             [
              0,
              "#0d0887"
             ],
             [
              0.1111111111111111,
              "#46039f"
             ],
             [
              0.2222222222222222,
              "#7201a8"
             ],
             [
              0.3333333333333333,
              "#9c179e"
             ],
             [
              0.4444444444444444,
              "#bd3786"
             ],
             [
              0.5555555555555556,
              "#d8576b"
             ],
             [
              0.6666666666666666,
              "#ed7953"
             ],
             [
              0.7777777777777778,
              "#fb9f3a"
             ],
             [
              0.8888888888888888,
              "#fdca26"
             ],
             [
              1,
              "#f0f921"
             ]
            ],
            "type": "histogram2d"
           }
          ],
          "histogram2dcontour": [
           {
            "colorbar": {
             "outlinewidth": 0,
             "ticks": ""
            },
            "colorscale": [
             [
              0,
              "#0d0887"
             ],
             [
              0.1111111111111111,
              "#46039f"
             ],
             [
              0.2222222222222222,
              "#7201a8"
             ],
             [
              0.3333333333333333,
              "#9c179e"
             ],
             [
              0.4444444444444444,
              "#bd3786"
             ],
             [
              0.5555555555555556,
              "#d8576b"
             ],
             [
              0.6666666666666666,
              "#ed7953"
             ],
             [
              0.7777777777777778,
              "#fb9f3a"
             ],
             [
              0.8888888888888888,
              "#fdca26"
             ],
             [
              1,
              "#f0f921"
             ]
            ],
            "type": "histogram2dcontour"
           }
          ],
          "mesh3d": [
           {
            "colorbar": {
             "outlinewidth": 0,
             "ticks": ""
            },
            "type": "mesh3d"
           }
          ],
          "parcoords": [
           {
            "line": {
             "colorbar": {
              "outlinewidth": 0,
              "ticks": ""
             }
            },
            "type": "parcoords"
           }
          ],
          "pie": [
           {
            "automargin": true,
            "type": "pie"
           }
          ],
          "scatter": [
           {
            "marker": {
             "line": {
              "color": "#283442"
             }
            },
            "type": "scatter"
           }
          ],
          "scatter3d": [
           {
            "line": {
             "colorbar": {
              "outlinewidth": 0,
              "ticks": ""
             }
            },
            "marker": {
             "colorbar": {
              "outlinewidth": 0,
              "ticks": ""
             }
            },
            "type": "scatter3d"
           }
          ],
          "scattercarpet": [
           {
            "marker": {
             "colorbar": {
              "outlinewidth": 0,
              "ticks": ""
             }
            },
            "type": "scattercarpet"
           }
          ],
          "scattergeo": [
           {
            "marker": {
             "colorbar": {
              "outlinewidth": 0,
              "ticks": ""
             }
            },
            "type": "scattergeo"
           }
          ],
          "scattergl": [
           {
            "marker": {
             "line": {
              "color": "#283442"
             }
            },
            "type": "scattergl"
           }
          ],
          "scattermapbox": [
           {
            "marker": {
             "colorbar": {
              "outlinewidth": 0,
              "ticks": ""
             }
            },
            "type": "scattermapbox"
           }
          ],
          "scatterpolar": [
           {
            "marker": {
             "colorbar": {
              "outlinewidth": 0,
              "ticks": ""
             }
            },
            "type": "scatterpolar"
           }
          ],
          "scatterpolargl": [
           {
            "marker": {
             "colorbar": {
              "outlinewidth": 0,
              "ticks": ""
             }
            },
            "type": "scatterpolargl"
           }
          ],
          "scatterternary": [
           {
            "marker": {
             "colorbar": {
              "outlinewidth": 0,
              "ticks": ""
             }
            },
            "type": "scatterternary"
           }
          ],
          "surface": [
           {
            "colorbar": {
             "outlinewidth": 0,
             "ticks": ""
            },
            "colorscale": [
             [
              0,
              "#0d0887"
             ],
             [
              0.1111111111111111,
              "#46039f"
             ],
             [
              0.2222222222222222,
              "#7201a8"
             ],
             [
              0.3333333333333333,
              "#9c179e"
             ],
             [
              0.4444444444444444,
              "#bd3786"
             ],
             [
              0.5555555555555556,
              "#d8576b"
             ],
             [
              0.6666666666666666,
              "#ed7953"
             ],
             [
              0.7777777777777778,
              "#fb9f3a"
             ],
             [
              0.8888888888888888,
              "#fdca26"
             ],
             [
              1,
              "#f0f921"
             ]
            ],
            "type": "surface"
           }
          ],
          "table": [
           {
            "cells": {
             "fill": {
              "color": "#506784"
             },
             "line": {
              "color": "rgb(17,17,17)"
             }
            },
            "header": {
             "fill": {
              "color": "#2a3f5f"
             },
             "line": {
              "color": "rgb(17,17,17)"
             }
            },
            "type": "table"
           }
          ]
         },
         "layout": {
          "annotationdefaults": {
           "arrowcolor": "#f2f5fa",
           "arrowhead": 0,
           "arrowwidth": 1
          },
          "autotypenumbers": "strict",
          "coloraxis": {
           "colorbar": {
            "outlinewidth": 0,
            "ticks": ""
           }
          },
          "colorscale": {
           "diverging": [
            [
             0,
             "#8e0152"
            ],
            [
             0.1,
             "#c51b7d"
            ],
            [
             0.2,
             "#de77ae"
            ],
            [
             0.3,
             "#f1b6da"
            ],
            [
             0.4,
             "#fde0ef"
            ],
            [
             0.5,
             "#f7f7f7"
            ],
            [
             0.6,
             "#e6f5d0"
            ],
            [
             0.7,
             "#b8e186"
            ],
            [
             0.8,
             "#7fbc41"
            ],
            [
             0.9,
             "#4d9221"
            ],
            [
             1,
             "#276419"
            ]
           ],
           "sequential": [
            [
             0,
             "#0d0887"
            ],
            [
             0.1111111111111111,
             "#46039f"
            ],
            [
             0.2222222222222222,
             "#7201a8"
            ],
            [
             0.3333333333333333,
             "#9c179e"
            ],
            [
             0.4444444444444444,
             "#bd3786"
            ],
            [
             0.5555555555555556,
             "#d8576b"
            ],
            [
             0.6666666666666666,
             "#ed7953"
            ],
            [
             0.7777777777777778,
             "#fb9f3a"
            ],
            [
             0.8888888888888888,
             "#fdca26"
            ],
            [
             1,
             "#f0f921"
            ]
           ],
           "sequentialminus": [
            [
             0,
             "#0d0887"
            ],
            [
             0.1111111111111111,
             "#46039f"
            ],
            [
             0.2222222222222222,
             "#7201a8"
            ],
            [
             0.3333333333333333,
             "#9c179e"
            ],
            [
             0.4444444444444444,
             "#bd3786"
            ],
            [
             0.5555555555555556,
             "#d8576b"
            ],
            [
             0.6666666666666666,
             "#ed7953"
            ],
            [
             0.7777777777777778,
             "#fb9f3a"
            ],
            [
             0.8888888888888888,
             "#fdca26"
            ],
            [
             1,
             "#f0f921"
            ]
           ]
          },
          "colorway": [
           "#636efa",
           "#EF553B",
           "#00cc96",
           "#ab63fa",
           "#FFA15A",
           "#19d3f3",
           "#FF6692",
           "#B6E880",
           "#FF97FF",
           "#FECB52"
          ],
          "font": {
           "color": "#f2f5fa"
          },
          "geo": {
           "bgcolor": "rgb(17,17,17)",
           "lakecolor": "rgb(17,17,17)",
           "landcolor": "rgb(17,17,17)",
           "showlakes": true,
           "showland": true,
           "subunitcolor": "#506784"
          },
          "hoverlabel": {
           "align": "left"
          },
          "hovermode": "closest",
          "mapbox": {
           "style": "dark"
          },
          "paper_bgcolor": "rgb(17,17,17)",
          "plot_bgcolor": "rgb(17,17,17)",
          "polar": {
           "angularaxis": {
            "gridcolor": "#506784",
            "linecolor": "#506784",
            "ticks": ""
           },
           "bgcolor": "rgb(17,17,17)",
           "radialaxis": {
            "gridcolor": "#506784",
            "linecolor": "#506784",
            "ticks": ""
           }
          },
          "scene": {
           "xaxis": {
            "backgroundcolor": "rgb(17,17,17)",
            "gridcolor": "#506784",
            "gridwidth": 2,
            "linecolor": "#506784",
            "showbackground": true,
            "ticks": "",
            "zerolinecolor": "#C8D4E3"
           },
           "yaxis": {
            "backgroundcolor": "rgb(17,17,17)",
            "gridcolor": "#506784",
            "gridwidth": 2,
            "linecolor": "#506784",
            "showbackground": true,
            "ticks": "",
            "zerolinecolor": "#C8D4E3"
           },
           "zaxis": {
            "backgroundcolor": "rgb(17,17,17)",
            "gridcolor": "#506784",
            "gridwidth": 2,
            "linecolor": "#506784",
            "showbackground": true,
            "ticks": "",
            "zerolinecolor": "#C8D4E3"
           }
          },
          "shapedefaults": {
           "line": {
            "color": "#f2f5fa"
           }
          },
          "sliderdefaults": {
           "bgcolor": "#C8D4E3",
           "bordercolor": "rgb(17,17,17)",
           "borderwidth": 1,
           "tickwidth": 0
          },
          "ternary": {
           "aaxis": {
            "gridcolor": "#506784",
            "linecolor": "#506784",
            "ticks": ""
           },
           "baxis": {
            "gridcolor": "#506784",
            "linecolor": "#506784",
            "ticks": ""
           },
           "bgcolor": "rgb(17,17,17)",
           "caxis": {
            "gridcolor": "#506784",
            "linecolor": "#506784",
            "ticks": ""
           }
          },
          "title": {
           "x": 0.05
          },
          "updatemenudefaults": {
           "bgcolor": "#506784",
           "borderwidth": 0
          },
          "xaxis": {
           "automargin": true,
           "gridcolor": "#283442",
           "linecolor": "#506784",
           "ticks": "",
           "title": {
            "standoff": 15
           },
           "zerolinecolor": "#283442",
           "zerolinewidth": 2
          },
          "yaxis": {
           "automargin": true,
           "gridcolor": "#283442",
           "linecolor": "#506784",
           "ticks": "",
           "title": {
            "standoff": 15
           },
           "zerolinecolor": "#283442",
           "zerolinewidth": 2
          }
         }
        },
        "title": {
         "text": "Message Transitions Over Time"
        },
        "xaxis": {
         "anchor": "y",
         "domain": [
          0,
          1
         ],
         "showgrid": true,
         "title": {
          "text": "Timestamp"
         }
        },
        "yaxis": {
         "anchor": "x",
         "domain": [
          0,
          1
         ],
         "showgrid": true,
         "title": {
          "text": "State"
         }
        }
       }
      }
     },
     "metadata": {},
     "output_type": "display_data"
    },
    {
     "data": {
      "application/vnd.plotly.v1+json": {
       "config": {
        "plotlyServerURL": "https://plot.ly"
       },
       "data": [
        {
         "hovertemplate": "State=pending<br>Time=%{x}<br>message_id=%{y}<extra></extra>",
         "legendgroup": "pending",
         "line": {
          "color": "#636efa",
          "dash": "solid"
         },
         "marker": {
          "symbol": "circle"
         },
         "mode": "lines+markers",
         "name": "pending",
         "orientation": "v",
         "showlegend": true,
         "type": "scatter",
         "x": [
          "2024-12-31T10:43:20.868118",
          "2024-12-31T10:43:20.932671",
          "2024-12-31T10:43:21.070495",
          "2024-12-31T10:43:21.076004",
          "2024-12-31T10:43:21.097969",
          "2024-12-31T10:43:21.115973",
          "2024-12-31T10:43:21.138111",
          "2024-12-31T10:43:21.240088",
          "2024-12-31T10:43:21.264289",
          "2024-12-31T10:43:21.274357",
          "2024-12-31T10:43:21.282792",
          "2024-12-31T10:43:21.294513",
          "2024-12-31T10:43:21.326178",
          "2024-12-31T10:43:21.355139",
          "2024-12-31T10:43:21.357794",
          "2024-12-31T10:43:21.394051",
          "2024-12-31T10:43:21.424055",
          "2024-12-31T10:43:21.426770",
          "2024-12-31T10:43:21.437895",
          "2024-12-31T10:43:21.459960",
          "2024-12-31T10:43:21.503077",
          "2024-12-31T10:43:21.575559",
          "2024-12-31T10:43:21.604738",
          "2024-12-31T10:43:21.623768",
          "2024-12-31T10:43:21.694053",
          "2024-12-31T10:43:21.749977",
          "2024-12-31T10:43:21.840413",
          "2024-12-31T10:43:21.882932",
          "2024-12-31T10:43:26.457867",
          "2024-12-31T10:43:26.519769",
          "2024-12-31T10:43:26.558362",
          "2024-12-31T10:43:26.600277",
          "2024-12-31T10:43:26.644340",
          "2024-12-31T10:43:26.695862",
          "2024-12-31T10:43:26.716186",
          "2024-12-31T10:43:26.726123",
          "2024-12-31T10:43:26.802139",
          "2024-12-31T10:43:26.849353",
          "2024-12-31T10:43:26.904040",
          "2024-12-31T10:43:26.905944",
          "2024-12-31T10:43:26.935538",
          "2024-12-31T10:43:26.999106",
          "2024-12-31T10:43:27.066787",
          "2024-12-31T10:43:27.133301",
          "2024-12-31T10:43:27.153760",
          "2024-12-31T10:43:27.163372",
          "2024-12-31T10:43:27.212003",
          "2024-12-31T10:43:27.247339",
          "2024-12-31T10:43:27.322495",
          "2024-12-31T10:43:27.363217",
          "2024-12-31T10:43:27.556943",
          "2024-12-31T10:43:27.605586",
          "2024-12-31T10:43:27.648248",
          "2024-12-31T10:43:27.719167",
          "2024-12-31T10:43:27.807691",
          "2024-12-31T10:43:27.918638",
          "2024-12-31T10:43:31.650775",
          "2024-12-31T10:43:31.749816",
          "2024-12-31T10:43:31.907453",
          "2024-12-31T10:43:32.046496",
          "2024-12-31T10:43:32.103618",
          "2024-12-31T10:43:32.166211",
          "2024-12-31T10:43:32.202910",
          "2024-12-31T10:43:32.207915",
          "2024-12-31T10:43:32.223834",
          "2024-12-31T10:43:32.293137",
          "2024-12-31T10:43:32.361562",
          "2024-12-31T10:43:32.481205",
          "2024-12-31T10:43:32.558603",
          "2024-12-31T10:43:32.580385",
          "2024-12-31T10:43:32.608349",
          "2024-12-31T10:43:32.740530",
          "2024-12-31T10:43:32.789249",
          "2024-12-31T10:43:32.870722",
          "2024-12-31T10:43:32.940720",
          "2024-12-31T10:43:32.995700",
          "2024-12-31T10:43:33.007168",
          "2024-12-31T10:43:33.014448",
          "2024-12-31T10:43:33.074606",
          "2024-12-31T10:43:33.083177",
          "2024-12-31T10:43:33.290328",
          "2024-12-31T10:43:33.533677",
          "2024-12-31T10:43:33.565822",
          "2024-12-31T10:43:33.788484",
          "2024-12-31T10:43:35.898879",
          "2024-12-31T10:43:36.243466",
          "2024-12-31T10:43:36.304233",
          "2024-12-31T10:43:36.435283",
          "2024-12-31T10:43:36.486759",
          "2024-12-31T10:43:36.492958",
          "2024-12-31T10:43:36.532331",
          "2024-12-31T10:43:36.571028",
          "2024-12-31T10:43:36.646885",
          "2024-12-31T10:43:36.713194",
          "2024-12-31T10:43:36.756600",
          "2024-12-31T10:43:36.778218",
          "2024-12-31T10:43:36.788973",
          "2024-12-31T10:43:36.808920",
          "2024-12-31T10:43:36.940941",
          "2024-12-31T10:43:36.987819"
         ],
         "xaxis": "x",
         "y": [
          1,
          2,
          3,
          4,
          5,
          6,
          7,
          8,
          9,
          10,
          11,
          12,
          13,
          14,
          15,
          16,
          17,
          18,
          19,
          20,
          21,
          22,
          23,
          24,
          25,
          26,
          27,
          28,
          29,
          30,
          31,
          32,
          33,
          34,
          35,
          36,
          37,
          38,
          39,
          40,
          41,
          42,
          43,
          44,
          45,
          46,
          47,
          48,
          49,
          50,
          51,
          52,
          53,
          54,
          55,
          56,
          57,
          58,
          59,
          60,
          61,
          62,
          63,
          64,
          65,
          66,
          67,
          68,
          69,
          70,
          71,
          72,
          73,
          74,
          75,
          76,
          77,
          78,
          79,
          80,
          81,
          82,
          83,
          84,
          85,
          86,
          87,
          88,
          89,
          90,
          91,
          92,
          93,
          94,
          95,
          96,
          97,
          98,
          99,
          100
         ],
         "yaxis": "y"
        },
        {
         "hovertemplate": "State=active<br>Time=%{x}<br>message_id=%{y}<extra></extra>",
         "legendgroup": "active",
         "line": {
          "color": "#EF553B",
          "dash": "solid"
         },
         "marker": {
          "symbol": "circle"
         },
         "mode": "lines+markers",
         "name": "active",
         "orientation": "v",
         "showlegend": true,
         "type": "scatter",
         "x": [
          "2024-12-31T10:43:23.623690",
          "2024-12-31T10:43:23.623690",
          "2024-12-31T10:43:23.623690",
          "2024-12-31T10:43:23.623690",
          "2024-12-31T10:43:23.623690",
          "2024-12-31T10:43:25.064166",
          "2024-12-31T10:43:25.064166",
          "2024-12-31T10:43:25.064166",
          "2024-12-31T10:43:25.064166",
          "2024-12-31T10:43:25.064166",
          "2024-12-31T10:44:13.843269",
          "2024-12-31T10:44:13.843269",
          "2024-12-31T10:44:13.843269",
          "2024-12-31T10:44:13.843269",
          "2024-12-31T10:44:13.843269",
          "2024-12-31T10:44:15.299611",
          "2024-12-31T10:44:15.299611",
          "2024-12-31T10:44:15.299611",
          "2024-12-31T10:44:15.299611",
          "2024-12-31T10:44:15.299611",
          "2024-12-31T10:45:04.145963",
          "2024-12-31T10:45:04.145963",
          "2024-12-31T10:45:04.145963",
          "2024-12-31T10:45:04.145963",
          "2024-12-31T10:45:04.145963",
          "2024-12-31T10:45:05.613029",
          "2024-12-31T10:45:05.613029",
          "2024-12-31T10:45:05.613029",
          "2024-12-31T10:45:05.613029",
          "2024-12-31T10:45:05.613029",
          "2024-12-31T10:45:54.357144",
          "2024-12-31T10:45:54.357144",
          "2024-12-31T10:45:54.357144",
          "2024-12-31T10:45:54.357144",
          "2024-12-31T10:45:54.357144",
          "2024-12-31T10:45:55.842574",
          "2024-12-31T10:45:55.842574",
          "2024-12-31T10:45:55.842574",
          "2024-12-31T10:45:55.842574",
          "2024-12-31T10:45:55.842574",
          "2024-12-31T10:46:44.558880",
          "2024-12-31T10:46:44.558880",
          "2024-12-31T10:46:44.558880",
          "2024-12-31T10:46:44.558880",
          "2024-12-31T10:46:44.558880",
          "2024-12-31T10:46:46.086765",
          "2024-12-31T10:46:46.086765",
          "2024-12-31T10:46:46.086765",
          "2024-12-31T10:46:46.086765",
          "2024-12-31T10:46:46.086765",
          "2024-12-31T10:47:34.773969",
          "2024-12-31T10:47:34.773969",
          "2024-12-31T10:47:34.773969",
          "2024-12-31T10:47:34.773969",
          "2024-12-31T10:47:34.773969",
          "2024-12-31T10:47:36.314464",
          "2024-12-31T10:47:36.314464",
          "2024-12-31T10:47:36.314464",
          "2024-12-31T10:47:36.314464",
          "2024-12-31T10:47:36.314464",
          "2024-12-31T10:48:25.001630",
          "2024-12-31T10:48:25.001630",
          "2024-12-31T10:48:25.001630",
          "2024-12-31T10:48:25.001630",
          "2024-12-31T10:48:25.001630",
          "2024-12-31T10:48:26.532410",
          "2024-12-31T10:48:26.532410",
          "2024-12-31T10:48:26.532410",
          "2024-12-31T10:48:26.532410",
          "2024-12-31T10:48:26.532410",
          "2024-12-31T10:49:15.262401",
          "2024-12-31T10:49:15.262401",
          "2024-12-31T10:49:15.262401",
          "2024-12-31T10:49:15.262401",
          "2024-12-31T10:49:15.262401",
          "2024-12-31T10:49:16.824405",
          "2024-12-31T10:49:16.824405",
          "2024-12-31T10:49:16.824405",
          "2024-12-31T10:49:16.824405",
          "2024-12-31T10:49:16.824405",
          "2024-12-31T10:50:05.506299",
          "2024-12-31T10:50:05.506299",
          "2024-12-31T10:50:05.506299",
          "2024-12-31T10:50:05.506299",
          "2024-12-31T10:50:05.506299",
          "2024-12-31T10:50:07.075612",
          "2024-12-31T10:50:07.075612",
          "2024-12-31T10:50:07.075612",
          "2024-12-31T10:50:07.075612",
          "2024-12-31T10:50:07.075612",
          "2024-12-31T10:50:55.774327",
          "2024-12-31T10:50:55.774327",
          "2024-12-31T10:50:55.774327",
          "2024-12-31T10:50:55.774327",
          "2024-12-31T10:50:55.774327",
          "2024-12-31T10:50:57.360010",
          "2024-12-31T10:50:57.360010",
          "2024-12-31T10:50:57.360010",
          "2024-12-31T10:50:57.360010",
          "2024-12-31T10:50:57.360010"
         ],
         "xaxis": "x",
         "y": [
          1,
          2,
          3,
          4,
          5,
          10,
          8,
          9,
          7,
          6,
          11,
          12,
          13,
          14,
          15,
          20,
          18,
          19,
          16,
          17,
          23,
          25,
          24,
          22,
          21,
          29,
          28,
          30,
          26,
          27,
          35,
          34,
          33,
          32,
          31,
          40,
          39,
          38,
          37,
          36,
          45,
          44,
          43,
          42,
          41,
          50,
          49,
          46,
          47,
          48,
          55,
          54,
          53,
          51,
          52,
          60,
          59,
          56,
          57,
          58,
          61,
          62,
          63,
          64,
          65,
          66,
          67,
          68,
          69,
          70,
          71,
          72,
          73,
          74,
          75,
          76,
          77,
          78,
          79,
          80,
          81,
          82,
          83,
          84,
          85,
          86,
          87,
          88,
          89,
          90,
          91,
          92,
          93,
          94,
          95,
          96,
          97,
          98,
          99,
          100
         ],
         "yaxis": "y"
        },
        {
         "hovertemplate": "State=completed<br>Time=%{x}<br>message_id=%{y}<extra></extra>",
         "legendgroup": "completed",
         "line": {
          "color": "#00cc96",
          "dash": "solid"
         },
         "marker": {
          "symbol": "circle"
         },
         "mode": "lines+markers",
         "name": "completed",
         "orientation": "v",
         "showlegend": true,
         "type": "scatter",
         "x": [
          "2024-12-31T10:44:13.808628",
          "2024-12-31T10:44:13.808863",
          "2024-12-31T10:44:13.809085",
          "2024-12-31T10:44:13.809290",
          "2024-12-31T10:44:13.809485",
          "2024-12-31T10:44:15.264696",
          "2024-12-31T10:44:15.264924",
          "2024-12-31T10:44:15.265131",
          "2024-12-31T10:44:15.265335",
          "2024-12-31T10:44:15.265537",
          "2024-12-31T10:45:04.115099",
          "2024-12-31T10:45:04.115343",
          "2024-12-31T10:45:04.115594",
          "2024-12-31T10:45:04.115805",
          "2024-12-31T10:45:04.116065",
          "2024-12-31T10:45:05.579121",
          "2024-12-31T10:45:05.579341",
          "2024-12-31T10:45:05.579556",
          "2024-12-31T10:45:05.579751",
          "2024-12-31T10:45:05.579943",
          "2024-12-31T10:45:54.325706",
          "2024-12-31T10:45:54.325931",
          "2024-12-31T10:45:54.326141",
          "2024-12-31T10:45:54.326335",
          "2024-12-31T10:45:54.326538",
          "2024-12-31T10:45:55.810312",
          "2024-12-31T10:45:55.810532",
          "2024-12-31T10:45:55.810741",
          "2024-12-31T10:45:55.810936",
          "2024-12-31T10:45:55.811131",
          "2024-12-31T10:46:44.526266",
          "2024-12-31T10:46:44.527761",
          "2024-12-31T10:46:44.528293",
          "2024-12-31T10:46:44.529181",
          "2024-12-31T10:46:44.529604",
          "2024-12-31T10:46:46.054000",
          "2024-12-31T10:46:46.054261",
          "2024-12-31T10:46:46.054491",
          "2024-12-31T10:46:46.054712",
          "2024-12-31T10:46:46.054928",
          "2024-12-31T10:47:34.744053",
          "2024-12-31T10:47:34.744273",
          "2024-12-31T10:47:34.744475",
          "2024-12-31T10:47:34.744677",
          "2024-12-31T10:47:34.744885",
          "2024-12-31T10:47:36.283029",
          "2024-12-31T10:47:36.283333",
          "2024-12-31T10:47:36.283546",
          "2024-12-31T10:47:36.283744",
          "2024-12-31T10:47:36.283976",
          "2024-12-31T10:48:24.968114",
          "2024-12-31T10:48:24.968358",
          "2024-12-31T10:48:24.968576",
          "2024-12-31T10:48:24.968780",
          "2024-12-31T10:48:24.968984",
          "2024-12-31T10:48:26.496132",
          "2024-12-31T10:48:26.496457",
          "2024-12-31T10:48:26.496753",
          "2024-12-31T10:48:26.497053",
          "2024-12-31T10:48:26.497268",
          "2024-12-31T10:49:15.229887",
          "2024-12-31T10:49:15.230119",
          "2024-12-31T10:49:15.230336",
          "2024-12-31T10:49:15.230571",
          "2024-12-31T10:49:15.230834",
          "2024-12-31T10:49:16.765123",
          "2024-12-31T10:49:16.765368",
          "2024-12-31T10:49:16.765669",
          "2024-12-31T10:49:16.765911",
          "2024-12-31T10:49:16.766116",
          "2024-12-31T10:50:05.473367",
          "2024-12-31T10:50:05.473605",
          "2024-12-31T10:50:05.473830",
          "2024-12-31T10:50:05.474029",
          "2024-12-31T10:50:05.474229",
          "2024-12-31T10:50:07.040826",
          "2024-12-31T10:50:07.041130",
          "2024-12-31T10:50:07.041382",
          "2024-12-31T10:50:07.041596",
          "2024-12-31T10:50:07.041796",
          "2024-12-31T10:50:55.742917",
          "2024-12-31T10:50:55.743182",
          "2024-12-31T10:50:55.743403",
          "2024-12-31T10:50:55.743607",
          "2024-12-31T10:50:55.743797",
          "2024-12-31T10:50:57.322499",
          "2024-12-31T10:50:57.322755",
          "2024-12-31T10:50:57.322956",
          "2024-12-31T10:50:57.323148",
          "2024-12-31T10:50:57.323338",
          "2024-12-31T10:51:45.960190",
          "2024-12-31T10:51:45.960406",
          "2024-12-31T10:51:45.960601",
          "2024-12-31T10:51:45.960805",
          "2024-12-31T10:51:45.961004",
          "2024-12-31T10:51:47.565366",
          "2024-12-31T10:51:47.565631",
          "2024-12-31T10:51:47.565843",
          "2024-12-31T10:51:47.566035",
          "2024-12-31T10:51:47.566223"
         ],
         "xaxis": "x",
         "y": [
          1,
          2,
          3,
          4,
          5,
          6,
          7,
          8,
          9,
          10,
          11,
          12,
          13,
          14,
          15,
          16,
          17,
          18,
          19,
          20,
          21,
          22,
          23,
          24,
          25,
          26,
          27,
          28,
          29,
          30,
          31,
          32,
          33,
          34,
          35,
          36,
          37,
          38,
          39,
          40,
          41,
          42,
          43,
          44,
          45,
          46,
          47,
          48,
          49,
          50,
          51,
          52,
          53,
          54,
          55,
          56,
          57,
          58,
          59,
          60,
          61,
          62,
          63,
          64,
          65,
          66,
          67,
          68,
          69,
          70,
          71,
          72,
          73,
          74,
          75,
          76,
          77,
          78,
          79,
          80,
          81,
          82,
          83,
          84,
          85,
          86,
          87,
          88,
          89,
          90,
          91,
          92,
          93,
          94,
          95,
          96,
          97,
          98,
          99,
          100
         ],
         "yaxis": "y"
        }
       ],
       "layout": {
        "hovermode": "closest",
        "legend": {
         "title": {
          "text": "State"
         },
         "tracegroupgap": 0
        },
        "margin": {
         "b": 40,
         "l": 40,
         "r": 40,
         "t": 40
        },
        "template": {
         "data": {
          "bar": [
           {
            "error_x": {
             "color": "#f2f5fa"
            },
            "error_y": {
             "color": "#f2f5fa"
            },
            "marker": {
             "line": {
              "color": "rgb(17,17,17)",
              "width": 0.5
             },
             "pattern": {
              "fillmode": "overlay",
              "size": 10,
              "solidity": 0.2
             }
            },
            "type": "bar"
           }
          ],
          "barpolar": [
           {
            "marker": {
             "line": {
              "color": "rgb(17,17,17)",
              "width": 0.5
             },
             "pattern": {
              "fillmode": "overlay",
              "size": 10,
              "solidity": 0.2
             }
            },
            "type": "barpolar"
           }
          ],
          "carpet": [
           {
            "aaxis": {
             "endlinecolor": "#A2B1C6",
             "gridcolor": "#506784",
             "linecolor": "#506784",
             "minorgridcolor": "#506784",
             "startlinecolor": "#A2B1C6"
            },
            "baxis": {
             "endlinecolor": "#A2B1C6",
             "gridcolor": "#506784",
             "linecolor": "#506784",
             "minorgridcolor": "#506784",
             "startlinecolor": "#A2B1C6"
            },
            "type": "carpet"
           }
          ],
          "choropleth": [
           {
            "colorbar": {
             "outlinewidth": 0,
             "ticks": ""
            },
            "type": "choropleth"
           }
          ],
          "contour": [
           {
            "colorbar": {
             "outlinewidth": 0,
             "ticks": ""
            },
            "colorscale": [
             [
              0,
              "#0d0887"
             ],
             [
              0.1111111111111111,
              "#46039f"
             ],
             [
              0.2222222222222222,
              "#7201a8"
             ],
             [
              0.3333333333333333,
              "#9c179e"
             ],
             [
              0.4444444444444444,
              "#bd3786"
             ],
             [
              0.5555555555555556,
              "#d8576b"
             ],
             [
              0.6666666666666666,
              "#ed7953"
             ],
             [
              0.7777777777777778,
              "#fb9f3a"
             ],
             [
              0.8888888888888888,
              "#fdca26"
             ],
             [
              1,
              "#f0f921"
             ]
            ],
            "type": "contour"
           }
          ],
          "contourcarpet": [
           {
            "colorbar": {
             "outlinewidth": 0,
             "ticks": ""
            },
            "type": "contourcarpet"
           }
          ],
          "heatmap": [
           {
            "colorbar": {
             "outlinewidth": 0,
             "ticks": ""
            },
            "colorscale": [
             [
              0,
              "#0d0887"
             ],
             [
              0.1111111111111111,
              "#46039f"
             ],
             [
              0.2222222222222222,
              "#7201a8"
             ],
             [
              0.3333333333333333,
              "#9c179e"
             ],
             [
              0.4444444444444444,
              "#bd3786"
             ],
             [
              0.5555555555555556,
              "#d8576b"
             ],
             [
              0.6666666666666666,
              "#ed7953"
             ],
             [
              0.7777777777777778,
              "#fb9f3a"
             ],
             [
              0.8888888888888888,
              "#fdca26"
             ],
             [
              1,
              "#f0f921"
             ]
            ],
            "type": "heatmap"
           }
          ],
          "heatmapgl": [
           {
            "colorbar": {
             "outlinewidth": 0,
             "ticks": ""
            },
            "colorscale": [
             [
              0,
              "#0d0887"
             ],
             [
              0.1111111111111111,
              "#46039f"
             ],
             [
              0.2222222222222222,
              "#7201a8"
             ],
             [
              0.3333333333333333,
              "#9c179e"
             ],
             [
              0.4444444444444444,
              "#bd3786"
             ],
             [
              0.5555555555555556,
              "#d8576b"
             ],
             [
              0.6666666666666666,
              "#ed7953"
             ],
             [
              0.7777777777777778,
              "#fb9f3a"
             ],
             [
              0.8888888888888888,
              "#fdca26"
             ],
             [
              1,
              "#f0f921"
             ]
            ],
            "type": "heatmapgl"
           }
          ],
          "histogram": [
           {
            "marker": {
             "pattern": {
              "fillmode": "overlay",
              "size": 10,
              "solidity": 0.2
             }
            },
            "type": "histogram"
           }
          ],
          "histogram2d": [
           {
            "colorbar": {
             "outlinewidth": 0,
             "ticks": ""
            },
            "colorscale": [
             [
              0,
              "#0d0887"
             ],
             [
              0.1111111111111111,
              "#46039f"
             ],
             [
              0.2222222222222222,
              "#7201a8"
             ],
             [
              0.3333333333333333,
              "#9c179e"
             ],
             [
              0.4444444444444444,
              "#bd3786"
             ],
             [
              0.5555555555555556,
              "#d8576b"
             ],
             [
              0.6666666666666666,
              "#ed7953"
             ],
             [
              0.7777777777777778,
              "#fb9f3a"
             ],
             [
              0.8888888888888888,
              "#fdca26"
             ],
             [
              1,
              "#f0f921"
             ]
            ],
            "type": "histogram2d"
           }
          ],
          "histogram2dcontour": [
           {
            "colorbar": {
             "outlinewidth": 0,
             "ticks": ""
            },
            "colorscale": [
             [
              0,
              "#0d0887"
             ],
             [
              0.1111111111111111,
              "#46039f"
             ],
             [
              0.2222222222222222,
              "#7201a8"
             ],
             [
              0.3333333333333333,
              "#9c179e"
             ],
             [
              0.4444444444444444,
              "#bd3786"
             ],
             [
              0.5555555555555556,
              "#d8576b"
             ],
             [
              0.6666666666666666,
              "#ed7953"
             ],
             [
              0.7777777777777778,
              "#fb9f3a"
             ],
             [
              0.8888888888888888,
              "#fdca26"
             ],
             [
              1,
              "#f0f921"
             ]
            ],
            "type": "histogram2dcontour"
           }
          ],
          "mesh3d": [
           {
            "colorbar": {
             "outlinewidth": 0,
             "ticks": ""
            },
            "type": "mesh3d"
           }
          ],
          "parcoords": [
           {
            "line": {
             "colorbar": {
              "outlinewidth": 0,
              "ticks": ""
             }
            },
            "type": "parcoords"
           }
          ],
          "pie": [
           {
            "automargin": true,
            "type": "pie"
           }
          ],
          "scatter": [
           {
            "marker": {
             "line": {
              "color": "#283442"
             }
            },
            "type": "scatter"
           }
          ],
          "scatter3d": [
           {
            "line": {
             "colorbar": {
              "outlinewidth": 0,
              "ticks": ""
             }
            },
            "marker": {
             "colorbar": {
              "outlinewidth": 0,
              "ticks": ""
             }
            },
            "type": "scatter3d"
           }
          ],
          "scattercarpet": [
           {
            "marker": {
             "colorbar": {
              "outlinewidth": 0,
              "ticks": ""
             }
            },
            "type": "scattercarpet"
           }
          ],
          "scattergeo": [
           {
            "marker": {
             "colorbar": {
              "outlinewidth": 0,
              "ticks": ""
             }
            },
            "type": "scattergeo"
           }
          ],
          "scattergl": [
           {
            "marker": {
             "line": {
              "color": "#283442"
             }
            },
            "type": "scattergl"
           }
          ],
          "scattermapbox": [
           {
            "marker": {
             "colorbar": {
              "outlinewidth": 0,
              "ticks": ""
             }
            },
            "type": "scattermapbox"
           }
          ],
          "scatterpolar": [
           {
            "marker": {
             "colorbar": {
              "outlinewidth": 0,
              "ticks": ""
             }
            },
            "type": "scatterpolar"
           }
          ],
          "scatterpolargl": [
           {
            "marker": {
             "colorbar": {
              "outlinewidth": 0,
              "ticks": ""
             }
            },
            "type": "scatterpolargl"
           }
          ],
          "scatterternary": [
           {
            "marker": {
             "colorbar": {
              "outlinewidth": 0,
              "ticks": ""
             }
            },
            "type": "scatterternary"
           }
          ],
          "surface": [
           {
            "colorbar": {
             "outlinewidth": 0,
             "ticks": ""
            },
            "colorscale": [
             [
              0,
              "#0d0887"
             ],
             [
              0.1111111111111111,
              "#46039f"
             ],
             [
              0.2222222222222222,
              "#7201a8"
             ],
             [
              0.3333333333333333,
              "#9c179e"
             ],
             [
              0.4444444444444444,
              "#bd3786"
             ],
             [
              0.5555555555555556,
              "#d8576b"
             ],
             [
              0.6666666666666666,
              "#ed7953"
             ],
             [
              0.7777777777777778,
              "#fb9f3a"
             ],
             [
              0.8888888888888888,
              "#fdca26"
             ],
             [
              1,
              "#f0f921"
             ]
            ],
            "type": "surface"
           }
          ],
          "table": [
           {
            "cells": {
             "fill": {
              "color": "#506784"
             },
             "line": {
              "color": "rgb(17,17,17)"
             }
            },
            "header": {
             "fill": {
              "color": "#2a3f5f"
             },
             "line": {
              "color": "rgb(17,17,17)"
             }
            },
            "type": "table"
           }
          ]
         },
         "layout": {
          "annotationdefaults": {
           "arrowcolor": "#f2f5fa",
           "arrowhead": 0,
           "arrowwidth": 1
          },
          "autotypenumbers": "strict",
          "coloraxis": {
           "colorbar": {
            "outlinewidth": 0,
            "ticks": ""
           }
          },
          "colorscale": {
           "diverging": [
            [
             0,
             "#8e0152"
            ],
            [
             0.1,
             "#c51b7d"
            ],
            [
             0.2,
             "#de77ae"
            ],
            [
             0.3,
             "#f1b6da"
            ],
            [
             0.4,
             "#fde0ef"
            ],
            [
             0.5,
             "#f7f7f7"
            ],
            [
             0.6,
             "#e6f5d0"
            ],
            [
             0.7,
             "#b8e186"
            ],
            [
             0.8,
             "#7fbc41"
            ],
            [
             0.9,
             "#4d9221"
            ],
            [
             1,
             "#276419"
            ]
           ],
           "sequential": [
            [
             0,
             "#0d0887"
            ],
            [
             0.1111111111111111,
             "#46039f"
            ],
            [
             0.2222222222222222,
             "#7201a8"
            ],
            [
             0.3333333333333333,
             "#9c179e"
            ],
            [
             0.4444444444444444,
             "#bd3786"
            ],
            [
             0.5555555555555556,
             "#d8576b"
            ],
            [
             0.6666666666666666,
             "#ed7953"
            ],
            [
             0.7777777777777778,
             "#fb9f3a"
            ],
            [
             0.8888888888888888,
             "#fdca26"
            ],
            [
             1,
             "#f0f921"
            ]
           ],
           "sequentialminus": [
            [
             0,
             "#0d0887"
            ],
            [
             0.1111111111111111,
             "#46039f"
            ],
            [
             0.2222222222222222,
             "#7201a8"
            ],
            [
             0.3333333333333333,
             "#9c179e"
            ],
            [
             0.4444444444444444,
             "#bd3786"
            ],
            [
             0.5555555555555556,
             "#d8576b"
            ],
            [
             0.6666666666666666,
             "#ed7953"
            ],
            [
             0.7777777777777778,
             "#fb9f3a"
            ],
            [
             0.8888888888888888,
             "#fdca26"
            ],
            [
             1,
             "#f0f921"
            ]
           ]
          },
          "colorway": [
           "#636efa",
           "#EF553B",
           "#00cc96",
           "#ab63fa",
           "#FFA15A",
           "#19d3f3",
           "#FF6692",
           "#B6E880",
           "#FF97FF",
           "#FECB52"
          ],
          "font": {
           "color": "#f2f5fa"
          },
          "geo": {
           "bgcolor": "rgb(17,17,17)",
           "lakecolor": "rgb(17,17,17)",
           "landcolor": "rgb(17,17,17)",
           "showlakes": true,
           "showland": true,
           "subunitcolor": "#506784"
          },
          "hoverlabel": {
           "align": "left"
          },
          "hovermode": "closest",
          "mapbox": {
           "style": "dark"
          },
          "paper_bgcolor": "rgb(17,17,17)",
          "plot_bgcolor": "rgb(17,17,17)",
          "polar": {
           "angularaxis": {
            "gridcolor": "#506784",
            "linecolor": "#506784",
            "ticks": ""
           },
           "bgcolor": "rgb(17,17,17)",
           "radialaxis": {
            "gridcolor": "#506784",
            "linecolor": "#506784",
            "ticks": ""
           }
          },
          "scene": {
           "xaxis": {
            "backgroundcolor": "rgb(17,17,17)",
            "gridcolor": "#506784",
            "gridwidth": 2,
            "linecolor": "#506784",
            "showbackground": true,
            "ticks": "",
            "zerolinecolor": "#C8D4E3"
           },
           "yaxis": {
            "backgroundcolor": "rgb(17,17,17)",
            "gridcolor": "#506784",
            "gridwidth": 2,
            "linecolor": "#506784",
            "showbackground": true,
            "ticks": "",
            "zerolinecolor": "#C8D4E3"
           },
           "zaxis": {
            "backgroundcolor": "rgb(17,17,17)",
            "gridcolor": "#506784",
            "gridwidth": 2,
            "linecolor": "#506784",
            "showbackground": true,
            "ticks": "",
            "zerolinecolor": "#C8D4E3"
           }
          },
          "shapedefaults": {
           "line": {
            "color": "#f2f5fa"
           }
          },
          "sliderdefaults": {
           "bgcolor": "#C8D4E3",
           "bordercolor": "rgb(17,17,17)",
           "borderwidth": 1,
           "tickwidth": 0
          },
          "ternary": {
           "aaxis": {
            "gridcolor": "#506784",
            "linecolor": "#506784",
            "ticks": ""
           },
           "baxis": {
            "gridcolor": "#506784",
            "linecolor": "#506784",
            "ticks": ""
           },
           "bgcolor": "rgb(17,17,17)",
           "caxis": {
            "gridcolor": "#506784",
            "linecolor": "#506784",
            "ticks": ""
           }
          },
          "title": {
           "x": 0.05
          },
          "updatemenudefaults": {
           "bgcolor": "#506784",
           "borderwidth": 0
          },
          "xaxis": {
           "automargin": true,
           "gridcolor": "#283442",
           "linecolor": "#506784",
           "ticks": "",
           "title": {
            "standoff": 15
           },
           "zerolinecolor": "#283442",
           "zerolinewidth": 2
          },
          "yaxis": {
           "automargin": true,
           "gridcolor": "#283442",
           "linecolor": "#506784",
           "ticks": "",
           "title": {
            "standoff": 15
           },
           "zerolinecolor": "#283442",
           "zerolinewidth": 2
          }
         }
        },
        "title": {
         "text": "Message Transitions Over Time"
        },
        "xaxis": {
         "anchor": "y",
         "domain": [
          0,
          1
         ],
         "showgrid": true,
         "title": {
          "text": "Timestamp"
         }
        },
        "yaxis": {
         "anchor": "x",
         "domain": [
          0,
          1
         ],
         "showgrid": true,
         "title": {
          "text": "State"
         }
        }
       }
      }
     },
     "metadata": {},
     "output_type": "display_data"
    }
   ],
   "source": [
    "analyze_message_flow(logs100)\n",
    "analyze_message_flow(logs100_fast)"
   ]
  },
  {
   "cell_type": "code",
   "execution_count": 39,
   "metadata": {},
   "outputs": [],
   "source": [
    "# # workers 2 , tasks 250*2 = 500 , batch_size = 5\n",
    "logs500 = read_logs_from_gs_uri(gs_uri=\"gs://cameltrain-sight/doing_mq_analysis/2024-12-22T15:48:18.956719.json\")\n",
    "logs500_fast = read_logs_from_gs_uri(gs_uri=\"gs://cameltrain-sight/doing_mq_analysis/2024-12-31T12:06:54.093683.json\")\n"
   ]
  },
  {
   "cell_type": "code",
   "execution_count": 41,
   "metadata": {},
   "outputs": [
    {
     "data": {
      "application/vnd.plotly.v1+json": {
       "config": {
        "plotlyServerURL": "https://plot.ly"
       },
       "data": [
        {
         "hovertemplate": "State=pending<br>Time=%{x}<br>message_id=%{y}<extra></extra>",
         "legendgroup": "pending",
         "line": {
          "color": "#636efa",
          "dash": "solid"
         },
         "marker": {
          "symbol": "circle"
         },
         "mode": "lines+markers",
         "name": "pending",
         "showlegend": true,
         "type": "scattergl",
         "x": [
          "2024-12-22T15:06:03.108852",
          "2024-12-22T15:06:06.419458",
          "2024-12-22T15:06:09.794690",
          "2024-12-22T15:06:13.128813",
          "2024-12-22T15:06:16.397107",
          "2024-12-22T15:06:19.833335",
          "2024-12-22T15:06:22.950400",
          "2024-12-22T15:06:26.283522",
          "2024-12-22T15:06:29.413083",
          "2024-12-22T15:06:32.695537",
          "2024-12-22T15:06:36.087284",
          "2024-12-22T15:06:39.216764",
          "2024-12-22T15:06:42.314438",
          "2024-12-22T15:06:45.645848",
          "2024-12-22T15:06:48.927216",
          "2024-12-22T15:06:51.989074",
          "2024-12-22T15:06:55.243303",
          "2024-12-22T15:06:58.519184",
          "2024-12-22T15:07:01.810331",
          "2024-12-22T15:07:04.879555",
          "2024-12-22T15:07:08.132312",
          "2024-12-22T15:07:11.219699",
          "2024-12-22T15:07:14.465503",
          "2024-12-22T15:07:17.816519",
          "2024-12-22T15:07:21.185561",
          "2024-12-22T15:07:24.375581",
          "2024-12-22T15:07:27.732826",
          "2024-12-22T15:07:30.951105",
          "2024-12-22T15:07:34.046215",
          "2024-12-22T15:07:37.174424",
          "2024-12-22T15:07:40.481390",
          "2024-12-22T15:07:43.775413",
          "2024-12-22T15:07:46.999867",
          "2024-12-22T15:07:50.096968",
          "2024-12-22T15:07:53.461134",
          "2024-12-22T15:07:56.474154",
          "2024-12-22T15:07:59.681800",
          "2024-12-22T15:08:02.978499",
          "2024-12-22T15:08:06.126467",
          "2024-12-22T15:08:09.211040",
          "2024-12-22T15:08:12.261996",
          "2024-12-22T15:08:15.369198",
          "2024-12-22T15:08:18.475186",
          "2024-12-22T15:08:21.595034",
          "2024-12-22T15:08:24.672434",
          "2024-12-22T15:08:27.835394",
          "2024-12-22T15:08:31.125064",
          "2024-12-22T15:08:34.358625",
          "2024-12-22T15:08:37.478023",
          "2024-12-22T15:08:40.719732",
          "2024-12-22T15:08:43.818782",
          "2024-12-22T15:08:47.013038",
          "2024-12-22T15:08:50.058812",
          "2024-12-22T15:08:53.345226",
          "2024-12-22T15:08:56.373049",
          "2024-12-22T15:08:59.435626",
          "2024-12-22T15:09:02.720005",
          "2024-12-22T15:09:05.962948",
          "2024-12-22T15:09:09.019329",
          "2024-12-22T15:09:12.114410",
          "2024-12-22T15:09:15.374966",
          "2024-12-22T15:09:18.668166",
          "2024-12-22T15:09:21.986329",
          "2024-12-22T15:09:25.050658",
          "2024-12-22T15:09:28.094551",
          "2024-12-22T15:09:31.200326",
          "2024-12-22T15:09:34.300568",
          "2024-12-22T15:09:37.426615",
          "2024-12-22T15:09:40.686282",
          "2024-12-22T15:09:44.001601",
          "2024-12-22T15:09:47.045347",
          "2024-12-22T15:09:50.113241",
          "2024-12-22T15:09:53.396066",
          "2024-12-22T15:09:56.651556",
          "2024-12-22T15:09:59.870642",
          "2024-12-22T15:10:03.133833",
          "2024-12-22T15:10:06.402375",
          "2024-12-22T15:10:09.518977",
          "2024-12-22T15:10:12.813630",
          "2024-12-22T15:10:16.046751",
          "2024-12-22T15:10:19.305283",
          "2024-12-22T15:10:22.397806",
          "2024-12-22T15:10:25.481632",
          "2024-12-22T15:10:28.735229",
          "2024-12-22T15:10:32.104763",
          "2024-12-22T15:10:35.286973",
          "2024-12-22T15:10:38.570970",
          "2024-12-22T15:10:41.701644",
          "2024-12-22T15:10:44.811063",
          "2024-12-22T15:10:48.081620",
          "2024-12-22T15:10:51.359689",
          "2024-12-22T15:10:54.625853",
          "2024-12-22T15:10:57.906090",
          "2024-12-22T15:11:00.985382",
          "2024-12-22T15:11:04.114767",
          "2024-12-22T15:11:07.217170",
          "2024-12-22T15:11:10.296112",
          "2024-12-22T15:11:13.371236",
          "2024-12-22T15:11:16.387623",
          "2024-12-22T15:11:19.666176",
          "2024-12-22T15:11:22.748427",
          "2024-12-22T15:11:25.998004",
          "2024-12-22T15:11:29.039112",
          "2024-12-22T15:11:32.107787",
          "2024-12-22T15:11:35.368223",
          "2024-12-22T15:11:38.423158",
          "2024-12-22T15:11:41.779991",
          "2024-12-22T15:11:45.063055",
          "2024-12-22T15:11:48.069848",
          "2024-12-22T15:11:51.300644",
          "2024-12-22T15:11:54.396769",
          "2024-12-22T15:11:57.690500",
          "2024-12-22T15:12:00.795014",
          "2024-12-22T15:12:03.881044",
          "2024-12-22T15:12:06.989070",
          "2024-12-22T15:12:10.092195",
          "2024-12-22T15:12:13.337323",
          "2024-12-22T15:12:16.599013",
          "2024-12-22T15:12:19.992558",
          "2024-12-22T15:12:24.070527",
          "2024-12-22T15:12:27.313468",
          "2024-12-22T15:12:30.680987",
          "2024-12-22T15:12:33.757629",
          "2024-12-22T15:12:36.857403",
          "2024-12-22T15:12:40.210271",
          "2024-12-22T15:12:43.304485",
          "2024-12-22T15:12:46.716669",
          "2024-12-22T15:12:49.893754",
          "2024-12-22T15:12:52.991269",
          "2024-12-22T15:12:56.157583",
          "2024-12-22T15:12:59.351939",
          "2024-12-22T15:13:02.461034",
          "2024-12-22T15:13:05.691025",
          "2024-12-22T15:13:08.762099",
          "2024-12-22T15:13:11.799104",
          "2024-12-22T15:13:15.017822",
          "2024-12-22T15:13:18.260223",
          "2024-12-22T15:13:21.464832",
          "2024-12-22T15:13:24.831459",
          "2024-12-22T15:13:27.948739",
          "2024-12-22T15:13:31.043273",
          "2024-12-22T15:13:34.085863",
          "2024-12-22T15:13:37.166667",
          "2024-12-22T15:13:40.471525",
          "2024-12-22T15:13:43.565158",
          "2024-12-22T15:13:46.675598",
          "2024-12-22T15:13:49.816899",
          "2024-12-22T15:13:53.056025",
          "2024-12-22T15:13:56.198492",
          "2024-12-22T15:13:59.303252",
          "2024-12-22T15:14:02.636528",
          "2024-12-22T15:14:05.761632",
          "2024-12-22T15:14:09.122032",
          "2024-12-22T15:14:12.179222",
          "2024-12-22T15:14:15.261752",
          "2024-12-22T15:14:18.390749",
          "2024-12-22T15:14:21.783888",
          "2024-12-22T15:14:25.117908",
          "2024-12-22T15:14:28.218616",
          "2024-12-22T15:14:31.301042",
          "2024-12-22T15:14:34.417552",
          "2024-12-22T15:14:37.778978",
          "2024-12-22T15:14:41.162276",
          "2024-12-22T15:14:44.308901",
          "2024-12-22T15:14:47.394546",
          "2024-12-22T15:14:50.465663",
          "2024-12-22T15:14:53.815355",
          "2024-12-22T15:14:56.943273",
          "2024-12-22T15:15:00.020805",
          "2024-12-22T15:15:03.195907",
          "2024-12-22T15:15:06.322332",
          "2024-12-22T15:15:09.437689",
          "2024-12-22T15:15:12.535435",
          "2024-12-22T15:15:15.846531",
          "2024-12-22T15:15:19.138874",
          "2024-12-22T15:15:22.273768",
          "2024-12-22T15:15:25.372548",
          "2024-12-22T15:15:28.439388",
          "2024-12-22T15:15:31.774941",
          "2024-12-22T15:15:34.832686",
          "2024-12-22T15:15:37.953569",
          "2024-12-22T15:15:41.120706",
          "2024-12-22T15:15:44.256956",
          "2024-12-22T15:15:47.336495",
          "2024-12-22T15:15:50.727259",
          "2024-12-22T15:15:53.979651",
          "2024-12-22T15:15:57.268292",
          "2024-12-22T15:16:00.363172",
          "2024-12-22T15:16:03.500865",
          "2024-12-22T15:16:06.692594",
          "2024-12-22T15:16:09.803239",
          "2024-12-22T15:16:13.188374",
          "2024-12-22T15:16:16.457371",
          "2024-12-22T15:16:19.603740",
          "2024-12-22T15:16:22.703279",
          "2024-12-22T15:16:27.018855",
          "2024-12-22T15:16:30.261233",
          "2024-12-22T15:16:33.427472",
          "2024-12-22T15:16:36.789287",
          "2024-12-22T15:16:39.954927",
          "2024-12-22T15:16:43.122915",
          "2024-12-22T15:16:46.542452",
          "2024-12-22T15:16:49.644289",
          "2024-12-22T15:16:52.786257",
          "2024-12-22T15:16:56.155659",
          "2024-12-22T15:16:59.301063",
          "2024-12-22T15:17:02.408260",
          "2024-12-22T15:17:05.426563",
          "2024-12-22T15:17:08.528647",
          "2024-12-22T15:17:11.795448",
          "2024-12-22T15:17:15.082602",
          "2024-12-22T15:17:18.383746",
          "2024-12-22T15:17:21.523450",
          "2024-12-22T15:17:24.767842",
          "2024-12-22T15:17:27.848515",
          "2024-12-22T15:17:30.989577",
          "2024-12-22T15:17:34.140285",
          "2024-12-22T15:17:37.340969",
          "2024-12-22T15:17:40.705018",
          "2024-12-22T15:17:43.996840",
          "2024-12-22T15:17:47.233882",
          "2024-12-22T15:17:50.257106",
          "2024-12-22T15:17:53.567569",
          "2024-12-22T15:17:56.675102",
          "2024-12-22T15:17:59.855994",
          "2024-12-22T15:18:03.005773",
          "2024-12-22T15:18:06.212701",
          "2024-12-22T15:18:09.833852",
          "2024-12-22T15:18:13.031793",
          "2024-12-22T15:18:16.321560",
          "2024-12-22T15:18:19.458167",
          "2024-12-22T15:18:22.800508",
          "2024-12-22T15:18:26.115456",
          "2024-12-22T15:18:29.234419",
          "2024-12-22T15:18:32.510071",
          "2024-12-22T15:18:35.837886",
          "2024-12-22T15:18:38.966678",
          "2024-12-22T15:18:42.085898",
          "2024-12-22T15:18:45.448825",
          "2024-12-22T15:18:48.541977",
          "2024-12-22T15:18:51.641250",
          "2024-12-22T15:18:54.986627",
          "2024-12-22T15:18:58.047968",
          "2024-12-22T15:19:01.163714",
          "2024-12-22T15:19:04.474533",
          "2024-12-22T15:19:07.733133",
          "2024-12-22T15:19:11.001260",
          "2024-12-22T15:19:14.321889",
          "2024-12-22T15:19:17.351329",
          "2024-12-22T15:19:20.716605",
          "2024-12-22T15:19:23.823414",
          "2024-12-22T15:19:27.026255",
          "2024-12-22T15:19:30.266200",
          "2024-12-22T15:19:33.364334",
          "2024-12-22T15:19:36.452214",
          "2024-12-22T15:19:39.760847",
          "2024-12-22T15:19:42.983331",
          "2024-12-22T15:19:46.272094",
          "2024-12-22T15:19:49.353697",
          "2024-12-22T15:19:52.476895",
          "2024-12-22T15:19:55.507460",
          "2024-12-22T15:19:58.762208",
          "2024-12-22T15:20:02.083675",
          "2024-12-22T15:20:05.218930",
          "2024-12-22T15:20:08.536616",
          "2024-12-22T15:20:11.623609",
          "2024-12-22T15:20:14.936794",
          "2024-12-22T15:20:18.031840",
          "2024-12-22T15:20:21.224808",
          "2024-12-22T15:20:24.363098",
          "2024-12-22T15:20:27.502977",
          "2024-12-22T15:20:30.601919",
          "2024-12-22T15:20:33.707419",
          "2024-12-22T15:20:36.826880",
          "2024-12-22T15:20:40.088974",
          "2024-12-22T15:20:43.255953",
          "2024-12-22T15:20:46.569775",
          "2024-12-22T15:20:49.633804",
          "2024-12-22T15:20:52.883964",
          "2024-12-22T15:20:56.165364",
          "2024-12-22T15:20:59.250195",
          "2024-12-22T15:21:02.530633",
          "2024-12-22T15:21:05.773709",
          "2024-12-22T15:21:08.938854",
          "2024-12-22T15:21:12.137636",
          "2024-12-22T15:21:15.217504",
          "2024-12-22T15:21:18.520189",
          "2024-12-22T15:21:21.684266",
          "2024-12-22T15:21:24.933149",
          "2024-12-22T15:21:28.162123",
          "2024-12-22T15:21:31.451791",
          "2024-12-22T15:21:34.702956",
          "2024-12-22T15:21:37.988778",
          "2024-12-22T15:21:41.077879",
          "2024-12-22T15:21:44.180210",
          "2024-12-22T15:21:47.288042",
          "2024-12-22T15:21:50.363082",
          "2024-12-22T15:21:53.429464",
          "2024-12-22T15:21:56.514444",
          "2024-12-22T15:21:59.576920",
          "2024-12-22T15:22:02.727391",
          "2024-12-22T15:22:05.846241",
          "2024-12-22T15:22:08.956421",
          "2024-12-22T15:22:12.093010",
          "2024-12-22T15:22:15.187987",
          "2024-12-22T15:22:18.304900",
          "2024-12-22T15:22:21.469043",
          "2024-12-22T15:22:24.532830",
          "2024-12-22T15:22:27.770702",
          "2024-12-22T15:22:30.882515",
          "2024-12-22T15:22:34.220841",
          "2024-12-22T15:22:37.307979",
          "2024-12-22T15:22:40.446360",
          "2024-12-22T15:22:43.500365",
          "2024-12-22T15:22:46.755868",
          "2024-12-22T15:22:49.993256",
          "2024-12-22T15:22:53.109455",
          "2024-12-22T15:22:56.481904",
          "2024-12-22T15:22:59.579484",
          "2024-12-22T15:23:02.927901",
          "2024-12-22T15:23:06.033210",
          "2024-12-22T15:23:09.110181",
          "2024-12-22T15:23:12.246580",
          "2024-12-22T15:23:15.359860",
          "2024-12-22T15:23:18.507059",
          "2024-12-22T15:23:21.759190",
          "2024-12-22T15:23:24.908501",
          "2024-12-22T15:23:27.961540",
          "2024-12-22T15:23:31.021182",
          "2024-12-22T15:23:34.126979",
          "2024-12-22T15:23:37.215328",
          "2024-12-22T15:23:40.343497",
          "2024-12-22T15:23:43.379513",
          "2024-12-22T15:23:46.518309",
          "2024-12-22T15:23:49.763357",
          "2024-12-22T15:23:52.879937",
          "2024-12-22T15:23:56.129924",
          "2024-12-22T15:23:59.206751",
          "2024-12-22T15:24:02.466266",
          "2024-12-22T15:24:05.547734",
          "2024-12-22T15:24:08.874221",
          "2024-12-22T15:24:12.169362",
          "2024-12-22T15:24:15.379752",
          "2024-12-22T15:24:18.550786",
          "2024-12-22T15:24:21.771784",
          "2024-12-22T15:24:25.077297",
          "2024-12-22T15:24:29.054428",
          "2024-12-22T15:24:32.161627",
          "2024-12-22T15:24:35.321091",
          "2024-12-22T15:24:38.494065",
          "2024-12-22T15:24:41.629707",
          "2024-12-22T15:24:44.677293",
          "2024-12-22T15:24:47.775805",
          "2024-12-22T15:24:50.886233",
          "2024-12-22T15:24:53.998588",
          "2024-12-22T15:24:57.066705",
          "2024-12-22T15:25:00.182205",
          "2024-12-22T15:25:03.266132",
          "2024-12-22T15:25:06.315895",
          "2024-12-22T15:25:09.374466",
          "2024-12-22T15:25:12.656821",
          "2024-12-22T15:25:15.752799",
          "2024-12-22T15:25:18.899172",
          "2024-12-22T15:25:22.060006",
          "2024-12-22T15:25:25.145600",
          "2024-12-22T15:25:28.190321",
          "2024-12-22T15:25:31.250782",
          "2024-12-22T15:25:34.341772",
          "2024-12-22T15:25:37.461200",
          "2024-12-22T15:25:40.839786",
          "2024-12-22T15:25:44.107064",
          "2024-12-22T15:25:47.184518",
          "2024-12-22T15:25:50.275368",
          "2024-12-22T15:25:53.529688",
          "2024-12-22T15:25:56.637151",
          "2024-12-22T15:25:59.701801",
          "2024-12-22T15:26:03.070116",
          "2024-12-22T15:26:06.174091",
          "2024-12-22T15:26:09.477720",
          "2024-12-22T15:26:12.588075",
          "2024-12-22T15:26:15.884647",
          "2024-12-22T15:26:19.050277",
          "2024-12-22T15:26:22.188374",
          "2024-12-22T15:26:25.553326",
          "2024-12-22T15:26:28.661154",
          "2024-12-22T15:26:31.731911",
          "2024-12-22T15:26:34.830312",
          "2024-12-22T15:26:37.968209",
          "2024-12-22T15:26:41.115610",
          "2024-12-22T15:26:44.446907",
          "2024-12-22T15:26:47.532478",
          "2024-12-22T15:26:50.614609",
          "2024-12-22T15:26:53.714720",
          "2024-12-22T15:26:56.830960",
          "2024-12-22T15:26:59.939234",
          "2024-12-22T15:27:03.073479",
          "2024-12-22T15:27:06.174869",
          "2024-12-22T15:27:09.339934",
          "2024-12-22T15:27:12.641590",
          "2024-12-22T15:27:15.857154",
          "2024-12-22T15:27:19.089814",
          "2024-12-22T15:27:22.189532",
          "2024-12-22T15:27:25.441026",
          "2024-12-22T15:27:28.765273",
          "2024-12-22T15:27:32.055037",
          "2024-12-22T15:27:35.115935",
          "2024-12-22T15:27:38.227622",
          "2024-12-22T15:27:41.463862",
          "2024-12-22T15:27:44.552262",
          "2024-12-22T15:27:47.857630",
          "2024-12-22T15:27:51.094723",
          "2024-12-22T15:27:54.130996",
          "2024-12-22T15:27:57.180347",
          "2024-12-22T15:28:00.482410",
          "2024-12-22T15:28:03.593177",
          "2024-12-22T15:28:06.764680",
          "2024-12-22T15:28:09.865300",
          "2024-12-22T15:28:12.998554",
          "2024-12-22T15:28:16.340844",
          "2024-12-22T15:28:19.653717",
          "2024-12-22T15:28:22.835713",
          "2024-12-22T15:28:26.135702",
          "2024-12-22T15:28:30.385988",
          "2024-12-22T15:28:33.510831",
          "2024-12-22T15:28:36.636531",
          "2024-12-22T15:28:39.734436",
          "2024-12-22T15:28:42.820656",
          "2024-12-22T15:28:45.913731",
          "2024-12-22T15:28:49.185659",
          "2024-12-22T15:28:52.284253",
          "2024-12-22T15:28:55.645565",
          "2024-12-22T15:28:58.966843",
          "2024-12-22T15:29:02.082683",
          "2024-12-22T15:29:05.368325",
          "2024-12-22T15:29:08.469498",
          "2024-12-22T15:29:11.575521",
          "2024-12-22T15:29:14.644191",
          "2024-12-22T15:29:17.728955",
          "2024-12-22T15:29:20.863321",
          "2024-12-22T15:29:24.089684",
          "2024-12-22T15:29:27.151505",
          "2024-12-22T15:29:30.174012",
          "2024-12-22T15:29:33.291067",
          "2024-12-22T15:29:36.485463",
          "2024-12-22T15:29:39.855451",
          "2024-12-22T15:29:43.154664",
          "2024-12-22T15:29:46.635680",
          "2024-12-22T15:29:49.858624",
          "2024-12-22T15:29:52.956931",
          "2024-12-22T15:29:56.042095",
          "2024-12-22T15:29:59.311412",
          "2024-12-22T15:30:02.472766",
          "2024-12-22T15:30:05.613677",
          "2024-12-22T15:30:08.798694",
          "2024-12-22T15:30:11.887389",
          "2024-12-22T15:30:15.057644",
          "2024-12-22T15:30:18.155493",
          "2024-12-22T15:30:21.549544",
          "2024-12-22T15:30:24.653119",
          "2024-12-22T15:30:27.714838",
          "2024-12-22T15:30:30.977949",
          "2024-12-22T15:30:34.097627",
          "2024-12-22T15:30:37.147673",
          "2024-12-22T15:30:40.542553",
          "2024-12-22T15:30:43.661370",
          "2024-12-22T15:30:46.978970",
          "2024-12-22T15:30:50.223392",
          "2024-12-22T15:30:53.303697",
          "2024-12-22T15:30:56.562389",
          "2024-12-22T15:30:59.695252",
          "2024-12-22T15:31:02.808967",
          "2024-12-22T15:31:05.821550",
          "2024-12-22T15:31:08.918970",
          "2024-12-22T15:31:11.995686",
          "2024-12-22T15:31:15.244602",
          "2024-12-22T15:31:18.341257",
          "2024-12-22T15:31:21.592937",
          "2024-12-22T15:31:24.672357",
          "2024-12-22T15:31:27.737736",
          "2024-12-22T15:31:30.789740",
          "2024-12-22T15:31:33.894734",
          "2024-12-22T15:31:36.966690",
          "2024-12-22T15:31:40.074660",
          "2024-12-22T15:31:43.181212",
          "2024-12-22T15:31:46.300025",
          "2024-12-22T15:31:49.338742",
          "2024-12-22T15:31:52.659526",
          "2024-12-22T15:31:55.910908",
          "2024-12-22T15:31:59.163656",
          "2024-12-22T15:32:02.260462",
          "2024-12-22T15:32:05.366841",
          "2024-12-22T15:32:08.445649",
          "2024-12-22T15:32:11.497768",
          "2024-12-22T15:32:14.621784",
          "2024-12-22T15:32:17.722299",
          "2024-12-22T15:32:24.198048",
          "2024-12-22T15:32:27.218285",
          "2024-12-22T15:32:30.507692",
          "2024-12-22T15:32:34.324549",
          "2024-12-22T15:32:37.450179"
         ],
         "xaxis": "x",
         "y": [
          1,
          2,
          3,
          4,
          5,
          6,
          7,
          8,
          9,
          10,
          11,
          12,
          13,
          14,
          15,
          16,
          17,
          18,
          19,
          20,
          21,
          22,
          23,
          24,
          25,
          26,
          27,
          28,
          29,
          30,
          31,
          32,
          33,
          34,
          35,
          36,
          37,
          38,
          39,
          40,
          41,
          42,
          43,
          44,
          45,
          46,
          47,
          48,
          49,
          50,
          51,
          52,
          53,
          54,
          55,
          56,
          57,
          58,
          59,
          60,
          61,
          62,
          63,
          64,
          65,
          66,
          67,
          68,
          69,
          70,
          71,
          72,
          73,
          74,
          75,
          76,
          77,
          78,
          79,
          80,
          81,
          82,
          83,
          84,
          85,
          86,
          87,
          88,
          89,
          90,
          91,
          92,
          93,
          94,
          95,
          96,
          97,
          98,
          99,
          100,
          101,
          102,
          103,
          104,
          105,
          106,
          107,
          108,
          109,
          110,
          111,
          112,
          113,
          114,
          115,
          116,
          117,
          118,
          119,
          120,
          121,
          122,
          123,
          124,
          125,
          126,
          127,
          128,
          129,
          130,
          131,
          132,
          133,
          134,
          135,
          136,
          137,
          138,
          139,
          140,
          141,
          142,
          143,
          144,
          145,
          146,
          147,
          148,
          149,
          150,
          151,
          152,
          153,
          154,
          155,
          156,
          157,
          158,
          159,
          160,
          161,
          162,
          163,
          164,
          165,
          166,
          167,
          168,
          169,
          170,
          171,
          172,
          173,
          174,
          175,
          176,
          177,
          178,
          179,
          180,
          181,
          182,
          183,
          184,
          185,
          186,
          187,
          188,
          189,
          190,
          191,
          192,
          193,
          194,
          195,
          196,
          197,
          198,
          199,
          200,
          201,
          202,
          203,
          204,
          205,
          206,
          207,
          208,
          209,
          210,
          211,
          212,
          213,
          214,
          215,
          216,
          217,
          218,
          219,
          220,
          221,
          222,
          223,
          224,
          225,
          226,
          227,
          228,
          229,
          230,
          231,
          232,
          233,
          234,
          235,
          236,
          237,
          238,
          239,
          240,
          241,
          242,
          243,
          244,
          245,
          246,
          247,
          248,
          249,
          250,
          251,
          252,
          253,
          254,
          255,
          256,
          257,
          258,
          259,
          260,
          261,
          262,
          263,
          264,
          265,
          266,
          267,
          268,
          269,
          270,
          271,
          272,
          273,
          274,
          275,
          276,
          277,
          278,
          279,
          280,
          281,
          282,
          283,
          284,
          285,
          286,
          287,
          288,
          289,
          290,
          291,
          292,
          293,
          294,
          295,
          296,
          297,
          298,
          299,
          300,
          301,
          302,
          303,
          304,
          305,
          306,
          307,
          308,
          309,
          310,
          311,
          312,
          313,
          314,
          315,
          316,
          317,
          318,
          319,
          320,
          321,
          322,
          323,
          324,
          325,
          326,
          327,
          328,
          329,
          330,
          331,
          332,
          333,
          334,
          335,
          336,
          337,
          338,
          339,
          340,
          341,
          342,
          343,
          344,
          345,
          346,
          347,
          348,
          349,
          350,
          351,
          352,
          353,
          354,
          355,
          356,
          357,
          358,
          359,
          360,
          361,
          362,
          363,
          364,
          365,
          366,
          367,
          368,
          369,
          370,
          371,
          372,
          373,
          374,
          375,
          376,
          377,
          378,
          379,
          380,
          381,
          382,
          383,
          384,
          385,
          386,
          387,
          388,
          389,
          390,
          391,
          392,
          393,
          394,
          395,
          396,
          397,
          398,
          399,
          400,
          401,
          402,
          403,
          404,
          405,
          406,
          407,
          408,
          409,
          410,
          411,
          412,
          413,
          414,
          415,
          416,
          417,
          418,
          419,
          420,
          421,
          422,
          423,
          424,
          425,
          426,
          427,
          428,
          429,
          430,
          431,
          432,
          433,
          434,
          435,
          436,
          437,
          438,
          439,
          440,
          441,
          442,
          443,
          444,
          445,
          446,
          447,
          448,
          449,
          450,
          451,
          452,
          453,
          454,
          455,
          456,
          457,
          458,
          459,
          460,
          461,
          462,
          463,
          464,
          465,
          466,
          467,
          468,
          469,
          470,
          471,
          472,
          473,
          474,
          475,
          476,
          477,
          478,
          479,
          480,
          481,
          482,
          483,
          484,
          485,
          486,
          487,
          488,
          489,
          490,
          491,
          492,
          493,
          494,
          495,
          496,
          497,
          498,
          499,
          500
         ],
         "yaxis": "y"
        },
        {
         "hovertemplate": "State=active<br>Time=%{x}<br>message_id=%{y}<extra></extra>",
         "legendgroup": "active",
         "line": {
          "color": "#EF553B",
          "dash": "solid"
         },
         "marker": {
          "symbol": "circle"
         },
         "mode": "lines+markers",
         "name": "active",
         "showlegend": true,
         "type": "scattergl",
         "x": [
          "2024-12-22T15:06:05.742522",
          "2024-12-22T15:06:10.939153",
          "2024-12-22T15:06:10.939153",
          "2024-12-22T15:06:15.851421",
          "2024-12-22T15:06:25.949804",
          "2024-12-22T15:06:25.949804",
          "2024-12-22T15:06:25.949804",
          "2024-12-22T15:06:31.079856",
          "2024-12-22T15:06:31.079856",
          "2024-12-22T15:06:51.378923",
          "2024-12-22T15:06:51.378923",
          "2024-12-22T15:06:51.378923",
          "2024-12-22T15:06:51.378923",
          "2024-12-22T15:06:51.378923",
          "2024-12-22T15:06:56.107333",
          "2024-12-22T15:06:56.107333",
          "2024-12-22T15:06:56.107333",
          "2024-12-22T15:07:26.335969",
          "2024-12-22T15:07:26.335969",
          "2024-12-22T15:07:26.335969",
          "2024-12-22T15:07:26.335969",
          "2024-12-22T15:07:26.335969",
          "2024-12-22T15:07:41.698395",
          "2024-12-22T15:07:41.698395",
          "2024-12-22T15:07:41.698395",
          "2024-12-22T15:07:41.698395",
          "2024-12-22T15:07:41.698395",
          "2024-12-22T15:08:16.579404",
          "2024-12-22T15:08:16.579404",
          "2024-12-22T15:08:16.579404",
          "2024-12-22T15:08:16.579404",
          "2024-12-22T15:08:16.579404",
          "2024-12-22T15:08:31.942899",
          "2024-12-22T15:08:31.942899",
          "2024-12-22T15:08:31.942899",
          "2024-12-22T15:08:31.942899",
          "2024-12-22T15:08:31.942899",
          "2024-12-22T15:09:06.795918",
          "2024-12-22T15:09:06.795918",
          "2024-12-22T15:09:06.795918",
          "2024-12-22T15:09:06.795918",
          "2024-12-22T15:09:06.795918",
          "2024-12-22T15:09:22.182871",
          "2024-12-22T15:09:22.182871",
          "2024-12-22T15:09:22.182871",
          "2024-12-22T15:09:22.182871",
          "2024-12-22T15:09:22.182871",
          "2024-12-22T15:09:57.017228",
          "2024-12-22T15:09:57.017228",
          "2024-12-22T15:09:57.017228",
          "2024-12-22T15:09:57.017228",
          "2024-12-22T15:09:57.017228",
          "2024-12-22T15:10:12.409002",
          "2024-12-22T15:10:12.409002",
          "2024-12-22T15:10:12.409002",
          "2024-12-22T15:10:12.409002",
          "2024-12-22T15:10:12.409002",
          "2024-12-22T15:10:47.237857",
          "2024-12-22T15:10:47.237857",
          "2024-12-22T15:10:47.237857",
          "2024-12-22T15:10:47.237857",
          "2024-12-22T15:10:47.237857",
          "2024-12-22T15:11:02.633393",
          "2024-12-22T15:11:02.633393",
          "2024-12-22T15:11:02.633393",
          "2024-12-22T15:11:02.633393",
          "2024-12-22T15:11:02.633393",
          "2024-12-22T15:11:37.478263",
          "2024-12-22T15:11:37.478263",
          "2024-12-22T15:11:37.478263",
          "2024-12-22T15:11:37.478263",
          "2024-12-22T15:11:37.478263",
          "2024-12-22T15:11:52.877149",
          "2024-12-22T15:11:52.877149",
          "2024-12-22T15:11:52.877149",
          "2024-12-22T15:11:52.877149",
          "2024-12-22T15:11:52.877149",
          "2024-12-22T15:12:27.689268",
          "2024-12-22T15:12:27.689268",
          "2024-12-22T15:12:27.689268",
          "2024-12-22T15:12:27.689268",
          "2024-12-22T15:12:27.689268",
          "2024-12-22T15:12:43.103807",
          "2024-12-22T15:12:43.103807",
          "2024-12-22T15:12:43.103807",
          "2024-12-22T15:12:43.103807",
          "2024-12-22T15:12:43.103807",
          "2024-12-22T15:13:17.910899",
          "2024-12-22T15:13:17.910899",
          "2024-12-22T15:13:17.910899",
          "2024-12-22T15:13:17.910899",
          "2024-12-22T15:13:17.910899",
          "2024-12-22T15:13:33.403361",
          "2024-12-22T15:13:33.403361",
          "2024-12-22T15:13:33.403361",
          "2024-12-22T15:13:33.403361",
          "2024-12-22T15:13:33.403361",
          "2024-12-22T15:14:08.204540",
          "2024-12-22T15:14:08.204540",
          "2024-12-22T15:14:08.204540",
          "2024-12-22T15:14:08.204540",
          "2024-12-22T15:14:08.204540",
          "2024-12-22T15:14:23.627960",
          "2024-12-22T15:14:23.627960",
          "2024-12-22T15:14:23.627960",
          "2024-12-22T15:14:23.627960",
          "2024-12-22T15:14:23.627960",
          "2024-12-22T15:14:58.435780",
          "2024-12-22T15:14:58.435780",
          "2024-12-22T15:14:58.435780",
          "2024-12-22T15:14:58.435780",
          "2024-12-22T15:14:58.435780",
          "2024-12-22T15:15:13.870585",
          "2024-12-22T15:15:13.870585",
          "2024-12-22T15:15:13.870585",
          "2024-12-22T15:15:13.870585",
          "2024-12-22T15:15:13.870585",
          "2024-12-22T15:15:48.648914",
          "2024-12-22T15:15:48.648914",
          "2024-12-22T15:15:48.648914",
          "2024-12-22T15:15:48.648914",
          "2024-12-22T15:15:48.648914",
          "2024-12-22T15:16:04.123577",
          "2024-12-22T15:16:04.123577",
          "2024-12-22T15:16:04.123577",
          "2024-12-22T15:16:04.123577",
          "2024-12-22T15:16:04.123577",
          "2024-12-22T15:16:38.863060",
          "2024-12-22T15:16:38.863060",
          "2024-12-22T15:16:38.863060",
          "2024-12-22T15:16:38.863060",
          "2024-12-22T15:16:38.863060",
          "2024-12-22T15:16:54.349192",
          "2024-12-22T15:16:54.349192",
          "2024-12-22T15:16:54.349192",
          "2024-12-22T15:16:54.349192",
          "2024-12-22T15:16:54.349192",
          "2024-12-22T15:17:29.200323",
          "2024-12-22T15:17:29.200323",
          "2024-12-22T15:17:29.200323",
          "2024-12-22T15:17:29.200323",
          "2024-12-22T15:17:29.200323",
          "2024-12-22T15:17:44.664540",
          "2024-12-22T15:17:44.664540",
          "2024-12-22T15:17:44.664540",
          "2024-12-22T15:17:44.664540",
          "2024-12-22T15:17:44.664540",
          "2024-12-22T15:18:19.429042",
          "2024-12-22T15:18:19.429042",
          "2024-12-22T15:18:19.429042",
          "2024-12-22T15:18:19.429042",
          "2024-12-22T15:18:19.429042",
          "2024-12-22T15:18:34.935307",
          "2024-12-22T15:18:34.935307",
          "2024-12-22T15:18:34.935307",
          "2024-12-22T15:18:34.935307",
          "2024-12-22T15:18:34.935307",
          "2024-12-22T15:19:09.636596",
          "2024-12-22T15:19:09.636596",
          "2024-12-22T15:19:09.636596",
          "2024-12-22T15:19:09.636596",
          "2024-12-22T15:19:09.636596",
          "2024-12-22T15:19:25.170415",
          "2024-12-22T15:19:25.170415",
          "2024-12-22T15:19:25.170415",
          "2024-12-22T15:19:25.170415",
          "2024-12-22T15:19:25.170415",
          "2024-12-22T15:19:59.909023",
          "2024-12-22T15:19:59.909023",
          "2024-12-22T15:19:59.909023",
          "2024-12-22T15:19:59.909023",
          "2024-12-22T15:19:59.909023",
          "2024-12-22T15:20:15.490693",
          "2024-12-22T15:20:15.490693",
          "2024-12-22T15:20:15.490693",
          "2024-12-22T15:20:15.490693",
          "2024-12-22T15:20:15.490693",
          "2024-12-22T15:20:50.151240",
          "2024-12-22T15:20:50.151240",
          "2024-12-22T15:20:50.151240",
          "2024-12-22T15:20:50.151240",
          "2024-12-22T15:20:50.151240",
          "2024-12-22T15:21:05.711725",
          "2024-12-22T15:21:05.711725",
          "2024-12-22T15:21:05.711725",
          "2024-12-22T15:21:05.711725",
          "2024-12-22T15:21:05.711725",
          "2024-12-22T15:21:40.374785",
          "2024-12-22T15:21:40.374785",
          "2024-12-22T15:21:40.374785",
          "2024-12-22T15:21:40.374785",
          "2024-12-22T15:21:40.374785",
          "2024-12-22T15:21:55.956410",
          "2024-12-22T15:21:55.956410",
          "2024-12-22T15:21:55.956410",
          "2024-12-22T15:21:55.956410",
          "2024-12-22T15:21:55.956410",
          "2024-12-22T15:22:30.583886",
          "2024-12-22T15:22:30.583886",
          "2024-12-22T15:22:30.583886",
          "2024-12-22T15:22:30.583886",
          "2024-12-22T15:22:30.583886",
          "2024-12-22T15:22:46.181453",
          "2024-12-22T15:22:46.181453",
          "2024-12-22T15:22:46.181453",
          "2024-12-22T15:22:46.181453",
          "2024-12-22T15:22:46.181453",
          "2024-12-22T15:23:20.968889",
          "2024-12-22T15:23:20.968889",
          "2024-12-22T15:23:20.968889",
          "2024-12-22T15:23:20.968889",
          "2024-12-22T15:23:20.968889",
          "2024-12-22T15:23:36.416304",
          "2024-12-22T15:23:36.416304",
          "2024-12-22T15:23:36.416304",
          "2024-12-22T15:23:36.416304",
          "2024-12-22T15:23:36.416304",
          "2024-12-22T15:24:11.193694",
          "2024-12-22T15:24:11.193694",
          "2024-12-22T15:24:11.193694",
          "2024-12-22T15:24:11.193694",
          "2024-12-22T15:24:11.193694",
          "2024-12-22T15:24:26.638749",
          "2024-12-22T15:24:26.638749",
          "2024-12-22T15:24:26.638749",
          "2024-12-22T15:24:26.638749",
          "2024-12-22T15:24:26.638749",
          "2024-12-22T15:25:01.440248",
          "2024-12-22T15:25:01.440248",
          "2024-12-22T15:25:01.440248",
          "2024-12-22T15:25:01.440248",
          "2024-12-22T15:25:01.440248",
          "2024-12-22T15:25:16.892156",
          "2024-12-22T15:25:16.892156",
          "2024-12-22T15:25:16.892156",
          "2024-12-22T15:25:16.892156",
          "2024-12-22T15:25:16.892156",
          "2024-12-22T15:25:51.724577",
          "2024-12-22T15:25:51.724577",
          "2024-12-22T15:25:51.724577",
          "2024-12-22T15:25:51.724577",
          "2024-12-22T15:25:51.724577",
          "2024-12-22T15:26:07.193322",
          "2024-12-22T15:26:07.193322",
          "2024-12-22T15:26:07.193322",
          "2024-12-22T15:26:07.193322",
          "2024-12-22T15:26:07.193322",
          "2024-12-22T15:26:41.969079",
          "2024-12-22T15:26:41.969079",
          "2024-12-22T15:26:41.969079",
          "2024-12-22T15:26:41.969079",
          "2024-12-22T15:26:41.969079",
          "2024-12-22T15:26:57.416766",
          "2024-12-22T15:26:57.416766",
          "2024-12-22T15:26:57.416766",
          "2024-12-22T15:26:57.416766",
          "2024-12-22T15:26:57.416766",
          "2024-12-22T15:27:32.192623",
          "2024-12-22T15:27:32.192623",
          "2024-12-22T15:27:32.192623",
          "2024-12-22T15:27:32.192623",
          "2024-12-22T15:27:32.192623",
          "2024-12-22T15:27:47.634479",
          "2024-12-22T15:27:47.634479",
          "2024-12-22T15:27:47.634479",
          "2024-12-22T15:27:47.634479",
          "2024-12-22T15:27:47.634479",
          "2024-12-22T15:28:22.422813",
          "2024-12-22T15:28:22.422813",
          "2024-12-22T15:28:22.422813",
          "2024-12-22T15:28:22.422813",
          "2024-12-22T15:28:22.422813",
          "2024-12-22T15:28:37.863423",
          "2024-12-22T15:28:37.863423",
          "2024-12-22T15:28:37.863423",
          "2024-12-22T15:28:37.863423",
          "2024-12-22T15:28:37.863423",
          "2024-12-22T15:29:12.780751",
          "2024-12-22T15:29:12.780751",
          "2024-12-22T15:29:12.780751",
          "2024-12-22T15:29:12.780751",
          "2024-12-22T15:29:12.780751",
          "2024-12-22T15:29:28.138876",
          "2024-12-22T15:29:28.138876",
          "2024-12-22T15:29:28.138876",
          "2024-12-22T15:29:28.138876",
          "2024-12-22T15:29:28.138876",
          "2024-12-22T15:30:03.021921",
          "2024-12-22T15:30:03.021921",
          "2024-12-22T15:30:03.021921",
          "2024-12-22T15:30:03.021921",
          "2024-12-22T15:30:03.021921",
          "2024-12-22T15:30:18.368494",
          "2024-12-22T15:30:18.368494",
          "2024-12-22T15:30:18.368494",
          "2024-12-22T15:30:18.368494",
          "2024-12-22T15:30:18.368494",
          "2024-12-22T15:30:53.266410",
          "2024-12-22T15:30:53.266410",
          "2024-12-22T15:30:53.266410",
          "2024-12-22T15:30:53.266410",
          "2024-12-22T15:30:53.266410",
          "2024-12-22T15:31:08.586407",
          "2024-12-22T15:31:08.586407",
          "2024-12-22T15:31:08.586407",
          "2024-12-22T15:31:08.586407",
          "2024-12-22T15:31:08.586407",
          "2024-12-22T15:31:43.559147",
          "2024-12-22T15:31:43.559147",
          "2024-12-22T15:31:43.559147",
          "2024-12-22T15:31:43.559147",
          "2024-12-22T15:31:43.559147",
          "2024-12-22T15:31:58.917958",
          "2024-12-22T15:31:58.917958",
          "2024-12-22T15:31:58.917958",
          "2024-12-22T15:31:58.917958",
          "2024-12-22T15:31:58.917958",
          "2024-12-22T15:32:33.813793",
          "2024-12-22T15:32:33.813793",
          "2024-12-22T15:32:33.813793",
          "2024-12-22T15:32:33.813793",
          "2024-12-22T15:32:33.813793",
          "2024-12-22T15:32:49.146826",
          "2024-12-22T15:32:49.146826",
          "2024-12-22T15:32:49.146826",
          "2024-12-22T15:32:49.146826",
          "2024-12-22T15:32:49.146826",
          "2024-12-22T15:33:24.029251",
          "2024-12-22T15:33:24.029251",
          "2024-12-22T15:33:24.029251",
          "2024-12-22T15:33:24.029251",
          "2024-12-22T15:33:24.029251",
          "2024-12-22T15:33:39.368576",
          "2024-12-22T15:33:39.368576",
          "2024-12-22T15:33:39.368576",
          "2024-12-22T15:33:39.368576",
          "2024-12-22T15:33:39.368576",
          "2024-12-22T15:34:14.243708",
          "2024-12-22T15:34:14.243708",
          "2024-12-22T15:34:14.243708",
          "2024-12-22T15:34:14.243708",
          "2024-12-22T15:34:14.243708",
          "2024-12-22T15:34:29.659427",
          "2024-12-22T15:34:29.659427",
          "2024-12-22T15:34:29.659427",
          "2024-12-22T15:34:29.659427",
          "2024-12-22T15:34:29.659427",
          "2024-12-22T15:35:04.448765",
          "2024-12-22T15:35:04.448765",
          "2024-12-22T15:35:04.448765",
          "2024-12-22T15:35:04.448765",
          "2024-12-22T15:35:04.448765",
          "2024-12-22T15:35:19.889675",
          "2024-12-22T15:35:19.889675",
          "2024-12-22T15:35:19.889675",
          "2024-12-22T15:35:19.889675",
          "2024-12-22T15:35:19.889675",
          "2024-12-22T15:35:54.690164",
          "2024-12-22T15:35:54.690164",
          "2024-12-22T15:35:54.690164",
          "2024-12-22T15:35:54.690164",
          "2024-12-22T15:35:54.690164",
          "2024-12-22T15:36:10.135704",
          "2024-12-22T15:36:10.135704",
          "2024-12-22T15:36:10.135704",
          "2024-12-22T15:36:10.135704",
          "2024-12-22T15:36:10.135704",
          "2024-12-22T15:36:44.896262",
          "2024-12-22T15:36:44.896262",
          "2024-12-22T15:36:44.896262",
          "2024-12-22T15:36:44.896262",
          "2024-12-22T15:36:44.896262",
          "2024-12-22T15:37:00.348779",
          "2024-12-22T15:37:00.348779",
          "2024-12-22T15:37:00.348779",
          "2024-12-22T15:37:00.348779",
          "2024-12-22T15:37:00.348779",
          "2024-12-22T15:37:35.116077",
          "2024-12-22T15:37:35.116077",
          "2024-12-22T15:37:35.116077",
          "2024-12-22T15:37:35.116077",
          "2024-12-22T15:37:35.116077",
          "2024-12-22T15:37:50.597920",
          "2024-12-22T15:37:50.597920",
          "2024-12-22T15:37:50.597920",
          "2024-12-22T15:37:50.597920",
          "2024-12-22T15:37:50.597920",
          "2024-12-22T15:38:25.387932",
          "2024-12-22T15:38:25.387932",
          "2024-12-22T15:38:25.387932",
          "2024-12-22T15:38:25.387932",
          "2024-12-22T15:38:25.387932",
          "2024-12-22T15:38:40.892074",
          "2024-12-22T15:38:40.892074",
          "2024-12-22T15:38:40.892074",
          "2024-12-22T15:38:40.892074",
          "2024-12-22T15:38:40.892074",
          "2024-12-22T15:39:15.629482",
          "2024-12-22T15:39:15.629482",
          "2024-12-22T15:39:15.629482",
          "2024-12-22T15:39:15.629482",
          "2024-12-22T15:39:15.629482",
          "2024-12-22T15:39:31.110030",
          "2024-12-22T15:39:31.110030",
          "2024-12-22T15:39:31.110030",
          "2024-12-22T15:39:31.110030",
          "2024-12-22T15:39:31.110030",
          "2024-12-22T15:40:05.855387",
          "2024-12-22T15:40:05.855387",
          "2024-12-22T15:40:05.855387",
          "2024-12-22T15:40:05.855387",
          "2024-12-22T15:40:05.855387",
          "2024-12-22T15:40:21.365061",
          "2024-12-22T15:40:21.365061",
          "2024-12-22T15:40:21.365061",
          "2024-12-22T15:40:21.365061",
          "2024-12-22T15:40:21.365061",
          "2024-12-22T15:40:56.072070",
          "2024-12-22T15:40:56.072070",
          "2024-12-22T15:40:56.072070",
          "2024-12-22T15:40:56.072070",
          "2024-12-22T15:40:56.072070",
          "2024-12-22T15:41:11.613917",
          "2024-12-22T15:41:11.613917",
          "2024-12-22T15:41:11.613917",
          "2024-12-22T15:41:11.613917",
          "2024-12-22T15:41:11.613917",
          "2024-12-22T15:41:46.345055",
          "2024-12-22T15:41:46.345055",
          "2024-12-22T15:41:46.345055",
          "2024-12-22T15:41:46.345055",
          "2024-12-22T15:41:46.345055",
          "2024-12-22T15:42:01.929096",
          "2024-12-22T15:42:01.929096",
          "2024-12-22T15:42:01.929096",
          "2024-12-22T15:42:01.929096",
          "2024-12-22T15:42:01.929096",
          "2024-12-22T15:42:36.586544",
          "2024-12-22T15:42:36.586544",
          "2024-12-22T15:42:36.586544",
          "2024-12-22T15:42:36.586544",
          "2024-12-22T15:42:36.586544",
          "2024-12-22T15:42:52.171835",
          "2024-12-22T15:42:52.171835",
          "2024-12-22T15:42:52.171835",
          "2024-12-22T15:42:52.171835",
          "2024-12-22T15:42:52.171835",
          "2024-12-22T15:43:26.812914",
          "2024-12-22T15:43:26.812914",
          "2024-12-22T15:43:26.812914",
          "2024-12-22T15:43:26.812914",
          "2024-12-22T15:43:26.812914",
          "2024-12-22T15:43:42.391447",
          "2024-12-22T15:43:42.391447",
          "2024-12-22T15:43:42.391447",
          "2024-12-22T15:43:42.391447",
          "2024-12-22T15:43:42.391447",
          "2024-12-22T15:44:17.122935",
          "2024-12-22T15:44:17.122935",
          "2024-12-22T15:44:17.122935",
          "2024-12-22T15:44:17.122935",
          "2024-12-22T15:44:17.122935",
          "2024-12-22T15:44:32.763433",
          "2024-12-22T15:44:32.763433",
          "2024-12-22T15:44:32.763433",
          "2024-12-22T15:44:32.763433",
          "2024-12-22T15:44:32.763433",
          "2024-12-22T15:45:07.413880",
          "2024-12-22T15:45:07.413880",
          "2024-12-22T15:45:07.413880",
          "2024-12-22T15:45:07.413880",
          "2024-12-22T15:45:07.413880",
          "2024-12-22T15:45:22.982082",
          "2024-12-22T15:45:22.982082",
          "2024-12-22T15:45:22.982082",
          "2024-12-22T15:45:22.982082",
          "2024-12-22T15:45:22.982082",
          "2024-12-22T15:45:57.650684",
          "2024-12-22T15:45:57.650684",
          "2024-12-22T15:45:57.650684",
          "2024-12-22T15:45:57.650684",
          "2024-12-22T15:45:57.650684",
          "2024-12-22T15:46:13.202038",
          "2024-12-22T15:46:13.202038",
          "2024-12-22T15:46:13.202038",
          "2024-12-22T15:46:13.202038",
          "2024-12-22T15:46:13.202038",
          "2024-12-22T15:46:47.857169",
          "2024-12-22T15:46:47.857169",
          "2024-12-22T15:46:47.857169",
          "2024-12-22T15:46:47.857169",
          "2024-12-22T15:46:47.857169",
          "2024-12-22T15:47:03.414876",
          "2024-12-22T15:47:03.414876",
          "2024-12-22T15:47:03.414876",
          "2024-12-22T15:47:03.414876",
          "2024-12-22T15:47:03.414876",
          "2024-12-22T15:47:38.087935",
          "2024-12-22T15:47:38.087935",
          "2024-12-22T15:47:38.087935"
         ],
         "xaxis": "x",
         "y": [
          1,
          2,
          3,
          4,
          5,
          6,
          7,
          8,
          9,
          13,
          12,
          14,
          10,
          11,
          15,
          16,
          17,
          22,
          21,
          20,
          19,
          18,
          23,
          24,
          25,
          26,
          27,
          32,
          31,
          30,
          29,
          28,
          33,
          34,
          35,
          36,
          37,
          42,
          41,
          39,
          38,
          40,
          43,
          44,
          45,
          46,
          47,
          52,
          51,
          48,
          49,
          50,
          53,
          54,
          55,
          56,
          57,
          62,
          61,
          59,
          58,
          60,
          63,
          64,
          65,
          66,
          67,
          72,
          71,
          68,
          69,
          70,
          73,
          74,
          75,
          76,
          77,
          78,
          79,
          80,
          81,
          82,
          83,
          84,
          85,
          86,
          87,
          88,
          89,
          90,
          91,
          92,
          93,
          94,
          95,
          96,
          97,
          98,
          99,
          100,
          101,
          102,
          103,
          104,
          105,
          106,
          107,
          108,
          109,
          110,
          111,
          112,
          113,
          114,
          115,
          116,
          117,
          118,
          119,
          120,
          121,
          122,
          123,
          124,
          125,
          126,
          127,
          128,
          129,
          130,
          131,
          132,
          133,
          134,
          135,
          136,
          137,
          138,
          139,
          140,
          141,
          142,
          143,
          144,
          145,
          146,
          147,
          148,
          149,
          150,
          151,
          152,
          153,
          154,
          155,
          156,
          157,
          158,
          159,
          160,
          161,
          162,
          166,
          165,
          167,
          163,
          164,
          168,
          169,
          170,
          171,
          172,
          176,
          175,
          177,
          173,
          174,
          178,
          179,
          180,
          181,
          182,
          187,
          185,
          186,
          183,
          184,
          188,
          189,
          190,
          191,
          192,
          197,
          195,
          196,
          193,
          194,
          201,
          200,
          202,
          198,
          199,
          207,
          206,
          205,
          204,
          203,
          208,
          209,
          210,
          211,
          212,
          217,
          216,
          213,
          214,
          215,
          221,
          220,
          222,
          218,
          219,
          223,
          224,
          225,
          226,
          227,
          232,
          231,
          230,
          229,
          228,
          233,
          234,
          235,
          236,
          237,
          242,
          241,
          240,
          239,
          238,
          243,
          244,
          245,
          246,
          247,
          252,
          251,
          249,
          248,
          250,
          253,
          254,
          255,
          256,
          257,
          262,
          261,
          258,
          259,
          260,
          263,
          264,
          265,
          266,
          267,
          272,
          271,
          268,
          269,
          270,
          273,
          274,
          275,
          276,
          277,
          278,
          279,
          280,
          281,
          282,
          283,
          284,
          285,
          286,
          287,
          288,
          289,
          290,
          291,
          292,
          293,
          294,
          295,
          296,
          297,
          298,
          299,
          300,
          301,
          302,
          303,
          304,
          305,
          306,
          307,
          308,
          309,
          310,
          311,
          312,
          313,
          314,
          315,
          316,
          317,
          318,
          319,
          320,
          321,
          322,
          323,
          324,
          325,
          326,
          327,
          328,
          329,
          330,
          331,
          332,
          337,
          336,
          333,
          334,
          335,
          342,
          341,
          340,
          339,
          338,
          347,
          345,
          346,
          343,
          344,
          351,
          348,
          349,
          350,
          352,
          353,
          354,
          355,
          356,
          357,
          358,
          359,
          360,
          361,
          362,
          363,
          364,
          365,
          366,
          367,
          372,
          371,
          368,
          369,
          370,
          377,
          376,
          375,
          374,
          373,
          382,
          380,
          381,
          378,
          379,
          386,
          383,
          384,
          385,
          387,
          388,
          389,
          390,
          391,
          392,
          393,
          394,
          395,
          396,
          397,
          398,
          399,
          400,
          401,
          402,
          407,
          406,
          403,
          404,
          405,
          412,
          410,
          411,
          409,
          408,
          417,
          415,
          416,
          413,
          414,
          421,
          418,
          419,
          420,
          422,
          423,
          424,
          425,
          426,
          427,
          428,
          429,
          430,
          431,
          432,
          433,
          434,
          435,
          436,
          437,
          442,
          441,
          438,
          439,
          440,
          447,
          446,
          445,
          444,
          443,
          451,
          450,
          452,
          448,
          449,
          457,
          453,
          454,
          455,
          456,
          458,
          459,
          460,
          461,
          462,
          463,
          464,
          465,
          466,
          467,
          468,
          469,
          470,
          471,
          472,
          477,
          476,
          473,
          474,
          475,
          482,
          481,
          480,
          479,
          478,
          487,
          485,
          486,
          483,
          484,
          491,
          488,
          489,
          490,
          492,
          493,
          494,
          495,
          496,
          497,
          498,
          499,
          500
         ],
         "yaxis": "y"
        },
        {
         "hovertemplate": "State=completed<br>Time=%{x}<br>message_id=%{y}<extra></extra>",
         "legendgroup": "completed",
         "line": {
          "color": "#00cc96",
          "dash": "solid"
         },
         "marker": {
          "symbol": "circle"
         },
         "mode": "lines+markers",
         "name": "completed",
         "showlegend": true,
         "type": "scattergl",
         "x": [
          "2024-12-22T15:06:15.818588",
          "2024-12-22T15:06:25.914540",
          "2024-12-22T15:06:31.046583",
          "2024-12-22T15:06:31.046893",
          "2024-12-22T15:06:51.192515",
          "2024-12-22T15:06:51.192738",
          "2024-12-22T15:06:56.076689",
          "2024-12-22T15:06:56.076916",
          "2024-12-22T15:06:56.077137",
          "2024-12-22T15:07:26.303866",
          "2024-12-22T15:07:26.304138",
          "2024-12-22T15:07:26.304354",
          "2024-12-22T15:07:41.665193",
          "2024-12-22T15:07:41.665430",
          "2024-12-22T15:07:41.665650",
          "2024-12-22T15:07:41.665865",
          "2024-12-22T15:07:41.666063",
          "2024-12-22T15:08:16.544630",
          "2024-12-22T15:08:16.544857",
          "2024-12-22T15:08:16.545065",
          "2024-12-22T15:08:16.545281",
          "2024-12-22T15:08:16.545503",
          "2024-12-22T15:08:31.908447",
          "2024-12-22T15:08:31.908703",
          "2024-12-22T15:08:31.908929",
          "2024-12-22T15:08:31.909158",
          "2024-12-22T15:08:31.909361",
          "2024-12-22T15:09:06.763216",
          "2024-12-22T15:09:06.763441",
          "2024-12-22T15:09:06.763653",
          "2024-12-22T15:09:06.763852",
          "2024-12-22T15:09:06.764051",
          "2024-12-22T15:09:22.151237",
          "2024-12-22T15:09:22.151505",
          "2024-12-22T15:09:22.151779",
          "2024-12-22T15:09:22.151990",
          "2024-12-22T15:09:22.152200",
          "2024-12-22T15:09:56.985944",
          "2024-12-22T15:09:56.986214",
          "2024-12-22T15:09:56.986471",
          "2024-12-22T15:09:56.986720",
          "2024-12-22T15:09:56.987031",
          "2024-12-22T15:10:12.374199",
          "2024-12-22T15:10:12.374473",
          "2024-12-22T15:10:12.374756",
          "2024-12-22T15:10:12.375102",
          "2024-12-22T15:10:12.375448",
          "2024-12-22T15:10:47.206152",
          "2024-12-22T15:10:47.206437",
          "2024-12-22T15:10:47.206675",
          "2024-12-22T15:10:47.206900",
          "2024-12-22T15:10:47.207102",
          "2024-12-22T15:11:02.596404",
          "2024-12-22T15:11:02.596656",
          "2024-12-22T15:11:02.596881",
          "2024-12-22T15:11:02.597104",
          "2024-12-22T15:11:02.597338",
          "2024-12-22T15:11:37.446124",
          "2024-12-22T15:11:37.446517",
          "2024-12-22T15:11:37.446748",
          "2024-12-22T15:11:37.447086",
          "2024-12-22T15:11:37.447313",
          "2024-12-22T15:11:52.835574",
          "2024-12-22T15:11:52.835904",
          "2024-12-22T15:11:52.836295",
          "2024-12-22T15:11:52.836626",
          "2024-12-22T15:11:52.837354",
          "2024-12-22T15:12:27.659438",
          "2024-12-22T15:12:27.659661",
          "2024-12-22T15:12:27.659863",
          "2024-12-22T15:12:27.660061",
          "2024-12-22T15:12:27.660272",
          "2024-12-22T15:12:43.067559",
          "2024-12-22T15:12:43.067804",
          "2024-12-22T15:12:43.068014",
          "2024-12-22T15:12:43.068219",
          "2024-12-22T15:12:43.068433",
          "2024-12-22T15:13:17.878000",
          "2024-12-22T15:13:17.878257",
          "2024-12-22T15:13:17.878547",
          "2024-12-22T15:13:17.878766",
          "2024-12-22T15:13:17.879141",
          "2024-12-22T15:13:33.366673",
          "2024-12-22T15:13:33.366914",
          "2024-12-22T15:13:33.367122",
          "2024-12-22T15:13:33.367337",
          "2024-12-22T15:13:33.367550",
          "2024-12-22T15:14:08.171597",
          "2024-12-22T15:14:08.171838",
          "2024-12-22T15:14:08.172081",
          "2024-12-22T15:14:08.172285",
          "2024-12-22T15:14:08.172485",
          "2024-12-22T15:14:23.588073",
          "2024-12-22T15:14:23.588457",
          "2024-12-22T15:14:23.590985",
          "2024-12-22T15:14:23.591231",
          "2024-12-22T15:14:23.591456",
          "2024-12-22T15:14:58.406352",
          "2024-12-22T15:14:58.406586",
          "2024-12-22T15:14:58.406819",
          "2024-12-22T15:14:58.407023",
          "2024-12-22T15:14:58.407226",
          "2024-12-22T15:15:13.831392",
          "2024-12-22T15:15:13.831656",
          "2024-12-22T15:15:13.831897",
          "2024-12-22T15:15:13.832184",
          "2024-12-22T15:15:13.832434",
          "2024-12-22T15:15:48.616517",
          "2024-12-22T15:15:48.616740",
          "2024-12-22T15:15:48.616959",
          "2024-12-22T15:15:48.617162",
          "2024-12-22T15:15:48.617373",
          "2024-12-22T15:16:04.089137",
          "2024-12-22T15:16:04.089372",
          "2024-12-22T15:16:04.089586",
          "2024-12-22T15:16:04.089811",
          "2024-12-22T15:16:04.090023",
          "2024-12-22T15:16:38.828330",
          "2024-12-22T15:16:38.828574",
          "2024-12-22T15:16:38.828796",
          "2024-12-22T15:16:38.829021",
          "2024-12-22T15:16:38.829224",
          "2024-12-22T15:16:54.312260",
          "2024-12-22T15:16:54.312525",
          "2024-12-22T15:16:54.312741",
          "2024-12-22T15:16:54.312958",
          "2024-12-22T15:16:54.313162",
          "2024-12-22T15:17:29.147011",
          "2024-12-22T15:17:29.147232",
          "2024-12-22T15:17:29.147446",
          "2024-12-22T15:17:29.147643",
          "2024-12-22T15:17:29.147839",
          "2024-12-22T15:17:44.631678",
          "2024-12-22T15:17:44.631911",
          "2024-12-22T15:17:44.632116",
          "2024-12-22T15:17:44.632311",
          "2024-12-22T15:17:44.632506",
          "2024-12-22T15:18:19.397945",
          "2024-12-22T15:18:19.398358",
          "2024-12-22T15:18:19.398615",
          "2024-12-22T15:18:19.398830",
          "2024-12-22T15:18:19.399045",
          "2024-12-22T15:18:34.884507",
          "2024-12-22T15:18:34.884747",
          "2024-12-22T15:18:34.884960",
          "2024-12-22T15:18:34.885169",
          "2024-12-22T15:18:34.885368",
          "2024-12-22T15:19:09.604431",
          "2024-12-22T15:19:09.604660",
          "2024-12-22T15:19:09.604868",
          "2024-12-22T15:19:09.605118",
          "2024-12-22T15:19:09.605322",
          "2024-12-22T15:19:25.136297",
          "2024-12-22T15:19:25.136548",
          "2024-12-22T15:19:25.136774",
          "2024-12-22T15:19:25.137018",
          "2024-12-22T15:19:25.137247",
          "2024-12-22T15:19:59.871785",
          "2024-12-22T15:19:59.872066",
          "2024-12-22T15:19:59.872296",
          "2024-12-22T15:19:59.872502",
          "2024-12-22T15:19:59.872695",
          "2024-12-22T15:20:15.449340",
          "2024-12-22T15:20:15.449587",
          "2024-12-22T15:20:15.449803",
          "2024-12-22T15:20:15.450001",
          "2024-12-22T15:20:15.450204",
          "2024-12-22T15:20:50.119899",
          "2024-12-22T15:20:50.120119",
          "2024-12-22T15:20:50.120324",
          "2024-12-22T15:20:50.120627",
          "2024-12-22T15:20:50.120902",
          "2024-12-22T15:21:05.678918",
          "2024-12-22T15:21:05.679174",
          "2024-12-22T15:21:05.679644",
          "2024-12-22T15:21:05.679973",
          "2024-12-22T15:21:05.680224",
          "2024-12-22T15:21:40.341518",
          "2024-12-22T15:21:40.341904",
          "2024-12-22T15:21:40.342257",
          "2024-12-22T15:21:40.342624",
          "2024-12-22T15:21:40.342980",
          "2024-12-22T15:21:55.920788",
          "2024-12-22T15:21:55.921045",
          "2024-12-22T15:21:55.921265",
          "2024-12-22T15:21:55.921478",
          "2024-12-22T15:21:55.921693",
          "2024-12-22T15:22:30.552583",
          "2024-12-22T15:22:30.552819",
          "2024-12-22T15:22:30.553022",
          "2024-12-22T15:22:30.553237",
          "2024-12-22T15:22:30.553442",
          "2024-12-22T15:22:46.146524",
          "2024-12-22T15:22:46.146747",
          "2024-12-22T15:22:46.146965",
          "2024-12-22T15:22:46.147175",
          "2024-12-22T15:22:46.147379",
          "2024-12-22T15:23:20.786402",
          "2024-12-22T15:23:20.786622",
          "2024-12-22T15:23:20.787107",
          "2024-12-22T15:23:20.787383",
          "2024-12-22T15:23:20.787616",
          "2024-12-22T15:23:36.380561",
          "2024-12-22T15:23:36.380852",
          "2024-12-22T15:23:36.381085",
          "2024-12-22T15:23:36.381342",
          "2024-12-22T15:23:36.381575",
          "2024-12-22T15:24:11.160952",
          "2024-12-22T15:24:11.161197",
          "2024-12-22T15:24:11.161409",
          "2024-12-22T15:24:11.161807",
          "2024-12-22T15:24:11.162049",
          "2024-12-22T15:24:26.603347",
          "2024-12-22T15:24:26.603608",
          "2024-12-22T15:24:26.603846",
          "2024-12-22T15:24:26.604076",
          "2024-12-22T15:24:26.604297",
          "2024-12-22T15:25:01.405120",
          "2024-12-22T15:25:01.405514",
          "2024-12-22T15:25:01.405808",
          "2024-12-22T15:25:01.406246",
          "2024-12-22T15:25:01.406618",
          "2024-12-22T15:25:16.853188",
          "2024-12-22T15:25:16.853401",
          "2024-12-22T15:25:16.853608",
          "2024-12-22T15:25:16.853809",
          "2024-12-22T15:25:16.854012",
          "2024-12-22T15:25:51.693283",
          "2024-12-22T15:25:51.693630",
          "2024-12-22T15:25:51.693870",
          "2024-12-22T15:25:51.694106",
          "2024-12-22T15:25:51.694375",
          "2024-12-22T15:26:07.156161",
          "2024-12-22T15:26:07.156567",
          "2024-12-22T15:26:07.156845",
          "2024-12-22T15:26:07.157100",
          "2024-12-22T15:26:07.157334",
          "2024-12-22T15:26:41.938621",
          "2024-12-22T15:26:41.938876",
          "2024-12-22T15:26:41.939100",
          "2024-12-22T15:26:41.939302",
          "2024-12-22T15:26:41.939514",
          "2024-12-22T15:26:57.384096",
          "2024-12-22T15:26:57.384342",
          "2024-12-22T15:26:57.384576",
          "2024-12-22T15:26:57.384821",
          "2024-12-22T15:26:57.385042",
          "2024-12-22T15:27:32.157751",
          "2024-12-22T15:27:32.157973",
          "2024-12-22T15:27:32.158169",
          "2024-12-22T15:27:32.158363",
          "2024-12-22T15:27:32.158569",
          "2024-12-22T15:27:47.604213",
          "2024-12-22T15:27:47.604458",
          "2024-12-22T15:27:47.604676",
          "2024-12-22T15:27:47.604893",
          "2024-12-22T15:27:47.605113",
          "2024-12-22T15:28:22.390826",
          "2024-12-22T15:28:22.391088",
          "2024-12-22T15:28:22.391320",
          "2024-12-22T15:28:22.391552",
          "2024-12-22T15:28:22.391788",
          "2024-12-22T15:28:37.829003",
          "2024-12-22T15:28:37.829271",
          "2024-12-22T15:28:37.829501",
          "2024-12-22T15:28:37.829721",
          "2024-12-22T15:28:37.829953",
          "2024-12-22T15:29:12.717631",
          "2024-12-22T15:29:12.717862",
          "2024-12-22T15:29:12.718073",
          "2024-12-22T15:29:12.718270",
          "2024-12-22T15:29:12.718466",
          "2024-12-22T15:29:28.102161",
          "2024-12-22T15:29:28.102388",
          "2024-12-22T15:29:28.102596",
          "2024-12-22T15:29:28.102810",
          "2024-12-22T15:29:28.103023",
          "2024-12-22T15:30:02.990577",
          "2024-12-22T15:30:02.990881",
          "2024-12-22T15:30:02.991363",
          "2024-12-22T15:30:02.991623",
          "2024-12-22T15:30:02.991834",
          "2024-12-22T15:30:18.334794",
          "2024-12-22T15:30:18.335009",
          "2024-12-22T15:30:18.335211",
          "2024-12-22T15:30:18.335416",
          "2024-12-22T15:30:18.335620",
          "2024-12-22T15:30:53.227033",
          "2024-12-22T15:30:53.227277",
          "2024-12-22T15:30:53.227486",
          "2024-12-22T15:30:53.227684",
          "2024-12-22T15:30:53.227881",
          "2024-12-22T15:31:08.551135",
          "2024-12-22T15:31:08.551377",
          "2024-12-22T15:31:08.551601",
          "2024-12-22T15:31:08.551821",
          "2024-12-22T15:31:08.552117",
          "2024-12-22T15:31:43.524731",
          "2024-12-22T15:31:43.525023",
          "2024-12-22T15:31:43.525275",
          "2024-12-22T15:31:43.525513",
          "2024-12-22T15:31:43.525750",
          "2024-12-22T15:31:58.880038",
          "2024-12-22T15:31:58.880261",
          "2024-12-22T15:31:58.880465",
          "2024-12-22T15:31:58.880665",
          "2024-12-22T15:31:58.880871",
          "2024-12-22T15:32:33.778702",
          "2024-12-22T15:32:33.778949",
          "2024-12-22T15:32:33.779166",
          "2024-12-22T15:32:33.779367",
          "2024-12-22T15:32:33.779587",
          "2024-12-22T15:32:49.110262",
          "2024-12-22T15:32:49.110488",
          "2024-12-22T15:32:49.110689",
          "2024-12-22T15:32:49.110899",
          "2024-12-22T15:32:49.111100",
          "2024-12-22T15:33:23.998160",
          "2024-12-22T15:33:23.998411",
          "2024-12-22T15:33:23.998639",
          "2024-12-22T15:33:23.998876",
          "2024-12-22T15:33:23.999100",
          "2024-12-22T15:33:39.332175",
          "2024-12-22T15:33:39.332407",
          "2024-12-22T15:33:39.332605",
          "2024-12-22T15:33:39.332819",
          "2024-12-22T15:33:39.333020",
          "2024-12-22T15:34:14.212431",
          "2024-12-22T15:34:14.212651",
          "2024-12-22T15:34:14.212848",
          "2024-12-22T15:34:14.213040",
          "2024-12-22T15:34:14.213243",
          "2024-12-22T15:34:29.612624",
          "2024-12-22T15:34:29.612844",
          "2024-12-22T15:34:29.613048",
          "2024-12-22T15:34:29.613246",
          "2024-12-22T15:34:29.613473",
          "2024-12-22T15:35:04.417946",
          "2024-12-22T15:35:04.418176",
          "2024-12-22T15:35:04.418375",
          "2024-12-22T15:35:04.418580",
          "2024-12-22T15:35:04.418780",
          "2024-12-22T15:35:19.855424",
          "2024-12-22T15:35:19.855662",
          "2024-12-22T15:35:19.855869",
          "2024-12-22T15:35:19.856064",
          "2024-12-22T15:35:19.856254",
          "2024-12-22T15:35:54.659438",
          "2024-12-22T15:35:54.659677",
          "2024-12-22T15:35:54.659889",
          "2024-12-22T15:35:54.660087",
          "2024-12-22T15:35:54.660286",
          "2024-12-22T15:36:10.101885",
          "2024-12-22T15:36:10.102276",
          "2024-12-22T15:36:10.102515",
          "2024-12-22T15:36:10.102814",
          "2024-12-22T15:36:10.103050",
          "2024-12-22T15:36:44.865763",
          "2024-12-22T15:36:44.865979",
          "2024-12-22T15:36:44.866178",
          "2024-12-22T15:36:44.866390",
          "2024-12-22T15:36:44.866587",
          "2024-12-22T15:37:00.314470",
          "2024-12-22T15:37:00.314690",
          "2024-12-22T15:37:00.314918",
          "2024-12-22T15:37:00.315118",
          "2024-12-22T15:37:00.315307",
          "2024-12-22T15:37:35.083529",
          "2024-12-22T15:37:35.083756",
          "2024-12-22T15:37:35.083961",
          "2024-12-22T15:37:35.084199",
          "2024-12-22T15:37:35.084398",
          "2024-12-22T15:37:50.563200",
          "2024-12-22T15:37:50.563435",
          "2024-12-22T15:37:50.563652",
          "2024-12-22T15:37:50.563875",
          "2024-12-22T15:37:50.564080",
          "2024-12-22T15:38:25.356457",
          "2024-12-22T15:38:25.357007",
          "2024-12-22T15:38:25.357265",
          "2024-12-22T15:38:25.357465",
          "2024-12-22T15:38:25.357764",
          "2024-12-22T15:38:40.858913",
          "2024-12-22T15:38:40.859133",
          "2024-12-22T15:38:40.859332",
          "2024-12-22T15:38:40.859543",
          "2024-12-22T15:38:40.859745",
          "2024-12-22T15:39:15.597585",
          "2024-12-22T15:39:15.598556",
          "2024-12-22T15:39:15.599160",
          "2024-12-22T15:39:15.599453",
          "2024-12-22T15:39:15.599692",
          "2024-12-22T15:39:31.078888",
          "2024-12-22T15:39:31.079108",
          "2024-12-22T15:39:31.079344",
          "2024-12-22T15:39:31.079541",
          "2024-12-22T15:39:31.079739",
          "2024-12-22T15:40:05.823258",
          "2024-12-22T15:40:05.823830",
          "2024-12-22T15:40:05.824165",
          "2024-12-22T15:40:05.824573",
          "2024-12-22T15:40:05.824824",
          "2024-12-22T15:40:21.327837",
          "2024-12-22T15:40:21.328063",
          "2024-12-22T15:40:21.328270",
          "2024-12-22T15:40:21.328491",
          "2024-12-22T15:40:21.328693",
          "2024-12-22T15:40:56.041178",
          "2024-12-22T15:40:56.041445",
          "2024-12-22T15:40:56.041660",
          "2024-12-22T15:40:56.041885",
          "2024-12-22T15:40:56.042089",
          "2024-12-22T15:41:11.578528",
          "2024-12-22T15:41:11.578752",
          "2024-12-22T15:41:11.578953",
          "2024-12-22T15:41:11.579155",
          "2024-12-22T15:41:11.579353",
          "2024-12-22T15:41:46.311151",
          "2024-12-22T15:41:46.311407",
          "2024-12-22T15:41:46.311647",
          "2024-12-22T15:41:46.311882",
          "2024-12-22T15:41:46.312108",
          "2024-12-22T15:42:01.892216",
          "2024-12-22T15:42:01.892458",
          "2024-12-22T15:42:01.892673",
          "2024-12-22T15:42:01.893018",
          "2024-12-22T15:42:01.893243",
          "2024-12-22T15:42:36.554937",
          "2024-12-22T15:42:36.555160",
          "2024-12-22T15:42:36.555362",
          "2024-12-22T15:42:36.555560",
          "2024-12-22T15:42:36.555793",
          "2024-12-22T15:42:52.133154",
          "2024-12-22T15:42:52.133475",
          "2024-12-22T15:42:52.133726",
          "2024-12-22T15:42:52.133963",
          "2024-12-22T15:42:52.134239",
          "2024-12-22T15:43:26.782134",
          "2024-12-22T15:43:26.782464",
          "2024-12-22T15:43:26.782734",
          "2024-12-22T15:43:26.782981",
          "2024-12-22T15:43:26.783219",
          "2024-12-22T15:43:42.356510",
          "2024-12-22T15:43:42.356753",
          "2024-12-22T15:43:42.356958",
          "2024-12-22T15:43:42.357158",
          "2024-12-22T15:43:42.357351",
          "2024-12-22T15:44:17.092587",
          "2024-12-22T15:44:17.092815",
          "2024-12-22T15:44:17.093025",
          "2024-12-22T15:44:17.093227",
          "2024-12-22T15:44:17.093441",
          "2024-12-22T15:44:32.725774",
          "2024-12-22T15:44:32.726048",
          "2024-12-22T15:44:32.726271",
          "2024-12-22T15:44:32.726523",
          "2024-12-22T15:44:32.726756",
          "2024-12-22T15:45:07.343164",
          "2024-12-22T15:45:07.343429",
          "2024-12-22T15:45:07.343671",
          "2024-12-22T15:45:07.343914",
          "2024-12-22T15:45:07.344139",
          "2024-12-22T15:45:22.948813",
          "2024-12-22T15:45:22.949124",
          "2024-12-22T15:45:22.949347",
          "2024-12-22T15:45:22.949555",
          "2024-12-22T15:45:22.949754",
          "2024-12-22T15:45:57.618677",
          "2024-12-22T15:45:57.618900",
          "2024-12-22T15:45:57.619116",
          "2024-12-22T15:45:57.619315",
          "2024-12-22T15:45:57.619515",
          "2024-12-22T15:46:13.167808",
          "2024-12-22T15:46:13.168051",
          "2024-12-22T15:46:13.168374",
          "2024-12-22T15:46:13.168613",
          "2024-12-22T15:46:13.169596",
          "2024-12-22T15:46:47.825849",
          "2024-12-22T15:46:47.826089",
          "2024-12-22T15:46:47.826304",
          "2024-12-22T15:46:47.826514",
          "2024-12-22T15:46:47.826710",
          "2024-12-22T15:47:03.383321",
          "2024-12-22T15:47:03.383549",
          "2024-12-22T15:47:03.383930",
          "2024-12-22T15:47:03.384166",
          "2024-12-22T15:47:03.384403",
          "2024-12-22T15:47:38.058858",
          "2024-12-22T15:47:38.059140",
          "2024-12-22T15:47:38.059379",
          "2024-12-22T15:47:38.059605",
          "2024-12-22T15:47:38.059845",
          "2024-12-22T15:47:53.629477",
          "2024-12-22T15:47:53.629774",
          "2024-12-22T15:47:53.630074",
          "2024-12-22T15:47:53.630330",
          "2024-12-22T15:47:53.630593",
          "2024-12-22T15:48:09.074521",
          "2024-12-22T15:48:09.074749",
          "2024-12-22T15:48:09.074957"
         ],
         "xaxis": "x",
         "y": [
          1,
          4,
          2,
          3,
          8,
          9,
          5,
          6,
          7,
          15,
          16,
          17,
          10,
          11,
          12,
          13,
          14,
          18,
          19,
          20,
          21,
          22,
          23,
          24,
          25,
          26,
          27,
          28,
          29,
          30,
          31,
          32,
          33,
          34,
          35,
          36,
          37,
          38,
          39,
          40,
          41,
          42,
          43,
          44,
          45,
          46,
          47,
          48,
          49,
          50,
          51,
          52,
          53,
          54,
          55,
          56,
          57,
          58,
          59,
          60,
          61,
          62,
          63,
          64,
          65,
          66,
          67,
          68,
          69,
          70,
          71,
          72,
          73,
          74,
          75,
          76,
          77,
          78,
          79,
          80,
          81,
          82,
          83,
          84,
          85,
          86,
          87,
          88,
          89,
          90,
          91,
          92,
          93,
          94,
          95,
          96,
          97,
          98,
          99,
          100,
          101,
          102,
          103,
          104,
          105,
          106,
          107,
          108,
          109,
          110,
          111,
          112,
          113,
          114,
          115,
          116,
          117,
          118,
          119,
          120,
          121,
          122,
          123,
          124,
          125,
          126,
          127,
          128,
          129,
          130,
          131,
          132,
          133,
          134,
          135,
          136,
          137,
          138,
          139,
          140,
          141,
          142,
          143,
          144,
          145,
          146,
          147,
          148,
          149,
          150,
          151,
          152,
          153,
          154,
          155,
          156,
          157,
          158,
          159,
          160,
          161,
          162,
          163,
          164,
          165,
          166,
          167,
          168,
          169,
          170,
          171,
          172,
          173,
          174,
          175,
          176,
          177,
          178,
          179,
          180,
          181,
          182,
          183,
          184,
          185,
          186,
          187,
          188,
          189,
          190,
          191,
          192,
          193,
          194,
          195,
          196,
          197,
          198,
          199,
          200,
          201,
          202,
          203,
          204,
          205,
          206,
          207,
          208,
          209,
          210,
          211,
          212,
          213,
          214,
          215,
          216,
          217,
          218,
          219,
          220,
          221,
          222,
          223,
          224,
          225,
          226,
          227,
          228,
          229,
          230,
          231,
          232,
          233,
          234,
          235,
          236,
          237,
          238,
          239,
          240,
          241,
          242,
          243,
          244,
          245,
          246,
          247,
          248,
          249,
          250,
          251,
          252,
          253,
          254,
          255,
          256,
          257,
          258,
          259,
          260,
          261,
          262,
          263,
          264,
          265,
          266,
          267,
          268,
          269,
          270,
          271,
          272,
          273,
          274,
          275,
          276,
          277,
          278,
          279,
          280,
          281,
          282,
          283,
          284,
          285,
          286,
          287,
          288,
          289,
          290,
          291,
          292,
          293,
          294,
          295,
          296,
          297,
          298,
          299,
          300,
          301,
          302,
          303,
          304,
          305,
          306,
          307,
          308,
          309,
          310,
          311,
          312,
          313,
          314,
          315,
          316,
          317,
          318,
          319,
          320,
          321,
          322,
          323,
          324,
          325,
          326,
          327,
          328,
          329,
          330,
          331,
          332,
          333,
          334,
          335,
          336,
          337,
          338,
          339,
          340,
          341,
          342,
          343,
          344,
          345,
          346,
          347,
          348,
          349,
          350,
          351,
          352,
          353,
          354,
          355,
          356,
          357,
          358,
          359,
          360,
          361,
          362,
          363,
          364,
          365,
          366,
          367,
          368,
          369,
          370,
          371,
          372,
          373,
          374,
          375,
          376,
          377,
          378,
          379,
          380,
          381,
          382,
          383,
          384,
          385,
          386,
          387,
          388,
          389,
          390,
          391,
          392,
          393,
          394,
          395,
          396,
          397,
          398,
          399,
          400,
          401,
          402,
          403,
          404,
          405,
          406,
          407,
          408,
          409,
          410,
          411,
          412,
          413,
          414,
          415,
          416,
          417,
          418,
          419,
          420,
          421,
          422,
          423,
          424,
          425,
          426,
          427,
          428,
          429,
          430,
          431,
          432,
          433,
          434,
          435,
          436,
          437,
          438,
          439,
          440,
          441,
          442,
          443,
          444,
          445,
          446,
          447,
          448,
          449,
          450,
          451,
          452,
          453,
          454,
          455,
          456,
          457,
          458,
          459,
          460,
          461,
          462,
          463,
          464,
          465,
          466,
          467,
          468,
          469,
          470,
          471,
          472,
          473,
          474,
          475,
          476,
          477,
          478,
          479,
          480,
          481,
          482,
          483,
          484,
          485,
          486,
          487,
          488,
          489,
          490,
          491,
          492,
          493,
          494,
          495,
          496,
          497,
          498,
          499,
          500
         ],
         "yaxis": "y"
        }
       ],
       "layout": {
        "hovermode": "closest",
        "legend": {
         "title": {
          "text": "State"
         },
         "tracegroupgap": 0
        },
        "margin": {
         "b": 40,
         "l": 40,
         "r": 40,
         "t": 40
        },
        "template": {
         "data": {
          "bar": [
           {
            "error_x": {
             "color": "#f2f5fa"
            },
            "error_y": {
             "color": "#f2f5fa"
            },
            "marker": {
             "line": {
              "color": "rgb(17,17,17)",
              "width": 0.5
             },
             "pattern": {
              "fillmode": "overlay",
              "size": 10,
              "solidity": 0.2
             }
            },
            "type": "bar"
           }
          ],
          "barpolar": [
           {
            "marker": {
             "line": {
              "color": "rgb(17,17,17)",
              "width": 0.5
             },
             "pattern": {
              "fillmode": "overlay",
              "size": 10,
              "solidity": 0.2
             }
            },
            "type": "barpolar"
           }
          ],
          "carpet": [
           {
            "aaxis": {
             "endlinecolor": "#A2B1C6",
             "gridcolor": "#506784",
             "linecolor": "#506784",
             "minorgridcolor": "#506784",
             "startlinecolor": "#A2B1C6"
            },
            "baxis": {
             "endlinecolor": "#A2B1C6",
             "gridcolor": "#506784",
             "linecolor": "#506784",
             "minorgridcolor": "#506784",
             "startlinecolor": "#A2B1C6"
            },
            "type": "carpet"
           }
          ],
          "choropleth": [
           {
            "colorbar": {
             "outlinewidth": 0,
             "ticks": ""
            },
            "type": "choropleth"
           }
          ],
          "contour": [
           {
            "colorbar": {
             "outlinewidth": 0,
             "ticks": ""
            },
            "colorscale": [
             [
              0,
              "#0d0887"
             ],
             [
              0.1111111111111111,
              "#46039f"
             ],
             [
              0.2222222222222222,
              "#7201a8"
             ],
             [
              0.3333333333333333,
              "#9c179e"
             ],
             [
              0.4444444444444444,
              "#bd3786"
             ],
             [
              0.5555555555555556,
              "#d8576b"
             ],
             [
              0.6666666666666666,
              "#ed7953"
             ],
             [
              0.7777777777777778,
              "#fb9f3a"
             ],
             [
              0.8888888888888888,
              "#fdca26"
             ],
             [
              1,
              "#f0f921"
             ]
            ],
            "type": "contour"
           }
          ],
          "contourcarpet": [
           {
            "colorbar": {
             "outlinewidth": 0,
             "ticks": ""
            },
            "type": "contourcarpet"
           }
          ],
          "heatmap": [
           {
            "colorbar": {
             "outlinewidth": 0,
             "ticks": ""
            },
            "colorscale": [
             [
              0,
              "#0d0887"
             ],
             [
              0.1111111111111111,
              "#46039f"
             ],
             [
              0.2222222222222222,
              "#7201a8"
             ],
             [
              0.3333333333333333,
              "#9c179e"
             ],
             [
              0.4444444444444444,
              "#bd3786"
             ],
             [
              0.5555555555555556,
              "#d8576b"
             ],
             [
              0.6666666666666666,
              "#ed7953"
             ],
             [
              0.7777777777777778,
              "#fb9f3a"
             ],
             [
              0.8888888888888888,
              "#fdca26"
             ],
             [
              1,
              "#f0f921"
             ]
            ],
            "type": "heatmap"
           }
          ],
          "heatmapgl": [
           {
            "colorbar": {
             "outlinewidth": 0,
             "ticks": ""
            },
            "colorscale": [
             [
              0,
              "#0d0887"
             ],
             [
              0.1111111111111111,
              "#46039f"
             ],
             [
              0.2222222222222222,
              "#7201a8"
             ],
             [
              0.3333333333333333,
              "#9c179e"
             ],
             [
              0.4444444444444444,
              "#bd3786"
             ],
             [
              0.5555555555555556,
              "#d8576b"
             ],
             [
              0.6666666666666666,
              "#ed7953"
             ],
             [
              0.7777777777777778,
              "#fb9f3a"
             ],
             [
              0.8888888888888888,
              "#fdca26"
             ],
             [
              1,
              "#f0f921"
             ]
            ],
            "type": "heatmapgl"
           }
          ],
          "histogram": [
           {
            "marker": {
             "pattern": {
              "fillmode": "overlay",
              "size": 10,
              "solidity": 0.2
             }
            },
            "type": "histogram"
           }
          ],
          "histogram2d": [
           {
            "colorbar": {
             "outlinewidth": 0,
             "ticks": ""
            },
            "colorscale": [
             [
              0,
              "#0d0887"
             ],
             [
              0.1111111111111111,
              "#46039f"
             ],
             [
              0.2222222222222222,
              "#7201a8"
             ],
             [
              0.3333333333333333,
              "#9c179e"
             ],
             [
              0.4444444444444444,
              "#bd3786"
             ],
             [
              0.5555555555555556,
              "#d8576b"
             ],
             [
              0.6666666666666666,
              "#ed7953"
             ],
             [
              0.7777777777777778,
              "#fb9f3a"
             ],
             [
              0.8888888888888888,
              "#fdca26"
             ],
             [
              1,
              "#f0f921"
             ]
            ],
            "type": "histogram2d"
           }
          ],
          "histogram2dcontour": [
           {
            "colorbar": {
             "outlinewidth": 0,
             "ticks": ""
            },
            "colorscale": [
             [
              0,
              "#0d0887"
             ],
             [
              0.1111111111111111,
              "#46039f"
             ],
             [
              0.2222222222222222,
              "#7201a8"
             ],
             [
              0.3333333333333333,
              "#9c179e"
             ],
             [
              0.4444444444444444,
              "#bd3786"
             ],
             [
              0.5555555555555556,
              "#d8576b"
             ],
             [
              0.6666666666666666,
              "#ed7953"
             ],
             [
              0.7777777777777778,
              "#fb9f3a"
             ],
             [
              0.8888888888888888,
              "#fdca26"
             ],
             [
              1,
              "#f0f921"
             ]
            ],
            "type": "histogram2dcontour"
           }
          ],
          "mesh3d": [
           {
            "colorbar": {
             "outlinewidth": 0,
             "ticks": ""
            },
            "type": "mesh3d"
           }
          ],
          "parcoords": [
           {
            "line": {
             "colorbar": {
              "outlinewidth": 0,
              "ticks": ""
             }
            },
            "type": "parcoords"
           }
          ],
          "pie": [
           {
            "automargin": true,
            "type": "pie"
           }
          ],
          "scatter": [
           {
            "marker": {
             "line": {
              "color": "#283442"
             }
            },
            "type": "scatter"
           }
          ],
          "scatter3d": [
           {
            "line": {
             "colorbar": {
              "outlinewidth": 0,
              "ticks": ""
             }
            },
            "marker": {
             "colorbar": {
              "outlinewidth": 0,
              "ticks": ""
             }
            },
            "type": "scatter3d"
           }
          ],
          "scattercarpet": [
           {
            "marker": {
             "colorbar": {
              "outlinewidth": 0,
              "ticks": ""
             }
            },
            "type": "scattercarpet"
           }
          ],
          "scattergeo": [
           {
            "marker": {
             "colorbar": {
              "outlinewidth": 0,
              "ticks": ""
             }
            },
            "type": "scattergeo"
           }
          ],
          "scattergl": [
           {
            "marker": {
             "line": {
              "color": "#283442"
             }
            },
            "type": "scattergl"
           }
          ],
          "scattermapbox": [
           {
            "marker": {
             "colorbar": {
              "outlinewidth": 0,
              "ticks": ""
             }
            },
            "type": "scattermapbox"
           }
          ],
          "scatterpolar": [
           {
            "marker": {
             "colorbar": {
              "outlinewidth": 0,
              "ticks": ""
             }
            },
            "type": "scatterpolar"
           }
          ],
          "scatterpolargl": [
           {
            "marker": {
             "colorbar": {
              "outlinewidth": 0,
              "ticks": ""
             }
            },
            "type": "scatterpolargl"
           }
          ],
          "scatterternary": [
           {
            "marker": {
             "colorbar": {
              "outlinewidth": 0,
              "ticks": ""
             }
            },
            "type": "scatterternary"
           }
          ],
          "surface": [
           {
            "colorbar": {
             "outlinewidth": 0,
             "ticks": ""
            },
            "colorscale": [
             [
              0,
              "#0d0887"
             ],
             [
              0.1111111111111111,
              "#46039f"
             ],
             [
              0.2222222222222222,
              "#7201a8"
             ],
             [
              0.3333333333333333,
              "#9c179e"
             ],
             [
              0.4444444444444444,
              "#bd3786"
             ],
             [
              0.5555555555555556,
              "#d8576b"
             ],
             [
              0.6666666666666666,
              "#ed7953"
             ],
             [
              0.7777777777777778,
              "#fb9f3a"
             ],
             [
              0.8888888888888888,
              "#fdca26"
             ],
             [
              1,
              "#f0f921"
             ]
            ],
            "type": "surface"
           }
          ],
          "table": [
           {
            "cells": {
             "fill": {
              "color": "#506784"
             },
             "line": {
              "color": "rgb(17,17,17)"
             }
            },
            "header": {
             "fill": {
              "color": "#2a3f5f"
             },
             "line": {
              "color": "rgb(17,17,17)"
             }
            },
            "type": "table"
           }
          ]
         },
         "layout": {
          "annotationdefaults": {
           "arrowcolor": "#f2f5fa",
           "arrowhead": 0,
           "arrowwidth": 1
          },
          "autotypenumbers": "strict",
          "coloraxis": {
           "colorbar": {
            "outlinewidth": 0,
            "ticks": ""
           }
          },
          "colorscale": {
           "diverging": [
            [
             0,
             "#8e0152"
            ],
            [
             0.1,
             "#c51b7d"
            ],
            [
             0.2,
             "#de77ae"
            ],
            [
             0.3,
             "#f1b6da"
            ],
            [
             0.4,
             "#fde0ef"
            ],
            [
             0.5,
             "#f7f7f7"
            ],
            [
             0.6,
             "#e6f5d0"
            ],
            [
             0.7,
             "#b8e186"
            ],
            [
             0.8,
             "#7fbc41"
            ],
            [
             0.9,
             "#4d9221"
            ],
            [
             1,
             "#276419"
            ]
           ],
           "sequential": [
            [
             0,
             "#0d0887"
            ],
            [
             0.1111111111111111,
             "#46039f"
            ],
            [
             0.2222222222222222,
             "#7201a8"
            ],
            [
             0.3333333333333333,
             "#9c179e"
            ],
            [
             0.4444444444444444,
             "#bd3786"
            ],
            [
             0.5555555555555556,
             "#d8576b"
            ],
            [
             0.6666666666666666,
             "#ed7953"
            ],
            [
             0.7777777777777778,
             "#fb9f3a"
            ],
            [
             0.8888888888888888,
             "#fdca26"
            ],
            [
             1,
             "#f0f921"
            ]
           ],
           "sequentialminus": [
            [
             0,
             "#0d0887"
            ],
            [
             0.1111111111111111,
             "#46039f"
            ],
            [
             0.2222222222222222,
             "#7201a8"
            ],
            [
             0.3333333333333333,
             "#9c179e"
            ],
            [
             0.4444444444444444,
             "#bd3786"
            ],
            [
             0.5555555555555556,
             "#d8576b"
            ],
            [
             0.6666666666666666,
             "#ed7953"
            ],
            [
             0.7777777777777778,
             "#fb9f3a"
            ],
            [
             0.8888888888888888,
             "#fdca26"
            ],
            [
             1,
             "#f0f921"
            ]
           ]
          },
          "colorway": [
           "#636efa",
           "#EF553B",
           "#00cc96",
           "#ab63fa",
           "#FFA15A",
           "#19d3f3",
           "#FF6692",
           "#B6E880",
           "#FF97FF",
           "#FECB52"
          ],
          "font": {
           "color": "#f2f5fa"
          },
          "geo": {
           "bgcolor": "rgb(17,17,17)",
           "lakecolor": "rgb(17,17,17)",
           "landcolor": "rgb(17,17,17)",
           "showlakes": true,
           "showland": true,
           "subunitcolor": "#506784"
          },
          "hoverlabel": {
           "align": "left"
          },
          "hovermode": "closest",
          "mapbox": {
           "style": "dark"
          },
          "paper_bgcolor": "rgb(17,17,17)",
          "plot_bgcolor": "rgb(17,17,17)",
          "polar": {
           "angularaxis": {
            "gridcolor": "#506784",
            "linecolor": "#506784",
            "ticks": ""
           },
           "bgcolor": "rgb(17,17,17)",
           "radialaxis": {
            "gridcolor": "#506784",
            "linecolor": "#506784",
            "ticks": ""
           }
          },
          "scene": {
           "xaxis": {
            "backgroundcolor": "rgb(17,17,17)",
            "gridcolor": "#506784",
            "gridwidth": 2,
            "linecolor": "#506784",
            "showbackground": true,
            "ticks": "",
            "zerolinecolor": "#C8D4E3"
           },
           "yaxis": {
            "backgroundcolor": "rgb(17,17,17)",
            "gridcolor": "#506784",
            "gridwidth": 2,
            "linecolor": "#506784",
            "showbackground": true,
            "ticks": "",
            "zerolinecolor": "#C8D4E3"
           },
           "zaxis": {
            "backgroundcolor": "rgb(17,17,17)",
            "gridcolor": "#506784",
            "gridwidth": 2,
            "linecolor": "#506784",
            "showbackground": true,
            "ticks": "",
            "zerolinecolor": "#C8D4E3"
           }
          },
          "shapedefaults": {
           "line": {
            "color": "#f2f5fa"
           }
          },
          "sliderdefaults": {
           "bgcolor": "#C8D4E3",
           "bordercolor": "rgb(17,17,17)",
           "borderwidth": 1,
           "tickwidth": 0
          },
          "ternary": {
           "aaxis": {
            "gridcolor": "#506784",
            "linecolor": "#506784",
            "ticks": ""
           },
           "baxis": {
            "gridcolor": "#506784",
            "linecolor": "#506784",
            "ticks": ""
           },
           "bgcolor": "rgb(17,17,17)",
           "caxis": {
            "gridcolor": "#506784",
            "linecolor": "#506784",
            "ticks": ""
           }
          },
          "title": {
           "x": 0.05
          },
          "updatemenudefaults": {
           "bgcolor": "#506784",
           "borderwidth": 0
          },
          "xaxis": {
           "automargin": true,
           "gridcolor": "#283442",
           "linecolor": "#506784",
           "ticks": "",
           "title": {
            "standoff": 15
           },
           "zerolinecolor": "#283442",
           "zerolinewidth": 2
          },
          "yaxis": {
           "automargin": true,
           "gridcolor": "#283442",
           "linecolor": "#506784",
           "ticks": "",
           "title": {
            "standoff": 15
           },
           "zerolinecolor": "#283442",
           "zerolinewidth": 2
          }
         }
        },
        "title": {
         "text": "Message Transitions Over Time"
        },
        "xaxis": {
         "anchor": "y",
         "domain": [
          0,
          1
         ],
         "showgrid": true,
         "title": {
          "text": "Timestamp"
         }
        },
        "yaxis": {
         "anchor": "x",
         "domain": [
          0,
          1
         ],
         "showgrid": true,
         "title": {
          "text": "State"
         }
        }
       }
      }
     },
     "metadata": {},
     "output_type": "display_data"
    },
    {
     "data": {
      "application/vnd.plotly.v1+json": {
       "config": {
        "plotlyServerURL": "https://plot.ly"
       },
       "data": [
        {
         "hovertemplate": "State=pending<br>Time=%{x}<br>message_id=%{y}<extra></extra>",
         "legendgroup": "pending",
         "line": {
          "color": "#636efa",
          "dash": "solid"
         },
         "marker": {
          "symbol": "circle"
         },
         "mode": "lines+markers",
         "name": "pending",
         "showlegend": true,
         "type": "scattergl",
         "x": [
          "2024-12-31T11:24:41.606352",
          "2024-12-31T11:24:41.652944",
          "2024-12-31T11:24:41.692515",
          "2024-12-31T11:24:41.705792",
          "2024-12-31T11:24:41.736549",
          "2024-12-31T11:24:41.770639",
          "2024-12-31T11:24:41.794443",
          "2024-12-31T11:24:41.812282",
          "2024-12-31T11:24:41.878225",
          "2024-12-31T11:24:41.982260",
          "2024-12-31T11:24:41.996401",
          "2024-12-31T11:24:42.040991",
          "2024-12-31T11:24:42.092325",
          "2024-12-31T11:24:42.137776",
          "2024-12-31T11:24:42.143575",
          "2024-12-31T11:24:42.198394",
          "2024-12-31T11:24:42.274508",
          "2024-12-31T11:24:42.294880",
          "2024-12-31T11:24:42.320492",
          "2024-12-31T11:24:42.420789",
          "2024-12-31T11:24:42.428100",
          "2024-12-31T11:24:42.467687",
          "2024-12-31T11:24:42.469886",
          "2024-12-31T11:24:42.592976",
          "2024-12-31T11:24:42.636754",
          "2024-12-31T11:24:42.662207",
          "2024-12-31T11:24:42.746441",
          "2024-12-31T11:24:42.812189",
          "2024-12-31T11:24:46.516947",
          "2024-12-31T11:24:47.065940",
          "2024-12-31T11:24:47.133279",
          "2024-12-31T11:24:47.146905",
          "2024-12-31T11:24:47.300821",
          "2024-12-31T11:24:47.306766",
          "2024-12-31T11:24:47.437104",
          "2024-12-31T11:24:47.494970",
          "2024-12-31T11:24:47.534180",
          "2024-12-31T11:24:47.581267",
          "2024-12-31T11:24:47.734061",
          "2024-12-31T11:24:47.737275",
          "2024-12-31T11:24:47.747870",
          "2024-12-31T11:24:47.848520",
          "2024-12-31T11:24:47.911137",
          "2024-12-31T11:24:47.913175",
          "2024-12-31T11:24:47.953977",
          "2024-12-31T11:24:47.959242",
          "2024-12-31T11:24:47.995820",
          "2024-12-31T11:24:47.999745",
          "2024-12-31T11:24:48.024078",
          "2024-12-31T11:24:48.031520",
          "2024-12-31T11:24:48.117964",
          "2024-12-31T11:24:48.261691",
          "2024-12-31T11:24:48.329313",
          "2024-12-31T11:24:48.417696",
          "2024-12-31T11:24:48.535369",
          "2024-12-31T11:24:48.708660",
          "2024-12-31T11:24:51.961841",
          "2024-12-31T11:24:52.403499",
          "2024-12-31T11:24:52.478082",
          "2024-12-31T11:24:52.551238",
          "2024-12-31T11:24:52.637547",
          "2024-12-31T11:24:52.772382",
          "2024-12-31T11:24:52.990851",
          "2024-12-31T11:24:53.019445",
          "2024-12-31T11:24:53.113152",
          "2024-12-31T11:24:53.115563",
          "2024-12-31T11:24:53.194160",
          "2024-12-31T11:24:53.257474",
          "2024-12-31T11:24:53.485920",
          "2024-12-31T11:24:53.554087",
          "2024-12-31T11:24:53.584117",
          "2024-12-31T11:24:53.662571",
          "2024-12-31T11:24:53.672599",
          "2024-12-31T11:24:53.714735",
          "2024-12-31T11:24:53.725778",
          "2024-12-31T11:24:53.835962",
          "2024-12-31T11:24:53.926793",
          "2024-12-31T11:24:53.935998",
          "2024-12-31T11:24:53.957130",
          "2024-12-31T11:24:54.103693",
          "2024-12-31T11:24:54.138065",
          "2024-12-31T11:24:54.148432",
          "2024-12-31T11:24:54.175924",
          "2024-12-31T11:24:54.503196",
          "2024-12-31T11:24:57.468337",
          "2024-12-31T11:24:58.221846",
          "2024-12-31T11:24:58.224602",
          "2024-12-31T11:24:58.318696",
          "2024-12-31T11:24:58.486340",
          "2024-12-31T11:24:58.497999",
          "2024-12-31T11:24:58.572275",
          "2024-12-31T11:24:58.601988",
          "2024-12-31T11:24:58.669628",
          "2024-12-31T11:24:58.761746",
          "2024-12-31T11:24:59.021253",
          "2024-12-31T11:24:59.123789",
          "2024-12-31T11:24:59.187869",
          "2024-12-31T11:24:59.208344",
          "2024-12-31T11:24:59.241948",
          "2024-12-31T11:24:59.302665",
          "2024-12-31T11:24:59.339201",
          "2024-12-31T11:24:59.395498",
          "2024-12-31T11:24:59.497352",
          "2024-12-31T11:24:59.509286",
          "2024-12-31T11:24:59.511263",
          "2024-12-31T11:24:59.553089",
          "2024-12-31T11:24:59.587382",
          "2024-12-31T11:24:59.644772",
          "2024-12-31T11:24:59.747517",
          "2024-12-31T11:24:59.823357",
          "2024-12-31T11:24:59.901342",
          "2024-12-31T11:25:00.067490",
          "2024-12-31T11:25:02.904210",
          "2024-12-31T11:25:03.510261",
          "2024-12-31T11:25:03.796812",
          "2024-12-31T11:25:03.823446",
          "2024-12-31T11:25:04.163099",
          "2024-12-31T11:25:04.289542",
          "2024-12-31T11:25:04.294423",
          "2024-12-31T11:25:04.305306",
          "2024-12-31T11:25:04.420997",
          "2024-12-31T11:25:04.645582",
          "2024-12-31T11:25:04.717280",
          "2024-12-31T11:25:04.807174",
          "2024-12-31T11:25:04.813838",
          "2024-12-31T11:25:04.818050",
          "2024-12-31T11:25:04.895376",
          "2024-12-31T11:25:04.898687",
          "2024-12-31T11:25:04.901232",
          "2024-12-31T11:25:04.952235",
          "2024-12-31T11:25:04.985618",
          "2024-12-31T11:25:04.987987",
          "2024-12-31T11:25:05.026321",
          "2024-12-31T11:25:05.065417",
          "2024-12-31T11:25:05.114763",
          "2024-12-31T11:25:05.197867",
          "2024-12-31T11:25:05.268327",
          "2024-12-31T11:25:05.493372",
          "2024-12-31T11:25:05.499070",
          "2024-12-31T11:25:05.518220",
          "2024-12-31T11:25:08.620091",
          "2024-12-31T11:25:09.089662",
          "2024-12-31T11:25:09.270268",
          "2024-12-31T11:25:09.487543",
          "2024-12-31T11:25:09.691807",
          "2024-12-31T11:25:09.722212",
          "2024-12-31T11:25:09.891549",
          "2024-12-31T11:25:09.954921",
          "2024-12-31T11:25:09.994230",
          "2024-12-31T11:25:10.071137",
          "2024-12-31T11:25:10.133759",
          "2024-12-31T11:25:10.181144",
          "2024-12-31T11:25:10.228446",
          "2024-12-31T11:25:10.370486",
          "2024-12-31T11:25:10.371989",
          "2024-12-31T11:25:10.391740",
          "2024-12-31T11:25:10.430253",
          "2024-12-31T11:25:10.470399",
          "2024-12-31T11:25:10.559734",
          "2024-12-31T11:25:10.589248",
          "2024-12-31T11:25:10.606187",
          "2024-12-31T11:25:10.630254",
          "2024-12-31T11:25:10.671638",
          "2024-12-31T11:25:10.723349",
          "2024-12-31T11:25:10.805050",
          "2024-12-31T11:25:11.022708",
          "2024-12-31T11:25:11.262225",
          "2024-12-31T11:25:11.315725",
          "2024-12-31T11:25:14.522472",
          "2024-12-31T11:25:14.634109",
          "2024-12-31T11:25:14.964117",
          "2024-12-31T11:25:15.140836",
          "2024-12-31T11:25:15.283672",
          "2024-12-31T11:25:15.402812",
          "2024-12-31T11:25:15.462797",
          "2024-12-31T11:25:15.492048",
          "2024-12-31T11:25:15.539662",
          "2024-12-31T11:25:15.610138",
          "2024-12-31T11:25:15.633369",
          "2024-12-31T11:25:15.778891",
          "2024-12-31T11:25:15.788631",
          "2024-12-31T11:25:15.816618",
          "2024-12-31T11:25:15.888423",
          "2024-12-31T11:25:15.937627",
          "2024-12-31T11:25:16.030784",
          "2024-12-31T11:25:16.126259",
          "2024-12-31T11:25:16.297612",
          "2024-12-31T11:25:16.320250",
          "2024-12-31T11:25:16.440537",
          "2024-12-31T11:25:16.471385",
          "2024-12-31T11:25:16.512227",
          "2024-12-31T11:25:16.518124",
          "2024-12-31T11:25:16.525260",
          "2024-12-31T11:25:16.633855",
          "2024-12-31T11:25:16.767113",
          "2024-12-31T11:25:16.941524",
          "2024-12-31T11:25:20.282972",
          "2024-12-31T11:25:20.319061",
          "2024-12-31T11:25:20.335687",
          "2024-12-31T11:25:20.607488",
          "2024-12-31T11:25:20.657274",
          "2024-12-31T11:25:20.693300",
          "2024-12-31T11:25:20.818346",
          "2024-12-31T11:25:20.896300",
          "2024-12-31T11:25:20.901167",
          "2024-12-31T11:25:20.937768",
          "2024-12-31T11:25:20.982942",
          "2024-12-31T11:25:21.077140",
          "2024-12-31T11:25:21.353753",
          "2024-12-31T11:25:21.363097",
          "2024-12-31T11:25:21.421355",
          "2024-12-31T11:25:21.462853",
          "2024-12-31T11:25:21.515195",
          "2024-12-31T11:25:21.565202",
          "2024-12-31T11:25:21.709027",
          "2024-12-31T11:25:21.755436",
          "2024-12-31T11:25:21.800786",
          "2024-12-31T11:25:21.953937",
          "2024-12-31T11:25:22.108904",
          "2024-12-31T11:25:22.161978",
          "2024-12-31T11:25:22.171134",
          "2024-12-31T11:25:22.326721",
          "2024-12-31T11:25:22.603780",
          "2024-12-31T11:25:22.875422",
          "2024-12-31T11:25:25.710689",
          "2024-12-31T11:25:25.787493",
          "2024-12-31T11:25:25.948082",
          "2024-12-31T11:25:25.996925",
          "2024-12-31T11:25:26.179884",
          "2024-12-31T11:25:26.329162",
          "2024-12-31T11:25:26.356548",
          "2024-12-31T11:25:26.412271",
          "2024-12-31T11:25:26.426702",
          "2024-12-31T11:25:26.483776",
          "2024-12-31T11:25:26.524737",
          "2024-12-31T11:25:26.620130",
          "2024-12-31T11:25:26.663416",
          "2024-12-31T11:25:26.842998",
          "2024-12-31T11:25:26.919676",
          "2024-12-31T11:25:26.991759",
          "2024-12-31T11:25:26.994234",
          "2024-12-31T11:25:27.010453",
          "2024-12-31T11:25:27.056818",
          "2024-12-31T11:25:27.105701",
          "2024-12-31T11:25:27.338620",
          "2024-12-31T11:25:27.550217",
          "2024-12-31T11:25:27.559671",
          "2024-12-31T11:25:27.685934",
          "2024-12-31T11:25:27.721593",
          "2024-12-31T11:25:27.843939",
          "2024-12-31T11:25:28.047750",
          "2024-12-31T11:25:28.482319",
          "2024-12-31T11:25:30.768895",
          "2024-12-31T11:25:31.158062",
          "2024-12-31T11:25:31.165388",
          "2024-12-31T11:25:31.212958",
          "2024-12-31T11:25:31.526390",
          "2024-12-31T11:25:31.579621",
          "2024-12-31T11:25:31.779734",
          "2024-12-31T11:25:31.960083",
          "2024-12-31T11:25:32.081578",
          "2024-12-31T11:25:32.092902",
          "2024-12-31T11:25:32.203690",
          "2024-12-31T11:25:32.303712",
          "2024-12-31T11:25:32.332249",
          "2024-12-31T11:25:32.426396",
          "2024-12-31T11:25:32.436704",
          "2024-12-31T11:25:32.484318",
          "2024-12-31T11:25:32.555497",
          "2024-12-31T11:25:32.657621",
          "2024-12-31T11:25:32.736148",
          "2024-12-31T11:25:32.816124",
          "2024-12-31T11:25:32.866911",
          "2024-12-31T11:25:32.874104",
          "2024-12-31T11:25:32.988877",
          "2024-12-31T11:25:33.133434",
          "2024-12-31T11:25:33.259802",
          "2024-12-31T11:25:33.573026",
          "2024-12-31T11:25:33.851661",
          "2024-12-31T11:25:34.116867",
          "2024-12-31T11:25:36.761590",
          "2024-12-31T11:25:36.782051",
          "2024-12-31T11:25:36.935326",
          "2024-12-31T11:25:36.992393",
          "2024-12-31T11:25:37.017637",
          "2024-12-31T11:25:37.105936",
          "2024-12-31T11:25:37.145622",
          "2024-12-31T11:25:37.275463",
          "2024-12-31T11:25:37.363454",
          "2024-12-31T11:25:37.470553",
          "2024-12-31T11:25:37.516056",
          "2024-12-31T11:25:37.599330",
          "2024-12-31T11:25:37.709478",
          "2024-12-31T11:25:37.917455",
          "2024-12-31T11:25:37.959964",
          "2024-12-31T11:25:37.981542",
          "2024-12-31T11:25:38.131891",
          "2024-12-31T11:25:38.153957",
          "2024-12-31T11:25:38.187584",
          "2024-12-31T11:25:38.271913",
          "2024-12-31T11:25:38.351024",
          "2024-12-31T11:25:38.391513",
          "2024-12-31T11:25:38.479744",
          "2024-12-31T11:25:38.551012",
          "2024-12-31T11:25:38.804711",
          "2024-12-31T11:25:39.282491",
          "2024-12-31T11:25:39.388997",
          "2024-12-31T11:25:39.592599",
          "2024-12-31T11:25:42.257439",
          "2024-12-31T11:25:42.449226",
          "2024-12-31T11:25:42.450668",
          "2024-12-31T11:25:42.616264",
          "2024-12-31T11:25:42.646672",
          "2024-12-31T11:25:42.718916",
          "2024-12-31T11:25:42.720966",
          "2024-12-31T11:25:42.970357",
          "2024-12-31T11:25:43.054706",
          "2024-12-31T11:25:43.084239",
          "2024-12-31T11:25:43.113324",
          "2024-12-31T11:25:43.224080",
          "2024-12-31T11:25:43.331432",
          "2024-12-31T11:25:43.403644",
          "2024-12-31T11:25:43.732152",
          "2024-12-31T11:25:43.803762",
          "2024-12-31T11:25:43.890532",
          "2024-12-31T11:25:43.907922",
          "2024-12-31T11:25:43.910751",
          "2024-12-31T11:25:43.913866",
          "2024-12-31T11:25:43.918100",
          "2024-12-31T11:25:44.170229",
          "2024-12-31T11:25:44.185192",
          "2024-12-31T11:25:44.187712",
          "2024-12-31T11:25:44.375017",
          "2024-12-31T11:25:44.837194",
          "2024-12-31T11:25:44.848055",
          "2024-12-31T11:25:44.986231",
          "2024-12-31T11:25:47.701237",
          "2024-12-31T11:25:48.055670",
          "2024-12-31T11:25:48.079296",
          "2024-12-31T11:25:48.198133",
          "2024-12-31T11:25:48.254487",
          "2024-12-31T11:25:48.276882",
          "2024-12-31T11:25:48.435414",
          "2024-12-31T11:25:48.578372",
          "2024-12-31T11:25:48.661502",
          "2024-12-31T11:25:48.681266",
          "2024-12-31T11:25:48.836020",
          "2024-12-31T11:25:48.895894",
          "2024-12-31T11:25:49.159286",
          "2024-12-31T11:25:49.375839",
          "2024-12-31T11:25:49.395603",
          "2024-12-31T11:25:49.411251",
          "2024-12-31T11:25:49.438628",
          "2024-12-31T11:25:49.506496",
          "2024-12-31T11:25:49.582470",
          "2024-12-31T11:25:49.587756",
          "2024-12-31T11:25:49.595365",
          "2024-12-31T11:25:49.853875",
          "2024-12-31T11:25:49.890581",
          "2024-12-31T11:25:49.949638",
          "2024-12-31T11:25:50.028987",
          "2024-12-31T11:25:50.282114",
          "2024-12-31T11:25:50.329986",
          "2024-12-31T11:25:50.652939",
          "2024-12-31T11:25:53.285284",
          "2024-12-31T11:25:53.599395",
          "2024-12-31T11:25:53.730382",
          "2024-12-31T11:25:53.753965",
          "2024-12-31T11:25:53.798745",
          "2024-12-31T11:25:53.870665",
          "2024-12-31T11:25:53.922421",
          "2024-12-31T11:25:54.025301",
          "2024-12-31T11:25:54.207843",
          "2024-12-31T11:25:54.303215",
          "2024-12-31T11:25:54.361344",
          "2024-12-31T11:25:54.569951",
          "2024-12-31T11:25:54.653218",
          "2024-12-31T11:25:54.894164",
          "2024-12-31T11:25:54.941604",
          "2024-12-31T11:25:55.038040",
          "2024-12-31T11:25:55.154970",
          "2024-12-31T11:25:55.198762",
          "2024-12-31T11:25:55.207018",
          "2024-12-31T11:25:55.356620",
          "2024-12-31T11:25:55.486669",
          "2024-12-31T11:25:55.489231",
          "2024-12-31T11:25:55.552113",
          "2024-12-31T11:25:55.553324",
          "2024-12-31T11:25:55.555146",
          "2024-12-31T11:25:56.131883",
          "2024-12-31T11:25:56.133756",
          "2024-12-31T11:25:56.514045",
          "2024-12-31T11:25:58.814259",
          "2024-12-31T11:25:59.259386",
          "2024-12-31T11:25:59.309414",
          "2024-12-31T11:25:59.519643",
          "2024-12-31T11:25:59.534285",
          "2024-12-31T11:25:59.564059",
          "2024-12-31T11:25:59.815412",
          "2024-12-31T11:25:59.992970",
          "2024-12-31T11:26:00.014622",
          "2024-12-31T11:26:00.071376",
          "2024-12-31T11:26:00.126660",
          "2024-12-31T11:26:00.302128",
          "2024-12-31T11:26:00.394312",
          "2024-12-31T11:26:00.706671",
          "2024-12-31T11:26:00.714637",
          "2024-12-31T11:26:00.723599",
          "2024-12-31T11:26:00.797330",
          "2024-12-31T11:26:00.809627",
          "2024-12-31T11:26:00.885614",
          "2024-12-31T11:26:00.994439",
          "2024-12-31T11:26:01.065747",
          "2024-12-31T11:26:01.127576",
          "2024-12-31T11:26:01.170520",
          "2024-12-31T11:26:01.204826",
          "2024-12-31T11:26:01.213437",
          "2024-12-31T11:26:01.707955",
          "2024-12-31T11:26:01.843654",
          "2024-12-31T11:26:02.493232",
          "2024-12-31T11:26:04.184539",
          "2024-12-31T11:26:04.685088",
          "2024-12-31T11:26:04.994427",
          "2024-12-31T11:26:05.043162",
          "2024-12-31T11:26:05.083072",
          "2024-12-31T11:26:05.126656",
          "2024-12-31T11:26:05.213526",
          "2024-12-31T11:26:05.252449",
          "2024-12-31T11:26:05.552680",
          "2024-12-31T11:26:05.557228",
          "2024-12-31T11:26:05.569216",
          "2024-12-31T11:26:05.678590",
          "2024-12-31T11:26:05.819123",
          "2024-12-31T11:26:05.944689",
          "2024-12-31T11:26:06.040057",
          "2024-12-31T11:26:06.131721",
          "2024-12-31T11:26:06.216336",
          "2024-12-31T11:26:06.289248",
          "2024-12-31T11:26:06.290297",
          "2024-12-31T11:26:06.375637",
          "2024-12-31T11:26:06.591411",
          "2024-12-31T11:26:06.596195",
          "2024-12-31T11:26:06.746568",
          "2024-12-31T11:26:06.753286",
          "2024-12-31T11:26:06.964372",
          "2024-12-31T11:26:07.202777",
          "2024-12-31T11:26:07.525422",
          "2024-12-31T11:26:08.244896",
          "2024-12-31T11:26:09.963186",
          "2024-12-31T11:26:10.361212",
          "2024-12-31T11:26:10.399194",
          "2024-12-31T11:26:10.542652",
          "2024-12-31T11:26:10.930007",
          "2024-12-31T11:26:10.939158",
          "2024-12-31T11:26:10.941048",
          "2024-12-31T11:26:11.037826",
          "2024-12-31T11:26:11.252183",
          "2024-12-31T11:26:11.255415",
          "2024-12-31T11:26:11.286257",
          "2024-12-31T11:26:11.396879",
          "2024-12-31T11:26:11.420614",
          "2024-12-31T11:26:11.457626",
          "2024-12-31T11:26:11.555179",
          "2024-12-31T11:26:11.699316",
          "2024-12-31T11:26:11.840326",
          "2024-12-31T11:26:11.851266",
          "2024-12-31T11:26:11.859176",
          "2024-12-31T11:26:11.926721",
          "2024-12-31T11:26:12.309700",
          "2024-12-31T11:26:12.360226",
          "2024-12-31T11:26:12.477383",
          "2024-12-31T11:26:12.607908",
          "2024-12-31T11:26:12.628256",
          "2024-12-31T11:26:12.839593",
          "2024-12-31T11:26:13.381692",
          "2024-12-31T11:26:13.863895",
          "2024-12-31T11:26:15.253157",
          "2024-12-31T11:26:15.442781",
          "2024-12-31T11:26:15.492198",
          "2024-12-31T11:26:15.618049",
          "2024-12-31T11:26:16.014977",
          "2024-12-31T11:26:16.071412",
          "2024-12-31T11:26:16.085767",
          "2024-12-31T11:26:16.091423",
          "2024-12-31T11:26:16.115628",
          "2024-12-31T11:26:16.186457",
          "2024-12-31T11:26:16.189678",
          "2024-12-31T11:26:16.202667",
          "2024-12-31T11:26:16.233143",
          "2024-12-31T11:26:16.277726",
          "2024-12-31T11:26:16.403640",
          "2024-12-31T11:26:16.438807",
          "2024-12-31T11:26:16.577238",
          "2024-12-31T11:26:16.609369",
          "2024-12-31T11:26:16.611176",
          "2024-12-31T11:26:16.632908",
          "2024-12-31T11:26:16.650629",
          "2024-12-31T11:26:16.865286",
          "2024-12-31T11:26:16.884500",
          "2024-12-31T11:26:16.986018"
         ],
         "xaxis": "x",
         "y": [
          1,
          2,
          3,
          4,
          5,
          6,
          7,
          8,
          9,
          10,
          11,
          12,
          13,
          14,
          15,
          16,
          17,
          18,
          19,
          20,
          21,
          22,
          23,
          24,
          25,
          26,
          27,
          28,
          29,
          30,
          31,
          32,
          33,
          34,
          35,
          36,
          37,
          38,
          39,
          40,
          41,
          42,
          43,
          44,
          45,
          46,
          47,
          48,
          49,
          50,
          51,
          52,
          53,
          54,
          55,
          56,
          57,
          58,
          59,
          60,
          61,
          62,
          63,
          64,
          65,
          66,
          67,
          68,
          69,
          70,
          71,
          72,
          73,
          74,
          75,
          76,
          77,
          78,
          79,
          80,
          81,
          82,
          83,
          84,
          85,
          86,
          87,
          88,
          89,
          90,
          91,
          92,
          93,
          94,
          95,
          96,
          97,
          98,
          99,
          100,
          101,
          102,
          103,
          104,
          105,
          106,
          107,
          108,
          109,
          110,
          111,
          112,
          113,
          114,
          115,
          116,
          117,
          118,
          119,
          120,
          121,
          122,
          123,
          124,
          125,
          126,
          127,
          128,
          129,
          130,
          131,
          132,
          133,
          134,
          135,
          136,
          137,
          138,
          139,
          140,
          141,
          142,
          143,
          144,
          145,
          146,
          147,
          148,
          149,
          150,
          151,
          152,
          153,
          154,
          155,
          156,
          157,
          158,
          159,
          160,
          161,
          162,
          163,
          164,
          165,
          166,
          167,
          168,
          169,
          170,
          171,
          172,
          173,
          174,
          175,
          176,
          177,
          178,
          179,
          180,
          181,
          182,
          183,
          184,
          185,
          186,
          187,
          188,
          189,
          190,
          191,
          192,
          193,
          194,
          195,
          196,
          197,
          198,
          199,
          200,
          201,
          202,
          203,
          204,
          205,
          206,
          207,
          208,
          209,
          210,
          211,
          212,
          213,
          214,
          215,
          216,
          217,
          218,
          219,
          220,
          221,
          222,
          223,
          224,
          225,
          226,
          227,
          228,
          229,
          230,
          231,
          232,
          233,
          234,
          235,
          236,
          237,
          238,
          239,
          240,
          241,
          242,
          243,
          244,
          245,
          246,
          247,
          248,
          249,
          250,
          251,
          252,
          253,
          254,
          255,
          256,
          257,
          258,
          259,
          260,
          261,
          262,
          263,
          264,
          265,
          266,
          267,
          268,
          269,
          270,
          271,
          272,
          273,
          274,
          275,
          276,
          277,
          278,
          279,
          280,
          281,
          282,
          283,
          284,
          285,
          286,
          287,
          288,
          289,
          290,
          291,
          292,
          293,
          294,
          295,
          296,
          297,
          298,
          299,
          300,
          301,
          302,
          303,
          304,
          305,
          306,
          307,
          308,
          309,
          310,
          311,
          312,
          313,
          314,
          315,
          316,
          317,
          318,
          319,
          320,
          321,
          322,
          323,
          324,
          325,
          326,
          327,
          328,
          329,
          330,
          331,
          332,
          333,
          334,
          335,
          336,
          337,
          338,
          339,
          340,
          341,
          342,
          343,
          344,
          345,
          346,
          347,
          348,
          349,
          350,
          351,
          352,
          353,
          354,
          355,
          356,
          357,
          358,
          359,
          360,
          361,
          362,
          363,
          364,
          365,
          366,
          367,
          368,
          369,
          370,
          371,
          372,
          373,
          374,
          375,
          376,
          377,
          378,
          379,
          380,
          381,
          382,
          383,
          384,
          385,
          386,
          387,
          388,
          389,
          390,
          391,
          392,
          393,
          394,
          395,
          396,
          397,
          398,
          399,
          400,
          401,
          402,
          403,
          404,
          405,
          406,
          407,
          408,
          409,
          410,
          411,
          412,
          413,
          414,
          415,
          416,
          417,
          418,
          419,
          420,
          421,
          422,
          423,
          424,
          425,
          426,
          427,
          428,
          429,
          430,
          431,
          432,
          433,
          434,
          435,
          436,
          437,
          438,
          439,
          440,
          441,
          442,
          443,
          444,
          445,
          446,
          447,
          448,
          449,
          450,
          451,
          452,
          453,
          454,
          455,
          456,
          457,
          458,
          459,
          460,
          461,
          462,
          463,
          464,
          465,
          466,
          467,
          468,
          469,
          470,
          471,
          472,
          473,
          474,
          475,
          476,
          477,
          478,
          479,
          480,
          481,
          482,
          483,
          484,
          485,
          486,
          487,
          488,
          489,
          490,
          491,
          492,
          493,
          494,
          495,
          496,
          497,
          498,
          499,
          500
         ],
         "yaxis": "y"
        },
        {
         "hovertemplate": "State=active<br>Time=%{x}<br>message_id=%{y}<extra></extra>",
         "legendgroup": "active",
         "line": {
          "color": "#EF553B",
          "dash": "solid"
         },
         "marker": {
          "symbol": "circle"
         },
         "mode": "lines+markers",
         "name": "active",
         "showlegend": true,
         "type": "scattergl",
         "x": [
          "2024-12-31T11:24:45.044609",
          "2024-12-31T11:24:45.044609",
          "2024-12-31T11:24:45.044609",
          "2024-12-31T11:24:45.044609",
          "2024-12-31T11:24:45.044609",
          "2024-12-31T11:24:46.491117",
          "2024-12-31T11:24:46.491117",
          "2024-12-31T11:24:46.491117",
          "2024-12-31T11:24:46.491117",
          "2024-12-31T11:24:46.491117",
          "2024-12-31T11:25:35.260805",
          "2024-12-31T11:25:35.260805",
          "2024-12-31T11:25:35.260805",
          "2024-12-31T11:25:35.260805",
          "2024-12-31T11:25:35.260805",
          "2024-12-31T11:25:36.730825",
          "2024-12-31T11:25:36.730825",
          "2024-12-31T11:25:36.730825",
          "2024-12-31T11:25:36.730825",
          "2024-12-31T11:25:36.730825",
          "2024-12-31T11:26:25.562728",
          "2024-12-31T11:26:25.562728",
          "2024-12-31T11:26:25.562728",
          "2024-12-31T11:26:25.562728",
          "2024-12-31T11:26:25.562728",
          "2024-12-31T11:26:26.998869",
          "2024-12-31T11:26:26.998869",
          "2024-12-31T11:26:26.998869",
          "2024-12-31T11:26:26.998869",
          "2024-12-31T11:26:26.998869",
          "2024-12-31T11:27:15.775391",
          "2024-12-31T11:27:15.775391",
          "2024-12-31T11:27:15.775391",
          "2024-12-31T11:27:15.775391",
          "2024-12-31T11:27:15.775391",
          "2024-12-31T11:27:17.206870",
          "2024-12-31T11:27:17.206870",
          "2024-12-31T11:27:17.206870",
          "2024-12-31T11:27:17.206870",
          "2024-12-31T11:27:17.206870",
          "2024-12-31T11:28:06.005789",
          "2024-12-31T11:28:06.005789",
          "2024-12-31T11:28:06.005789",
          "2024-12-31T11:28:06.005789",
          "2024-12-31T11:28:06.005789",
          "2024-12-31T11:28:07.415324",
          "2024-12-31T11:28:07.415324",
          "2024-12-31T11:28:07.415324",
          "2024-12-31T11:28:07.415324",
          "2024-12-31T11:28:07.415324",
          "2024-12-31T11:28:56.214130",
          "2024-12-31T11:28:56.214130",
          "2024-12-31T11:28:56.214130",
          "2024-12-31T11:28:56.214130",
          "2024-12-31T11:28:56.214130",
          "2024-12-31T11:28:57.644331",
          "2024-12-31T11:28:57.644331",
          "2024-12-31T11:28:57.644331",
          "2024-12-31T11:28:57.644331",
          "2024-12-31T11:28:57.644331",
          "2024-12-31T11:29:46.427680",
          "2024-12-31T11:29:46.427680",
          "2024-12-31T11:29:46.427680",
          "2024-12-31T11:29:46.427680",
          "2024-12-31T11:29:46.427680",
          "2024-12-31T11:29:47.846055",
          "2024-12-31T11:29:47.846055",
          "2024-12-31T11:29:47.846055",
          "2024-12-31T11:29:47.846055",
          "2024-12-31T11:29:47.846055",
          "2024-12-31T11:30:36.691508",
          "2024-12-31T11:30:36.691508",
          "2024-12-31T11:30:36.691508",
          "2024-12-31T11:30:36.691508",
          "2024-12-31T11:30:36.691508",
          "2024-12-31T11:30:38.049607",
          "2024-12-31T11:30:38.049607",
          "2024-12-31T11:30:38.049607",
          "2024-12-31T11:30:38.049607",
          "2024-12-31T11:30:38.049607",
          "2024-12-31T11:31:26.929601",
          "2024-12-31T11:31:26.929601",
          "2024-12-31T11:31:26.929601",
          "2024-12-31T11:31:26.929601",
          "2024-12-31T11:31:26.929601",
          "2024-12-31T11:31:28.275348",
          "2024-12-31T11:31:28.275348",
          "2024-12-31T11:31:28.275348",
          "2024-12-31T11:31:28.275348",
          "2024-12-31T11:31:28.275348",
          "2024-12-31T11:32:17.210619",
          "2024-12-31T11:32:17.210619",
          "2024-12-31T11:32:17.210619",
          "2024-12-31T11:32:17.210619",
          "2024-12-31T11:32:17.210619",
          "2024-12-31T11:32:18.571312",
          "2024-12-31T11:32:18.571312",
          "2024-12-31T11:32:18.571312",
          "2024-12-31T11:32:18.571312",
          "2024-12-31T11:32:18.571312",
          "2024-12-31T11:33:07.427975",
          "2024-12-31T11:33:07.427975",
          "2024-12-31T11:33:07.427975",
          "2024-12-31T11:33:07.427975",
          "2024-12-31T11:33:07.427975",
          "2024-12-31T11:33:08.798970",
          "2024-12-31T11:33:08.798970",
          "2024-12-31T11:33:08.798970",
          "2024-12-31T11:33:08.798970",
          "2024-12-31T11:33:08.798970",
          "2024-12-31T11:33:57.641381",
          "2024-12-31T11:33:57.641381",
          "2024-12-31T11:33:57.641381",
          "2024-12-31T11:33:57.641381",
          "2024-12-31T11:33:57.641381",
          "2024-12-31T11:33:59.010457",
          "2024-12-31T11:33:59.010457",
          "2024-12-31T11:33:59.010457",
          "2024-12-31T11:33:59.010457",
          "2024-12-31T11:33:59.010457",
          "2024-12-31T11:34:47.878194",
          "2024-12-31T11:34:47.878194",
          "2024-12-31T11:34:47.878194",
          "2024-12-31T11:34:47.878194",
          "2024-12-31T11:34:47.878194",
          "2024-12-31T11:34:49.239286",
          "2024-12-31T11:34:49.239286",
          "2024-12-31T11:34:49.239286",
          "2024-12-31T11:34:49.239286",
          "2024-12-31T11:34:49.239286",
          "2024-12-31T11:35:38.150039",
          "2024-12-31T11:35:38.150039",
          "2024-12-31T11:35:38.150039",
          "2024-12-31T11:35:38.150039",
          "2024-12-31T11:35:38.150039",
          "2024-12-31T11:35:39.530485",
          "2024-12-31T11:35:39.530485",
          "2024-12-31T11:35:39.530485",
          "2024-12-31T11:35:39.530485",
          "2024-12-31T11:35:39.530485",
          "2024-12-31T11:36:28.381288",
          "2024-12-31T11:36:28.381288",
          "2024-12-31T11:36:28.381288",
          "2024-12-31T11:36:28.381288",
          "2024-12-31T11:36:28.381288",
          "2024-12-31T11:36:29.746993",
          "2024-12-31T11:36:29.746993",
          "2024-12-31T11:36:29.746993",
          "2024-12-31T11:36:29.746993",
          "2024-12-31T11:36:29.746993",
          "2024-12-31T11:37:18.669033",
          "2024-12-31T11:37:18.669033",
          "2024-12-31T11:37:18.669033",
          "2024-12-31T11:37:18.669033",
          "2024-12-31T11:37:18.669033",
          "2024-12-31T11:37:19.959098",
          "2024-12-31T11:37:19.959098",
          "2024-12-31T11:37:19.959098",
          "2024-12-31T11:37:19.959098",
          "2024-12-31T11:37:19.959098",
          "2024-12-31T11:38:08.956461",
          "2024-12-31T11:38:08.956461",
          "2024-12-31T11:38:08.956461",
          "2024-12-31T11:38:08.956461",
          "2024-12-31T11:38:08.956461",
          "2024-12-31T11:38:10.230497",
          "2024-12-31T11:38:10.230497",
          "2024-12-31T11:38:10.230497",
          "2024-12-31T11:38:10.230497",
          "2024-12-31T11:38:10.230497",
          "2024-12-31T11:38:59.168407",
          "2024-12-31T11:38:59.168407",
          "2024-12-31T11:38:59.168407",
          "2024-12-31T11:38:59.168407",
          "2024-12-31T11:38:59.168407",
          "2024-12-31T11:39:00.515405",
          "2024-12-31T11:39:00.515405",
          "2024-12-31T11:39:00.515405",
          "2024-12-31T11:39:00.515405",
          "2024-12-31T11:39:00.515405",
          "2024-12-31T11:39:49.384568",
          "2024-12-31T11:39:49.384568",
          "2024-12-31T11:39:49.384568",
          "2024-12-31T11:39:49.384568",
          "2024-12-31T11:39:49.384568",
          "2024-12-31T11:39:50.749789",
          "2024-12-31T11:39:50.749789",
          "2024-12-31T11:39:50.749789",
          "2024-12-31T11:39:50.749789",
          "2024-12-31T11:39:50.749789",
          "2024-12-31T11:40:39.624392",
          "2024-12-31T11:40:39.624392",
          "2024-12-31T11:40:39.624392",
          "2024-12-31T11:40:39.624392",
          "2024-12-31T11:40:39.624392",
          "2024-12-31T11:40:40.965451",
          "2024-12-31T11:40:40.965451",
          "2024-12-31T11:40:40.965451",
          "2024-12-31T11:40:40.965451",
          "2024-12-31T11:40:40.965451",
          "2024-12-31T11:41:29.845343",
          "2024-12-31T11:41:29.845343",
          "2024-12-31T11:41:29.845343",
          "2024-12-31T11:41:29.845343",
          "2024-12-31T11:41:29.845343",
          "2024-12-31T11:41:31.179560",
          "2024-12-31T11:41:31.179560",
          "2024-12-31T11:41:31.179560",
          "2024-12-31T11:41:31.179560",
          "2024-12-31T11:41:31.179560",
          "2024-12-31T11:42:20.073468",
          "2024-12-31T11:42:20.073468",
          "2024-12-31T11:42:20.073468",
          "2024-12-31T11:42:20.073468",
          "2024-12-31T11:42:20.073468",
          "2024-12-31T11:42:21.420168",
          "2024-12-31T11:42:21.420168",
          "2024-12-31T11:42:21.420168",
          "2024-12-31T11:42:21.420168",
          "2024-12-31T11:42:21.420168",
          "2024-12-31T11:43:10.317110",
          "2024-12-31T11:43:10.317110",
          "2024-12-31T11:43:10.317110",
          "2024-12-31T11:43:10.317110",
          "2024-12-31T11:43:10.317110",
          "2024-12-31T11:43:11.640979",
          "2024-12-31T11:43:11.640979",
          "2024-12-31T11:43:11.640979",
          "2024-12-31T11:43:11.640979",
          "2024-12-31T11:43:11.640979",
          "2024-12-31T11:44:00.558712",
          "2024-12-31T11:44:00.558712",
          "2024-12-31T11:44:00.558712",
          "2024-12-31T11:44:00.558712",
          "2024-12-31T11:44:00.558712",
          "2024-12-31T11:44:01.857786",
          "2024-12-31T11:44:01.857786",
          "2024-12-31T11:44:01.857786",
          "2024-12-31T11:44:01.857786",
          "2024-12-31T11:44:01.857786",
          "2024-12-31T11:44:50.848897",
          "2024-12-31T11:44:50.848897",
          "2024-12-31T11:44:50.848897",
          "2024-12-31T11:44:50.848897",
          "2024-12-31T11:44:50.848897",
          "2024-12-31T11:44:52.125843",
          "2024-12-31T11:44:52.125843",
          "2024-12-31T11:44:52.125843",
          "2024-12-31T11:44:52.125843",
          "2024-12-31T11:44:52.125843",
          "2024-12-31T11:45:41.067702",
          "2024-12-31T11:45:41.067702",
          "2024-12-31T11:45:41.067702",
          "2024-12-31T11:45:41.067702",
          "2024-12-31T11:45:41.067702",
          "2024-12-31T11:45:42.363492",
          "2024-12-31T11:45:42.363492",
          "2024-12-31T11:45:42.363492",
          "2024-12-31T11:45:42.363492",
          "2024-12-31T11:45:42.363492",
          "2024-12-31T11:46:31.302603",
          "2024-12-31T11:46:31.302603",
          "2024-12-31T11:46:31.302603",
          "2024-12-31T11:46:31.302603",
          "2024-12-31T11:46:31.302603",
          "2024-12-31T11:46:32.581100",
          "2024-12-31T11:46:32.581100",
          "2024-12-31T11:46:32.581100",
          "2024-12-31T11:46:32.581100",
          "2024-12-31T11:46:32.581100",
          "2024-12-31T11:47:21.532225",
          "2024-12-31T11:47:21.532225",
          "2024-12-31T11:47:21.532225",
          "2024-12-31T11:47:21.532225",
          "2024-12-31T11:47:21.532225",
          "2024-12-31T11:47:22.784227",
          "2024-12-31T11:47:22.784227",
          "2024-12-31T11:47:22.784227",
          "2024-12-31T11:47:22.784227",
          "2024-12-31T11:47:22.784227",
          "2024-12-31T11:48:11.820382",
          "2024-12-31T11:48:11.820382",
          "2024-12-31T11:48:11.820382",
          "2024-12-31T11:48:11.820382",
          "2024-12-31T11:48:11.820382",
          "2024-12-31T11:48:13.047876",
          "2024-12-31T11:48:13.047876",
          "2024-12-31T11:48:13.047876",
          "2024-12-31T11:48:13.047876",
          "2024-12-31T11:48:13.047876",
          "2024-12-31T11:49:02.063274",
          "2024-12-31T11:49:02.063274",
          "2024-12-31T11:49:02.063274",
          "2024-12-31T11:49:02.063274",
          "2024-12-31T11:49:02.063274",
          "2024-12-31T11:49:03.272389",
          "2024-12-31T11:49:03.272389",
          "2024-12-31T11:49:03.272389",
          "2024-12-31T11:49:03.272389",
          "2024-12-31T11:49:03.272389",
          "2024-12-31T11:49:52.277336",
          "2024-12-31T11:49:52.277336",
          "2024-12-31T11:49:52.277336",
          "2024-12-31T11:49:52.277336",
          "2024-12-31T11:49:52.277336",
          "2024-12-31T11:49:53.501391",
          "2024-12-31T11:49:53.501391",
          "2024-12-31T11:49:53.501391",
          "2024-12-31T11:49:53.501391",
          "2024-12-31T11:49:53.501391",
          "2024-12-31T11:50:42.582906",
          "2024-12-31T11:50:42.582906",
          "2024-12-31T11:50:42.582906",
          "2024-12-31T11:50:42.582906",
          "2024-12-31T11:50:42.582906",
          "2024-12-31T11:50:43.789445",
          "2024-12-31T11:50:43.789445",
          "2024-12-31T11:50:43.789445",
          "2024-12-31T11:50:43.789445",
          "2024-12-31T11:50:43.789445",
          "2024-12-31T11:51:32.796309",
          "2024-12-31T11:51:32.796309",
          "2024-12-31T11:51:32.796309",
          "2024-12-31T11:51:32.796309",
          "2024-12-31T11:51:32.796309",
          "2024-12-31T11:51:33.999214",
          "2024-12-31T11:51:33.999214",
          "2024-12-31T11:51:33.999214",
          "2024-12-31T11:51:33.999214",
          "2024-12-31T11:51:33.999214",
          "2024-12-31T11:52:23.033927",
          "2024-12-31T11:52:23.033927",
          "2024-12-31T11:52:23.033927",
          "2024-12-31T11:52:23.033927",
          "2024-12-31T11:52:23.033927",
          "2024-12-31T11:52:24.231388",
          "2024-12-31T11:52:24.231388",
          "2024-12-31T11:52:24.231388",
          "2024-12-31T11:52:24.231388",
          "2024-12-31T11:52:24.231388",
          "2024-12-31T11:53:13.260547",
          "2024-12-31T11:53:13.260547",
          "2024-12-31T11:53:13.260547",
          "2024-12-31T11:53:13.260547",
          "2024-12-31T11:53:13.260547",
          "2024-12-31T11:53:14.440636",
          "2024-12-31T11:53:14.440636",
          "2024-12-31T11:53:14.440636",
          "2024-12-31T11:53:14.440636",
          "2024-12-31T11:53:14.440636",
          "2024-12-31T11:54:03.481456",
          "2024-12-31T11:54:03.481456",
          "2024-12-31T11:54:03.481456",
          "2024-12-31T11:54:03.481456",
          "2024-12-31T11:54:03.481456",
          "2024-12-31T11:54:04.654820",
          "2024-12-31T11:54:04.654820",
          "2024-12-31T11:54:04.654820",
          "2024-12-31T11:54:04.654820",
          "2024-12-31T11:54:04.654820",
          "2024-12-31T11:54:53.706527",
          "2024-12-31T11:54:53.706527",
          "2024-12-31T11:54:53.706527",
          "2024-12-31T11:54:53.706527",
          "2024-12-31T11:54:53.706527",
          "2024-12-31T11:54:54.933175",
          "2024-12-31T11:54:54.933175",
          "2024-12-31T11:54:54.933175",
          "2024-12-31T11:54:54.933175",
          "2024-12-31T11:54:54.933175",
          "2024-12-31T11:55:43.952691",
          "2024-12-31T11:55:43.952691",
          "2024-12-31T11:55:43.952691",
          "2024-12-31T11:55:43.952691",
          "2024-12-31T11:55:43.952691",
          "2024-12-31T11:55:45.157485",
          "2024-12-31T11:55:45.157485",
          "2024-12-31T11:55:45.157485",
          "2024-12-31T11:55:45.157485",
          "2024-12-31T11:55:45.157485",
          "2024-12-31T11:56:34.232447",
          "2024-12-31T11:56:34.232447",
          "2024-12-31T11:56:34.232447",
          "2024-12-31T11:56:34.232447",
          "2024-12-31T11:56:34.232447",
          "2024-12-31T11:56:35.424988",
          "2024-12-31T11:56:35.424988",
          "2024-12-31T11:56:35.424988",
          "2024-12-31T11:56:35.424988",
          "2024-12-31T11:56:35.424988",
          "2024-12-31T11:57:24.455262",
          "2024-12-31T11:57:24.455262",
          "2024-12-31T11:57:24.455262",
          "2024-12-31T11:57:24.455262",
          "2024-12-31T11:57:24.455262",
          "2024-12-31T11:57:25.629645",
          "2024-12-31T11:57:25.629645",
          "2024-12-31T11:57:25.629645",
          "2024-12-31T11:57:25.629645",
          "2024-12-31T11:57:25.629645",
          "2024-12-31T11:58:14.675031",
          "2024-12-31T11:58:14.675031",
          "2024-12-31T11:58:14.675031",
          "2024-12-31T11:58:14.675031",
          "2024-12-31T11:58:14.675031",
          "2024-12-31T11:58:15.841470",
          "2024-12-31T11:58:15.841470",
          "2024-12-31T11:58:15.841470",
          "2024-12-31T11:58:15.841470",
          "2024-12-31T11:58:15.841470",
          "2024-12-31T11:59:04.912161",
          "2024-12-31T11:59:04.912161",
          "2024-12-31T11:59:04.912161",
          "2024-12-31T11:59:04.912161",
          "2024-12-31T11:59:04.912161",
          "2024-12-31T11:59:06.105556",
          "2024-12-31T11:59:06.105556",
          "2024-12-31T11:59:06.105556",
          "2024-12-31T11:59:06.105556",
          "2024-12-31T11:59:06.105556",
          "2024-12-31T11:59:55.130940",
          "2024-12-31T11:59:55.130940",
          "2024-12-31T11:59:55.130940",
          "2024-12-31T11:59:55.130940",
          "2024-12-31T11:59:55.130940",
          "2024-12-31T11:59:56.319759",
          "2024-12-31T11:59:56.319759",
          "2024-12-31T11:59:56.319759",
          "2024-12-31T11:59:56.319759",
          "2024-12-31T11:59:56.319759",
          "2024-12-31T12:00:45.417536",
          "2024-12-31T12:00:45.417536",
          "2024-12-31T12:00:45.417536",
          "2024-12-31T12:00:45.417536",
          "2024-12-31T12:00:45.417536",
          "2024-12-31T12:00:46.585556",
          "2024-12-31T12:00:46.585556",
          "2024-12-31T12:00:46.585556",
          "2024-12-31T12:00:46.585556",
          "2024-12-31T12:00:46.585556",
          "2024-12-31T12:01:35.641336",
          "2024-12-31T12:01:35.641336",
          "2024-12-31T12:01:35.641336",
          "2024-12-31T12:01:35.641336",
          "2024-12-31T12:01:35.641336",
          "2024-12-31T12:01:36.786522",
          "2024-12-31T12:01:36.786522",
          "2024-12-31T12:01:36.786522",
          "2024-12-31T12:01:36.786522",
          "2024-12-31T12:01:36.786522",
          "2024-12-31T12:02:25.886562",
          "2024-12-31T12:02:25.886562",
          "2024-12-31T12:02:25.886562",
          "2024-12-31T12:02:25.886562",
          "2024-12-31T12:02:25.886562",
          "2024-12-31T12:02:27.022221",
          "2024-12-31T12:02:27.022221",
          "2024-12-31T12:02:27.022221",
          "2024-12-31T12:02:27.022221",
          "2024-12-31T12:02:27.022221",
          "2024-12-31T12:03:16.162885",
          "2024-12-31T12:03:16.162885",
          "2024-12-31T12:03:16.162885",
          "2024-12-31T12:03:16.162885",
          "2024-12-31T12:03:16.162885",
          "2024-12-31T12:03:17.290012",
          "2024-12-31T12:03:17.290012",
          "2024-12-31T12:03:17.290012",
          "2024-12-31T12:03:17.290012",
          "2024-12-31T12:03:17.290012",
          "2024-12-31T12:04:06.375054",
          "2024-12-31T12:04:06.375054",
          "2024-12-31T12:04:06.375054",
          "2024-12-31T12:04:06.375054",
          "2024-12-31T12:04:06.375054",
          "2024-12-31T12:04:07.502669",
          "2024-12-31T12:04:07.502669",
          "2024-12-31T12:04:07.502669",
          "2024-12-31T12:04:07.502669",
          "2024-12-31T12:04:07.502669",
          "2024-12-31T12:04:56.649101",
          "2024-12-31T12:04:56.649101",
          "2024-12-31T12:04:56.649101",
          "2024-12-31T12:04:56.649101",
          "2024-12-31T12:04:56.649101",
          "2024-12-31T12:04:57.705934",
          "2024-12-31T12:04:57.705934",
          "2024-12-31T12:04:57.705934",
          "2024-12-31T12:04:57.705934",
          "2024-12-31T12:04:57.705934",
          "2024-12-31T12:05:46.881401",
          "2024-12-31T12:05:46.881401",
          "2024-12-31T12:05:46.881401",
          "2024-12-31T12:05:46.881401",
          "2024-12-31T12:05:46.881401",
          "2024-12-31T12:05:47.935774",
          "2024-12-31T12:05:47.935774",
          "2024-12-31T12:05:47.935774",
          "2024-12-31T12:05:47.935774",
          "2024-12-31T12:05:47.935774"
         ],
         "xaxis": "x",
         "y": [
          1,
          2,
          3,
          4,
          5,
          10,
          9,
          6,
          7,
          8,
          11,
          12,
          13,
          14,
          15,
          16,
          17,
          18,
          19,
          20,
          25,
          24,
          22,
          21,
          23,
          29,
          30,
          27,
          26,
          28,
          33,
          34,
          31,
          32,
          35,
          36,
          37,
          38,
          39,
          40,
          41,
          42,
          43,
          44,
          45,
          46,
          47,
          48,
          49,
          50,
          55,
          54,
          51,
          52,
          53,
          60,
          59,
          57,
          58,
          56,
          65,
          63,
          64,
          61,
          62,
          69,
          66,
          67,
          68,
          70,
          71,
          72,
          73,
          74,
          75,
          76,
          77,
          78,
          79,
          80,
          81,
          82,
          83,
          84,
          85,
          90,
          89,
          86,
          87,
          88,
          95,
          94,
          92,
          91,
          93,
          99,
          100,
          97,
          96,
          98,
          103,
          104,
          101,
          102,
          105,
          106,
          107,
          108,
          109,
          110,
          111,
          112,
          113,
          114,
          115,
          116,
          117,
          118,
          119,
          120,
          125,
          124,
          121,
          122,
          123,
          129,
          128,
          130,
          126,
          127,
          135,
          133,
          134,
          131,
          132,
          139,
          136,
          137,
          138,
          140,
          141,
          142,
          143,
          144,
          145,
          146,
          147,
          148,
          149,
          150,
          151,
          152,
          153,
          154,
          155,
          160,
          159,
          156,
          157,
          158,
          165,
          163,
          164,
          161,
          162,
          170,
          168,
          169,
          166,
          167,
          174,
          171,
          172,
          173,
          175,
          176,
          177,
          178,
          179,
          180,
          181,
          182,
          183,
          184,
          185,
          186,
          187,
          188,
          189,
          190,
          195,
          194,
          191,
          192,
          193,
          199,
          198,
          200,
          196,
          197,
          204,
          203,
          205,
          201,
          202,
          206,
          207,
          208,
          209,
          210,
          211,
          212,
          213,
          214,
          215,
          216,
          217,
          218,
          219,
          220,
          225,
          224,
          221,
          222,
          223,
          230,
          228,
          229,
          226,
          227,
          234,
          231,
          232,
          233,
          235,
          236,
          237,
          238,
          239,
          240,
          241,
          242,
          243,
          244,
          245,
          246,
          247,
          248,
          249,
          250,
          255,
          254,
          251,
          252,
          253,
          260,
          259,
          257,
          256,
          258,
          264,
          265,
          262,
          261,
          263,
          268,
          269,
          266,
          267,
          270,
          271,
          272,
          273,
          274,
          275,
          276,
          277,
          278,
          279,
          280,
          281,
          282,
          283,
          284,
          285,
          290,
          289,
          286,
          287,
          288,
          295,
          294,
          292,
          293,
          291,
          300,
          298,
          299,
          296,
          297,
          304,
          301,
          302,
          303,
          305,
          306,
          307,
          308,
          309,
          310,
          311,
          312,
          313,
          314,
          315,
          316,
          317,
          318,
          319,
          320,
          325,
          324,
          321,
          322,
          323,
          330,
          329,
          327,
          326,
          328,
          334,
          335,
          332,
          331,
          333,
          338,
          339,
          336,
          337,
          340,
          341,
          342,
          343,
          344,
          345,
          346,
          347,
          348,
          349,
          350,
          351,
          352,
          353,
          354,
          355,
          360,
          359,
          356,
          357,
          358,
          365,
          364,
          363,
          362,
          361,
          370,
          368,
          369,
          366,
          367,
          374,
          371,
          372,
          373,
          375,
          376,
          377,
          378,
          379,
          380,
          381,
          382,
          383,
          384,
          385,
          386,
          387,
          388,
          389,
          390,
          395,
          394,
          391,
          392,
          393,
          400,
          399,
          398,
          397,
          396,
          404,
          403,
          405,
          401,
          402,
          410,
          406,
          407,
          408,
          409,
          411,
          412,
          413,
          414,
          415,
          416,
          417,
          418,
          419,
          420,
          421,
          422,
          423,
          424,
          425,
          430,
          429,
          426,
          427,
          428,
          434,
          433,
          435,
          431,
          432,
          439,
          438,
          440,
          436,
          437,
          441,
          442,
          443,
          444,
          445,
          446,
          447,
          448,
          449,
          450,
          451,
          452,
          453,
          454,
          455,
          460,
          459,
          456,
          457,
          458,
          465,
          463,
          464,
          461,
          462,
          469,
          466,
          467,
          468,
          470,
          471,
          472,
          473,
          474,
          475,
          476,
          477,
          478,
          479,
          480,
          481,
          482,
          483,
          484,
          485,
          490,
          489,
          486,
          487,
          488,
          495,
          494,
          492,
          491,
          493,
          499,
          500,
          498,
          497,
          496
         ],
         "yaxis": "y"
        },
        {
         "hovertemplate": "State=completed<br>Time=%{x}<br>message_id=%{y}<extra></extra>",
         "legendgroup": "completed",
         "line": {
          "color": "#00cc96",
          "dash": "solid"
         },
         "marker": {
          "symbol": "circle"
         },
         "mode": "lines+markers",
         "name": "completed",
         "showlegend": true,
         "type": "scattergl",
         "x": [
          "2024-12-31T11:25:35.229009",
          "2024-12-31T11:25:35.229247",
          "2024-12-31T11:25:35.229459",
          "2024-12-31T11:25:35.229668",
          "2024-12-31T11:25:35.229866",
          "2024-12-31T11:25:36.698269",
          "2024-12-31T11:25:36.698602",
          "2024-12-31T11:25:36.698840",
          "2024-12-31T11:25:36.699066",
          "2024-12-31T11:25:36.699281",
          "2024-12-31T11:26:25.532605",
          "2024-12-31T11:26:25.532826",
          "2024-12-31T11:26:25.533052",
          "2024-12-31T11:26:25.533260",
          "2024-12-31T11:26:25.533457",
          "2024-12-31T11:26:26.967384",
          "2024-12-31T11:26:26.967783",
          "2024-12-31T11:26:26.968081",
          "2024-12-31T11:26:26.968455",
          "2024-12-31T11:26:26.968823",
          "2024-12-31T11:27:15.745873",
          "2024-12-31T11:27:15.746117",
          "2024-12-31T11:27:15.746324",
          "2024-12-31T11:27:15.746526",
          "2024-12-31T11:27:15.747091",
          "2024-12-31T11:27:17.178815",
          "2024-12-31T11:27:17.179033",
          "2024-12-31T11:27:17.179291",
          "2024-12-31T11:27:17.179502",
          "2024-12-31T11:27:17.179702",
          "2024-12-31T11:28:05.976241",
          "2024-12-31T11:28:05.976477",
          "2024-12-31T11:28:05.976690",
          "2024-12-31T11:28:05.976885",
          "2024-12-31T11:28:05.977077",
          "2024-12-31T11:28:07.383488",
          "2024-12-31T11:28:07.383749",
          "2024-12-31T11:28:07.384188",
          "2024-12-31T11:28:07.384453",
          "2024-12-31T11:28:07.384683",
          "2024-12-31T11:28:56.184621",
          "2024-12-31T11:28:56.184855",
          "2024-12-31T11:28:56.185071",
          "2024-12-31T11:28:56.185266",
          "2024-12-31T11:28:56.185454",
          "2024-12-31T11:28:57.616072",
          "2024-12-31T11:28:57.616304",
          "2024-12-31T11:28:57.616514",
          "2024-12-31T11:28:57.616707",
          "2024-12-31T11:28:57.617020",
          "2024-12-31T11:29:46.394896",
          "2024-12-31T11:29:46.395112",
          "2024-12-31T11:29:46.395307",
          "2024-12-31T11:29:46.395496",
          "2024-12-31T11:29:46.395686",
          "2024-12-31T11:29:47.816673",
          "2024-12-31T11:29:47.816886",
          "2024-12-31T11:29:47.817087",
          "2024-12-31T11:29:47.817281",
          "2024-12-31T11:29:47.817584",
          "2024-12-31T11:30:36.659850",
          "2024-12-31T11:30:36.660082",
          "2024-12-31T11:30:36.660283",
          "2024-12-31T11:30:36.660476",
          "2024-12-31T11:30:36.660684",
          "2024-12-31T11:30:38.019190",
          "2024-12-31T11:30:38.019493",
          "2024-12-31T11:30:38.019725",
          "2024-12-31T11:30:38.019943",
          "2024-12-31T11:30:38.020156",
          "2024-12-31T11:31:26.896891",
          "2024-12-31T11:31:26.897290",
          "2024-12-31T11:31:26.897634",
          "2024-12-31T11:31:26.897843",
          "2024-12-31T11:31:26.898059",
          "2024-12-31T11:31:28.241091",
          "2024-12-31T11:31:28.241325",
          "2024-12-31T11:31:28.241548",
          "2024-12-31T11:31:28.241756",
          "2024-12-31T11:31:28.241962",
          "2024-12-31T11:32:17.180036",
          "2024-12-31T11:32:17.180277",
          "2024-12-31T11:32:17.180485",
          "2024-12-31T11:32:17.180688",
          "2024-12-31T11:32:17.180882",
          "2024-12-31T11:32:18.538076",
          "2024-12-31T11:32:18.538348",
          "2024-12-31T11:32:18.538571",
          "2024-12-31T11:32:18.538792",
          "2024-12-31T11:32:18.539021",
          "2024-12-31T11:33:07.396935",
          "2024-12-31T11:33:07.397206",
          "2024-12-31T11:33:07.397421",
          "2024-12-31T11:33:07.397631",
          "2024-12-31T11:33:07.397833",
          "2024-12-31T11:33:08.748195",
          "2024-12-31T11:33:08.748455",
          "2024-12-31T11:33:08.748678",
          "2024-12-31T11:33:08.748891",
          "2024-12-31T11:33:08.749117",
          "2024-12-31T11:33:57.609864",
          "2024-12-31T11:33:57.610106",
          "2024-12-31T11:33:57.610319",
          "2024-12-31T11:33:57.610531",
          "2024-12-31T11:33:57.610736",
          "2024-12-31T11:33:58.979470",
          "2024-12-31T11:33:58.979734",
          "2024-12-31T11:33:58.979954",
          "2024-12-31T11:33:58.980181",
          "2024-12-31T11:33:58.980403",
          "2024-12-31T11:34:47.845299",
          "2024-12-31T11:34:47.845549",
          "2024-12-31T11:34:47.845751",
          "2024-12-31T11:34:47.845949",
          "2024-12-31T11:34:47.846143",
          "2024-12-31T11:34:49.204456",
          "2024-12-31T11:34:49.204743",
          "2024-12-31T11:34:49.204958",
          "2024-12-31T11:34:49.205160",
          "2024-12-31T11:34:49.205355",
          "2024-12-31T11:35:38.115313",
          "2024-12-31T11:35:38.115556",
          "2024-12-31T11:35:38.115768",
          "2024-12-31T11:35:38.115990",
          "2024-12-31T11:35:38.116214",
          "2024-12-31T11:35:39.499400",
          "2024-12-31T11:35:39.500075",
          "2024-12-31T11:35:39.500487",
          "2024-12-31T11:35:39.500821",
          "2024-12-31T11:35:39.501071",
          "2024-12-31T11:36:28.349275",
          "2024-12-31T11:36:28.349493",
          "2024-12-31T11:36:28.349690",
          "2024-12-31T11:36:28.349885",
          "2024-12-31T11:36:28.350087",
          "2024-12-31T11:36:29.712831",
          "2024-12-31T11:36:29.713122",
          "2024-12-31T11:36:29.713440",
          "2024-12-31T11:36:29.713803",
          "2024-12-31T11:36:29.714026",
          "2024-12-31T11:37:18.610023",
          "2024-12-31T11:37:18.610324",
          "2024-12-31T11:37:18.610567",
          "2024-12-31T11:37:18.611200",
          "2024-12-31T11:37:18.611689",
          "2024-12-31T11:37:19.928374",
          "2024-12-31T11:37:19.928758",
          "2024-12-31T11:37:19.928973",
          "2024-12-31T11:37:19.929360",
          "2024-12-31T11:37:19.929583",
          "2024-12-31T11:38:08.921720",
          "2024-12-31T11:38:08.921964",
          "2024-12-31T11:38:08.922182",
          "2024-12-31T11:38:08.922380",
          "2024-12-31T11:38:08.922576",
          "2024-12-31T11:38:10.199190",
          "2024-12-31T11:38:10.199423",
          "2024-12-31T11:38:10.199624",
          "2024-12-31T11:38:10.199837",
          "2024-12-31T11:38:10.200035",
          "2024-12-31T11:38:59.138738",
          "2024-12-31T11:38:59.138975",
          "2024-12-31T11:38:59.139179",
          "2024-12-31T11:38:59.139372",
          "2024-12-31T11:38:59.139562",
          "2024-12-31T11:39:00.466475",
          "2024-12-31T11:39:00.466723",
          "2024-12-31T11:39:00.466941",
          "2024-12-31T11:39:00.467150",
          "2024-12-31T11:39:00.467353",
          "2024-12-31T11:39:49.351283",
          "2024-12-31T11:39:49.351514",
          "2024-12-31T11:39:49.351747",
          "2024-12-31T11:39:49.351948",
          "2024-12-31T11:39:49.352150",
          "2024-12-31T11:39:50.716712",
          "2024-12-31T11:39:50.716953",
          "2024-12-31T11:39:50.717156",
          "2024-12-31T11:39:50.717354",
          "2024-12-31T11:39:50.717552",
          "2024-12-31T11:40:39.590952",
          "2024-12-31T11:40:39.591219",
          "2024-12-31T11:40:39.591671",
          "2024-12-31T11:40:39.591919",
          "2024-12-31T11:40:39.592144",
          "2024-12-31T11:40:40.936283",
          "2024-12-31T11:40:40.936614",
          "2024-12-31T11:40:40.936830",
          "2024-12-31T11:40:40.937029",
          "2024-12-31T11:40:40.937220",
          "2024-12-31T11:41:29.814155",
          "2024-12-31T11:41:29.814385",
          "2024-12-31T11:41:29.814584",
          "2024-12-31T11:41:29.814802",
          "2024-12-31T11:41:29.815005",
          "2024-12-31T11:41:31.149730",
          "2024-12-31T11:41:31.149983",
          "2024-12-31T11:41:31.150233",
          "2024-12-31T11:41:31.150448",
          "2024-12-31T11:41:31.150651",
          "2024-12-31T11:42:20.037916",
          "2024-12-31T11:42:20.038184",
          "2024-12-31T11:42:20.038405",
          "2024-12-31T11:42:20.038615",
          "2024-12-31T11:42:20.038820",
          "2024-12-31T11:42:21.389776",
          "2024-12-31T11:42:21.390123",
          "2024-12-31T11:42:21.390633",
          "2024-12-31T11:42:21.390865",
          "2024-12-31T11:42:21.391279",
          "2024-12-31T11:43:10.282192",
          "2024-12-31T11:43:10.282484",
          "2024-12-31T11:43:10.282780",
          "2024-12-31T11:43:10.283007",
          "2024-12-31T11:43:10.283214",
          "2024-12-31T11:43:11.605174",
          "2024-12-31T11:43:11.605495",
          "2024-12-31T11:43:11.605717",
          "2024-12-31T11:43:11.606314",
          "2024-12-31T11:43:11.606621",
          "2024-12-31T11:44:00.526505",
          "2024-12-31T11:44:00.526736",
          "2024-12-31T11:44:00.526957",
          "2024-12-31T11:44:00.527223",
          "2024-12-31T11:44:00.527492",
          "2024-12-31T11:44:01.823554",
          "2024-12-31T11:44:01.823868",
          "2024-12-31T11:44:01.824228",
          "2024-12-31T11:44:01.824485",
          "2024-12-31T11:44:01.824731",
          "2024-12-31T11:44:50.815416",
          "2024-12-31T11:44:50.815653",
          "2024-12-31T11:44:50.815847",
          "2024-12-31T11:44:50.816149",
          "2024-12-31T11:44:50.816768",
          "2024-12-31T11:44:52.095027",
          "2024-12-31T11:44:52.095332",
          "2024-12-31T11:44:52.095583",
          "2024-12-31T11:44:52.095782",
          "2024-12-31T11:44:52.095975",
          "2024-12-31T11:45:41.034185",
          "2024-12-31T11:45:41.034416",
          "2024-12-31T11:45:41.034616",
          "2024-12-31T11:45:41.034807",
          "2024-12-31T11:45:41.035058",
          "2024-12-31T11:45:42.332454",
          "2024-12-31T11:45:42.332668",
          "2024-12-31T11:45:42.332877",
          "2024-12-31T11:45:42.333081",
          "2024-12-31T11:45:42.333272",
          "2024-12-31T11:46:31.268479",
          "2024-12-31T11:46:31.268716",
          "2024-12-31T11:46:31.268934",
          "2024-12-31T11:46:31.269149",
          "2024-12-31T11:46:31.269352",
          "2024-12-31T11:46:32.551364",
          "2024-12-31T11:46:32.551586",
          "2024-12-31T11:46:32.551813",
          "2024-12-31T11:46:32.552038",
          "2024-12-31T11:46:32.552238",
          "2024-12-31T11:47:21.499930",
          "2024-12-31T11:47:21.500187",
          "2024-12-31T11:47:21.500419",
          "2024-12-31T11:47:21.500636",
          "2024-12-31T11:47:21.500917",
          "2024-12-31T11:47:22.753060",
          "2024-12-31T11:47:22.753284",
          "2024-12-31T11:47:22.753491",
          "2024-12-31T11:47:22.753890",
          "2024-12-31T11:47:22.754100",
          "2024-12-31T11:48:11.787564",
          "2024-12-31T11:48:11.787784",
          "2024-12-31T11:48:11.787992",
          "2024-12-31T11:48:11.788184",
          "2024-12-31T11:48:11.788382",
          "2024-12-31T11:48:13.016674",
          "2024-12-31T11:48:13.016894",
          "2024-12-31T11:48:13.017099",
          "2024-12-31T11:48:13.017292",
          "2024-12-31T11:48:13.017654",
          "2024-12-31T11:49:02.017861",
          "2024-12-31T11:49:02.018088",
          "2024-12-31T11:49:02.018318",
          "2024-12-31T11:49:02.018519",
          "2024-12-31T11:49:02.018714",
          "2024-12-31T11:49:03.240777",
          "2024-12-31T11:49:03.241009",
          "2024-12-31T11:49:03.241219",
          "2024-12-31T11:49:03.241622",
          "2024-12-31T11:49:03.241836",
          "2024-12-31T11:49:52.247429",
          "2024-12-31T11:49:52.247755",
          "2024-12-31T11:49:52.248159",
          "2024-12-31T11:49:52.248562",
          "2024-12-31T11:49:52.248879",
          "2024-12-31T11:49:53.471659",
          "2024-12-31T11:49:53.472019",
          "2024-12-31T11:49:53.472246",
          "2024-12-31T11:49:53.472442",
          "2024-12-31T11:49:53.472631",
          "2024-12-31T11:50:42.550633",
          "2024-12-31T11:50:42.550911",
          "2024-12-31T11:50:42.551216",
          "2024-12-31T11:50:42.551432",
          "2024-12-31T11:50:42.551641",
          "2024-12-31T11:50:43.758723",
          "2024-12-31T11:50:43.758976",
          "2024-12-31T11:50:43.759183",
          "2024-12-31T11:50:43.759387",
          "2024-12-31T11:50:43.759931",
          "2024-12-31T11:51:32.764112",
          "2024-12-31T11:51:32.764334",
          "2024-12-31T11:51:32.764535",
          "2024-12-31T11:51:32.764726",
          "2024-12-31T11:51:32.764921",
          "2024-12-31T11:51:33.968653",
          "2024-12-31T11:51:33.969261",
          "2024-12-31T11:51:33.969475",
          "2024-12-31T11:51:33.969784",
          "2024-12-31T11:51:33.970000",
          "2024-12-31T11:52:23.000136",
          "2024-12-31T11:52:23.000376",
          "2024-12-31T11:52:23.000608",
          "2024-12-31T11:52:23.000822",
          "2024-12-31T11:52:23.001018",
          "2024-12-31T11:52:24.201542",
          "2024-12-31T11:52:24.201837",
          "2024-12-31T11:52:24.202057",
          "2024-12-31T11:52:24.202250",
          "2024-12-31T11:52:24.202441",
          "2024-12-31T11:53:13.231026",
          "2024-12-31T11:53:13.231420",
          "2024-12-31T11:53:13.231635",
          "2024-12-31T11:53:13.231857",
          "2024-12-31T11:53:13.232080",
          "2024-12-31T11:53:14.410662",
          "2024-12-31T11:53:14.410892",
          "2024-12-31T11:53:14.411107",
          "2024-12-31T11:53:14.411321",
          "2024-12-31T11:53:14.411555",
          "2024-12-31T11:54:03.447555",
          "2024-12-31T11:54:03.447791",
          "2024-12-31T11:54:03.447989",
          "2024-12-31T11:54:03.448181",
          "2024-12-31T11:54:03.448481",
          "2024-12-31T11:54:04.624163",
          "2024-12-31T11:54:04.624398",
          "2024-12-31T11:54:04.624621",
          "2024-12-31T11:54:04.624823",
          "2024-12-31T11:54:04.625021",
          "2024-12-31T11:54:53.673824",
          "2024-12-31T11:54:53.674062",
          "2024-12-31T11:54:53.674272",
          "2024-12-31T11:54:53.674470",
          "2024-12-31T11:54:53.674681",
          "2024-12-31T11:54:54.875560",
          "2024-12-31T11:54:54.875779",
          "2024-12-31T11:54:54.875975",
          "2024-12-31T11:54:54.876178",
          "2024-12-31T11:54:54.876370",
          "2024-12-31T11:55:43.919980",
          "2024-12-31T11:55:43.920812",
          "2024-12-31T11:55:43.921070",
          "2024-12-31T11:55:43.921510",
          "2024-12-31T11:55:43.921742",
          "2024-12-31T11:55:45.125660",
          "2024-12-31T11:55:45.125925",
          "2024-12-31T11:55:45.126362",
          "2024-12-31T11:55:45.126606",
          "2024-12-31T11:55:45.126803",
          "2024-12-31T11:56:34.201690",
          "2024-12-31T11:56:34.201938",
          "2024-12-31T11:56:34.202166",
          "2024-12-31T11:56:34.202376",
          "2024-12-31T11:56:34.202582",
          "2024-12-31T11:56:35.394843",
          "2024-12-31T11:56:35.395058",
          "2024-12-31T11:56:35.395254",
          "2024-12-31T11:56:35.395459",
          "2024-12-31T11:56:35.395649",
          "2024-12-31T11:57:24.423397",
          "2024-12-31T11:57:24.423626",
          "2024-12-31T11:57:24.423837",
          "2024-12-31T11:57:24.424042",
          "2024-12-31T11:57:24.424242",
          "2024-12-31T11:57:25.598673",
          "2024-12-31T11:57:25.598932",
          "2024-12-31T11:57:25.599161",
          "2024-12-31T11:57:25.599366",
          "2024-12-31T11:57:25.599560",
          "2024-12-31T11:58:14.644686",
          "2024-12-31T11:58:14.644903",
          "2024-12-31T11:58:14.645117",
          "2024-12-31T11:58:14.645310",
          "2024-12-31T11:58:14.645497",
          "2024-12-31T11:58:15.809321",
          "2024-12-31T11:58:15.809551",
          "2024-12-31T11:58:15.809759",
          "2024-12-31T11:58:15.809959",
          "2024-12-31T11:58:15.810154",
          "2024-12-31T11:59:04.881716",
          "2024-12-31T11:59:04.881935",
          "2024-12-31T11:59:04.882317",
          "2024-12-31T11:59:04.882583",
          "2024-12-31T11:59:04.883217",
          "2024-12-31T11:59:06.055588",
          "2024-12-31T11:59:06.055819",
          "2024-12-31T11:59:06.056027",
          "2024-12-31T11:59:06.056241",
          "2024-12-31T11:59:06.056438",
          "2024-12-31T11:59:55.099025",
          "2024-12-31T11:59:55.099296",
          "2024-12-31T11:59:55.099612",
          "2024-12-31T11:59:55.099874",
          "2024-12-31T11:59:55.100077",
          "2024-12-31T11:59:56.287730",
          "2024-12-31T11:59:56.287960",
          "2024-12-31T11:59:56.288163",
          "2024-12-31T11:59:56.288365",
          "2024-12-31T11:59:56.288576",
          "2024-12-31T12:00:45.384593",
          "2024-12-31T12:00:45.384856",
          "2024-12-31T12:00:45.385067",
          "2024-12-31T12:00:45.385287",
          "2024-12-31T12:00:45.385494",
          "2024-12-31T12:00:46.553002",
          "2024-12-31T12:00:46.553417",
          "2024-12-31T12:00:46.553628",
          "2024-12-31T12:00:46.553853",
          "2024-12-31T12:00:46.554059",
          "2024-12-31T12:01:35.608155",
          "2024-12-31T12:01:35.608420",
          "2024-12-31T12:01:35.608626",
          "2024-12-31T12:01:35.608825",
          "2024-12-31T12:01:35.609024",
          "2024-12-31T12:01:36.758037",
          "2024-12-31T12:01:36.758332",
          "2024-12-31T12:01:36.758539",
          "2024-12-31T12:01:36.758741",
          "2024-12-31T12:01:36.758940",
          "2024-12-31T12:02:25.850271",
          "2024-12-31T12:02:25.850488",
          "2024-12-31T12:02:25.850687",
          "2024-12-31T12:02:25.850884",
          "2024-12-31T12:02:25.851112",
          "2024-12-31T12:02:26.990807",
          "2024-12-31T12:02:26.991055",
          "2024-12-31T12:02:26.991262",
          "2024-12-31T12:02:26.991453",
          "2024-12-31T12:02:26.991643",
          "2024-12-31T12:03:16.130928",
          "2024-12-31T12:03:16.131160",
          "2024-12-31T12:03:16.131399",
          "2024-12-31T12:03:16.131609",
          "2024-12-31T12:03:16.131818",
          "2024-12-31T12:03:17.260037",
          "2024-12-31T12:03:17.260495",
          "2024-12-31T12:03:17.261155",
          "2024-12-31T12:03:17.261560",
          "2024-12-31T12:03:17.261878",
          "2024-12-31T12:04:06.345025",
          "2024-12-31T12:04:06.345449",
          "2024-12-31T12:04:06.345722",
          "2024-12-31T12:04:06.345995",
          "2024-12-31T12:04:06.346246",
          "2024-12-31T12:04:07.472219",
          "2024-12-31T12:04:07.472464",
          "2024-12-31T12:04:07.472690",
          "2024-12-31T12:04:07.472949",
          "2024-12-31T12:04:07.473409",
          "2024-12-31T12:04:56.600654",
          "2024-12-31T12:04:56.600998",
          "2024-12-31T12:04:56.601280",
          "2024-12-31T12:04:56.601481",
          "2024-12-31T12:04:56.601671",
          "2024-12-31T12:04:57.675044",
          "2024-12-31T12:04:57.675404",
          "2024-12-31T12:04:57.675640",
          "2024-12-31T12:04:57.675846",
          "2024-12-31T12:04:57.676047",
          "2024-12-31T12:05:46.850176",
          "2024-12-31T12:05:46.850445",
          "2024-12-31T12:05:46.850669",
          "2024-12-31T12:05:46.850886",
          "2024-12-31T12:05:46.851100",
          "2024-12-31T12:05:47.904152",
          "2024-12-31T12:05:47.904378",
          "2024-12-31T12:05:47.904596",
          "2024-12-31T12:05:47.904809",
          "2024-12-31T12:05:47.905029",
          "2024-12-31T12:06:38.156633",
          "2024-12-31T12:06:38.156860",
          "2024-12-31T12:06:38.157071",
          "2024-12-31T12:06:38.157284",
          "2024-12-31T12:06:38.157489",
          "2024-12-31T12:06:38.890797",
          "2024-12-31T12:06:38.891074",
          "2024-12-31T12:06:38.891471",
          "2024-12-31T12:06:38.891895",
          "2024-12-31T12:06:38.892213"
         ],
         "xaxis": "x",
         "y": [
          1,
          2,
          3,
          4,
          5,
          6,
          7,
          8,
          9,
          10,
          11,
          12,
          13,
          14,
          15,
          16,
          17,
          18,
          19,
          20,
          21,
          22,
          23,
          24,
          25,
          26,
          27,
          28,
          29,
          30,
          31,
          32,
          33,
          34,
          35,
          36,
          37,
          38,
          39,
          40,
          41,
          42,
          43,
          44,
          45,
          46,
          47,
          48,
          49,
          50,
          51,
          52,
          53,
          54,
          55,
          56,
          57,
          58,
          59,
          60,
          61,
          62,
          63,
          64,
          65,
          66,
          67,
          68,
          69,
          70,
          71,
          72,
          73,
          74,
          75,
          76,
          77,
          78,
          79,
          80,
          81,
          82,
          83,
          84,
          85,
          86,
          87,
          88,
          89,
          90,
          91,
          92,
          93,
          94,
          95,
          96,
          97,
          98,
          99,
          100,
          101,
          102,
          103,
          104,
          105,
          106,
          107,
          108,
          109,
          110,
          111,
          112,
          113,
          114,
          115,
          116,
          117,
          118,
          119,
          120,
          121,
          122,
          123,
          124,
          125,
          126,
          127,
          128,
          129,
          130,
          131,
          132,
          133,
          134,
          135,
          136,
          137,
          138,
          139,
          140,
          141,
          142,
          143,
          144,
          145,
          146,
          147,
          148,
          149,
          150,
          151,
          152,
          153,
          154,
          155,
          156,
          157,
          158,
          159,
          160,
          161,
          162,
          163,
          164,
          165,
          166,
          167,
          168,
          169,
          170,
          171,
          172,
          173,
          174,
          175,
          176,
          177,
          178,
          179,
          180,
          181,
          182,
          183,
          184,
          185,
          186,
          187,
          188,
          189,
          190,
          191,
          192,
          193,
          194,
          195,
          196,
          197,
          198,
          199,
          200,
          201,
          202,
          203,
          204,
          205,
          206,
          207,
          208,
          209,
          210,
          211,
          212,
          213,
          214,
          215,
          216,
          217,
          218,
          219,
          220,
          221,
          222,
          223,
          224,
          225,
          226,
          227,
          228,
          229,
          230,
          231,
          232,
          233,
          234,
          235,
          236,
          237,
          238,
          239,
          240,
          241,
          242,
          243,
          244,
          245,
          246,
          247,
          248,
          249,
          250,
          251,
          252,
          253,
          254,
          255,
          256,
          257,
          258,
          259,
          260,
          261,
          262,
          263,
          264,
          265,
          266,
          267,
          268,
          269,
          270,
          271,
          272,
          273,
          274,
          275,
          276,
          277,
          278,
          279,
          280,
          281,
          282,
          283,
          284,
          285,
          286,
          287,
          288,
          289,
          290,
          291,
          292,
          293,
          294,
          295,
          296,
          297,
          298,
          299,
          300,
          301,
          302,
          303,
          304,
          305,
          306,
          307,
          308,
          309,
          310,
          311,
          312,
          313,
          314,
          315,
          316,
          317,
          318,
          319,
          320,
          321,
          322,
          323,
          324,
          325,
          326,
          327,
          328,
          329,
          330,
          331,
          332,
          333,
          334,
          335,
          336,
          337,
          338,
          339,
          340,
          341,
          342,
          343,
          344,
          345,
          346,
          347,
          348,
          349,
          350,
          351,
          352,
          353,
          354,
          355,
          356,
          357,
          358,
          359,
          360,
          361,
          362,
          363,
          364,
          365,
          366,
          367,
          368,
          369,
          370,
          371,
          372,
          373,
          374,
          375,
          376,
          377,
          378,
          379,
          380,
          381,
          382,
          383,
          384,
          385,
          386,
          387,
          388,
          389,
          390,
          391,
          392,
          393,
          394,
          395,
          396,
          397,
          398,
          399,
          400,
          401,
          402,
          403,
          404,
          405,
          406,
          407,
          408,
          409,
          410,
          411,
          412,
          413,
          414,
          415,
          416,
          417,
          418,
          419,
          420,
          421,
          422,
          423,
          424,
          425,
          426,
          427,
          428,
          429,
          430,
          431,
          432,
          433,
          434,
          435,
          436,
          437,
          438,
          439,
          440,
          441,
          442,
          443,
          444,
          445,
          446,
          447,
          448,
          449,
          450,
          451,
          452,
          453,
          454,
          455,
          456,
          457,
          458,
          459,
          460,
          461,
          462,
          463,
          464,
          465,
          466,
          467,
          468,
          469,
          470,
          471,
          472,
          473,
          474,
          475,
          476,
          477,
          478,
          479,
          480,
          481,
          482,
          483,
          484,
          485,
          486,
          487,
          488,
          489,
          490,
          491,
          492,
          493,
          494,
          495,
          496,
          497,
          498,
          499,
          500
         ],
         "yaxis": "y"
        }
       ],
       "layout": {
        "hovermode": "closest",
        "legend": {
         "title": {
          "text": "State"
         },
         "tracegroupgap": 0
        },
        "margin": {
         "b": 40,
         "l": 40,
         "r": 40,
         "t": 40
        },
        "template": {
         "data": {
          "bar": [
           {
            "error_x": {
             "color": "#f2f5fa"
            },
            "error_y": {
             "color": "#f2f5fa"
            },
            "marker": {
             "line": {
              "color": "rgb(17,17,17)",
              "width": 0.5
             },
             "pattern": {
              "fillmode": "overlay",
              "size": 10,
              "solidity": 0.2
             }
            },
            "type": "bar"
           }
          ],
          "barpolar": [
           {
            "marker": {
             "line": {
              "color": "rgb(17,17,17)",
              "width": 0.5
             },
             "pattern": {
              "fillmode": "overlay",
              "size": 10,
              "solidity": 0.2
             }
            },
            "type": "barpolar"
           }
          ],
          "carpet": [
           {
            "aaxis": {
             "endlinecolor": "#A2B1C6",
             "gridcolor": "#506784",
             "linecolor": "#506784",
             "minorgridcolor": "#506784",
             "startlinecolor": "#A2B1C6"
            },
            "baxis": {
             "endlinecolor": "#A2B1C6",
             "gridcolor": "#506784",
             "linecolor": "#506784",
             "minorgridcolor": "#506784",
             "startlinecolor": "#A2B1C6"
            },
            "type": "carpet"
           }
          ],
          "choropleth": [
           {
            "colorbar": {
             "outlinewidth": 0,
             "ticks": ""
            },
            "type": "choropleth"
           }
          ],
          "contour": [
           {
            "colorbar": {
             "outlinewidth": 0,
             "ticks": ""
            },
            "colorscale": [
             [
              0,
              "#0d0887"
             ],
             [
              0.1111111111111111,
              "#46039f"
             ],
             [
              0.2222222222222222,
              "#7201a8"
             ],
             [
              0.3333333333333333,
              "#9c179e"
             ],
             [
              0.4444444444444444,
              "#bd3786"
             ],
             [
              0.5555555555555556,
              "#d8576b"
             ],
             [
              0.6666666666666666,
              "#ed7953"
             ],
             [
              0.7777777777777778,
              "#fb9f3a"
             ],
             [
              0.8888888888888888,
              "#fdca26"
             ],
             [
              1,
              "#f0f921"
             ]
            ],
            "type": "contour"
           }
          ],
          "contourcarpet": [
           {
            "colorbar": {
             "outlinewidth": 0,
             "ticks": ""
            },
            "type": "contourcarpet"
           }
          ],
          "heatmap": [
           {
            "colorbar": {
             "outlinewidth": 0,
             "ticks": ""
            },
            "colorscale": [
             [
              0,
              "#0d0887"
             ],
             [
              0.1111111111111111,
              "#46039f"
             ],
             [
              0.2222222222222222,
              "#7201a8"
             ],
             [
              0.3333333333333333,
              "#9c179e"
             ],
             [
              0.4444444444444444,
              "#bd3786"
             ],
             [
              0.5555555555555556,
              "#d8576b"
             ],
             [
              0.6666666666666666,
              "#ed7953"
             ],
             [
              0.7777777777777778,
              "#fb9f3a"
             ],
             [
              0.8888888888888888,
              "#fdca26"
             ],
             [
              1,
              "#f0f921"
             ]
            ],
            "type": "heatmap"
           }
          ],
          "heatmapgl": [
           {
            "colorbar": {
             "outlinewidth": 0,
             "ticks": ""
            },
            "colorscale": [
             [
              0,
              "#0d0887"
             ],
             [
              0.1111111111111111,
              "#46039f"
             ],
             [
              0.2222222222222222,
              "#7201a8"
             ],
             [
              0.3333333333333333,
              "#9c179e"
             ],
             [
              0.4444444444444444,
              "#bd3786"
             ],
             [
              0.5555555555555556,
              "#d8576b"
             ],
             [
              0.6666666666666666,
              "#ed7953"
             ],
             [
              0.7777777777777778,
              "#fb9f3a"
             ],
             [
              0.8888888888888888,
              "#fdca26"
             ],
             [
              1,
              "#f0f921"
             ]
            ],
            "type": "heatmapgl"
           }
          ],
          "histogram": [
           {
            "marker": {
             "pattern": {
              "fillmode": "overlay",
              "size": 10,
              "solidity": 0.2
             }
            },
            "type": "histogram"
           }
          ],
          "histogram2d": [
           {
            "colorbar": {
             "outlinewidth": 0,
             "ticks": ""
            },
            "colorscale": [
             [
              0,
              "#0d0887"
             ],
             [
              0.1111111111111111,
              "#46039f"
             ],
             [
              0.2222222222222222,
              "#7201a8"
             ],
             [
              0.3333333333333333,
              "#9c179e"
             ],
             [
              0.4444444444444444,
              "#bd3786"
             ],
             [
              0.5555555555555556,
              "#d8576b"
             ],
             [
              0.6666666666666666,
              "#ed7953"
             ],
             [
              0.7777777777777778,
              "#fb9f3a"
             ],
             [
              0.8888888888888888,
              "#fdca26"
             ],
             [
              1,
              "#f0f921"
             ]
            ],
            "type": "histogram2d"
           }
          ],
          "histogram2dcontour": [
           {
            "colorbar": {
             "outlinewidth": 0,
             "ticks": ""
            },
            "colorscale": [
             [
              0,
              "#0d0887"
             ],
             [
              0.1111111111111111,
              "#46039f"
             ],
             [
              0.2222222222222222,
              "#7201a8"
             ],
             [
              0.3333333333333333,
              "#9c179e"
             ],
             [
              0.4444444444444444,
              "#bd3786"
             ],
             [
              0.5555555555555556,
              "#d8576b"
             ],
             [
              0.6666666666666666,
              "#ed7953"
             ],
             [
              0.7777777777777778,
              "#fb9f3a"
             ],
             [
              0.8888888888888888,
              "#fdca26"
             ],
             [
              1,
              "#f0f921"
             ]
            ],
            "type": "histogram2dcontour"
           }
          ],
          "mesh3d": [
           {
            "colorbar": {
             "outlinewidth": 0,
             "ticks": ""
            },
            "type": "mesh3d"
           }
          ],
          "parcoords": [
           {
            "line": {
             "colorbar": {
              "outlinewidth": 0,
              "ticks": ""
             }
            },
            "type": "parcoords"
           }
          ],
          "pie": [
           {
            "automargin": true,
            "type": "pie"
           }
          ],
          "scatter": [
           {
            "marker": {
             "line": {
              "color": "#283442"
             }
            },
            "type": "scatter"
           }
          ],
          "scatter3d": [
           {
            "line": {
             "colorbar": {
              "outlinewidth": 0,
              "ticks": ""
             }
            },
            "marker": {
             "colorbar": {
              "outlinewidth": 0,
              "ticks": ""
             }
            },
            "type": "scatter3d"
           }
          ],
          "scattercarpet": [
           {
            "marker": {
             "colorbar": {
              "outlinewidth": 0,
              "ticks": ""
             }
            },
            "type": "scattercarpet"
           }
          ],
          "scattergeo": [
           {
            "marker": {
             "colorbar": {
              "outlinewidth": 0,
              "ticks": ""
             }
            },
            "type": "scattergeo"
           }
          ],
          "scattergl": [
           {
            "marker": {
             "line": {
              "color": "#283442"
             }
            },
            "type": "scattergl"
           }
          ],
          "scattermapbox": [
           {
            "marker": {
             "colorbar": {
              "outlinewidth": 0,
              "ticks": ""
             }
            },
            "type": "scattermapbox"
           }
          ],
          "scatterpolar": [
           {
            "marker": {
             "colorbar": {
              "outlinewidth": 0,
              "ticks": ""
             }
            },
            "type": "scatterpolar"
           }
          ],
          "scatterpolargl": [
           {
            "marker": {
             "colorbar": {
              "outlinewidth": 0,
              "ticks": ""
             }
            },
            "type": "scatterpolargl"
           }
          ],
          "scatterternary": [
           {
            "marker": {
             "colorbar": {
              "outlinewidth": 0,
              "ticks": ""
             }
            },
            "type": "scatterternary"
           }
          ],
          "surface": [
           {
            "colorbar": {
             "outlinewidth": 0,
             "ticks": ""
            },
            "colorscale": [
             [
              0,
              "#0d0887"
             ],
             [
              0.1111111111111111,
              "#46039f"
             ],
             [
              0.2222222222222222,
              "#7201a8"
             ],
             [
              0.3333333333333333,
              "#9c179e"
             ],
             [
              0.4444444444444444,
              "#bd3786"
             ],
             [
              0.5555555555555556,
              "#d8576b"
             ],
             [
              0.6666666666666666,
              "#ed7953"
             ],
             [
              0.7777777777777778,
              "#fb9f3a"
             ],
             [
              0.8888888888888888,
              "#fdca26"
             ],
             [
              1,
              "#f0f921"
             ]
            ],
            "type": "surface"
           }
          ],
          "table": [
           {
            "cells": {
             "fill": {
              "color": "#506784"
             },
             "line": {
              "color": "rgb(17,17,17)"
             }
            },
            "header": {
             "fill": {
              "color": "#2a3f5f"
             },
             "line": {
              "color": "rgb(17,17,17)"
             }
            },
            "type": "table"
           }
          ]
         },
         "layout": {
          "annotationdefaults": {
           "arrowcolor": "#f2f5fa",
           "arrowhead": 0,
           "arrowwidth": 1
          },
          "autotypenumbers": "strict",
          "coloraxis": {
           "colorbar": {
            "outlinewidth": 0,
            "ticks": ""
           }
          },
          "colorscale": {
           "diverging": [
            [
             0,
             "#8e0152"
            ],
            [
             0.1,
             "#c51b7d"
            ],
            [
             0.2,
             "#de77ae"
            ],
            [
             0.3,
             "#f1b6da"
            ],
            [
             0.4,
             "#fde0ef"
            ],
            [
             0.5,
             "#f7f7f7"
            ],
            [
             0.6,
             "#e6f5d0"
            ],
            [
             0.7,
             "#b8e186"
            ],
            [
             0.8,
             "#7fbc41"
            ],
            [
             0.9,
             "#4d9221"
            ],
            [
             1,
             "#276419"
            ]
           ],
           "sequential": [
            [
             0,
             "#0d0887"
            ],
            [
             0.1111111111111111,
             "#46039f"
            ],
            [
             0.2222222222222222,
             "#7201a8"
            ],
            [
             0.3333333333333333,
             "#9c179e"
            ],
            [
             0.4444444444444444,
             "#bd3786"
            ],
            [
             0.5555555555555556,
             "#d8576b"
            ],
            [
             0.6666666666666666,
             "#ed7953"
            ],
            [
             0.7777777777777778,
             "#fb9f3a"
            ],
            [
             0.8888888888888888,
             "#fdca26"
            ],
            [
             1,
             "#f0f921"
            ]
           ],
           "sequentialminus": [
            [
             0,
             "#0d0887"
            ],
            [
             0.1111111111111111,
             "#46039f"
            ],
            [
             0.2222222222222222,
             "#7201a8"
            ],
            [
             0.3333333333333333,
             "#9c179e"
            ],
            [
             0.4444444444444444,
             "#bd3786"
            ],
            [
             0.5555555555555556,
             "#d8576b"
            ],
            [
             0.6666666666666666,
             "#ed7953"
            ],
            [
             0.7777777777777778,
             "#fb9f3a"
            ],
            [
             0.8888888888888888,
             "#fdca26"
            ],
            [
             1,
             "#f0f921"
            ]
           ]
          },
          "colorway": [
           "#636efa",
           "#EF553B",
           "#00cc96",
           "#ab63fa",
           "#FFA15A",
           "#19d3f3",
           "#FF6692",
           "#B6E880",
           "#FF97FF",
           "#FECB52"
          ],
          "font": {
           "color": "#f2f5fa"
          },
          "geo": {
           "bgcolor": "rgb(17,17,17)",
           "lakecolor": "rgb(17,17,17)",
           "landcolor": "rgb(17,17,17)",
           "showlakes": true,
           "showland": true,
           "subunitcolor": "#506784"
          },
          "hoverlabel": {
           "align": "left"
          },
          "hovermode": "closest",
          "mapbox": {
           "style": "dark"
          },
          "paper_bgcolor": "rgb(17,17,17)",
          "plot_bgcolor": "rgb(17,17,17)",
          "polar": {
           "angularaxis": {
            "gridcolor": "#506784",
            "linecolor": "#506784",
            "ticks": ""
           },
           "bgcolor": "rgb(17,17,17)",
           "radialaxis": {
            "gridcolor": "#506784",
            "linecolor": "#506784",
            "ticks": ""
           }
          },
          "scene": {
           "xaxis": {
            "backgroundcolor": "rgb(17,17,17)",
            "gridcolor": "#506784",
            "gridwidth": 2,
            "linecolor": "#506784",
            "showbackground": true,
            "ticks": "",
            "zerolinecolor": "#C8D4E3"
           },
           "yaxis": {
            "backgroundcolor": "rgb(17,17,17)",
            "gridcolor": "#506784",
            "gridwidth": 2,
            "linecolor": "#506784",
            "showbackground": true,
            "ticks": "",
            "zerolinecolor": "#C8D4E3"
           },
           "zaxis": {
            "backgroundcolor": "rgb(17,17,17)",
            "gridcolor": "#506784",
            "gridwidth": 2,
            "linecolor": "#506784",
            "showbackground": true,
            "ticks": "",
            "zerolinecolor": "#C8D4E3"
           }
          },
          "shapedefaults": {
           "line": {
            "color": "#f2f5fa"
           }
          },
          "sliderdefaults": {
           "bgcolor": "#C8D4E3",
           "bordercolor": "rgb(17,17,17)",
           "borderwidth": 1,
           "tickwidth": 0
          },
          "ternary": {
           "aaxis": {
            "gridcolor": "#506784",
            "linecolor": "#506784",
            "ticks": ""
           },
           "baxis": {
            "gridcolor": "#506784",
            "linecolor": "#506784",
            "ticks": ""
           },
           "bgcolor": "rgb(17,17,17)",
           "caxis": {
            "gridcolor": "#506784",
            "linecolor": "#506784",
            "ticks": ""
           }
          },
          "title": {
           "x": 0.05
          },
          "updatemenudefaults": {
           "bgcolor": "#506784",
           "borderwidth": 0
          },
          "xaxis": {
           "automargin": true,
           "gridcolor": "#283442",
           "linecolor": "#506784",
           "ticks": "",
           "title": {
            "standoff": 15
           },
           "zerolinecolor": "#283442",
           "zerolinewidth": 2
          },
          "yaxis": {
           "automargin": true,
           "gridcolor": "#283442",
           "linecolor": "#506784",
           "ticks": "",
           "title": {
            "standoff": 15
           },
           "zerolinecolor": "#283442",
           "zerolinewidth": 2
          }
         }
        },
        "title": {
         "text": "Message Transitions Over Time"
        },
        "xaxis": {
         "anchor": "y",
         "domain": [
          0,
          1
         ],
         "showgrid": true,
         "title": {
          "text": "Timestamp"
         }
        },
        "yaxis": {
         "anchor": "x",
         "domain": [
          0,
          1
         ],
         "showgrid": true,
         "title": {
          "text": "State"
         }
        }
       }
      }
     },
     "metadata": {},
     "output_type": "display_data"
    }
   ],
   "source": [
    "analyze_message_flow(logs500)\n",
    "analyze_message_flow(logs500_fast)"
   ]
  },
  {
   "cell_type": "code",
   "execution_count": 24,
   "metadata": {},
   "outputs": [],
   "source": [
    "# Read logs from GCS\n",
    "# # workers 4 , tasks 5*2 = 10 , batch_size 5\n",
    "# logs10 = read_logs_from_gs_uri(gs_uri= \"gs://cameltrain-sight/doing_mq_analysis/2024-12-20T09:00:43.541533.json\")\n",
    "# workers 4 , tasks 25*2 = 50 , batch_size 5\n",
    "logs4_50 = read_logs_from_gs_uri(gs_uri=\"gs://cameltrain-sight/doing_mq_analysis/2024-12-27T09:26:30.675248.json\")\n",
    "logs4_50_fast = read_logs_from_gs_uri(gs_uri=\"gs://cameltrain-sight/doing_mq_analysis/2024-12-31T08:09:08.847832.json\")\n",
    "\n",
    "\n",
    "# # workers 4 , tasks 50*2 = 100 , batch_size = 5\n",
    "logs4_100 = read_logs_from_gs_uri(gs_uri=\"gs://cameltrain-sight/doing_mq_analysis/2024-12-27T15:29:03.534160.json\")\n",
    "logs4_100_fast = read_logs_from_gs_uri(gs_uri=\"gs://cameltrain-sight/doing_mq_analysis/2024-12-31T09:08:46.723731.json\")\n",
    "\n",
    "# # workers 2 , tasks 250*2 = 500 , batch_size = 5\n",
    "# logs500 = read_logs_from_gs_uri(gs_uri=\"gs://cameltrain-sight/doing_mq_analysis/2024-12-22T15:48:18.956719.json\")"
   ]
  },
  {
   "cell_type": "code",
   "execution_count": 25,
   "metadata": {},
   "outputs": [
    {
     "data": {
      "application/vnd.plotly.v1+json": {
       "config": {
        "plotlyServerURL": "https://plot.ly"
       },
       "data": [
        {
         "hovertemplate": "State=pending<br>Time=%{x}<br>message_id=%{y}<extra></extra>",
         "legendgroup": "pending",
         "line": {
          "color": "#636efa",
          "dash": "solid"
         },
         "marker": {
          "symbol": "circle"
         },
         "mode": "lines+markers",
         "name": "pending",
         "orientation": "v",
         "showlegend": true,
         "type": "scatter",
         "x": [
          "2024-12-27T09:23:21.115252",
          "2024-12-27T09:23:24.361586",
          "2024-12-27T09:23:27.645987",
          "2024-12-27T09:23:31.026681",
          "2024-12-27T09:23:34.255255",
          "2024-12-27T09:23:37.557584",
          "2024-12-27T09:23:40.915360",
          "2024-12-27T09:23:44.381198",
          "2024-12-27T09:23:47.899252",
          "2024-12-27T09:23:51.241073",
          "2024-12-27T09:23:54.601351",
          "2024-12-27T09:23:57.956418",
          "2024-12-27T09:24:01.276928",
          "2024-12-27T09:24:04.683644",
          "2024-12-27T09:24:08.093878",
          "2024-12-27T09:24:11.551585",
          "2024-12-27T09:24:14.718785",
          "2024-12-27T09:24:18.136212",
          "2024-12-27T09:24:21.561441",
          "2024-12-27T09:24:24.852843",
          "2024-12-27T09:24:28.279643",
          "2024-12-27T09:24:31.531692",
          "2024-12-27T09:24:34.648682",
          "2024-12-27T09:24:37.942724",
          "2024-12-27T09:24:41.055608",
          "2024-12-27T09:24:44.261966",
          "2024-12-27T09:24:47.572736",
          "2024-12-27T09:24:50.724414",
          "2024-12-27T09:24:54.056335",
          "2024-12-27T09:24:57.415737",
          "2024-12-27T09:25:00.744608",
          "2024-12-27T09:25:03.969645",
          "2024-12-27T09:25:07.398387",
          "2024-12-27T09:25:10.695727",
          "2024-12-27T09:25:14.055627",
          "2024-12-27T09:25:17.314935",
          "2024-12-27T09:25:20.670248",
          "2024-12-27T09:25:23.800243",
          "2024-12-27T09:25:26.897963",
          "2024-12-27T09:25:30.161047",
          "2024-12-27T09:25:33.528022",
          "2024-12-27T09:25:36.676251",
          "2024-12-27T09:25:39.899444",
          "2024-12-27T09:25:43.079255",
          "2024-12-27T09:25:46.402749",
          "2024-12-27T09:25:49.618243",
          "2024-12-27T09:25:52.730538",
          "2024-12-27T09:25:56.020095",
          "2024-12-27T09:25:59.082773",
          "2024-12-27T09:26:02.431452"
         ],
         "xaxis": "x",
         "y": [
          1,
          2,
          3,
          4,
          5,
          6,
          7,
          8,
          9,
          10,
          11,
          12,
          13,
          14,
          15,
          16,
          17,
          18,
          19,
          20,
          21,
          22,
          23,
          24,
          25,
          26,
          27,
          28,
          29,
          30,
          31,
          32,
          33,
          34,
          35,
          36,
          37,
          38,
          39,
          40,
          41,
          42,
          43,
          44,
          45,
          46,
          47,
          48,
          49,
          50
         ],
         "yaxis": "y"
        },
        {
         "hovertemplate": "State=active<br>Time=%{x}<br>message_id=%{y}<extra></extra>",
         "legendgroup": "active",
         "line": {
          "color": "#EF553B",
          "dash": "solid"
         },
         "marker": {
          "symbol": "circle"
         },
         "mode": "lines+markers",
         "name": "active",
         "orientation": "v",
         "showlegend": true,
         "type": "scatter",
         "x": [
          "2024-12-27T09:23:21.987473",
          "2024-12-27T09:23:24.837510",
          "2024-12-27T09:23:28.625966",
          "2024-12-27T09:23:32.089265",
          "2024-12-27T09:23:34.945767",
          "2024-12-27T09:23:38.735696",
          "2024-12-27T09:23:42.189394",
          "2024-12-27T09:23:45.045601",
          "2024-12-27T09:23:48.838125",
          "2024-12-27T09:23:52.285360",
          "2024-12-27T09:23:55.144738",
          "2024-12-27T09:23:58.934974",
          "2024-12-27T09:24:02.376712",
          "2024-12-27T09:24:05.242884",
          "2024-12-27T09:24:09.039076",
          "2024-12-27T09:24:12.474618",
          "2024-12-27T09:24:15.345703",
          "2024-12-27T09:24:19.146312",
          "2024-12-27T09:24:22.569349",
          "2024-12-27T09:24:25.454448",
          "2024-12-27T09:24:29.244806",
          "2024-12-27T09:24:32.735534",
          "2024-12-27T09:24:35.648756",
          "2024-12-27T09:24:39.434642",
          "2024-12-27T09:24:42.828461",
          "2024-12-27T09:24:45.745029",
          "2024-12-27T09:24:47.915772",
          "2024-12-27T09:24:52.928676",
          "2024-12-27T09:24:54.647331",
          "2024-12-27T09:24:58.042586",
          "2024-12-27T09:25:00.889996",
          "2024-12-27T09:25:04.758374",
          "2024-12-27T09:25:08.061614",
          "2024-12-27T09:25:10.993593",
          "2024-12-27T09:25:14.858465",
          "2024-12-27T09:25:18.155129",
          "2024-12-27T09:25:21.093163",
          "2024-12-27T09:25:24.956638",
          "2024-12-27T09:25:28.242404",
          "2024-12-27T09:25:31.193844",
          "2024-12-27T09:25:35.056629",
          "2024-12-27T09:25:38.339099",
          "2024-12-27T09:25:41.294232",
          "2024-12-27T09:25:43.536640",
          "2024-12-27T09:25:48.424962",
          "2024-12-27T09:25:50.254192",
          "2024-12-27T09:25:53.645603",
          "2024-12-27T09:25:56.438564",
          "2024-12-27T09:26:00.360670",
          "2024-12-27T09:26:03.559080"
         ],
         "xaxis": "x",
         "y": [
          1,
          2,
          3,
          4,
          5,
          6,
          7,
          8,
          9,
          10,
          11,
          12,
          13,
          14,
          15,
          16,
          17,
          18,
          19,
          20,
          21,
          22,
          23,
          24,
          25,
          26,
          27,
          28,
          29,
          30,
          31,
          32,
          33,
          34,
          35,
          36,
          37,
          38,
          39,
          40,
          41,
          42,
          43,
          44,
          45,
          46,
          47,
          48,
          49,
          50
         ],
         "yaxis": "y"
        },
        {
         "hovertemplate": "State=completed<br>Time=%{x}<br>message_id=%{y}<extra></extra>",
         "legendgroup": "completed",
         "line": {
          "color": "#00cc96",
          "dash": "solid"
         },
         "marker": {
          "symbol": "circle"
         },
         "mode": "lines+markers",
         "name": "completed",
         "orientation": "v",
         "showlegend": true,
         "type": "scatter",
         "x": [
          "2024-12-27T09:23:32.062558",
          "2024-12-27T09:23:34.914648",
          "2024-12-27T09:23:38.707172",
          "2024-12-27T09:23:42.164187",
          "2024-12-27T09:23:45.013683",
          "2024-12-27T09:23:48.806647",
          "2024-12-27T09:23:52.258755",
          "2024-12-27T09:23:55.113878",
          "2024-12-27T09:23:58.903463",
          "2024-12-27T09:24:02.352858",
          "2024-12-27T09:24:05.213349",
          "2024-12-27T09:24:09.009378",
          "2024-12-27T09:24:12.443809",
          "2024-12-27T09:24:15.313584",
          "2024-12-27T09:24:19.111906",
          "2024-12-27T09:24:22.540238",
          "2024-12-27T09:24:25.422162",
          "2024-12-27T09:24:29.214018",
          "2024-12-27T09:24:32.707972",
          "2024-12-27T09:24:35.617017",
          "2024-12-27T09:24:39.403766",
          "2024-12-27T09:24:42.800093",
          "2024-12-27T09:24:45.715115",
          "2024-12-27T09:24:49.548536",
          "2024-12-27T09:24:52.901365",
          "2024-12-27T09:24:55.813689",
          "2024-12-27T09:24:58.003814",
          "2024-12-27T09:25:02.996782",
          "2024-12-27T09:25:04.728493",
          "2024-12-27T09:25:08.120358",
          "2024-12-27T09:25:10.962596",
          "2024-12-27T09:25:14.831323",
          "2024-12-27T09:25:18.129085",
          "2024-12-27T09:25:21.061563",
          "2024-12-27T09:25:24.926469",
          "2024-12-27T09:25:28.216325",
          "2024-12-27T09:25:31.165592",
          "2024-12-27T09:25:35.028715",
          "2024-12-27T09:25:38.314330",
          "2024-12-27T09:25:41.263370",
          "2024-12-27T09:25:45.135423",
          "2024-12-27T09:25:48.397608",
          "2024-12-27T09:25:51.360252",
          "2024-12-27T09:25:53.612163",
          "2024-12-27T09:25:58.491470",
          "2024-12-27T09:26:00.330259",
          "2024-12-27T09:26:03.718332",
          "2024-12-27T09:26:06.503869",
          "2024-12-27T09:26:10.430520",
          "2024-12-27T09:26:13.626058"
         ],
         "xaxis": "x",
         "y": [
          1,
          2,
          3,
          4,
          5,
          6,
          7,
          8,
          9,
          10,
          11,
          12,
          13,
          14,
          15,
          16,
          17,
          18,
          19,
          20,
          21,
          22,
          23,
          24,
          25,
          26,
          27,
          28,
          29,
          30,
          31,
          32,
          33,
          34,
          35,
          36,
          37,
          38,
          39,
          40,
          41,
          42,
          43,
          44,
          45,
          46,
          47,
          48,
          49,
          50
         ],
         "yaxis": "y"
        }
       ],
       "layout": {
        "hovermode": "closest",
        "legend": {
         "title": {
          "text": "State"
         },
         "tracegroupgap": 0
        },
        "margin": {
         "b": 40,
         "l": 40,
         "r": 40,
         "t": 40
        },
        "template": {
         "data": {
          "bar": [
           {
            "error_x": {
             "color": "#f2f5fa"
            },
            "error_y": {
             "color": "#f2f5fa"
            },
            "marker": {
             "line": {
              "color": "rgb(17,17,17)",
              "width": 0.5
             },
             "pattern": {
              "fillmode": "overlay",
              "size": 10,
              "solidity": 0.2
             }
            },
            "type": "bar"
           }
          ],
          "barpolar": [
           {
            "marker": {
             "line": {
              "color": "rgb(17,17,17)",
              "width": 0.5
             },
             "pattern": {
              "fillmode": "overlay",
              "size": 10,
              "solidity": 0.2
             }
            },
            "type": "barpolar"
           }
          ],
          "carpet": [
           {
            "aaxis": {
             "endlinecolor": "#A2B1C6",
             "gridcolor": "#506784",
             "linecolor": "#506784",
             "minorgridcolor": "#506784",
             "startlinecolor": "#A2B1C6"
            },
            "baxis": {
             "endlinecolor": "#A2B1C6",
             "gridcolor": "#506784",
             "linecolor": "#506784",
             "minorgridcolor": "#506784",
             "startlinecolor": "#A2B1C6"
            },
            "type": "carpet"
           }
          ],
          "choropleth": [
           {
            "colorbar": {
             "outlinewidth": 0,
             "ticks": ""
            },
            "type": "choropleth"
           }
          ],
          "contour": [
           {
            "colorbar": {
             "outlinewidth": 0,
             "ticks": ""
            },
            "colorscale": [
             [
              0,
              "#0d0887"
             ],
             [
              0.1111111111111111,
              "#46039f"
             ],
             [
              0.2222222222222222,
              "#7201a8"
             ],
             [
              0.3333333333333333,
              "#9c179e"
             ],
             [
              0.4444444444444444,
              "#bd3786"
             ],
             [
              0.5555555555555556,
              "#d8576b"
             ],
             [
              0.6666666666666666,
              "#ed7953"
             ],
             [
              0.7777777777777778,
              "#fb9f3a"
             ],
             [
              0.8888888888888888,
              "#fdca26"
             ],
             [
              1,
              "#f0f921"
             ]
            ],
            "type": "contour"
           }
          ],
          "contourcarpet": [
           {
            "colorbar": {
             "outlinewidth": 0,
             "ticks": ""
            },
            "type": "contourcarpet"
           }
          ],
          "heatmap": [
           {
            "colorbar": {
             "outlinewidth": 0,
             "ticks": ""
            },
            "colorscale": [
             [
              0,
              "#0d0887"
             ],
             [
              0.1111111111111111,
              "#46039f"
             ],
             [
              0.2222222222222222,
              "#7201a8"
             ],
             [
              0.3333333333333333,
              "#9c179e"
             ],
             [
              0.4444444444444444,
              "#bd3786"
             ],
             [
              0.5555555555555556,
              "#d8576b"
             ],
             [
              0.6666666666666666,
              "#ed7953"
             ],
             [
              0.7777777777777778,
              "#fb9f3a"
             ],
             [
              0.8888888888888888,
              "#fdca26"
             ],
             [
              1,
              "#f0f921"
             ]
            ],
            "type": "heatmap"
           }
          ],
          "heatmapgl": [
           {
            "colorbar": {
             "outlinewidth": 0,
             "ticks": ""
            },
            "colorscale": [
             [
              0,
              "#0d0887"
             ],
             [
              0.1111111111111111,
              "#46039f"
             ],
             [
              0.2222222222222222,
              "#7201a8"
             ],
             [
              0.3333333333333333,
              "#9c179e"
             ],
             [
              0.4444444444444444,
              "#bd3786"
             ],
             [
              0.5555555555555556,
              "#d8576b"
             ],
             [
              0.6666666666666666,
              "#ed7953"
             ],
             [
              0.7777777777777778,
              "#fb9f3a"
             ],
             [
              0.8888888888888888,
              "#fdca26"
             ],
             [
              1,
              "#f0f921"
             ]
            ],
            "type": "heatmapgl"
           }
          ],
          "histogram": [
           {
            "marker": {
             "pattern": {
              "fillmode": "overlay",
              "size": 10,
              "solidity": 0.2
             }
            },
            "type": "histogram"
           }
          ],
          "histogram2d": [
           {
            "colorbar": {
             "outlinewidth": 0,
             "ticks": ""
            },
            "colorscale": [
             [
              0,
              "#0d0887"
             ],
             [
              0.1111111111111111,
              "#46039f"
             ],
             [
              0.2222222222222222,
              "#7201a8"
             ],
             [
              0.3333333333333333,
              "#9c179e"
             ],
             [
              0.4444444444444444,
              "#bd3786"
             ],
             [
              0.5555555555555556,
              "#d8576b"
             ],
             [
              0.6666666666666666,
              "#ed7953"
             ],
             [
              0.7777777777777778,
              "#fb9f3a"
             ],
             [
              0.8888888888888888,
              "#fdca26"
             ],
             [
              1,
              "#f0f921"
             ]
            ],
            "type": "histogram2d"
           }
          ],
          "histogram2dcontour": [
           {
            "colorbar": {
             "outlinewidth": 0,
             "ticks": ""
            },
            "colorscale": [
             [
              0,
              "#0d0887"
             ],
             [
              0.1111111111111111,
              "#46039f"
             ],
             [
              0.2222222222222222,
              "#7201a8"
             ],
             [
              0.3333333333333333,
              "#9c179e"
             ],
             [
              0.4444444444444444,
              "#bd3786"
             ],
             [
              0.5555555555555556,
              "#d8576b"
             ],
             [
              0.6666666666666666,
              "#ed7953"
             ],
             [
              0.7777777777777778,
              "#fb9f3a"
             ],
             [
              0.8888888888888888,
              "#fdca26"
             ],
             [
              1,
              "#f0f921"
             ]
            ],
            "type": "histogram2dcontour"
           }
          ],
          "mesh3d": [
           {
            "colorbar": {
             "outlinewidth": 0,
             "ticks": ""
            },
            "type": "mesh3d"
           }
          ],
          "parcoords": [
           {
            "line": {
             "colorbar": {
              "outlinewidth": 0,
              "ticks": ""
             }
            },
            "type": "parcoords"
           }
          ],
          "pie": [
           {
            "automargin": true,
            "type": "pie"
           }
          ],
          "scatter": [
           {
            "marker": {
             "line": {
              "color": "#283442"
             }
            },
            "type": "scatter"
           }
          ],
          "scatter3d": [
           {
            "line": {
             "colorbar": {
              "outlinewidth": 0,
              "ticks": ""
             }
            },
            "marker": {
             "colorbar": {
              "outlinewidth": 0,
              "ticks": ""
             }
            },
            "type": "scatter3d"
           }
          ],
          "scattercarpet": [
           {
            "marker": {
             "colorbar": {
              "outlinewidth": 0,
              "ticks": ""
             }
            },
            "type": "scattercarpet"
           }
          ],
          "scattergeo": [
           {
            "marker": {
             "colorbar": {
              "outlinewidth": 0,
              "ticks": ""
             }
            },
            "type": "scattergeo"
           }
          ],
          "scattergl": [
           {
            "marker": {
             "line": {
              "color": "#283442"
             }
            },
            "type": "scattergl"
           }
          ],
          "scattermapbox": [
           {
            "marker": {
             "colorbar": {
              "outlinewidth": 0,
              "ticks": ""
             }
            },
            "type": "scattermapbox"
           }
          ],
          "scatterpolar": [
           {
            "marker": {
             "colorbar": {
              "outlinewidth": 0,
              "ticks": ""
             }
            },
            "type": "scatterpolar"
           }
          ],
          "scatterpolargl": [
           {
            "marker": {
             "colorbar": {
              "outlinewidth": 0,
              "ticks": ""
             }
            },
            "type": "scatterpolargl"
           }
          ],
          "scatterternary": [
           {
            "marker": {
             "colorbar": {
              "outlinewidth": 0,
              "ticks": ""
             }
            },
            "type": "scatterternary"
           }
          ],
          "surface": [
           {
            "colorbar": {
             "outlinewidth": 0,
             "ticks": ""
            },
            "colorscale": [
             [
              0,
              "#0d0887"
             ],
             [
              0.1111111111111111,
              "#46039f"
             ],
             [
              0.2222222222222222,
              "#7201a8"
             ],
             [
              0.3333333333333333,
              "#9c179e"
             ],
             [
              0.4444444444444444,
              "#bd3786"
             ],
             [
              0.5555555555555556,
              "#d8576b"
             ],
             [
              0.6666666666666666,
              "#ed7953"
             ],
             [
              0.7777777777777778,
              "#fb9f3a"
             ],
             [
              0.8888888888888888,
              "#fdca26"
             ],
             [
              1,
              "#f0f921"
             ]
            ],
            "type": "surface"
           }
          ],
          "table": [
           {
            "cells": {
             "fill": {
              "color": "#506784"
             },
             "line": {
              "color": "rgb(17,17,17)"
             }
            },
            "header": {
             "fill": {
              "color": "#2a3f5f"
             },
             "line": {
              "color": "rgb(17,17,17)"
             }
            },
            "type": "table"
           }
          ]
         },
         "layout": {
          "annotationdefaults": {
           "arrowcolor": "#f2f5fa",
           "arrowhead": 0,
           "arrowwidth": 1
          },
          "autotypenumbers": "strict",
          "coloraxis": {
           "colorbar": {
            "outlinewidth": 0,
            "ticks": ""
           }
          },
          "colorscale": {
           "diverging": [
            [
             0,
             "#8e0152"
            ],
            [
             0.1,
             "#c51b7d"
            ],
            [
             0.2,
             "#de77ae"
            ],
            [
             0.3,
             "#f1b6da"
            ],
            [
             0.4,
             "#fde0ef"
            ],
            [
             0.5,
             "#f7f7f7"
            ],
            [
             0.6,
             "#e6f5d0"
            ],
            [
             0.7,
             "#b8e186"
            ],
            [
             0.8,
             "#7fbc41"
            ],
            [
             0.9,
             "#4d9221"
            ],
            [
             1,
             "#276419"
            ]
           ],
           "sequential": [
            [
             0,
             "#0d0887"
            ],
            [
             0.1111111111111111,
             "#46039f"
            ],
            [
             0.2222222222222222,
             "#7201a8"
            ],
            [
             0.3333333333333333,
             "#9c179e"
            ],
            [
             0.4444444444444444,
             "#bd3786"
            ],
            [
             0.5555555555555556,
             "#d8576b"
            ],
            [
             0.6666666666666666,
             "#ed7953"
            ],
            [
             0.7777777777777778,
             "#fb9f3a"
            ],
            [
             0.8888888888888888,
             "#fdca26"
            ],
            [
             1,
             "#f0f921"
            ]
           ],
           "sequentialminus": [
            [
             0,
             "#0d0887"
            ],
            [
             0.1111111111111111,
             "#46039f"
            ],
            [
             0.2222222222222222,
             "#7201a8"
            ],
            [
             0.3333333333333333,
             "#9c179e"
            ],
            [
             0.4444444444444444,
             "#bd3786"
            ],
            [
             0.5555555555555556,
             "#d8576b"
            ],
            [
             0.6666666666666666,
             "#ed7953"
            ],
            [
             0.7777777777777778,
             "#fb9f3a"
            ],
            [
             0.8888888888888888,
             "#fdca26"
            ],
            [
             1,
             "#f0f921"
            ]
           ]
          },
          "colorway": [
           "#636efa",
           "#EF553B",
           "#00cc96",
           "#ab63fa",
           "#FFA15A",
           "#19d3f3",
           "#FF6692",
           "#B6E880",
           "#FF97FF",
           "#FECB52"
          ],
          "font": {
           "color": "#f2f5fa"
          },
          "geo": {
           "bgcolor": "rgb(17,17,17)",
           "lakecolor": "rgb(17,17,17)",
           "landcolor": "rgb(17,17,17)",
           "showlakes": true,
           "showland": true,
           "subunitcolor": "#506784"
          },
          "hoverlabel": {
           "align": "left"
          },
          "hovermode": "closest",
          "mapbox": {
           "style": "dark"
          },
          "paper_bgcolor": "rgb(17,17,17)",
          "plot_bgcolor": "rgb(17,17,17)",
          "polar": {
           "angularaxis": {
            "gridcolor": "#506784",
            "linecolor": "#506784",
            "ticks": ""
           },
           "bgcolor": "rgb(17,17,17)",
           "radialaxis": {
            "gridcolor": "#506784",
            "linecolor": "#506784",
            "ticks": ""
           }
          },
          "scene": {
           "xaxis": {
            "backgroundcolor": "rgb(17,17,17)",
            "gridcolor": "#506784",
            "gridwidth": 2,
            "linecolor": "#506784",
            "showbackground": true,
            "ticks": "",
            "zerolinecolor": "#C8D4E3"
           },
           "yaxis": {
            "backgroundcolor": "rgb(17,17,17)",
            "gridcolor": "#506784",
            "gridwidth": 2,
            "linecolor": "#506784",
            "showbackground": true,
            "ticks": "",
            "zerolinecolor": "#C8D4E3"
           },
           "zaxis": {
            "backgroundcolor": "rgb(17,17,17)",
            "gridcolor": "#506784",
            "gridwidth": 2,
            "linecolor": "#506784",
            "showbackground": true,
            "ticks": "",
            "zerolinecolor": "#C8D4E3"
           }
          },
          "shapedefaults": {
           "line": {
            "color": "#f2f5fa"
           }
          },
          "sliderdefaults": {
           "bgcolor": "#C8D4E3",
           "bordercolor": "rgb(17,17,17)",
           "borderwidth": 1,
           "tickwidth": 0
          },
          "ternary": {
           "aaxis": {
            "gridcolor": "#506784",
            "linecolor": "#506784",
            "ticks": ""
           },
           "baxis": {
            "gridcolor": "#506784",
            "linecolor": "#506784",
            "ticks": ""
           },
           "bgcolor": "rgb(17,17,17)",
           "caxis": {
            "gridcolor": "#506784",
            "linecolor": "#506784",
            "ticks": ""
           }
          },
          "title": {
           "x": 0.05
          },
          "updatemenudefaults": {
           "bgcolor": "#506784",
           "borderwidth": 0
          },
          "xaxis": {
           "automargin": true,
           "gridcolor": "#283442",
           "linecolor": "#506784",
           "ticks": "",
           "title": {
            "standoff": 15
           },
           "zerolinecolor": "#283442",
           "zerolinewidth": 2
          },
          "yaxis": {
           "automargin": true,
           "gridcolor": "#283442",
           "linecolor": "#506784",
           "ticks": "",
           "title": {
            "standoff": 15
           },
           "zerolinecolor": "#283442",
           "zerolinewidth": 2
          }
         }
        },
        "title": {
         "text": "Message Transitions Over Time"
        },
        "xaxis": {
         "anchor": "y",
         "domain": [
          0,
          1
         ],
         "showgrid": true,
         "title": {
          "text": "Timestamp"
         }
        },
        "yaxis": {
         "anchor": "x",
         "domain": [
          0,
          1
         ],
         "showgrid": true,
         "title": {
          "text": "State"
         }
        }
       }
      }
     },
     "metadata": {},
     "output_type": "display_data"
    },
    {
     "data": {
      "application/vnd.plotly.v1+json": {
       "config": {
        "plotlyServerURL": "https://plot.ly"
       },
       "data": [
        {
         "hovertemplate": "State=pending<br>Time=%{x}<br>message_id=%{y}<extra></extra>",
         "legendgroup": "pending",
         "line": {
          "color": "#636efa",
          "dash": "solid"
         },
         "marker": {
          "symbol": "circle"
         },
         "mode": "lines+markers",
         "name": "pending",
         "orientation": "v",
         "showlegend": true,
         "type": "scatter",
         "x": [
          "2024-12-31T08:06:20.670449",
          "2024-12-31T08:06:20.951665",
          "2024-12-31T08:06:20.976843",
          "2024-12-31T08:06:20.998337",
          "2024-12-31T08:06:21.009299",
          "2024-12-31T08:06:21.049593",
          "2024-12-31T08:06:21.056450",
          "2024-12-31T08:06:21.068106",
          "2024-12-31T08:06:21.075479",
          "2024-12-31T08:06:21.142567",
          "2024-12-31T08:06:21.206760",
          "2024-12-31T08:06:21.233347",
          "2024-12-31T08:06:21.247961",
          "2024-12-31T08:06:21.317426",
          "2024-12-31T08:06:21.337411",
          "2024-12-31T08:06:21.343753",
          "2024-12-31T08:06:21.358930",
          "2024-12-31T08:06:21.392283",
          "2024-12-31T08:06:21.439753",
          "2024-12-31T08:06:21.441526",
          "2024-12-31T08:06:21.519692",
          "2024-12-31T08:06:21.611950",
          "2024-12-31T08:06:21.671809",
          "2024-12-31T08:06:21.675369",
          "2024-12-31T08:06:21.690415",
          "2024-12-31T08:06:21.812936",
          "2024-12-31T08:06:21.832020",
          "2024-12-31T08:06:21.897457",
          "2024-12-31T08:06:25.497609",
          "2024-12-31T08:06:25.902375",
          "2024-12-31T08:06:25.977595",
          "2024-12-31T08:06:26.050182",
          "2024-12-31T08:06:26.094852",
          "2024-12-31T08:06:26.101732",
          "2024-12-31T08:06:26.116786",
          "2024-12-31T08:06:26.118556",
          "2024-12-31T08:06:26.140605",
          "2024-12-31T08:06:26.193921",
          "2024-12-31T08:06:26.201586",
          "2024-12-31T08:06:26.203477",
          "2024-12-31T08:06:26.260002",
          "2024-12-31T08:06:26.340629",
          "2024-12-31T08:06:26.370350",
          "2024-12-31T08:06:26.401222",
          "2024-12-31T08:06:26.413928",
          "2024-12-31T08:06:26.415010",
          "2024-12-31T08:06:26.483216",
          "2024-12-31T08:06:26.518085",
          "2024-12-31T08:06:26.537179",
          "2024-12-31T08:06:26.560227"
         ],
         "xaxis": "x",
         "y": [
          1,
          2,
          3,
          4,
          5,
          6,
          7,
          8,
          9,
          10,
          11,
          12,
          13,
          14,
          15,
          16,
          17,
          18,
          19,
          20,
          21,
          22,
          23,
          24,
          25,
          26,
          27,
          28,
          29,
          30,
          31,
          32,
          33,
          34,
          35,
          36,
          37,
          38,
          39,
          40,
          41,
          42,
          43,
          44,
          45,
          46,
          47,
          48,
          49,
          50
         ],
         "yaxis": "y"
        },
        {
         "hovertemplate": "State=active<br>Time=%{x}<br>message_id=%{y}<extra></extra>",
         "legendgroup": "active",
         "line": {
          "color": "#EF553B",
          "dash": "solid"
         },
         "marker": {
          "symbol": "circle"
         },
         "mode": "lines+markers",
         "name": "active",
         "orientation": "v",
         "showlegend": true,
         "type": "scatter",
         "x": [
          "2024-12-31T08:06:21.629747",
          "2024-12-31T08:06:21.629747",
          "2024-12-31T08:06:21.629747",
          "2024-12-31T08:06:21.629747",
          "2024-12-31T08:06:21.629747",
          "2024-12-31T08:06:22.331052",
          "2024-12-31T08:06:22.331052",
          "2024-12-31T08:06:22.331052",
          "2024-12-31T08:06:22.331052",
          "2024-12-31T08:06:22.331052",
          "2024-12-31T08:06:22.733488",
          "2024-12-31T08:06:22.733488",
          "2024-12-31T08:06:22.733488",
          "2024-12-31T08:06:22.733488",
          "2024-12-31T08:06:22.733488",
          "2024-12-31T08:06:25.359009",
          "2024-12-31T08:06:25.359009",
          "2024-12-31T08:06:25.359009",
          "2024-12-31T08:06:25.359009",
          "2024-12-31T08:06:25.359009",
          "2024-12-31T08:07:11.844840",
          "2024-12-31T08:07:11.844840",
          "2024-12-31T08:07:11.844840",
          "2024-12-31T08:07:11.844840",
          "2024-12-31T08:07:11.844840",
          "2024-12-31T08:07:12.549415",
          "2024-12-31T08:07:12.549415",
          "2024-12-31T08:07:12.549415",
          "2024-12-31T08:07:12.549415",
          "2024-12-31T08:07:12.549415",
          "2024-12-31T08:07:12.948844",
          "2024-12-31T08:07:12.948844",
          "2024-12-31T08:07:12.948844",
          "2024-12-31T08:07:12.948844",
          "2024-12-31T08:07:12.948844",
          "2024-12-31T08:07:15.575502",
          "2024-12-31T08:07:15.575502",
          "2024-12-31T08:07:15.575502",
          "2024-12-31T08:07:15.575502",
          "2024-12-31T08:07:15.575502",
          "2024-12-31T08:08:02.162549",
          "2024-12-31T08:08:02.162549",
          "2024-12-31T08:08:02.162549",
          "2024-12-31T08:08:02.162549",
          "2024-12-31T08:08:02.162549",
          "2024-12-31T08:08:02.845758",
          "2024-12-31T08:08:02.845758",
          "2024-12-31T08:08:02.845758",
          "2024-12-31T08:08:02.845758",
          "2024-12-31T08:08:02.845758"
         ],
         "xaxis": "x",
         "y": [
          4,
          3,
          5,
          1,
          2,
          10,
          8,
          9,
          7,
          6,
          11,
          12,
          13,
          14,
          15,
          20,
          19,
          17,
          16,
          18,
          21,
          22,
          23,
          24,
          25,
          26,
          27,
          28,
          29,
          30,
          31,
          32,
          33,
          34,
          35,
          36,
          37,
          38,
          39,
          40,
          41,
          42,
          43,
          44,
          45,
          46,
          47,
          48,
          49,
          50
         ],
         "yaxis": "y"
        },
        {
         "hovertemplate": "State=completed<br>Time=%{x}<br>message_id=%{y}<extra></extra>",
         "legendgroup": "completed",
         "line": {
          "color": "#00cc96",
          "dash": "solid"
         },
         "marker": {
          "symbol": "circle"
         },
         "mode": "lines+markers",
         "name": "completed",
         "orientation": "v",
         "showlegend": true,
         "type": "scatter",
         "x": [
          "2024-12-31T08:07:11.814600",
          "2024-12-31T08:07:11.814817",
          "2024-12-31T08:07:11.815031",
          "2024-12-31T08:07:11.815236",
          "2024-12-31T08:07:11.815435",
          "2024-12-31T08:07:12.519214",
          "2024-12-31T08:07:12.519432",
          "2024-12-31T08:07:12.519631",
          "2024-12-31T08:07:12.519824",
          "2024-12-31T08:07:12.520052",
          "2024-12-31T08:07:12.915950",
          "2024-12-31T08:07:12.916173",
          "2024-12-31T08:07:12.916374",
          "2024-12-31T08:07:12.916571",
          "2024-12-31T08:07:12.916764",
          "2024-12-31T08:07:15.545433",
          "2024-12-31T08:07:15.545659",
          "2024-12-31T08:07:15.545863",
          "2024-12-31T08:07:15.546057",
          "2024-12-31T08:07:15.546274",
          "2024-12-31T08:08:02.134331",
          "2024-12-31T08:08:02.134558",
          "2024-12-31T08:08:02.134755",
          "2024-12-31T08:08:02.134950",
          "2024-12-31T08:08:02.135149",
          "2024-12-31T08:08:02.813923",
          "2024-12-31T08:08:02.814148",
          "2024-12-31T08:08:02.814358",
          "2024-12-31T08:08:02.814567",
          "2024-12-31T08:08:02.814770",
          "2024-12-31T08:08:03.190415",
          "2024-12-31T08:08:03.190653",
          "2024-12-31T08:08:03.190854",
          "2024-12-31T08:08:03.191104",
          "2024-12-31T08:08:03.191317",
          "2024-12-31T08:08:05.973845",
          "2024-12-31T08:08:05.974066",
          "2024-12-31T08:08:05.974266",
          "2024-12-31T08:08:05.974708",
          "2024-12-31T08:08:05.974948",
          "2024-12-31T08:08:52.377125",
          "2024-12-31T08:08:52.377340",
          "2024-12-31T08:08:52.377538",
          "2024-12-31T08:08:52.377744",
          "2024-12-31T08:08:52.377934",
          "2024-12-31T08:08:53.054960",
          "2024-12-31T08:08:53.055214",
          "2024-12-31T08:08:53.055443",
          "2024-12-31T08:08:53.055638",
          "2024-12-31T08:08:53.055938"
         ],
         "xaxis": "x",
         "y": [
          1,
          2,
          3,
          4,
          5,
          6,
          7,
          8,
          9,
          10,
          11,
          12,
          13,
          14,
          15,
          16,
          17,
          18,
          19,
          20,
          21,
          22,
          23,
          24,
          25,
          26,
          27,
          28,
          29,
          30,
          31,
          32,
          33,
          34,
          35,
          36,
          37,
          38,
          39,
          40,
          41,
          42,
          43,
          44,
          45,
          46,
          47,
          48,
          49,
          50
         ],
         "yaxis": "y"
        }
       ],
       "layout": {
        "hovermode": "closest",
        "legend": {
         "title": {
          "text": "State"
         },
         "tracegroupgap": 0
        },
        "margin": {
         "b": 40,
         "l": 40,
         "r": 40,
         "t": 40
        },
        "template": {
         "data": {
          "bar": [
           {
            "error_x": {
             "color": "#f2f5fa"
            },
            "error_y": {
             "color": "#f2f5fa"
            },
            "marker": {
             "line": {
              "color": "rgb(17,17,17)",
              "width": 0.5
             },
             "pattern": {
              "fillmode": "overlay",
              "size": 10,
              "solidity": 0.2
             }
            },
            "type": "bar"
           }
          ],
          "barpolar": [
           {
            "marker": {
             "line": {
              "color": "rgb(17,17,17)",
              "width": 0.5
             },
             "pattern": {
              "fillmode": "overlay",
              "size": 10,
              "solidity": 0.2
             }
            },
            "type": "barpolar"
           }
          ],
          "carpet": [
           {
            "aaxis": {
             "endlinecolor": "#A2B1C6",
             "gridcolor": "#506784",
             "linecolor": "#506784",
             "minorgridcolor": "#506784",
             "startlinecolor": "#A2B1C6"
            },
            "baxis": {
             "endlinecolor": "#A2B1C6",
             "gridcolor": "#506784",
             "linecolor": "#506784",
             "minorgridcolor": "#506784",
             "startlinecolor": "#A2B1C6"
            },
            "type": "carpet"
           }
          ],
          "choropleth": [
           {
            "colorbar": {
             "outlinewidth": 0,
             "ticks": ""
            },
            "type": "choropleth"
           }
          ],
          "contour": [
           {
            "colorbar": {
             "outlinewidth": 0,
             "ticks": ""
            },
            "colorscale": [
             [
              0,
              "#0d0887"
             ],
             [
              0.1111111111111111,
              "#46039f"
             ],
             [
              0.2222222222222222,
              "#7201a8"
             ],
             [
              0.3333333333333333,
              "#9c179e"
             ],
             [
              0.4444444444444444,
              "#bd3786"
             ],
             [
              0.5555555555555556,
              "#d8576b"
             ],
             [
              0.6666666666666666,
              "#ed7953"
             ],
             [
              0.7777777777777778,
              "#fb9f3a"
             ],
             [
              0.8888888888888888,
              "#fdca26"
             ],
             [
              1,
              "#f0f921"
             ]
            ],
            "type": "contour"
           }
          ],
          "contourcarpet": [
           {
            "colorbar": {
             "outlinewidth": 0,
             "ticks": ""
            },
            "type": "contourcarpet"
           }
          ],
          "heatmap": [
           {
            "colorbar": {
             "outlinewidth": 0,
             "ticks": ""
            },
            "colorscale": [
             [
              0,
              "#0d0887"
             ],
             [
              0.1111111111111111,
              "#46039f"
             ],
             [
              0.2222222222222222,
              "#7201a8"
             ],
             [
              0.3333333333333333,
              "#9c179e"
             ],
             [
              0.4444444444444444,
              "#bd3786"
             ],
             [
              0.5555555555555556,
              "#d8576b"
             ],
             [
              0.6666666666666666,
              "#ed7953"
             ],
             [
              0.7777777777777778,
              "#fb9f3a"
             ],
             [
              0.8888888888888888,
              "#fdca26"
             ],
             [
              1,
              "#f0f921"
             ]
            ],
            "type": "heatmap"
           }
          ],
          "heatmapgl": [
           {
            "colorbar": {
             "outlinewidth": 0,
             "ticks": ""
            },
            "colorscale": [
             [
              0,
              "#0d0887"
             ],
             [
              0.1111111111111111,
              "#46039f"
             ],
             [
              0.2222222222222222,
              "#7201a8"
             ],
             [
              0.3333333333333333,
              "#9c179e"
             ],
             [
              0.4444444444444444,
              "#bd3786"
             ],
             [
              0.5555555555555556,
              "#d8576b"
             ],
             [
              0.6666666666666666,
              "#ed7953"
             ],
             [
              0.7777777777777778,
              "#fb9f3a"
             ],
             [
              0.8888888888888888,
              "#fdca26"
             ],
             [
              1,
              "#f0f921"
             ]
            ],
            "type": "heatmapgl"
           }
          ],
          "histogram": [
           {
            "marker": {
             "pattern": {
              "fillmode": "overlay",
              "size": 10,
              "solidity": 0.2
             }
            },
            "type": "histogram"
           }
          ],
          "histogram2d": [
           {
            "colorbar": {
             "outlinewidth": 0,
             "ticks": ""
            },
            "colorscale": [
             [
              0,
              "#0d0887"
             ],
             [
              0.1111111111111111,
              "#46039f"
             ],
             [
              0.2222222222222222,
              "#7201a8"
             ],
             [
              0.3333333333333333,
              "#9c179e"
             ],
             [
              0.4444444444444444,
              "#bd3786"
             ],
             [
              0.5555555555555556,
              "#d8576b"
             ],
             [
              0.6666666666666666,
              "#ed7953"
             ],
             [
              0.7777777777777778,
              "#fb9f3a"
             ],
             [
              0.8888888888888888,
              "#fdca26"
             ],
             [
              1,
              "#f0f921"
             ]
            ],
            "type": "histogram2d"
           }
          ],
          "histogram2dcontour": [
           {
            "colorbar": {
             "outlinewidth": 0,
             "ticks": ""
            },
            "colorscale": [
             [
              0,
              "#0d0887"
             ],
             [
              0.1111111111111111,
              "#46039f"
             ],
             [
              0.2222222222222222,
              "#7201a8"
             ],
             [
              0.3333333333333333,
              "#9c179e"
             ],
             [
              0.4444444444444444,
              "#bd3786"
             ],
             [
              0.5555555555555556,
              "#d8576b"
             ],
             [
              0.6666666666666666,
              "#ed7953"
             ],
             [
              0.7777777777777778,
              "#fb9f3a"
             ],
             [
              0.8888888888888888,
              "#fdca26"
             ],
             [
              1,
              "#f0f921"
             ]
            ],
            "type": "histogram2dcontour"
           }
          ],
          "mesh3d": [
           {
            "colorbar": {
             "outlinewidth": 0,
             "ticks": ""
            },
            "type": "mesh3d"
           }
          ],
          "parcoords": [
           {
            "line": {
             "colorbar": {
              "outlinewidth": 0,
              "ticks": ""
             }
            },
            "type": "parcoords"
           }
          ],
          "pie": [
           {
            "automargin": true,
            "type": "pie"
           }
          ],
          "scatter": [
           {
            "marker": {
             "line": {
              "color": "#283442"
             }
            },
            "type": "scatter"
           }
          ],
          "scatter3d": [
           {
            "line": {
             "colorbar": {
              "outlinewidth": 0,
              "ticks": ""
             }
            },
            "marker": {
             "colorbar": {
              "outlinewidth": 0,
              "ticks": ""
             }
            },
            "type": "scatter3d"
           }
          ],
          "scattercarpet": [
           {
            "marker": {
             "colorbar": {
              "outlinewidth": 0,
              "ticks": ""
             }
            },
            "type": "scattercarpet"
           }
          ],
          "scattergeo": [
           {
            "marker": {
             "colorbar": {
              "outlinewidth": 0,
              "ticks": ""
             }
            },
            "type": "scattergeo"
           }
          ],
          "scattergl": [
           {
            "marker": {
             "line": {
              "color": "#283442"
             }
            },
            "type": "scattergl"
           }
          ],
          "scattermapbox": [
           {
            "marker": {
             "colorbar": {
              "outlinewidth": 0,
              "ticks": ""
             }
            },
            "type": "scattermapbox"
           }
          ],
          "scatterpolar": [
           {
            "marker": {
             "colorbar": {
              "outlinewidth": 0,
              "ticks": ""
             }
            },
            "type": "scatterpolar"
           }
          ],
          "scatterpolargl": [
           {
            "marker": {
             "colorbar": {
              "outlinewidth": 0,
              "ticks": ""
             }
            },
            "type": "scatterpolargl"
           }
          ],
          "scatterternary": [
           {
            "marker": {
             "colorbar": {
              "outlinewidth": 0,
              "ticks": ""
             }
            },
            "type": "scatterternary"
           }
          ],
          "surface": [
           {
            "colorbar": {
             "outlinewidth": 0,
             "ticks": ""
            },
            "colorscale": [
             [
              0,
              "#0d0887"
             ],
             [
              0.1111111111111111,
              "#46039f"
             ],
             [
              0.2222222222222222,
              "#7201a8"
             ],
             [
              0.3333333333333333,
              "#9c179e"
             ],
             [
              0.4444444444444444,
              "#bd3786"
             ],
             [
              0.5555555555555556,
              "#d8576b"
             ],
             [
              0.6666666666666666,
              "#ed7953"
             ],
             [
              0.7777777777777778,
              "#fb9f3a"
             ],
             [
              0.8888888888888888,
              "#fdca26"
             ],
             [
              1,
              "#f0f921"
             ]
            ],
            "type": "surface"
           }
          ],
          "table": [
           {
            "cells": {
             "fill": {
              "color": "#506784"
             },
             "line": {
              "color": "rgb(17,17,17)"
             }
            },
            "header": {
             "fill": {
              "color": "#2a3f5f"
             },
             "line": {
              "color": "rgb(17,17,17)"
             }
            },
            "type": "table"
           }
          ]
         },
         "layout": {
          "annotationdefaults": {
           "arrowcolor": "#f2f5fa",
           "arrowhead": 0,
           "arrowwidth": 1
          },
          "autotypenumbers": "strict",
          "coloraxis": {
           "colorbar": {
            "outlinewidth": 0,
            "ticks": ""
           }
          },
          "colorscale": {
           "diverging": [
            [
             0,
             "#8e0152"
            ],
            [
             0.1,
             "#c51b7d"
            ],
            [
             0.2,
             "#de77ae"
            ],
            [
             0.3,
             "#f1b6da"
            ],
            [
             0.4,
             "#fde0ef"
            ],
            [
             0.5,
             "#f7f7f7"
            ],
            [
             0.6,
             "#e6f5d0"
            ],
            [
             0.7,
             "#b8e186"
            ],
            [
             0.8,
             "#7fbc41"
            ],
            [
             0.9,
             "#4d9221"
            ],
            [
             1,
             "#276419"
            ]
           ],
           "sequential": [
            [
             0,
             "#0d0887"
            ],
            [
             0.1111111111111111,
             "#46039f"
            ],
            [
             0.2222222222222222,
             "#7201a8"
            ],
            [
             0.3333333333333333,
             "#9c179e"
            ],
            [
             0.4444444444444444,
             "#bd3786"
            ],
            [
             0.5555555555555556,
             "#d8576b"
            ],
            [
             0.6666666666666666,
             "#ed7953"
            ],
            [
             0.7777777777777778,
             "#fb9f3a"
            ],
            [
             0.8888888888888888,
             "#fdca26"
            ],
            [
             1,
             "#f0f921"
            ]
           ],
           "sequentialminus": [
            [
             0,
             "#0d0887"
            ],
            [
             0.1111111111111111,
             "#46039f"
            ],
            [
             0.2222222222222222,
             "#7201a8"
            ],
            [
             0.3333333333333333,
             "#9c179e"
            ],
            [
             0.4444444444444444,
             "#bd3786"
            ],
            [
             0.5555555555555556,
             "#d8576b"
            ],
            [
             0.6666666666666666,
             "#ed7953"
            ],
            [
             0.7777777777777778,
             "#fb9f3a"
            ],
            [
             0.8888888888888888,
             "#fdca26"
            ],
            [
             1,
             "#f0f921"
            ]
           ]
          },
          "colorway": [
           "#636efa",
           "#EF553B",
           "#00cc96",
           "#ab63fa",
           "#FFA15A",
           "#19d3f3",
           "#FF6692",
           "#B6E880",
           "#FF97FF",
           "#FECB52"
          ],
          "font": {
           "color": "#f2f5fa"
          },
          "geo": {
           "bgcolor": "rgb(17,17,17)",
           "lakecolor": "rgb(17,17,17)",
           "landcolor": "rgb(17,17,17)",
           "showlakes": true,
           "showland": true,
           "subunitcolor": "#506784"
          },
          "hoverlabel": {
           "align": "left"
          },
          "hovermode": "closest",
          "mapbox": {
           "style": "dark"
          },
          "paper_bgcolor": "rgb(17,17,17)",
          "plot_bgcolor": "rgb(17,17,17)",
          "polar": {
           "angularaxis": {
            "gridcolor": "#506784",
            "linecolor": "#506784",
            "ticks": ""
           },
           "bgcolor": "rgb(17,17,17)",
           "radialaxis": {
            "gridcolor": "#506784",
            "linecolor": "#506784",
            "ticks": ""
           }
          },
          "scene": {
           "xaxis": {
            "backgroundcolor": "rgb(17,17,17)",
            "gridcolor": "#506784",
            "gridwidth": 2,
            "linecolor": "#506784",
            "showbackground": true,
            "ticks": "",
            "zerolinecolor": "#C8D4E3"
           },
           "yaxis": {
            "backgroundcolor": "rgb(17,17,17)",
            "gridcolor": "#506784",
            "gridwidth": 2,
            "linecolor": "#506784",
            "showbackground": true,
            "ticks": "",
            "zerolinecolor": "#C8D4E3"
           },
           "zaxis": {
            "backgroundcolor": "rgb(17,17,17)",
            "gridcolor": "#506784",
            "gridwidth": 2,
            "linecolor": "#506784",
            "showbackground": true,
            "ticks": "",
            "zerolinecolor": "#C8D4E3"
           }
          },
          "shapedefaults": {
           "line": {
            "color": "#f2f5fa"
           }
          },
          "sliderdefaults": {
           "bgcolor": "#C8D4E3",
           "bordercolor": "rgb(17,17,17)",
           "borderwidth": 1,
           "tickwidth": 0
          },
          "ternary": {
           "aaxis": {
            "gridcolor": "#506784",
            "linecolor": "#506784",
            "ticks": ""
           },
           "baxis": {
            "gridcolor": "#506784",
            "linecolor": "#506784",
            "ticks": ""
           },
           "bgcolor": "rgb(17,17,17)",
           "caxis": {
            "gridcolor": "#506784",
            "linecolor": "#506784",
            "ticks": ""
           }
          },
          "title": {
           "x": 0.05
          },
          "updatemenudefaults": {
           "bgcolor": "#506784",
           "borderwidth": 0
          },
          "xaxis": {
           "automargin": true,
           "gridcolor": "#283442",
           "linecolor": "#506784",
           "ticks": "",
           "title": {
            "standoff": 15
           },
           "zerolinecolor": "#283442",
           "zerolinewidth": 2
          },
          "yaxis": {
           "automargin": true,
           "gridcolor": "#283442",
           "linecolor": "#506784",
           "ticks": "",
           "title": {
            "standoff": 15
           },
           "zerolinecolor": "#283442",
           "zerolinewidth": 2
          }
         }
        },
        "title": {
         "text": "Message Transitions Over Time"
        },
        "xaxis": {
         "anchor": "y",
         "domain": [
          0,
          1
         ],
         "showgrid": true,
         "title": {
          "text": "Timestamp"
         }
        },
        "yaxis": {
         "anchor": "x",
         "domain": [
          0,
          1
         ],
         "showgrid": true,
         "title": {
          "text": "State"
         }
        }
       }
      }
     },
     "metadata": {},
     "output_type": "display_data"
    }
   ],
   "source": [
    "analyze_message_flow(logs4_50)\n",
    "analyze_message_flow(logs4_50_fast)\n"
   ]
  },
  {
   "cell_type": "code",
   "execution_count": 26,
   "metadata": {},
   "outputs": [
    {
     "data": {
      "application/vnd.plotly.v1+json": {
       "config": {
        "plotlyServerURL": "https://plot.ly"
       },
       "data": [
        {
         "hovertemplate": "State=pending<br>Time=%{x}<br>message_id=%{y}<extra></extra>",
         "legendgroup": "pending",
         "line": {
          "color": "#636efa",
          "dash": "solid"
         },
         "marker": {
          "symbol": "circle"
         },
         "mode": "lines+markers",
         "name": "pending",
         "orientation": "v",
         "showlegend": true,
         "type": "scatter",
         "x": [
          "2024-12-27T15:23:16.888202",
          "2024-12-27T15:23:20.437351",
          "2024-12-27T15:23:24.168152",
          "2024-12-27T15:23:27.445725",
          "2024-12-27T15:23:30.892911",
          "2024-12-27T15:23:34.285561",
          "2024-12-27T15:23:37.477811",
          "2024-12-27T15:23:40.814881",
          "2024-12-27T15:23:44.135641",
          "2024-12-27T15:23:47.415014",
          "2024-12-27T15:23:50.759532",
          "2024-12-27T15:23:54.266785",
          "2024-12-27T15:23:57.825632",
          "2024-12-27T15:24:01.030593",
          "2024-12-27T15:24:04.191592",
          "2024-12-27T15:24:07.385075",
          "2024-12-27T15:24:10.680201",
          "2024-12-27T15:24:13.925315",
          "2024-12-27T15:24:17.048100",
          "2024-12-27T15:24:20.524864",
          "2024-12-27T15:24:23.898088",
          "2024-12-27T15:24:27.230712",
          "2024-12-27T15:24:30.282297",
          "2024-12-27T15:24:33.579625",
          "2024-12-27T15:24:36.946396",
          "2024-12-27T15:24:40.265292",
          "2024-12-27T15:24:43.357710",
          "2024-12-27T15:24:46.486720",
          "2024-12-27T15:24:49.840231",
          "2024-12-27T15:24:53.114628",
          "2024-12-27T15:24:56.229450",
          "2024-12-27T15:24:59.311587",
          "2024-12-27T15:25:02.599639",
          "2024-12-27T15:25:05.673151",
          "2024-12-27T15:25:08.849133",
          "2024-12-27T15:25:12.129086",
          "2024-12-27T15:25:15.220075",
          "2024-12-27T15:25:18.335688",
          "2024-12-27T15:25:21.743760",
          "2024-12-27T15:25:24.940706",
          "2024-12-27T15:25:28.222526",
          "2024-12-27T15:25:31.568554",
          "2024-12-27T15:25:34.638476",
          "2024-12-27T15:25:37.908949",
          "2024-12-27T15:25:41.086397",
          "2024-12-27T15:25:44.374990",
          "2024-12-27T15:25:47.572873",
          "2024-12-27T15:25:50.870043",
          "2024-12-27T15:25:54.178381",
          "2024-12-27T15:25:57.294439",
          "2024-12-27T15:26:00.527820",
          "2024-12-27T15:26:03.857305",
          "2024-12-27T15:26:07.117797",
          "2024-12-27T15:26:10.288990",
          "2024-12-27T15:26:13.580424",
          "2024-12-27T15:26:16.751308",
          "2024-12-27T15:26:20.086773",
          "2024-12-27T15:26:23.675474",
          "2024-12-27T15:26:27.095511",
          "2024-12-27T15:26:30.440932",
          "2024-12-27T15:26:33.551170",
          "2024-12-27T15:26:36.734627",
          "2024-12-27T15:26:40.025602",
          "2024-12-27T15:26:43.351652",
          "2024-12-27T15:26:46.493354",
          "2024-12-27T15:26:49.916929",
          "2024-12-27T15:26:53.012858",
          "2024-12-27T15:26:56.145212",
          "2024-12-27T15:26:59.414431",
          "2024-12-27T15:27:02.505515",
          "2024-12-27T15:27:05.909978",
          "2024-12-27T15:27:09.223476",
          "2024-12-27T15:27:12.366241",
          "2024-12-27T15:27:15.710172",
          "2024-12-27T15:27:18.789926",
          "2024-12-27T15:27:22.260111",
          "2024-12-27T15:27:25.623498",
          "2024-12-27T15:27:28.786293",
          "2024-12-27T15:27:31.872797",
          "2024-12-27T15:27:35.077849",
          "2024-12-27T15:27:38.335920",
          "2024-12-27T15:27:41.435460",
          "2024-12-27T15:27:44.461591",
          "2024-12-27T15:27:47.719871",
          "2024-12-27T15:27:50.800419",
          "2024-12-27T15:27:54.068049",
          "2024-12-27T15:27:57.329004",
          "2024-12-27T15:28:00.533843",
          "2024-12-27T15:28:03.835024",
          "2024-12-27T15:28:07.168371",
          "2024-12-27T15:28:10.256315",
          "2024-12-27T15:28:13.362418",
          "2024-12-27T15:28:16.554789",
          "2024-12-27T15:28:19.719162",
          "2024-12-27T15:28:22.929297",
          "2024-12-27T15:28:26.282437",
          "2024-12-27T15:28:29.565769",
          "2024-12-27T15:28:32.847010",
          "2024-12-27T15:28:35.951975",
          "2024-12-27T15:28:39.313035"
         ],
         "xaxis": "x",
         "y": [
          1,
          2,
          3,
          4,
          5,
          6,
          7,
          8,
          9,
          10,
          11,
          12,
          13,
          14,
          15,
          16,
          17,
          18,
          19,
          20,
          21,
          22,
          23,
          24,
          25,
          26,
          27,
          28,
          29,
          30,
          31,
          32,
          33,
          34,
          35,
          36,
          37,
          38,
          39,
          40,
          41,
          42,
          43,
          44,
          45,
          46,
          47,
          48,
          49,
          50,
          51,
          52,
          53,
          54,
          55,
          56,
          57,
          58,
          59,
          60,
          61,
          62,
          63,
          64,
          65,
          66,
          67,
          68,
          69,
          70,
          71,
          72,
          73,
          74,
          75,
          76,
          77,
          78,
          79,
          80,
          81,
          82,
          83,
          84,
          85,
          86,
          87,
          88,
          89,
          90,
          91,
          92,
          93,
          94,
          95,
          96,
          97,
          98,
          99,
          100
         ],
         "yaxis": "y"
        },
        {
         "hovertemplate": "State=active<br>Time=%{x}<br>message_id=%{y}<extra></extra>",
         "legendgroup": "active",
         "line": {
          "color": "#EF553B",
          "dash": "solid"
         },
         "marker": {
          "symbol": "circle"
         },
         "mode": "lines+markers",
         "name": "active",
         "orientation": "v",
         "showlegend": true,
         "type": "scatter",
         "x": [
          "2024-12-27T15:23:17.607850",
          "2024-12-27T15:23:21.197828",
          "2024-12-27T15:23:24.227159",
          "2024-12-27T15:23:27.701391",
          "2024-12-27T15:23:31.328995",
          "2024-12-27T15:23:34.333309",
          "2024-12-27T15:23:37.794601",
          "2024-12-27T15:23:41.433769",
          "2024-12-27T15:23:44.442583",
          "2024-12-27T15:23:47.888131",
          "2024-12-27T15:23:51.530748",
          "2024-12-27T15:23:54.539642",
          "2024-12-27T15:23:58.046566",
          "2024-12-27T15:24:01.629124",
          "2024-12-27T15:24:04.646137",
          "2024-12-27T15:24:08.150536",
          "2024-12-27T15:24:11.726479",
          "2024-12-27T15:24:14.750152",
          "2024-12-27T15:24:18.238034",
          "2024-12-27T15:24:20.596286",
          "2024-12-27T15:24:24.889948",
          "2024-12-27T15:24:28.382931",
          "2024-12-27T15:24:30.700361",
          "2024-12-27T15:24:35.069586",
          "2024-12-27T15:24:37.006849",
          "2024-12-27T15:24:40.799612",
          "2024-12-27T15:24:43.519572",
          "2024-12-27T15:24:47.219684",
          "2024-12-27T15:24:50.221186",
          "2024-12-27T15:24:53.610543",
          "2024-12-27T15:24:57.322296",
          "2024-12-27T15:25:00.318790",
          "2024-12-27T15:25:03.700417",
          "2024-12-27T15:25:06.035429",
          "2024-12-27T15:25:10.414476",
          "2024-12-27T15:25:12.496970",
          "2024-12-27T15:25:16.139028",
          "2024-12-27T15:25:18.829404",
          "2024-12-27T15:25:22.609960",
          "2024-12-27T15:25:25.560392",
          "2024-12-27T15:25:28.918404",
          "2024-12-27T15:25:32.706628",
          "2024-12-27T15:25:35.674381",
          "2024-12-27T15:25:39.011972",
          "2024-12-27T15:25:41.379536",
          "2024-12-27T15:25:45.777479",
          "2024-12-27T15:25:47.861147",
          "2024-12-27T15:25:51.477445",
          "2024-12-27T15:25:55.932560",
          "2024-12-27T15:25:57.965712",
          "2024-12-27T15:26:01.665205",
          "2024-12-27T15:26:04.253223",
          "2024-12-27T15:26:08.072864",
          "2024-12-27T15:26:11.097385",
          "2024-12-27T15:26:14.359293",
          "2024-12-27T15:26:16.815895",
          "2024-12-27T15:26:21.199014",
          "2024-12-27T15:26:24.448134",
          "2024-12-27T15:26:28.276839",
          "2024-12-27T15:26:31.303558",
          "2024-12-27T15:26:34.544168",
          "2024-12-27T15:26:37.033977",
          "2024-12-27T15:26:41.404780",
          "2024-12-27T15:26:43.424203",
          "2024-12-27T15:26:47.135707",
          "2024-12-27T15:26:51.501387",
          "2024-12-27T15:26:53.546354",
          "2024-12-27T15:26:57.234821",
          "2024-12-27T15:26:59.768415",
          "2024-12-27T15:27:03.659297",
          "2024-12-27T15:27:06.694458",
          "2024-12-27T15:27:09.864677",
          "2024-12-27T15:27:12.389471",
          "2024-12-27T15:27:16.790258",
          "2024-12-27T15:27:18.819088",
          "2024-12-27T15:27:22.482897",
          "2024-12-27T15:27:26.894741",
          "2024-12-27T15:27:28.930226",
          "2024-12-27T15:27:32.589879",
          "2024-12-27T15:27:35.081555",
          "2024-12-27T15:27:39.034439",
          "2024-12-27T15:27:42.051735",
          "2024-12-27T15:27:45.177129",
          "2024-12-27T15:27:47.730916",
          "2024-12-27T15:27:52.152655",
          "2024-12-27T15:27:54.181017",
          "2024-12-27T15:27:57.827446",
          "2024-12-27T15:28:02.296356",
          "2024-12-27T15:28:04.295276",
          "2024-12-27T15:28:07.934862",
          "2024-12-27T15:28:10.422364",
          "2024-12-27T15:28:14.394082",
          "2024-12-27T15:28:17.452564",
          "2024-12-27T15:28:20.533977",
          "2024-12-27T15:28:23.082589",
          "2024-12-27T15:28:27.549079",
          "2024-12-27T15:28:30.624051",
          "2024-12-27T15:28:33.196320",
          "2024-12-27T15:28:37.645821",
          "2024-12-27T15:28:39.656136"
         ],
         "xaxis": "x",
         "y": [
          1,
          2,
          3,
          4,
          5,
          6,
          7,
          8,
          9,
          10,
          11,
          12,
          13,
          14,
          15,
          16,
          17,
          18,
          19,
          20,
          21,
          22,
          23,
          24,
          25,
          26,
          27,
          28,
          29,
          30,
          31,
          32,
          33,
          34,
          35,
          36,
          37,
          38,
          39,
          40,
          41,
          42,
          43,
          44,
          45,
          46,
          47,
          48,
          49,
          50,
          51,
          52,
          53,
          54,
          55,
          56,
          57,
          58,
          59,
          60,
          61,
          62,
          63,
          64,
          65,
          66,
          67,
          68,
          69,
          70,
          71,
          72,
          73,
          74,
          75,
          76,
          77,
          78,
          79,
          80,
          81,
          82,
          83,
          84,
          85,
          86,
          87,
          88,
          89,
          90,
          91,
          92,
          93,
          94,
          95,
          96,
          97,
          98,
          99,
          100
         ],
         "yaxis": "y"
        },
        {
         "hovertemplate": "State=completed<br>Time=%{x}<br>message_id=%{y}<extra></extra>",
         "legendgroup": "completed",
         "line": {
          "color": "#00cc96",
          "dash": "solid"
         },
         "marker": {
          "symbol": "circle"
         },
         "mode": "lines+markers",
         "name": "completed",
         "orientation": "v",
         "showlegend": true,
         "type": "scatter",
         "x": [
          "2024-12-27T15:23:27.672599",
          "2024-12-27T15:23:31.294814",
          "2024-12-27T15:23:34.304281",
          "2024-12-27T15:23:37.766241",
          "2024-12-27T15:23:41.401521",
          "2024-12-27T15:23:44.408778",
          "2024-12-27T15:23:47.861096",
          "2024-12-27T15:23:51.500706",
          "2024-12-27T15:23:54.509041",
          "2024-12-27T15:23:57.987441",
          "2024-12-27T15:24:01.600216",
          "2024-12-27T15:24:04.614185",
          "2024-12-27T15:24:08.122180",
          "2024-12-27T15:24:11.695659",
          "2024-12-27T15:24:14.720438",
          "2024-12-27T15:24:18.210709",
          "2024-12-27T15:24:21.793862",
          "2024-12-27T15:24:24.823708",
          "2024-12-27T15:24:28.356263",
          "2024-12-27T15:24:30.669045",
          "2024-12-27T15:24:35.035281",
          "2024-12-27T15:24:38.451252",
          "2024-12-27T15:24:40.773073",
          "2024-12-27T15:24:45.142578",
          "2024-12-27T15:24:47.183746",
          "2024-12-27T15:24:50.870089",
          "2024-12-27T15:24:53.582873",
          "2024-12-27T15:24:57.292055",
          "2024-12-27T15:25:00.290364",
          "2024-12-27T15:25:03.672965",
          "2024-12-27T15:25:07.408013",
          "2024-12-27T15:25:10.386413",
          "2024-12-27T15:25:13.759331",
          "2024-12-27T15:25:16.109586",
          "2024-12-27T15:25:20.484947",
          "2024-12-27T15:25:22.574569",
          "2024-12-27T15:25:26.210597",
          "2024-12-27T15:25:28.892878",
          "2024-12-27T15:25:32.675685",
          "2024-12-27T15:25:35.632595",
          "2024-12-27T15:25:38.982862",
          "2024-12-27T15:25:42.783420",
          "2024-12-27T15:25:45.747990",
          "2024-12-27T15:25:49.078522",
          "2024-12-27T15:25:51.447249",
          "2024-12-27T15:25:55.879010",
          "2024-12-27T15:25:57.935500",
          "2024-12-27T15:26:01.634647",
          "2024-12-27T15:26:06.020348",
          "2024-12-27T15:26:08.039406",
          "2024-12-27T15:26:11.743941",
          "2024-12-27T15:26:14.330691",
          "2024-12-27T15:26:18.150006",
          "2024-12-27T15:26:21.170113",
          "2024-12-27T15:26:24.419346",
          "2024-12-27T15:26:26.888030",
          "2024-12-27T15:26:31.272335",
          "2024-12-27T15:26:34.514819",
          "2024-12-27T15:26:38.347016",
          "2024-12-27T15:26:41.372524",
          "2024-12-27T15:26:44.613901",
          "2024-12-27T15:26:47.103989",
          "2024-12-27T15:26:51.471181",
          "2024-12-27T15:26:53.500296",
          "2024-12-27T15:26:57.204235",
          "2024-12-27T15:27:01.611732",
          "2024-12-27T15:27:03.627511",
          "2024-12-27T15:27:07.313335",
          "2024-12-27T15:27:09.837584",
          "2024-12-27T15:27:13.731723",
          "2024-12-27T15:27:16.760711",
          "2024-12-27T15:27:19.926180",
          "2024-12-27T15:27:22.452816",
          "2024-12-27T15:27:26.863207",
          "2024-12-27T15:27:28.896932",
          "2024-12-27T15:27:32.560748",
          "2024-12-27T15:27:36.972298",
          "2024-12-27T15:27:39.001652",
          "2024-12-27T15:27:42.659591",
          "2024-12-27T15:27:45.147895",
          "2024-12-27T15:27:49.103479",
          "2024-12-27T15:27:52.121979",
          "2024-12-27T15:27:55.240333",
          "2024-12-27T15:27:57.799742",
          "2024-12-27T15:28:02.248677",
          "2024-12-27T15:28:04.264713",
          "2024-12-27T15:28:07.902238",
          "2024-12-27T15:28:12.383205",
          "2024-12-27T15:28:14.363250",
          "2024-12-27T15:28:18.004177",
          "2024-12-27T15:28:20.499718",
          "2024-12-27T15:28:24.453781",
          "2024-12-27T15:28:27.518980",
          "2024-12-27T15:28:30.597476",
          "2024-12-27T15:28:33.165814",
          "2024-12-27T15:28:37.615334",
          "2024-12-27T15:28:40.694263",
          "2024-12-27T15:28:43.278553",
          "2024-12-27T15:28:47.750339",
          "2024-12-27T15:28:49.738572"
         ],
         "xaxis": "x",
         "y": [
          1,
          2,
          3,
          4,
          5,
          6,
          7,
          8,
          9,
          10,
          11,
          12,
          13,
          14,
          15,
          16,
          17,
          18,
          19,
          20,
          21,
          22,
          23,
          24,
          25,
          26,
          27,
          28,
          29,
          30,
          31,
          32,
          33,
          34,
          35,
          36,
          37,
          38,
          39,
          40,
          41,
          42,
          43,
          44,
          45,
          46,
          47,
          48,
          49,
          50,
          51,
          52,
          53,
          54,
          55,
          56,
          57,
          58,
          59,
          60,
          61,
          62,
          63,
          64,
          65,
          66,
          67,
          68,
          69,
          70,
          71,
          72,
          73,
          74,
          75,
          76,
          77,
          78,
          79,
          80,
          81,
          82,
          83,
          84,
          85,
          86,
          87,
          88,
          89,
          90,
          91,
          92,
          93,
          94,
          95,
          96,
          97,
          98,
          99,
          100
         ],
         "yaxis": "y"
        }
       ],
       "layout": {
        "hovermode": "closest",
        "legend": {
         "title": {
          "text": "State"
         },
         "tracegroupgap": 0
        },
        "margin": {
         "b": 40,
         "l": 40,
         "r": 40,
         "t": 40
        },
        "template": {
         "data": {
          "bar": [
           {
            "error_x": {
             "color": "#f2f5fa"
            },
            "error_y": {
             "color": "#f2f5fa"
            },
            "marker": {
             "line": {
              "color": "rgb(17,17,17)",
              "width": 0.5
             },
             "pattern": {
              "fillmode": "overlay",
              "size": 10,
              "solidity": 0.2
             }
            },
            "type": "bar"
           }
          ],
          "barpolar": [
           {
            "marker": {
             "line": {
              "color": "rgb(17,17,17)",
              "width": 0.5
             },
             "pattern": {
              "fillmode": "overlay",
              "size": 10,
              "solidity": 0.2
             }
            },
            "type": "barpolar"
           }
          ],
          "carpet": [
           {
            "aaxis": {
             "endlinecolor": "#A2B1C6",
             "gridcolor": "#506784",
             "linecolor": "#506784",
             "minorgridcolor": "#506784",
             "startlinecolor": "#A2B1C6"
            },
            "baxis": {
             "endlinecolor": "#A2B1C6",
             "gridcolor": "#506784",
             "linecolor": "#506784",
             "minorgridcolor": "#506784",
             "startlinecolor": "#A2B1C6"
            },
            "type": "carpet"
           }
          ],
          "choropleth": [
           {
            "colorbar": {
             "outlinewidth": 0,
             "ticks": ""
            },
            "type": "choropleth"
           }
          ],
          "contour": [
           {
            "colorbar": {
             "outlinewidth": 0,
             "ticks": ""
            },
            "colorscale": [
             [
              0,
              "#0d0887"
             ],
             [
              0.1111111111111111,
              "#46039f"
             ],
             [
              0.2222222222222222,
              "#7201a8"
             ],
             [
              0.3333333333333333,
              "#9c179e"
             ],
             [
              0.4444444444444444,
              "#bd3786"
             ],
             [
              0.5555555555555556,
              "#d8576b"
             ],
             [
              0.6666666666666666,
              "#ed7953"
             ],
             [
              0.7777777777777778,
              "#fb9f3a"
             ],
             [
              0.8888888888888888,
              "#fdca26"
             ],
             [
              1,
              "#f0f921"
             ]
            ],
            "type": "contour"
           }
          ],
          "contourcarpet": [
           {
            "colorbar": {
             "outlinewidth": 0,
             "ticks": ""
            },
            "type": "contourcarpet"
           }
          ],
          "heatmap": [
           {
            "colorbar": {
             "outlinewidth": 0,
             "ticks": ""
            },
            "colorscale": [
             [
              0,
              "#0d0887"
             ],
             [
              0.1111111111111111,
              "#46039f"
             ],
             [
              0.2222222222222222,
              "#7201a8"
             ],
             [
              0.3333333333333333,
              "#9c179e"
             ],
             [
              0.4444444444444444,
              "#bd3786"
             ],
             [
              0.5555555555555556,
              "#d8576b"
             ],
             [
              0.6666666666666666,
              "#ed7953"
             ],
             [
              0.7777777777777778,
              "#fb9f3a"
             ],
             [
              0.8888888888888888,
              "#fdca26"
             ],
             [
              1,
              "#f0f921"
             ]
            ],
            "type": "heatmap"
           }
          ],
          "heatmapgl": [
           {
            "colorbar": {
             "outlinewidth": 0,
             "ticks": ""
            },
            "colorscale": [
             [
              0,
              "#0d0887"
             ],
             [
              0.1111111111111111,
              "#46039f"
             ],
             [
              0.2222222222222222,
              "#7201a8"
             ],
             [
              0.3333333333333333,
              "#9c179e"
             ],
             [
              0.4444444444444444,
              "#bd3786"
             ],
             [
              0.5555555555555556,
              "#d8576b"
             ],
             [
              0.6666666666666666,
              "#ed7953"
             ],
             [
              0.7777777777777778,
              "#fb9f3a"
             ],
             [
              0.8888888888888888,
              "#fdca26"
             ],
             [
              1,
              "#f0f921"
             ]
            ],
            "type": "heatmapgl"
           }
          ],
          "histogram": [
           {
            "marker": {
             "pattern": {
              "fillmode": "overlay",
              "size": 10,
              "solidity": 0.2
             }
            },
            "type": "histogram"
           }
          ],
          "histogram2d": [
           {
            "colorbar": {
             "outlinewidth": 0,
             "ticks": ""
            },
            "colorscale": [
             [
              0,
              "#0d0887"
             ],
             [
              0.1111111111111111,
              "#46039f"
             ],
             [
              0.2222222222222222,
              "#7201a8"
             ],
             [
              0.3333333333333333,
              "#9c179e"
             ],
             [
              0.4444444444444444,
              "#bd3786"
             ],
             [
              0.5555555555555556,
              "#d8576b"
             ],
             [
              0.6666666666666666,
              "#ed7953"
             ],
             [
              0.7777777777777778,
              "#fb9f3a"
             ],
             [
              0.8888888888888888,
              "#fdca26"
             ],
             [
              1,
              "#f0f921"
             ]
            ],
            "type": "histogram2d"
           }
          ],
          "histogram2dcontour": [
           {
            "colorbar": {
             "outlinewidth": 0,
             "ticks": ""
            },
            "colorscale": [
             [
              0,
              "#0d0887"
             ],
             [
              0.1111111111111111,
              "#46039f"
             ],
             [
              0.2222222222222222,
              "#7201a8"
             ],
             [
              0.3333333333333333,
              "#9c179e"
             ],
             [
              0.4444444444444444,
              "#bd3786"
             ],
             [
              0.5555555555555556,
              "#d8576b"
             ],
             [
              0.6666666666666666,
              "#ed7953"
             ],
             [
              0.7777777777777778,
              "#fb9f3a"
             ],
             [
              0.8888888888888888,
              "#fdca26"
             ],
             [
              1,
              "#f0f921"
             ]
            ],
            "type": "histogram2dcontour"
           }
          ],
          "mesh3d": [
           {
            "colorbar": {
             "outlinewidth": 0,
             "ticks": ""
            },
            "type": "mesh3d"
           }
          ],
          "parcoords": [
           {
            "line": {
             "colorbar": {
              "outlinewidth": 0,
              "ticks": ""
             }
            },
            "type": "parcoords"
           }
          ],
          "pie": [
           {
            "automargin": true,
            "type": "pie"
           }
          ],
          "scatter": [
           {
            "marker": {
             "line": {
              "color": "#283442"
             }
            },
            "type": "scatter"
           }
          ],
          "scatter3d": [
           {
            "line": {
             "colorbar": {
              "outlinewidth": 0,
              "ticks": ""
             }
            },
            "marker": {
             "colorbar": {
              "outlinewidth": 0,
              "ticks": ""
             }
            },
            "type": "scatter3d"
           }
          ],
          "scattercarpet": [
           {
            "marker": {
             "colorbar": {
              "outlinewidth": 0,
              "ticks": ""
             }
            },
            "type": "scattercarpet"
           }
          ],
          "scattergeo": [
           {
            "marker": {
             "colorbar": {
              "outlinewidth": 0,
              "ticks": ""
             }
            },
            "type": "scattergeo"
           }
          ],
          "scattergl": [
           {
            "marker": {
             "line": {
              "color": "#283442"
             }
            },
            "type": "scattergl"
           }
          ],
          "scattermapbox": [
           {
            "marker": {
             "colorbar": {
              "outlinewidth": 0,
              "ticks": ""
             }
            },
            "type": "scattermapbox"
           }
          ],
          "scatterpolar": [
           {
            "marker": {
             "colorbar": {
              "outlinewidth": 0,
              "ticks": ""
             }
            },
            "type": "scatterpolar"
           }
          ],
          "scatterpolargl": [
           {
            "marker": {
             "colorbar": {
              "outlinewidth": 0,
              "ticks": ""
             }
            },
            "type": "scatterpolargl"
           }
          ],
          "scatterternary": [
           {
            "marker": {
             "colorbar": {
              "outlinewidth": 0,
              "ticks": ""
             }
            },
            "type": "scatterternary"
           }
          ],
          "surface": [
           {
            "colorbar": {
             "outlinewidth": 0,
             "ticks": ""
            },
            "colorscale": [
             [
              0,
              "#0d0887"
             ],
             [
              0.1111111111111111,
              "#46039f"
             ],
             [
              0.2222222222222222,
              "#7201a8"
             ],
             [
              0.3333333333333333,
              "#9c179e"
             ],
             [
              0.4444444444444444,
              "#bd3786"
             ],
             [
              0.5555555555555556,
              "#d8576b"
             ],
             [
              0.6666666666666666,
              "#ed7953"
             ],
             [
              0.7777777777777778,
              "#fb9f3a"
             ],
             [
              0.8888888888888888,
              "#fdca26"
             ],
             [
              1,
              "#f0f921"
             ]
            ],
            "type": "surface"
           }
          ],
          "table": [
           {
            "cells": {
             "fill": {
              "color": "#506784"
             },
             "line": {
              "color": "rgb(17,17,17)"
             }
            },
            "header": {
             "fill": {
              "color": "#2a3f5f"
             },
             "line": {
              "color": "rgb(17,17,17)"
             }
            },
            "type": "table"
           }
          ]
         },
         "layout": {
          "annotationdefaults": {
           "arrowcolor": "#f2f5fa",
           "arrowhead": 0,
           "arrowwidth": 1
          },
          "autotypenumbers": "strict",
          "coloraxis": {
           "colorbar": {
            "outlinewidth": 0,
            "ticks": ""
           }
          },
          "colorscale": {
           "diverging": [
            [
             0,
             "#8e0152"
            ],
            [
             0.1,
             "#c51b7d"
            ],
            [
             0.2,
             "#de77ae"
            ],
            [
             0.3,
             "#f1b6da"
            ],
            [
             0.4,
             "#fde0ef"
            ],
            [
             0.5,
             "#f7f7f7"
            ],
            [
             0.6,
             "#e6f5d0"
            ],
            [
             0.7,
             "#b8e186"
            ],
            [
             0.8,
             "#7fbc41"
            ],
            [
             0.9,
             "#4d9221"
            ],
            [
             1,
             "#276419"
            ]
           ],
           "sequential": [
            [
             0,
             "#0d0887"
            ],
            [
             0.1111111111111111,
             "#46039f"
            ],
            [
             0.2222222222222222,
             "#7201a8"
            ],
            [
             0.3333333333333333,
             "#9c179e"
            ],
            [
             0.4444444444444444,
             "#bd3786"
            ],
            [
             0.5555555555555556,
             "#d8576b"
            ],
            [
             0.6666666666666666,
             "#ed7953"
            ],
            [
             0.7777777777777778,
             "#fb9f3a"
            ],
            [
             0.8888888888888888,
             "#fdca26"
            ],
            [
             1,
             "#f0f921"
            ]
           ],
           "sequentialminus": [
            [
             0,
             "#0d0887"
            ],
            [
             0.1111111111111111,
             "#46039f"
            ],
            [
             0.2222222222222222,
             "#7201a8"
            ],
            [
             0.3333333333333333,
             "#9c179e"
            ],
            [
             0.4444444444444444,
             "#bd3786"
            ],
            [
             0.5555555555555556,
             "#d8576b"
            ],
            [
             0.6666666666666666,
             "#ed7953"
            ],
            [
             0.7777777777777778,
             "#fb9f3a"
            ],
            [
             0.8888888888888888,
             "#fdca26"
            ],
            [
             1,
             "#f0f921"
            ]
           ]
          },
          "colorway": [
           "#636efa",
           "#EF553B",
           "#00cc96",
           "#ab63fa",
           "#FFA15A",
           "#19d3f3",
           "#FF6692",
           "#B6E880",
           "#FF97FF",
           "#FECB52"
          ],
          "font": {
           "color": "#f2f5fa"
          },
          "geo": {
           "bgcolor": "rgb(17,17,17)",
           "lakecolor": "rgb(17,17,17)",
           "landcolor": "rgb(17,17,17)",
           "showlakes": true,
           "showland": true,
           "subunitcolor": "#506784"
          },
          "hoverlabel": {
           "align": "left"
          },
          "hovermode": "closest",
          "mapbox": {
           "style": "dark"
          },
          "paper_bgcolor": "rgb(17,17,17)",
          "plot_bgcolor": "rgb(17,17,17)",
          "polar": {
           "angularaxis": {
            "gridcolor": "#506784",
            "linecolor": "#506784",
            "ticks": ""
           },
           "bgcolor": "rgb(17,17,17)",
           "radialaxis": {
            "gridcolor": "#506784",
            "linecolor": "#506784",
            "ticks": ""
           }
          },
          "scene": {
           "xaxis": {
            "backgroundcolor": "rgb(17,17,17)",
            "gridcolor": "#506784",
            "gridwidth": 2,
            "linecolor": "#506784",
            "showbackground": true,
            "ticks": "",
            "zerolinecolor": "#C8D4E3"
           },
           "yaxis": {
            "backgroundcolor": "rgb(17,17,17)",
            "gridcolor": "#506784",
            "gridwidth": 2,
            "linecolor": "#506784",
            "showbackground": true,
            "ticks": "",
            "zerolinecolor": "#C8D4E3"
           },
           "zaxis": {
            "backgroundcolor": "rgb(17,17,17)",
            "gridcolor": "#506784",
            "gridwidth": 2,
            "linecolor": "#506784",
            "showbackground": true,
            "ticks": "",
            "zerolinecolor": "#C8D4E3"
           }
          },
          "shapedefaults": {
           "line": {
            "color": "#f2f5fa"
           }
          },
          "sliderdefaults": {
           "bgcolor": "#C8D4E3",
           "bordercolor": "rgb(17,17,17)",
           "borderwidth": 1,
           "tickwidth": 0
          },
          "ternary": {
           "aaxis": {
            "gridcolor": "#506784",
            "linecolor": "#506784",
            "ticks": ""
           },
           "baxis": {
            "gridcolor": "#506784",
            "linecolor": "#506784",
            "ticks": ""
           },
           "bgcolor": "rgb(17,17,17)",
           "caxis": {
            "gridcolor": "#506784",
            "linecolor": "#506784",
            "ticks": ""
           }
          },
          "title": {
           "x": 0.05
          },
          "updatemenudefaults": {
           "bgcolor": "#506784",
           "borderwidth": 0
          },
          "xaxis": {
           "automargin": true,
           "gridcolor": "#283442",
           "linecolor": "#506784",
           "ticks": "",
           "title": {
            "standoff": 15
           },
           "zerolinecolor": "#283442",
           "zerolinewidth": 2
          },
          "yaxis": {
           "automargin": true,
           "gridcolor": "#283442",
           "linecolor": "#506784",
           "ticks": "",
           "title": {
            "standoff": 15
           },
           "zerolinecolor": "#283442",
           "zerolinewidth": 2
          }
         }
        },
        "title": {
         "text": "Message Transitions Over Time"
        },
        "xaxis": {
         "anchor": "y",
         "domain": [
          0,
          1
         ],
         "showgrid": true,
         "title": {
          "text": "Timestamp"
         }
        },
        "yaxis": {
         "anchor": "x",
         "domain": [
          0,
          1
         ],
         "showgrid": true,
         "title": {
          "text": "State"
         }
        }
       }
      }
     },
     "metadata": {},
     "output_type": "display_data"
    },
    {
     "data": {
      "application/vnd.plotly.v1+json": {
       "config": {
        "plotlyServerURL": "https://plot.ly"
       },
       "data": [
        {
         "hovertemplate": "State=pending<br>Time=%{x}<br>message_id=%{y}<extra></extra>",
         "legendgroup": "pending",
         "line": {
          "color": "#636efa",
          "dash": "solid"
         },
         "marker": {
          "symbol": "circle"
         },
         "mode": "lines+markers",
         "name": "pending",
         "orientation": "v",
         "showlegend": true,
         "type": "scatter",
         "x": [
          "2024-12-31T09:04:13.161842",
          "2024-12-31T09:04:13.192803",
          "2024-12-31T09:04:13.530583",
          "2024-12-31T09:04:13.564212",
          "2024-12-31T09:04:13.579587",
          "2024-12-31T09:04:13.600224",
          "2024-12-31T09:04:13.603561",
          "2024-12-31T09:04:13.605673",
          "2024-12-31T09:04:13.608884",
          "2024-12-31T09:04:13.610789",
          "2024-12-31T09:04:13.654008",
          "2024-12-31T09:04:13.700092",
          "2024-12-31T09:04:13.718737",
          "2024-12-31T09:04:13.722254",
          "2024-12-31T09:04:13.750618",
          "2024-12-31T09:04:13.771135",
          "2024-12-31T09:04:13.857527",
          "2024-12-31T09:04:13.889347",
          "2024-12-31T09:04:13.940625",
          "2024-12-31T09:04:13.944317",
          "2024-12-31T09:04:13.994934",
          "2024-12-31T09:04:13.997753",
          "2024-12-31T09:04:14.097288",
          "2024-12-31T09:04:14.149487",
          "2024-12-31T09:04:14.174343",
          "2024-12-31T09:04:14.368879",
          "2024-12-31T09:04:14.503730",
          "2024-12-31T09:04:14.681308",
          "2024-12-31T09:04:19.048945",
          "2024-12-31T09:04:19.088748",
          "2024-12-31T09:04:19.090984",
          "2024-12-31T09:04:19.103753",
          "2024-12-31T09:04:19.109741",
          "2024-12-31T09:04:19.202886",
          "2024-12-31T09:04:19.228420",
          "2024-12-31T09:04:19.232784",
          "2024-12-31T09:04:19.282248",
          "2024-12-31T09:04:19.315993",
          "2024-12-31T09:04:19.460088",
          "2024-12-31T09:04:19.482244",
          "2024-12-31T09:04:19.522474",
          "2024-12-31T09:04:19.558415",
          "2024-12-31T09:04:19.639943",
          "2024-12-31T09:04:19.682533",
          "2024-12-31T09:04:19.787483",
          "2024-12-31T09:04:19.796106",
          "2024-12-31T09:04:19.950030",
          "2024-12-31T09:04:19.965250",
          "2024-12-31T09:04:20.136812",
          "2024-12-31T09:04:20.167268",
          "2024-12-31T09:04:20.185401",
          "2024-12-31T09:04:20.236409",
          "2024-12-31T09:04:20.399724",
          "2024-12-31T09:04:20.461618",
          "2024-12-31T09:04:20.543374",
          "2024-12-31T09:04:20.672308",
          "2024-12-31T09:04:24.608453",
          "2024-12-31T09:04:24.707009",
          "2024-12-31T09:04:24.858593",
          "2024-12-31T09:04:24.932941",
          "2024-12-31T09:04:24.984766",
          "2024-12-31T09:04:25.022805",
          "2024-12-31T09:04:25.119454",
          "2024-12-31T09:04:25.169535",
          "2024-12-31T09:04:25.230613",
          "2024-12-31T09:04:25.255363",
          "2024-12-31T09:04:25.337874",
          "2024-12-31T09:04:25.474459",
          "2024-12-31T09:04:25.599511",
          "2024-12-31T09:04:25.612955",
          "2024-12-31T09:04:25.720229",
          "2024-12-31T09:04:25.858157",
          "2024-12-31T09:04:25.992112",
          "2024-12-31T09:04:25.999538",
          "2024-12-31T09:04:26.008193",
          "2024-12-31T09:04:26.018117",
          "2024-12-31T09:04:26.143989",
          "2024-12-31T09:04:26.159975",
          "2024-12-31T09:04:26.303177",
          "2024-12-31T09:04:26.321406",
          "2024-12-31T09:04:26.404471",
          "2024-12-31T09:04:26.530416",
          "2024-12-31T09:04:26.752582",
          "2024-12-31T09:04:26.805953",
          "2024-12-31T09:04:28.849235",
          "2024-12-31T09:04:28.931022",
          "2024-12-31T09:04:29.197947",
          "2024-12-31T09:04:29.208053",
          "2024-12-31T09:04:29.220915",
          "2024-12-31T09:04:29.329020",
          "2024-12-31T09:04:29.400078",
          "2024-12-31T09:04:29.438444",
          "2024-12-31T09:04:29.465449",
          "2024-12-31T09:04:29.543911",
          "2024-12-31T09:04:29.692784",
          "2024-12-31T09:04:29.721443",
          "2024-12-31T09:04:29.804867",
          "2024-12-31T09:04:30.006759",
          "2024-12-31T09:04:30.115024",
          "2024-12-31T09:04:30.255689"
         ],
         "xaxis": "x",
         "y": [
          1,
          2,
          3,
          4,
          5,
          6,
          7,
          8,
          9,
          10,
          11,
          12,
          13,
          14,
          15,
          16,
          17,
          18,
          19,
          20,
          21,
          22,
          23,
          24,
          25,
          26,
          27,
          28,
          29,
          30,
          31,
          32,
          33,
          34,
          35,
          36,
          37,
          38,
          39,
          40,
          41,
          42,
          43,
          44,
          45,
          46,
          47,
          48,
          49,
          50,
          51,
          52,
          53,
          54,
          55,
          56,
          57,
          58,
          59,
          60,
          61,
          62,
          63,
          64,
          65,
          66,
          67,
          68,
          69,
          70,
          71,
          72,
          73,
          74,
          75,
          76,
          77,
          78,
          79,
          80,
          81,
          82,
          83,
          84,
          85,
          86,
          87,
          88,
          89,
          90,
          91,
          92,
          93,
          94,
          95,
          96,
          97,
          98,
          99,
          100
         ],
         "yaxis": "y"
        },
        {
         "hovertemplate": "State=active<br>Time=%{x}<br>message_id=%{y}<extra></extra>",
         "legendgroup": "active",
         "line": {
          "color": "#EF553B",
          "dash": "solid"
         },
         "marker": {
          "symbol": "circle"
         },
         "mode": "lines+markers",
         "name": "active",
         "orientation": "v",
         "showlegend": true,
         "type": "scatter",
         "x": [
          "2024-12-31T09:04:15.342196",
          "2024-12-31T09:04:15.342196",
          "2024-12-31T09:04:15.342196",
          "2024-12-31T09:04:15.342196",
          "2024-12-31T09:04:15.342196",
          "2024-12-31T09:04:17.737030",
          "2024-12-31T09:04:17.737030",
          "2024-12-31T09:04:17.737030",
          "2024-12-31T09:04:17.737030",
          "2024-12-31T09:04:17.737030",
          "2024-12-31T09:04:18.045480",
          "2024-12-31T09:04:18.045480",
          "2024-12-31T09:04:18.045480",
          "2024-12-31T09:04:18.045480",
          "2024-12-31T09:04:18.045480",
          "2024-12-31T09:04:18.076448",
          "2024-12-31T09:04:18.076448",
          "2024-12-31T09:04:18.076448",
          "2024-12-31T09:04:18.076448",
          "2024-12-31T09:04:18.076448",
          "2024-12-31T09:05:05.567133",
          "2024-12-31T09:05:05.567133",
          "2024-12-31T09:05:05.567133",
          "2024-12-31T09:05:05.567133",
          "2024-12-31T09:05:05.567133",
          "2024-12-31T09:05:07.988887",
          "2024-12-31T09:05:07.988887",
          "2024-12-31T09:05:07.988887",
          "2024-12-31T09:05:07.988887",
          "2024-12-31T09:05:07.988887",
          "2024-12-31T09:05:08.268193",
          "2024-12-31T09:05:08.268193",
          "2024-12-31T09:05:08.268193",
          "2024-12-31T09:05:08.268193",
          "2024-12-31T09:05:08.268193",
          "2024-12-31T09:05:08.305323",
          "2024-12-31T09:05:08.305323",
          "2024-12-31T09:05:08.305323",
          "2024-12-31T09:05:08.305323",
          "2024-12-31T09:05:08.305323",
          "2024-12-31T09:05:55.857732",
          "2024-12-31T09:05:55.857732",
          "2024-12-31T09:05:55.857732",
          "2024-12-31T09:05:55.857732",
          "2024-12-31T09:05:55.857732",
          "2024-12-31T09:05:58.329150",
          "2024-12-31T09:05:58.329150",
          "2024-12-31T09:05:58.329150",
          "2024-12-31T09:05:58.329150",
          "2024-12-31T09:05:58.329150",
          "2024-12-31T09:05:58.621199",
          "2024-12-31T09:05:58.621199",
          "2024-12-31T09:05:58.621199",
          "2024-12-31T09:05:58.621199",
          "2024-12-31T09:05:58.621199",
          "2024-12-31T09:05:58.666766",
          "2024-12-31T09:05:58.666766",
          "2024-12-31T09:05:58.666766",
          "2024-12-31T09:05:58.666766",
          "2024-12-31T09:05:58.666766",
          "2024-12-31T09:06:46.059501",
          "2024-12-31T09:06:46.059501",
          "2024-12-31T09:06:46.059501",
          "2024-12-31T09:06:46.059501",
          "2024-12-31T09:06:46.059501",
          "2024-12-31T09:06:48.555708",
          "2024-12-31T09:06:48.555708",
          "2024-12-31T09:06:48.555708",
          "2024-12-31T09:06:48.555708",
          "2024-12-31T09:06:48.555708",
          "2024-12-31T09:06:48.845956",
          "2024-12-31T09:06:48.845956",
          "2024-12-31T09:06:48.845956",
          "2024-12-31T09:06:48.845956",
          "2024-12-31T09:06:48.845956",
          "2024-12-31T09:06:48.885051",
          "2024-12-31T09:06:48.885051",
          "2024-12-31T09:06:48.885051",
          "2024-12-31T09:06:48.885051",
          "2024-12-31T09:06:48.885051",
          "2024-12-31T09:07:36.285160",
          "2024-12-31T09:07:36.285160",
          "2024-12-31T09:07:36.285160",
          "2024-12-31T09:07:36.285160",
          "2024-12-31T09:07:36.285160",
          "2024-12-31T09:07:38.797857",
          "2024-12-31T09:07:38.797857",
          "2024-12-31T09:07:38.797857",
          "2024-12-31T09:07:38.797857",
          "2024-12-31T09:07:38.797857",
          "2024-12-31T09:07:39.055269",
          "2024-12-31T09:07:39.055269",
          "2024-12-31T09:07:39.055269",
          "2024-12-31T09:07:39.055269",
          "2024-12-31T09:07:39.055269",
          "2024-12-31T09:07:39.104707",
          "2024-12-31T09:07:39.104707",
          "2024-12-31T09:07:39.104707",
          "2024-12-31T09:07:39.104707",
          "2024-12-31T09:07:39.104707"
         ],
         "xaxis": "x",
         "y": [
          1,
          2,
          3,
          4,
          5,
          10,
          8,
          9,
          7,
          6,
          11,
          12,
          13,
          14,
          15,
          20,
          19,
          17,
          16,
          18,
          25,
          23,
          24,
          21,
          22,
          28,
          30,
          29,
          27,
          26,
          34,
          33,
          35,
          31,
          32,
          40,
          39,
          38,
          37,
          36,
          45,
          44,
          43,
          42,
          41,
          50,
          49,
          48,
          47,
          46,
          55,
          54,
          51,
          52,
          53,
          60,
          59,
          58,
          56,
          57,
          65,
          64,
          61,
          62,
          63,
          66,
          67,
          68,
          69,
          70,
          71,
          72,
          73,
          74,
          75,
          76,
          77,
          78,
          79,
          80,
          81,
          82,
          83,
          84,
          85,
          86,
          87,
          88,
          89,
          90,
          91,
          92,
          93,
          94,
          95,
          96,
          97,
          98,
          99,
          100
         ],
         "yaxis": "y"
        },
        {
         "hovertemplate": "State=completed<br>Time=%{x}<br>message_id=%{y}<extra></extra>",
         "legendgroup": "completed",
         "line": {
          "color": "#00cc96",
          "dash": "solid"
         },
         "marker": {
          "symbol": "circle"
         },
         "mode": "lines+markers",
         "name": "completed",
         "orientation": "v",
         "showlegend": true,
         "type": "scatter",
         "x": [
          "2024-12-31T09:05:05.536981",
          "2024-12-31T09:05:05.537215",
          "2024-12-31T09:05:05.537414",
          "2024-12-31T09:05:05.537621",
          "2024-12-31T09:05:05.537828",
          "2024-12-31T09:05:07.954497",
          "2024-12-31T09:05:07.954768",
          "2024-12-31T09:05:07.954996",
          "2024-12-31T09:05:07.955306",
          "2024-12-31T09:05:07.955725",
          "2024-12-31T09:05:08.236159",
          "2024-12-31T09:05:08.236373",
          "2024-12-31T09:05:08.236582",
          "2024-12-31T09:05:08.236778",
          "2024-12-31T09:05:08.236970",
          "2024-12-31T09:05:08.273379",
          "2024-12-31T09:05:08.273618",
          "2024-12-31T09:05:08.273817",
          "2024-12-31T09:05:08.274009",
          "2024-12-31T09:05:08.274208",
          "2024-12-31T09:05:55.821506",
          "2024-12-31T09:05:55.821737",
          "2024-12-31T09:05:55.821941",
          "2024-12-31T09:05:55.822134",
          "2024-12-31T09:05:55.822327",
          "2024-12-31T09:05:58.298100",
          "2024-12-31T09:05:58.298343",
          "2024-12-31T09:05:58.298575",
          "2024-12-31T09:05:58.298856",
          "2024-12-31T09:05:58.299119",
          "2024-12-31T09:05:58.588522",
          "2024-12-31T09:05:58.588755",
          "2024-12-31T09:05:58.588988",
          "2024-12-31T09:05:58.589206",
          "2024-12-31T09:05:58.589414",
          "2024-12-31T09:05:58.633734",
          "2024-12-31T09:05:58.633959",
          "2024-12-31T09:05:58.634171",
          "2024-12-31T09:05:58.634378",
          "2024-12-31T09:05:58.634572",
          "2024-12-31T09:06:46.029722",
          "2024-12-31T09:06:46.029944",
          "2024-12-31T09:06:46.030146",
          "2024-12-31T09:06:46.030350",
          "2024-12-31T09:06:46.030561",
          "2024-12-31T09:06:48.523464",
          "2024-12-31T09:06:48.523702",
          "2024-12-31T09:06:48.523909",
          "2024-12-31T09:06:48.524116",
          "2024-12-31T09:06:48.524318",
          "2024-12-31T09:06:48.813195",
          "2024-12-31T09:06:48.813422",
          "2024-12-31T09:06:48.813634",
          "2024-12-31T09:06:48.813846",
          "2024-12-31T09:06:48.814043",
          "2024-12-31T09:06:48.854782",
          "2024-12-31T09:06:48.855021",
          "2024-12-31T09:06:48.855235",
          "2024-12-31T09:06:48.855440",
          "2024-12-31T09:06:48.855651",
          "2024-12-31T09:07:36.256342",
          "2024-12-31T09:07:36.256563",
          "2024-12-31T09:07:36.256882",
          "2024-12-31T09:07:36.257158",
          "2024-12-31T09:07:36.257387",
          "2024-12-31T09:07:38.768515",
          "2024-12-31T09:07:38.768772",
          "2024-12-31T09:07:38.768998",
          "2024-12-31T09:07:38.769221",
          "2024-12-31T09:07:38.769438",
          "2024-12-31T09:07:39.023370",
          "2024-12-31T09:07:39.023673",
          "2024-12-31T09:07:39.023933",
          "2024-12-31T09:07:39.024228",
          "2024-12-31T09:07:39.024458",
          "2024-12-31T09:07:39.074104",
          "2024-12-31T09:07:39.074315",
          "2024-12-31T09:07:39.074510",
          "2024-12-31T09:07:39.074699",
          "2024-12-31T09:07:39.075005",
          "2024-12-31T09:08:26.461294",
          "2024-12-31T09:08:26.461520",
          "2024-12-31T09:08:26.461718",
          "2024-12-31T09:08:26.461910",
          "2024-12-31T09:08:26.462115",
          "2024-12-31T09:08:28.979939",
          "2024-12-31T09:08:28.980168",
          "2024-12-31T09:08:28.980372",
          "2024-12-31T09:08:28.980576",
          "2024-12-31T09:08:28.980770",
          "2024-12-31T09:08:29.246038",
          "2024-12-31T09:08:29.246337",
          "2024-12-31T09:08:29.246542",
          "2024-12-31T09:08:29.246738",
          "2024-12-31T09:08:29.246933",
          "2024-12-31T09:08:29.318759",
          "2024-12-31T09:08:29.319066",
          "2024-12-31T09:08:29.319473",
          "2024-12-31T09:08:29.319688",
          "2024-12-31T09:08:29.319883"
         ],
         "xaxis": "x",
         "y": [
          1,
          2,
          3,
          4,
          5,
          6,
          7,
          8,
          9,
          10,
          11,
          12,
          13,
          14,
          15,
          16,
          17,
          18,
          19,
          20,
          21,
          22,
          23,
          24,
          25,
          26,
          27,
          28,
          29,
          30,
          31,
          32,
          33,
          34,
          35,
          36,
          37,
          38,
          39,
          40,
          41,
          42,
          43,
          44,
          45,
          46,
          47,
          48,
          49,
          50,
          51,
          52,
          53,
          54,
          55,
          56,
          57,
          58,
          59,
          60,
          61,
          62,
          63,
          64,
          65,
          66,
          67,
          68,
          69,
          70,
          71,
          72,
          73,
          74,
          75,
          76,
          77,
          78,
          79,
          80,
          81,
          82,
          83,
          84,
          85,
          86,
          87,
          88,
          89,
          90,
          91,
          92,
          93,
          94,
          95,
          96,
          97,
          98,
          99,
          100
         ],
         "yaxis": "y"
        }
       ],
       "layout": {
        "hovermode": "closest",
        "legend": {
         "title": {
          "text": "State"
         },
         "tracegroupgap": 0
        },
        "margin": {
         "b": 40,
         "l": 40,
         "r": 40,
         "t": 40
        },
        "template": {
         "data": {
          "bar": [
           {
            "error_x": {
             "color": "#f2f5fa"
            },
            "error_y": {
             "color": "#f2f5fa"
            },
            "marker": {
             "line": {
              "color": "rgb(17,17,17)",
              "width": 0.5
             },
             "pattern": {
              "fillmode": "overlay",
              "size": 10,
              "solidity": 0.2
             }
            },
            "type": "bar"
           }
          ],
          "barpolar": [
           {
            "marker": {
             "line": {
              "color": "rgb(17,17,17)",
              "width": 0.5
             },
             "pattern": {
              "fillmode": "overlay",
              "size": 10,
              "solidity": 0.2
             }
            },
            "type": "barpolar"
           }
          ],
          "carpet": [
           {
            "aaxis": {
             "endlinecolor": "#A2B1C6",
             "gridcolor": "#506784",
             "linecolor": "#506784",
             "minorgridcolor": "#506784",
             "startlinecolor": "#A2B1C6"
            },
            "baxis": {
             "endlinecolor": "#A2B1C6",
             "gridcolor": "#506784",
             "linecolor": "#506784",
             "minorgridcolor": "#506784",
             "startlinecolor": "#A2B1C6"
            },
            "type": "carpet"
           }
          ],
          "choropleth": [
           {
            "colorbar": {
             "outlinewidth": 0,
             "ticks": ""
            },
            "type": "choropleth"
           }
          ],
          "contour": [
           {
            "colorbar": {
             "outlinewidth": 0,
             "ticks": ""
            },
            "colorscale": [
             [
              0,
              "#0d0887"
             ],
             [
              0.1111111111111111,
              "#46039f"
             ],
             [
              0.2222222222222222,
              "#7201a8"
             ],
             [
              0.3333333333333333,
              "#9c179e"
             ],
             [
              0.4444444444444444,
              "#bd3786"
             ],
             [
              0.5555555555555556,
              "#d8576b"
             ],
             [
              0.6666666666666666,
              "#ed7953"
             ],
             [
              0.7777777777777778,
              "#fb9f3a"
             ],
             [
              0.8888888888888888,
              "#fdca26"
             ],
             [
              1,
              "#f0f921"
             ]
            ],
            "type": "contour"
           }
          ],
          "contourcarpet": [
           {
            "colorbar": {
             "outlinewidth": 0,
             "ticks": ""
            },
            "type": "contourcarpet"
           }
          ],
          "heatmap": [
           {
            "colorbar": {
             "outlinewidth": 0,
             "ticks": ""
            },
            "colorscale": [
             [
              0,
              "#0d0887"
             ],
             [
              0.1111111111111111,
              "#46039f"
             ],
             [
              0.2222222222222222,
              "#7201a8"
             ],
             [
              0.3333333333333333,
              "#9c179e"
             ],
             [
              0.4444444444444444,
              "#bd3786"
             ],
             [
              0.5555555555555556,
              "#d8576b"
             ],
             [
              0.6666666666666666,
              "#ed7953"
             ],
             [
              0.7777777777777778,
              "#fb9f3a"
             ],
             [
              0.8888888888888888,
              "#fdca26"
             ],
             [
              1,
              "#f0f921"
             ]
            ],
            "type": "heatmap"
           }
          ],
          "heatmapgl": [
           {
            "colorbar": {
             "outlinewidth": 0,
             "ticks": ""
            },
            "colorscale": [
             [
              0,
              "#0d0887"
             ],
             [
              0.1111111111111111,
              "#46039f"
             ],
             [
              0.2222222222222222,
              "#7201a8"
             ],
             [
              0.3333333333333333,
              "#9c179e"
             ],
             [
              0.4444444444444444,
              "#bd3786"
             ],
             [
              0.5555555555555556,
              "#d8576b"
             ],
             [
              0.6666666666666666,
              "#ed7953"
             ],
             [
              0.7777777777777778,
              "#fb9f3a"
             ],
             [
              0.8888888888888888,
              "#fdca26"
             ],
             [
              1,
              "#f0f921"
             ]
            ],
            "type": "heatmapgl"
           }
          ],
          "histogram": [
           {
            "marker": {
             "pattern": {
              "fillmode": "overlay",
              "size": 10,
              "solidity": 0.2
             }
            },
            "type": "histogram"
           }
          ],
          "histogram2d": [
           {
            "colorbar": {
             "outlinewidth": 0,
             "ticks": ""
            },
            "colorscale": [
             [
              0,
              "#0d0887"
             ],
             [
              0.1111111111111111,
              "#46039f"
             ],
             [
              0.2222222222222222,
              "#7201a8"
             ],
             [
              0.3333333333333333,
              "#9c179e"
             ],
             [
              0.4444444444444444,
              "#bd3786"
             ],
             [
              0.5555555555555556,
              "#d8576b"
             ],
             [
              0.6666666666666666,
              "#ed7953"
             ],
             [
              0.7777777777777778,
              "#fb9f3a"
             ],
             [
              0.8888888888888888,
              "#fdca26"
             ],
             [
              1,
              "#f0f921"
             ]
            ],
            "type": "histogram2d"
           }
          ],
          "histogram2dcontour": [
           {
            "colorbar": {
             "outlinewidth": 0,
             "ticks": ""
            },
            "colorscale": [
             [
              0,
              "#0d0887"
             ],
             [
              0.1111111111111111,
              "#46039f"
             ],
             [
              0.2222222222222222,
              "#7201a8"
             ],
             [
              0.3333333333333333,
              "#9c179e"
             ],
             [
              0.4444444444444444,
              "#bd3786"
             ],
             [
              0.5555555555555556,
              "#d8576b"
             ],
             [
              0.6666666666666666,
              "#ed7953"
             ],
             [
              0.7777777777777778,
              "#fb9f3a"
             ],
             [
              0.8888888888888888,
              "#fdca26"
             ],
             [
              1,
              "#f0f921"
             ]
            ],
            "type": "histogram2dcontour"
           }
          ],
          "mesh3d": [
           {
            "colorbar": {
             "outlinewidth": 0,
             "ticks": ""
            },
            "type": "mesh3d"
           }
          ],
          "parcoords": [
           {
            "line": {
             "colorbar": {
              "outlinewidth": 0,
              "ticks": ""
             }
            },
            "type": "parcoords"
           }
          ],
          "pie": [
           {
            "automargin": true,
            "type": "pie"
           }
          ],
          "scatter": [
           {
            "marker": {
             "line": {
              "color": "#283442"
             }
            },
            "type": "scatter"
           }
          ],
          "scatter3d": [
           {
            "line": {
             "colorbar": {
              "outlinewidth": 0,
              "ticks": ""
             }
            },
            "marker": {
             "colorbar": {
              "outlinewidth": 0,
              "ticks": ""
             }
            },
            "type": "scatter3d"
           }
          ],
          "scattercarpet": [
           {
            "marker": {
             "colorbar": {
              "outlinewidth": 0,
              "ticks": ""
             }
            },
            "type": "scattercarpet"
           }
          ],
          "scattergeo": [
           {
            "marker": {
             "colorbar": {
              "outlinewidth": 0,
              "ticks": ""
             }
            },
            "type": "scattergeo"
           }
          ],
          "scattergl": [
           {
            "marker": {
             "line": {
              "color": "#283442"
             }
            },
            "type": "scattergl"
           }
          ],
          "scattermapbox": [
           {
            "marker": {
             "colorbar": {
              "outlinewidth": 0,
              "ticks": ""
             }
            },
            "type": "scattermapbox"
           }
          ],
          "scatterpolar": [
           {
            "marker": {
             "colorbar": {
              "outlinewidth": 0,
              "ticks": ""
             }
            },
            "type": "scatterpolar"
           }
          ],
          "scatterpolargl": [
           {
            "marker": {
             "colorbar": {
              "outlinewidth": 0,
              "ticks": ""
             }
            },
            "type": "scatterpolargl"
           }
          ],
          "scatterternary": [
           {
            "marker": {
             "colorbar": {
              "outlinewidth": 0,
              "ticks": ""
             }
            },
            "type": "scatterternary"
           }
          ],
          "surface": [
           {
            "colorbar": {
             "outlinewidth": 0,
             "ticks": ""
            },
            "colorscale": [
             [
              0,
              "#0d0887"
             ],
             [
              0.1111111111111111,
              "#46039f"
             ],
             [
              0.2222222222222222,
              "#7201a8"
             ],
             [
              0.3333333333333333,
              "#9c179e"
             ],
             [
              0.4444444444444444,
              "#bd3786"
             ],
             [
              0.5555555555555556,
              "#d8576b"
             ],
             [
              0.6666666666666666,
              "#ed7953"
             ],
             [
              0.7777777777777778,
              "#fb9f3a"
             ],
             [
              0.8888888888888888,
              "#fdca26"
             ],
             [
              1,
              "#f0f921"
             ]
            ],
            "type": "surface"
           }
          ],
          "table": [
           {
            "cells": {
             "fill": {
              "color": "#506784"
             },
             "line": {
              "color": "rgb(17,17,17)"
             }
            },
            "header": {
             "fill": {
              "color": "#2a3f5f"
             },
             "line": {
              "color": "rgb(17,17,17)"
             }
            },
            "type": "table"
           }
          ]
         },
         "layout": {
          "annotationdefaults": {
           "arrowcolor": "#f2f5fa",
           "arrowhead": 0,
           "arrowwidth": 1
          },
          "autotypenumbers": "strict",
          "coloraxis": {
           "colorbar": {
            "outlinewidth": 0,
            "ticks": ""
           }
          },
          "colorscale": {
           "diverging": [
            [
             0,
             "#8e0152"
            ],
            [
             0.1,
             "#c51b7d"
            ],
            [
             0.2,
             "#de77ae"
            ],
            [
             0.3,
             "#f1b6da"
            ],
            [
             0.4,
             "#fde0ef"
            ],
            [
             0.5,
             "#f7f7f7"
            ],
            [
             0.6,
             "#e6f5d0"
            ],
            [
             0.7,
             "#b8e186"
            ],
            [
             0.8,
             "#7fbc41"
            ],
            [
             0.9,
             "#4d9221"
            ],
            [
             1,
             "#276419"
            ]
           ],
           "sequential": [
            [
             0,
             "#0d0887"
            ],
            [
             0.1111111111111111,
             "#46039f"
            ],
            [
             0.2222222222222222,
             "#7201a8"
            ],
            [
             0.3333333333333333,
             "#9c179e"
            ],
            [
             0.4444444444444444,
             "#bd3786"
            ],
            [
             0.5555555555555556,
             "#d8576b"
            ],
            [
             0.6666666666666666,
             "#ed7953"
            ],
            [
             0.7777777777777778,
             "#fb9f3a"
            ],
            [
             0.8888888888888888,
             "#fdca26"
            ],
            [
             1,
             "#f0f921"
            ]
           ],
           "sequentialminus": [
            [
             0,
             "#0d0887"
            ],
            [
             0.1111111111111111,
             "#46039f"
            ],
            [
             0.2222222222222222,
             "#7201a8"
            ],
            [
             0.3333333333333333,
             "#9c179e"
            ],
            [
             0.4444444444444444,
             "#bd3786"
            ],
            [
             0.5555555555555556,
             "#d8576b"
            ],
            [
             0.6666666666666666,
             "#ed7953"
            ],
            [
             0.7777777777777778,
             "#fb9f3a"
            ],
            [
             0.8888888888888888,
             "#fdca26"
            ],
            [
             1,
             "#f0f921"
            ]
           ]
          },
          "colorway": [
           "#636efa",
           "#EF553B",
           "#00cc96",
           "#ab63fa",
           "#FFA15A",
           "#19d3f3",
           "#FF6692",
           "#B6E880",
           "#FF97FF",
           "#FECB52"
          ],
          "font": {
           "color": "#f2f5fa"
          },
          "geo": {
           "bgcolor": "rgb(17,17,17)",
           "lakecolor": "rgb(17,17,17)",
           "landcolor": "rgb(17,17,17)",
           "showlakes": true,
           "showland": true,
           "subunitcolor": "#506784"
          },
          "hoverlabel": {
           "align": "left"
          },
          "hovermode": "closest",
          "mapbox": {
           "style": "dark"
          },
          "paper_bgcolor": "rgb(17,17,17)",
          "plot_bgcolor": "rgb(17,17,17)",
          "polar": {
           "angularaxis": {
            "gridcolor": "#506784",
            "linecolor": "#506784",
            "ticks": ""
           },
           "bgcolor": "rgb(17,17,17)",
           "radialaxis": {
            "gridcolor": "#506784",
            "linecolor": "#506784",
            "ticks": ""
           }
          },
          "scene": {
           "xaxis": {
            "backgroundcolor": "rgb(17,17,17)",
            "gridcolor": "#506784",
            "gridwidth": 2,
            "linecolor": "#506784",
            "showbackground": true,
            "ticks": "",
            "zerolinecolor": "#C8D4E3"
           },
           "yaxis": {
            "backgroundcolor": "rgb(17,17,17)",
            "gridcolor": "#506784",
            "gridwidth": 2,
            "linecolor": "#506784",
            "showbackground": true,
            "ticks": "",
            "zerolinecolor": "#C8D4E3"
           },
           "zaxis": {
            "backgroundcolor": "rgb(17,17,17)",
            "gridcolor": "#506784",
            "gridwidth": 2,
            "linecolor": "#506784",
            "showbackground": true,
            "ticks": "",
            "zerolinecolor": "#C8D4E3"
           }
          },
          "shapedefaults": {
           "line": {
            "color": "#f2f5fa"
           }
          },
          "sliderdefaults": {
           "bgcolor": "#C8D4E3",
           "bordercolor": "rgb(17,17,17)",
           "borderwidth": 1,
           "tickwidth": 0
          },
          "ternary": {
           "aaxis": {
            "gridcolor": "#506784",
            "linecolor": "#506784",
            "ticks": ""
           },
           "baxis": {
            "gridcolor": "#506784",
            "linecolor": "#506784",
            "ticks": ""
           },
           "bgcolor": "rgb(17,17,17)",
           "caxis": {
            "gridcolor": "#506784",
            "linecolor": "#506784",
            "ticks": ""
           }
          },
          "title": {
           "x": 0.05
          },
          "updatemenudefaults": {
           "bgcolor": "#506784",
           "borderwidth": 0
          },
          "xaxis": {
           "automargin": true,
           "gridcolor": "#283442",
           "linecolor": "#506784",
           "ticks": "",
           "title": {
            "standoff": 15
           },
           "zerolinecolor": "#283442",
           "zerolinewidth": 2
          },
          "yaxis": {
           "automargin": true,
           "gridcolor": "#283442",
           "linecolor": "#506784",
           "ticks": "",
           "title": {
            "standoff": 15
           },
           "zerolinecolor": "#283442",
           "zerolinewidth": 2
          }
         }
        },
        "title": {
         "text": "Message Transitions Over Time"
        },
        "xaxis": {
         "anchor": "y",
         "domain": [
          0,
          1
         ],
         "showgrid": true,
         "title": {
          "text": "Timestamp"
         }
        },
        "yaxis": {
         "anchor": "x",
         "domain": [
          0,
          1
         ],
         "showgrid": true,
         "title": {
          "text": "State"
         }
        }
       }
      }
     },
     "metadata": {},
     "output_type": "display_data"
    }
   ],
   "source": [
    "analyze_message_flow(logs4_100)           # 100 tasks , 4 workers , batch_size => 5\n",
    "analyze_message_flow(logs4_100_fast)      # 100 tasks , 4 workers , batch_size => 5  , fast propose action"
   ]
  }
 ],
 "metadata": {
  "kernelspec": {
   "display_name": ".venv",
   "language": "python",
   "name": "python3"
  },
  "language_info": {
   "codemirror_mode": {
    "name": "ipython",
    "version": 3
   },
   "file_extension": ".py",
   "mimetype": "text/x-python",
   "name": "python",
   "nbconvert_exporter": "python",
   "pygments_lexer": "ipython3",
   "version": "3.10.0"
  }
 },
 "nbformat": 4,
 "nbformat_minor": 2
}
