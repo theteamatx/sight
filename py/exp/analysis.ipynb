{
 "cells": [
  {
   "cell_type": "code",
   "execution_count": 1,
   "metadata": {},
   "outputs": [],
   "source": [
    "from google.cloud import storage\n",
    "import pandas as pd\n",
    "import matplotlib.pyplot as plt\n",
    "import json\n",
    "from datetime import datetime\n",
    "from urllib.parse import urlparse\n",
    "import plotly.express as px\n",
    "\n",
    "\n",
    "def read_logs_from_gs_uri(gs_uri):\n",
    "    \"\"\"\n",
    "    Read logs from a Google Cloud Storage file given a gs:// URI.\n",
    "    \"\"\"\n",
    "    # Parse the gs:// URI\n",
    "    parsed = urlparse(gs_uri)\n",
    "    if parsed.scheme != \"gs\":\n",
    "        raise ValueError(f\"Invalid URI scheme: {gs_uri}. Must start with 'gs://'.\")\n",
    "\n",
    "    bucket_name = parsed.netloc\n",
    "    file_path = parsed.path.lstrip('/')\n",
    "\n",
    "    # Initialize GCS client\n",
    "    client = storage.Client()\n",
    "    bucket = client.bucket(bucket_name)\n",
    "    blob = bucket.blob(file_path)\n",
    "    \n",
    "    # Download the JSON content as a string\n",
    "    logs_json = blob.download_as_string()\n",
    "\n",
    "    # Parse the JSON string into a list of dictionaries\n",
    "    logs = json.loads(logs_json)\n",
    "    return logs\n",
    "\n",
    "def analyze_message_flow(logs):\n",
    "  \n",
    "    # Create a DataFrame from the logs\n",
    "    df = pd.DataFrame(logs)\n",
    "\n",
    "    # Convert the 'timestamp' column to datetime type\n",
    "    df['timestamp'] = pd.to_datetime(df['timestamp'])\n",
    "\n",
    "    # Sort by 'timestamp' to maintain proper order\n",
    "    df = df.sort_values('timestamp')\n",
    "\n",
    "    # Create an interactive scatter plot for the message states over time\n",
    "    fig = px.line(\n",
    "        df,\n",
    "        x='timestamp',\n",
    "        y='message_id',\n",
    "        color='state',  # Color by the state to differentiate states visually\n",
    "        title=\"Message Transitions Over Time\",\n",
    "        labels={\"timestamp\": \"Time\", \"state\": \"State\"},\n",
    "        hover_data=[\"message_id\"],\n",
    "        template=\"plotly_dark\",  # Optional: dark theme\n",
    "        markers=True\n",
    "    )\n",
    "\n",
    "    # Customize layout for better readability\n",
    "    fig.update_layout(\n",
    "        hovermode=\"closest\",\n",
    "        xaxis=dict(showgrid=True, title=\"Timestamp\"),\n",
    "        yaxis=dict(showgrid=True, title=\"State\"),\n",
    "        margin=dict(t=40, b=40, l=40, r=40),  # Adjust margins to make space for labels\n",
    "    )\n",
    "    \n",
    "    # Show the plot\n",
    "    fig.show()\n",
    "\n"
   ]
  },
  {
   "cell_type": "code",
   "execution_count": 2,
   "metadata": {},
   "outputs": [],
   "source": [
    "# Read logs from GCS\n",
    "# workers 2 , tasks 5*2 = 10 , batch_size 5\n",
    "logs10 = read_logs_from_gs_uri(gs_uri= \"gs://cameltrain-sight/doing_mq_analysis/2024-12-20T09:00:43.541533.json\")\n",
    "# workers 2 , tasks 25*2 = 50 , batch_size 5\n",
    "logs50 = read_logs_from_gs_uri(gs_uri=\"gs://cameltrain-sight/doing_mq_analysis/2024-12-23T15:15:49.032019.json\")\n",
    "# workers 2 , tasks 50*2 = 100 , batch_size = 5\n",
    "logs100 = read_logs_from_gs_uri(gs_uri=\"gs://cameltrain-sight/doing_mq_analysis/2024-12-23T19:26:50.355211.json\")\n",
    "# workers 2 , tasks 250*2 = 500 , batch_size = 5\n",
    "logs500 = read_logs_from_gs_uri(gs_uri=\"gs://cameltrain-sight/doing_mq_analysis/2024-12-22T15:48:18.956719.json\")"
   ]
  },
  {
   "cell_type": "code",
   "execution_count": 3,
   "metadata": {},
   "outputs": [
    {
     "data": {
      "application/vnd.plotly.v1+json": {
       "config": {
        "plotlyServerURL": "https://plot.ly"
       },
       "data": [
        {
         "hovertemplate": "State=pending<br>Time=%{x}<br>message_id=%{y}<extra></extra>",
         "legendgroup": "pending",
         "line": {
          "color": "#636efa",
          "dash": "solid"
         },
         "marker": {
          "symbol": "circle"
         },
         "mode": "lines+markers",
         "name": "pending",
         "orientation": "v",
         "showlegend": true,
         "type": "scatter",
         "x": [
          "2024-12-20T08:59:44.396588",
          "2024-12-20T08:59:46.073954",
          "2024-12-20T08:59:47.372215",
          "2024-12-20T08:59:48.833797",
          "2024-12-20T08:59:50.305356",
          "2024-12-20T08:59:51.762117",
          "2024-12-20T08:59:53.059995",
          "2024-12-20T08:59:54.643456",
          "2024-12-20T08:59:56.353459",
          "2024-12-20T08:59:57.832053"
         ],
         "xaxis": "x",
         "y": [
          1,
          2,
          3,
          4,
          5,
          6,
          7,
          8,
          9,
          10
         ],
         "yaxis": "y"
        },
        {
         "hovertemplate": "State=active<br>Time=%{x}<br>message_id=%{y}<extra></extra>",
         "legendgroup": "active",
         "line": {
          "color": "#EF553B",
          "dash": "solid"
         },
         "marker": {
          "symbol": "circle"
         },
         "mode": "lines+markers",
         "name": "active",
         "orientation": "v",
         "showlegend": true,
         "type": "scatter",
         "x": [
          "2024-12-20T09:00:02.739369",
          "2024-12-20T09:00:02.739369",
          "2024-12-20T09:00:02.739369",
          "2024-12-20T09:00:02.739369",
          "2024-12-20T09:00:02.739369",
          "2024-12-20T09:00:02.758117",
          "2024-12-20T09:00:02.758117",
          "2024-12-20T09:00:02.758117",
          "2024-12-20T09:00:02.758117",
          "2024-12-20T09:00:02.758117"
         ],
         "xaxis": "x",
         "y": [
          4,
          3,
          5,
          1,
          2,
          6,
          7,
          8,
          9,
          10
         ],
         "yaxis": "y"
        },
        {
         "hovertemplate": "State=completed<br>Time=%{x}<br>message_id=%{y}<extra></extra>",
         "legendgroup": "completed",
         "line": {
          "color": "#00cc96",
          "dash": "solid"
         },
         "marker": {
          "symbol": "circle"
         },
         "mode": "lines+markers",
         "name": "completed",
         "orientation": "v",
         "showlegend": true,
         "type": "scatter",
         "x": [
          "2024-12-20T09:00:28.922982",
          "2024-12-20T09:00:28.923235",
          "2024-12-20T09:00:28.923445",
          "2024-12-20T09:00:28.923648",
          "2024-12-20T09:00:28.923841",
          "2024-12-20T09:00:29.070572",
          "2024-12-20T09:00:29.070823",
          "2024-12-20T09:00:29.071315",
          "2024-12-20T09:00:29.071644",
          "2024-12-20T09:00:29.071875"
         ],
         "xaxis": "x",
         "y": [
          1,
          2,
          3,
          4,
          5,
          6,
          7,
          8,
          9,
          10
         ],
         "yaxis": "y"
        }
       ],
       "layout": {
        "hovermode": "closest",
        "legend": {
         "title": {
          "text": "State"
         },
         "tracegroupgap": 0
        },
        "margin": {
         "b": 40,
         "l": 40,
         "r": 40,
         "t": 40
        },
        "template": {
         "data": {
          "bar": [
           {
            "error_x": {
             "color": "#f2f5fa"
            },
            "error_y": {
             "color": "#f2f5fa"
            },
            "marker": {
             "line": {
              "color": "rgb(17,17,17)",
              "width": 0.5
             },
             "pattern": {
              "fillmode": "overlay",
              "size": 10,
              "solidity": 0.2
             }
            },
            "type": "bar"
           }
          ],
          "barpolar": [
           {
            "marker": {
             "line": {
              "color": "rgb(17,17,17)",
              "width": 0.5
             },
             "pattern": {
              "fillmode": "overlay",
              "size": 10,
              "solidity": 0.2
             }
            },
            "type": "barpolar"
           }
          ],
          "carpet": [
           {
            "aaxis": {
             "endlinecolor": "#A2B1C6",
             "gridcolor": "#506784",
             "linecolor": "#506784",
             "minorgridcolor": "#506784",
             "startlinecolor": "#A2B1C6"
            },
            "baxis": {
             "endlinecolor": "#A2B1C6",
             "gridcolor": "#506784",
             "linecolor": "#506784",
             "minorgridcolor": "#506784",
             "startlinecolor": "#A2B1C6"
            },
            "type": "carpet"
           }
          ],
          "choropleth": [
           {
            "colorbar": {
             "outlinewidth": 0,
             "ticks": ""
            },
            "type": "choropleth"
           }
          ],
          "contour": [
           {
            "colorbar": {
             "outlinewidth": 0,
             "ticks": ""
            },
            "colorscale": [
             [
              0,
              "#0d0887"
             ],
             [
              0.1111111111111111,
              "#46039f"
             ],
             [
              0.2222222222222222,
              "#7201a8"
             ],
             [
              0.3333333333333333,
              "#9c179e"
             ],
             [
              0.4444444444444444,
              "#bd3786"
             ],
             [
              0.5555555555555556,
              "#d8576b"
             ],
             [
              0.6666666666666666,
              "#ed7953"
             ],
             [
              0.7777777777777778,
              "#fb9f3a"
             ],
             [
              0.8888888888888888,
              "#fdca26"
             ],
             [
              1,
              "#f0f921"
             ]
            ],
            "type": "contour"
           }
          ],
          "contourcarpet": [
           {
            "colorbar": {
             "outlinewidth": 0,
             "ticks": ""
            },
            "type": "contourcarpet"
           }
          ],
          "heatmap": [
           {
            "colorbar": {
             "outlinewidth": 0,
             "ticks": ""
            },
            "colorscale": [
             [
              0,
              "#0d0887"
             ],
             [
              0.1111111111111111,
              "#46039f"
             ],
             [
              0.2222222222222222,
              "#7201a8"
             ],
             [
              0.3333333333333333,
              "#9c179e"
             ],
             [
              0.4444444444444444,
              "#bd3786"
             ],
             [
              0.5555555555555556,
              "#d8576b"
             ],
             [
              0.6666666666666666,
              "#ed7953"
             ],
             [
              0.7777777777777778,
              "#fb9f3a"
             ],
             [
              0.8888888888888888,
              "#fdca26"
             ],
             [
              1,
              "#f0f921"
             ]
            ],
            "type": "heatmap"
           }
          ],
          "heatmapgl": [
           {
            "colorbar": {
             "outlinewidth": 0,
             "ticks": ""
            },
            "colorscale": [
             [
              0,
              "#0d0887"
             ],
             [
              0.1111111111111111,
              "#46039f"
             ],
             [
              0.2222222222222222,
              "#7201a8"
             ],
             [
              0.3333333333333333,
              "#9c179e"
             ],
             [
              0.4444444444444444,
              "#bd3786"
             ],
             [
              0.5555555555555556,
              "#d8576b"
             ],
             [
              0.6666666666666666,
              "#ed7953"
             ],
             [
              0.7777777777777778,
              "#fb9f3a"
             ],
             [
              0.8888888888888888,
              "#fdca26"
             ],
             [
              1,
              "#f0f921"
             ]
            ],
            "type": "heatmapgl"
           }
          ],
          "histogram": [
           {
            "marker": {
             "pattern": {
              "fillmode": "overlay",
              "size": 10,
              "solidity": 0.2
             }
            },
            "type": "histogram"
           }
          ],
          "histogram2d": [
           {
            "colorbar": {
             "outlinewidth": 0,
             "ticks": ""
            },
            "colorscale": [
             [
              0,
              "#0d0887"
             ],
             [
              0.1111111111111111,
              "#46039f"
             ],
             [
              0.2222222222222222,
              "#7201a8"
             ],
             [
              0.3333333333333333,
              "#9c179e"
             ],
             [
              0.4444444444444444,
              "#bd3786"
             ],
             [
              0.5555555555555556,
              "#d8576b"
             ],
             [
              0.6666666666666666,
              "#ed7953"
             ],
             [
              0.7777777777777778,
              "#fb9f3a"
             ],
             [
              0.8888888888888888,
              "#fdca26"
             ],
             [
              1,
              "#f0f921"
             ]
            ],
            "type": "histogram2d"
           }
          ],
          "histogram2dcontour": [
           {
            "colorbar": {
             "outlinewidth": 0,
             "ticks": ""
            },
            "colorscale": [
             [
              0,
              "#0d0887"
             ],
             [
              0.1111111111111111,
              "#46039f"
             ],
             [
              0.2222222222222222,
              "#7201a8"
             ],
             [
              0.3333333333333333,
              "#9c179e"
             ],
             [
              0.4444444444444444,
              "#bd3786"
             ],
             [
              0.5555555555555556,
              "#d8576b"
             ],
             [
              0.6666666666666666,
              "#ed7953"
             ],
             [
              0.7777777777777778,
              "#fb9f3a"
             ],
             [
              0.8888888888888888,
              "#fdca26"
             ],
             [
              1,
              "#f0f921"
             ]
            ],
            "type": "histogram2dcontour"
           }
          ],
          "mesh3d": [
           {
            "colorbar": {
             "outlinewidth": 0,
             "ticks": ""
            },
            "type": "mesh3d"
           }
          ],
          "parcoords": [
           {
            "line": {
             "colorbar": {
              "outlinewidth": 0,
              "ticks": ""
             }
            },
            "type": "parcoords"
           }
          ],
          "pie": [
           {
            "automargin": true,
            "type": "pie"
           }
          ],
          "scatter": [
           {
            "marker": {
             "line": {
              "color": "#283442"
             }
            },
            "type": "scatter"
           }
          ],
          "scatter3d": [
           {
            "line": {
             "colorbar": {
              "outlinewidth": 0,
              "ticks": ""
             }
            },
            "marker": {
             "colorbar": {
              "outlinewidth": 0,
              "ticks": ""
             }
            },
            "type": "scatter3d"
           }
          ],
          "scattercarpet": [
           {
            "marker": {
             "colorbar": {
              "outlinewidth": 0,
              "ticks": ""
             }
            },
            "type": "scattercarpet"
           }
          ],
          "scattergeo": [
           {
            "marker": {
             "colorbar": {
              "outlinewidth": 0,
              "ticks": ""
             }
            },
            "type": "scattergeo"
           }
          ],
          "scattergl": [
           {
            "marker": {
             "line": {
              "color": "#283442"
             }
            },
            "type": "scattergl"
           }
          ],
          "scattermapbox": [
           {
            "marker": {
             "colorbar": {
              "outlinewidth": 0,
              "ticks": ""
             }
            },
            "type": "scattermapbox"
           }
          ],
          "scatterpolar": [
           {
            "marker": {
             "colorbar": {
              "outlinewidth": 0,
              "ticks": ""
             }
            },
            "type": "scatterpolar"
           }
          ],
          "scatterpolargl": [
           {
            "marker": {
             "colorbar": {
              "outlinewidth": 0,
              "ticks": ""
             }
            },
            "type": "scatterpolargl"
           }
          ],
          "scatterternary": [
           {
            "marker": {
             "colorbar": {
              "outlinewidth": 0,
              "ticks": ""
             }
            },
            "type": "scatterternary"
           }
          ],
          "surface": [
           {
            "colorbar": {
             "outlinewidth": 0,
             "ticks": ""
            },
            "colorscale": [
             [
              0,
              "#0d0887"
             ],
             [
              0.1111111111111111,
              "#46039f"
             ],
             [
              0.2222222222222222,
              "#7201a8"
             ],
             [
              0.3333333333333333,
              "#9c179e"
             ],
             [
              0.4444444444444444,
              "#bd3786"
             ],
             [
              0.5555555555555556,
              "#d8576b"
             ],
             [
              0.6666666666666666,
              "#ed7953"
             ],
             [
              0.7777777777777778,
              "#fb9f3a"
             ],
             [
              0.8888888888888888,
              "#fdca26"
             ],
             [
              1,
              "#f0f921"
             ]
            ],
            "type": "surface"
           }
          ],
          "table": [
           {
            "cells": {
             "fill": {
              "color": "#506784"
             },
             "line": {
              "color": "rgb(17,17,17)"
             }
            },
            "header": {
             "fill": {
              "color": "#2a3f5f"
             },
             "line": {
              "color": "rgb(17,17,17)"
             }
            },
            "type": "table"
           }
          ]
         },
         "layout": {
          "annotationdefaults": {
           "arrowcolor": "#f2f5fa",
           "arrowhead": 0,
           "arrowwidth": 1
          },
          "autotypenumbers": "strict",
          "coloraxis": {
           "colorbar": {
            "outlinewidth": 0,
            "ticks": ""
           }
          },
          "colorscale": {
           "diverging": [
            [
             0,
             "#8e0152"
            ],
            [
             0.1,
             "#c51b7d"
            ],
            [
             0.2,
             "#de77ae"
            ],
            [
             0.3,
             "#f1b6da"
            ],
            [
             0.4,
             "#fde0ef"
            ],
            [
             0.5,
             "#f7f7f7"
            ],
            [
             0.6,
             "#e6f5d0"
            ],
            [
             0.7,
             "#b8e186"
            ],
            [
             0.8,
             "#7fbc41"
            ],
            [
             0.9,
             "#4d9221"
            ],
            [
             1,
             "#276419"
            ]
           ],
           "sequential": [
            [
             0,
             "#0d0887"
            ],
            [
             0.1111111111111111,
             "#46039f"
            ],
            [
             0.2222222222222222,
             "#7201a8"
            ],
            [
             0.3333333333333333,
             "#9c179e"
            ],
            [
             0.4444444444444444,
             "#bd3786"
            ],
            [
             0.5555555555555556,
             "#d8576b"
            ],
            [
             0.6666666666666666,
             "#ed7953"
            ],
            [
             0.7777777777777778,
             "#fb9f3a"
            ],
            [
             0.8888888888888888,
             "#fdca26"
            ],
            [
             1,
             "#f0f921"
            ]
           ],
           "sequentialminus": [
            [
             0,
             "#0d0887"
            ],
            [
             0.1111111111111111,
             "#46039f"
            ],
            [
             0.2222222222222222,
             "#7201a8"
            ],
            [
             0.3333333333333333,
             "#9c179e"
            ],
            [
             0.4444444444444444,
             "#bd3786"
            ],
            [
             0.5555555555555556,
             "#d8576b"
            ],
            [
             0.6666666666666666,
             "#ed7953"
            ],
            [
             0.7777777777777778,
             "#fb9f3a"
            ],
            [
             0.8888888888888888,
             "#fdca26"
            ],
            [
             1,
             "#f0f921"
            ]
           ]
          },
          "colorway": [
           "#636efa",
           "#EF553B",
           "#00cc96",
           "#ab63fa",
           "#FFA15A",
           "#19d3f3",
           "#FF6692",
           "#B6E880",
           "#FF97FF",
           "#FECB52"
          ],
          "font": {
           "color": "#f2f5fa"
          },
          "geo": {
           "bgcolor": "rgb(17,17,17)",
           "lakecolor": "rgb(17,17,17)",
           "landcolor": "rgb(17,17,17)",
           "showlakes": true,
           "showland": true,
           "subunitcolor": "#506784"
          },
          "hoverlabel": {
           "align": "left"
          },
          "hovermode": "closest",
          "mapbox": {
           "style": "dark"
          },
          "paper_bgcolor": "rgb(17,17,17)",
          "plot_bgcolor": "rgb(17,17,17)",
          "polar": {
           "angularaxis": {
            "gridcolor": "#506784",
            "linecolor": "#506784",
            "ticks": ""
           },
           "bgcolor": "rgb(17,17,17)",
           "radialaxis": {
            "gridcolor": "#506784",
            "linecolor": "#506784",
            "ticks": ""
           }
          },
          "scene": {
           "xaxis": {
            "backgroundcolor": "rgb(17,17,17)",
            "gridcolor": "#506784",
            "gridwidth": 2,
            "linecolor": "#506784",
            "showbackground": true,
            "ticks": "",
            "zerolinecolor": "#C8D4E3"
           },
           "yaxis": {
            "backgroundcolor": "rgb(17,17,17)",
            "gridcolor": "#506784",
            "gridwidth": 2,
            "linecolor": "#506784",
            "showbackground": true,
            "ticks": "",
            "zerolinecolor": "#C8D4E3"
           },
           "zaxis": {
            "backgroundcolor": "rgb(17,17,17)",
            "gridcolor": "#506784",
            "gridwidth": 2,
            "linecolor": "#506784",
            "showbackground": true,
            "ticks": "",
            "zerolinecolor": "#C8D4E3"
           }
          },
          "shapedefaults": {
           "line": {
            "color": "#f2f5fa"
           }
          },
          "sliderdefaults": {
           "bgcolor": "#C8D4E3",
           "bordercolor": "rgb(17,17,17)",
           "borderwidth": 1,
           "tickwidth": 0
          },
          "ternary": {
           "aaxis": {
            "gridcolor": "#506784",
            "linecolor": "#506784",
            "ticks": ""
           },
           "baxis": {
            "gridcolor": "#506784",
            "linecolor": "#506784",
            "ticks": ""
           },
           "bgcolor": "rgb(17,17,17)",
           "caxis": {
            "gridcolor": "#506784",
            "linecolor": "#506784",
            "ticks": ""
           }
          },
          "title": {
           "x": 0.05
          },
          "updatemenudefaults": {
           "bgcolor": "#506784",
           "borderwidth": 0
          },
          "xaxis": {
           "automargin": true,
           "gridcolor": "#283442",
           "linecolor": "#506784",
           "ticks": "",
           "title": {
            "standoff": 15
           },
           "zerolinecolor": "#283442",
           "zerolinewidth": 2
          },
          "yaxis": {
           "automargin": true,
           "gridcolor": "#283442",
           "linecolor": "#506784",
           "ticks": "",
           "title": {
            "standoff": 15
           },
           "zerolinecolor": "#283442",
           "zerolinewidth": 2
          }
         }
        },
        "title": {
         "text": "Message Transitions Over Time"
        },
        "xaxis": {
         "anchor": "y",
         "domain": [
          0,
          1
         ],
         "showgrid": true,
         "title": {
          "text": "Timestamp"
         }
        },
        "yaxis": {
         "anchor": "x",
         "domain": [
          0,
          1
         ],
         "showgrid": true,
         "title": {
          "text": "State"
         }
        }
       }
      }
     },
     "metadata": {},
     "output_type": "display_data"
    }
   ],
   "source": [
    "analyze_message_flow(logs10)"
   ]
  },
  {
   "cell_type": "code",
   "execution_count": 4,
   "metadata": {},
   "outputs": [
    {
     "data": {
      "application/vnd.plotly.v1+json": {
       "config": {
        "plotlyServerURL": "https://plot.ly"
       },
       "data": [
        {
         "hovertemplate": "State=pending<br>Time=%{x}<br>message_id=%{y}<extra></extra>",
         "legendgroup": "pending",
         "line": {
          "color": "#636efa",
          "dash": "solid"
         },
         "marker": {
          "symbol": "circle"
         },
         "mode": "lines+markers",
         "name": "pending",
         "orientation": "v",
         "showlegend": true,
         "type": "scatter",
         "x": [
          "2024-12-23T15:11:10.227334",
          "2024-12-23T15:11:13.517650",
          "2024-12-23T15:11:16.933691",
          "2024-12-23T15:11:20.115313",
          "2024-12-23T15:11:23.404700",
          "2024-12-23T15:11:26.659781",
          "2024-12-23T15:11:30.003665",
          "2024-12-23T15:11:33.270237",
          "2024-12-23T15:11:36.530689",
          "2024-12-23T15:11:39.573468",
          "2024-12-23T15:11:42.675254",
          "2024-12-23T15:11:45.758826",
          "2024-12-23T15:11:48.827744",
          "2024-12-23T15:11:52.205965",
          "2024-12-23T15:11:55.456838",
          "2024-12-23T15:11:58.612422",
          "2024-12-23T15:12:02.200592",
          "2024-12-23T15:12:05.337597",
          "2024-12-23T15:12:08.507161",
          "2024-12-23T15:12:11.619422",
          "2024-12-23T15:12:14.764778",
          "2024-12-23T15:12:17.874783",
          "2024-12-23T15:12:21.056739",
          "2024-12-23T15:12:24.434675",
          "2024-12-23T15:12:27.613427",
          "2024-12-23T15:12:30.864462",
          "2024-12-23T15:12:34.307095",
          "2024-12-23T15:12:37.549836",
          "2024-12-23T15:12:40.690358",
          "2024-12-23T15:12:43.793230",
          "2024-12-23T15:12:46.918810",
          "2024-12-23T15:12:50.035470",
          "2024-12-23T15:12:53.248196",
          "2024-12-23T15:12:56.488710",
          "2024-12-23T15:12:59.596855",
          "2024-12-23T15:13:02.728442",
          "2024-12-23T15:13:05.947669",
          "2024-12-23T15:13:09.090233",
          "2024-12-23T15:13:12.177128",
          "2024-12-23T15:13:15.236323",
          "2024-12-23T15:13:18.739944",
          "2024-12-23T15:13:22.152984",
          "2024-12-23T15:13:25.269145",
          "2024-12-23T15:13:28.373681",
          "2024-12-23T15:13:31.486352",
          "2024-12-23T15:13:34.598193",
          "2024-12-23T15:13:37.984617",
          "2024-12-23T15:13:41.024716",
          "2024-12-23T15:13:44.303965",
          "2024-12-23T15:13:47.365888"
         ],
         "xaxis": "x",
         "y": [
          1,
          2,
          3,
          4,
          5,
          6,
          7,
          8,
          9,
          10,
          11,
          12,
          13,
          14,
          15,
          16,
          17,
          18,
          19,
          20,
          21,
          22,
          23,
          24,
          25,
          26,
          27,
          28,
          29,
          30,
          31,
          32,
          33,
          34,
          35,
          36,
          37,
          38,
          39,
          40,
          41,
          42,
          43,
          44,
          45,
          46,
          47,
          48,
          49,
          50
         ],
         "yaxis": "y"
        },
        {
         "hovertemplate": "State=active<br>Time=%{x}<br>message_id=%{y}<extra></extra>",
         "legendgroup": "active",
         "line": {
          "color": "#EF553B",
          "dash": "solid"
         },
         "marker": {
          "symbol": "circle"
         },
         "mode": "lines+markers",
         "name": "active",
         "orientation": "v",
         "showlegend": true,
         "type": "scatter",
         "x": [
          "2024-12-23T15:11:11.553831",
          "2024-12-23T15:11:17.311656",
          "2024-12-23T15:11:17.311656",
          "2024-12-23T15:11:21.674881",
          "2024-12-23T15:11:31.781262",
          "2024-12-23T15:11:31.781262",
          "2024-12-23T15:11:31.781262",
          "2024-12-23T15:11:37.491659",
          "2024-12-23T15:11:37.491659",
          "2024-12-23T15:11:57.635222",
          "2024-12-23T15:11:57.635222",
          "2024-12-23T15:11:57.635222",
          "2024-12-23T15:11:57.635222",
          "2024-12-23T15:11:57.635222",
          "2024-12-23T15:12:01.943880",
          "2024-12-23T15:12:01.943880",
          "2024-12-23T15:12:22.166118",
          "2024-12-23T15:12:22.166118",
          "2024-12-23T15:12:22.166118",
          "2024-12-23T15:12:22.166118",
          "2024-12-23T15:12:22.166118",
          "2024-12-23T15:12:47.981371",
          "2024-12-23T15:12:47.981371",
          "2024-12-23T15:12:47.981371",
          "2024-12-23T15:12:47.981371",
          "2024-12-23T15:12:47.981371",
          "2024-12-23T15:13:12.410780",
          "2024-12-23T15:13:12.410780",
          "2024-12-23T15:13:12.410780",
          "2024-12-23T15:13:12.410780",
          "2024-12-23T15:13:12.410780",
          "2024-12-23T15:13:38.194132",
          "2024-12-23T15:13:38.194132",
          "2024-12-23T15:13:38.194132",
          "2024-12-23T15:13:38.194132",
          "2024-12-23T15:13:38.194132",
          "2024-12-23T15:14:02.655893",
          "2024-12-23T15:14:02.655893",
          "2024-12-23T15:14:02.655893",
          "2024-12-23T15:14:02.655893",
          "2024-12-23T15:14:02.655893",
          "2024-12-23T15:14:28.421420",
          "2024-12-23T15:14:28.421420",
          "2024-12-23T15:14:28.421420",
          "2024-12-23T15:14:28.421420",
          "2024-12-23T15:14:28.421420",
          "2024-12-23T15:14:52.882531",
          "2024-12-23T15:14:52.882531",
          "2024-12-23T15:14:52.882531",
          "2024-12-23T15:14:52.882531"
         ],
         "xaxis": "x",
         "y": [
          1,
          2,
          3,
          4,
          5,
          6,
          7,
          8,
          9,
          10,
          11,
          12,
          13,
          14,
          15,
          16,
          17,
          18,
          19,
          20,
          21,
          22,
          23,
          24,
          25,
          26,
          27,
          28,
          29,
          30,
          31,
          32,
          33,
          34,
          35,
          36,
          37,
          38,
          39,
          40,
          41,
          45,
          44,
          46,
          42,
          43,
          50,
          49,
          47,
          48
         ],
         "yaxis": "y"
        },
        {
         "hovertemplate": "State=completed<br>Time=%{x}<br>message_id=%{y}<extra></extra>",
         "legendgroup": "completed",
         "line": {
          "color": "#00cc96",
          "dash": "solid"
         },
         "marker": {
          "symbol": "circle"
         },
         "mode": "lines+markers",
         "name": "completed",
         "orientation": "v",
         "showlegend": true,
         "type": "scatter",
         "x": [
          "2024-12-23T15:11:21.640985",
          "2024-12-23T15:11:31.748508",
          "2024-12-23T15:11:37.456052",
          "2024-12-23T15:11:37.456298",
          "2024-12-23T15:11:57.598491",
          "2024-12-23T15:11:57.598722",
          "2024-12-23T15:12:01.912344",
          "2024-12-23T15:12:01.912581",
          "2024-12-23T15:12:01.912826",
          "2024-12-23T15:12:22.132278",
          "2024-12-23T15:12:22.132516",
          "2024-12-23T15:12:47.946886",
          "2024-12-23T15:12:47.947133",
          "2024-12-23T15:12:47.947337",
          "2024-12-23T15:12:47.947670",
          "2024-12-23T15:12:47.947874",
          "2024-12-23T15:13:12.377203",
          "2024-12-23T15:13:12.377470",
          "2024-12-23T15:13:12.377701",
          "2024-12-23T15:13:12.377920",
          "2024-12-23T15:13:12.378154",
          "2024-12-23T15:13:38.163179",
          "2024-12-23T15:13:38.163412",
          "2024-12-23T15:13:38.163617",
          "2024-12-23T15:13:38.163826",
          "2024-12-23T15:13:38.164134",
          "2024-12-23T15:14:02.622889",
          "2024-12-23T15:14:02.623123",
          "2024-12-23T15:14:02.623333",
          "2024-12-23T15:14:02.623543",
          "2024-12-23T15:14:02.623749",
          "2024-12-23T15:14:28.385318",
          "2024-12-23T15:14:28.385535",
          "2024-12-23T15:14:28.385736",
          "2024-12-23T15:14:28.385942",
          "2024-12-23T15:14:28.386138",
          "2024-12-23T15:14:52.848221",
          "2024-12-23T15:14:52.848440",
          "2024-12-23T15:14:52.848639",
          "2024-12-23T15:14:52.848848",
          "2024-12-23T15:14:52.849052",
          "2024-12-23T15:15:18.632788",
          "2024-12-23T15:15:18.633007",
          "2024-12-23T15:15:18.633208",
          "2024-12-23T15:15:18.633404",
          "2024-12-23T15:15:18.633605",
          "2024-12-23T15:15:33.042890",
          "2024-12-23T15:15:33.043106",
          "2024-12-23T15:15:33.043304",
          "2024-12-23T15:15:33.043499"
         ],
         "xaxis": "x",
         "y": [
          1,
          4,
          2,
          3,
          8,
          9,
          5,
          6,
          7,
          15,
          16,
          10,
          11,
          12,
          13,
          14,
          17,
          18,
          19,
          20,
          21,
          22,
          23,
          24,
          25,
          26,
          27,
          28,
          29,
          30,
          31,
          32,
          33,
          34,
          35,
          36,
          37,
          38,
          39,
          40,
          41,
          42,
          43,
          44,
          45,
          46,
          47,
          48,
          49,
          50
         ],
         "yaxis": "y"
        }
       ],
       "layout": {
        "hovermode": "closest",
        "legend": {
         "title": {
          "text": "State"
         },
         "tracegroupgap": 0
        },
        "margin": {
         "b": 40,
         "l": 40,
         "r": 40,
         "t": 40
        },
        "template": {
         "data": {
          "bar": [
           {
            "error_x": {
             "color": "#f2f5fa"
            },
            "error_y": {
             "color": "#f2f5fa"
            },
            "marker": {
             "line": {
              "color": "rgb(17,17,17)",
              "width": 0.5
             },
             "pattern": {
              "fillmode": "overlay",
              "size": 10,
              "solidity": 0.2
             }
            },
            "type": "bar"
           }
          ],
          "barpolar": [
           {
            "marker": {
             "line": {
              "color": "rgb(17,17,17)",
              "width": 0.5
             },
             "pattern": {
              "fillmode": "overlay",
              "size": 10,
              "solidity": 0.2
             }
            },
            "type": "barpolar"
           }
          ],
          "carpet": [
           {
            "aaxis": {
             "endlinecolor": "#A2B1C6",
             "gridcolor": "#506784",
             "linecolor": "#506784",
             "minorgridcolor": "#506784",
             "startlinecolor": "#A2B1C6"
            },
            "baxis": {
             "endlinecolor": "#A2B1C6",
             "gridcolor": "#506784",
             "linecolor": "#506784",
             "minorgridcolor": "#506784",
             "startlinecolor": "#A2B1C6"
            },
            "type": "carpet"
           }
          ],
          "choropleth": [
           {
            "colorbar": {
             "outlinewidth": 0,
             "ticks": ""
            },
            "type": "choropleth"
           }
          ],
          "contour": [
           {
            "colorbar": {
             "outlinewidth": 0,
             "ticks": ""
            },
            "colorscale": [
             [
              0,
              "#0d0887"
             ],
             [
              0.1111111111111111,
              "#46039f"
             ],
             [
              0.2222222222222222,
              "#7201a8"
             ],
             [
              0.3333333333333333,
              "#9c179e"
             ],
             [
              0.4444444444444444,
              "#bd3786"
             ],
             [
              0.5555555555555556,
              "#d8576b"
             ],
             [
              0.6666666666666666,
              "#ed7953"
             ],
             [
              0.7777777777777778,
              "#fb9f3a"
             ],
             [
              0.8888888888888888,
              "#fdca26"
             ],
             [
              1,
              "#f0f921"
             ]
            ],
            "type": "contour"
           }
          ],
          "contourcarpet": [
           {
            "colorbar": {
             "outlinewidth": 0,
             "ticks": ""
            },
            "type": "contourcarpet"
           }
          ],
          "heatmap": [
           {
            "colorbar": {
             "outlinewidth": 0,
             "ticks": ""
            },
            "colorscale": [
             [
              0,
              "#0d0887"
             ],
             [
              0.1111111111111111,
              "#46039f"
             ],
             [
              0.2222222222222222,
              "#7201a8"
             ],
             [
              0.3333333333333333,
              "#9c179e"
             ],
             [
              0.4444444444444444,
              "#bd3786"
             ],
             [
              0.5555555555555556,
              "#d8576b"
             ],
             [
              0.6666666666666666,
              "#ed7953"
             ],
             [
              0.7777777777777778,
              "#fb9f3a"
             ],
             [
              0.8888888888888888,
              "#fdca26"
             ],
             [
              1,
              "#f0f921"
             ]
            ],
            "type": "heatmap"
           }
          ],
          "heatmapgl": [
           {
            "colorbar": {
             "outlinewidth": 0,
             "ticks": ""
            },
            "colorscale": [
             [
              0,
              "#0d0887"
             ],
             [
              0.1111111111111111,
              "#46039f"
             ],
             [
              0.2222222222222222,
              "#7201a8"
             ],
             [
              0.3333333333333333,
              "#9c179e"
             ],
             [
              0.4444444444444444,
              "#bd3786"
             ],
             [
              0.5555555555555556,
              "#d8576b"
             ],
             [
              0.6666666666666666,
              "#ed7953"
             ],
             [
              0.7777777777777778,
              "#fb9f3a"
             ],
             [
              0.8888888888888888,
              "#fdca26"
             ],
             [
              1,
              "#f0f921"
             ]
            ],
            "type": "heatmapgl"
           }
          ],
          "histogram": [
           {
            "marker": {
             "pattern": {
              "fillmode": "overlay",
              "size": 10,
              "solidity": 0.2
             }
            },
            "type": "histogram"
           }
          ],
          "histogram2d": [
           {
            "colorbar": {
             "outlinewidth": 0,
             "ticks": ""
            },
            "colorscale": [
             [
              0,
              "#0d0887"
             ],
             [
              0.1111111111111111,
              "#46039f"
             ],
             [
              0.2222222222222222,
              "#7201a8"
             ],
             [
              0.3333333333333333,
              "#9c179e"
             ],
             [
              0.4444444444444444,
              "#bd3786"
             ],
             [
              0.5555555555555556,
              "#d8576b"
             ],
             [
              0.6666666666666666,
              "#ed7953"
             ],
             [
              0.7777777777777778,
              "#fb9f3a"
             ],
             [
              0.8888888888888888,
              "#fdca26"
             ],
             [
              1,
              "#f0f921"
             ]
            ],
            "type": "histogram2d"
           }
          ],
          "histogram2dcontour": [
           {
            "colorbar": {
             "outlinewidth": 0,
             "ticks": ""
            },
            "colorscale": [
             [
              0,
              "#0d0887"
             ],
             [
              0.1111111111111111,
              "#46039f"
             ],
             [
              0.2222222222222222,
              "#7201a8"
             ],
             [
              0.3333333333333333,
              "#9c179e"
             ],
             [
              0.4444444444444444,
              "#bd3786"
             ],
             [
              0.5555555555555556,
              "#d8576b"
             ],
             [
              0.6666666666666666,
              "#ed7953"
             ],
             [
              0.7777777777777778,
              "#fb9f3a"
             ],
             [
              0.8888888888888888,
              "#fdca26"
             ],
             [
              1,
              "#f0f921"
             ]
            ],
            "type": "histogram2dcontour"
           }
          ],
          "mesh3d": [
           {
            "colorbar": {
             "outlinewidth": 0,
             "ticks": ""
            },
            "type": "mesh3d"
           }
          ],
          "parcoords": [
           {
            "line": {
             "colorbar": {
              "outlinewidth": 0,
              "ticks": ""
             }
            },
            "type": "parcoords"
           }
          ],
          "pie": [
           {
            "automargin": true,
            "type": "pie"
           }
          ],
          "scatter": [
           {
            "marker": {
             "line": {
              "color": "#283442"
             }
            },
            "type": "scatter"
           }
          ],
          "scatter3d": [
           {
            "line": {
             "colorbar": {
              "outlinewidth": 0,
              "ticks": ""
             }
            },
            "marker": {
             "colorbar": {
              "outlinewidth": 0,
              "ticks": ""
             }
            },
            "type": "scatter3d"
           }
          ],
          "scattercarpet": [
           {
            "marker": {
             "colorbar": {
              "outlinewidth": 0,
              "ticks": ""
             }
            },
            "type": "scattercarpet"
           }
          ],
          "scattergeo": [
           {
            "marker": {
             "colorbar": {
              "outlinewidth": 0,
              "ticks": ""
             }
            },
            "type": "scattergeo"
           }
          ],
          "scattergl": [
           {
            "marker": {
             "line": {
              "color": "#283442"
             }
            },
            "type": "scattergl"
           }
          ],
          "scattermapbox": [
           {
            "marker": {
             "colorbar": {
              "outlinewidth": 0,
              "ticks": ""
             }
            },
            "type": "scattermapbox"
           }
          ],
          "scatterpolar": [
           {
            "marker": {
             "colorbar": {
              "outlinewidth": 0,
              "ticks": ""
             }
            },
            "type": "scatterpolar"
           }
          ],
          "scatterpolargl": [
           {
            "marker": {
             "colorbar": {
              "outlinewidth": 0,
              "ticks": ""
             }
            },
            "type": "scatterpolargl"
           }
          ],
          "scatterternary": [
           {
            "marker": {
             "colorbar": {
              "outlinewidth": 0,
              "ticks": ""
             }
            },
            "type": "scatterternary"
           }
          ],
          "surface": [
           {
            "colorbar": {
             "outlinewidth": 0,
             "ticks": ""
            },
            "colorscale": [
             [
              0,
              "#0d0887"
             ],
             [
              0.1111111111111111,
              "#46039f"
             ],
             [
              0.2222222222222222,
              "#7201a8"
             ],
             [
              0.3333333333333333,
              "#9c179e"
             ],
             [
              0.4444444444444444,
              "#bd3786"
             ],
             [
              0.5555555555555556,
              "#d8576b"
             ],
             [
              0.6666666666666666,
              "#ed7953"
             ],
             [
              0.7777777777777778,
              "#fb9f3a"
             ],
             [
              0.8888888888888888,
              "#fdca26"
             ],
             [
              1,
              "#f0f921"
             ]
            ],
            "type": "surface"
           }
          ],
          "table": [
           {
            "cells": {
             "fill": {
              "color": "#506784"
             },
             "line": {
              "color": "rgb(17,17,17)"
             }
            },
            "header": {
             "fill": {
              "color": "#2a3f5f"
             },
             "line": {
              "color": "rgb(17,17,17)"
             }
            },
            "type": "table"
           }
          ]
         },
         "layout": {
          "annotationdefaults": {
           "arrowcolor": "#f2f5fa",
           "arrowhead": 0,
           "arrowwidth": 1
          },
          "autotypenumbers": "strict",
          "coloraxis": {
           "colorbar": {
            "outlinewidth": 0,
            "ticks": ""
           }
          },
          "colorscale": {
           "diverging": [
            [
             0,
             "#8e0152"
            ],
            [
             0.1,
             "#c51b7d"
            ],
            [
             0.2,
             "#de77ae"
            ],
            [
             0.3,
             "#f1b6da"
            ],
            [
             0.4,
             "#fde0ef"
            ],
            [
             0.5,
             "#f7f7f7"
            ],
            [
             0.6,
             "#e6f5d0"
            ],
            [
             0.7,
             "#b8e186"
            ],
            [
             0.8,
             "#7fbc41"
            ],
            [
             0.9,
             "#4d9221"
            ],
            [
             1,
             "#276419"
            ]
           ],
           "sequential": [
            [
             0,
             "#0d0887"
            ],
            [
             0.1111111111111111,
             "#46039f"
            ],
            [
             0.2222222222222222,
             "#7201a8"
            ],
            [
             0.3333333333333333,
             "#9c179e"
            ],
            [
             0.4444444444444444,
             "#bd3786"
            ],
            [
             0.5555555555555556,
             "#d8576b"
            ],
            [
             0.6666666666666666,
             "#ed7953"
            ],
            [
             0.7777777777777778,
             "#fb9f3a"
            ],
            [
             0.8888888888888888,
             "#fdca26"
            ],
            [
             1,
             "#f0f921"
            ]
           ],
           "sequentialminus": [
            [
             0,
             "#0d0887"
            ],
            [
             0.1111111111111111,
             "#46039f"
            ],
            [
             0.2222222222222222,
             "#7201a8"
            ],
            [
             0.3333333333333333,
             "#9c179e"
            ],
            [
             0.4444444444444444,
             "#bd3786"
            ],
            [
             0.5555555555555556,
             "#d8576b"
            ],
            [
             0.6666666666666666,
             "#ed7953"
            ],
            [
             0.7777777777777778,
             "#fb9f3a"
            ],
            [
             0.8888888888888888,
             "#fdca26"
            ],
            [
             1,
             "#f0f921"
            ]
           ]
          },
          "colorway": [
           "#636efa",
           "#EF553B",
           "#00cc96",
           "#ab63fa",
           "#FFA15A",
           "#19d3f3",
           "#FF6692",
           "#B6E880",
           "#FF97FF",
           "#FECB52"
          ],
          "font": {
           "color": "#f2f5fa"
          },
          "geo": {
           "bgcolor": "rgb(17,17,17)",
           "lakecolor": "rgb(17,17,17)",
           "landcolor": "rgb(17,17,17)",
           "showlakes": true,
           "showland": true,
           "subunitcolor": "#506784"
          },
          "hoverlabel": {
           "align": "left"
          },
          "hovermode": "closest",
          "mapbox": {
           "style": "dark"
          },
          "paper_bgcolor": "rgb(17,17,17)",
          "plot_bgcolor": "rgb(17,17,17)",
          "polar": {
           "angularaxis": {
            "gridcolor": "#506784",
            "linecolor": "#506784",
            "ticks": ""
           },
           "bgcolor": "rgb(17,17,17)",
           "radialaxis": {
            "gridcolor": "#506784",
            "linecolor": "#506784",
            "ticks": ""
           }
          },
          "scene": {
           "xaxis": {
            "backgroundcolor": "rgb(17,17,17)",
            "gridcolor": "#506784",
            "gridwidth": 2,
            "linecolor": "#506784",
            "showbackground": true,
            "ticks": "",
            "zerolinecolor": "#C8D4E3"
           },
           "yaxis": {
            "backgroundcolor": "rgb(17,17,17)",
            "gridcolor": "#506784",
            "gridwidth": 2,
            "linecolor": "#506784",
            "showbackground": true,
            "ticks": "",
            "zerolinecolor": "#C8D4E3"
           },
           "zaxis": {
            "backgroundcolor": "rgb(17,17,17)",
            "gridcolor": "#506784",
            "gridwidth": 2,
            "linecolor": "#506784",
            "showbackground": true,
            "ticks": "",
            "zerolinecolor": "#C8D4E3"
           }
          },
          "shapedefaults": {
           "line": {
            "color": "#f2f5fa"
           }
          },
          "sliderdefaults": {
           "bgcolor": "#C8D4E3",
           "bordercolor": "rgb(17,17,17)",
           "borderwidth": 1,
           "tickwidth": 0
          },
          "ternary": {
           "aaxis": {
            "gridcolor": "#506784",
            "linecolor": "#506784",
            "ticks": ""
           },
           "baxis": {
            "gridcolor": "#506784",
            "linecolor": "#506784",
            "ticks": ""
           },
           "bgcolor": "rgb(17,17,17)",
           "caxis": {
            "gridcolor": "#506784",
            "linecolor": "#506784",
            "ticks": ""
           }
          },
          "title": {
           "x": 0.05
          },
          "updatemenudefaults": {
           "bgcolor": "#506784",
           "borderwidth": 0
          },
          "xaxis": {
           "automargin": true,
           "gridcolor": "#283442",
           "linecolor": "#506784",
           "ticks": "",
           "title": {
            "standoff": 15
           },
           "zerolinecolor": "#283442",
           "zerolinewidth": 2
          },
          "yaxis": {
           "automargin": true,
           "gridcolor": "#283442",
           "linecolor": "#506784",
           "ticks": "",
           "title": {
            "standoff": 15
           },
           "zerolinecolor": "#283442",
           "zerolinewidth": 2
          }
         }
        },
        "title": {
         "text": "Message Transitions Over Time"
        },
        "xaxis": {
         "anchor": "y",
         "domain": [
          0,
          1
         ],
         "showgrid": true,
         "title": {
          "text": "Timestamp"
         }
        },
        "yaxis": {
         "anchor": "x",
         "domain": [
          0,
          1
         ],
         "showgrid": true,
         "title": {
          "text": "State"
         }
        }
       }
      }
     },
     "metadata": {},
     "output_type": "display_data"
    }
   ],
   "source": [
    "analyze_message_flow(logs50)"
   ]
  },
  {
   "cell_type": "code",
   "execution_count": 5,
   "metadata": {},
   "outputs": [
    {
     "data": {
      "application/vnd.plotly.v1+json": {
       "config": {
        "plotlyServerURL": "https://plot.ly"
       },
       "data": [
        {
         "hovertemplate": "State=pending<br>Time=%{x}<br>message_id=%{y}<extra></extra>",
         "legendgroup": "pending",
         "line": {
          "color": "#636efa",
          "dash": "solid"
         },
         "marker": {
          "symbol": "circle"
         },
         "mode": "lines+markers",
         "name": "pending",
         "orientation": "v",
         "showlegend": true,
         "type": "scatter",
         "x": [
          "2024-12-23T19:18:09.063136",
          "2024-12-23T19:18:12.303071",
          "2024-12-23T19:18:15.529766",
          "2024-12-23T19:18:18.831097",
          "2024-12-23T19:18:22.198760",
          "2024-12-23T19:18:25.336798",
          "2024-12-23T19:18:28.463610",
          "2024-12-23T19:18:31.584864",
          "2024-12-23T19:18:34.706376",
          "2024-12-23T19:18:37.821214",
          "2024-12-23T19:18:41.070966",
          "2024-12-23T19:18:44.210018",
          "2024-12-23T19:18:47.220970",
          "2024-12-23T19:18:50.387290",
          "2024-12-23T19:18:53.490003",
          "2024-12-23T19:18:56.625062",
          "2024-12-23T19:18:59.806968",
          "2024-12-23T19:19:03.061938",
          "2024-12-23T19:19:06.298534",
          "2024-12-23T19:19:09.554416",
          "2024-12-23T19:19:12.743893",
          "2024-12-23T19:19:15.849718",
          "2024-12-23T19:19:18.963752",
          "2024-12-23T19:19:22.116909",
          "2024-12-23T19:19:25.183222",
          "2024-12-23T19:19:28.299470",
          "2024-12-23T19:19:31.424694",
          "2024-12-23T19:19:34.574674",
          "2024-12-23T19:19:37.763589",
          "2024-12-23T19:19:41.008344",
          "2024-12-23T19:19:44.291140",
          "2024-12-23T19:19:47.443406",
          "2024-12-23T19:19:50.579148",
          "2024-12-23T19:19:53.671791",
          "2024-12-23T19:19:57.027843",
          "2024-12-23T19:20:00.319315",
          "2024-12-23T19:20:03.929681",
          "2024-12-23T19:20:07.185339",
          "2024-12-23T19:20:10.293503",
          "2024-12-23T19:20:13.487398",
          "2024-12-23T19:20:16.602742",
          "2024-12-23T19:20:19.763468",
          "2024-12-23T19:20:23.094490",
          "2024-12-23T19:20:26.249047",
          "2024-12-23T19:20:29.286450",
          "2024-12-23T19:20:32.390992",
          "2024-12-23T19:20:35.548265",
          "2024-12-23T19:20:38.826426",
          "2024-12-23T19:20:41.974108",
          "2024-12-23T19:20:45.253304",
          "2024-12-23T19:20:48.321820",
          "2024-12-23T19:20:51.391874",
          "2024-12-23T19:20:54.668902",
          "2024-12-23T19:20:57.856578",
          "2024-12-23T19:21:00.964601",
          "2024-12-23T19:21:04.123260",
          "2024-12-23T19:21:07.263095",
          "2024-12-23T19:21:10.541796",
          "2024-12-23T19:21:13.681093",
          "2024-12-23T19:21:16.789419",
          "2024-12-23T19:21:19.973343",
          "2024-12-23T19:21:23.112595",
          "2024-12-23T19:21:26.257660",
          "2024-12-23T19:21:29.397290",
          "2024-12-23T19:21:32.549622",
          "2024-12-23T19:21:35.649958",
          "2024-12-23T19:21:38.967209",
          "2024-12-23T19:21:42.027746",
          "2024-12-23T19:21:45.174121",
          "2024-12-23T19:21:48.263960",
          "2024-12-23T19:21:51.388938",
          "2024-12-23T19:21:54.466324",
          "2024-12-23T19:21:57.683771",
          "2024-12-23T19:22:00.837117",
          "2024-12-23T19:22:04.150764",
          "2024-12-23T19:22:07.554614",
          "2024-12-23T19:22:10.876528",
          "2024-12-23T19:22:14.115941",
          "2024-12-23T19:22:17.270443",
          "2024-12-23T19:22:20.434956",
          "2024-12-23T19:22:23.649187",
          "2024-12-23T19:22:26.735533",
          "2024-12-23T19:22:30.043451",
          "2024-12-23T19:22:33.233544",
          "2024-12-23T19:22:36.334464",
          "2024-12-23T19:22:39.573459",
          "2024-12-23T19:22:42.796774",
          "2024-12-23T19:22:45.880341",
          "2024-12-23T19:22:49.017988",
          "2024-12-23T19:22:52.339681",
          "2024-12-23T19:22:55.520518",
          "2024-12-23T19:22:58.716659",
          "2024-12-23T19:23:01.915264",
          "2024-12-23T19:23:05.180415",
          "2024-12-23T19:23:08.521371",
          "2024-12-23T19:23:11.662975",
          "2024-12-23T19:23:14.765272",
          "2024-12-23T19:23:17.961905",
          "2024-12-23T19:23:21.150698",
          "2024-12-23T19:23:24.316141"
         ],
         "xaxis": "x",
         "y": [
          1,
          2,
          3,
          4,
          5,
          6,
          7,
          8,
          9,
          10,
          11,
          12,
          13,
          14,
          15,
          16,
          17,
          18,
          19,
          20,
          21,
          22,
          23,
          24,
          25,
          26,
          27,
          28,
          29,
          30,
          31,
          32,
          33,
          34,
          35,
          36,
          37,
          38,
          39,
          40,
          41,
          42,
          43,
          44,
          45,
          46,
          47,
          48,
          49,
          50,
          51,
          52,
          53,
          54,
          55,
          56,
          57,
          58,
          59,
          60,
          61,
          62,
          63,
          64,
          65,
          66,
          67,
          68,
          69,
          70,
          71,
          72,
          73,
          74,
          75,
          76,
          77,
          78,
          79,
          80,
          81,
          82,
          83,
          84,
          85,
          86,
          87,
          88,
          89,
          90,
          91,
          92,
          93,
          94,
          95,
          96,
          97,
          98,
          99,
          100
         ],
         "yaxis": "y"
        },
        {
         "hovertemplate": "State=active<br>Time=%{x}<br>message_id=%{y}<extra></extra>",
         "legendgroup": "active",
         "line": {
          "color": "#EF553B",
          "dash": "solid"
         },
         "marker": {
          "symbol": "circle"
         },
         "mode": "lines+markers",
         "name": "active",
         "orientation": "v",
         "showlegend": true,
         "type": "scatter",
         "x": [
          "2024-12-23T19:18:11.946301",
          "2024-12-23T19:18:12.464746",
          "2024-12-23T19:18:22.065555",
          "2024-12-23T19:18:22.065555",
          "2024-12-23T19:18:22.579363",
          "2024-12-23T19:18:32.799801",
          "2024-12-23T19:18:32.799801",
          "2024-12-23T19:18:32.799801",
          "2024-12-23T19:18:42.217173",
          "2024-12-23T19:18:42.217173",
          "2024-12-23T19:18:42.217173",
          "2024-12-23T19:19:02.964617",
          "2024-12-23T19:19:02.964617",
          "2024-12-23T19:19:02.964617",
          "2024-12-23T19:19:02.964617",
          "2024-12-23T19:19:02.964617",
          "2024-12-23T19:19:12.382133",
          "2024-12-23T19:19:12.382133",
          "2024-12-23T19:19:12.382133",
          "2024-12-23T19:19:12.382133",
          "2024-12-23T19:19:52.656032",
          "2024-12-23T19:19:52.656032",
          "2024-12-23T19:19:52.656032",
          "2024-12-23T19:19:52.656032",
          "2024-12-23T19:19:52.656032",
          "2024-12-23T19:19:53.319612",
          "2024-12-23T19:19:53.319612",
          "2024-12-23T19:19:53.319612",
          "2024-12-23T19:19:53.319612",
          "2024-12-23T19:19:53.319612",
          "2024-12-23T19:20:42.877090",
          "2024-12-23T19:20:42.877090",
          "2024-12-23T19:20:42.877090",
          "2024-12-23T19:20:42.877090",
          "2024-12-23T19:20:42.877090",
          "2024-12-23T19:20:43.545174",
          "2024-12-23T19:20:43.545174",
          "2024-12-23T19:20:43.545174",
          "2024-12-23T19:20:43.545174",
          "2024-12-23T19:20:43.545174",
          "2024-12-23T19:21:33.093135",
          "2024-12-23T19:21:33.093135",
          "2024-12-23T19:21:33.093135",
          "2024-12-23T19:21:33.093135",
          "2024-12-23T19:21:33.093135",
          "2024-12-23T19:21:33.773564",
          "2024-12-23T19:21:33.773564",
          "2024-12-23T19:21:33.773564",
          "2024-12-23T19:21:33.773564",
          "2024-12-23T19:21:33.773564",
          "2024-12-23T19:22:23.310143",
          "2024-12-23T19:22:23.310143",
          "2024-12-23T19:22:23.310143",
          "2024-12-23T19:22:23.310143",
          "2024-12-23T19:22:23.310143",
          "2024-12-23T19:22:23.997699",
          "2024-12-23T19:22:23.997699",
          "2024-12-23T19:22:23.997699",
          "2024-12-23T19:22:23.997699",
          "2024-12-23T19:22:23.997699",
          "2024-12-23T19:23:13.527046",
          "2024-12-23T19:23:13.527046",
          "2024-12-23T19:23:13.527046",
          "2024-12-23T19:23:13.527046",
          "2024-12-23T19:23:13.527046",
          "2024-12-23T19:23:14.215850",
          "2024-12-23T19:23:14.215850",
          "2024-12-23T19:23:14.215850",
          "2024-12-23T19:23:14.215850",
          "2024-12-23T19:23:14.215850",
          "2024-12-23T19:24:03.853691",
          "2024-12-23T19:24:03.853691",
          "2024-12-23T19:24:03.853691",
          "2024-12-23T19:24:03.853691",
          "2024-12-23T19:24:03.853691",
          "2024-12-23T19:24:04.441333",
          "2024-12-23T19:24:04.441333",
          "2024-12-23T19:24:04.441333",
          "2024-12-23T19:24:04.441333",
          "2024-12-23T19:24:04.441333",
          "2024-12-23T19:24:54.071112",
          "2024-12-23T19:24:54.071112",
          "2024-12-23T19:24:54.071112",
          "2024-12-23T19:24:54.071112",
          "2024-12-23T19:24:54.071112",
          "2024-12-23T19:24:54.683159",
          "2024-12-23T19:24:54.683159",
          "2024-12-23T19:24:54.683159",
          "2024-12-23T19:24:54.683159",
          "2024-12-23T19:24:54.683159",
          "2024-12-23T19:25:44.343474",
          "2024-12-23T19:25:44.343474",
          "2024-12-23T19:25:44.343474",
          "2024-12-23T19:25:44.343474",
          "2024-12-23T19:25:44.343474",
          "2024-12-23T19:25:44.970580",
          "2024-12-23T19:25:44.970580",
          "2024-12-23T19:25:44.970580",
          "2024-12-23T19:25:44.970580",
          "2024-12-23T19:25:44.970580"
         ],
         "xaxis": "x",
         "y": [
          1,
          2,
          4,
          3,
          5,
          7,
          8,
          6,
          11,
          9,
          10,
          16,
          15,
          12,
          13,
          14,
          20,
          19,
          17,
          18,
          21,
          22,
          23,
          24,
          25,
          26,
          27,
          28,
          29,
          30,
          31,
          32,
          33,
          34,
          35,
          36,
          37,
          38,
          39,
          40,
          41,
          42,
          43,
          44,
          45,
          46,
          47,
          48,
          49,
          50,
          55,
          53,
          54,
          51,
          52,
          60,
          59,
          56,
          57,
          58,
          65,
          63,
          64,
          61,
          62,
          70,
          68,
          69,
          67,
          66,
          71,
          72,
          73,
          74,
          75,
          76,
          77,
          78,
          79,
          80,
          81,
          82,
          83,
          84,
          85,
          86,
          87,
          88,
          89,
          90,
          94,
          93,
          95,
          91,
          92,
          100,
          99,
          98,
          96,
          97
         ],
         "yaxis": "y"
        },
        {
         "hovertemplate": "State=completed<br>Time=%{x}<br>message_id=%{y}<extra></extra>",
         "legendgroup": "completed",
         "line": {
          "color": "#00cc96",
          "dash": "solid"
         },
         "marker": {
          "symbol": "circle"
         },
         "mode": "lines+markers",
         "name": "completed",
         "orientation": "v",
         "showlegend": true,
         "type": "scatter",
         "x": [
          "2024-12-23T19:18:22.032223",
          "2024-12-23T19:18:22.549529",
          "2024-12-23T19:18:32.768853",
          "2024-12-23T19:18:42.186427",
          "2024-12-23T19:18:42.186699",
          "2024-12-23T19:19:02.932190",
          "2024-12-23T19:19:02.932405",
          "2024-12-23T19:19:02.932610",
          "2024-12-23T19:19:12.349542",
          "2024-12-23T19:19:12.349774",
          "2024-12-23T19:19:12.350119",
          "2024-12-23T19:19:52.623632",
          "2024-12-23T19:19:52.623857",
          "2024-12-23T19:19:52.624057",
          "2024-12-23T19:19:52.624268",
          "2024-12-23T19:19:53.286513",
          "2024-12-23T19:19:53.286762",
          "2024-12-23T19:19:53.287002",
          "2024-12-23T19:19:53.287226",
          "2024-12-23T19:19:53.287441",
          "2024-12-23T19:20:42.845679",
          "2024-12-23T19:20:42.845902",
          "2024-12-23T19:20:42.846100",
          "2024-12-23T19:20:42.846291",
          "2024-12-23T19:20:42.846481",
          "2024-12-23T19:20:43.511397",
          "2024-12-23T19:20:43.511610",
          "2024-12-23T19:20:43.511803",
          "2024-12-23T19:20:43.513310",
          "2024-12-23T19:20:43.513577",
          "2024-12-23T19:21:33.060856",
          "2024-12-23T19:21:33.061088",
          "2024-12-23T19:21:33.061463",
          "2024-12-23T19:21:33.061799",
          "2024-12-23T19:21:33.062037",
          "2024-12-23T19:21:33.741335",
          "2024-12-23T19:21:33.741561",
          "2024-12-23T19:21:33.741777",
          "2024-12-23T19:21:33.741977",
          "2024-12-23T19:21:33.742171",
          "2024-12-23T19:22:23.280261",
          "2024-12-23T19:22:23.280495",
          "2024-12-23T19:22:23.280708",
          "2024-12-23T19:22:23.280920",
          "2024-12-23T19:22:23.281120",
          "2024-12-23T19:22:23.965454",
          "2024-12-23T19:22:23.965671",
          "2024-12-23T19:22:23.965870",
          "2024-12-23T19:22:23.966065",
          "2024-12-23T19:22:23.966265",
          "2024-12-23T19:23:13.494124",
          "2024-12-23T19:23:13.494388",
          "2024-12-23T19:23:13.494600",
          "2024-12-23T19:23:13.494812",
          "2024-12-23T19:23:13.495050",
          "2024-12-23T19:23:14.182935",
          "2024-12-23T19:23:14.183385",
          "2024-12-23T19:23:14.183609",
          "2024-12-23T19:23:14.183922",
          "2024-12-23T19:23:14.184257",
          "2024-12-23T19:24:03.823156",
          "2024-12-23T19:24:03.823375",
          "2024-12-23T19:24:03.823576",
          "2024-12-23T19:24:03.823772",
          "2024-12-23T19:24:03.824003",
          "2024-12-23T19:24:04.411164",
          "2024-12-23T19:24:04.411503",
          "2024-12-23T19:24:04.411717",
          "2024-12-23T19:24:04.411931",
          "2024-12-23T19:24:04.412142",
          "2024-12-23T19:24:54.038258",
          "2024-12-23T19:24:54.038484",
          "2024-12-23T19:24:54.038711",
          "2024-12-23T19:24:54.038915",
          "2024-12-23T19:24:54.039112",
          "2024-12-23T19:24:54.653928",
          "2024-12-23T19:24:54.654147",
          "2024-12-23T19:24:54.654350",
          "2024-12-23T19:24:54.654564",
          "2024-12-23T19:24:54.654760",
          "2024-12-23T19:25:44.305815",
          "2024-12-23T19:25:44.306045",
          "2024-12-23T19:25:44.306249",
          "2024-12-23T19:25:44.306445",
          "2024-12-23T19:25:44.306635",
          "2024-12-23T19:25:44.935092",
          "2024-12-23T19:25:44.935326",
          "2024-12-23T19:25:44.935534",
          "2024-12-23T19:25:44.935730",
          "2024-12-23T19:25:44.935925",
          "2024-12-23T19:26:34.531555",
          "2024-12-23T19:26:34.531776",
          "2024-12-23T19:26:34.531983",
          "2024-12-23T19:26:34.532175",
          "2024-12-23T19:26:34.532375",
          "2024-12-23T19:26:35.150554",
          "2024-12-23T19:26:35.150785",
          "2024-12-23T19:26:35.151000",
          "2024-12-23T19:26:35.152055",
          "2024-12-23T19:26:35.152358"
         ],
         "xaxis": "x",
         "y": [
          1,
          2,
          5,
          3,
          4,
          6,
          7,
          8,
          9,
          10,
          11,
          17,
          18,
          19,
          20,
          12,
          13,
          14,
          15,
          16,
          21,
          22,
          23,
          24,
          25,
          26,
          27,
          28,
          29,
          30,
          31,
          32,
          33,
          34,
          35,
          36,
          37,
          38,
          39,
          40,
          41,
          42,
          43,
          44,
          45,
          46,
          47,
          48,
          49,
          50,
          51,
          52,
          53,
          54,
          55,
          56,
          57,
          58,
          59,
          60,
          61,
          62,
          63,
          64,
          65,
          66,
          67,
          68,
          69,
          70,
          71,
          72,
          73,
          74,
          75,
          76,
          77,
          78,
          79,
          80,
          81,
          82,
          83,
          84,
          85,
          86,
          87,
          88,
          89,
          90,
          91,
          92,
          93,
          94,
          95,
          96,
          97,
          98,
          99,
          100
         ],
         "yaxis": "y"
        }
       ],
       "layout": {
        "hovermode": "closest",
        "legend": {
         "title": {
          "text": "State"
         },
         "tracegroupgap": 0
        },
        "margin": {
         "b": 40,
         "l": 40,
         "r": 40,
         "t": 40
        },
        "template": {
         "data": {
          "bar": [
           {
            "error_x": {
             "color": "#f2f5fa"
            },
            "error_y": {
             "color": "#f2f5fa"
            },
            "marker": {
             "line": {
              "color": "rgb(17,17,17)",
              "width": 0.5
             },
             "pattern": {
              "fillmode": "overlay",
              "size": 10,
              "solidity": 0.2
             }
            },
            "type": "bar"
           }
          ],
          "barpolar": [
           {
            "marker": {
             "line": {
              "color": "rgb(17,17,17)",
              "width": 0.5
             },
             "pattern": {
              "fillmode": "overlay",
              "size": 10,
              "solidity": 0.2
             }
            },
            "type": "barpolar"
           }
          ],
          "carpet": [
           {
            "aaxis": {
             "endlinecolor": "#A2B1C6",
             "gridcolor": "#506784",
             "linecolor": "#506784",
             "minorgridcolor": "#506784",
             "startlinecolor": "#A2B1C6"
            },
            "baxis": {
             "endlinecolor": "#A2B1C6",
             "gridcolor": "#506784",
             "linecolor": "#506784",
             "minorgridcolor": "#506784",
             "startlinecolor": "#A2B1C6"
            },
            "type": "carpet"
           }
          ],
          "choropleth": [
           {
            "colorbar": {
             "outlinewidth": 0,
             "ticks": ""
            },
            "type": "choropleth"
           }
          ],
          "contour": [
           {
            "colorbar": {
             "outlinewidth": 0,
             "ticks": ""
            },
            "colorscale": [
             [
              0,
              "#0d0887"
             ],
             [
              0.1111111111111111,
              "#46039f"
             ],
             [
              0.2222222222222222,
              "#7201a8"
             ],
             [
              0.3333333333333333,
              "#9c179e"
             ],
             [
              0.4444444444444444,
              "#bd3786"
             ],
             [
              0.5555555555555556,
              "#d8576b"
             ],
             [
              0.6666666666666666,
              "#ed7953"
             ],
             [
              0.7777777777777778,
              "#fb9f3a"
             ],
             [
              0.8888888888888888,
              "#fdca26"
             ],
             [
              1,
              "#f0f921"
             ]
            ],
            "type": "contour"
           }
          ],
          "contourcarpet": [
           {
            "colorbar": {
             "outlinewidth": 0,
             "ticks": ""
            },
            "type": "contourcarpet"
           }
          ],
          "heatmap": [
           {
            "colorbar": {
             "outlinewidth": 0,
             "ticks": ""
            },
            "colorscale": [
             [
              0,
              "#0d0887"
             ],
             [
              0.1111111111111111,
              "#46039f"
             ],
             [
              0.2222222222222222,
              "#7201a8"
             ],
             [
              0.3333333333333333,
              "#9c179e"
             ],
             [
              0.4444444444444444,
              "#bd3786"
             ],
             [
              0.5555555555555556,
              "#d8576b"
             ],
             [
              0.6666666666666666,
              "#ed7953"
             ],
             [
              0.7777777777777778,
              "#fb9f3a"
             ],
             [
              0.8888888888888888,
              "#fdca26"
             ],
             [
              1,
              "#f0f921"
             ]
            ],
            "type": "heatmap"
           }
          ],
          "heatmapgl": [
           {
            "colorbar": {
             "outlinewidth": 0,
             "ticks": ""
            },
            "colorscale": [
             [
              0,
              "#0d0887"
             ],
             [
              0.1111111111111111,
              "#46039f"
             ],
             [
              0.2222222222222222,
              "#7201a8"
             ],
             [
              0.3333333333333333,
              "#9c179e"
             ],
             [
              0.4444444444444444,
              "#bd3786"
             ],
             [
              0.5555555555555556,
              "#d8576b"
             ],
             [
              0.6666666666666666,
              "#ed7953"
             ],
             [
              0.7777777777777778,
              "#fb9f3a"
             ],
             [
              0.8888888888888888,
              "#fdca26"
             ],
             [
              1,
              "#f0f921"
             ]
            ],
            "type": "heatmapgl"
           }
          ],
          "histogram": [
           {
            "marker": {
             "pattern": {
              "fillmode": "overlay",
              "size": 10,
              "solidity": 0.2
             }
            },
            "type": "histogram"
           }
          ],
          "histogram2d": [
           {
            "colorbar": {
             "outlinewidth": 0,
             "ticks": ""
            },
            "colorscale": [
             [
              0,
              "#0d0887"
             ],
             [
              0.1111111111111111,
              "#46039f"
             ],
             [
              0.2222222222222222,
              "#7201a8"
             ],
             [
              0.3333333333333333,
              "#9c179e"
             ],
             [
              0.4444444444444444,
              "#bd3786"
             ],
             [
              0.5555555555555556,
              "#d8576b"
             ],
             [
              0.6666666666666666,
              "#ed7953"
             ],
             [
              0.7777777777777778,
              "#fb9f3a"
             ],
             [
              0.8888888888888888,
              "#fdca26"
             ],
             [
              1,
              "#f0f921"
             ]
            ],
            "type": "histogram2d"
           }
          ],
          "histogram2dcontour": [
           {
            "colorbar": {
             "outlinewidth": 0,
             "ticks": ""
            },
            "colorscale": [
             [
              0,
              "#0d0887"
             ],
             [
              0.1111111111111111,
              "#46039f"
             ],
             [
              0.2222222222222222,
              "#7201a8"
             ],
             [
              0.3333333333333333,
              "#9c179e"
             ],
             [
              0.4444444444444444,
              "#bd3786"
             ],
             [
              0.5555555555555556,
              "#d8576b"
             ],
             [
              0.6666666666666666,
              "#ed7953"
             ],
             [
              0.7777777777777778,
              "#fb9f3a"
             ],
             [
              0.8888888888888888,
              "#fdca26"
             ],
             [
              1,
              "#f0f921"
             ]
            ],
            "type": "histogram2dcontour"
           }
          ],
          "mesh3d": [
           {
            "colorbar": {
             "outlinewidth": 0,
             "ticks": ""
            },
            "type": "mesh3d"
           }
          ],
          "parcoords": [
           {
            "line": {
             "colorbar": {
              "outlinewidth": 0,
              "ticks": ""
             }
            },
            "type": "parcoords"
           }
          ],
          "pie": [
           {
            "automargin": true,
            "type": "pie"
           }
          ],
          "scatter": [
           {
            "marker": {
             "line": {
              "color": "#283442"
             }
            },
            "type": "scatter"
           }
          ],
          "scatter3d": [
           {
            "line": {
             "colorbar": {
              "outlinewidth": 0,
              "ticks": ""
             }
            },
            "marker": {
             "colorbar": {
              "outlinewidth": 0,
              "ticks": ""
             }
            },
            "type": "scatter3d"
           }
          ],
          "scattercarpet": [
           {
            "marker": {
             "colorbar": {
              "outlinewidth": 0,
              "ticks": ""
             }
            },
            "type": "scattercarpet"
           }
          ],
          "scattergeo": [
           {
            "marker": {
             "colorbar": {
              "outlinewidth": 0,
              "ticks": ""
             }
            },
            "type": "scattergeo"
           }
          ],
          "scattergl": [
           {
            "marker": {
             "line": {
              "color": "#283442"
             }
            },
            "type": "scattergl"
           }
          ],
          "scattermapbox": [
           {
            "marker": {
             "colorbar": {
              "outlinewidth": 0,
              "ticks": ""
             }
            },
            "type": "scattermapbox"
           }
          ],
          "scatterpolar": [
           {
            "marker": {
             "colorbar": {
              "outlinewidth": 0,
              "ticks": ""
             }
            },
            "type": "scatterpolar"
           }
          ],
          "scatterpolargl": [
           {
            "marker": {
             "colorbar": {
              "outlinewidth": 0,
              "ticks": ""
             }
            },
            "type": "scatterpolargl"
           }
          ],
          "scatterternary": [
           {
            "marker": {
             "colorbar": {
              "outlinewidth": 0,
              "ticks": ""
             }
            },
            "type": "scatterternary"
           }
          ],
          "surface": [
           {
            "colorbar": {
             "outlinewidth": 0,
             "ticks": ""
            },
            "colorscale": [
             [
              0,
              "#0d0887"
             ],
             [
              0.1111111111111111,
              "#46039f"
             ],
             [
              0.2222222222222222,
              "#7201a8"
             ],
             [
              0.3333333333333333,
              "#9c179e"
             ],
             [
              0.4444444444444444,
              "#bd3786"
             ],
             [
              0.5555555555555556,
              "#d8576b"
             ],
             [
              0.6666666666666666,
              "#ed7953"
             ],
             [
              0.7777777777777778,
              "#fb9f3a"
             ],
             [
              0.8888888888888888,
              "#fdca26"
             ],
             [
              1,
              "#f0f921"
             ]
            ],
            "type": "surface"
           }
          ],
          "table": [
           {
            "cells": {
             "fill": {
              "color": "#506784"
             },
             "line": {
              "color": "rgb(17,17,17)"
             }
            },
            "header": {
             "fill": {
              "color": "#2a3f5f"
             },
             "line": {
              "color": "rgb(17,17,17)"
             }
            },
            "type": "table"
           }
          ]
         },
         "layout": {
          "annotationdefaults": {
           "arrowcolor": "#f2f5fa",
           "arrowhead": 0,
           "arrowwidth": 1
          },
          "autotypenumbers": "strict",
          "coloraxis": {
           "colorbar": {
            "outlinewidth": 0,
            "ticks": ""
           }
          },
          "colorscale": {
           "diverging": [
            [
             0,
             "#8e0152"
            ],
            [
             0.1,
             "#c51b7d"
            ],
            [
             0.2,
             "#de77ae"
            ],
            [
             0.3,
             "#f1b6da"
            ],
            [
             0.4,
             "#fde0ef"
            ],
            [
             0.5,
             "#f7f7f7"
            ],
            [
             0.6,
             "#e6f5d0"
            ],
            [
             0.7,
             "#b8e186"
            ],
            [
             0.8,
             "#7fbc41"
            ],
            [
             0.9,
             "#4d9221"
            ],
            [
             1,
             "#276419"
            ]
           ],
           "sequential": [
            [
             0,
             "#0d0887"
            ],
            [
             0.1111111111111111,
             "#46039f"
            ],
            [
             0.2222222222222222,
             "#7201a8"
            ],
            [
             0.3333333333333333,
             "#9c179e"
            ],
            [
             0.4444444444444444,
             "#bd3786"
            ],
            [
             0.5555555555555556,
             "#d8576b"
            ],
            [
             0.6666666666666666,
             "#ed7953"
            ],
            [
             0.7777777777777778,
             "#fb9f3a"
            ],
            [
             0.8888888888888888,
             "#fdca26"
            ],
            [
             1,
             "#f0f921"
            ]
           ],
           "sequentialminus": [
            [
             0,
             "#0d0887"
            ],
            [
             0.1111111111111111,
             "#46039f"
            ],
            [
             0.2222222222222222,
             "#7201a8"
            ],
            [
             0.3333333333333333,
             "#9c179e"
            ],
            [
             0.4444444444444444,
             "#bd3786"
            ],
            [
             0.5555555555555556,
             "#d8576b"
            ],
            [
             0.6666666666666666,
             "#ed7953"
            ],
            [
             0.7777777777777778,
             "#fb9f3a"
            ],
            [
             0.8888888888888888,
             "#fdca26"
            ],
            [
             1,
             "#f0f921"
            ]
           ]
          },
          "colorway": [
           "#636efa",
           "#EF553B",
           "#00cc96",
           "#ab63fa",
           "#FFA15A",
           "#19d3f3",
           "#FF6692",
           "#B6E880",
           "#FF97FF",
           "#FECB52"
          ],
          "font": {
           "color": "#f2f5fa"
          },
          "geo": {
           "bgcolor": "rgb(17,17,17)",
           "lakecolor": "rgb(17,17,17)",
           "landcolor": "rgb(17,17,17)",
           "showlakes": true,
           "showland": true,
           "subunitcolor": "#506784"
          },
          "hoverlabel": {
           "align": "left"
          },
          "hovermode": "closest",
          "mapbox": {
           "style": "dark"
          },
          "paper_bgcolor": "rgb(17,17,17)",
          "plot_bgcolor": "rgb(17,17,17)",
          "polar": {
           "angularaxis": {
            "gridcolor": "#506784",
            "linecolor": "#506784",
            "ticks": ""
           },
           "bgcolor": "rgb(17,17,17)",
           "radialaxis": {
            "gridcolor": "#506784",
            "linecolor": "#506784",
            "ticks": ""
           }
          },
          "scene": {
           "xaxis": {
            "backgroundcolor": "rgb(17,17,17)",
            "gridcolor": "#506784",
            "gridwidth": 2,
            "linecolor": "#506784",
            "showbackground": true,
            "ticks": "",
            "zerolinecolor": "#C8D4E3"
           },
           "yaxis": {
            "backgroundcolor": "rgb(17,17,17)",
            "gridcolor": "#506784",
            "gridwidth": 2,
            "linecolor": "#506784",
            "showbackground": true,
            "ticks": "",
            "zerolinecolor": "#C8D4E3"
           },
           "zaxis": {
            "backgroundcolor": "rgb(17,17,17)",
            "gridcolor": "#506784",
            "gridwidth": 2,
            "linecolor": "#506784",
            "showbackground": true,
            "ticks": "",
            "zerolinecolor": "#C8D4E3"
           }
          },
          "shapedefaults": {
           "line": {
            "color": "#f2f5fa"
           }
          },
          "sliderdefaults": {
           "bgcolor": "#C8D4E3",
           "bordercolor": "rgb(17,17,17)",
           "borderwidth": 1,
           "tickwidth": 0
          },
          "ternary": {
           "aaxis": {
            "gridcolor": "#506784",
            "linecolor": "#506784",
            "ticks": ""
           },
           "baxis": {
            "gridcolor": "#506784",
            "linecolor": "#506784",
            "ticks": ""
           },
           "bgcolor": "rgb(17,17,17)",
           "caxis": {
            "gridcolor": "#506784",
            "linecolor": "#506784",
            "ticks": ""
           }
          },
          "title": {
           "x": 0.05
          },
          "updatemenudefaults": {
           "bgcolor": "#506784",
           "borderwidth": 0
          },
          "xaxis": {
           "automargin": true,
           "gridcolor": "#283442",
           "linecolor": "#506784",
           "ticks": "",
           "title": {
            "standoff": 15
           },
           "zerolinecolor": "#283442",
           "zerolinewidth": 2
          },
          "yaxis": {
           "automargin": true,
           "gridcolor": "#283442",
           "linecolor": "#506784",
           "ticks": "",
           "title": {
            "standoff": 15
           },
           "zerolinecolor": "#283442",
           "zerolinewidth": 2
          }
         }
        },
        "title": {
         "text": "Message Transitions Over Time"
        },
        "xaxis": {
         "anchor": "y",
         "domain": [
          0,
          1
         ],
         "showgrid": true,
         "title": {
          "text": "Timestamp"
         }
        },
        "yaxis": {
         "anchor": "x",
         "domain": [
          0,
          1
         ],
         "showgrid": true,
         "title": {
          "text": "State"
         }
        }
       }
      }
     },
     "metadata": {},
     "output_type": "display_data"
    }
   ],
   "source": [
    "analyze_message_flow(logs100)"
   ]
  },
  {
   "cell_type": "code",
   "execution_count": 6,
   "metadata": {},
   "outputs": [
    {
     "data": {
      "application/vnd.plotly.v1+json": {
       "config": {
        "plotlyServerURL": "https://plot.ly"
       },
       "data": [
        {
         "hovertemplate": "State=pending<br>Time=%{x}<br>message_id=%{y}<extra></extra>",
         "legendgroup": "pending",
         "line": {
          "color": "#636efa",
          "dash": "solid"
         },
         "marker": {
          "symbol": "circle"
         },
         "mode": "lines+markers",
         "name": "pending",
         "showlegend": true,
         "type": "scattergl",
         "x": [
          "2024-12-22T15:06:03.108852",
          "2024-12-22T15:06:06.419458",
          "2024-12-22T15:06:09.794690",
          "2024-12-22T15:06:13.128813",
          "2024-12-22T15:06:16.397107",
          "2024-12-22T15:06:19.833335",
          "2024-12-22T15:06:22.950400",
          "2024-12-22T15:06:26.283522",
          "2024-12-22T15:06:29.413083",
          "2024-12-22T15:06:32.695537",
          "2024-12-22T15:06:36.087284",
          "2024-12-22T15:06:39.216764",
          "2024-12-22T15:06:42.314438",
          "2024-12-22T15:06:45.645848",
          "2024-12-22T15:06:48.927216",
          "2024-12-22T15:06:51.989074",
          "2024-12-22T15:06:55.243303",
          "2024-12-22T15:06:58.519184",
          "2024-12-22T15:07:01.810331",
          "2024-12-22T15:07:04.879555",
          "2024-12-22T15:07:08.132312",
          "2024-12-22T15:07:11.219699",
          "2024-12-22T15:07:14.465503",
          "2024-12-22T15:07:17.816519",
          "2024-12-22T15:07:21.185561",
          "2024-12-22T15:07:24.375581",
          "2024-12-22T15:07:27.732826",
          "2024-12-22T15:07:30.951105",
          "2024-12-22T15:07:34.046215",
          "2024-12-22T15:07:37.174424",
          "2024-12-22T15:07:40.481390",
          "2024-12-22T15:07:43.775413",
          "2024-12-22T15:07:46.999867",
          "2024-12-22T15:07:50.096968",
          "2024-12-22T15:07:53.461134",
          "2024-12-22T15:07:56.474154",
          "2024-12-22T15:07:59.681800",
          "2024-12-22T15:08:02.978499",
          "2024-12-22T15:08:06.126467",
          "2024-12-22T15:08:09.211040",
          "2024-12-22T15:08:12.261996",
          "2024-12-22T15:08:15.369198",
          "2024-12-22T15:08:18.475186",
          "2024-12-22T15:08:21.595034",
          "2024-12-22T15:08:24.672434",
          "2024-12-22T15:08:27.835394",
          "2024-12-22T15:08:31.125064",
          "2024-12-22T15:08:34.358625",
          "2024-12-22T15:08:37.478023",
          "2024-12-22T15:08:40.719732",
          "2024-12-22T15:08:43.818782",
          "2024-12-22T15:08:47.013038",
          "2024-12-22T15:08:50.058812",
          "2024-12-22T15:08:53.345226",
          "2024-12-22T15:08:56.373049",
          "2024-12-22T15:08:59.435626",
          "2024-12-22T15:09:02.720005",
          "2024-12-22T15:09:05.962948",
          "2024-12-22T15:09:09.019329",
          "2024-12-22T15:09:12.114410",
          "2024-12-22T15:09:15.374966",
          "2024-12-22T15:09:18.668166",
          "2024-12-22T15:09:21.986329",
          "2024-12-22T15:09:25.050658",
          "2024-12-22T15:09:28.094551",
          "2024-12-22T15:09:31.200326",
          "2024-12-22T15:09:34.300568",
          "2024-12-22T15:09:37.426615",
          "2024-12-22T15:09:40.686282",
          "2024-12-22T15:09:44.001601",
          "2024-12-22T15:09:47.045347",
          "2024-12-22T15:09:50.113241",
          "2024-12-22T15:09:53.396066",
          "2024-12-22T15:09:56.651556",
          "2024-12-22T15:09:59.870642",
          "2024-12-22T15:10:03.133833",
          "2024-12-22T15:10:06.402375",
          "2024-12-22T15:10:09.518977",
          "2024-12-22T15:10:12.813630",
          "2024-12-22T15:10:16.046751",
          "2024-12-22T15:10:19.305283",
          "2024-12-22T15:10:22.397806",
          "2024-12-22T15:10:25.481632",
          "2024-12-22T15:10:28.735229",
          "2024-12-22T15:10:32.104763",
          "2024-12-22T15:10:35.286973",
          "2024-12-22T15:10:38.570970",
          "2024-12-22T15:10:41.701644",
          "2024-12-22T15:10:44.811063",
          "2024-12-22T15:10:48.081620",
          "2024-12-22T15:10:51.359689",
          "2024-12-22T15:10:54.625853",
          "2024-12-22T15:10:57.906090",
          "2024-12-22T15:11:00.985382",
          "2024-12-22T15:11:04.114767",
          "2024-12-22T15:11:07.217170",
          "2024-12-22T15:11:10.296112",
          "2024-12-22T15:11:13.371236",
          "2024-12-22T15:11:16.387623",
          "2024-12-22T15:11:19.666176",
          "2024-12-22T15:11:22.748427",
          "2024-12-22T15:11:25.998004",
          "2024-12-22T15:11:29.039112",
          "2024-12-22T15:11:32.107787",
          "2024-12-22T15:11:35.368223",
          "2024-12-22T15:11:38.423158",
          "2024-12-22T15:11:41.779991",
          "2024-12-22T15:11:45.063055",
          "2024-12-22T15:11:48.069848",
          "2024-12-22T15:11:51.300644",
          "2024-12-22T15:11:54.396769",
          "2024-12-22T15:11:57.690500",
          "2024-12-22T15:12:00.795014",
          "2024-12-22T15:12:03.881044",
          "2024-12-22T15:12:06.989070",
          "2024-12-22T15:12:10.092195",
          "2024-12-22T15:12:13.337323",
          "2024-12-22T15:12:16.599013",
          "2024-12-22T15:12:19.992558",
          "2024-12-22T15:12:24.070527",
          "2024-12-22T15:12:27.313468",
          "2024-12-22T15:12:30.680987",
          "2024-12-22T15:12:33.757629",
          "2024-12-22T15:12:36.857403",
          "2024-12-22T15:12:40.210271",
          "2024-12-22T15:12:43.304485",
          "2024-12-22T15:12:46.716669",
          "2024-12-22T15:12:49.893754",
          "2024-12-22T15:12:52.991269",
          "2024-12-22T15:12:56.157583",
          "2024-12-22T15:12:59.351939",
          "2024-12-22T15:13:02.461034",
          "2024-12-22T15:13:05.691025",
          "2024-12-22T15:13:08.762099",
          "2024-12-22T15:13:11.799104",
          "2024-12-22T15:13:15.017822",
          "2024-12-22T15:13:18.260223",
          "2024-12-22T15:13:21.464832",
          "2024-12-22T15:13:24.831459",
          "2024-12-22T15:13:27.948739",
          "2024-12-22T15:13:31.043273",
          "2024-12-22T15:13:34.085863",
          "2024-12-22T15:13:37.166667",
          "2024-12-22T15:13:40.471525",
          "2024-12-22T15:13:43.565158",
          "2024-12-22T15:13:46.675598",
          "2024-12-22T15:13:49.816899",
          "2024-12-22T15:13:53.056025",
          "2024-12-22T15:13:56.198492",
          "2024-12-22T15:13:59.303252",
          "2024-12-22T15:14:02.636528",
          "2024-12-22T15:14:05.761632",
          "2024-12-22T15:14:09.122032",
          "2024-12-22T15:14:12.179222",
          "2024-12-22T15:14:15.261752",
          "2024-12-22T15:14:18.390749",
          "2024-12-22T15:14:21.783888",
          "2024-12-22T15:14:25.117908",
          "2024-12-22T15:14:28.218616",
          "2024-12-22T15:14:31.301042",
          "2024-12-22T15:14:34.417552",
          "2024-12-22T15:14:37.778978",
          "2024-12-22T15:14:41.162276",
          "2024-12-22T15:14:44.308901",
          "2024-12-22T15:14:47.394546",
          "2024-12-22T15:14:50.465663",
          "2024-12-22T15:14:53.815355",
          "2024-12-22T15:14:56.943273",
          "2024-12-22T15:15:00.020805",
          "2024-12-22T15:15:03.195907",
          "2024-12-22T15:15:06.322332",
          "2024-12-22T15:15:09.437689",
          "2024-12-22T15:15:12.535435",
          "2024-12-22T15:15:15.846531",
          "2024-12-22T15:15:19.138874",
          "2024-12-22T15:15:22.273768",
          "2024-12-22T15:15:25.372548",
          "2024-12-22T15:15:28.439388",
          "2024-12-22T15:15:31.774941",
          "2024-12-22T15:15:34.832686",
          "2024-12-22T15:15:37.953569",
          "2024-12-22T15:15:41.120706",
          "2024-12-22T15:15:44.256956",
          "2024-12-22T15:15:47.336495",
          "2024-12-22T15:15:50.727259",
          "2024-12-22T15:15:53.979651",
          "2024-12-22T15:15:57.268292",
          "2024-12-22T15:16:00.363172",
          "2024-12-22T15:16:03.500865",
          "2024-12-22T15:16:06.692594",
          "2024-12-22T15:16:09.803239",
          "2024-12-22T15:16:13.188374",
          "2024-12-22T15:16:16.457371",
          "2024-12-22T15:16:19.603740",
          "2024-12-22T15:16:22.703279",
          "2024-12-22T15:16:27.018855",
          "2024-12-22T15:16:30.261233",
          "2024-12-22T15:16:33.427472",
          "2024-12-22T15:16:36.789287",
          "2024-12-22T15:16:39.954927",
          "2024-12-22T15:16:43.122915",
          "2024-12-22T15:16:46.542452",
          "2024-12-22T15:16:49.644289",
          "2024-12-22T15:16:52.786257",
          "2024-12-22T15:16:56.155659",
          "2024-12-22T15:16:59.301063",
          "2024-12-22T15:17:02.408260",
          "2024-12-22T15:17:05.426563",
          "2024-12-22T15:17:08.528647",
          "2024-12-22T15:17:11.795448",
          "2024-12-22T15:17:15.082602",
          "2024-12-22T15:17:18.383746",
          "2024-12-22T15:17:21.523450",
          "2024-12-22T15:17:24.767842",
          "2024-12-22T15:17:27.848515",
          "2024-12-22T15:17:30.989577",
          "2024-12-22T15:17:34.140285",
          "2024-12-22T15:17:37.340969",
          "2024-12-22T15:17:40.705018",
          "2024-12-22T15:17:43.996840",
          "2024-12-22T15:17:47.233882",
          "2024-12-22T15:17:50.257106",
          "2024-12-22T15:17:53.567569",
          "2024-12-22T15:17:56.675102",
          "2024-12-22T15:17:59.855994",
          "2024-12-22T15:18:03.005773",
          "2024-12-22T15:18:06.212701",
          "2024-12-22T15:18:09.833852",
          "2024-12-22T15:18:13.031793",
          "2024-12-22T15:18:16.321560",
          "2024-12-22T15:18:19.458167",
          "2024-12-22T15:18:22.800508",
          "2024-12-22T15:18:26.115456",
          "2024-12-22T15:18:29.234419",
          "2024-12-22T15:18:32.510071",
          "2024-12-22T15:18:35.837886",
          "2024-12-22T15:18:38.966678",
          "2024-12-22T15:18:42.085898",
          "2024-12-22T15:18:45.448825",
          "2024-12-22T15:18:48.541977",
          "2024-12-22T15:18:51.641250",
          "2024-12-22T15:18:54.986627",
          "2024-12-22T15:18:58.047968",
          "2024-12-22T15:19:01.163714",
          "2024-12-22T15:19:04.474533",
          "2024-12-22T15:19:07.733133",
          "2024-12-22T15:19:11.001260",
          "2024-12-22T15:19:14.321889",
          "2024-12-22T15:19:17.351329",
          "2024-12-22T15:19:20.716605",
          "2024-12-22T15:19:23.823414",
          "2024-12-22T15:19:27.026255",
          "2024-12-22T15:19:30.266200",
          "2024-12-22T15:19:33.364334",
          "2024-12-22T15:19:36.452214",
          "2024-12-22T15:19:39.760847",
          "2024-12-22T15:19:42.983331",
          "2024-12-22T15:19:46.272094",
          "2024-12-22T15:19:49.353697",
          "2024-12-22T15:19:52.476895",
          "2024-12-22T15:19:55.507460",
          "2024-12-22T15:19:58.762208",
          "2024-12-22T15:20:02.083675",
          "2024-12-22T15:20:05.218930",
          "2024-12-22T15:20:08.536616",
          "2024-12-22T15:20:11.623609",
          "2024-12-22T15:20:14.936794",
          "2024-12-22T15:20:18.031840",
          "2024-12-22T15:20:21.224808",
          "2024-12-22T15:20:24.363098",
          "2024-12-22T15:20:27.502977",
          "2024-12-22T15:20:30.601919",
          "2024-12-22T15:20:33.707419",
          "2024-12-22T15:20:36.826880",
          "2024-12-22T15:20:40.088974",
          "2024-12-22T15:20:43.255953",
          "2024-12-22T15:20:46.569775",
          "2024-12-22T15:20:49.633804",
          "2024-12-22T15:20:52.883964",
          "2024-12-22T15:20:56.165364",
          "2024-12-22T15:20:59.250195",
          "2024-12-22T15:21:02.530633",
          "2024-12-22T15:21:05.773709",
          "2024-12-22T15:21:08.938854",
          "2024-12-22T15:21:12.137636",
          "2024-12-22T15:21:15.217504",
          "2024-12-22T15:21:18.520189",
          "2024-12-22T15:21:21.684266",
          "2024-12-22T15:21:24.933149",
          "2024-12-22T15:21:28.162123",
          "2024-12-22T15:21:31.451791",
          "2024-12-22T15:21:34.702956",
          "2024-12-22T15:21:37.988778",
          "2024-12-22T15:21:41.077879",
          "2024-12-22T15:21:44.180210",
          "2024-12-22T15:21:47.288042",
          "2024-12-22T15:21:50.363082",
          "2024-12-22T15:21:53.429464",
          "2024-12-22T15:21:56.514444",
          "2024-12-22T15:21:59.576920",
          "2024-12-22T15:22:02.727391",
          "2024-12-22T15:22:05.846241",
          "2024-12-22T15:22:08.956421",
          "2024-12-22T15:22:12.093010",
          "2024-12-22T15:22:15.187987",
          "2024-12-22T15:22:18.304900",
          "2024-12-22T15:22:21.469043",
          "2024-12-22T15:22:24.532830",
          "2024-12-22T15:22:27.770702",
          "2024-12-22T15:22:30.882515",
          "2024-12-22T15:22:34.220841",
          "2024-12-22T15:22:37.307979",
          "2024-12-22T15:22:40.446360",
          "2024-12-22T15:22:43.500365",
          "2024-12-22T15:22:46.755868",
          "2024-12-22T15:22:49.993256",
          "2024-12-22T15:22:53.109455",
          "2024-12-22T15:22:56.481904",
          "2024-12-22T15:22:59.579484",
          "2024-12-22T15:23:02.927901",
          "2024-12-22T15:23:06.033210",
          "2024-12-22T15:23:09.110181",
          "2024-12-22T15:23:12.246580",
          "2024-12-22T15:23:15.359860",
          "2024-12-22T15:23:18.507059",
          "2024-12-22T15:23:21.759190",
          "2024-12-22T15:23:24.908501",
          "2024-12-22T15:23:27.961540",
          "2024-12-22T15:23:31.021182",
          "2024-12-22T15:23:34.126979",
          "2024-12-22T15:23:37.215328",
          "2024-12-22T15:23:40.343497",
          "2024-12-22T15:23:43.379513",
          "2024-12-22T15:23:46.518309",
          "2024-12-22T15:23:49.763357",
          "2024-12-22T15:23:52.879937",
          "2024-12-22T15:23:56.129924",
          "2024-12-22T15:23:59.206751",
          "2024-12-22T15:24:02.466266",
          "2024-12-22T15:24:05.547734",
          "2024-12-22T15:24:08.874221",
          "2024-12-22T15:24:12.169362",
          "2024-12-22T15:24:15.379752",
          "2024-12-22T15:24:18.550786",
          "2024-12-22T15:24:21.771784",
          "2024-12-22T15:24:25.077297",
          "2024-12-22T15:24:29.054428",
          "2024-12-22T15:24:32.161627",
          "2024-12-22T15:24:35.321091",
          "2024-12-22T15:24:38.494065",
          "2024-12-22T15:24:41.629707",
          "2024-12-22T15:24:44.677293",
          "2024-12-22T15:24:47.775805",
          "2024-12-22T15:24:50.886233",
          "2024-12-22T15:24:53.998588",
          "2024-12-22T15:24:57.066705",
          "2024-12-22T15:25:00.182205",
          "2024-12-22T15:25:03.266132",
          "2024-12-22T15:25:06.315895",
          "2024-12-22T15:25:09.374466",
          "2024-12-22T15:25:12.656821",
          "2024-12-22T15:25:15.752799",
          "2024-12-22T15:25:18.899172",
          "2024-12-22T15:25:22.060006",
          "2024-12-22T15:25:25.145600",
          "2024-12-22T15:25:28.190321",
          "2024-12-22T15:25:31.250782",
          "2024-12-22T15:25:34.341772",
          "2024-12-22T15:25:37.461200",
          "2024-12-22T15:25:40.839786",
          "2024-12-22T15:25:44.107064",
          "2024-12-22T15:25:47.184518",
          "2024-12-22T15:25:50.275368",
          "2024-12-22T15:25:53.529688",
          "2024-12-22T15:25:56.637151",
          "2024-12-22T15:25:59.701801",
          "2024-12-22T15:26:03.070116",
          "2024-12-22T15:26:06.174091",
          "2024-12-22T15:26:09.477720",
          "2024-12-22T15:26:12.588075",
          "2024-12-22T15:26:15.884647",
          "2024-12-22T15:26:19.050277",
          "2024-12-22T15:26:22.188374",
          "2024-12-22T15:26:25.553326",
          "2024-12-22T15:26:28.661154",
          "2024-12-22T15:26:31.731911",
          "2024-12-22T15:26:34.830312",
          "2024-12-22T15:26:37.968209",
          "2024-12-22T15:26:41.115610",
          "2024-12-22T15:26:44.446907",
          "2024-12-22T15:26:47.532478",
          "2024-12-22T15:26:50.614609",
          "2024-12-22T15:26:53.714720",
          "2024-12-22T15:26:56.830960",
          "2024-12-22T15:26:59.939234",
          "2024-12-22T15:27:03.073479",
          "2024-12-22T15:27:06.174869",
          "2024-12-22T15:27:09.339934",
          "2024-12-22T15:27:12.641590",
          "2024-12-22T15:27:15.857154",
          "2024-12-22T15:27:19.089814",
          "2024-12-22T15:27:22.189532",
          "2024-12-22T15:27:25.441026",
          "2024-12-22T15:27:28.765273",
          "2024-12-22T15:27:32.055037",
          "2024-12-22T15:27:35.115935",
          "2024-12-22T15:27:38.227622",
          "2024-12-22T15:27:41.463862",
          "2024-12-22T15:27:44.552262",
          "2024-12-22T15:27:47.857630",
          "2024-12-22T15:27:51.094723",
          "2024-12-22T15:27:54.130996",
          "2024-12-22T15:27:57.180347",
          "2024-12-22T15:28:00.482410",
          "2024-12-22T15:28:03.593177",
          "2024-12-22T15:28:06.764680",
          "2024-12-22T15:28:09.865300",
          "2024-12-22T15:28:12.998554",
          "2024-12-22T15:28:16.340844",
          "2024-12-22T15:28:19.653717",
          "2024-12-22T15:28:22.835713",
          "2024-12-22T15:28:26.135702",
          "2024-12-22T15:28:30.385988",
          "2024-12-22T15:28:33.510831",
          "2024-12-22T15:28:36.636531",
          "2024-12-22T15:28:39.734436",
          "2024-12-22T15:28:42.820656",
          "2024-12-22T15:28:45.913731",
          "2024-12-22T15:28:49.185659",
          "2024-12-22T15:28:52.284253",
          "2024-12-22T15:28:55.645565",
          "2024-12-22T15:28:58.966843",
          "2024-12-22T15:29:02.082683",
          "2024-12-22T15:29:05.368325",
          "2024-12-22T15:29:08.469498",
          "2024-12-22T15:29:11.575521",
          "2024-12-22T15:29:14.644191",
          "2024-12-22T15:29:17.728955",
          "2024-12-22T15:29:20.863321",
          "2024-12-22T15:29:24.089684",
          "2024-12-22T15:29:27.151505",
          "2024-12-22T15:29:30.174012",
          "2024-12-22T15:29:33.291067",
          "2024-12-22T15:29:36.485463",
          "2024-12-22T15:29:39.855451",
          "2024-12-22T15:29:43.154664",
          "2024-12-22T15:29:46.635680",
          "2024-12-22T15:29:49.858624",
          "2024-12-22T15:29:52.956931",
          "2024-12-22T15:29:56.042095",
          "2024-12-22T15:29:59.311412",
          "2024-12-22T15:30:02.472766",
          "2024-12-22T15:30:05.613677",
          "2024-12-22T15:30:08.798694",
          "2024-12-22T15:30:11.887389",
          "2024-12-22T15:30:15.057644",
          "2024-12-22T15:30:18.155493",
          "2024-12-22T15:30:21.549544",
          "2024-12-22T15:30:24.653119",
          "2024-12-22T15:30:27.714838",
          "2024-12-22T15:30:30.977949",
          "2024-12-22T15:30:34.097627",
          "2024-12-22T15:30:37.147673",
          "2024-12-22T15:30:40.542553",
          "2024-12-22T15:30:43.661370",
          "2024-12-22T15:30:46.978970",
          "2024-12-22T15:30:50.223392",
          "2024-12-22T15:30:53.303697",
          "2024-12-22T15:30:56.562389",
          "2024-12-22T15:30:59.695252",
          "2024-12-22T15:31:02.808967",
          "2024-12-22T15:31:05.821550",
          "2024-12-22T15:31:08.918970",
          "2024-12-22T15:31:11.995686",
          "2024-12-22T15:31:15.244602",
          "2024-12-22T15:31:18.341257",
          "2024-12-22T15:31:21.592937",
          "2024-12-22T15:31:24.672357",
          "2024-12-22T15:31:27.737736",
          "2024-12-22T15:31:30.789740",
          "2024-12-22T15:31:33.894734",
          "2024-12-22T15:31:36.966690",
          "2024-12-22T15:31:40.074660",
          "2024-12-22T15:31:43.181212",
          "2024-12-22T15:31:46.300025",
          "2024-12-22T15:31:49.338742",
          "2024-12-22T15:31:52.659526",
          "2024-12-22T15:31:55.910908",
          "2024-12-22T15:31:59.163656",
          "2024-12-22T15:32:02.260462",
          "2024-12-22T15:32:05.366841",
          "2024-12-22T15:32:08.445649",
          "2024-12-22T15:32:11.497768",
          "2024-12-22T15:32:14.621784",
          "2024-12-22T15:32:17.722299",
          "2024-12-22T15:32:24.198048",
          "2024-12-22T15:32:27.218285",
          "2024-12-22T15:32:30.507692",
          "2024-12-22T15:32:34.324549",
          "2024-12-22T15:32:37.450179"
         ],
         "xaxis": "x",
         "y": [
          1,
          2,
          3,
          4,
          5,
          6,
          7,
          8,
          9,
          10,
          11,
          12,
          13,
          14,
          15,
          16,
          17,
          18,
          19,
          20,
          21,
          22,
          23,
          24,
          25,
          26,
          27,
          28,
          29,
          30,
          31,
          32,
          33,
          34,
          35,
          36,
          37,
          38,
          39,
          40,
          41,
          42,
          43,
          44,
          45,
          46,
          47,
          48,
          49,
          50,
          51,
          52,
          53,
          54,
          55,
          56,
          57,
          58,
          59,
          60,
          61,
          62,
          63,
          64,
          65,
          66,
          67,
          68,
          69,
          70,
          71,
          72,
          73,
          74,
          75,
          76,
          77,
          78,
          79,
          80,
          81,
          82,
          83,
          84,
          85,
          86,
          87,
          88,
          89,
          90,
          91,
          92,
          93,
          94,
          95,
          96,
          97,
          98,
          99,
          100,
          101,
          102,
          103,
          104,
          105,
          106,
          107,
          108,
          109,
          110,
          111,
          112,
          113,
          114,
          115,
          116,
          117,
          118,
          119,
          120,
          121,
          122,
          123,
          124,
          125,
          126,
          127,
          128,
          129,
          130,
          131,
          132,
          133,
          134,
          135,
          136,
          137,
          138,
          139,
          140,
          141,
          142,
          143,
          144,
          145,
          146,
          147,
          148,
          149,
          150,
          151,
          152,
          153,
          154,
          155,
          156,
          157,
          158,
          159,
          160,
          161,
          162,
          163,
          164,
          165,
          166,
          167,
          168,
          169,
          170,
          171,
          172,
          173,
          174,
          175,
          176,
          177,
          178,
          179,
          180,
          181,
          182,
          183,
          184,
          185,
          186,
          187,
          188,
          189,
          190,
          191,
          192,
          193,
          194,
          195,
          196,
          197,
          198,
          199,
          200,
          201,
          202,
          203,
          204,
          205,
          206,
          207,
          208,
          209,
          210,
          211,
          212,
          213,
          214,
          215,
          216,
          217,
          218,
          219,
          220,
          221,
          222,
          223,
          224,
          225,
          226,
          227,
          228,
          229,
          230,
          231,
          232,
          233,
          234,
          235,
          236,
          237,
          238,
          239,
          240,
          241,
          242,
          243,
          244,
          245,
          246,
          247,
          248,
          249,
          250,
          251,
          252,
          253,
          254,
          255,
          256,
          257,
          258,
          259,
          260,
          261,
          262,
          263,
          264,
          265,
          266,
          267,
          268,
          269,
          270,
          271,
          272,
          273,
          274,
          275,
          276,
          277,
          278,
          279,
          280,
          281,
          282,
          283,
          284,
          285,
          286,
          287,
          288,
          289,
          290,
          291,
          292,
          293,
          294,
          295,
          296,
          297,
          298,
          299,
          300,
          301,
          302,
          303,
          304,
          305,
          306,
          307,
          308,
          309,
          310,
          311,
          312,
          313,
          314,
          315,
          316,
          317,
          318,
          319,
          320,
          321,
          322,
          323,
          324,
          325,
          326,
          327,
          328,
          329,
          330,
          331,
          332,
          333,
          334,
          335,
          336,
          337,
          338,
          339,
          340,
          341,
          342,
          343,
          344,
          345,
          346,
          347,
          348,
          349,
          350,
          351,
          352,
          353,
          354,
          355,
          356,
          357,
          358,
          359,
          360,
          361,
          362,
          363,
          364,
          365,
          366,
          367,
          368,
          369,
          370,
          371,
          372,
          373,
          374,
          375,
          376,
          377,
          378,
          379,
          380,
          381,
          382,
          383,
          384,
          385,
          386,
          387,
          388,
          389,
          390,
          391,
          392,
          393,
          394,
          395,
          396,
          397,
          398,
          399,
          400,
          401,
          402,
          403,
          404,
          405,
          406,
          407,
          408,
          409,
          410,
          411,
          412,
          413,
          414,
          415,
          416,
          417,
          418,
          419,
          420,
          421,
          422,
          423,
          424,
          425,
          426,
          427,
          428,
          429,
          430,
          431,
          432,
          433,
          434,
          435,
          436,
          437,
          438,
          439,
          440,
          441,
          442,
          443,
          444,
          445,
          446,
          447,
          448,
          449,
          450,
          451,
          452,
          453,
          454,
          455,
          456,
          457,
          458,
          459,
          460,
          461,
          462,
          463,
          464,
          465,
          466,
          467,
          468,
          469,
          470,
          471,
          472,
          473,
          474,
          475,
          476,
          477,
          478,
          479,
          480,
          481,
          482,
          483,
          484,
          485,
          486,
          487,
          488,
          489,
          490,
          491,
          492,
          493,
          494,
          495,
          496,
          497,
          498,
          499,
          500
         ],
         "yaxis": "y"
        },
        {
         "hovertemplate": "State=active<br>Time=%{x}<br>message_id=%{y}<extra></extra>",
         "legendgroup": "active",
         "line": {
          "color": "#EF553B",
          "dash": "solid"
         },
         "marker": {
          "symbol": "circle"
         },
         "mode": "lines+markers",
         "name": "active",
         "showlegend": true,
         "type": "scattergl",
         "x": [
          "2024-12-22T15:06:05.742522",
          "2024-12-22T15:06:10.939153",
          "2024-12-22T15:06:10.939153",
          "2024-12-22T15:06:15.851421",
          "2024-12-22T15:06:25.949804",
          "2024-12-22T15:06:25.949804",
          "2024-12-22T15:06:25.949804",
          "2024-12-22T15:06:31.079856",
          "2024-12-22T15:06:31.079856",
          "2024-12-22T15:06:51.378923",
          "2024-12-22T15:06:51.378923",
          "2024-12-22T15:06:51.378923",
          "2024-12-22T15:06:51.378923",
          "2024-12-22T15:06:51.378923",
          "2024-12-22T15:06:56.107333",
          "2024-12-22T15:06:56.107333",
          "2024-12-22T15:06:56.107333",
          "2024-12-22T15:07:26.335969",
          "2024-12-22T15:07:26.335969",
          "2024-12-22T15:07:26.335969",
          "2024-12-22T15:07:26.335969",
          "2024-12-22T15:07:26.335969",
          "2024-12-22T15:07:41.698395",
          "2024-12-22T15:07:41.698395",
          "2024-12-22T15:07:41.698395",
          "2024-12-22T15:07:41.698395",
          "2024-12-22T15:07:41.698395",
          "2024-12-22T15:08:16.579404",
          "2024-12-22T15:08:16.579404",
          "2024-12-22T15:08:16.579404",
          "2024-12-22T15:08:16.579404",
          "2024-12-22T15:08:16.579404",
          "2024-12-22T15:08:31.942899",
          "2024-12-22T15:08:31.942899",
          "2024-12-22T15:08:31.942899",
          "2024-12-22T15:08:31.942899",
          "2024-12-22T15:08:31.942899",
          "2024-12-22T15:09:06.795918",
          "2024-12-22T15:09:06.795918",
          "2024-12-22T15:09:06.795918",
          "2024-12-22T15:09:06.795918",
          "2024-12-22T15:09:06.795918",
          "2024-12-22T15:09:22.182871",
          "2024-12-22T15:09:22.182871",
          "2024-12-22T15:09:22.182871",
          "2024-12-22T15:09:22.182871",
          "2024-12-22T15:09:22.182871",
          "2024-12-22T15:09:57.017228",
          "2024-12-22T15:09:57.017228",
          "2024-12-22T15:09:57.017228",
          "2024-12-22T15:09:57.017228",
          "2024-12-22T15:09:57.017228",
          "2024-12-22T15:10:12.409002",
          "2024-12-22T15:10:12.409002",
          "2024-12-22T15:10:12.409002",
          "2024-12-22T15:10:12.409002",
          "2024-12-22T15:10:12.409002",
          "2024-12-22T15:10:47.237857",
          "2024-12-22T15:10:47.237857",
          "2024-12-22T15:10:47.237857",
          "2024-12-22T15:10:47.237857",
          "2024-12-22T15:10:47.237857",
          "2024-12-22T15:11:02.633393",
          "2024-12-22T15:11:02.633393",
          "2024-12-22T15:11:02.633393",
          "2024-12-22T15:11:02.633393",
          "2024-12-22T15:11:02.633393",
          "2024-12-22T15:11:37.478263",
          "2024-12-22T15:11:37.478263",
          "2024-12-22T15:11:37.478263",
          "2024-12-22T15:11:37.478263",
          "2024-12-22T15:11:37.478263",
          "2024-12-22T15:11:52.877149",
          "2024-12-22T15:11:52.877149",
          "2024-12-22T15:11:52.877149",
          "2024-12-22T15:11:52.877149",
          "2024-12-22T15:11:52.877149",
          "2024-12-22T15:12:27.689268",
          "2024-12-22T15:12:27.689268",
          "2024-12-22T15:12:27.689268",
          "2024-12-22T15:12:27.689268",
          "2024-12-22T15:12:27.689268",
          "2024-12-22T15:12:43.103807",
          "2024-12-22T15:12:43.103807",
          "2024-12-22T15:12:43.103807",
          "2024-12-22T15:12:43.103807",
          "2024-12-22T15:12:43.103807",
          "2024-12-22T15:13:17.910899",
          "2024-12-22T15:13:17.910899",
          "2024-12-22T15:13:17.910899",
          "2024-12-22T15:13:17.910899",
          "2024-12-22T15:13:17.910899",
          "2024-12-22T15:13:33.403361",
          "2024-12-22T15:13:33.403361",
          "2024-12-22T15:13:33.403361",
          "2024-12-22T15:13:33.403361",
          "2024-12-22T15:13:33.403361",
          "2024-12-22T15:14:08.204540",
          "2024-12-22T15:14:08.204540",
          "2024-12-22T15:14:08.204540",
          "2024-12-22T15:14:08.204540",
          "2024-12-22T15:14:08.204540",
          "2024-12-22T15:14:23.627960",
          "2024-12-22T15:14:23.627960",
          "2024-12-22T15:14:23.627960",
          "2024-12-22T15:14:23.627960",
          "2024-12-22T15:14:23.627960",
          "2024-12-22T15:14:58.435780",
          "2024-12-22T15:14:58.435780",
          "2024-12-22T15:14:58.435780",
          "2024-12-22T15:14:58.435780",
          "2024-12-22T15:14:58.435780",
          "2024-12-22T15:15:13.870585",
          "2024-12-22T15:15:13.870585",
          "2024-12-22T15:15:13.870585",
          "2024-12-22T15:15:13.870585",
          "2024-12-22T15:15:13.870585",
          "2024-12-22T15:15:48.648914",
          "2024-12-22T15:15:48.648914",
          "2024-12-22T15:15:48.648914",
          "2024-12-22T15:15:48.648914",
          "2024-12-22T15:15:48.648914",
          "2024-12-22T15:16:04.123577",
          "2024-12-22T15:16:04.123577",
          "2024-12-22T15:16:04.123577",
          "2024-12-22T15:16:04.123577",
          "2024-12-22T15:16:04.123577",
          "2024-12-22T15:16:38.863060",
          "2024-12-22T15:16:38.863060",
          "2024-12-22T15:16:38.863060",
          "2024-12-22T15:16:38.863060",
          "2024-12-22T15:16:38.863060",
          "2024-12-22T15:16:54.349192",
          "2024-12-22T15:16:54.349192",
          "2024-12-22T15:16:54.349192",
          "2024-12-22T15:16:54.349192",
          "2024-12-22T15:16:54.349192",
          "2024-12-22T15:17:29.200323",
          "2024-12-22T15:17:29.200323",
          "2024-12-22T15:17:29.200323",
          "2024-12-22T15:17:29.200323",
          "2024-12-22T15:17:29.200323",
          "2024-12-22T15:17:44.664540",
          "2024-12-22T15:17:44.664540",
          "2024-12-22T15:17:44.664540",
          "2024-12-22T15:17:44.664540",
          "2024-12-22T15:17:44.664540",
          "2024-12-22T15:18:19.429042",
          "2024-12-22T15:18:19.429042",
          "2024-12-22T15:18:19.429042",
          "2024-12-22T15:18:19.429042",
          "2024-12-22T15:18:19.429042",
          "2024-12-22T15:18:34.935307",
          "2024-12-22T15:18:34.935307",
          "2024-12-22T15:18:34.935307",
          "2024-12-22T15:18:34.935307",
          "2024-12-22T15:18:34.935307",
          "2024-12-22T15:19:09.636596",
          "2024-12-22T15:19:09.636596",
          "2024-12-22T15:19:09.636596",
          "2024-12-22T15:19:09.636596",
          "2024-12-22T15:19:09.636596",
          "2024-12-22T15:19:25.170415",
          "2024-12-22T15:19:25.170415",
          "2024-12-22T15:19:25.170415",
          "2024-12-22T15:19:25.170415",
          "2024-12-22T15:19:25.170415",
          "2024-12-22T15:19:59.909023",
          "2024-12-22T15:19:59.909023",
          "2024-12-22T15:19:59.909023",
          "2024-12-22T15:19:59.909023",
          "2024-12-22T15:19:59.909023",
          "2024-12-22T15:20:15.490693",
          "2024-12-22T15:20:15.490693",
          "2024-12-22T15:20:15.490693",
          "2024-12-22T15:20:15.490693",
          "2024-12-22T15:20:15.490693",
          "2024-12-22T15:20:50.151240",
          "2024-12-22T15:20:50.151240",
          "2024-12-22T15:20:50.151240",
          "2024-12-22T15:20:50.151240",
          "2024-12-22T15:20:50.151240",
          "2024-12-22T15:21:05.711725",
          "2024-12-22T15:21:05.711725",
          "2024-12-22T15:21:05.711725",
          "2024-12-22T15:21:05.711725",
          "2024-12-22T15:21:05.711725",
          "2024-12-22T15:21:40.374785",
          "2024-12-22T15:21:40.374785",
          "2024-12-22T15:21:40.374785",
          "2024-12-22T15:21:40.374785",
          "2024-12-22T15:21:40.374785",
          "2024-12-22T15:21:55.956410",
          "2024-12-22T15:21:55.956410",
          "2024-12-22T15:21:55.956410",
          "2024-12-22T15:21:55.956410",
          "2024-12-22T15:21:55.956410",
          "2024-12-22T15:22:30.583886",
          "2024-12-22T15:22:30.583886",
          "2024-12-22T15:22:30.583886",
          "2024-12-22T15:22:30.583886",
          "2024-12-22T15:22:30.583886",
          "2024-12-22T15:22:46.181453",
          "2024-12-22T15:22:46.181453",
          "2024-12-22T15:22:46.181453",
          "2024-12-22T15:22:46.181453",
          "2024-12-22T15:22:46.181453",
          "2024-12-22T15:23:20.968889",
          "2024-12-22T15:23:20.968889",
          "2024-12-22T15:23:20.968889",
          "2024-12-22T15:23:20.968889",
          "2024-12-22T15:23:20.968889",
          "2024-12-22T15:23:36.416304",
          "2024-12-22T15:23:36.416304",
          "2024-12-22T15:23:36.416304",
          "2024-12-22T15:23:36.416304",
          "2024-12-22T15:23:36.416304",
          "2024-12-22T15:24:11.193694",
          "2024-12-22T15:24:11.193694",
          "2024-12-22T15:24:11.193694",
          "2024-12-22T15:24:11.193694",
          "2024-12-22T15:24:11.193694",
          "2024-12-22T15:24:26.638749",
          "2024-12-22T15:24:26.638749",
          "2024-12-22T15:24:26.638749",
          "2024-12-22T15:24:26.638749",
          "2024-12-22T15:24:26.638749",
          "2024-12-22T15:25:01.440248",
          "2024-12-22T15:25:01.440248",
          "2024-12-22T15:25:01.440248",
          "2024-12-22T15:25:01.440248",
          "2024-12-22T15:25:01.440248",
          "2024-12-22T15:25:16.892156",
          "2024-12-22T15:25:16.892156",
          "2024-12-22T15:25:16.892156",
          "2024-12-22T15:25:16.892156",
          "2024-12-22T15:25:16.892156",
          "2024-12-22T15:25:51.724577",
          "2024-12-22T15:25:51.724577",
          "2024-12-22T15:25:51.724577",
          "2024-12-22T15:25:51.724577",
          "2024-12-22T15:25:51.724577",
          "2024-12-22T15:26:07.193322",
          "2024-12-22T15:26:07.193322",
          "2024-12-22T15:26:07.193322",
          "2024-12-22T15:26:07.193322",
          "2024-12-22T15:26:07.193322",
          "2024-12-22T15:26:41.969079",
          "2024-12-22T15:26:41.969079",
          "2024-12-22T15:26:41.969079",
          "2024-12-22T15:26:41.969079",
          "2024-12-22T15:26:41.969079",
          "2024-12-22T15:26:57.416766",
          "2024-12-22T15:26:57.416766",
          "2024-12-22T15:26:57.416766",
          "2024-12-22T15:26:57.416766",
          "2024-12-22T15:26:57.416766",
          "2024-12-22T15:27:32.192623",
          "2024-12-22T15:27:32.192623",
          "2024-12-22T15:27:32.192623",
          "2024-12-22T15:27:32.192623",
          "2024-12-22T15:27:32.192623",
          "2024-12-22T15:27:47.634479",
          "2024-12-22T15:27:47.634479",
          "2024-12-22T15:27:47.634479",
          "2024-12-22T15:27:47.634479",
          "2024-12-22T15:27:47.634479",
          "2024-12-22T15:28:22.422813",
          "2024-12-22T15:28:22.422813",
          "2024-12-22T15:28:22.422813",
          "2024-12-22T15:28:22.422813",
          "2024-12-22T15:28:22.422813",
          "2024-12-22T15:28:37.863423",
          "2024-12-22T15:28:37.863423",
          "2024-12-22T15:28:37.863423",
          "2024-12-22T15:28:37.863423",
          "2024-12-22T15:28:37.863423",
          "2024-12-22T15:29:12.780751",
          "2024-12-22T15:29:12.780751",
          "2024-12-22T15:29:12.780751",
          "2024-12-22T15:29:12.780751",
          "2024-12-22T15:29:12.780751",
          "2024-12-22T15:29:28.138876",
          "2024-12-22T15:29:28.138876",
          "2024-12-22T15:29:28.138876",
          "2024-12-22T15:29:28.138876",
          "2024-12-22T15:29:28.138876",
          "2024-12-22T15:30:03.021921",
          "2024-12-22T15:30:03.021921",
          "2024-12-22T15:30:03.021921",
          "2024-12-22T15:30:03.021921",
          "2024-12-22T15:30:03.021921",
          "2024-12-22T15:30:18.368494",
          "2024-12-22T15:30:18.368494",
          "2024-12-22T15:30:18.368494",
          "2024-12-22T15:30:18.368494",
          "2024-12-22T15:30:18.368494",
          "2024-12-22T15:30:53.266410",
          "2024-12-22T15:30:53.266410",
          "2024-12-22T15:30:53.266410",
          "2024-12-22T15:30:53.266410",
          "2024-12-22T15:30:53.266410",
          "2024-12-22T15:31:08.586407",
          "2024-12-22T15:31:08.586407",
          "2024-12-22T15:31:08.586407",
          "2024-12-22T15:31:08.586407",
          "2024-12-22T15:31:08.586407",
          "2024-12-22T15:31:43.559147",
          "2024-12-22T15:31:43.559147",
          "2024-12-22T15:31:43.559147",
          "2024-12-22T15:31:43.559147",
          "2024-12-22T15:31:43.559147",
          "2024-12-22T15:31:58.917958",
          "2024-12-22T15:31:58.917958",
          "2024-12-22T15:31:58.917958",
          "2024-12-22T15:31:58.917958",
          "2024-12-22T15:31:58.917958",
          "2024-12-22T15:32:33.813793",
          "2024-12-22T15:32:33.813793",
          "2024-12-22T15:32:33.813793",
          "2024-12-22T15:32:33.813793",
          "2024-12-22T15:32:33.813793",
          "2024-12-22T15:32:49.146826",
          "2024-12-22T15:32:49.146826",
          "2024-12-22T15:32:49.146826",
          "2024-12-22T15:32:49.146826",
          "2024-12-22T15:32:49.146826",
          "2024-12-22T15:33:24.029251",
          "2024-12-22T15:33:24.029251",
          "2024-12-22T15:33:24.029251",
          "2024-12-22T15:33:24.029251",
          "2024-12-22T15:33:24.029251",
          "2024-12-22T15:33:39.368576",
          "2024-12-22T15:33:39.368576",
          "2024-12-22T15:33:39.368576",
          "2024-12-22T15:33:39.368576",
          "2024-12-22T15:33:39.368576",
          "2024-12-22T15:34:14.243708",
          "2024-12-22T15:34:14.243708",
          "2024-12-22T15:34:14.243708",
          "2024-12-22T15:34:14.243708",
          "2024-12-22T15:34:14.243708",
          "2024-12-22T15:34:29.659427",
          "2024-12-22T15:34:29.659427",
          "2024-12-22T15:34:29.659427",
          "2024-12-22T15:34:29.659427",
          "2024-12-22T15:34:29.659427",
          "2024-12-22T15:35:04.448765",
          "2024-12-22T15:35:04.448765",
          "2024-12-22T15:35:04.448765",
          "2024-12-22T15:35:04.448765",
          "2024-12-22T15:35:04.448765",
          "2024-12-22T15:35:19.889675",
          "2024-12-22T15:35:19.889675",
          "2024-12-22T15:35:19.889675",
          "2024-12-22T15:35:19.889675",
          "2024-12-22T15:35:19.889675",
          "2024-12-22T15:35:54.690164",
          "2024-12-22T15:35:54.690164",
          "2024-12-22T15:35:54.690164",
          "2024-12-22T15:35:54.690164",
          "2024-12-22T15:35:54.690164",
          "2024-12-22T15:36:10.135704",
          "2024-12-22T15:36:10.135704",
          "2024-12-22T15:36:10.135704",
          "2024-12-22T15:36:10.135704",
          "2024-12-22T15:36:10.135704",
          "2024-12-22T15:36:44.896262",
          "2024-12-22T15:36:44.896262",
          "2024-12-22T15:36:44.896262",
          "2024-12-22T15:36:44.896262",
          "2024-12-22T15:36:44.896262",
          "2024-12-22T15:37:00.348779",
          "2024-12-22T15:37:00.348779",
          "2024-12-22T15:37:00.348779",
          "2024-12-22T15:37:00.348779",
          "2024-12-22T15:37:00.348779",
          "2024-12-22T15:37:35.116077",
          "2024-12-22T15:37:35.116077",
          "2024-12-22T15:37:35.116077",
          "2024-12-22T15:37:35.116077",
          "2024-12-22T15:37:35.116077",
          "2024-12-22T15:37:50.597920",
          "2024-12-22T15:37:50.597920",
          "2024-12-22T15:37:50.597920",
          "2024-12-22T15:37:50.597920",
          "2024-12-22T15:37:50.597920",
          "2024-12-22T15:38:25.387932",
          "2024-12-22T15:38:25.387932",
          "2024-12-22T15:38:25.387932",
          "2024-12-22T15:38:25.387932",
          "2024-12-22T15:38:25.387932",
          "2024-12-22T15:38:40.892074",
          "2024-12-22T15:38:40.892074",
          "2024-12-22T15:38:40.892074",
          "2024-12-22T15:38:40.892074",
          "2024-12-22T15:38:40.892074",
          "2024-12-22T15:39:15.629482",
          "2024-12-22T15:39:15.629482",
          "2024-12-22T15:39:15.629482",
          "2024-12-22T15:39:15.629482",
          "2024-12-22T15:39:15.629482",
          "2024-12-22T15:39:31.110030",
          "2024-12-22T15:39:31.110030",
          "2024-12-22T15:39:31.110030",
          "2024-12-22T15:39:31.110030",
          "2024-12-22T15:39:31.110030",
          "2024-12-22T15:40:05.855387",
          "2024-12-22T15:40:05.855387",
          "2024-12-22T15:40:05.855387",
          "2024-12-22T15:40:05.855387",
          "2024-12-22T15:40:05.855387",
          "2024-12-22T15:40:21.365061",
          "2024-12-22T15:40:21.365061",
          "2024-12-22T15:40:21.365061",
          "2024-12-22T15:40:21.365061",
          "2024-12-22T15:40:21.365061",
          "2024-12-22T15:40:56.072070",
          "2024-12-22T15:40:56.072070",
          "2024-12-22T15:40:56.072070",
          "2024-12-22T15:40:56.072070",
          "2024-12-22T15:40:56.072070",
          "2024-12-22T15:41:11.613917",
          "2024-12-22T15:41:11.613917",
          "2024-12-22T15:41:11.613917",
          "2024-12-22T15:41:11.613917",
          "2024-12-22T15:41:11.613917",
          "2024-12-22T15:41:46.345055",
          "2024-12-22T15:41:46.345055",
          "2024-12-22T15:41:46.345055",
          "2024-12-22T15:41:46.345055",
          "2024-12-22T15:41:46.345055",
          "2024-12-22T15:42:01.929096",
          "2024-12-22T15:42:01.929096",
          "2024-12-22T15:42:01.929096",
          "2024-12-22T15:42:01.929096",
          "2024-12-22T15:42:01.929096",
          "2024-12-22T15:42:36.586544",
          "2024-12-22T15:42:36.586544",
          "2024-12-22T15:42:36.586544",
          "2024-12-22T15:42:36.586544",
          "2024-12-22T15:42:36.586544",
          "2024-12-22T15:42:52.171835",
          "2024-12-22T15:42:52.171835",
          "2024-12-22T15:42:52.171835",
          "2024-12-22T15:42:52.171835",
          "2024-12-22T15:42:52.171835",
          "2024-12-22T15:43:26.812914",
          "2024-12-22T15:43:26.812914",
          "2024-12-22T15:43:26.812914",
          "2024-12-22T15:43:26.812914",
          "2024-12-22T15:43:26.812914",
          "2024-12-22T15:43:42.391447",
          "2024-12-22T15:43:42.391447",
          "2024-12-22T15:43:42.391447",
          "2024-12-22T15:43:42.391447",
          "2024-12-22T15:43:42.391447",
          "2024-12-22T15:44:17.122935",
          "2024-12-22T15:44:17.122935",
          "2024-12-22T15:44:17.122935",
          "2024-12-22T15:44:17.122935",
          "2024-12-22T15:44:17.122935",
          "2024-12-22T15:44:32.763433",
          "2024-12-22T15:44:32.763433",
          "2024-12-22T15:44:32.763433",
          "2024-12-22T15:44:32.763433",
          "2024-12-22T15:44:32.763433",
          "2024-12-22T15:45:07.413880",
          "2024-12-22T15:45:07.413880",
          "2024-12-22T15:45:07.413880",
          "2024-12-22T15:45:07.413880",
          "2024-12-22T15:45:07.413880",
          "2024-12-22T15:45:22.982082",
          "2024-12-22T15:45:22.982082",
          "2024-12-22T15:45:22.982082",
          "2024-12-22T15:45:22.982082",
          "2024-12-22T15:45:22.982082",
          "2024-12-22T15:45:57.650684",
          "2024-12-22T15:45:57.650684",
          "2024-12-22T15:45:57.650684",
          "2024-12-22T15:45:57.650684",
          "2024-12-22T15:45:57.650684",
          "2024-12-22T15:46:13.202038",
          "2024-12-22T15:46:13.202038",
          "2024-12-22T15:46:13.202038",
          "2024-12-22T15:46:13.202038",
          "2024-12-22T15:46:13.202038",
          "2024-12-22T15:46:47.857169",
          "2024-12-22T15:46:47.857169",
          "2024-12-22T15:46:47.857169",
          "2024-12-22T15:46:47.857169",
          "2024-12-22T15:46:47.857169",
          "2024-12-22T15:47:03.414876",
          "2024-12-22T15:47:03.414876",
          "2024-12-22T15:47:03.414876",
          "2024-12-22T15:47:03.414876",
          "2024-12-22T15:47:03.414876",
          "2024-12-22T15:47:38.087935",
          "2024-12-22T15:47:38.087935",
          "2024-12-22T15:47:38.087935"
         ],
         "xaxis": "x",
         "y": [
          1,
          2,
          3,
          4,
          5,
          6,
          7,
          8,
          9,
          13,
          12,
          14,
          10,
          11,
          15,
          16,
          17,
          22,
          21,
          20,
          19,
          18,
          23,
          24,
          25,
          26,
          27,
          32,
          31,
          30,
          29,
          28,
          33,
          34,
          35,
          36,
          37,
          42,
          41,
          39,
          38,
          40,
          43,
          44,
          45,
          46,
          47,
          52,
          51,
          48,
          49,
          50,
          53,
          54,
          55,
          56,
          57,
          62,
          61,
          59,
          58,
          60,
          63,
          64,
          65,
          66,
          67,
          72,
          71,
          68,
          69,
          70,
          73,
          74,
          75,
          76,
          77,
          78,
          79,
          80,
          81,
          82,
          83,
          84,
          85,
          86,
          87,
          88,
          89,
          90,
          91,
          92,
          93,
          94,
          95,
          96,
          97,
          98,
          99,
          100,
          101,
          102,
          103,
          104,
          105,
          106,
          107,
          108,
          109,
          110,
          111,
          112,
          113,
          114,
          115,
          116,
          117,
          118,
          119,
          120,
          121,
          122,
          123,
          124,
          125,
          126,
          127,
          128,
          129,
          130,
          131,
          132,
          133,
          134,
          135,
          136,
          137,
          138,
          139,
          140,
          141,
          142,
          143,
          144,
          145,
          146,
          147,
          148,
          149,
          150,
          151,
          152,
          153,
          154,
          155,
          156,
          157,
          158,
          159,
          160,
          161,
          162,
          166,
          165,
          167,
          163,
          164,
          168,
          169,
          170,
          171,
          172,
          176,
          175,
          177,
          173,
          174,
          178,
          179,
          180,
          181,
          182,
          187,
          185,
          186,
          183,
          184,
          188,
          189,
          190,
          191,
          192,
          197,
          195,
          196,
          193,
          194,
          201,
          200,
          202,
          198,
          199,
          207,
          206,
          205,
          204,
          203,
          208,
          209,
          210,
          211,
          212,
          217,
          216,
          213,
          214,
          215,
          221,
          220,
          222,
          218,
          219,
          223,
          224,
          225,
          226,
          227,
          232,
          231,
          230,
          229,
          228,
          233,
          234,
          235,
          236,
          237,
          242,
          241,
          240,
          239,
          238,
          243,
          244,
          245,
          246,
          247,
          252,
          251,
          249,
          248,
          250,
          253,
          254,
          255,
          256,
          257,
          262,
          261,
          258,
          259,
          260,
          263,
          264,
          265,
          266,
          267,
          272,
          271,
          268,
          269,
          270,
          273,
          274,
          275,
          276,
          277,
          278,
          279,
          280,
          281,
          282,
          283,
          284,
          285,
          286,
          287,
          288,
          289,
          290,
          291,
          292,
          293,
          294,
          295,
          296,
          297,
          298,
          299,
          300,
          301,
          302,
          303,
          304,
          305,
          306,
          307,
          308,
          309,
          310,
          311,
          312,
          313,
          314,
          315,
          316,
          317,
          318,
          319,
          320,
          321,
          322,
          323,
          324,
          325,
          326,
          327,
          328,
          329,
          330,
          331,
          332,
          337,
          336,
          333,
          334,
          335,
          342,
          341,
          340,
          339,
          338,
          347,
          345,
          346,
          343,
          344,
          351,
          348,
          349,
          350,
          352,
          353,
          354,
          355,
          356,
          357,
          358,
          359,
          360,
          361,
          362,
          363,
          364,
          365,
          366,
          367,
          372,
          371,
          368,
          369,
          370,
          377,
          376,
          375,
          374,
          373,
          382,
          380,
          381,
          378,
          379,
          386,
          383,
          384,
          385,
          387,
          388,
          389,
          390,
          391,
          392,
          393,
          394,
          395,
          396,
          397,
          398,
          399,
          400,
          401,
          402,
          407,
          406,
          403,
          404,
          405,
          412,
          410,
          411,
          409,
          408,
          417,
          415,
          416,
          413,
          414,
          421,
          418,
          419,
          420,
          422,
          423,
          424,
          425,
          426,
          427,
          428,
          429,
          430,
          431,
          432,
          433,
          434,
          435,
          436,
          437,
          442,
          441,
          438,
          439,
          440,
          447,
          446,
          445,
          444,
          443,
          451,
          450,
          452,
          448,
          449,
          457,
          453,
          454,
          455,
          456,
          458,
          459,
          460,
          461,
          462,
          463,
          464,
          465,
          466,
          467,
          468,
          469,
          470,
          471,
          472,
          477,
          476,
          473,
          474,
          475,
          482,
          481,
          480,
          479,
          478,
          487,
          485,
          486,
          483,
          484,
          491,
          488,
          489,
          490,
          492,
          493,
          494,
          495,
          496,
          497,
          498,
          499,
          500
         ],
         "yaxis": "y"
        },
        {
         "hovertemplate": "State=completed<br>Time=%{x}<br>message_id=%{y}<extra></extra>",
         "legendgroup": "completed",
         "line": {
          "color": "#00cc96",
          "dash": "solid"
         },
         "marker": {
          "symbol": "circle"
         },
         "mode": "lines+markers",
         "name": "completed",
         "showlegend": true,
         "type": "scattergl",
         "x": [
          "2024-12-22T15:06:15.818588",
          "2024-12-22T15:06:25.914540",
          "2024-12-22T15:06:31.046583",
          "2024-12-22T15:06:31.046893",
          "2024-12-22T15:06:51.192515",
          "2024-12-22T15:06:51.192738",
          "2024-12-22T15:06:56.076689",
          "2024-12-22T15:06:56.076916",
          "2024-12-22T15:06:56.077137",
          "2024-12-22T15:07:26.303866",
          "2024-12-22T15:07:26.304138",
          "2024-12-22T15:07:26.304354",
          "2024-12-22T15:07:41.665193",
          "2024-12-22T15:07:41.665430",
          "2024-12-22T15:07:41.665650",
          "2024-12-22T15:07:41.665865",
          "2024-12-22T15:07:41.666063",
          "2024-12-22T15:08:16.544630",
          "2024-12-22T15:08:16.544857",
          "2024-12-22T15:08:16.545065",
          "2024-12-22T15:08:16.545281",
          "2024-12-22T15:08:16.545503",
          "2024-12-22T15:08:31.908447",
          "2024-12-22T15:08:31.908703",
          "2024-12-22T15:08:31.908929",
          "2024-12-22T15:08:31.909158",
          "2024-12-22T15:08:31.909361",
          "2024-12-22T15:09:06.763216",
          "2024-12-22T15:09:06.763441",
          "2024-12-22T15:09:06.763653",
          "2024-12-22T15:09:06.763852",
          "2024-12-22T15:09:06.764051",
          "2024-12-22T15:09:22.151237",
          "2024-12-22T15:09:22.151505",
          "2024-12-22T15:09:22.151779",
          "2024-12-22T15:09:22.151990",
          "2024-12-22T15:09:22.152200",
          "2024-12-22T15:09:56.985944",
          "2024-12-22T15:09:56.986214",
          "2024-12-22T15:09:56.986471",
          "2024-12-22T15:09:56.986720",
          "2024-12-22T15:09:56.987031",
          "2024-12-22T15:10:12.374199",
          "2024-12-22T15:10:12.374473",
          "2024-12-22T15:10:12.374756",
          "2024-12-22T15:10:12.375102",
          "2024-12-22T15:10:12.375448",
          "2024-12-22T15:10:47.206152",
          "2024-12-22T15:10:47.206437",
          "2024-12-22T15:10:47.206675",
          "2024-12-22T15:10:47.206900",
          "2024-12-22T15:10:47.207102",
          "2024-12-22T15:11:02.596404",
          "2024-12-22T15:11:02.596656",
          "2024-12-22T15:11:02.596881",
          "2024-12-22T15:11:02.597104",
          "2024-12-22T15:11:02.597338",
          "2024-12-22T15:11:37.446124",
          "2024-12-22T15:11:37.446517",
          "2024-12-22T15:11:37.446748",
          "2024-12-22T15:11:37.447086",
          "2024-12-22T15:11:37.447313",
          "2024-12-22T15:11:52.835574",
          "2024-12-22T15:11:52.835904",
          "2024-12-22T15:11:52.836295",
          "2024-12-22T15:11:52.836626",
          "2024-12-22T15:11:52.837354",
          "2024-12-22T15:12:27.659438",
          "2024-12-22T15:12:27.659661",
          "2024-12-22T15:12:27.659863",
          "2024-12-22T15:12:27.660061",
          "2024-12-22T15:12:27.660272",
          "2024-12-22T15:12:43.067559",
          "2024-12-22T15:12:43.067804",
          "2024-12-22T15:12:43.068014",
          "2024-12-22T15:12:43.068219",
          "2024-12-22T15:12:43.068433",
          "2024-12-22T15:13:17.878000",
          "2024-12-22T15:13:17.878257",
          "2024-12-22T15:13:17.878547",
          "2024-12-22T15:13:17.878766",
          "2024-12-22T15:13:17.879141",
          "2024-12-22T15:13:33.366673",
          "2024-12-22T15:13:33.366914",
          "2024-12-22T15:13:33.367122",
          "2024-12-22T15:13:33.367337",
          "2024-12-22T15:13:33.367550",
          "2024-12-22T15:14:08.171597",
          "2024-12-22T15:14:08.171838",
          "2024-12-22T15:14:08.172081",
          "2024-12-22T15:14:08.172285",
          "2024-12-22T15:14:08.172485",
          "2024-12-22T15:14:23.588073",
          "2024-12-22T15:14:23.588457",
          "2024-12-22T15:14:23.590985",
          "2024-12-22T15:14:23.591231",
          "2024-12-22T15:14:23.591456",
          "2024-12-22T15:14:58.406352",
          "2024-12-22T15:14:58.406586",
          "2024-12-22T15:14:58.406819",
          "2024-12-22T15:14:58.407023",
          "2024-12-22T15:14:58.407226",
          "2024-12-22T15:15:13.831392",
          "2024-12-22T15:15:13.831656",
          "2024-12-22T15:15:13.831897",
          "2024-12-22T15:15:13.832184",
          "2024-12-22T15:15:13.832434",
          "2024-12-22T15:15:48.616517",
          "2024-12-22T15:15:48.616740",
          "2024-12-22T15:15:48.616959",
          "2024-12-22T15:15:48.617162",
          "2024-12-22T15:15:48.617373",
          "2024-12-22T15:16:04.089137",
          "2024-12-22T15:16:04.089372",
          "2024-12-22T15:16:04.089586",
          "2024-12-22T15:16:04.089811",
          "2024-12-22T15:16:04.090023",
          "2024-12-22T15:16:38.828330",
          "2024-12-22T15:16:38.828574",
          "2024-12-22T15:16:38.828796",
          "2024-12-22T15:16:38.829021",
          "2024-12-22T15:16:38.829224",
          "2024-12-22T15:16:54.312260",
          "2024-12-22T15:16:54.312525",
          "2024-12-22T15:16:54.312741",
          "2024-12-22T15:16:54.312958",
          "2024-12-22T15:16:54.313162",
          "2024-12-22T15:17:29.147011",
          "2024-12-22T15:17:29.147232",
          "2024-12-22T15:17:29.147446",
          "2024-12-22T15:17:29.147643",
          "2024-12-22T15:17:29.147839",
          "2024-12-22T15:17:44.631678",
          "2024-12-22T15:17:44.631911",
          "2024-12-22T15:17:44.632116",
          "2024-12-22T15:17:44.632311",
          "2024-12-22T15:17:44.632506",
          "2024-12-22T15:18:19.397945",
          "2024-12-22T15:18:19.398358",
          "2024-12-22T15:18:19.398615",
          "2024-12-22T15:18:19.398830",
          "2024-12-22T15:18:19.399045",
          "2024-12-22T15:18:34.884507",
          "2024-12-22T15:18:34.884747",
          "2024-12-22T15:18:34.884960",
          "2024-12-22T15:18:34.885169",
          "2024-12-22T15:18:34.885368",
          "2024-12-22T15:19:09.604431",
          "2024-12-22T15:19:09.604660",
          "2024-12-22T15:19:09.604868",
          "2024-12-22T15:19:09.605118",
          "2024-12-22T15:19:09.605322",
          "2024-12-22T15:19:25.136297",
          "2024-12-22T15:19:25.136548",
          "2024-12-22T15:19:25.136774",
          "2024-12-22T15:19:25.137018",
          "2024-12-22T15:19:25.137247",
          "2024-12-22T15:19:59.871785",
          "2024-12-22T15:19:59.872066",
          "2024-12-22T15:19:59.872296",
          "2024-12-22T15:19:59.872502",
          "2024-12-22T15:19:59.872695",
          "2024-12-22T15:20:15.449340",
          "2024-12-22T15:20:15.449587",
          "2024-12-22T15:20:15.449803",
          "2024-12-22T15:20:15.450001",
          "2024-12-22T15:20:15.450204",
          "2024-12-22T15:20:50.119899",
          "2024-12-22T15:20:50.120119",
          "2024-12-22T15:20:50.120324",
          "2024-12-22T15:20:50.120627",
          "2024-12-22T15:20:50.120902",
          "2024-12-22T15:21:05.678918",
          "2024-12-22T15:21:05.679174",
          "2024-12-22T15:21:05.679644",
          "2024-12-22T15:21:05.679973",
          "2024-12-22T15:21:05.680224",
          "2024-12-22T15:21:40.341518",
          "2024-12-22T15:21:40.341904",
          "2024-12-22T15:21:40.342257",
          "2024-12-22T15:21:40.342624",
          "2024-12-22T15:21:40.342980",
          "2024-12-22T15:21:55.920788",
          "2024-12-22T15:21:55.921045",
          "2024-12-22T15:21:55.921265",
          "2024-12-22T15:21:55.921478",
          "2024-12-22T15:21:55.921693",
          "2024-12-22T15:22:30.552583",
          "2024-12-22T15:22:30.552819",
          "2024-12-22T15:22:30.553022",
          "2024-12-22T15:22:30.553237",
          "2024-12-22T15:22:30.553442",
          "2024-12-22T15:22:46.146524",
          "2024-12-22T15:22:46.146747",
          "2024-12-22T15:22:46.146965",
          "2024-12-22T15:22:46.147175",
          "2024-12-22T15:22:46.147379",
          "2024-12-22T15:23:20.786402",
          "2024-12-22T15:23:20.786622",
          "2024-12-22T15:23:20.787107",
          "2024-12-22T15:23:20.787383",
          "2024-12-22T15:23:20.787616",
          "2024-12-22T15:23:36.380561",
          "2024-12-22T15:23:36.380852",
          "2024-12-22T15:23:36.381085",
          "2024-12-22T15:23:36.381342",
          "2024-12-22T15:23:36.381575",
          "2024-12-22T15:24:11.160952",
          "2024-12-22T15:24:11.161197",
          "2024-12-22T15:24:11.161409",
          "2024-12-22T15:24:11.161807",
          "2024-12-22T15:24:11.162049",
          "2024-12-22T15:24:26.603347",
          "2024-12-22T15:24:26.603608",
          "2024-12-22T15:24:26.603846",
          "2024-12-22T15:24:26.604076",
          "2024-12-22T15:24:26.604297",
          "2024-12-22T15:25:01.405120",
          "2024-12-22T15:25:01.405514",
          "2024-12-22T15:25:01.405808",
          "2024-12-22T15:25:01.406246",
          "2024-12-22T15:25:01.406618",
          "2024-12-22T15:25:16.853188",
          "2024-12-22T15:25:16.853401",
          "2024-12-22T15:25:16.853608",
          "2024-12-22T15:25:16.853809",
          "2024-12-22T15:25:16.854012",
          "2024-12-22T15:25:51.693283",
          "2024-12-22T15:25:51.693630",
          "2024-12-22T15:25:51.693870",
          "2024-12-22T15:25:51.694106",
          "2024-12-22T15:25:51.694375",
          "2024-12-22T15:26:07.156161",
          "2024-12-22T15:26:07.156567",
          "2024-12-22T15:26:07.156845",
          "2024-12-22T15:26:07.157100",
          "2024-12-22T15:26:07.157334",
          "2024-12-22T15:26:41.938621",
          "2024-12-22T15:26:41.938876",
          "2024-12-22T15:26:41.939100",
          "2024-12-22T15:26:41.939302",
          "2024-12-22T15:26:41.939514",
          "2024-12-22T15:26:57.384096",
          "2024-12-22T15:26:57.384342",
          "2024-12-22T15:26:57.384576",
          "2024-12-22T15:26:57.384821",
          "2024-12-22T15:26:57.385042",
          "2024-12-22T15:27:32.157751",
          "2024-12-22T15:27:32.157973",
          "2024-12-22T15:27:32.158169",
          "2024-12-22T15:27:32.158363",
          "2024-12-22T15:27:32.158569",
          "2024-12-22T15:27:47.604213",
          "2024-12-22T15:27:47.604458",
          "2024-12-22T15:27:47.604676",
          "2024-12-22T15:27:47.604893",
          "2024-12-22T15:27:47.605113",
          "2024-12-22T15:28:22.390826",
          "2024-12-22T15:28:22.391088",
          "2024-12-22T15:28:22.391320",
          "2024-12-22T15:28:22.391552",
          "2024-12-22T15:28:22.391788",
          "2024-12-22T15:28:37.829003",
          "2024-12-22T15:28:37.829271",
          "2024-12-22T15:28:37.829501",
          "2024-12-22T15:28:37.829721",
          "2024-12-22T15:28:37.829953",
          "2024-12-22T15:29:12.717631",
          "2024-12-22T15:29:12.717862",
          "2024-12-22T15:29:12.718073",
          "2024-12-22T15:29:12.718270",
          "2024-12-22T15:29:12.718466",
          "2024-12-22T15:29:28.102161",
          "2024-12-22T15:29:28.102388",
          "2024-12-22T15:29:28.102596",
          "2024-12-22T15:29:28.102810",
          "2024-12-22T15:29:28.103023",
          "2024-12-22T15:30:02.990577",
          "2024-12-22T15:30:02.990881",
          "2024-12-22T15:30:02.991363",
          "2024-12-22T15:30:02.991623",
          "2024-12-22T15:30:02.991834",
          "2024-12-22T15:30:18.334794",
          "2024-12-22T15:30:18.335009",
          "2024-12-22T15:30:18.335211",
          "2024-12-22T15:30:18.335416",
          "2024-12-22T15:30:18.335620",
          "2024-12-22T15:30:53.227033",
          "2024-12-22T15:30:53.227277",
          "2024-12-22T15:30:53.227486",
          "2024-12-22T15:30:53.227684",
          "2024-12-22T15:30:53.227881",
          "2024-12-22T15:31:08.551135",
          "2024-12-22T15:31:08.551377",
          "2024-12-22T15:31:08.551601",
          "2024-12-22T15:31:08.551821",
          "2024-12-22T15:31:08.552117",
          "2024-12-22T15:31:43.524731",
          "2024-12-22T15:31:43.525023",
          "2024-12-22T15:31:43.525275",
          "2024-12-22T15:31:43.525513",
          "2024-12-22T15:31:43.525750",
          "2024-12-22T15:31:58.880038",
          "2024-12-22T15:31:58.880261",
          "2024-12-22T15:31:58.880465",
          "2024-12-22T15:31:58.880665",
          "2024-12-22T15:31:58.880871",
          "2024-12-22T15:32:33.778702",
          "2024-12-22T15:32:33.778949",
          "2024-12-22T15:32:33.779166",
          "2024-12-22T15:32:33.779367",
          "2024-12-22T15:32:33.779587",
          "2024-12-22T15:32:49.110262",
          "2024-12-22T15:32:49.110488",
          "2024-12-22T15:32:49.110689",
          "2024-12-22T15:32:49.110899",
          "2024-12-22T15:32:49.111100",
          "2024-12-22T15:33:23.998160",
          "2024-12-22T15:33:23.998411",
          "2024-12-22T15:33:23.998639",
          "2024-12-22T15:33:23.998876",
          "2024-12-22T15:33:23.999100",
          "2024-12-22T15:33:39.332175",
          "2024-12-22T15:33:39.332407",
          "2024-12-22T15:33:39.332605",
          "2024-12-22T15:33:39.332819",
          "2024-12-22T15:33:39.333020",
          "2024-12-22T15:34:14.212431",
          "2024-12-22T15:34:14.212651",
          "2024-12-22T15:34:14.212848",
          "2024-12-22T15:34:14.213040",
          "2024-12-22T15:34:14.213243",
          "2024-12-22T15:34:29.612624",
          "2024-12-22T15:34:29.612844",
          "2024-12-22T15:34:29.613048",
          "2024-12-22T15:34:29.613246",
          "2024-12-22T15:34:29.613473",
          "2024-12-22T15:35:04.417946",
          "2024-12-22T15:35:04.418176",
          "2024-12-22T15:35:04.418375",
          "2024-12-22T15:35:04.418580",
          "2024-12-22T15:35:04.418780",
          "2024-12-22T15:35:19.855424",
          "2024-12-22T15:35:19.855662",
          "2024-12-22T15:35:19.855869",
          "2024-12-22T15:35:19.856064",
          "2024-12-22T15:35:19.856254",
          "2024-12-22T15:35:54.659438",
          "2024-12-22T15:35:54.659677",
          "2024-12-22T15:35:54.659889",
          "2024-12-22T15:35:54.660087",
          "2024-12-22T15:35:54.660286",
          "2024-12-22T15:36:10.101885",
          "2024-12-22T15:36:10.102276",
          "2024-12-22T15:36:10.102515",
          "2024-12-22T15:36:10.102814",
          "2024-12-22T15:36:10.103050",
          "2024-12-22T15:36:44.865763",
          "2024-12-22T15:36:44.865979",
          "2024-12-22T15:36:44.866178",
          "2024-12-22T15:36:44.866390",
          "2024-12-22T15:36:44.866587",
          "2024-12-22T15:37:00.314470",
          "2024-12-22T15:37:00.314690",
          "2024-12-22T15:37:00.314918",
          "2024-12-22T15:37:00.315118",
          "2024-12-22T15:37:00.315307",
          "2024-12-22T15:37:35.083529",
          "2024-12-22T15:37:35.083756",
          "2024-12-22T15:37:35.083961",
          "2024-12-22T15:37:35.084199",
          "2024-12-22T15:37:35.084398",
          "2024-12-22T15:37:50.563200",
          "2024-12-22T15:37:50.563435",
          "2024-12-22T15:37:50.563652",
          "2024-12-22T15:37:50.563875",
          "2024-12-22T15:37:50.564080",
          "2024-12-22T15:38:25.356457",
          "2024-12-22T15:38:25.357007",
          "2024-12-22T15:38:25.357265",
          "2024-12-22T15:38:25.357465",
          "2024-12-22T15:38:25.357764",
          "2024-12-22T15:38:40.858913",
          "2024-12-22T15:38:40.859133",
          "2024-12-22T15:38:40.859332",
          "2024-12-22T15:38:40.859543",
          "2024-12-22T15:38:40.859745",
          "2024-12-22T15:39:15.597585",
          "2024-12-22T15:39:15.598556",
          "2024-12-22T15:39:15.599160",
          "2024-12-22T15:39:15.599453",
          "2024-12-22T15:39:15.599692",
          "2024-12-22T15:39:31.078888",
          "2024-12-22T15:39:31.079108",
          "2024-12-22T15:39:31.079344",
          "2024-12-22T15:39:31.079541",
          "2024-12-22T15:39:31.079739",
          "2024-12-22T15:40:05.823258",
          "2024-12-22T15:40:05.823830",
          "2024-12-22T15:40:05.824165",
          "2024-12-22T15:40:05.824573",
          "2024-12-22T15:40:05.824824",
          "2024-12-22T15:40:21.327837",
          "2024-12-22T15:40:21.328063",
          "2024-12-22T15:40:21.328270",
          "2024-12-22T15:40:21.328491",
          "2024-12-22T15:40:21.328693",
          "2024-12-22T15:40:56.041178",
          "2024-12-22T15:40:56.041445",
          "2024-12-22T15:40:56.041660",
          "2024-12-22T15:40:56.041885",
          "2024-12-22T15:40:56.042089",
          "2024-12-22T15:41:11.578528",
          "2024-12-22T15:41:11.578752",
          "2024-12-22T15:41:11.578953",
          "2024-12-22T15:41:11.579155",
          "2024-12-22T15:41:11.579353",
          "2024-12-22T15:41:46.311151",
          "2024-12-22T15:41:46.311407",
          "2024-12-22T15:41:46.311647",
          "2024-12-22T15:41:46.311882",
          "2024-12-22T15:41:46.312108",
          "2024-12-22T15:42:01.892216",
          "2024-12-22T15:42:01.892458",
          "2024-12-22T15:42:01.892673",
          "2024-12-22T15:42:01.893018",
          "2024-12-22T15:42:01.893243",
          "2024-12-22T15:42:36.554937",
          "2024-12-22T15:42:36.555160",
          "2024-12-22T15:42:36.555362",
          "2024-12-22T15:42:36.555560",
          "2024-12-22T15:42:36.555793",
          "2024-12-22T15:42:52.133154",
          "2024-12-22T15:42:52.133475",
          "2024-12-22T15:42:52.133726",
          "2024-12-22T15:42:52.133963",
          "2024-12-22T15:42:52.134239",
          "2024-12-22T15:43:26.782134",
          "2024-12-22T15:43:26.782464",
          "2024-12-22T15:43:26.782734",
          "2024-12-22T15:43:26.782981",
          "2024-12-22T15:43:26.783219",
          "2024-12-22T15:43:42.356510",
          "2024-12-22T15:43:42.356753",
          "2024-12-22T15:43:42.356958",
          "2024-12-22T15:43:42.357158",
          "2024-12-22T15:43:42.357351",
          "2024-12-22T15:44:17.092587",
          "2024-12-22T15:44:17.092815",
          "2024-12-22T15:44:17.093025",
          "2024-12-22T15:44:17.093227",
          "2024-12-22T15:44:17.093441",
          "2024-12-22T15:44:32.725774",
          "2024-12-22T15:44:32.726048",
          "2024-12-22T15:44:32.726271",
          "2024-12-22T15:44:32.726523",
          "2024-12-22T15:44:32.726756",
          "2024-12-22T15:45:07.343164",
          "2024-12-22T15:45:07.343429",
          "2024-12-22T15:45:07.343671",
          "2024-12-22T15:45:07.343914",
          "2024-12-22T15:45:07.344139",
          "2024-12-22T15:45:22.948813",
          "2024-12-22T15:45:22.949124",
          "2024-12-22T15:45:22.949347",
          "2024-12-22T15:45:22.949555",
          "2024-12-22T15:45:22.949754",
          "2024-12-22T15:45:57.618677",
          "2024-12-22T15:45:57.618900",
          "2024-12-22T15:45:57.619116",
          "2024-12-22T15:45:57.619315",
          "2024-12-22T15:45:57.619515",
          "2024-12-22T15:46:13.167808",
          "2024-12-22T15:46:13.168051",
          "2024-12-22T15:46:13.168374",
          "2024-12-22T15:46:13.168613",
          "2024-12-22T15:46:13.169596",
          "2024-12-22T15:46:47.825849",
          "2024-12-22T15:46:47.826089",
          "2024-12-22T15:46:47.826304",
          "2024-12-22T15:46:47.826514",
          "2024-12-22T15:46:47.826710",
          "2024-12-22T15:47:03.383321",
          "2024-12-22T15:47:03.383549",
          "2024-12-22T15:47:03.383930",
          "2024-12-22T15:47:03.384166",
          "2024-12-22T15:47:03.384403",
          "2024-12-22T15:47:38.058858",
          "2024-12-22T15:47:38.059140",
          "2024-12-22T15:47:38.059379",
          "2024-12-22T15:47:38.059605",
          "2024-12-22T15:47:38.059845",
          "2024-12-22T15:47:53.629477",
          "2024-12-22T15:47:53.629774",
          "2024-12-22T15:47:53.630074",
          "2024-12-22T15:47:53.630330",
          "2024-12-22T15:47:53.630593",
          "2024-12-22T15:48:09.074521",
          "2024-12-22T15:48:09.074749",
          "2024-12-22T15:48:09.074957"
         ],
         "xaxis": "x",
         "y": [
          1,
          4,
          2,
          3,
          8,
          9,
          5,
          6,
          7,
          15,
          16,
          17,
          10,
          11,
          12,
          13,
          14,
          18,
          19,
          20,
          21,
          22,
          23,
          24,
          25,
          26,
          27,
          28,
          29,
          30,
          31,
          32,
          33,
          34,
          35,
          36,
          37,
          38,
          39,
          40,
          41,
          42,
          43,
          44,
          45,
          46,
          47,
          48,
          49,
          50,
          51,
          52,
          53,
          54,
          55,
          56,
          57,
          58,
          59,
          60,
          61,
          62,
          63,
          64,
          65,
          66,
          67,
          68,
          69,
          70,
          71,
          72,
          73,
          74,
          75,
          76,
          77,
          78,
          79,
          80,
          81,
          82,
          83,
          84,
          85,
          86,
          87,
          88,
          89,
          90,
          91,
          92,
          93,
          94,
          95,
          96,
          97,
          98,
          99,
          100,
          101,
          102,
          103,
          104,
          105,
          106,
          107,
          108,
          109,
          110,
          111,
          112,
          113,
          114,
          115,
          116,
          117,
          118,
          119,
          120,
          121,
          122,
          123,
          124,
          125,
          126,
          127,
          128,
          129,
          130,
          131,
          132,
          133,
          134,
          135,
          136,
          137,
          138,
          139,
          140,
          141,
          142,
          143,
          144,
          145,
          146,
          147,
          148,
          149,
          150,
          151,
          152,
          153,
          154,
          155,
          156,
          157,
          158,
          159,
          160,
          161,
          162,
          163,
          164,
          165,
          166,
          167,
          168,
          169,
          170,
          171,
          172,
          173,
          174,
          175,
          176,
          177,
          178,
          179,
          180,
          181,
          182,
          183,
          184,
          185,
          186,
          187,
          188,
          189,
          190,
          191,
          192,
          193,
          194,
          195,
          196,
          197,
          198,
          199,
          200,
          201,
          202,
          203,
          204,
          205,
          206,
          207,
          208,
          209,
          210,
          211,
          212,
          213,
          214,
          215,
          216,
          217,
          218,
          219,
          220,
          221,
          222,
          223,
          224,
          225,
          226,
          227,
          228,
          229,
          230,
          231,
          232,
          233,
          234,
          235,
          236,
          237,
          238,
          239,
          240,
          241,
          242,
          243,
          244,
          245,
          246,
          247,
          248,
          249,
          250,
          251,
          252,
          253,
          254,
          255,
          256,
          257,
          258,
          259,
          260,
          261,
          262,
          263,
          264,
          265,
          266,
          267,
          268,
          269,
          270,
          271,
          272,
          273,
          274,
          275,
          276,
          277,
          278,
          279,
          280,
          281,
          282,
          283,
          284,
          285,
          286,
          287,
          288,
          289,
          290,
          291,
          292,
          293,
          294,
          295,
          296,
          297,
          298,
          299,
          300,
          301,
          302,
          303,
          304,
          305,
          306,
          307,
          308,
          309,
          310,
          311,
          312,
          313,
          314,
          315,
          316,
          317,
          318,
          319,
          320,
          321,
          322,
          323,
          324,
          325,
          326,
          327,
          328,
          329,
          330,
          331,
          332,
          333,
          334,
          335,
          336,
          337,
          338,
          339,
          340,
          341,
          342,
          343,
          344,
          345,
          346,
          347,
          348,
          349,
          350,
          351,
          352,
          353,
          354,
          355,
          356,
          357,
          358,
          359,
          360,
          361,
          362,
          363,
          364,
          365,
          366,
          367,
          368,
          369,
          370,
          371,
          372,
          373,
          374,
          375,
          376,
          377,
          378,
          379,
          380,
          381,
          382,
          383,
          384,
          385,
          386,
          387,
          388,
          389,
          390,
          391,
          392,
          393,
          394,
          395,
          396,
          397,
          398,
          399,
          400,
          401,
          402,
          403,
          404,
          405,
          406,
          407,
          408,
          409,
          410,
          411,
          412,
          413,
          414,
          415,
          416,
          417,
          418,
          419,
          420,
          421,
          422,
          423,
          424,
          425,
          426,
          427,
          428,
          429,
          430,
          431,
          432,
          433,
          434,
          435,
          436,
          437,
          438,
          439,
          440,
          441,
          442,
          443,
          444,
          445,
          446,
          447,
          448,
          449,
          450,
          451,
          452,
          453,
          454,
          455,
          456,
          457,
          458,
          459,
          460,
          461,
          462,
          463,
          464,
          465,
          466,
          467,
          468,
          469,
          470,
          471,
          472,
          473,
          474,
          475,
          476,
          477,
          478,
          479,
          480,
          481,
          482,
          483,
          484,
          485,
          486,
          487,
          488,
          489,
          490,
          491,
          492,
          493,
          494,
          495,
          496,
          497,
          498,
          499,
          500
         ],
         "yaxis": "y"
        }
       ],
       "layout": {
        "hovermode": "closest",
        "legend": {
         "title": {
          "text": "State"
         },
         "tracegroupgap": 0
        },
        "margin": {
         "b": 40,
         "l": 40,
         "r": 40,
         "t": 40
        },
        "template": {
         "data": {
          "bar": [
           {
            "error_x": {
             "color": "#f2f5fa"
            },
            "error_y": {
             "color": "#f2f5fa"
            },
            "marker": {
             "line": {
              "color": "rgb(17,17,17)",
              "width": 0.5
             },
             "pattern": {
              "fillmode": "overlay",
              "size": 10,
              "solidity": 0.2
             }
            },
            "type": "bar"
           }
          ],
          "barpolar": [
           {
            "marker": {
             "line": {
              "color": "rgb(17,17,17)",
              "width": 0.5
             },
             "pattern": {
              "fillmode": "overlay",
              "size": 10,
              "solidity": 0.2
             }
            },
            "type": "barpolar"
           }
          ],
          "carpet": [
           {
            "aaxis": {
             "endlinecolor": "#A2B1C6",
             "gridcolor": "#506784",
             "linecolor": "#506784",
             "minorgridcolor": "#506784",
             "startlinecolor": "#A2B1C6"
            },
            "baxis": {
             "endlinecolor": "#A2B1C6",
             "gridcolor": "#506784",
             "linecolor": "#506784",
             "minorgridcolor": "#506784",
             "startlinecolor": "#A2B1C6"
            },
            "type": "carpet"
           }
          ],
          "choropleth": [
           {
            "colorbar": {
             "outlinewidth": 0,
             "ticks": ""
            },
            "type": "choropleth"
           }
          ],
          "contour": [
           {
            "colorbar": {
             "outlinewidth": 0,
             "ticks": ""
            },
            "colorscale": [
             [
              0,
              "#0d0887"
             ],
             [
              0.1111111111111111,
              "#46039f"
             ],
             [
              0.2222222222222222,
              "#7201a8"
             ],
             [
              0.3333333333333333,
              "#9c179e"
             ],
             [
              0.4444444444444444,
              "#bd3786"
             ],
             [
              0.5555555555555556,
              "#d8576b"
             ],
             [
              0.6666666666666666,
              "#ed7953"
             ],
             [
              0.7777777777777778,
              "#fb9f3a"
             ],
             [
              0.8888888888888888,
              "#fdca26"
             ],
             [
              1,
              "#f0f921"
             ]
            ],
            "type": "contour"
           }
          ],
          "contourcarpet": [
           {
            "colorbar": {
             "outlinewidth": 0,
             "ticks": ""
            },
            "type": "contourcarpet"
           }
          ],
          "heatmap": [
           {
            "colorbar": {
             "outlinewidth": 0,
             "ticks": ""
            },
            "colorscale": [
             [
              0,
              "#0d0887"
             ],
             [
              0.1111111111111111,
              "#46039f"
             ],
             [
              0.2222222222222222,
              "#7201a8"
             ],
             [
              0.3333333333333333,
              "#9c179e"
             ],
             [
              0.4444444444444444,
              "#bd3786"
             ],
             [
              0.5555555555555556,
              "#d8576b"
             ],
             [
              0.6666666666666666,
              "#ed7953"
             ],
             [
              0.7777777777777778,
              "#fb9f3a"
             ],
             [
              0.8888888888888888,
              "#fdca26"
             ],
             [
              1,
              "#f0f921"
             ]
            ],
            "type": "heatmap"
           }
          ],
          "heatmapgl": [
           {
            "colorbar": {
             "outlinewidth": 0,
             "ticks": ""
            },
            "colorscale": [
             [
              0,
              "#0d0887"
             ],
             [
              0.1111111111111111,
              "#46039f"
             ],
             [
              0.2222222222222222,
              "#7201a8"
             ],
             [
              0.3333333333333333,
              "#9c179e"
             ],
             [
              0.4444444444444444,
              "#bd3786"
             ],
             [
              0.5555555555555556,
              "#d8576b"
             ],
             [
              0.6666666666666666,
              "#ed7953"
             ],
             [
              0.7777777777777778,
              "#fb9f3a"
             ],
             [
              0.8888888888888888,
              "#fdca26"
             ],
             [
              1,
              "#f0f921"
             ]
            ],
            "type": "heatmapgl"
           }
          ],
          "histogram": [
           {
            "marker": {
             "pattern": {
              "fillmode": "overlay",
              "size": 10,
              "solidity": 0.2
             }
            },
            "type": "histogram"
           }
          ],
          "histogram2d": [
           {
            "colorbar": {
             "outlinewidth": 0,
             "ticks": ""
            },
            "colorscale": [
             [
              0,
              "#0d0887"
             ],
             [
              0.1111111111111111,
              "#46039f"
             ],
             [
              0.2222222222222222,
              "#7201a8"
             ],
             [
              0.3333333333333333,
              "#9c179e"
             ],
             [
              0.4444444444444444,
              "#bd3786"
             ],
             [
              0.5555555555555556,
              "#d8576b"
             ],
             [
              0.6666666666666666,
              "#ed7953"
             ],
             [
              0.7777777777777778,
              "#fb9f3a"
             ],
             [
              0.8888888888888888,
              "#fdca26"
             ],
             [
              1,
              "#f0f921"
             ]
            ],
            "type": "histogram2d"
           }
          ],
          "histogram2dcontour": [
           {
            "colorbar": {
             "outlinewidth": 0,
             "ticks": ""
            },
            "colorscale": [
             [
              0,
              "#0d0887"
             ],
             [
              0.1111111111111111,
              "#46039f"
             ],
             [
              0.2222222222222222,
              "#7201a8"
             ],
             [
              0.3333333333333333,
              "#9c179e"
             ],
             [
              0.4444444444444444,
              "#bd3786"
             ],
             [
              0.5555555555555556,
              "#d8576b"
             ],
             [
              0.6666666666666666,
              "#ed7953"
             ],
             [
              0.7777777777777778,
              "#fb9f3a"
             ],
             [
              0.8888888888888888,
              "#fdca26"
             ],
             [
              1,
              "#f0f921"
             ]
            ],
            "type": "histogram2dcontour"
           }
          ],
          "mesh3d": [
           {
            "colorbar": {
             "outlinewidth": 0,
             "ticks": ""
            },
            "type": "mesh3d"
           }
          ],
          "parcoords": [
           {
            "line": {
             "colorbar": {
              "outlinewidth": 0,
              "ticks": ""
             }
            },
            "type": "parcoords"
           }
          ],
          "pie": [
           {
            "automargin": true,
            "type": "pie"
           }
          ],
          "scatter": [
           {
            "marker": {
             "line": {
              "color": "#283442"
             }
            },
            "type": "scatter"
           }
          ],
          "scatter3d": [
           {
            "line": {
             "colorbar": {
              "outlinewidth": 0,
              "ticks": ""
             }
            },
            "marker": {
             "colorbar": {
              "outlinewidth": 0,
              "ticks": ""
             }
            },
            "type": "scatter3d"
           }
          ],
          "scattercarpet": [
           {
            "marker": {
             "colorbar": {
              "outlinewidth": 0,
              "ticks": ""
             }
            },
            "type": "scattercarpet"
           }
          ],
          "scattergeo": [
           {
            "marker": {
             "colorbar": {
              "outlinewidth": 0,
              "ticks": ""
             }
            },
            "type": "scattergeo"
           }
          ],
          "scattergl": [
           {
            "marker": {
             "line": {
              "color": "#283442"
             }
            },
            "type": "scattergl"
           }
          ],
          "scattermapbox": [
           {
            "marker": {
             "colorbar": {
              "outlinewidth": 0,
              "ticks": ""
             }
            },
            "type": "scattermapbox"
           }
          ],
          "scatterpolar": [
           {
            "marker": {
             "colorbar": {
              "outlinewidth": 0,
              "ticks": ""
             }
            },
            "type": "scatterpolar"
           }
          ],
          "scatterpolargl": [
           {
            "marker": {
             "colorbar": {
              "outlinewidth": 0,
              "ticks": ""
             }
            },
            "type": "scatterpolargl"
           }
          ],
          "scatterternary": [
           {
            "marker": {
             "colorbar": {
              "outlinewidth": 0,
              "ticks": ""
             }
            },
            "type": "scatterternary"
           }
          ],
          "surface": [
           {
            "colorbar": {
             "outlinewidth": 0,
             "ticks": ""
            },
            "colorscale": [
             [
              0,
              "#0d0887"
             ],
             [
              0.1111111111111111,
              "#46039f"
             ],
             [
              0.2222222222222222,
              "#7201a8"
             ],
             [
              0.3333333333333333,
              "#9c179e"
             ],
             [
              0.4444444444444444,
              "#bd3786"
             ],
             [
              0.5555555555555556,
              "#d8576b"
             ],
             [
              0.6666666666666666,
              "#ed7953"
             ],
             [
              0.7777777777777778,
              "#fb9f3a"
             ],
             [
              0.8888888888888888,
              "#fdca26"
             ],
             [
              1,
              "#f0f921"
             ]
            ],
            "type": "surface"
           }
          ],
          "table": [
           {
            "cells": {
             "fill": {
              "color": "#506784"
             },
             "line": {
              "color": "rgb(17,17,17)"
             }
            },
            "header": {
             "fill": {
              "color": "#2a3f5f"
             },
             "line": {
              "color": "rgb(17,17,17)"
             }
            },
            "type": "table"
           }
          ]
         },
         "layout": {
          "annotationdefaults": {
           "arrowcolor": "#f2f5fa",
           "arrowhead": 0,
           "arrowwidth": 1
          },
          "autotypenumbers": "strict",
          "coloraxis": {
           "colorbar": {
            "outlinewidth": 0,
            "ticks": ""
           }
          },
          "colorscale": {
           "diverging": [
            [
             0,
             "#8e0152"
            ],
            [
             0.1,
             "#c51b7d"
            ],
            [
             0.2,
             "#de77ae"
            ],
            [
             0.3,
             "#f1b6da"
            ],
            [
             0.4,
             "#fde0ef"
            ],
            [
             0.5,
             "#f7f7f7"
            ],
            [
             0.6,
             "#e6f5d0"
            ],
            [
             0.7,
             "#b8e186"
            ],
            [
             0.8,
             "#7fbc41"
            ],
            [
             0.9,
             "#4d9221"
            ],
            [
             1,
             "#276419"
            ]
           ],
           "sequential": [
            [
             0,
             "#0d0887"
            ],
            [
             0.1111111111111111,
             "#46039f"
            ],
            [
             0.2222222222222222,
             "#7201a8"
            ],
            [
             0.3333333333333333,
             "#9c179e"
            ],
            [
             0.4444444444444444,
             "#bd3786"
            ],
            [
             0.5555555555555556,
             "#d8576b"
            ],
            [
             0.6666666666666666,
             "#ed7953"
            ],
            [
             0.7777777777777778,
             "#fb9f3a"
            ],
            [
             0.8888888888888888,
             "#fdca26"
            ],
            [
             1,
             "#f0f921"
            ]
           ],
           "sequentialminus": [
            [
             0,
             "#0d0887"
            ],
            [
             0.1111111111111111,
             "#46039f"
            ],
            [
             0.2222222222222222,
             "#7201a8"
            ],
            [
             0.3333333333333333,
             "#9c179e"
            ],
            [
             0.4444444444444444,
             "#bd3786"
            ],
            [
             0.5555555555555556,
             "#d8576b"
            ],
            [
             0.6666666666666666,
             "#ed7953"
            ],
            [
             0.7777777777777778,
             "#fb9f3a"
            ],
            [
             0.8888888888888888,
             "#fdca26"
            ],
            [
             1,
             "#f0f921"
            ]
           ]
          },
          "colorway": [
           "#636efa",
           "#EF553B",
           "#00cc96",
           "#ab63fa",
           "#FFA15A",
           "#19d3f3",
           "#FF6692",
           "#B6E880",
           "#FF97FF",
           "#FECB52"
          ],
          "font": {
           "color": "#f2f5fa"
          },
          "geo": {
           "bgcolor": "rgb(17,17,17)",
           "lakecolor": "rgb(17,17,17)",
           "landcolor": "rgb(17,17,17)",
           "showlakes": true,
           "showland": true,
           "subunitcolor": "#506784"
          },
          "hoverlabel": {
           "align": "left"
          },
          "hovermode": "closest",
          "mapbox": {
           "style": "dark"
          },
          "paper_bgcolor": "rgb(17,17,17)",
          "plot_bgcolor": "rgb(17,17,17)",
          "polar": {
           "angularaxis": {
            "gridcolor": "#506784",
            "linecolor": "#506784",
            "ticks": ""
           },
           "bgcolor": "rgb(17,17,17)",
           "radialaxis": {
            "gridcolor": "#506784",
            "linecolor": "#506784",
            "ticks": ""
           }
          },
          "scene": {
           "xaxis": {
            "backgroundcolor": "rgb(17,17,17)",
            "gridcolor": "#506784",
            "gridwidth": 2,
            "linecolor": "#506784",
            "showbackground": true,
            "ticks": "",
            "zerolinecolor": "#C8D4E3"
           },
           "yaxis": {
            "backgroundcolor": "rgb(17,17,17)",
            "gridcolor": "#506784",
            "gridwidth": 2,
            "linecolor": "#506784",
            "showbackground": true,
            "ticks": "",
            "zerolinecolor": "#C8D4E3"
           },
           "zaxis": {
            "backgroundcolor": "rgb(17,17,17)",
            "gridcolor": "#506784",
            "gridwidth": 2,
            "linecolor": "#506784",
            "showbackground": true,
            "ticks": "",
            "zerolinecolor": "#C8D4E3"
           }
          },
          "shapedefaults": {
           "line": {
            "color": "#f2f5fa"
           }
          },
          "sliderdefaults": {
           "bgcolor": "#C8D4E3",
           "bordercolor": "rgb(17,17,17)",
           "borderwidth": 1,
           "tickwidth": 0
          },
          "ternary": {
           "aaxis": {
            "gridcolor": "#506784",
            "linecolor": "#506784",
            "ticks": ""
           },
           "baxis": {
            "gridcolor": "#506784",
            "linecolor": "#506784",
            "ticks": ""
           },
           "bgcolor": "rgb(17,17,17)",
           "caxis": {
            "gridcolor": "#506784",
            "linecolor": "#506784",
            "ticks": ""
           }
          },
          "title": {
           "x": 0.05
          },
          "updatemenudefaults": {
           "bgcolor": "#506784",
           "borderwidth": 0
          },
          "xaxis": {
           "automargin": true,
           "gridcolor": "#283442",
           "linecolor": "#506784",
           "ticks": "",
           "title": {
            "standoff": 15
           },
           "zerolinecolor": "#283442",
           "zerolinewidth": 2
          },
          "yaxis": {
           "automargin": true,
           "gridcolor": "#283442",
           "linecolor": "#506784",
           "ticks": "",
           "title": {
            "standoff": 15
           },
           "zerolinecolor": "#283442",
           "zerolinewidth": 2
          }
         }
        },
        "title": {
         "text": "Message Transitions Over Time"
        },
        "xaxis": {
         "anchor": "y",
         "domain": [
          0,
          1
         ],
         "showgrid": true,
         "title": {
          "text": "Timestamp"
         }
        },
        "yaxis": {
         "anchor": "x",
         "domain": [
          0,
          1
         ],
         "showgrid": true,
         "title": {
          "text": "State"
         }
        }
       }
      }
     },
     "metadata": {},
     "output_type": "display_data"
    }
   ],
   "source": [
    "analyze_message_flow(logs500)"
   ]
  }
 ],
 "metadata": {
  "kernelspec": {
   "display_name": ".venv",
   "language": "python",
   "name": "python3"
  },
  "language_info": {
   "codemirror_mode": {
    "name": "ipython",
    "version": 3
   },
   "file_extension": ".py",
   "mimetype": "text/x-python",
   "name": "python",
   "nbconvert_exporter": "python",
   "pygments_lexer": "ipython3",
   "version": "3.10.0"
  }
 },
 "nbformat": 4,
 "nbformat_minor": 2
}
