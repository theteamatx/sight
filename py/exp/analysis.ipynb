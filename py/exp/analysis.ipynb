{
 "cells": [
  {
   "cell_type": "code",
   "execution_count": 104,
   "metadata": {},
   "outputs": [],
   "source": [
    "from google.cloud import storage\n",
    "import pandas as pd\n",
    "import matplotlib.pyplot as plt\n",
    "import json\n",
    "from datetime import datetime\n",
    "from urllib.parse import urlparse\n",
    "import plotly.express as px\n",
    "import seaborn as sns\n",
    "\n",
    "\n",
    "\n",
    "def read_logs_from_gs_uri(gs_uri):\n",
    "    \"\"\"\n",
    "    Read logs from a Google Cloud Storage file given a gs:// URI.\n",
    "    \"\"\"\n",
    "    # Parse the gs:// URI\n",
    "    parsed = urlparse(gs_uri)\n",
    "    if parsed.scheme != \"gs\":\n",
    "        raise ValueError(f\"Invalid URI scheme: {gs_uri}. Must start with 'gs://'.\")\n",
    "\n",
    "    bucket_name = parsed.netloc\n",
    "    file_path = parsed.path.lstrip('/')\n",
    "\n",
    "    # Initialize GCS client\n",
    "    client = storage.Client()\n",
    "    bucket = client.bucket(bucket_name)\n",
    "    blob = bucket.blob(file_path)\n",
    "    \n",
    "    # Download the JSON content as a string\n",
    "    logs_json = blob.download_as_string()\n",
    "\n",
    "    # Parse the JSON string into a list of dictionaries\n",
    "    logs = json.loads(logs_json)\n",
    "    return logs\n",
    "\n",
    "def analyze_message_flow(logs,desc = ''):\n",
    "  \n",
    "    # Create a DataFrame from the logs\n",
    "    df = pd.DataFrame(logs)\n",
    "\n",
    "    # Convert the 'timestamp' column to datetime type\n",
    "    df['timestamp'] = pd.to_datetime(df['timestamp'])\n",
    "\n",
    "    # Sort by 'timestamp' to maintain proper order\n",
    "    df = df.sort_values('timestamp')\n",
    "\n",
    "    # Create an interactive scatter plot for the message states over time\n",
    "    fig = px.line(\n",
    "        df,\n",
    "        x='timestamp',\n",
    "        y='message_id',\n",
    "        color='state',  # Color by the state to differentiate states visually\n",
    "        title= desc +  \"Plot for Message Transitions Over Time\",\n",
    "        labels={\"timestamp\": \"Time\", \"message id\": \"Message_ID\"},\n",
    "        hover_data=[\"message_id\"],\n",
    "        template=\"plotly_dark\",  # Optional: dark theme\n",
    "        markers=True\n",
    "    )\n",
    "\n",
    "    # Customize layout for better readability\n",
    "    fig.update_layout(\n",
    "        hovermode=\"closest\",\n",
    "        xaxis=dict(showgrid=True, title=\"Timestamp\"),\n",
    "        yaxis=dict(showgrid=True, title=\"State\"),\n",
    "        margin=dict(t=40, b=40, l=40, r=40),  # Adjust margins to make space for labels\n",
    "    )\n",
    "    \n",
    "    # Show the plot\n",
    "    fig.show()\n",
    "\n",
    "\n"
   ]
  },
  {
   "cell_type": "code",
   "execution_count": 67,
   "metadata": {},
   "outputs": [],
   "source": [
    "def calculate_latency_per_messages(logs):\n",
    "  df = pd.DataFrame(logs)\n",
    "  df['timestamp'] = pd.to_datetime(df['timestamp'])  # Convert to datetime\n",
    "  pending_times = df[df['state'] == 'pending'].set_index('message_id')['timestamp']\n",
    "  completed_times = df[df['state'] == 'completed'].set_index('message_id')['timestamp']\n",
    "  latency = completed_times - pending_times\n",
    "  latency_df =  latency.reset_index(name='latency')\n",
    "  latency_df['latency_seconds'] = latency_df['latency'].dt.total_seconds()\n",
    "  # Summary statistics\n",
    "  # stats = latency_df['latency_seconds'].describe()\n",
    "  # print(stats)\n",
    "  return latency_df\n"
   ]
  },
  {
   "cell_type": "code",
   "execution_count": 119,
   "metadata": {},
   "outputs": [],
   "source": [
    "\n",
    "def calculate_throughput(logs, time_interval='10S'):\n",
    "  \"\"\"\n",
    "  Calculate throughput (tasks completed per time interval) from a list of logs.\n",
    "  \n",
    "  Args:\n",
    "      logs (list): List of dictionaries containing log data. Each log should include 'timestamp' and 'state'.\n",
    "      time_interval (str): Pandas offset string for time intervals (e.g., '1T' for 1 minute).\n",
    "  \n",
    "  Returns:\n",
    "      pd.DataFrame: DataFrame with time intervals and corresponding throughput.\n",
    "  \"\"\"\n",
    "  # Convert logs to a DataFrame\n",
    "  df = pd.DataFrame(logs)\n",
    "  \n",
    "  # Ensure 'timestamp' is in datetime format\n",
    "  df['timestamp'] = pd.to_datetime(df['timestamp'])\n",
    "  \n",
    "  # Filter logs for the 'completed' state\n",
    "  completed_logs = df[df['state'] == 'completed']\n",
    "  \n",
    "  # Calculate throughput by resampling based on time intervals\n",
    "  throughput = completed_logs.set_index('timestamp').resample(time_interval).size()\n",
    "  \n",
    "  print(f\"throughput => {throughput}\")\n",
    "  \n",
    "  # Reset index and rename the throughput column\n",
    "  return throughput.reset_index(name='throughput')\n"
   ]
  },
  {
   "cell_type": "code",
   "execution_count": 96,
   "metadata": {},
   "outputs": [],
   "source": [
    "import plotly.graph_objects as go\n",
    "\n",
    "def plot_throughput_trends(throughput_df, desc=''):\n",
    "    \"\"\"\n",
    "    Plots interactive throughput trends over time using Plotly.\n",
    "\n",
    "    Args:\n",
    "        throughput_df (pd.DataFrame): DataFrame with `timestamp` and `throughput` columns.\n",
    "        desc (str): Description or title prefix for the plot.\n",
    "    \"\"\"\n",
    "    fig = go.Figure()\n",
    "\n",
    "    # Add throughput trace\n",
    "    fig.add_trace(\n",
    "        go.Scatter(\n",
    "            x=throughput_df['timestamp'],\n",
    "            y=throughput_df['throughput'],\n",
    "            mode='lines+markers',\n",
    "            marker=dict(color='green'),\n",
    "            line=dict(color='green'),\n",
    "            name='Throughput'\n",
    "        )\n",
    "    )\n",
    "\n",
    "    # Update layout\n",
    "    fig.update_layout(\n",
    "        title=f'{desc} Plot for Throughput Trends Over Time',\n",
    "        xaxis_title='Time',\n",
    "        yaxis_title='Tasks Completed (Throughput)',\n",
    "        template='plotly_dark',\n",
    "        legend=dict(title='Legend'),\n",
    "        xaxis=dict(showgrid=True),\n",
    "        yaxis=dict(showgrid=True),\n",
    "    )\n",
    "\n",
    "    fig.show()\n",
    "\n",
    "def plot_latency_trends(latency_df, desc=''):\n",
    "    \"\"\"\n",
    "    Plots interactive latency trends over message IDs using Plotly.\n",
    "\n",
    "    Args:\n",
    "        latency_df (pd.DataFrame): DataFrame with `message_id` and `latency_seconds` columns.\n",
    "        desc (str): Description or title prefix for the plot.\n",
    "    \"\"\"\n",
    "    fig = go.Figure()\n",
    "\n",
    "    # Add latency trace\n",
    "    fig.add_trace(\n",
    "        go.Scatter(\n",
    "            x=latency_df['message_id'],\n",
    "            y=latency_df['latency_seconds'],\n",
    "            mode='lines+markers',\n",
    "            marker=dict(color='blue'),\n",
    "            line=dict(color='blue'),\n",
    "            name='Latency'\n",
    "        )\n",
    "    )\n",
    "\n",
    "    # Update layout\n",
    "    fig.update_layout(\n",
    "        title=f'{desc} Plot for Latency Trends Over Time',\n",
    "        xaxis_title='Message ID',\n",
    "        yaxis_title='Latency (seconds)',\n",
    "        template='plotly_dark',\n",
    "        legend=dict(title='Legend'),\n",
    "        xaxis=dict(showgrid=True),\n",
    "        yaxis=dict(showgrid=True),\n",
    "    )\n",
    "\n",
    "    fig.show()\n"
   ]
  },
  {
   "cell_type": "code",
   "execution_count": 120,
   "metadata": {},
   "outputs": [
    {
     "data": {
      "application/vnd.plotly.v1+json": {
       "config": {
        "plotlyServerURL": "https://plot.ly"
       },
       "data": [
        {
         "hovertemplate": "state=pending<br>Time=%{x}<br>message_id=%{y}<extra></extra>",
         "legendgroup": "pending",
         "line": {
          "color": "#636efa",
          "dash": "solid"
         },
         "marker": {
          "symbol": "circle"
         },
         "mode": "lines+markers",
         "name": "pending",
         "orientation": "v",
         "showlegend": true,
         "type": "scatter",
         "x": [
          "2025-01-04T19:46:15.828610",
          "2025-01-04T19:46:15.829853",
          "2025-01-04T19:46:15.830826",
          "2025-01-04T19:46:15.831897",
          "2025-01-04T19:46:15.832697",
          "2025-01-04T19:46:15.834470",
          "2025-01-04T19:46:15.835112",
          "2025-01-04T19:46:15.836164",
          "2025-01-04T19:46:15.837102",
          "2025-01-04T19:46:15.837745"
         ],
         "xaxis": "x",
         "y": [
          1,
          2,
          3,
          4,
          5,
          6,
          7,
          8,
          9,
          10
         ],
         "yaxis": "y"
        },
        {
         "hovertemplate": "state=active<br>Time=%{x}<br>message_id=%{y}<extra></extra>",
         "legendgroup": "active",
         "line": {
          "color": "#EF553B",
          "dash": "solid"
         },
         "marker": {
          "symbol": "circle"
         },
         "mode": "lines+markers",
         "name": "active",
         "orientation": "v",
         "showlegend": true,
         "type": "scatter",
         "x": [
          "2025-01-04T19:46:16.322735",
          "2025-01-04T19:46:26.603676",
          "2025-01-04T19:46:36.871953",
          "2025-01-04T19:46:47.140863",
          "2025-01-04T19:46:57.409663",
          "2025-01-04T19:47:07.672124",
          "2025-01-04T19:47:17.941769",
          "2025-01-04T19:47:28.299509",
          "2025-01-04T19:47:38.569006",
          "2025-01-04T19:47:48.838008"
         ],
         "xaxis": "x",
         "y": [
          1,
          2,
          3,
          4,
          5,
          6,
          7,
          8,
          9,
          10
         ],
         "yaxis": "y"
        },
        {
         "hovertemplate": "state=completed<br>Time=%{x}<br>message_id=%{y}<extra></extra>",
         "legendgroup": "completed",
         "line": {
          "color": "#00cc96",
          "dash": "solid"
         },
         "marker": {
          "symbol": "circle"
         },
         "mode": "lines+markers",
         "name": "completed",
         "orientation": "v",
         "showlegend": true,
         "type": "scatter",
         "x": [
          "2025-01-04T19:46:26.484367",
          "2025-01-04T19:46:36.753550",
          "2025-01-04T19:46:47.021767",
          "2025-01-04T19:46:57.290658",
          "2025-01-04T19:47:07.553154",
          "2025-01-04T19:47:17.822798",
          "2025-01-04T19:47:28.180658",
          "2025-01-04T19:47:38.449676",
          "2025-01-04T19:47:48.719020",
          "2025-01-04T19:47:58.988062"
         ],
         "xaxis": "x",
         "y": [
          1,
          2,
          3,
          4,
          5,
          6,
          7,
          8,
          9,
          10
         ],
         "yaxis": "y"
        }
       ],
       "layout": {
        "hovermode": "closest",
        "legend": {
         "title": {
          "text": "state"
         },
         "tracegroupgap": 0
        },
        "margin": {
         "b": 40,
         "l": 40,
         "r": 40,
         "t": 40
        },
        "template": {
         "data": {
          "bar": [
           {
            "error_x": {
             "color": "#f2f5fa"
            },
            "error_y": {
             "color": "#f2f5fa"
            },
            "marker": {
             "line": {
              "color": "rgb(17,17,17)",
              "width": 0.5
             },
             "pattern": {
              "fillmode": "overlay",
              "size": 10,
              "solidity": 0.2
             }
            },
            "type": "bar"
           }
          ],
          "barpolar": [
           {
            "marker": {
             "line": {
              "color": "rgb(17,17,17)",
              "width": 0.5
             },
             "pattern": {
              "fillmode": "overlay",
              "size": 10,
              "solidity": 0.2
             }
            },
            "type": "barpolar"
           }
          ],
          "carpet": [
           {
            "aaxis": {
             "endlinecolor": "#A2B1C6",
             "gridcolor": "#506784",
             "linecolor": "#506784",
             "minorgridcolor": "#506784",
             "startlinecolor": "#A2B1C6"
            },
            "baxis": {
             "endlinecolor": "#A2B1C6",
             "gridcolor": "#506784",
             "linecolor": "#506784",
             "minorgridcolor": "#506784",
             "startlinecolor": "#A2B1C6"
            },
            "type": "carpet"
           }
          ],
          "choropleth": [
           {
            "colorbar": {
             "outlinewidth": 0,
             "ticks": ""
            },
            "type": "choropleth"
           }
          ],
          "contour": [
           {
            "colorbar": {
             "outlinewidth": 0,
             "ticks": ""
            },
            "colorscale": [
             [
              0,
              "#0d0887"
             ],
             [
              0.1111111111111111,
              "#46039f"
             ],
             [
              0.2222222222222222,
              "#7201a8"
             ],
             [
              0.3333333333333333,
              "#9c179e"
             ],
             [
              0.4444444444444444,
              "#bd3786"
             ],
             [
              0.5555555555555556,
              "#d8576b"
             ],
             [
              0.6666666666666666,
              "#ed7953"
             ],
             [
              0.7777777777777778,
              "#fb9f3a"
             ],
             [
              0.8888888888888888,
              "#fdca26"
             ],
             [
              1,
              "#f0f921"
             ]
            ],
            "type": "contour"
           }
          ],
          "contourcarpet": [
           {
            "colorbar": {
             "outlinewidth": 0,
             "ticks": ""
            },
            "type": "contourcarpet"
           }
          ],
          "heatmap": [
           {
            "colorbar": {
             "outlinewidth": 0,
             "ticks": ""
            },
            "colorscale": [
             [
              0,
              "#0d0887"
             ],
             [
              0.1111111111111111,
              "#46039f"
             ],
             [
              0.2222222222222222,
              "#7201a8"
             ],
             [
              0.3333333333333333,
              "#9c179e"
             ],
             [
              0.4444444444444444,
              "#bd3786"
             ],
             [
              0.5555555555555556,
              "#d8576b"
             ],
             [
              0.6666666666666666,
              "#ed7953"
             ],
             [
              0.7777777777777778,
              "#fb9f3a"
             ],
             [
              0.8888888888888888,
              "#fdca26"
             ],
             [
              1,
              "#f0f921"
             ]
            ],
            "type": "heatmap"
           }
          ],
          "heatmapgl": [
           {
            "colorbar": {
             "outlinewidth": 0,
             "ticks": ""
            },
            "colorscale": [
             [
              0,
              "#0d0887"
             ],
             [
              0.1111111111111111,
              "#46039f"
             ],
             [
              0.2222222222222222,
              "#7201a8"
             ],
             [
              0.3333333333333333,
              "#9c179e"
             ],
             [
              0.4444444444444444,
              "#bd3786"
             ],
             [
              0.5555555555555556,
              "#d8576b"
             ],
             [
              0.6666666666666666,
              "#ed7953"
             ],
             [
              0.7777777777777778,
              "#fb9f3a"
             ],
             [
              0.8888888888888888,
              "#fdca26"
             ],
             [
              1,
              "#f0f921"
             ]
            ],
            "type": "heatmapgl"
           }
          ],
          "histogram": [
           {
            "marker": {
             "pattern": {
              "fillmode": "overlay",
              "size": 10,
              "solidity": 0.2
             }
            },
            "type": "histogram"
           }
          ],
          "histogram2d": [
           {
            "colorbar": {
             "outlinewidth": 0,
             "ticks": ""
            },
            "colorscale": [
             [
              0,
              "#0d0887"
             ],
             [
              0.1111111111111111,
              "#46039f"
             ],
             [
              0.2222222222222222,
              "#7201a8"
             ],
             [
              0.3333333333333333,
              "#9c179e"
             ],
             [
              0.4444444444444444,
              "#bd3786"
             ],
             [
              0.5555555555555556,
              "#d8576b"
             ],
             [
              0.6666666666666666,
              "#ed7953"
             ],
             [
              0.7777777777777778,
              "#fb9f3a"
             ],
             [
              0.8888888888888888,
              "#fdca26"
             ],
             [
              1,
              "#f0f921"
             ]
            ],
            "type": "histogram2d"
           }
          ],
          "histogram2dcontour": [
           {
            "colorbar": {
             "outlinewidth": 0,
             "ticks": ""
            },
            "colorscale": [
             [
              0,
              "#0d0887"
             ],
             [
              0.1111111111111111,
              "#46039f"
             ],
             [
              0.2222222222222222,
              "#7201a8"
             ],
             [
              0.3333333333333333,
              "#9c179e"
             ],
             [
              0.4444444444444444,
              "#bd3786"
             ],
             [
              0.5555555555555556,
              "#d8576b"
             ],
             [
              0.6666666666666666,
              "#ed7953"
             ],
             [
              0.7777777777777778,
              "#fb9f3a"
             ],
             [
              0.8888888888888888,
              "#fdca26"
             ],
             [
              1,
              "#f0f921"
             ]
            ],
            "type": "histogram2dcontour"
           }
          ],
          "mesh3d": [
           {
            "colorbar": {
             "outlinewidth": 0,
             "ticks": ""
            },
            "type": "mesh3d"
           }
          ],
          "parcoords": [
           {
            "line": {
             "colorbar": {
              "outlinewidth": 0,
              "ticks": ""
             }
            },
            "type": "parcoords"
           }
          ],
          "pie": [
           {
            "automargin": true,
            "type": "pie"
           }
          ],
          "scatter": [
           {
            "marker": {
             "line": {
              "color": "#283442"
             }
            },
            "type": "scatter"
           }
          ],
          "scatter3d": [
           {
            "line": {
             "colorbar": {
              "outlinewidth": 0,
              "ticks": ""
             }
            },
            "marker": {
             "colorbar": {
              "outlinewidth": 0,
              "ticks": ""
             }
            },
            "type": "scatter3d"
           }
          ],
          "scattercarpet": [
           {
            "marker": {
             "colorbar": {
              "outlinewidth": 0,
              "ticks": ""
             }
            },
            "type": "scattercarpet"
           }
          ],
          "scattergeo": [
           {
            "marker": {
             "colorbar": {
              "outlinewidth": 0,
              "ticks": ""
             }
            },
            "type": "scattergeo"
           }
          ],
          "scattergl": [
           {
            "marker": {
             "line": {
              "color": "#283442"
             }
            },
            "type": "scattergl"
           }
          ],
          "scattermapbox": [
           {
            "marker": {
             "colorbar": {
              "outlinewidth": 0,
              "ticks": ""
             }
            },
            "type": "scattermapbox"
           }
          ],
          "scatterpolar": [
           {
            "marker": {
             "colorbar": {
              "outlinewidth": 0,
              "ticks": ""
             }
            },
            "type": "scatterpolar"
           }
          ],
          "scatterpolargl": [
           {
            "marker": {
             "colorbar": {
              "outlinewidth": 0,
              "ticks": ""
             }
            },
            "type": "scatterpolargl"
           }
          ],
          "scatterternary": [
           {
            "marker": {
             "colorbar": {
              "outlinewidth": 0,
              "ticks": ""
             }
            },
            "type": "scatterternary"
           }
          ],
          "surface": [
           {
            "colorbar": {
             "outlinewidth": 0,
             "ticks": ""
            },
            "colorscale": [
             [
              0,
              "#0d0887"
             ],
             [
              0.1111111111111111,
              "#46039f"
             ],
             [
              0.2222222222222222,
              "#7201a8"
             ],
             [
              0.3333333333333333,
              "#9c179e"
             ],
             [
              0.4444444444444444,
              "#bd3786"
             ],
             [
              0.5555555555555556,
              "#d8576b"
             ],
             [
              0.6666666666666666,
              "#ed7953"
             ],
             [
              0.7777777777777778,
              "#fb9f3a"
             ],
             [
              0.8888888888888888,
              "#fdca26"
             ],
             [
              1,
              "#f0f921"
             ]
            ],
            "type": "surface"
           }
          ],
          "table": [
           {
            "cells": {
             "fill": {
              "color": "#506784"
             },
             "line": {
              "color": "rgb(17,17,17)"
             }
            },
            "header": {
             "fill": {
              "color": "#2a3f5f"
             },
             "line": {
              "color": "rgb(17,17,17)"
             }
            },
            "type": "table"
           }
          ]
         },
         "layout": {
          "annotationdefaults": {
           "arrowcolor": "#f2f5fa",
           "arrowhead": 0,
           "arrowwidth": 1
          },
          "autotypenumbers": "strict",
          "coloraxis": {
           "colorbar": {
            "outlinewidth": 0,
            "ticks": ""
           }
          },
          "colorscale": {
           "diverging": [
            [
             0,
             "#8e0152"
            ],
            [
             0.1,
             "#c51b7d"
            ],
            [
             0.2,
             "#de77ae"
            ],
            [
             0.3,
             "#f1b6da"
            ],
            [
             0.4,
             "#fde0ef"
            ],
            [
             0.5,
             "#f7f7f7"
            ],
            [
             0.6,
             "#e6f5d0"
            ],
            [
             0.7,
             "#b8e186"
            ],
            [
             0.8,
             "#7fbc41"
            ],
            [
             0.9,
             "#4d9221"
            ],
            [
             1,
             "#276419"
            ]
           ],
           "sequential": [
            [
             0,
             "#0d0887"
            ],
            [
             0.1111111111111111,
             "#46039f"
            ],
            [
             0.2222222222222222,
             "#7201a8"
            ],
            [
             0.3333333333333333,
             "#9c179e"
            ],
            [
             0.4444444444444444,
             "#bd3786"
            ],
            [
             0.5555555555555556,
             "#d8576b"
            ],
            [
             0.6666666666666666,
             "#ed7953"
            ],
            [
             0.7777777777777778,
             "#fb9f3a"
            ],
            [
             0.8888888888888888,
             "#fdca26"
            ],
            [
             1,
             "#f0f921"
            ]
           ],
           "sequentialminus": [
            [
             0,
             "#0d0887"
            ],
            [
             0.1111111111111111,
             "#46039f"
            ],
            [
             0.2222222222222222,
             "#7201a8"
            ],
            [
             0.3333333333333333,
             "#9c179e"
            ],
            [
             0.4444444444444444,
             "#bd3786"
            ],
            [
             0.5555555555555556,
             "#d8576b"
            ],
            [
             0.6666666666666666,
             "#ed7953"
            ],
            [
             0.7777777777777778,
             "#fb9f3a"
            ],
            [
             0.8888888888888888,
             "#fdca26"
            ],
            [
             1,
             "#f0f921"
            ]
           ]
          },
          "colorway": [
           "#636efa",
           "#EF553B",
           "#00cc96",
           "#ab63fa",
           "#FFA15A",
           "#19d3f3",
           "#FF6692",
           "#B6E880",
           "#FF97FF",
           "#FECB52"
          ],
          "font": {
           "color": "#f2f5fa"
          },
          "geo": {
           "bgcolor": "rgb(17,17,17)",
           "lakecolor": "rgb(17,17,17)",
           "landcolor": "rgb(17,17,17)",
           "showlakes": true,
           "showland": true,
           "subunitcolor": "#506784"
          },
          "hoverlabel": {
           "align": "left"
          },
          "hovermode": "closest",
          "mapbox": {
           "style": "dark"
          },
          "paper_bgcolor": "rgb(17,17,17)",
          "plot_bgcolor": "rgb(17,17,17)",
          "polar": {
           "angularaxis": {
            "gridcolor": "#506784",
            "linecolor": "#506784",
            "ticks": ""
           },
           "bgcolor": "rgb(17,17,17)",
           "radialaxis": {
            "gridcolor": "#506784",
            "linecolor": "#506784",
            "ticks": ""
           }
          },
          "scene": {
           "xaxis": {
            "backgroundcolor": "rgb(17,17,17)",
            "gridcolor": "#506784",
            "gridwidth": 2,
            "linecolor": "#506784",
            "showbackground": true,
            "ticks": "",
            "zerolinecolor": "#C8D4E3"
           },
           "yaxis": {
            "backgroundcolor": "rgb(17,17,17)",
            "gridcolor": "#506784",
            "gridwidth": 2,
            "linecolor": "#506784",
            "showbackground": true,
            "ticks": "",
            "zerolinecolor": "#C8D4E3"
           },
           "zaxis": {
            "backgroundcolor": "rgb(17,17,17)",
            "gridcolor": "#506784",
            "gridwidth": 2,
            "linecolor": "#506784",
            "showbackground": true,
            "ticks": "",
            "zerolinecolor": "#C8D4E3"
           }
          },
          "shapedefaults": {
           "line": {
            "color": "#f2f5fa"
           }
          },
          "sliderdefaults": {
           "bgcolor": "#C8D4E3",
           "bordercolor": "rgb(17,17,17)",
           "borderwidth": 1,
           "tickwidth": 0
          },
          "ternary": {
           "aaxis": {
            "gridcolor": "#506784",
            "linecolor": "#506784",
            "ticks": ""
           },
           "baxis": {
            "gridcolor": "#506784",
            "linecolor": "#506784",
            "ticks": ""
           },
           "bgcolor": "rgb(17,17,17)",
           "caxis": {
            "gridcolor": "#506784",
            "linecolor": "#506784",
            "ticks": ""
           }
          },
          "title": {
           "x": 0.05
          },
          "updatemenudefaults": {
           "bgcolor": "#506784",
           "borderwidth": 0
          },
          "xaxis": {
           "automargin": true,
           "gridcolor": "#283442",
           "linecolor": "#506784",
           "ticks": "",
           "title": {
            "standoff": 15
           },
           "zerolinecolor": "#283442",
           "zerolinewidth": 2
          },
          "yaxis": {
           "automargin": true,
           "gridcolor": "#283442",
           "linecolor": "#506784",
           "ticks": "",
           "title": {
            "standoff": 15
           },
           "zerolinecolor": "#283442",
           "zerolinewidth": 2
          }
         }
        },
        "title": {
         "text": "10 tasks 1 workers batch-size => 1 : fast Plot for Message Transitions Over Time"
        },
        "xaxis": {
         "anchor": "y",
         "domain": [
          0,
          1
         ],
         "showgrid": true,
         "title": {
          "text": "Timestamp"
         }
        },
        "yaxis": {
         "anchor": "x",
         "domain": [
          0,
          1
         ],
         "showgrid": true,
         "title": {
          "text": "State"
         }
        }
       }
      }
     },
     "metadata": {},
     "output_type": "display_data"
    },
    {
     "data": {
      "application/vnd.plotly.v1+json": {
       "config": {
        "plotlyServerURL": "https://plot.ly"
       },
       "data": [
        {
         "line": {
          "color": "blue"
         },
         "marker": {
          "color": "blue"
         },
         "mode": "lines+markers",
         "name": "Latency",
         "type": "scatter",
         "x": [
          1,
          2,
          3,
          4,
          5,
          6,
          7,
          8,
          9,
          10
         ],
         "y": [
          10.655757,
          20.923697,
          31.190941,
          41.458761,
          51.720457,
          61.988328,
          72.345546,
          82.613512,
          92.881918,
          103.150317
         ]
        }
       ],
       "layout": {
        "legend": {
         "title": {
          "text": "Legend"
         }
        },
        "template": {
         "data": {
          "bar": [
           {
            "error_x": {
             "color": "#f2f5fa"
            },
            "error_y": {
             "color": "#f2f5fa"
            },
            "marker": {
             "line": {
              "color": "rgb(17,17,17)",
              "width": 0.5
             },
             "pattern": {
              "fillmode": "overlay",
              "size": 10,
              "solidity": 0.2
             }
            },
            "type": "bar"
           }
          ],
          "barpolar": [
           {
            "marker": {
             "line": {
              "color": "rgb(17,17,17)",
              "width": 0.5
             },
             "pattern": {
              "fillmode": "overlay",
              "size": 10,
              "solidity": 0.2
             }
            },
            "type": "barpolar"
           }
          ],
          "carpet": [
           {
            "aaxis": {
             "endlinecolor": "#A2B1C6",
             "gridcolor": "#506784",
             "linecolor": "#506784",
             "minorgridcolor": "#506784",
             "startlinecolor": "#A2B1C6"
            },
            "baxis": {
             "endlinecolor": "#A2B1C6",
             "gridcolor": "#506784",
             "linecolor": "#506784",
             "minorgridcolor": "#506784",
             "startlinecolor": "#A2B1C6"
            },
            "type": "carpet"
           }
          ],
          "choropleth": [
           {
            "colorbar": {
             "outlinewidth": 0,
             "ticks": ""
            },
            "type": "choropleth"
           }
          ],
          "contour": [
           {
            "colorbar": {
             "outlinewidth": 0,
             "ticks": ""
            },
            "colorscale": [
             [
              0,
              "#0d0887"
             ],
             [
              0.1111111111111111,
              "#46039f"
             ],
             [
              0.2222222222222222,
              "#7201a8"
             ],
             [
              0.3333333333333333,
              "#9c179e"
             ],
             [
              0.4444444444444444,
              "#bd3786"
             ],
             [
              0.5555555555555556,
              "#d8576b"
             ],
             [
              0.6666666666666666,
              "#ed7953"
             ],
             [
              0.7777777777777778,
              "#fb9f3a"
             ],
             [
              0.8888888888888888,
              "#fdca26"
             ],
             [
              1,
              "#f0f921"
             ]
            ],
            "type": "contour"
           }
          ],
          "contourcarpet": [
           {
            "colorbar": {
             "outlinewidth": 0,
             "ticks": ""
            },
            "type": "contourcarpet"
           }
          ],
          "heatmap": [
           {
            "colorbar": {
             "outlinewidth": 0,
             "ticks": ""
            },
            "colorscale": [
             [
              0,
              "#0d0887"
             ],
             [
              0.1111111111111111,
              "#46039f"
             ],
             [
              0.2222222222222222,
              "#7201a8"
             ],
             [
              0.3333333333333333,
              "#9c179e"
             ],
             [
              0.4444444444444444,
              "#bd3786"
             ],
             [
              0.5555555555555556,
              "#d8576b"
             ],
             [
              0.6666666666666666,
              "#ed7953"
             ],
             [
              0.7777777777777778,
              "#fb9f3a"
             ],
             [
              0.8888888888888888,
              "#fdca26"
             ],
             [
              1,
              "#f0f921"
             ]
            ],
            "type": "heatmap"
           }
          ],
          "heatmapgl": [
           {
            "colorbar": {
             "outlinewidth": 0,
             "ticks": ""
            },
            "colorscale": [
             [
              0,
              "#0d0887"
             ],
             [
              0.1111111111111111,
              "#46039f"
             ],
             [
              0.2222222222222222,
              "#7201a8"
             ],
             [
              0.3333333333333333,
              "#9c179e"
             ],
             [
              0.4444444444444444,
              "#bd3786"
             ],
             [
              0.5555555555555556,
              "#d8576b"
             ],
             [
              0.6666666666666666,
              "#ed7953"
             ],
             [
              0.7777777777777778,
              "#fb9f3a"
             ],
             [
              0.8888888888888888,
              "#fdca26"
             ],
             [
              1,
              "#f0f921"
             ]
            ],
            "type": "heatmapgl"
           }
          ],
          "histogram": [
           {
            "marker": {
             "pattern": {
              "fillmode": "overlay",
              "size": 10,
              "solidity": 0.2
             }
            },
            "type": "histogram"
           }
          ],
          "histogram2d": [
           {
            "colorbar": {
             "outlinewidth": 0,
             "ticks": ""
            },
            "colorscale": [
             [
              0,
              "#0d0887"
             ],
             [
              0.1111111111111111,
              "#46039f"
             ],
             [
              0.2222222222222222,
              "#7201a8"
             ],
             [
              0.3333333333333333,
              "#9c179e"
             ],
             [
              0.4444444444444444,
              "#bd3786"
             ],
             [
              0.5555555555555556,
              "#d8576b"
             ],
             [
              0.6666666666666666,
              "#ed7953"
             ],
             [
              0.7777777777777778,
              "#fb9f3a"
             ],
             [
              0.8888888888888888,
              "#fdca26"
             ],
             [
              1,
              "#f0f921"
             ]
            ],
            "type": "histogram2d"
           }
          ],
          "histogram2dcontour": [
           {
            "colorbar": {
             "outlinewidth": 0,
             "ticks": ""
            },
            "colorscale": [
             [
              0,
              "#0d0887"
             ],
             [
              0.1111111111111111,
              "#46039f"
             ],
             [
              0.2222222222222222,
              "#7201a8"
             ],
             [
              0.3333333333333333,
              "#9c179e"
             ],
             [
              0.4444444444444444,
              "#bd3786"
             ],
             [
              0.5555555555555556,
              "#d8576b"
             ],
             [
              0.6666666666666666,
              "#ed7953"
             ],
             [
              0.7777777777777778,
              "#fb9f3a"
             ],
             [
              0.8888888888888888,
              "#fdca26"
             ],
             [
              1,
              "#f0f921"
             ]
            ],
            "type": "histogram2dcontour"
           }
          ],
          "mesh3d": [
           {
            "colorbar": {
             "outlinewidth": 0,
             "ticks": ""
            },
            "type": "mesh3d"
           }
          ],
          "parcoords": [
           {
            "line": {
             "colorbar": {
              "outlinewidth": 0,
              "ticks": ""
             }
            },
            "type": "parcoords"
           }
          ],
          "pie": [
           {
            "automargin": true,
            "type": "pie"
           }
          ],
          "scatter": [
           {
            "marker": {
             "line": {
              "color": "#283442"
             }
            },
            "type": "scatter"
           }
          ],
          "scatter3d": [
           {
            "line": {
             "colorbar": {
              "outlinewidth": 0,
              "ticks": ""
             }
            },
            "marker": {
             "colorbar": {
              "outlinewidth": 0,
              "ticks": ""
             }
            },
            "type": "scatter3d"
           }
          ],
          "scattercarpet": [
           {
            "marker": {
             "colorbar": {
              "outlinewidth": 0,
              "ticks": ""
             }
            },
            "type": "scattercarpet"
           }
          ],
          "scattergeo": [
           {
            "marker": {
             "colorbar": {
              "outlinewidth": 0,
              "ticks": ""
             }
            },
            "type": "scattergeo"
           }
          ],
          "scattergl": [
           {
            "marker": {
             "line": {
              "color": "#283442"
             }
            },
            "type": "scattergl"
           }
          ],
          "scattermapbox": [
           {
            "marker": {
             "colorbar": {
              "outlinewidth": 0,
              "ticks": ""
             }
            },
            "type": "scattermapbox"
           }
          ],
          "scatterpolar": [
           {
            "marker": {
             "colorbar": {
              "outlinewidth": 0,
              "ticks": ""
             }
            },
            "type": "scatterpolar"
           }
          ],
          "scatterpolargl": [
           {
            "marker": {
             "colorbar": {
              "outlinewidth": 0,
              "ticks": ""
             }
            },
            "type": "scatterpolargl"
           }
          ],
          "scatterternary": [
           {
            "marker": {
             "colorbar": {
              "outlinewidth": 0,
              "ticks": ""
             }
            },
            "type": "scatterternary"
           }
          ],
          "surface": [
           {
            "colorbar": {
             "outlinewidth": 0,
             "ticks": ""
            },
            "colorscale": [
             [
              0,
              "#0d0887"
             ],
             [
              0.1111111111111111,
              "#46039f"
             ],
             [
              0.2222222222222222,
              "#7201a8"
             ],
             [
              0.3333333333333333,
              "#9c179e"
             ],
             [
              0.4444444444444444,
              "#bd3786"
             ],
             [
              0.5555555555555556,
              "#d8576b"
             ],
             [
              0.6666666666666666,
              "#ed7953"
             ],
             [
              0.7777777777777778,
              "#fb9f3a"
             ],
             [
              0.8888888888888888,
              "#fdca26"
             ],
             [
              1,
              "#f0f921"
             ]
            ],
            "type": "surface"
           }
          ],
          "table": [
           {
            "cells": {
             "fill": {
              "color": "#506784"
             },
             "line": {
              "color": "rgb(17,17,17)"
             }
            },
            "header": {
             "fill": {
              "color": "#2a3f5f"
             },
             "line": {
              "color": "rgb(17,17,17)"
             }
            },
            "type": "table"
           }
          ]
         },
         "layout": {
          "annotationdefaults": {
           "arrowcolor": "#f2f5fa",
           "arrowhead": 0,
           "arrowwidth": 1
          },
          "autotypenumbers": "strict",
          "coloraxis": {
           "colorbar": {
            "outlinewidth": 0,
            "ticks": ""
           }
          },
          "colorscale": {
           "diverging": [
            [
             0,
             "#8e0152"
            ],
            [
             0.1,
             "#c51b7d"
            ],
            [
             0.2,
             "#de77ae"
            ],
            [
             0.3,
             "#f1b6da"
            ],
            [
             0.4,
             "#fde0ef"
            ],
            [
             0.5,
             "#f7f7f7"
            ],
            [
             0.6,
             "#e6f5d0"
            ],
            [
             0.7,
             "#b8e186"
            ],
            [
             0.8,
             "#7fbc41"
            ],
            [
             0.9,
             "#4d9221"
            ],
            [
             1,
             "#276419"
            ]
           ],
           "sequential": [
            [
             0,
             "#0d0887"
            ],
            [
             0.1111111111111111,
             "#46039f"
            ],
            [
             0.2222222222222222,
             "#7201a8"
            ],
            [
             0.3333333333333333,
             "#9c179e"
            ],
            [
             0.4444444444444444,
             "#bd3786"
            ],
            [
             0.5555555555555556,
             "#d8576b"
            ],
            [
             0.6666666666666666,
             "#ed7953"
            ],
            [
             0.7777777777777778,
             "#fb9f3a"
            ],
            [
             0.8888888888888888,
             "#fdca26"
            ],
            [
             1,
             "#f0f921"
            ]
           ],
           "sequentialminus": [
            [
             0,
             "#0d0887"
            ],
            [
             0.1111111111111111,
             "#46039f"
            ],
            [
             0.2222222222222222,
             "#7201a8"
            ],
            [
             0.3333333333333333,
             "#9c179e"
            ],
            [
             0.4444444444444444,
             "#bd3786"
            ],
            [
             0.5555555555555556,
             "#d8576b"
            ],
            [
             0.6666666666666666,
             "#ed7953"
            ],
            [
             0.7777777777777778,
             "#fb9f3a"
            ],
            [
             0.8888888888888888,
             "#fdca26"
            ],
            [
             1,
             "#f0f921"
            ]
           ]
          },
          "colorway": [
           "#636efa",
           "#EF553B",
           "#00cc96",
           "#ab63fa",
           "#FFA15A",
           "#19d3f3",
           "#FF6692",
           "#B6E880",
           "#FF97FF",
           "#FECB52"
          ],
          "font": {
           "color": "#f2f5fa"
          },
          "geo": {
           "bgcolor": "rgb(17,17,17)",
           "lakecolor": "rgb(17,17,17)",
           "landcolor": "rgb(17,17,17)",
           "showlakes": true,
           "showland": true,
           "subunitcolor": "#506784"
          },
          "hoverlabel": {
           "align": "left"
          },
          "hovermode": "closest",
          "mapbox": {
           "style": "dark"
          },
          "paper_bgcolor": "rgb(17,17,17)",
          "plot_bgcolor": "rgb(17,17,17)",
          "polar": {
           "angularaxis": {
            "gridcolor": "#506784",
            "linecolor": "#506784",
            "ticks": ""
           },
           "bgcolor": "rgb(17,17,17)",
           "radialaxis": {
            "gridcolor": "#506784",
            "linecolor": "#506784",
            "ticks": ""
           }
          },
          "scene": {
           "xaxis": {
            "backgroundcolor": "rgb(17,17,17)",
            "gridcolor": "#506784",
            "gridwidth": 2,
            "linecolor": "#506784",
            "showbackground": true,
            "ticks": "",
            "zerolinecolor": "#C8D4E3"
           },
           "yaxis": {
            "backgroundcolor": "rgb(17,17,17)",
            "gridcolor": "#506784",
            "gridwidth": 2,
            "linecolor": "#506784",
            "showbackground": true,
            "ticks": "",
            "zerolinecolor": "#C8D4E3"
           },
           "zaxis": {
            "backgroundcolor": "rgb(17,17,17)",
            "gridcolor": "#506784",
            "gridwidth": 2,
            "linecolor": "#506784",
            "showbackground": true,
            "ticks": "",
            "zerolinecolor": "#C8D4E3"
           }
          },
          "shapedefaults": {
           "line": {
            "color": "#f2f5fa"
           }
          },
          "sliderdefaults": {
           "bgcolor": "#C8D4E3",
           "bordercolor": "rgb(17,17,17)",
           "borderwidth": 1,
           "tickwidth": 0
          },
          "ternary": {
           "aaxis": {
            "gridcolor": "#506784",
            "linecolor": "#506784",
            "ticks": ""
           },
           "baxis": {
            "gridcolor": "#506784",
            "linecolor": "#506784",
            "ticks": ""
           },
           "bgcolor": "rgb(17,17,17)",
           "caxis": {
            "gridcolor": "#506784",
            "linecolor": "#506784",
            "ticks": ""
           }
          },
          "title": {
           "x": 0.05
          },
          "updatemenudefaults": {
           "bgcolor": "#506784",
           "borderwidth": 0
          },
          "xaxis": {
           "automargin": true,
           "gridcolor": "#283442",
           "linecolor": "#506784",
           "ticks": "",
           "title": {
            "standoff": 15
           },
           "zerolinecolor": "#283442",
           "zerolinewidth": 2
          },
          "yaxis": {
           "automargin": true,
           "gridcolor": "#283442",
           "linecolor": "#506784",
           "ticks": "",
           "title": {
            "standoff": 15
           },
           "zerolinecolor": "#283442",
           "zerolinewidth": 2
          }
         }
        },
        "title": {
         "text": "10 tasks 1 workers batch-size => 1 : fast  Plot for Latency Trends Over Time"
        },
        "xaxis": {
         "showgrid": true,
         "title": {
          "text": "Message ID"
         }
        },
        "yaxis": {
         "showgrid": true,
         "title": {
          "text": "Latency (seconds)"
         }
        }
       }
      }
     },
     "metadata": {},
     "output_type": "display_data"
    },
    {
     "name": "stdout",
     "output_type": "stream",
     "text": [
      "throughput => timestamp\n",
      "2025-01-04 19:46:20    1\n",
      "2025-01-04 19:46:30    1\n",
      "2025-01-04 19:46:40    1\n",
      "2025-01-04 19:46:50    1\n",
      "2025-01-04 19:47:00    1\n",
      "2025-01-04 19:47:10    1\n",
      "2025-01-04 19:47:20    1\n",
      "2025-01-04 19:47:30    1\n",
      "2025-01-04 19:47:40    1\n",
      "2025-01-04 19:47:50    1\n",
      "Freq: 10S, dtype: int64\n"
     ]
    },
    {
     "data": {
      "application/vnd.plotly.v1+json": {
       "config": {
        "plotlyServerURL": "https://plot.ly"
       },
       "data": [
        {
         "line": {
          "color": "green"
         },
         "marker": {
          "color": "green"
         },
         "mode": "lines+markers",
         "name": "Throughput",
         "type": "scatter",
         "x": [
          "2025-01-04T19:46:20",
          "2025-01-04T19:46:30",
          "2025-01-04T19:46:40",
          "2025-01-04T19:46:50",
          "2025-01-04T19:47:00",
          "2025-01-04T19:47:10",
          "2025-01-04T19:47:20",
          "2025-01-04T19:47:30",
          "2025-01-04T19:47:40",
          "2025-01-04T19:47:50"
         ],
         "y": [
          1,
          1,
          1,
          1,
          1,
          1,
          1,
          1,
          1,
          1
         ]
        }
       ],
       "layout": {
        "legend": {
         "title": {
          "text": "Legend"
         }
        },
        "template": {
         "data": {
          "bar": [
           {
            "error_x": {
             "color": "#f2f5fa"
            },
            "error_y": {
             "color": "#f2f5fa"
            },
            "marker": {
             "line": {
              "color": "rgb(17,17,17)",
              "width": 0.5
             },
             "pattern": {
              "fillmode": "overlay",
              "size": 10,
              "solidity": 0.2
             }
            },
            "type": "bar"
           }
          ],
          "barpolar": [
           {
            "marker": {
             "line": {
              "color": "rgb(17,17,17)",
              "width": 0.5
             },
             "pattern": {
              "fillmode": "overlay",
              "size": 10,
              "solidity": 0.2
             }
            },
            "type": "barpolar"
           }
          ],
          "carpet": [
           {
            "aaxis": {
             "endlinecolor": "#A2B1C6",
             "gridcolor": "#506784",
             "linecolor": "#506784",
             "minorgridcolor": "#506784",
             "startlinecolor": "#A2B1C6"
            },
            "baxis": {
             "endlinecolor": "#A2B1C6",
             "gridcolor": "#506784",
             "linecolor": "#506784",
             "minorgridcolor": "#506784",
             "startlinecolor": "#A2B1C6"
            },
            "type": "carpet"
           }
          ],
          "choropleth": [
           {
            "colorbar": {
             "outlinewidth": 0,
             "ticks": ""
            },
            "type": "choropleth"
           }
          ],
          "contour": [
           {
            "colorbar": {
             "outlinewidth": 0,
             "ticks": ""
            },
            "colorscale": [
             [
              0,
              "#0d0887"
             ],
             [
              0.1111111111111111,
              "#46039f"
             ],
             [
              0.2222222222222222,
              "#7201a8"
             ],
             [
              0.3333333333333333,
              "#9c179e"
             ],
             [
              0.4444444444444444,
              "#bd3786"
             ],
             [
              0.5555555555555556,
              "#d8576b"
             ],
             [
              0.6666666666666666,
              "#ed7953"
             ],
             [
              0.7777777777777778,
              "#fb9f3a"
             ],
             [
              0.8888888888888888,
              "#fdca26"
             ],
             [
              1,
              "#f0f921"
             ]
            ],
            "type": "contour"
           }
          ],
          "contourcarpet": [
           {
            "colorbar": {
             "outlinewidth": 0,
             "ticks": ""
            },
            "type": "contourcarpet"
           }
          ],
          "heatmap": [
           {
            "colorbar": {
             "outlinewidth": 0,
             "ticks": ""
            },
            "colorscale": [
             [
              0,
              "#0d0887"
             ],
             [
              0.1111111111111111,
              "#46039f"
             ],
             [
              0.2222222222222222,
              "#7201a8"
             ],
             [
              0.3333333333333333,
              "#9c179e"
             ],
             [
              0.4444444444444444,
              "#bd3786"
             ],
             [
              0.5555555555555556,
              "#d8576b"
             ],
             [
              0.6666666666666666,
              "#ed7953"
             ],
             [
              0.7777777777777778,
              "#fb9f3a"
             ],
             [
              0.8888888888888888,
              "#fdca26"
             ],
             [
              1,
              "#f0f921"
             ]
            ],
            "type": "heatmap"
           }
          ],
          "heatmapgl": [
           {
            "colorbar": {
             "outlinewidth": 0,
             "ticks": ""
            },
            "colorscale": [
             [
              0,
              "#0d0887"
             ],
             [
              0.1111111111111111,
              "#46039f"
             ],
             [
              0.2222222222222222,
              "#7201a8"
             ],
             [
              0.3333333333333333,
              "#9c179e"
             ],
             [
              0.4444444444444444,
              "#bd3786"
             ],
             [
              0.5555555555555556,
              "#d8576b"
             ],
             [
              0.6666666666666666,
              "#ed7953"
             ],
             [
              0.7777777777777778,
              "#fb9f3a"
             ],
             [
              0.8888888888888888,
              "#fdca26"
             ],
             [
              1,
              "#f0f921"
             ]
            ],
            "type": "heatmapgl"
           }
          ],
          "histogram": [
           {
            "marker": {
             "pattern": {
              "fillmode": "overlay",
              "size": 10,
              "solidity": 0.2
             }
            },
            "type": "histogram"
           }
          ],
          "histogram2d": [
           {
            "colorbar": {
             "outlinewidth": 0,
             "ticks": ""
            },
            "colorscale": [
             [
              0,
              "#0d0887"
             ],
             [
              0.1111111111111111,
              "#46039f"
             ],
             [
              0.2222222222222222,
              "#7201a8"
             ],
             [
              0.3333333333333333,
              "#9c179e"
             ],
             [
              0.4444444444444444,
              "#bd3786"
             ],
             [
              0.5555555555555556,
              "#d8576b"
             ],
             [
              0.6666666666666666,
              "#ed7953"
             ],
             [
              0.7777777777777778,
              "#fb9f3a"
             ],
             [
              0.8888888888888888,
              "#fdca26"
             ],
             [
              1,
              "#f0f921"
             ]
            ],
            "type": "histogram2d"
           }
          ],
          "histogram2dcontour": [
           {
            "colorbar": {
             "outlinewidth": 0,
             "ticks": ""
            },
            "colorscale": [
             [
              0,
              "#0d0887"
             ],
             [
              0.1111111111111111,
              "#46039f"
             ],
             [
              0.2222222222222222,
              "#7201a8"
             ],
             [
              0.3333333333333333,
              "#9c179e"
             ],
             [
              0.4444444444444444,
              "#bd3786"
             ],
             [
              0.5555555555555556,
              "#d8576b"
             ],
             [
              0.6666666666666666,
              "#ed7953"
             ],
             [
              0.7777777777777778,
              "#fb9f3a"
             ],
             [
              0.8888888888888888,
              "#fdca26"
             ],
             [
              1,
              "#f0f921"
             ]
            ],
            "type": "histogram2dcontour"
           }
          ],
          "mesh3d": [
           {
            "colorbar": {
             "outlinewidth": 0,
             "ticks": ""
            },
            "type": "mesh3d"
           }
          ],
          "parcoords": [
           {
            "line": {
             "colorbar": {
              "outlinewidth": 0,
              "ticks": ""
             }
            },
            "type": "parcoords"
           }
          ],
          "pie": [
           {
            "automargin": true,
            "type": "pie"
           }
          ],
          "scatter": [
           {
            "marker": {
             "line": {
              "color": "#283442"
             }
            },
            "type": "scatter"
           }
          ],
          "scatter3d": [
           {
            "line": {
             "colorbar": {
              "outlinewidth": 0,
              "ticks": ""
             }
            },
            "marker": {
             "colorbar": {
              "outlinewidth": 0,
              "ticks": ""
             }
            },
            "type": "scatter3d"
           }
          ],
          "scattercarpet": [
           {
            "marker": {
             "colorbar": {
              "outlinewidth": 0,
              "ticks": ""
             }
            },
            "type": "scattercarpet"
           }
          ],
          "scattergeo": [
           {
            "marker": {
             "colorbar": {
              "outlinewidth": 0,
              "ticks": ""
             }
            },
            "type": "scattergeo"
           }
          ],
          "scattergl": [
           {
            "marker": {
             "line": {
              "color": "#283442"
             }
            },
            "type": "scattergl"
           }
          ],
          "scattermapbox": [
           {
            "marker": {
             "colorbar": {
              "outlinewidth": 0,
              "ticks": ""
             }
            },
            "type": "scattermapbox"
           }
          ],
          "scatterpolar": [
           {
            "marker": {
             "colorbar": {
              "outlinewidth": 0,
              "ticks": ""
             }
            },
            "type": "scatterpolar"
           }
          ],
          "scatterpolargl": [
           {
            "marker": {
             "colorbar": {
              "outlinewidth": 0,
              "ticks": ""
             }
            },
            "type": "scatterpolargl"
           }
          ],
          "scatterternary": [
           {
            "marker": {
             "colorbar": {
              "outlinewidth": 0,
              "ticks": ""
             }
            },
            "type": "scatterternary"
           }
          ],
          "surface": [
           {
            "colorbar": {
             "outlinewidth": 0,
             "ticks": ""
            },
            "colorscale": [
             [
              0,
              "#0d0887"
             ],
             [
              0.1111111111111111,
              "#46039f"
             ],
             [
              0.2222222222222222,
              "#7201a8"
             ],
             [
              0.3333333333333333,
              "#9c179e"
             ],
             [
              0.4444444444444444,
              "#bd3786"
             ],
             [
              0.5555555555555556,
              "#d8576b"
             ],
             [
              0.6666666666666666,
              "#ed7953"
             ],
             [
              0.7777777777777778,
              "#fb9f3a"
             ],
             [
              0.8888888888888888,
              "#fdca26"
             ],
             [
              1,
              "#f0f921"
             ]
            ],
            "type": "surface"
           }
          ],
          "table": [
           {
            "cells": {
             "fill": {
              "color": "#506784"
             },
             "line": {
              "color": "rgb(17,17,17)"
             }
            },
            "header": {
             "fill": {
              "color": "#2a3f5f"
             },
             "line": {
              "color": "rgb(17,17,17)"
             }
            },
            "type": "table"
           }
          ]
         },
         "layout": {
          "annotationdefaults": {
           "arrowcolor": "#f2f5fa",
           "arrowhead": 0,
           "arrowwidth": 1
          },
          "autotypenumbers": "strict",
          "coloraxis": {
           "colorbar": {
            "outlinewidth": 0,
            "ticks": ""
           }
          },
          "colorscale": {
           "diverging": [
            [
             0,
             "#8e0152"
            ],
            [
             0.1,
             "#c51b7d"
            ],
            [
             0.2,
             "#de77ae"
            ],
            [
             0.3,
             "#f1b6da"
            ],
            [
             0.4,
             "#fde0ef"
            ],
            [
             0.5,
             "#f7f7f7"
            ],
            [
             0.6,
             "#e6f5d0"
            ],
            [
             0.7,
             "#b8e186"
            ],
            [
             0.8,
             "#7fbc41"
            ],
            [
             0.9,
             "#4d9221"
            ],
            [
             1,
             "#276419"
            ]
           ],
           "sequential": [
            [
             0,
             "#0d0887"
            ],
            [
             0.1111111111111111,
             "#46039f"
            ],
            [
             0.2222222222222222,
             "#7201a8"
            ],
            [
             0.3333333333333333,
             "#9c179e"
            ],
            [
             0.4444444444444444,
             "#bd3786"
            ],
            [
             0.5555555555555556,
             "#d8576b"
            ],
            [
             0.6666666666666666,
             "#ed7953"
            ],
            [
             0.7777777777777778,
             "#fb9f3a"
            ],
            [
             0.8888888888888888,
             "#fdca26"
            ],
            [
             1,
             "#f0f921"
            ]
           ],
           "sequentialminus": [
            [
             0,
             "#0d0887"
            ],
            [
             0.1111111111111111,
             "#46039f"
            ],
            [
             0.2222222222222222,
             "#7201a8"
            ],
            [
             0.3333333333333333,
             "#9c179e"
            ],
            [
             0.4444444444444444,
             "#bd3786"
            ],
            [
             0.5555555555555556,
             "#d8576b"
            ],
            [
             0.6666666666666666,
             "#ed7953"
            ],
            [
             0.7777777777777778,
             "#fb9f3a"
            ],
            [
             0.8888888888888888,
             "#fdca26"
            ],
            [
             1,
             "#f0f921"
            ]
           ]
          },
          "colorway": [
           "#636efa",
           "#EF553B",
           "#00cc96",
           "#ab63fa",
           "#FFA15A",
           "#19d3f3",
           "#FF6692",
           "#B6E880",
           "#FF97FF",
           "#FECB52"
          ],
          "font": {
           "color": "#f2f5fa"
          },
          "geo": {
           "bgcolor": "rgb(17,17,17)",
           "lakecolor": "rgb(17,17,17)",
           "landcolor": "rgb(17,17,17)",
           "showlakes": true,
           "showland": true,
           "subunitcolor": "#506784"
          },
          "hoverlabel": {
           "align": "left"
          },
          "hovermode": "closest",
          "mapbox": {
           "style": "dark"
          },
          "paper_bgcolor": "rgb(17,17,17)",
          "plot_bgcolor": "rgb(17,17,17)",
          "polar": {
           "angularaxis": {
            "gridcolor": "#506784",
            "linecolor": "#506784",
            "ticks": ""
           },
           "bgcolor": "rgb(17,17,17)",
           "radialaxis": {
            "gridcolor": "#506784",
            "linecolor": "#506784",
            "ticks": ""
           }
          },
          "scene": {
           "xaxis": {
            "backgroundcolor": "rgb(17,17,17)",
            "gridcolor": "#506784",
            "gridwidth": 2,
            "linecolor": "#506784",
            "showbackground": true,
            "ticks": "",
            "zerolinecolor": "#C8D4E3"
           },
           "yaxis": {
            "backgroundcolor": "rgb(17,17,17)",
            "gridcolor": "#506784",
            "gridwidth": 2,
            "linecolor": "#506784",
            "showbackground": true,
            "ticks": "",
            "zerolinecolor": "#C8D4E3"
           },
           "zaxis": {
            "backgroundcolor": "rgb(17,17,17)",
            "gridcolor": "#506784",
            "gridwidth": 2,
            "linecolor": "#506784",
            "showbackground": true,
            "ticks": "",
            "zerolinecolor": "#C8D4E3"
           }
          },
          "shapedefaults": {
           "line": {
            "color": "#f2f5fa"
           }
          },
          "sliderdefaults": {
           "bgcolor": "#C8D4E3",
           "bordercolor": "rgb(17,17,17)",
           "borderwidth": 1,
           "tickwidth": 0
          },
          "ternary": {
           "aaxis": {
            "gridcolor": "#506784",
            "linecolor": "#506784",
            "ticks": ""
           },
           "baxis": {
            "gridcolor": "#506784",
            "linecolor": "#506784",
            "ticks": ""
           },
           "bgcolor": "rgb(17,17,17)",
           "caxis": {
            "gridcolor": "#506784",
            "linecolor": "#506784",
            "ticks": ""
           }
          },
          "title": {
           "x": 0.05
          },
          "updatemenudefaults": {
           "bgcolor": "#506784",
           "borderwidth": 0
          },
          "xaxis": {
           "automargin": true,
           "gridcolor": "#283442",
           "linecolor": "#506784",
           "ticks": "",
           "title": {
            "standoff": 15
           },
           "zerolinecolor": "#283442",
           "zerolinewidth": 2
          },
          "yaxis": {
           "automargin": true,
           "gridcolor": "#283442",
           "linecolor": "#506784",
           "ticks": "",
           "title": {
            "standoff": 15
           },
           "zerolinecolor": "#283442",
           "zerolinewidth": 2
          }
         }
        },
        "title": {
         "text": "10 tasks 1 workers batch-size => 1 : fast  Plot for Throughput Trends Over Time"
        },
        "xaxis": {
         "showgrid": true,
         "title": {
          "text": "Time"
         }
        },
        "yaxis": {
         "showgrid": true,
         "title": {
          "text": "Tasks Completed (Throughput)"
         }
        }
       }
      }
     },
     "metadata": {},
     "output_type": "display_data"
    },
    {
     "data": {
      "application/vnd.plotly.v1+json": {
       "config": {
        "plotlyServerURL": "https://plot.ly"
       },
       "data": [
        {
         "hovertemplate": "state=pending<br>Time=%{x}<br>message_id=%{y}<extra></extra>",
         "legendgroup": "pending",
         "line": {
          "color": "#636efa",
          "dash": "solid"
         },
         "marker": {
          "symbol": "circle"
         },
         "mode": "lines+markers",
         "name": "pending",
         "orientation": "v",
         "showlegend": true,
         "type": "scatter",
         "x": [
          "2024-12-31T09:39:11.022331",
          "2024-12-31T09:39:11.031632",
          "2024-12-31T09:39:11.033397",
          "2024-12-31T09:39:11.038632",
          "2024-12-31T09:39:11.040371",
          "2024-12-31T09:39:11.043252",
          "2024-12-31T09:39:11.182702",
          "2024-12-31T09:39:11.208347",
          "2024-12-31T09:39:11.244373",
          "2024-12-31T09:39:11.269720"
         ],
         "xaxis": "x",
         "y": [
          1,
          2,
          3,
          4,
          5,
          6,
          7,
          8,
          9,
          10
         ],
         "yaxis": "y"
        },
        {
         "hovertemplate": "state=active<br>Time=%{x}<br>message_id=%{y}<extra></extra>",
         "legendgroup": "active",
         "line": {
          "color": "#EF553B",
          "dash": "solid"
         },
         "marker": {
          "symbol": "circle"
         },
         "mode": "lines+markers",
         "name": "active",
         "orientation": "v",
         "showlegend": true,
         "type": "scatter",
         "x": [
          "2024-12-31T09:39:11.297756",
          "2024-12-31T09:39:11.297756",
          "2024-12-31T09:39:11.297756",
          "2024-12-31T09:39:11.297756",
          "2024-12-31T09:39:11.297756",
          "2024-12-31T09:39:13.491352",
          "2024-12-31T09:39:13.491352",
          "2024-12-31T09:39:13.491352",
          "2024-12-31T09:39:13.491352",
          "2024-12-31T09:39:13.491352"
         ],
         "xaxis": "x",
         "y": [
          4,
          3,
          5,
          1,
          2,
          6,
          7,
          8,
          9,
          10
         ],
         "yaxis": "y"
        },
        {
         "hovertemplate": "state=completed<br>Time=%{x}<br>message_id=%{y}<extra></extra>",
         "legendgroup": "completed",
         "line": {
          "color": "#00cc96",
          "dash": "solid"
         },
         "marker": {
          "symbol": "circle"
         },
         "mode": "lines+markers",
         "name": "completed",
         "orientation": "v",
         "showlegend": true,
         "type": "scatter",
         "x": [
          "2024-12-31T09:40:01.486345",
          "2024-12-31T09:40:01.486569",
          "2024-12-31T09:40:01.486767",
          "2024-12-31T09:40:01.486984",
          "2024-12-31T09:40:01.487301",
          "2024-12-31T09:40:03.674674",
          "2024-12-31T09:40:03.674917",
          "2024-12-31T09:40:03.675134",
          "2024-12-31T09:40:03.675359",
          "2024-12-31T09:40:03.675590"
         ],
         "xaxis": "x",
         "y": [
          1,
          2,
          3,
          4,
          5,
          6,
          7,
          8,
          9,
          10
         ],
         "yaxis": "y"
        }
       ],
       "layout": {
        "hovermode": "closest",
        "legend": {
         "title": {
          "text": "state"
         },
         "tracegroupgap": 0
        },
        "margin": {
         "b": 40,
         "l": 40,
         "r": 40,
         "t": 40
        },
        "template": {
         "data": {
          "bar": [
           {
            "error_x": {
             "color": "#f2f5fa"
            },
            "error_y": {
             "color": "#f2f5fa"
            },
            "marker": {
             "line": {
              "color": "rgb(17,17,17)",
              "width": 0.5
             },
             "pattern": {
              "fillmode": "overlay",
              "size": 10,
              "solidity": 0.2
             }
            },
            "type": "bar"
           }
          ],
          "barpolar": [
           {
            "marker": {
             "line": {
              "color": "rgb(17,17,17)",
              "width": 0.5
             },
             "pattern": {
              "fillmode": "overlay",
              "size": 10,
              "solidity": 0.2
             }
            },
            "type": "barpolar"
           }
          ],
          "carpet": [
           {
            "aaxis": {
             "endlinecolor": "#A2B1C6",
             "gridcolor": "#506784",
             "linecolor": "#506784",
             "minorgridcolor": "#506784",
             "startlinecolor": "#A2B1C6"
            },
            "baxis": {
             "endlinecolor": "#A2B1C6",
             "gridcolor": "#506784",
             "linecolor": "#506784",
             "minorgridcolor": "#506784",
             "startlinecolor": "#A2B1C6"
            },
            "type": "carpet"
           }
          ],
          "choropleth": [
           {
            "colorbar": {
             "outlinewidth": 0,
             "ticks": ""
            },
            "type": "choropleth"
           }
          ],
          "contour": [
           {
            "colorbar": {
             "outlinewidth": 0,
             "ticks": ""
            },
            "colorscale": [
             [
              0,
              "#0d0887"
             ],
             [
              0.1111111111111111,
              "#46039f"
             ],
             [
              0.2222222222222222,
              "#7201a8"
             ],
             [
              0.3333333333333333,
              "#9c179e"
             ],
             [
              0.4444444444444444,
              "#bd3786"
             ],
             [
              0.5555555555555556,
              "#d8576b"
             ],
             [
              0.6666666666666666,
              "#ed7953"
             ],
             [
              0.7777777777777778,
              "#fb9f3a"
             ],
             [
              0.8888888888888888,
              "#fdca26"
             ],
             [
              1,
              "#f0f921"
             ]
            ],
            "type": "contour"
           }
          ],
          "contourcarpet": [
           {
            "colorbar": {
             "outlinewidth": 0,
             "ticks": ""
            },
            "type": "contourcarpet"
           }
          ],
          "heatmap": [
           {
            "colorbar": {
             "outlinewidth": 0,
             "ticks": ""
            },
            "colorscale": [
             [
              0,
              "#0d0887"
             ],
             [
              0.1111111111111111,
              "#46039f"
             ],
             [
              0.2222222222222222,
              "#7201a8"
             ],
             [
              0.3333333333333333,
              "#9c179e"
             ],
             [
              0.4444444444444444,
              "#bd3786"
             ],
             [
              0.5555555555555556,
              "#d8576b"
             ],
             [
              0.6666666666666666,
              "#ed7953"
             ],
             [
              0.7777777777777778,
              "#fb9f3a"
             ],
             [
              0.8888888888888888,
              "#fdca26"
             ],
             [
              1,
              "#f0f921"
             ]
            ],
            "type": "heatmap"
           }
          ],
          "heatmapgl": [
           {
            "colorbar": {
             "outlinewidth": 0,
             "ticks": ""
            },
            "colorscale": [
             [
              0,
              "#0d0887"
             ],
             [
              0.1111111111111111,
              "#46039f"
             ],
             [
              0.2222222222222222,
              "#7201a8"
             ],
             [
              0.3333333333333333,
              "#9c179e"
             ],
             [
              0.4444444444444444,
              "#bd3786"
             ],
             [
              0.5555555555555556,
              "#d8576b"
             ],
             [
              0.6666666666666666,
              "#ed7953"
             ],
             [
              0.7777777777777778,
              "#fb9f3a"
             ],
             [
              0.8888888888888888,
              "#fdca26"
             ],
             [
              1,
              "#f0f921"
             ]
            ],
            "type": "heatmapgl"
           }
          ],
          "histogram": [
           {
            "marker": {
             "pattern": {
              "fillmode": "overlay",
              "size": 10,
              "solidity": 0.2
             }
            },
            "type": "histogram"
           }
          ],
          "histogram2d": [
           {
            "colorbar": {
             "outlinewidth": 0,
             "ticks": ""
            },
            "colorscale": [
             [
              0,
              "#0d0887"
             ],
             [
              0.1111111111111111,
              "#46039f"
             ],
             [
              0.2222222222222222,
              "#7201a8"
             ],
             [
              0.3333333333333333,
              "#9c179e"
             ],
             [
              0.4444444444444444,
              "#bd3786"
             ],
             [
              0.5555555555555556,
              "#d8576b"
             ],
             [
              0.6666666666666666,
              "#ed7953"
             ],
             [
              0.7777777777777778,
              "#fb9f3a"
             ],
             [
              0.8888888888888888,
              "#fdca26"
             ],
             [
              1,
              "#f0f921"
             ]
            ],
            "type": "histogram2d"
           }
          ],
          "histogram2dcontour": [
           {
            "colorbar": {
             "outlinewidth": 0,
             "ticks": ""
            },
            "colorscale": [
             [
              0,
              "#0d0887"
             ],
             [
              0.1111111111111111,
              "#46039f"
             ],
             [
              0.2222222222222222,
              "#7201a8"
             ],
             [
              0.3333333333333333,
              "#9c179e"
             ],
             [
              0.4444444444444444,
              "#bd3786"
             ],
             [
              0.5555555555555556,
              "#d8576b"
             ],
             [
              0.6666666666666666,
              "#ed7953"
             ],
             [
              0.7777777777777778,
              "#fb9f3a"
             ],
             [
              0.8888888888888888,
              "#fdca26"
             ],
             [
              1,
              "#f0f921"
             ]
            ],
            "type": "histogram2dcontour"
           }
          ],
          "mesh3d": [
           {
            "colorbar": {
             "outlinewidth": 0,
             "ticks": ""
            },
            "type": "mesh3d"
           }
          ],
          "parcoords": [
           {
            "line": {
             "colorbar": {
              "outlinewidth": 0,
              "ticks": ""
             }
            },
            "type": "parcoords"
           }
          ],
          "pie": [
           {
            "automargin": true,
            "type": "pie"
           }
          ],
          "scatter": [
           {
            "marker": {
             "line": {
              "color": "#283442"
             }
            },
            "type": "scatter"
           }
          ],
          "scatter3d": [
           {
            "line": {
             "colorbar": {
              "outlinewidth": 0,
              "ticks": ""
             }
            },
            "marker": {
             "colorbar": {
              "outlinewidth": 0,
              "ticks": ""
             }
            },
            "type": "scatter3d"
           }
          ],
          "scattercarpet": [
           {
            "marker": {
             "colorbar": {
              "outlinewidth": 0,
              "ticks": ""
             }
            },
            "type": "scattercarpet"
           }
          ],
          "scattergeo": [
           {
            "marker": {
             "colorbar": {
              "outlinewidth": 0,
              "ticks": ""
             }
            },
            "type": "scattergeo"
           }
          ],
          "scattergl": [
           {
            "marker": {
             "line": {
              "color": "#283442"
             }
            },
            "type": "scattergl"
           }
          ],
          "scattermapbox": [
           {
            "marker": {
             "colorbar": {
              "outlinewidth": 0,
              "ticks": ""
             }
            },
            "type": "scattermapbox"
           }
          ],
          "scatterpolar": [
           {
            "marker": {
             "colorbar": {
              "outlinewidth": 0,
              "ticks": ""
             }
            },
            "type": "scatterpolar"
           }
          ],
          "scatterpolargl": [
           {
            "marker": {
             "colorbar": {
              "outlinewidth": 0,
              "ticks": ""
             }
            },
            "type": "scatterpolargl"
           }
          ],
          "scatterternary": [
           {
            "marker": {
             "colorbar": {
              "outlinewidth": 0,
              "ticks": ""
             }
            },
            "type": "scatterternary"
           }
          ],
          "surface": [
           {
            "colorbar": {
             "outlinewidth": 0,
             "ticks": ""
            },
            "colorscale": [
             [
              0,
              "#0d0887"
             ],
             [
              0.1111111111111111,
              "#46039f"
             ],
             [
              0.2222222222222222,
              "#7201a8"
             ],
             [
              0.3333333333333333,
              "#9c179e"
             ],
             [
              0.4444444444444444,
              "#bd3786"
             ],
             [
              0.5555555555555556,
              "#d8576b"
             ],
             [
              0.6666666666666666,
              "#ed7953"
             ],
             [
              0.7777777777777778,
              "#fb9f3a"
             ],
             [
              0.8888888888888888,
              "#fdca26"
             ],
             [
              1,
              "#f0f921"
             ]
            ],
            "type": "surface"
           }
          ],
          "table": [
           {
            "cells": {
             "fill": {
              "color": "#506784"
             },
             "line": {
              "color": "rgb(17,17,17)"
             }
            },
            "header": {
             "fill": {
              "color": "#2a3f5f"
             },
             "line": {
              "color": "rgb(17,17,17)"
             }
            },
            "type": "table"
           }
          ]
         },
         "layout": {
          "annotationdefaults": {
           "arrowcolor": "#f2f5fa",
           "arrowhead": 0,
           "arrowwidth": 1
          },
          "autotypenumbers": "strict",
          "coloraxis": {
           "colorbar": {
            "outlinewidth": 0,
            "ticks": ""
           }
          },
          "colorscale": {
           "diverging": [
            [
             0,
             "#8e0152"
            ],
            [
             0.1,
             "#c51b7d"
            ],
            [
             0.2,
             "#de77ae"
            ],
            [
             0.3,
             "#f1b6da"
            ],
            [
             0.4,
             "#fde0ef"
            ],
            [
             0.5,
             "#f7f7f7"
            ],
            [
             0.6,
             "#e6f5d0"
            ],
            [
             0.7,
             "#b8e186"
            ],
            [
             0.8,
             "#7fbc41"
            ],
            [
             0.9,
             "#4d9221"
            ],
            [
             1,
             "#276419"
            ]
           ],
           "sequential": [
            [
             0,
             "#0d0887"
            ],
            [
             0.1111111111111111,
             "#46039f"
            ],
            [
             0.2222222222222222,
             "#7201a8"
            ],
            [
             0.3333333333333333,
             "#9c179e"
            ],
            [
             0.4444444444444444,
             "#bd3786"
            ],
            [
             0.5555555555555556,
             "#d8576b"
            ],
            [
             0.6666666666666666,
             "#ed7953"
            ],
            [
             0.7777777777777778,
             "#fb9f3a"
            ],
            [
             0.8888888888888888,
             "#fdca26"
            ],
            [
             1,
             "#f0f921"
            ]
           ],
           "sequentialminus": [
            [
             0,
             "#0d0887"
            ],
            [
             0.1111111111111111,
             "#46039f"
            ],
            [
             0.2222222222222222,
             "#7201a8"
            ],
            [
             0.3333333333333333,
             "#9c179e"
            ],
            [
             0.4444444444444444,
             "#bd3786"
            ],
            [
             0.5555555555555556,
             "#d8576b"
            ],
            [
             0.6666666666666666,
             "#ed7953"
            ],
            [
             0.7777777777777778,
             "#fb9f3a"
            ],
            [
             0.8888888888888888,
             "#fdca26"
            ],
            [
             1,
             "#f0f921"
            ]
           ]
          },
          "colorway": [
           "#636efa",
           "#EF553B",
           "#00cc96",
           "#ab63fa",
           "#FFA15A",
           "#19d3f3",
           "#FF6692",
           "#B6E880",
           "#FF97FF",
           "#FECB52"
          ],
          "font": {
           "color": "#f2f5fa"
          },
          "geo": {
           "bgcolor": "rgb(17,17,17)",
           "lakecolor": "rgb(17,17,17)",
           "landcolor": "rgb(17,17,17)",
           "showlakes": true,
           "showland": true,
           "subunitcolor": "#506784"
          },
          "hoverlabel": {
           "align": "left"
          },
          "hovermode": "closest",
          "mapbox": {
           "style": "dark"
          },
          "paper_bgcolor": "rgb(17,17,17)",
          "plot_bgcolor": "rgb(17,17,17)",
          "polar": {
           "angularaxis": {
            "gridcolor": "#506784",
            "linecolor": "#506784",
            "ticks": ""
           },
           "bgcolor": "rgb(17,17,17)",
           "radialaxis": {
            "gridcolor": "#506784",
            "linecolor": "#506784",
            "ticks": ""
           }
          },
          "scene": {
           "xaxis": {
            "backgroundcolor": "rgb(17,17,17)",
            "gridcolor": "#506784",
            "gridwidth": 2,
            "linecolor": "#506784",
            "showbackground": true,
            "ticks": "",
            "zerolinecolor": "#C8D4E3"
           },
           "yaxis": {
            "backgroundcolor": "rgb(17,17,17)",
            "gridcolor": "#506784",
            "gridwidth": 2,
            "linecolor": "#506784",
            "showbackground": true,
            "ticks": "",
            "zerolinecolor": "#C8D4E3"
           },
           "zaxis": {
            "backgroundcolor": "rgb(17,17,17)",
            "gridcolor": "#506784",
            "gridwidth": 2,
            "linecolor": "#506784",
            "showbackground": true,
            "ticks": "",
            "zerolinecolor": "#C8D4E3"
           }
          },
          "shapedefaults": {
           "line": {
            "color": "#f2f5fa"
           }
          },
          "sliderdefaults": {
           "bgcolor": "#C8D4E3",
           "bordercolor": "rgb(17,17,17)",
           "borderwidth": 1,
           "tickwidth": 0
          },
          "ternary": {
           "aaxis": {
            "gridcolor": "#506784",
            "linecolor": "#506784",
            "ticks": ""
           },
           "baxis": {
            "gridcolor": "#506784",
            "linecolor": "#506784",
            "ticks": ""
           },
           "bgcolor": "rgb(17,17,17)",
           "caxis": {
            "gridcolor": "#506784",
            "linecolor": "#506784",
            "ticks": ""
           }
          },
          "title": {
           "x": 0.05
          },
          "updatemenudefaults": {
           "bgcolor": "#506784",
           "borderwidth": 0
          },
          "xaxis": {
           "automargin": true,
           "gridcolor": "#283442",
           "linecolor": "#506784",
           "ticks": "",
           "title": {
            "standoff": 15
           },
           "zerolinecolor": "#283442",
           "zerolinewidth": 2
          },
          "yaxis": {
           "automargin": true,
           "gridcolor": "#283442",
           "linecolor": "#506784",
           "ticks": "",
           "title": {
            "standoff": 15
           },
           "zerolinecolor": "#283442",
           "zerolinewidth": 2
          }
         }
        },
        "title": {
         "text": "10 tasks 2 workers batch-size => 5 : fast Plot for Message Transitions Over Time"
        },
        "xaxis": {
         "anchor": "y",
         "domain": [
          0,
          1
         ],
         "showgrid": true,
         "title": {
          "text": "Timestamp"
         }
        },
        "yaxis": {
         "anchor": "x",
         "domain": [
          0,
          1
         ],
         "showgrid": true,
         "title": {
          "text": "State"
         }
        }
       }
      }
     },
     "metadata": {},
     "output_type": "display_data"
    },
    {
     "data": {
      "application/vnd.plotly.v1+json": {
       "config": {
        "plotlyServerURL": "https://plot.ly"
       },
       "data": [
        {
         "line": {
          "color": "blue"
         },
         "marker": {
          "color": "blue"
         },
         "mode": "lines+markers",
         "name": "Latency",
         "type": "scatter",
         "x": [
          1,
          2,
          3,
          4,
          5,
          6,
          7,
          8,
          9,
          10
         ],
         "y": [
          50.464014,
          50.454937,
          50.45337,
          50.448352,
          50.44693,
          52.631422,
          52.492215,
          52.466787,
          52.430986,
          52.40587
         ]
        }
       ],
       "layout": {
        "legend": {
         "title": {
          "text": "Legend"
         }
        },
        "template": {
         "data": {
          "bar": [
           {
            "error_x": {
             "color": "#f2f5fa"
            },
            "error_y": {
             "color": "#f2f5fa"
            },
            "marker": {
             "line": {
              "color": "rgb(17,17,17)",
              "width": 0.5
             },
             "pattern": {
              "fillmode": "overlay",
              "size": 10,
              "solidity": 0.2
             }
            },
            "type": "bar"
           }
          ],
          "barpolar": [
           {
            "marker": {
             "line": {
              "color": "rgb(17,17,17)",
              "width": 0.5
             },
             "pattern": {
              "fillmode": "overlay",
              "size": 10,
              "solidity": 0.2
             }
            },
            "type": "barpolar"
           }
          ],
          "carpet": [
           {
            "aaxis": {
             "endlinecolor": "#A2B1C6",
             "gridcolor": "#506784",
             "linecolor": "#506784",
             "minorgridcolor": "#506784",
             "startlinecolor": "#A2B1C6"
            },
            "baxis": {
             "endlinecolor": "#A2B1C6",
             "gridcolor": "#506784",
             "linecolor": "#506784",
             "minorgridcolor": "#506784",
             "startlinecolor": "#A2B1C6"
            },
            "type": "carpet"
           }
          ],
          "choropleth": [
           {
            "colorbar": {
             "outlinewidth": 0,
             "ticks": ""
            },
            "type": "choropleth"
           }
          ],
          "contour": [
           {
            "colorbar": {
             "outlinewidth": 0,
             "ticks": ""
            },
            "colorscale": [
             [
              0,
              "#0d0887"
             ],
             [
              0.1111111111111111,
              "#46039f"
             ],
             [
              0.2222222222222222,
              "#7201a8"
             ],
             [
              0.3333333333333333,
              "#9c179e"
             ],
             [
              0.4444444444444444,
              "#bd3786"
             ],
             [
              0.5555555555555556,
              "#d8576b"
             ],
             [
              0.6666666666666666,
              "#ed7953"
             ],
             [
              0.7777777777777778,
              "#fb9f3a"
             ],
             [
              0.8888888888888888,
              "#fdca26"
             ],
             [
              1,
              "#f0f921"
             ]
            ],
            "type": "contour"
           }
          ],
          "contourcarpet": [
           {
            "colorbar": {
             "outlinewidth": 0,
             "ticks": ""
            },
            "type": "contourcarpet"
           }
          ],
          "heatmap": [
           {
            "colorbar": {
             "outlinewidth": 0,
             "ticks": ""
            },
            "colorscale": [
             [
              0,
              "#0d0887"
             ],
             [
              0.1111111111111111,
              "#46039f"
             ],
             [
              0.2222222222222222,
              "#7201a8"
             ],
             [
              0.3333333333333333,
              "#9c179e"
             ],
             [
              0.4444444444444444,
              "#bd3786"
             ],
             [
              0.5555555555555556,
              "#d8576b"
             ],
             [
              0.6666666666666666,
              "#ed7953"
             ],
             [
              0.7777777777777778,
              "#fb9f3a"
             ],
             [
              0.8888888888888888,
              "#fdca26"
             ],
             [
              1,
              "#f0f921"
             ]
            ],
            "type": "heatmap"
           }
          ],
          "heatmapgl": [
           {
            "colorbar": {
             "outlinewidth": 0,
             "ticks": ""
            },
            "colorscale": [
             [
              0,
              "#0d0887"
             ],
             [
              0.1111111111111111,
              "#46039f"
             ],
             [
              0.2222222222222222,
              "#7201a8"
             ],
             [
              0.3333333333333333,
              "#9c179e"
             ],
             [
              0.4444444444444444,
              "#bd3786"
             ],
             [
              0.5555555555555556,
              "#d8576b"
             ],
             [
              0.6666666666666666,
              "#ed7953"
             ],
             [
              0.7777777777777778,
              "#fb9f3a"
             ],
             [
              0.8888888888888888,
              "#fdca26"
             ],
             [
              1,
              "#f0f921"
             ]
            ],
            "type": "heatmapgl"
           }
          ],
          "histogram": [
           {
            "marker": {
             "pattern": {
              "fillmode": "overlay",
              "size": 10,
              "solidity": 0.2
             }
            },
            "type": "histogram"
           }
          ],
          "histogram2d": [
           {
            "colorbar": {
             "outlinewidth": 0,
             "ticks": ""
            },
            "colorscale": [
             [
              0,
              "#0d0887"
             ],
             [
              0.1111111111111111,
              "#46039f"
             ],
             [
              0.2222222222222222,
              "#7201a8"
             ],
             [
              0.3333333333333333,
              "#9c179e"
             ],
             [
              0.4444444444444444,
              "#bd3786"
             ],
             [
              0.5555555555555556,
              "#d8576b"
             ],
             [
              0.6666666666666666,
              "#ed7953"
             ],
             [
              0.7777777777777778,
              "#fb9f3a"
             ],
             [
              0.8888888888888888,
              "#fdca26"
             ],
             [
              1,
              "#f0f921"
             ]
            ],
            "type": "histogram2d"
           }
          ],
          "histogram2dcontour": [
           {
            "colorbar": {
             "outlinewidth": 0,
             "ticks": ""
            },
            "colorscale": [
             [
              0,
              "#0d0887"
             ],
             [
              0.1111111111111111,
              "#46039f"
             ],
             [
              0.2222222222222222,
              "#7201a8"
             ],
             [
              0.3333333333333333,
              "#9c179e"
             ],
             [
              0.4444444444444444,
              "#bd3786"
             ],
             [
              0.5555555555555556,
              "#d8576b"
             ],
             [
              0.6666666666666666,
              "#ed7953"
             ],
             [
              0.7777777777777778,
              "#fb9f3a"
             ],
             [
              0.8888888888888888,
              "#fdca26"
             ],
             [
              1,
              "#f0f921"
             ]
            ],
            "type": "histogram2dcontour"
           }
          ],
          "mesh3d": [
           {
            "colorbar": {
             "outlinewidth": 0,
             "ticks": ""
            },
            "type": "mesh3d"
           }
          ],
          "parcoords": [
           {
            "line": {
             "colorbar": {
              "outlinewidth": 0,
              "ticks": ""
             }
            },
            "type": "parcoords"
           }
          ],
          "pie": [
           {
            "automargin": true,
            "type": "pie"
           }
          ],
          "scatter": [
           {
            "marker": {
             "line": {
              "color": "#283442"
             }
            },
            "type": "scatter"
           }
          ],
          "scatter3d": [
           {
            "line": {
             "colorbar": {
              "outlinewidth": 0,
              "ticks": ""
             }
            },
            "marker": {
             "colorbar": {
              "outlinewidth": 0,
              "ticks": ""
             }
            },
            "type": "scatter3d"
           }
          ],
          "scattercarpet": [
           {
            "marker": {
             "colorbar": {
              "outlinewidth": 0,
              "ticks": ""
             }
            },
            "type": "scattercarpet"
           }
          ],
          "scattergeo": [
           {
            "marker": {
             "colorbar": {
              "outlinewidth": 0,
              "ticks": ""
             }
            },
            "type": "scattergeo"
           }
          ],
          "scattergl": [
           {
            "marker": {
             "line": {
              "color": "#283442"
             }
            },
            "type": "scattergl"
           }
          ],
          "scattermapbox": [
           {
            "marker": {
             "colorbar": {
              "outlinewidth": 0,
              "ticks": ""
             }
            },
            "type": "scattermapbox"
           }
          ],
          "scatterpolar": [
           {
            "marker": {
             "colorbar": {
              "outlinewidth": 0,
              "ticks": ""
             }
            },
            "type": "scatterpolar"
           }
          ],
          "scatterpolargl": [
           {
            "marker": {
             "colorbar": {
              "outlinewidth": 0,
              "ticks": ""
             }
            },
            "type": "scatterpolargl"
           }
          ],
          "scatterternary": [
           {
            "marker": {
             "colorbar": {
              "outlinewidth": 0,
              "ticks": ""
             }
            },
            "type": "scatterternary"
           }
          ],
          "surface": [
           {
            "colorbar": {
             "outlinewidth": 0,
             "ticks": ""
            },
            "colorscale": [
             [
              0,
              "#0d0887"
             ],
             [
              0.1111111111111111,
              "#46039f"
             ],
             [
              0.2222222222222222,
              "#7201a8"
             ],
             [
              0.3333333333333333,
              "#9c179e"
             ],
             [
              0.4444444444444444,
              "#bd3786"
             ],
             [
              0.5555555555555556,
              "#d8576b"
             ],
             [
              0.6666666666666666,
              "#ed7953"
             ],
             [
              0.7777777777777778,
              "#fb9f3a"
             ],
             [
              0.8888888888888888,
              "#fdca26"
             ],
             [
              1,
              "#f0f921"
             ]
            ],
            "type": "surface"
           }
          ],
          "table": [
           {
            "cells": {
             "fill": {
              "color": "#506784"
             },
             "line": {
              "color": "rgb(17,17,17)"
             }
            },
            "header": {
             "fill": {
              "color": "#2a3f5f"
             },
             "line": {
              "color": "rgb(17,17,17)"
             }
            },
            "type": "table"
           }
          ]
         },
         "layout": {
          "annotationdefaults": {
           "arrowcolor": "#f2f5fa",
           "arrowhead": 0,
           "arrowwidth": 1
          },
          "autotypenumbers": "strict",
          "coloraxis": {
           "colorbar": {
            "outlinewidth": 0,
            "ticks": ""
           }
          },
          "colorscale": {
           "diverging": [
            [
             0,
             "#8e0152"
            ],
            [
             0.1,
             "#c51b7d"
            ],
            [
             0.2,
             "#de77ae"
            ],
            [
             0.3,
             "#f1b6da"
            ],
            [
             0.4,
             "#fde0ef"
            ],
            [
             0.5,
             "#f7f7f7"
            ],
            [
             0.6,
             "#e6f5d0"
            ],
            [
             0.7,
             "#b8e186"
            ],
            [
             0.8,
             "#7fbc41"
            ],
            [
             0.9,
             "#4d9221"
            ],
            [
             1,
             "#276419"
            ]
           ],
           "sequential": [
            [
             0,
             "#0d0887"
            ],
            [
             0.1111111111111111,
             "#46039f"
            ],
            [
             0.2222222222222222,
             "#7201a8"
            ],
            [
             0.3333333333333333,
             "#9c179e"
            ],
            [
             0.4444444444444444,
             "#bd3786"
            ],
            [
             0.5555555555555556,
             "#d8576b"
            ],
            [
             0.6666666666666666,
             "#ed7953"
            ],
            [
             0.7777777777777778,
             "#fb9f3a"
            ],
            [
             0.8888888888888888,
             "#fdca26"
            ],
            [
             1,
             "#f0f921"
            ]
           ],
           "sequentialminus": [
            [
             0,
             "#0d0887"
            ],
            [
             0.1111111111111111,
             "#46039f"
            ],
            [
             0.2222222222222222,
             "#7201a8"
            ],
            [
             0.3333333333333333,
             "#9c179e"
            ],
            [
             0.4444444444444444,
             "#bd3786"
            ],
            [
             0.5555555555555556,
             "#d8576b"
            ],
            [
             0.6666666666666666,
             "#ed7953"
            ],
            [
             0.7777777777777778,
             "#fb9f3a"
            ],
            [
             0.8888888888888888,
             "#fdca26"
            ],
            [
             1,
             "#f0f921"
            ]
           ]
          },
          "colorway": [
           "#636efa",
           "#EF553B",
           "#00cc96",
           "#ab63fa",
           "#FFA15A",
           "#19d3f3",
           "#FF6692",
           "#B6E880",
           "#FF97FF",
           "#FECB52"
          ],
          "font": {
           "color": "#f2f5fa"
          },
          "geo": {
           "bgcolor": "rgb(17,17,17)",
           "lakecolor": "rgb(17,17,17)",
           "landcolor": "rgb(17,17,17)",
           "showlakes": true,
           "showland": true,
           "subunitcolor": "#506784"
          },
          "hoverlabel": {
           "align": "left"
          },
          "hovermode": "closest",
          "mapbox": {
           "style": "dark"
          },
          "paper_bgcolor": "rgb(17,17,17)",
          "plot_bgcolor": "rgb(17,17,17)",
          "polar": {
           "angularaxis": {
            "gridcolor": "#506784",
            "linecolor": "#506784",
            "ticks": ""
           },
           "bgcolor": "rgb(17,17,17)",
           "radialaxis": {
            "gridcolor": "#506784",
            "linecolor": "#506784",
            "ticks": ""
           }
          },
          "scene": {
           "xaxis": {
            "backgroundcolor": "rgb(17,17,17)",
            "gridcolor": "#506784",
            "gridwidth": 2,
            "linecolor": "#506784",
            "showbackground": true,
            "ticks": "",
            "zerolinecolor": "#C8D4E3"
           },
           "yaxis": {
            "backgroundcolor": "rgb(17,17,17)",
            "gridcolor": "#506784",
            "gridwidth": 2,
            "linecolor": "#506784",
            "showbackground": true,
            "ticks": "",
            "zerolinecolor": "#C8D4E3"
           },
           "zaxis": {
            "backgroundcolor": "rgb(17,17,17)",
            "gridcolor": "#506784",
            "gridwidth": 2,
            "linecolor": "#506784",
            "showbackground": true,
            "ticks": "",
            "zerolinecolor": "#C8D4E3"
           }
          },
          "shapedefaults": {
           "line": {
            "color": "#f2f5fa"
           }
          },
          "sliderdefaults": {
           "bgcolor": "#C8D4E3",
           "bordercolor": "rgb(17,17,17)",
           "borderwidth": 1,
           "tickwidth": 0
          },
          "ternary": {
           "aaxis": {
            "gridcolor": "#506784",
            "linecolor": "#506784",
            "ticks": ""
           },
           "baxis": {
            "gridcolor": "#506784",
            "linecolor": "#506784",
            "ticks": ""
           },
           "bgcolor": "rgb(17,17,17)",
           "caxis": {
            "gridcolor": "#506784",
            "linecolor": "#506784",
            "ticks": ""
           }
          },
          "title": {
           "x": 0.05
          },
          "updatemenudefaults": {
           "bgcolor": "#506784",
           "borderwidth": 0
          },
          "xaxis": {
           "automargin": true,
           "gridcolor": "#283442",
           "linecolor": "#506784",
           "ticks": "",
           "title": {
            "standoff": 15
           },
           "zerolinecolor": "#283442",
           "zerolinewidth": 2
          },
          "yaxis": {
           "automargin": true,
           "gridcolor": "#283442",
           "linecolor": "#506784",
           "ticks": "",
           "title": {
            "standoff": 15
           },
           "zerolinecolor": "#283442",
           "zerolinewidth": 2
          }
         }
        },
        "title": {
         "text": "10 tasks 2 workers batch-size => 5 : fast  Plot for Latency Trends Over Time"
        },
        "xaxis": {
         "showgrid": true,
         "title": {
          "text": "Message ID"
         }
        },
        "yaxis": {
         "showgrid": true,
         "title": {
          "text": "Latency (seconds)"
         }
        }
       }
      }
     },
     "metadata": {},
     "output_type": "display_data"
    },
    {
     "name": "stdout",
     "output_type": "stream",
     "text": [
      "throughput => timestamp\n",
      "2024-12-31 09:40:00    10\n",
      "Freq: 10S, dtype: int64\n"
     ]
    },
    {
     "data": {
      "application/vnd.plotly.v1+json": {
       "config": {
        "plotlyServerURL": "https://plot.ly"
       },
       "data": [
        {
         "line": {
          "color": "green"
         },
         "marker": {
          "color": "green"
         },
         "mode": "lines+markers",
         "name": "Throughput",
         "type": "scatter",
         "x": [
          "2024-12-31T09:40:00"
         ],
         "y": [
          10
         ]
        }
       ],
       "layout": {
        "legend": {
         "title": {
          "text": "Legend"
         }
        },
        "template": {
         "data": {
          "bar": [
           {
            "error_x": {
             "color": "#f2f5fa"
            },
            "error_y": {
             "color": "#f2f5fa"
            },
            "marker": {
             "line": {
              "color": "rgb(17,17,17)",
              "width": 0.5
             },
             "pattern": {
              "fillmode": "overlay",
              "size": 10,
              "solidity": 0.2
             }
            },
            "type": "bar"
           }
          ],
          "barpolar": [
           {
            "marker": {
             "line": {
              "color": "rgb(17,17,17)",
              "width": 0.5
             },
             "pattern": {
              "fillmode": "overlay",
              "size": 10,
              "solidity": 0.2
             }
            },
            "type": "barpolar"
           }
          ],
          "carpet": [
           {
            "aaxis": {
             "endlinecolor": "#A2B1C6",
             "gridcolor": "#506784",
             "linecolor": "#506784",
             "minorgridcolor": "#506784",
             "startlinecolor": "#A2B1C6"
            },
            "baxis": {
             "endlinecolor": "#A2B1C6",
             "gridcolor": "#506784",
             "linecolor": "#506784",
             "minorgridcolor": "#506784",
             "startlinecolor": "#A2B1C6"
            },
            "type": "carpet"
           }
          ],
          "choropleth": [
           {
            "colorbar": {
             "outlinewidth": 0,
             "ticks": ""
            },
            "type": "choropleth"
           }
          ],
          "contour": [
           {
            "colorbar": {
             "outlinewidth": 0,
             "ticks": ""
            },
            "colorscale": [
             [
              0,
              "#0d0887"
             ],
             [
              0.1111111111111111,
              "#46039f"
             ],
             [
              0.2222222222222222,
              "#7201a8"
             ],
             [
              0.3333333333333333,
              "#9c179e"
             ],
             [
              0.4444444444444444,
              "#bd3786"
             ],
             [
              0.5555555555555556,
              "#d8576b"
             ],
             [
              0.6666666666666666,
              "#ed7953"
             ],
             [
              0.7777777777777778,
              "#fb9f3a"
             ],
             [
              0.8888888888888888,
              "#fdca26"
             ],
             [
              1,
              "#f0f921"
             ]
            ],
            "type": "contour"
           }
          ],
          "contourcarpet": [
           {
            "colorbar": {
             "outlinewidth": 0,
             "ticks": ""
            },
            "type": "contourcarpet"
           }
          ],
          "heatmap": [
           {
            "colorbar": {
             "outlinewidth": 0,
             "ticks": ""
            },
            "colorscale": [
             [
              0,
              "#0d0887"
             ],
             [
              0.1111111111111111,
              "#46039f"
             ],
             [
              0.2222222222222222,
              "#7201a8"
             ],
             [
              0.3333333333333333,
              "#9c179e"
             ],
             [
              0.4444444444444444,
              "#bd3786"
             ],
             [
              0.5555555555555556,
              "#d8576b"
             ],
             [
              0.6666666666666666,
              "#ed7953"
             ],
             [
              0.7777777777777778,
              "#fb9f3a"
             ],
             [
              0.8888888888888888,
              "#fdca26"
             ],
             [
              1,
              "#f0f921"
             ]
            ],
            "type": "heatmap"
           }
          ],
          "heatmapgl": [
           {
            "colorbar": {
             "outlinewidth": 0,
             "ticks": ""
            },
            "colorscale": [
             [
              0,
              "#0d0887"
             ],
             [
              0.1111111111111111,
              "#46039f"
             ],
             [
              0.2222222222222222,
              "#7201a8"
             ],
             [
              0.3333333333333333,
              "#9c179e"
             ],
             [
              0.4444444444444444,
              "#bd3786"
             ],
             [
              0.5555555555555556,
              "#d8576b"
             ],
             [
              0.6666666666666666,
              "#ed7953"
             ],
             [
              0.7777777777777778,
              "#fb9f3a"
             ],
             [
              0.8888888888888888,
              "#fdca26"
             ],
             [
              1,
              "#f0f921"
             ]
            ],
            "type": "heatmapgl"
           }
          ],
          "histogram": [
           {
            "marker": {
             "pattern": {
              "fillmode": "overlay",
              "size": 10,
              "solidity": 0.2
             }
            },
            "type": "histogram"
           }
          ],
          "histogram2d": [
           {
            "colorbar": {
             "outlinewidth": 0,
             "ticks": ""
            },
            "colorscale": [
             [
              0,
              "#0d0887"
             ],
             [
              0.1111111111111111,
              "#46039f"
             ],
             [
              0.2222222222222222,
              "#7201a8"
             ],
             [
              0.3333333333333333,
              "#9c179e"
             ],
             [
              0.4444444444444444,
              "#bd3786"
             ],
             [
              0.5555555555555556,
              "#d8576b"
             ],
             [
              0.6666666666666666,
              "#ed7953"
             ],
             [
              0.7777777777777778,
              "#fb9f3a"
             ],
             [
              0.8888888888888888,
              "#fdca26"
             ],
             [
              1,
              "#f0f921"
             ]
            ],
            "type": "histogram2d"
           }
          ],
          "histogram2dcontour": [
           {
            "colorbar": {
             "outlinewidth": 0,
             "ticks": ""
            },
            "colorscale": [
             [
              0,
              "#0d0887"
             ],
             [
              0.1111111111111111,
              "#46039f"
             ],
             [
              0.2222222222222222,
              "#7201a8"
             ],
             [
              0.3333333333333333,
              "#9c179e"
             ],
             [
              0.4444444444444444,
              "#bd3786"
             ],
             [
              0.5555555555555556,
              "#d8576b"
             ],
             [
              0.6666666666666666,
              "#ed7953"
             ],
             [
              0.7777777777777778,
              "#fb9f3a"
             ],
             [
              0.8888888888888888,
              "#fdca26"
             ],
             [
              1,
              "#f0f921"
             ]
            ],
            "type": "histogram2dcontour"
           }
          ],
          "mesh3d": [
           {
            "colorbar": {
             "outlinewidth": 0,
             "ticks": ""
            },
            "type": "mesh3d"
           }
          ],
          "parcoords": [
           {
            "line": {
             "colorbar": {
              "outlinewidth": 0,
              "ticks": ""
             }
            },
            "type": "parcoords"
           }
          ],
          "pie": [
           {
            "automargin": true,
            "type": "pie"
           }
          ],
          "scatter": [
           {
            "marker": {
             "line": {
              "color": "#283442"
             }
            },
            "type": "scatter"
           }
          ],
          "scatter3d": [
           {
            "line": {
             "colorbar": {
              "outlinewidth": 0,
              "ticks": ""
             }
            },
            "marker": {
             "colorbar": {
              "outlinewidth": 0,
              "ticks": ""
             }
            },
            "type": "scatter3d"
           }
          ],
          "scattercarpet": [
           {
            "marker": {
             "colorbar": {
              "outlinewidth": 0,
              "ticks": ""
             }
            },
            "type": "scattercarpet"
           }
          ],
          "scattergeo": [
           {
            "marker": {
             "colorbar": {
              "outlinewidth": 0,
              "ticks": ""
             }
            },
            "type": "scattergeo"
           }
          ],
          "scattergl": [
           {
            "marker": {
             "line": {
              "color": "#283442"
             }
            },
            "type": "scattergl"
           }
          ],
          "scattermapbox": [
           {
            "marker": {
             "colorbar": {
              "outlinewidth": 0,
              "ticks": ""
             }
            },
            "type": "scattermapbox"
           }
          ],
          "scatterpolar": [
           {
            "marker": {
             "colorbar": {
              "outlinewidth": 0,
              "ticks": ""
             }
            },
            "type": "scatterpolar"
           }
          ],
          "scatterpolargl": [
           {
            "marker": {
             "colorbar": {
              "outlinewidth": 0,
              "ticks": ""
             }
            },
            "type": "scatterpolargl"
           }
          ],
          "scatterternary": [
           {
            "marker": {
             "colorbar": {
              "outlinewidth": 0,
              "ticks": ""
             }
            },
            "type": "scatterternary"
           }
          ],
          "surface": [
           {
            "colorbar": {
             "outlinewidth": 0,
             "ticks": ""
            },
            "colorscale": [
             [
              0,
              "#0d0887"
             ],
             [
              0.1111111111111111,
              "#46039f"
             ],
             [
              0.2222222222222222,
              "#7201a8"
             ],
             [
              0.3333333333333333,
              "#9c179e"
             ],
             [
              0.4444444444444444,
              "#bd3786"
             ],
             [
              0.5555555555555556,
              "#d8576b"
             ],
             [
              0.6666666666666666,
              "#ed7953"
             ],
             [
              0.7777777777777778,
              "#fb9f3a"
             ],
             [
              0.8888888888888888,
              "#fdca26"
             ],
             [
              1,
              "#f0f921"
             ]
            ],
            "type": "surface"
           }
          ],
          "table": [
           {
            "cells": {
             "fill": {
              "color": "#506784"
             },
             "line": {
              "color": "rgb(17,17,17)"
             }
            },
            "header": {
             "fill": {
              "color": "#2a3f5f"
             },
             "line": {
              "color": "rgb(17,17,17)"
             }
            },
            "type": "table"
           }
          ]
         },
         "layout": {
          "annotationdefaults": {
           "arrowcolor": "#f2f5fa",
           "arrowhead": 0,
           "arrowwidth": 1
          },
          "autotypenumbers": "strict",
          "coloraxis": {
           "colorbar": {
            "outlinewidth": 0,
            "ticks": ""
           }
          },
          "colorscale": {
           "diverging": [
            [
             0,
             "#8e0152"
            ],
            [
             0.1,
             "#c51b7d"
            ],
            [
             0.2,
             "#de77ae"
            ],
            [
             0.3,
             "#f1b6da"
            ],
            [
             0.4,
             "#fde0ef"
            ],
            [
             0.5,
             "#f7f7f7"
            ],
            [
             0.6,
             "#e6f5d0"
            ],
            [
             0.7,
             "#b8e186"
            ],
            [
             0.8,
             "#7fbc41"
            ],
            [
             0.9,
             "#4d9221"
            ],
            [
             1,
             "#276419"
            ]
           ],
           "sequential": [
            [
             0,
             "#0d0887"
            ],
            [
             0.1111111111111111,
             "#46039f"
            ],
            [
             0.2222222222222222,
             "#7201a8"
            ],
            [
             0.3333333333333333,
             "#9c179e"
            ],
            [
             0.4444444444444444,
             "#bd3786"
            ],
            [
             0.5555555555555556,
             "#d8576b"
            ],
            [
             0.6666666666666666,
             "#ed7953"
            ],
            [
             0.7777777777777778,
             "#fb9f3a"
            ],
            [
             0.8888888888888888,
             "#fdca26"
            ],
            [
             1,
             "#f0f921"
            ]
           ],
           "sequentialminus": [
            [
             0,
             "#0d0887"
            ],
            [
             0.1111111111111111,
             "#46039f"
            ],
            [
             0.2222222222222222,
             "#7201a8"
            ],
            [
             0.3333333333333333,
             "#9c179e"
            ],
            [
             0.4444444444444444,
             "#bd3786"
            ],
            [
             0.5555555555555556,
             "#d8576b"
            ],
            [
             0.6666666666666666,
             "#ed7953"
            ],
            [
             0.7777777777777778,
             "#fb9f3a"
            ],
            [
             0.8888888888888888,
             "#fdca26"
            ],
            [
             1,
             "#f0f921"
            ]
           ]
          },
          "colorway": [
           "#636efa",
           "#EF553B",
           "#00cc96",
           "#ab63fa",
           "#FFA15A",
           "#19d3f3",
           "#FF6692",
           "#B6E880",
           "#FF97FF",
           "#FECB52"
          ],
          "font": {
           "color": "#f2f5fa"
          },
          "geo": {
           "bgcolor": "rgb(17,17,17)",
           "lakecolor": "rgb(17,17,17)",
           "landcolor": "rgb(17,17,17)",
           "showlakes": true,
           "showland": true,
           "subunitcolor": "#506784"
          },
          "hoverlabel": {
           "align": "left"
          },
          "hovermode": "closest",
          "mapbox": {
           "style": "dark"
          },
          "paper_bgcolor": "rgb(17,17,17)",
          "plot_bgcolor": "rgb(17,17,17)",
          "polar": {
           "angularaxis": {
            "gridcolor": "#506784",
            "linecolor": "#506784",
            "ticks": ""
           },
           "bgcolor": "rgb(17,17,17)",
           "radialaxis": {
            "gridcolor": "#506784",
            "linecolor": "#506784",
            "ticks": ""
           }
          },
          "scene": {
           "xaxis": {
            "backgroundcolor": "rgb(17,17,17)",
            "gridcolor": "#506784",
            "gridwidth": 2,
            "linecolor": "#506784",
            "showbackground": true,
            "ticks": "",
            "zerolinecolor": "#C8D4E3"
           },
           "yaxis": {
            "backgroundcolor": "rgb(17,17,17)",
            "gridcolor": "#506784",
            "gridwidth": 2,
            "linecolor": "#506784",
            "showbackground": true,
            "ticks": "",
            "zerolinecolor": "#C8D4E3"
           },
           "zaxis": {
            "backgroundcolor": "rgb(17,17,17)",
            "gridcolor": "#506784",
            "gridwidth": 2,
            "linecolor": "#506784",
            "showbackground": true,
            "ticks": "",
            "zerolinecolor": "#C8D4E3"
           }
          },
          "shapedefaults": {
           "line": {
            "color": "#f2f5fa"
           }
          },
          "sliderdefaults": {
           "bgcolor": "#C8D4E3",
           "bordercolor": "rgb(17,17,17)",
           "borderwidth": 1,
           "tickwidth": 0
          },
          "ternary": {
           "aaxis": {
            "gridcolor": "#506784",
            "linecolor": "#506784",
            "ticks": ""
           },
           "baxis": {
            "gridcolor": "#506784",
            "linecolor": "#506784",
            "ticks": ""
           },
           "bgcolor": "rgb(17,17,17)",
           "caxis": {
            "gridcolor": "#506784",
            "linecolor": "#506784",
            "ticks": ""
           }
          },
          "title": {
           "x": 0.05
          },
          "updatemenudefaults": {
           "bgcolor": "#506784",
           "borderwidth": 0
          },
          "xaxis": {
           "automargin": true,
           "gridcolor": "#283442",
           "linecolor": "#506784",
           "ticks": "",
           "title": {
            "standoff": 15
           },
           "zerolinecolor": "#283442",
           "zerolinewidth": 2
          },
          "yaxis": {
           "automargin": true,
           "gridcolor": "#283442",
           "linecolor": "#506784",
           "ticks": "",
           "title": {
            "standoff": 15
           },
           "zerolinecolor": "#283442",
           "zerolinewidth": 2
          }
         }
        },
        "title": {
         "text": "10 tasks 2 workers batch-size => 5 : fast  Plot for Throughput Trends Over Time"
        },
        "xaxis": {
         "showgrid": true,
         "title": {
          "text": "Time"
         }
        },
        "yaxis": {
         "showgrid": true,
         "title": {
          "text": "Tasks Completed (Throughput)"
         }
        }
       }
      }
     },
     "metadata": {},
     "output_type": "display_data"
    },
    {
     "data": {
      "application/vnd.plotly.v1+json": {
       "config": {
        "plotlyServerURL": "https://plot.ly"
       },
       "data": [
        {
         "hovertemplate": "state=pending<br>Time=%{x}<br>message_id=%{y}<extra></extra>",
         "legendgroup": "pending",
         "line": {
          "color": "#636efa",
          "dash": "solid"
         },
         "marker": {
          "symbol": "circle"
         },
         "mode": "lines+markers",
         "name": "pending",
         "orientation": "v",
         "showlegend": true,
         "type": "scatter",
         "x": [
          "2024-12-31T10:23:01.339781",
          "2024-12-31T10:23:01.608166",
          "2024-12-31T10:23:01.650603",
          "2024-12-31T10:23:01.677917",
          "2024-12-31T10:23:01.736444",
          "2024-12-31T10:23:01.872202",
          "2024-12-31T10:23:01.888569",
          "2024-12-31T10:23:01.900558",
          "2024-12-31T10:23:01.912507",
          "2024-12-31T10:23:01.938096",
          "2024-12-31T10:23:01.942404",
          "2024-12-31T10:23:01.959511",
          "2024-12-31T10:23:01.983522",
          "2024-12-31T10:23:02.081758",
          "2024-12-31T10:23:02.083766",
          "2024-12-31T10:23:02.165614",
          "2024-12-31T10:23:02.174482",
          "2024-12-31T10:23:02.176097",
          "2024-12-31T10:23:02.191935",
          "2024-12-31T10:23:02.266288",
          "2024-12-31T10:23:02.349656",
          "2024-12-31T10:23:02.381811",
          "2024-12-31T10:23:02.439627",
          "2024-12-31T10:23:02.520220",
          "2024-12-31T10:23:02.602700",
          "2024-12-31T10:23:02.746212",
          "2024-12-31T10:23:02.804739",
          "2024-12-31T10:23:02.855329",
          "2024-12-31T10:23:06.126969",
          "2024-12-31T10:23:06.233180",
          "2024-12-31T10:23:06.459391",
          "2024-12-31T10:23:06.473415",
          "2024-12-31T10:23:06.543299",
          "2024-12-31T10:23:06.556806",
          "2024-12-31T10:23:06.589867",
          "2024-12-31T10:23:06.620892",
          "2024-12-31T10:23:06.626978",
          "2024-12-31T10:23:06.683335",
          "2024-12-31T10:23:06.707131",
          "2024-12-31T10:23:06.766069",
          "2024-12-31T10:23:06.773295",
          "2024-12-31T10:23:06.859631",
          "2024-12-31T10:23:06.886728",
          "2024-12-31T10:23:06.924838",
          "2024-12-31T10:23:06.932095",
          "2024-12-31T10:23:06.950398",
          "2024-12-31T10:23:06.963826",
          "2024-12-31T10:23:06.985143",
          "2024-12-31T10:23:07.065386",
          "2024-12-31T10:23:07.104737"
         ],
         "xaxis": "x",
         "y": [
          1,
          2,
          3,
          4,
          5,
          6,
          7,
          8,
          9,
          10,
          11,
          12,
          13,
          14,
          15,
          16,
          17,
          18,
          19,
          20,
          21,
          22,
          23,
          24,
          25,
          26,
          27,
          28,
          29,
          30,
          31,
          32,
          33,
          34,
          35,
          36,
          37,
          38,
          39,
          40,
          41,
          42,
          43,
          44,
          45,
          46,
          47,
          48,
          49,
          50
         ],
         "yaxis": "y"
        },
        {
         "hovertemplate": "state=active<br>Time=%{x}<br>message_id=%{y}<extra></extra>",
         "legendgroup": "active",
         "line": {
          "color": "#EF553B",
          "dash": "solid"
         },
         "marker": {
          "symbol": "circle"
         },
         "mode": "lines+markers",
         "name": "active",
         "orientation": "v",
         "showlegend": true,
         "type": "scatter",
         "x": [
          "2024-12-31T10:23:02.742709",
          "2024-12-31T10:23:02.742709",
          "2024-12-31T10:23:02.742709",
          "2024-12-31T10:23:02.742709",
          "2024-12-31T10:23:02.742709",
          "2024-12-31T10:23:06.199027",
          "2024-12-31T10:23:06.199027",
          "2024-12-31T10:23:06.199027",
          "2024-12-31T10:23:06.199027",
          "2024-12-31T10:23:06.199027",
          "2024-12-31T10:23:52.972574",
          "2024-12-31T10:23:52.972574",
          "2024-12-31T10:23:52.972574",
          "2024-12-31T10:23:52.972574",
          "2024-12-31T10:23:52.972574",
          "2024-12-31T10:23:56.414960",
          "2024-12-31T10:23:56.414960",
          "2024-12-31T10:23:56.414960",
          "2024-12-31T10:23:56.414960",
          "2024-12-31T10:23:56.414960",
          "2024-12-31T10:24:43.250241",
          "2024-12-31T10:24:43.250241",
          "2024-12-31T10:24:43.250241",
          "2024-12-31T10:24:43.250241",
          "2024-12-31T10:24:43.250241",
          "2024-12-31T10:24:46.698351",
          "2024-12-31T10:24:46.698351",
          "2024-12-31T10:24:46.698351",
          "2024-12-31T10:24:46.698351",
          "2024-12-31T10:24:46.698351",
          "2024-12-31T10:25:33.458546",
          "2024-12-31T10:25:33.458546",
          "2024-12-31T10:25:33.458546",
          "2024-12-31T10:25:33.458546",
          "2024-12-31T10:25:33.458546",
          "2024-12-31T10:25:36.934790",
          "2024-12-31T10:25:36.934790",
          "2024-12-31T10:25:36.934790",
          "2024-12-31T10:25:36.934790",
          "2024-12-31T10:25:36.934790",
          "2024-12-31T10:26:23.681556",
          "2024-12-31T10:26:23.681556",
          "2024-12-31T10:26:23.681556",
          "2024-12-31T10:26:23.681556",
          "2024-12-31T10:26:23.681556",
          "2024-12-31T10:26:27.139640",
          "2024-12-31T10:26:27.139640",
          "2024-12-31T10:26:27.139640",
          "2024-12-31T10:26:27.139640",
          "2024-12-31T10:26:27.139640"
         ],
         "xaxis": "x",
         "y": [
          5,
          4,
          2,
          1,
          3,
          10,
          9,
          8,
          7,
          6,
          11,
          12,
          13,
          14,
          15,
          16,
          17,
          18,
          19,
          20,
          21,
          22,
          23,
          24,
          25,
          26,
          27,
          28,
          29,
          30,
          31,
          32,
          33,
          34,
          35,
          36,
          37,
          38,
          39,
          40,
          41,
          42,
          43,
          44,
          45,
          46,
          47,
          48,
          49,
          50
         ],
         "yaxis": "y"
        },
        {
         "hovertemplate": "state=completed<br>Time=%{x}<br>message_id=%{y}<extra></extra>",
         "legendgroup": "completed",
         "line": {
          "color": "#00cc96",
          "dash": "solid"
         },
         "marker": {
          "symbol": "circle"
         },
         "mode": "lines+markers",
         "name": "completed",
         "orientation": "v",
         "showlegend": true,
         "type": "scatter",
         "x": [
          "2024-12-31T10:23:52.943734",
          "2024-12-31T10:23:52.944219",
          "2024-12-31T10:23:52.944559",
          "2024-12-31T10:23:52.944841",
          "2024-12-31T10:23:52.945121",
          "2024-12-31T10:23:56.382384",
          "2024-12-31T10:23:56.382705",
          "2024-12-31T10:23:56.382949",
          "2024-12-31T10:23:56.384255",
          "2024-12-31T10:23:56.384674",
          "2024-12-31T10:24:43.221861",
          "2024-12-31T10:24:43.222092",
          "2024-12-31T10:24:43.222307",
          "2024-12-31T10:24:43.222509",
          "2024-12-31T10:24:43.222704",
          "2024-12-31T10:24:46.670066",
          "2024-12-31T10:24:46.670304",
          "2024-12-31T10:24:46.670522",
          "2024-12-31T10:24:46.670750",
          "2024-12-31T10:24:46.670956",
          "2024-12-31T10:25:33.428137",
          "2024-12-31T10:25:33.428370",
          "2024-12-31T10:25:33.428575",
          "2024-12-31T10:25:33.428770",
          "2024-12-31T10:25:33.428964",
          "2024-12-31T10:25:36.904331",
          "2024-12-31T10:25:36.904581",
          "2024-12-31T10:25:36.904811",
          "2024-12-31T10:25:36.905045",
          "2024-12-31T10:25:36.905281",
          "2024-12-31T10:26:23.652257",
          "2024-12-31T10:26:23.652493",
          "2024-12-31T10:26:23.652696",
          "2024-12-31T10:26:23.652892",
          "2024-12-31T10:26:23.653092",
          "2024-12-31T10:26:27.108465",
          "2024-12-31T10:26:27.108772",
          "2024-12-31T10:26:27.109052",
          "2024-12-31T10:26:27.109254",
          "2024-12-31T10:26:27.109455",
          "2024-12-31T10:27:13.869955",
          "2024-12-31T10:27:13.870420",
          "2024-12-31T10:27:13.870888",
          "2024-12-31T10:27:13.871126",
          "2024-12-31T10:27:13.871339",
          "2024-12-31T10:27:17.319540",
          "2024-12-31T10:27:17.319918",
          "2024-12-31T10:27:17.320527",
          "2024-12-31T10:27:17.320840",
          "2024-12-31T10:27:17.321128"
         ],
         "xaxis": "x",
         "y": [
          1,
          2,
          3,
          4,
          5,
          6,
          7,
          8,
          9,
          10,
          11,
          12,
          13,
          14,
          15,
          16,
          17,
          18,
          19,
          20,
          21,
          22,
          23,
          24,
          25,
          26,
          27,
          28,
          29,
          30,
          31,
          32,
          33,
          34,
          35,
          36,
          37,
          38,
          39,
          40,
          41,
          42,
          43,
          44,
          45,
          46,
          47,
          48,
          49,
          50
         ],
         "yaxis": "y"
        }
       ],
       "layout": {
        "hovermode": "closest",
        "legend": {
         "title": {
          "text": "state"
         },
         "tracegroupgap": 0
        },
        "margin": {
         "b": 40,
         "l": 40,
         "r": 40,
         "t": 40
        },
        "template": {
         "data": {
          "bar": [
           {
            "error_x": {
             "color": "#f2f5fa"
            },
            "error_y": {
             "color": "#f2f5fa"
            },
            "marker": {
             "line": {
              "color": "rgb(17,17,17)",
              "width": 0.5
             },
             "pattern": {
              "fillmode": "overlay",
              "size": 10,
              "solidity": 0.2
             }
            },
            "type": "bar"
           }
          ],
          "barpolar": [
           {
            "marker": {
             "line": {
              "color": "rgb(17,17,17)",
              "width": 0.5
             },
             "pattern": {
              "fillmode": "overlay",
              "size": 10,
              "solidity": 0.2
             }
            },
            "type": "barpolar"
           }
          ],
          "carpet": [
           {
            "aaxis": {
             "endlinecolor": "#A2B1C6",
             "gridcolor": "#506784",
             "linecolor": "#506784",
             "minorgridcolor": "#506784",
             "startlinecolor": "#A2B1C6"
            },
            "baxis": {
             "endlinecolor": "#A2B1C6",
             "gridcolor": "#506784",
             "linecolor": "#506784",
             "minorgridcolor": "#506784",
             "startlinecolor": "#A2B1C6"
            },
            "type": "carpet"
           }
          ],
          "choropleth": [
           {
            "colorbar": {
             "outlinewidth": 0,
             "ticks": ""
            },
            "type": "choropleth"
           }
          ],
          "contour": [
           {
            "colorbar": {
             "outlinewidth": 0,
             "ticks": ""
            },
            "colorscale": [
             [
              0,
              "#0d0887"
             ],
             [
              0.1111111111111111,
              "#46039f"
             ],
             [
              0.2222222222222222,
              "#7201a8"
             ],
             [
              0.3333333333333333,
              "#9c179e"
             ],
             [
              0.4444444444444444,
              "#bd3786"
             ],
             [
              0.5555555555555556,
              "#d8576b"
             ],
             [
              0.6666666666666666,
              "#ed7953"
             ],
             [
              0.7777777777777778,
              "#fb9f3a"
             ],
             [
              0.8888888888888888,
              "#fdca26"
             ],
             [
              1,
              "#f0f921"
             ]
            ],
            "type": "contour"
           }
          ],
          "contourcarpet": [
           {
            "colorbar": {
             "outlinewidth": 0,
             "ticks": ""
            },
            "type": "contourcarpet"
           }
          ],
          "heatmap": [
           {
            "colorbar": {
             "outlinewidth": 0,
             "ticks": ""
            },
            "colorscale": [
             [
              0,
              "#0d0887"
             ],
             [
              0.1111111111111111,
              "#46039f"
             ],
             [
              0.2222222222222222,
              "#7201a8"
             ],
             [
              0.3333333333333333,
              "#9c179e"
             ],
             [
              0.4444444444444444,
              "#bd3786"
             ],
             [
              0.5555555555555556,
              "#d8576b"
             ],
             [
              0.6666666666666666,
              "#ed7953"
             ],
             [
              0.7777777777777778,
              "#fb9f3a"
             ],
             [
              0.8888888888888888,
              "#fdca26"
             ],
             [
              1,
              "#f0f921"
             ]
            ],
            "type": "heatmap"
           }
          ],
          "heatmapgl": [
           {
            "colorbar": {
             "outlinewidth": 0,
             "ticks": ""
            },
            "colorscale": [
             [
              0,
              "#0d0887"
             ],
             [
              0.1111111111111111,
              "#46039f"
             ],
             [
              0.2222222222222222,
              "#7201a8"
             ],
             [
              0.3333333333333333,
              "#9c179e"
             ],
             [
              0.4444444444444444,
              "#bd3786"
             ],
             [
              0.5555555555555556,
              "#d8576b"
             ],
             [
              0.6666666666666666,
              "#ed7953"
             ],
             [
              0.7777777777777778,
              "#fb9f3a"
             ],
             [
              0.8888888888888888,
              "#fdca26"
             ],
             [
              1,
              "#f0f921"
             ]
            ],
            "type": "heatmapgl"
           }
          ],
          "histogram": [
           {
            "marker": {
             "pattern": {
              "fillmode": "overlay",
              "size": 10,
              "solidity": 0.2
             }
            },
            "type": "histogram"
           }
          ],
          "histogram2d": [
           {
            "colorbar": {
             "outlinewidth": 0,
             "ticks": ""
            },
            "colorscale": [
             [
              0,
              "#0d0887"
             ],
             [
              0.1111111111111111,
              "#46039f"
             ],
             [
              0.2222222222222222,
              "#7201a8"
             ],
             [
              0.3333333333333333,
              "#9c179e"
             ],
             [
              0.4444444444444444,
              "#bd3786"
             ],
             [
              0.5555555555555556,
              "#d8576b"
             ],
             [
              0.6666666666666666,
              "#ed7953"
             ],
             [
              0.7777777777777778,
              "#fb9f3a"
             ],
             [
              0.8888888888888888,
              "#fdca26"
             ],
             [
              1,
              "#f0f921"
             ]
            ],
            "type": "histogram2d"
           }
          ],
          "histogram2dcontour": [
           {
            "colorbar": {
             "outlinewidth": 0,
             "ticks": ""
            },
            "colorscale": [
             [
              0,
              "#0d0887"
             ],
             [
              0.1111111111111111,
              "#46039f"
             ],
             [
              0.2222222222222222,
              "#7201a8"
             ],
             [
              0.3333333333333333,
              "#9c179e"
             ],
             [
              0.4444444444444444,
              "#bd3786"
             ],
             [
              0.5555555555555556,
              "#d8576b"
             ],
             [
              0.6666666666666666,
              "#ed7953"
             ],
             [
              0.7777777777777778,
              "#fb9f3a"
             ],
             [
              0.8888888888888888,
              "#fdca26"
             ],
             [
              1,
              "#f0f921"
             ]
            ],
            "type": "histogram2dcontour"
           }
          ],
          "mesh3d": [
           {
            "colorbar": {
             "outlinewidth": 0,
             "ticks": ""
            },
            "type": "mesh3d"
           }
          ],
          "parcoords": [
           {
            "line": {
             "colorbar": {
              "outlinewidth": 0,
              "ticks": ""
             }
            },
            "type": "parcoords"
           }
          ],
          "pie": [
           {
            "automargin": true,
            "type": "pie"
           }
          ],
          "scatter": [
           {
            "marker": {
             "line": {
              "color": "#283442"
             }
            },
            "type": "scatter"
           }
          ],
          "scatter3d": [
           {
            "line": {
             "colorbar": {
              "outlinewidth": 0,
              "ticks": ""
             }
            },
            "marker": {
             "colorbar": {
              "outlinewidth": 0,
              "ticks": ""
             }
            },
            "type": "scatter3d"
           }
          ],
          "scattercarpet": [
           {
            "marker": {
             "colorbar": {
              "outlinewidth": 0,
              "ticks": ""
             }
            },
            "type": "scattercarpet"
           }
          ],
          "scattergeo": [
           {
            "marker": {
             "colorbar": {
              "outlinewidth": 0,
              "ticks": ""
             }
            },
            "type": "scattergeo"
           }
          ],
          "scattergl": [
           {
            "marker": {
             "line": {
              "color": "#283442"
             }
            },
            "type": "scattergl"
           }
          ],
          "scattermapbox": [
           {
            "marker": {
             "colorbar": {
              "outlinewidth": 0,
              "ticks": ""
             }
            },
            "type": "scattermapbox"
           }
          ],
          "scatterpolar": [
           {
            "marker": {
             "colorbar": {
              "outlinewidth": 0,
              "ticks": ""
             }
            },
            "type": "scatterpolar"
           }
          ],
          "scatterpolargl": [
           {
            "marker": {
             "colorbar": {
              "outlinewidth": 0,
              "ticks": ""
             }
            },
            "type": "scatterpolargl"
           }
          ],
          "scatterternary": [
           {
            "marker": {
             "colorbar": {
              "outlinewidth": 0,
              "ticks": ""
             }
            },
            "type": "scatterternary"
           }
          ],
          "surface": [
           {
            "colorbar": {
             "outlinewidth": 0,
             "ticks": ""
            },
            "colorscale": [
             [
              0,
              "#0d0887"
             ],
             [
              0.1111111111111111,
              "#46039f"
             ],
             [
              0.2222222222222222,
              "#7201a8"
             ],
             [
              0.3333333333333333,
              "#9c179e"
             ],
             [
              0.4444444444444444,
              "#bd3786"
             ],
             [
              0.5555555555555556,
              "#d8576b"
             ],
             [
              0.6666666666666666,
              "#ed7953"
             ],
             [
              0.7777777777777778,
              "#fb9f3a"
             ],
             [
              0.8888888888888888,
              "#fdca26"
             ],
             [
              1,
              "#f0f921"
             ]
            ],
            "type": "surface"
           }
          ],
          "table": [
           {
            "cells": {
             "fill": {
              "color": "#506784"
             },
             "line": {
              "color": "rgb(17,17,17)"
             }
            },
            "header": {
             "fill": {
              "color": "#2a3f5f"
             },
             "line": {
              "color": "rgb(17,17,17)"
             }
            },
            "type": "table"
           }
          ]
         },
         "layout": {
          "annotationdefaults": {
           "arrowcolor": "#f2f5fa",
           "arrowhead": 0,
           "arrowwidth": 1
          },
          "autotypenumbers": "strict",
          "coloraxis": {
           "colorbar": {
            "outlinewidth": 0,
            "ticks": ""
           }
          },
          "colorscale": {
           "diverging": [
            [
             0,
             "#8e0152"
            ],
            [
             0.1,
             "#c51b7d"
            ],
            [
             0.2,
             "#de77ae"
            ],
            [
             0.3,
             "#f1b6da"
            ],
            [
             0.4,
             "#fde0ef"
            ],
            [
             0.5,
             "#f7f7f7"
            ],
            [
             0.6,
             "#e6f5d0"
            ],
            [
             0.7,
             "#b8e186"
            ],
            [
             0.8,
             "#7fbc41"
            ],
            [
             0.9,
             "#4d9221"
            ],
            [
             1,
             "#276419"
            ]
           ],
           "sequential": [
            [
             0,
             "#0d0887"
            ],
            [
             0.1111111111111111,
             "#46039f"
            ],
            [
             0.2222222222222222,
             "#7201a8"
            ],
            [
             0.3333333333333333,
             "#9c179e"
            ],
            [
             0.4444444444444444,
             "#bd3786"
            ],
            [
             0.5555555555555556,
             "#d8576b"
            ],
            [
             0.6666666666666666,
             "#ed7953"
            ],
            [
             0.7777777777777778,
             "#fb9f3a"
            ],
            [
             0.8888888888888888,
             "#fdca26"
            ],
            [
             1,
             "#f0f921"
            ]
           ],
           "sequentialminus": [
            [
             0,
             "#0d0887"
            ],
            [
             0.1111111111111111,
             "#46039f"
            ],
            [
             0.2222222222222222,
             "#7201a8"
            ],
            [
             0.3333333333333333,
             "#9c179e"
            ],
            [
             0.4444444444444444,
             "#bd3786"
            ],
            [
             0.5555555555555556,
             "#d8576b"
            ],
            [
             0.6666666666666666,
             "#ed7953"
            ],
            [
             0.7777777777777778,
             "#fb9f3a"
            ],
            [
             0.8888888888888888,
             "#fdca26"
            ],
            [
             1,
             "#f0f921"
            ]
           ]
          },
          "colorway": [
           "#636efa",
           "#EF553B",
           "#00cc96",
           "#ab63fa",
           "#FFA15A",
           "#19d3f3",
           "#FF6692",
           "#B6E880",
           "#FF97FF",
           "#FECB52"
          ],
          "font": {
           "color": "#f2f5fa"
          },
          "geo": {
           "bgcolor": "rgb(17,17,17)",
           "lakecolor": "rgb(17,17,17)",
           "landcolor": "rgb(17,17,17)",
           "showlakes": true,
           "showland": true,
           "subunitcolor": "#506784"
          },
          "hoverlabel": {
           "align": "left"
          },
          "hovermode": "closest",
          "mapbox": {
           "style": "dark"
          },
          "paper_bgcolor": "rgb(17,17,17)",
          "plot_bgcolor": "rgb(17,17,17)",
          "polar": {
           "angularaxis": {
            "gridcolor": "#506784",
            "linecolor": "#506784",
            "ticks": ""
           },
           "bgcolor": "rgb(17,17,17)",
           "radialaxis": {
            "gridcolor": "#506784",
            "linecolor": "#506784",
            "ticks": ""
           }
          },
          "scene": {
           "xaxis": {
            "backgroundcolor": "rgb(17,17,17)",
            "gridcolor": "#506784",
            "gridwidth": 2,
            "linecolor": "#506784",
            "showbackground": true,
            "ticks": "",
            "zerolinecolor": "#C8D4E3"
           },
           "yaxis": {
            "backgroundcolor": "rgb(17,17,17)",
            "gridcolor": "#506784",
            "gridwidth": 2,
            "linecolor": "#506784",
            "showbackground": true,
            "ticks": "",
            "zerolinecolor": "#C8D4E3"
           },
           "zaxis": {
            "backgroundcolor": "rgb(17,17,17)",
            "gridcolor": "#506784",
            "gridwidth": 2,
            "linecolor": "#506784",
            "showbackground": true,
            "ticks": "",
            "zerolinecolor": "#C8D4E3"
           }
          },
          "shapedefaults": {
           "line": {
            "color": "#f2f5fa"
           }
          },
          "sliderdefaults": {
           "bgcolor": "#C8D4E3",
           "bordercolor": "rgb(17,17,17)",
           "borderwidth": 1,
           "tickwidth": 0
          },
          "ternary": {
           "aaxis": {
            "gridcolor": "#506784",
            "linecolor": "#506784",
            "ticks": ""
           },
           "baxis": {
            "gridcolor": "#506784",
            "linecolor": "#506784",
            "ticks": ""
           },
           "bgcolor": "rgb(17,17,17)",
           "caxis": {
            "gridcolor": "#506784",
            "linecolor": "#506784",
            "ticks": ""
           }
          },
          "title": {
           "x": 0.05
          },
          "updatemenudefaults": {
           "bgcolor": "#506784",
           "borderwidth": 0
          },
          "xaxis": {
           "automargin": true,
           "gridcolor": "#283442",
           "linecolor": "#506784",
           "ticks": "",
           "title": {
            "standoff": 15
           },
           "zerolinecolor": "#283442",
           "zerolinewidth": 2
          },
          "yaxis": {
           "automargin": true,
           "gridcolor": "#283442",
           "linecolor": "#506784",
           "ticks": "",
           "title": {
            "standoff": 15
           },
           "zerolinecolor": "#283442",
           "zerolinewidth": 2
          }
         }
        },
        "title": {
         "text": "50 tasks 2 workers batch-size => 5 : fast Plot for Message Transitions Over Time"
        },
        "xaxis": {
         "anchor": "y",
         "domain": [
          0,
          1
         ],
         "showgrid": true,
         "title": {
          "text": "Timestamp"
         }
        },
        "yaxis": {
         "anchor": "x",
         "domain": [
          0,
          1
         ],
         "showgrid": true,
         "title": {
          "text": "State"
         }
        }
       }
      }
     },
     "metadata": {},
     "output_type": "display_data"
    },
    {
     "data": {
      "application/vnd.plotly.v1+json": {
       "config": {
        "plotlyServerURL": "https://plot.ly"
       },
       "data": [
        {
         "line": {
          "color": "blue"
         },
         "marker": {
          "color": "blue"
         },
         "mode": "lines+markers",
         "name": "Latency",
         "type": "scatter",
         "x": [
          1,
          2,
          3,
          4,
          5,
          6,
          7,
          8,
          9,
          10,
          11,
          12,
          13,
          14,
          15,
          16,
          17,
          18,
          19,
          20,
          21,
          22,
          23,
          24,
          25,
          26,
          27,
          28,
          29,
          30,
          31,
          32,
          33,
          34,
          35,
          36,
          37,
          38,
          39,
          40,
          41,
          42,
          43,
          44,
          45,
          46,
          47,
          48,
          49,
          50
         ],
         "y": [
          51.603953,
          51.336053,
          51.293956,
          51.266924,
          51.208677,
          54.510182,
          54.494136,
          54.482391,
          54.471748,
          54.446578,
          101.279457,
          101.262581,
          101.238785,
          101.140751,
          101.138938,
          104.504452,
          104.495822,
          104.494425,
          104.478815,
          104.404668,
          151.078481,
          151.046559,
          150.988948,
          150.90855,
          150.826264,
          154.158119,
          154.099842,
          154.049482,
          150.778076,
          150.672101,
          197.192866,
          197.179078,
          197.109397,
          197.096086,
          197.063225,
          200.487573,
          200.481794,
          200.425717,
          200.402123,
          200.343386,
          247.09666,
          247.010789,
          246.98416,
          246.946288,
          246.939244,
          250.369142,
          250.356092,
          250.335384,
          250.255454,
          250.216391
         ]
        }
       ],
       "layout": {
        "legend": {
         "title": {
          "text": "Legend"
         }
        },
        "template": {
         "data": {
          "bar": [
           {
            "error_x": {
             "color": "#f2f5fa"
            },
            "error_y": {
             "color": "#f2f5fa"
            },
            "marker": {
             "line": {
              "color": "rgb(17,17,17)",
              "width": 0.5
             },
             "pattern": {
              "fillmode": "overlay",
              "size": 10,
              "solidity": 0.2
             }
            },
            "type": "bar"
           }
          ],
          "barpolar": [
           {
            "marker": {
             "line": {
              "color": "rgb(17,17,17)",
              "width": 0.5
             },
             "pattern": {
              "fillmode": "overlay",
              "size": 10,
              "solidity": 0.2
             }
            },
            "type": "barpolar"
           }
          ],
          "carpet": [
           {
            "aaxis": {
             "endlinecolor": "#A2B1C6",
             "gridcolor": "#506784",
             "linecolor": "#506784",
             "minorgridcolor": "#506784",
             "startlinecolor": "#A2B1C6"
            },
            "baxis": {
             "endlinecolor": "#A2B1C6",
             "gridcolor": "#506784",
             "linecolor": "#506784",
             "minorgridcolor": "#506784",
             "startlinecolor": "#A2B1C6"
            },
            "type": "carpet"
           }
          ],
          "choropleth": [
           {
            "colorbar": {
             "outlinewidth": 0,
             "ticks": ""
            },
            "type": "choropleth"
           }
          ],
          "contour": [
           {
            "colorbar": {
             "outlinewidth": 0,
             "ticks": ""
            },
            "colorscale": [
             [
              0,
              "#0d0887"
             ],
             [
              0.1111111111111111,
              "#46039f"
             ],
             [
              0.2222222222222222,
              "#7201a8"
             ],
             [
              0.3333333333333333,
              "#9c179e"
             ],
             [
              0.4444444444444444,
              "#bd3786"
             ],
             [
              0.5555555555555556,
              "#d8576b"
             ],
             [
              0.6666666666666666,
              "#ed7953"
             ],
             [
              0.7777777777777778,
              "#fb9f3a"
             ],
             [
              0.8888888888888888,
              "#fdca26"
             ],
             [
              1,
              "#f0f921"
             ]
            ],
            "type": "contour"
           }
          ],
          "contourcarpet": [
           {
            "colorbar": {
             "outlinewidth": 0,
             "ticks": ""
            },
            "type": "contourcarpet"
           }
          ],
          "heatmap": [
           {
            "colorbar": {
             "outlinewidth": 0,
             "ticks": ""
            },
            "colorscale": [
             [
              0,
              "#0d0887"
             ],
             [
              0.1111111111111111,
              "#46039f"
             ],
             [
              0.2222222222222222,
              "#7201a8"
             ],
             [
              0.3333333333333333,
              "#9c179e"
             ],
             [
              0.4444444444444444,
              "#bd3786"
             ],
             [
              0.5555555555555556,
              "#d8576b"
             ],
             [
              0.6666666666666666,
              "#ed7953"
             ],
             [
              0.7777777777777778,
              "#fb9f3a"
             ],
             [
              0.8888888888888888,
              "#fdca26"
             ],
             [
              1,
              "#f0f921"
             ]
            ],
            "type": "heatmap"
           }
          ],
          "heatmapgl": [
           {
            "colorbar": {
             "outlinewidth": 0,
             "ticks": ""
            },
            "colorscale": [
             [
              0,
              "#0d0887"
             ],
             [
              0.1111111111111111,
              "#46039f"
             ],
             [
              0.2222222222222222,
              "#7201a8"
             ],
             [
              0.3333333333333333,
              "#9c179e"
             ],
             [
              0.4444444444444444,
              "#bd3786"
             ],
             [
              0.5555555555555556,
              "#d8576b"
             ],
             [
              0.6666666666666666,
              "#ed7953"
             ],
             [
              0.7777777777777778,
              "#fb9f3a"
             ],
             [
              0.8888888888888888,
              "#fdca26"
             ],
             [
              1,
              "#f0f921"
             ]
            ],
            "type": "heatmapgl"
           }
          ],
          "histogram": [
           {
            "marker": {
             "pattern": {
              "fillmode": "overlay",
              "size": 10,
              "solidity": 0.2
             }
            },
            "type": "histogram"
           }
          ],
          "histogram2d": [
           {
            "colorbar": {
             "outlinewidth": 0,
             "ticks": ""
            },
            "colorscale": [
             [
              0,
              "#0d0887"
             ],
             [
              0.1111111111111111,
              "#46039f"
             ],
             [
              0.2222222222222222,
              "#7201a8"
             ],
             [
              0.3333333333333333,
              "#9c179e"
             ],
             [
              0.4444444444444444,
              "#bd3786"
             ],
             [
              0.5555555555555556,
              "#d8576b"
             ],
             [
              0.6666666666666666,
              "#ed7953"
             ],
             [
              0.7777777777777778,
              "#fb9f3a"
             ],
             [
              0.8888888888888888,
              "#fdca26"
             ],
             [
              1,
              "#f0f921"
             ]
            ],
            "type": "histogram2d"
           }
          ],
          "histogram2dcontour": [
           {
            "colorbar": {
             "outlinewidth": 0,
             "ticks": ""
            },
            "colorscale": [
             [
              0,
              "#0d0887"
             ],
             [
              0.1111111111111111,
              "#46039f"
             ],
             [
              0.2222222222222222,
              "#7201a8"
             ],
             [
              0.3333333333333333,
              "#9c179e"
             ],
             [
              0.4444444444444444,
              "#bd3786"
             ],
             [
              0.5555555555555556,
              "#d8576b"
             ],
             [
              0.6666666666666666,
              "#ed7953"
             ],
             [
              0.7777777777777778,
              "#fb9f3a"
             ],
             [
              0.8888888888888888,
              "#fdca26"
             ],
             [
              1,
              "#f0f921"
             ]
            ],
            "type": "histogram2dcontour"
           }
          ],
          "mesh3d": [
           {
            "colorbar": {
             "outlinewidth": 0,
             "ticks": ""
            },
            "type": "mesh3d"
           }
          ],
          "parcoords": [
           {
            "line": {
             "colorbar": {
              "outlinewidth": 0,
              "ticks": ""
             }
            },
            "type": "parcoords"
           }
          ],
          "pie": [
           {
            "automargin": true,
            "type": "pie"
           }
          ],
          "scatter": [
           {
            "marker": {
             "line": {
              "color": "#283442"
             }
            },
            "type": "scatter"
           }
          ],
          "scatter3d": [
           {
            "line": {
             "colorbar": {
              "outlinewidth": 0,
              "ticks": ""
             }
            },
            "marker": {
             "colorbar": {
              "outlinewidth": 0,
              "ticks": ""
             }
            },
            "type": "scatter3d"
           }
          ],
          "scattercarpet": [
           {
            "marker": {
             "colorbar": {
              "outlinewidth": 0,
              "ticks": ""
             }
            },
            "type": "scattercarpet"
           }
          ],
          "scattergeo": [
           {
            "marker": {
             "colorbar": {
              "outlinewidth": 0,
              "ticks": ""
             }
            },
            "type": "scattergeo"
           }
          ],
          "scattergl": [
           {
            "marker": {
             "line": {
              "color": "#283442"
             }
            },
            "type": "scattergl"
           }
          ],
          "scattermapbox": [
           {
            "marker": {
             "colorbar": {
              "outlinewidth": 0,
              "ticks": ""
             }
            },
            "type": "scattermapbox"
           }
          ],
          "scatterpolar": [
           {
            "marker": {
             "colorbar": {
              "outlinewidth": 0,
              "ticks": ""
             }
            },
            "type": "scatterpolar"
           }
          ],
          "scatterpolargl": [
           {
            "marker": {
             "colorbar": {
              "outlinewidth": 0,
              "ticks": ""
             }
            },
            "type": "scatterpolargl"
           }
          ],
          "scatterternary": [
           {
            "marker": {
             "colorbar": {
              "outlinewidth": 0,
              "ticks": ""
             }
            },
            "type": "scatterternary"
           }
          ],
          "surface": [
           {
            "colorbar": {
             "outlinewidth": 0,
             "ticks": ""
            },
            "colorscale": [
             [
              0,
              "#0d0887"
             ],
             [
              0.1111111111111111,
              "#46039f"
             ],
             [
              0.2222222222222222,
              "#7201a8"
             ],
             [
              0.3333333333333333,
              "#9c179e"
             ],
             [
              0.4444444444444444,
              "#bd3786"
             ],
             [
              0.5555555555555556,
              "#d8576b"
             ],
             [
              0.6666666666666666,
              "#ed7953"
             ],
             [
              0.7777777777777778,
              "#fb9f3a"
             ],
             [
              0.8888888888888888,
              "#fdca26"
             ],
             [
              1,
              "#f0f921"
             ]
            ],
            "type": "surface"
           }
          ],
          "table": [
           {
            "cells": {
             "fill": {
              "color": "#506784"
             },
             "line": {
              "color": "rgb(17,17,17)"
             }
            },
            "header": {
             "fill": {
              "color": "#2a3f5f"
             },
             "line": {
              "color": "rgb(17,17,17)"
             }
            },
            "type": "table"
           }
          ]
         },
         "layout": {
          "annotationdefaults": {
           "arrowcolor": "#f2f5fa",
           "arrowhead": 0,
           "arrowwidth": 1
          },
          "autotypenumbers": "strict",
          "coloraxis": {
           "colorbar": {
            "outlinewidth": 0,
            "ticks": ""
           }
          },
          "colorscale": {
           "diverging": [
            [
             0,
             "#8e0152"
            ],
            [
             0.1,
             "#c51b7d"
            ],
            [
             0.2,
             "#de77ae"
            ],
            [
             0.3,
             "#f1b6da"
            ],
            [
             0.4,
             "#fde0ef"
            ],
            [
             0.5,
             "#f7f7f7"
            ],
            [
             0.6,
             "#e6f5d0"
            ],
            [
             0.7,
             "#b8e186"
            ],
            [
             0.8,
             "#7fbc41"
            ],
            [
             0.9,
             "#4d9221"
            ],
            [
             1,
             "#276419"
            ]
           ],
           "sequential": [
            [
             0,
             "#0d0887"
            ],
            [
             0.1111111111111111,
             "#46039f"
            ],
            [
             0.2222222222222222,
             "#7201a8"
            ],
            [
             0.3333333333333333,
             "#9c179e"
            ],
            [
             0.4444444444444444,
             "#bd3786"
            ],
            [
             0.5555555555555556,
             "#d8576b"
            ],
            [
             0.6666666666666666,
             "#ed7953"
            ],
            [
             0.7777777777777778,
             "#fb9f3a"
            ],
            [
             0.8888888888888888,
             "#fdca26"
            ],
            [
             1,
             "#f0f921"
            ]
           ],
           "sequentialminus": [
            [
             0,
             "#0d0887"
            ],
            [
             0.1111111111111111,
             "#46039f"
            ],
            [
             0.2222222222222222,
             "#7201a8"
            ],
            [
             0.3333333333333333,
             "#9c179e"
            ],
            [
             0.4444444444444444,
             "#bd3786"
            ],
            [
             0.5555555555555556,
             "#d8576b"
            ],
            [
             0.6666666666666666,
             "#ed7953"
            ],
            [
             0.7777777777777778,
             "#fb9f3a"
            ],
            [
             0.8888888888888888,
             "#fdca26"
            ],
            [
             1,
             "#f0f921"
            ]
           ]
          },
          "colorway": [
           "#636efa",
           "#EF553B",
           "#00cc96",
           "#ab63fa",
           "#FFA15A",
           "#19d3f3",
           "#FF6692",
           "#B6E880",
           "#FF97FF",
           "#FECB52"
          ],
          "font": {
           "color": "#f2f5fa"
          },
          "geo": {
           "bgcolor": "rgb(17,17,17)",
           "lakecolor": "rgb(17,17,17)",
           "landcolor": "rgb(17,17,17)",
           "showlakes": true,
           "showland": true,
           "subunitcolor": "#506784"
          },
          "hoverlabel": {
           "align": "left"
          },
          "hovermode": "closest",
          "mapbox": {
           "style": "dark"
          },
          "paper_bgcolor": "rgb(17,17,17)",
          "plot_bgcolor": "rgb(17,17,17)",
          "polar": {
           "angularaxis": {
            "gridcolor": "#506784",
            "linecolor": "#506784",
            "ticks": ""
           },
           "bgcolor": "rgb(17,17,17)",
           "radialaxis": {
            "gridcolor": "#506784",
            "linecolor": "#506784",
            "ticks": ""
           }
          },
          "scene": {
           "xaxis": {
            "backgroundcolor": "rgb(17,17,17)",
            "gridcolor": "#506784",
            "gridwidth": 2,
            "linecolor": "#506784",
            "showbackground": true,
            "ticks": "",
            "zerolinecolor": "#C8D4E3"
           },
           "yaxis": {
            "backgroundcolor": "rgb(17,17,17)",
            "gridcolor": "#506784",
            "gridwidth": 2,
            "linecolor": "#506784",
            "showbackground": true,
            "ticks": "",
            "zerolinecolor": "#C8D4E3"
           },
           "zaxis": {
            "backgroundcolor": "rgb(17,17,17)",
            "gridcolor": "#506784",
            "gridwidth": 2,
            "linecolor": "#506784",
            "showbackground": true,
            "ticks": "",
            "zerolinecolor": "#C8D4E3"
           }
          },
          "shapedefaults": {
           "line": {
            "color": "#f2f5fa"
           }
          },
          "sliderdefaults": {
           "bgcolor": "#C8D4E3",
           "bordercolor": "rgb(17,17,17)",
           "borderwidth": 1,
           "tickwidth": 0
          },
          "ternary": {
           "aaxis": {
            "gridcolor": "#506784",
            "linecolor": "#506784",
            "ticks": ""
           },
           "baxis": {
            "gridcolor": "#506784",
            "linecolor": "#506784",
            "ticks": ""
           },
           "bgcolor": "rgb(17,17,17)",
           "caxis": {
            "gridcolor": "#506784",
            "linecolor": "#506784",
            "ticks": ""
           }
          },
          "title": {
           "x": 0.05
          },
          "updatemenudefaults": {
           "bgcolor": "#506784",
           "borderwidth": 0
          },
          "xaxis": {
           "automargin": true,
           "gridcolor": "#283442",
           "linecolor": "#506784",
           "ticks": "",
           "title": {
            "standoff": 15
           },
           "zerolinecolor": "#283442",
           "zerolinewidth": 2
          },
          "yaxis": {
           "automargin": true,
           "gridcolor": "#283442",
           "linecolor": "#506784",
           "ticks": "",
           "title": {
            "standoff": 15
           },
           "zerolinecolor": "#283442",
           "zerolinewidth": 2
          }
         }
        },
        "title": {
         "text": "50 tasks 2 workers batch-size => 5 : fast  Plot for Latency Trends Over Time"
        },
        "xaxis": {
         "showgrid": true,
         "title": {
          "text": "Message ID"
         }
        },
        "yaxis": {
         "showgrid": true,
         "title": {
          "text": "Latency (seconds)"
         }
        }
       }
      }
     },
     "metadata": {},
     "output_type": "display_data"
    },
    {
     "name": "stdout",
     "output_type": "stream",
     "text": [
      "throughput => timestamp\n",
      "2024-12-31 10:23:50    10\n",
      "2024-12-31 10:24:00     0\n",
      "2024-12-31 10:24:10     0\n",
      "2024-12-31 10:24:20     0\n",
      "2024-12-31 10:24:30     0\n",
      "2024-12-31 10:24:40    10\n",
      "2024-12-31 10:24:50     0\n",
      "2024-12-31 10:25:00     0\n",
      "2024-12-31 10:25:10     0\n",
      "2024-12-31 10:25:20     0\n",
      "2024-12-31 10:25:30    10\n",
      "2024-12-31 10:25:40     0\n",
      "2024-12-31 10:25:50     0\n",
      "2024-12-31 10:26:00     0\n",
      "2024-12-31 10:26:10     0\n",
      "2024-12-31 10:26:20    10\n",
      "2024-12-31 10:26:30     0\n",
      "2024-12-31 10:26:40     0\n",
      "2024-12-31 10:26:50     0\n",
      "2024-12-31 10:27:00     0\n",
      "2024-12-31 10:27:10    10\n",
      "Freq: 10S, dtype: int64\n"
     ]
    },
    {
     "data": {
      "application/vnd.plotly.v1+json": {
       "config": {
        "plotlyServerURL": "https://plot.ly"
       },
       "data": [
        {
         "line": {
          "color": "green"
         },
         "marker": {
          "color": "green"
         },
         "mode": "lines+markers",
         "name": "Throughput",
         "type": "scatter",
         "x": [
          "2024-12-31T10:23:50",
          "2024-12-31T10:24:00",
          "2024-12-31T10:24:10",
          "2024-12-31T10:24:20",
          "2024-12-31T10:24:30",
          "2024-12-31T10:24:40",
          "2024-12-31T10:24:50",
          "2024-12-31T10:25:00",
          "2024-12-31T10:25:10",
          "2024-12-31T10:25:20",
          "2024-12-31T10:25:30",
          "2024-12-31T10:25:40",
          "2024-12-31T10:25:50",
          "2024-12-31T10:26:00",
          "2024-12-31T10:26:10",
          "2024-12-31T10:26:20",
          "2024-12-31T10:26:30",
          "2024-12-31T10:26:40",
          "2024-12-31T10:26:50",
          "2024-12-31T10:27:00",
          "2024-12-31T10:27:10"
         ],
         "y": [
          10,
          0,
          0,
          0,
          0,
          10,
          0,
          0,
          0,
          0,
          10,
          0,
          0,
          0,
          0,
          10,
          0,
          0,
          0,
          0,
          10
         ]
        }
       ],
       "layout": {
        "legend": {
         "title": {
          "text": "Legend"
         }
        },
        "template": {
         "data": {
          "bar": [
           {
            "error_x": {
             "color": "#f2f5fa"
            },
            "error_y": {
             "color": "#f2f5fa"
            },
            "marker": {
             "line": {
              "color": "rgb(17,17,17)",
              "width": 0.5
             },
             "pattern": {
              "fillmode": "overlay",
              "size": 10,
              "solidity": 0.2
             }
            },
            "type": "bar"
           }
          ],
          "barpolar": [
           {
            "marker": {
             "line": {
              "color": "rgb(17,17,17)",
              "width": 0.5
             },
             "pattern": {
              "fillmode": "overlay",
              "size": 10,
              "solidity": 0.2
             }
            },
            "type": "barpolar"
           }
          ],
          "carpet": [
           {
            "aaxis": {
             "endlinecolor": "#A2B1C6",
             "gridcolor": "#506784",
             "linecolor": "#506784",
             "minorgridcolor": "#506784",
             "startlinecolor": "#A2B1C6"
            },
            "baxis": {
             "endlinecolor": "#A2B1C6",
             "gridcolor": "#506784",
             "linecolor": "#506784",
             "minorgridcolor": "#506784",
             "startlinecolor": "#A2B1C6"
            },
            "type": "carpet"
           }
          ],
          "choropleth": [
           {
            "colorbar": {
             "outlinewidth": 0,
             "ticks": ""
            },
            "type": "choropleth"
           }
          ],
          "contour": [
           {
            "colorbar": {
             "outlinewidth": 0,
             "ticks": ""
            },
            "colorscale": [
             [
              0,
              "#0d0887"
             ],
             [
              0.1111111111111111,
              "#46039f"
             ],
             [
              0.2222222222222222,
              "#7201a8"
             ],
             [
              0.3333333333333333,
              "#9c179e"
             ],
             [
              0.4444444444444444,
              "#bd3786"
             ],
             [
              0.5555555555555556,
              "#d8576b"
             ],
             [
              0.6666666666666666,
              "#ed7953"
             ],
             [
              0.7777777777777778,
              "#fb9f3a"
             ],
             [
              0.8888888888888888,
              "#fdca26"
             ],
             [
              1,
              "#f0f921"
             ]
            ],
            "type": "contour"
           }
          ],
          "contourcarpet": [
           {
            "colorbar": {
             "outlinewidth": 0,
             "ticks": ""
            },
            "type": "contourcarpet"
           }
          ],
          "heatmap": [
           {
            "colorbar": {
             "outlinewidth": 0,
             "ticks": ""
            },
            "colorscale": [
             [
              0,
              "#0d0887"
             ],
             [
              0.1111111111111111,
              "#46039f"
             ],
             [
              0.2222222222222222,
              "#7201a8"
             ],
             [
              0.3333333333333333,
              "#9c179e"
             ],
             [
              0.4444444444444444,
              "#bd3786"
             ],
             [
              0.5555555555555556,
              "#d8576b"
             ],
             [
              0.6666666666666666,
              "#ed7953"
             ],
             [
              0.7777777777777778,
              "#fb9f3a"
             ],
             [
              0.8888888888888888,
              "#fdca26"
             ],
             [
              1,
              "#f0f921"
             ]
            ],
            "type": "heatmap"
           }
          ],
          "heatmapgl": [
           {
            "colorbar": {
             "outlinewidth": 0,
             "ticks": ""
            },
            "colorscale": [
             [
              0,
              "#0d0887"
             ],
             [
              0.1111111111111111,
              "#46039f"
             ],
             [
              0.2222222222222222,
              "#7201a8"
             ],
             [
              0.3333333333333333,
              "#9c179e"
             ],
             [
              0.4444444444444444,
              "#bd3786"
             ],
             [
              0.5555555555555556,
              "#d8576b"
             ],
             [
              0.6666666666666666,
              "#ed7953"
             ],
             [
              0.7777777777777778,
              "#fb9f3a"
             ],
             [
              0.8888888888888888,
              "#fdca26"
             ],
             [
              1,
              "#f0f921"
             ]
            ],
            "type": "heatmapgl"
           }
          ],
          "histogram": [
           {
            "marker": {
             "pattern": {
              "fillmode": "overlay",
              "size": 10,
              "solidity": 0.2
             }
            },
            "type": "histogram"
           }
          ],
          "histogram2d": [
           {
            "colorbar": {
             "outlinewidth": 0,
             "ticks": ""
            },
            "colorscale": [
             [
              0,
              "#0d0887"
             ],
             [
              0.1111111111111111,
              "#46039f"
             ],
             [
              0.2222222222222222,
              "#7201a8"
             ],
             [
              0.3333333333333333,
              "#9c179e"
             ],
             [
              0.4444444444444444,
              "#bd3786"
             ],
             [
              0.5555555555555556,
              "#d8576b"
             ],
             [
              0.6666666666666666,
              "#ed7953"
             ],
             [
              0.7777777777777778,
              "#fb9f3a"
             ],
             [
              0.8888888888888888,
              "#fdca26"
             ],
             [
              1,
              "#f0f921"
             ]
            ],
            "type": "histogram2d"
           }
          ],
          "histogram2dcontour": [
           {
            "colorbar": {
             "outlinewidth": 0,
             "ticks": ""
            },
            "colorscale": [
             [
              0,
              "#0d0887"
             ],
             [
              0.1111111111111111,
              "#46039f"
             ],
             [
              0.2222222222222222,
              "#7201a8"
             ],
             [
              0.3333333333333333,
              "#9c179e"
             ],
             [
              0.4444444444444444,
              "#bd3786"
             ],
             [
              0.5555555555555556,
              "#d8576b"
             ],
             [
              0.6666666666666666,
              "#ed7953"
             ],
             [
              0.7777777777777778,
              "#fb9f3a"
             ],
             [
              0.8888888888888888,
              "#fdca26"
             ],
             [
              1,
              "#f0f921"
             ]
            ],
            "type": "histogram2dcontour"
           }
          ],
          "mesh3d": [
           {
            "colorbar": {
             "outlinewidth": 0,
             "ticks": ""
            },
            "type": "mesh3d"
           }
          ],
          "parcoords": [
           {
            "line": {
             "colorbar": {
              "outlinewidth": 0,
              "ticks": ""
             }
            },
            "type": "parcoords"
           }
          ],
          "pie": [
           {
            "automargin": true,
            "type": "pie"
           }
          ],
          "scatter": [
           {
            "marker": {
             "line": {
              "color": "#283442"
             }
            },
            "type": "scatter"
           }
          ],
          "scatter3d": [
           {
            "line": {
             "colorbar": {
              "outlinewidth": 0,
              "ticks": ""
             }
            },
            "marker": {
             "colorbar": {
              "outlinewidth": 0,
              "ticks": ""
             }
            },
            "type": "scatter3d"
           }
          ],
          "scattercarpet": [
           {
            "marker": {
             "colorbar": {
              "outlinewidth": 0,
              "ticks": ""
             }
            },
            "type": "scattercarpet"
           }
          ],
          "scattergeo": [
           {
            "marker": {
             "colorbar": {
              "outlinewidth": 0,
              "ticks": ""
             }
            },
            "type": "scattergeo"
           }
          ],
          "scattergl": [
           {
            "marker": {
             "line": {
              "color": "#283442"
             }
            },
            "type": "scattergl"
           }
          ],
          "scattermapbox": [
           {
            "marker": {
             "colorbar": {
              "outlinewidth": 0,
              "ticks": ""
             }
            },
            "type": "scattermapbox"
           }
          ],
          "scatterpolar": [
           {
            "marker": {
             "colorbar": {
              "outlinewidth": 0,
              "ticks": ""
             }
            },
            "type": "scatterpolar"
           }
          ],
          "scatterpolargl": [
           {
            "marker": {
             "colorbar": {
              "outlinewidth": 0,
              "ticks": ""
             }
            },
            "type": "scatterpolargl"
           }
          ],
          "scatterternary": [
           {
            "marker": {
             "colorbar": {
              "outlinewidth": 0,
              "ticks": ""
             }
            },
            "type": "scatterternary"
           }
          ],
          "surface": [
           {
            "colorbar": {
             "outlinewidth": 0,
             "ticks": ""
            },
            "colorscale": [
             [
              0,
              "#0d0887"
             ],
             [
              0.1111111111111111,
              "#46039f"
             ],
             [
              0.2222222222222222,
              "#7201a8"
             ],
             [
              0.3333333333333333,
              "#9c179e"
             ],
             [
              0.4444444444444444,
              "#bd3786"
             ],
             [
              0.5555555555555556,
              "#d8576b"
             ],
             [
              0.6666666666666666,
              "#ed7953"
             ],
             [
              0.7777777777777778,
              "#fb9f3a"
             ],
             [
              0.8888888888888888,
              "#fdca26"
             ],
             [
              1,
              "#f0f921"
             ]
            ],
            "type": "surface"
           }
          ],
          "table": [
           {
            "cells": {
             "fill": {
              "color": "#506784"
             },
             "line": {
              "color": "rgb(17,17,17)"
             }
            },
            "header": {
             "fill": {
              "color": "#2a3f5f"
             },
             "line": {
              "color": "rgb(17,17,17)"
             }
            },
            "type": "table"
           }
          ]
         },
         "layout": {
          "annotationdefaults": {
           "arrowcolor": "#f2f5fa",
           "arrowhead": 0,
           "arrowwidth": 1
          },
          "autotypenumbers": "strict",
          "coloraxis": {
           "colorbar": {
            "outlinewidth": 0,
            "ticks": ""
           }
          },
          "colorscale": {
           "diverging": [
            [
             0,
             "#8e0152"
            ],
            [
             0.1,
             "#c51b7d"
            ],
            [
             0.2,
             "#de77ae"
            ],
            [
             0.3,
             "#f1b6da"
            ],
            [
             0.4,
             "#fde0ef"
            ],
            [
             0.5,
             "#f7f7f7"
            ],
            [
             0.6,
             "#e6f5d0"
            ],
            [
             0.7,
             "#b8e186"
            ],
            [
             0.8,
             "#7fbc41"
            ],
            [
             0.9,
             "#4d9221"
            ],
            [
             1,
             "#276419"
            ]
           ],
           "sequential": [
            [
             0,
             "#0d0887"
            ],
            [
             0.1111111111111111,
             "#46039f"
            ],
            [
             0.2222222222222222,
             "#7201a8"
            ],
            [
             0.3333333333333333,
             "#9c179e"
            ],
            [
             0.4444444444444444,
             "#bd3786"
            ],
            [
             0.5555555555555556,
             "#d8576b"
            ],
            [
             0.6666666666666666,
             "#ed7953"
            ],
            [
             0.7777777777777778,
             "#fb9f3a"
            ],
            [
             0.8888888888888888,
             "#fdca26"
            ],
            [
             1,
             "#f0f921"
            ]
           ],
           "sequentialminus": [
            [
             0,
             "#0d0887"
            ],
            [
             0.1111111111111111,
             "#46039f"
            ],
            [
             0.2222222222222222,
             "#7201a8"
            ],
            [
             0.3333333333333333,
             "#9c179e"
            ],
            [
             0.4444444444444444,
             "#bd3786"
            ],
            [
             0.5555555555555556,
             "#d8576b"
            ],
            [
             0.6666666666666666,
             "#ed7953"
            ],
            [
             0.7777777777777778,
             "#fb9f3a"
            ],
            [
             0.8888888888888888,
             "#fdca26"
            ],
            [
             1,
             "#f0f921"
            ]
           ]
          },
          "colorway": [
           "#636efa",
           "#EF553B",
           "#00cc96",
           "#ab63fa",
           "#FFA15A",
           "#19d3f3",
           "#FF6692",
           "#B6E880",
           "#FF97FF",
           "#FECB52"
          ],
          "font": {
           "color": "#f2f5fa"
          },
          "geo": {
           "bgcolor": "rgb(17,17,17)",
           "lakecolor": "rgb(17,17,17)",
           "landcolor": "rgb(17,17,17)",
           "showlakes": true,
           "showland": true,
           "subunitcolor": "#506784"
          },
          "hoverlabel": {
           "align": "left"
          },
          "hovermode": "closest",
          "mapbox": {
           "style": "dark"
          },
          "paper_bgcolor": "rgb(17,17,17)",
          "plot_bgcolor": "rgb(17,17,17)",
          "polar": {
           "angularaxis": {
            "gridcolor": "#506784",
            "linecolor": "#506784",
            "ticks": ""
           },
           "bgcolor": "rgb(17,17,17)",
           "radialaxis": {
            "gridcolor": "#506784",
            "linecolor": "#506784",
            "ticks": ""
           }
          },
          "scene": {
           "xaxis": {
            "backgroundcolor": "rgb(17,17,17)",
            "gridcolor": "#506784",
            "gridwidth": 2,
            "linecolor": "#506784",
            "showbackground": true,
            "ticks": "",
            "zerolinecolor": "#C8D4E3"
           },
           "yaxis": {
            "backgroundcolor": "rgb(17,17,17)",
            "gridcolor": "#506784",
            "gridwidth": 2,
            "linecolor": "#506784",
            "showbackground": true,
            "ticks": "",
            "zerolinecolor": "#C8D4E3"
           },
           "zaxis": {
            "backgroundcolor": "rgb(17,17,17)",
            "gridcolor": "#506784",
            "gridwidth": 2,
            "linecolor": "#506784",
            "showbackground": true,
            "ticks": "",
            "zerolinecolor": "#C8D4E3"
           }
          },
          "shapedefaults": {
           "line": {
            "color": "#f2f5fa"
           }
          },
          "sliderdefaults": {
           "bgcolor": "#C8D4E3",
           "bordercolor": "rgb(17,17,17)",
           "borderwidth": 1,
           "tickwidth": 0
          },
          "ternary": {
           "aaxis": {
            "gridcolor": "#506784",
            "linecolor": "#506784",
            "ticks": ""
           },
           "baxis": {
            "gridcolor": "#506784",
            "linecolor": "#506784",
            "ticks": ""
           },
           "bgcolor": "rgb(17,17,17)",
           "caxis": {
            "gridcolor": "#506784",
            "linecolor": "#506784",
            "ticks": ""
           }
          },
          "title": {
           "x": 0.05
          },
          "updatemenudefaults": {
           "bgcolor": "#506784",
           "borderwidth": 0
          },
          "xaxis": {
           "automargin": true,
           "gridcolor": "#283442",
           "linecolor": "#506784",
           "ticks": "",
           "title": {
            "standoff": 15
           },
           "zerolinecolor": "#283442",
           "zerolinewidth": 2
          },
          "yaxis": {
           "automargin": true,
           "gridcolor": "#283442",
           "linecolor": "#506784",
           "ticks": "",
           "title": {
            "standoff": 15
           },
           "zerolinecolor": "#283442",
           "zerolinewidth": 2
          }
         }
        },
        "title": {
         "text": "50 tasks 2 workers batch-size => 5 : fast  Plot for Throughput Trends Over Time"
        },
        "xaxis": {
         "showgrid": true,
         "title": {
          "text": "Time"
         }
        },
        "yaxis": {
         "showgrid": true,
         "title": {
          "text": "Tasks Completed (Throughput)"
         }
        }
       }
      }
     },
     "metadata": {},
     "output_type": "display_data"
    },
    {
     "data": {
      "application/vnd.plotly.v1+json": {
       "config": {
        "plotlyServerURL": "https://plot.ly"
       },
       "data": [
        {
         "hovertemplate": "state=pending<br>Time=%{x}<br>message_id=%{y}<extra></extra>",
         "legendgroup": "pending",
         "line": {
          "color": "#636efa",
          "dash": "solid"
         },
         "marker": {
          "symbol": "circle"
         },
         "mode": "lines+markers",
         "name": "pending",
         "orientation": "v",
         "showlegend": true,
         "type": "scatter",
         "x": [
          "2024-12-31T10:43:20.868118",
          "2024-12-31T10:43:20.932671",
          "2024-12-31T10:43:21.070495",
          "2024-12-31T10:43:21.076004",
          "2024-12-31T10:43:21.097969",
          "2024-12-31T10:43:21.115973",
          "2024-12-31T10:43:21.138111",
          "2024-12-31T10:43:21.240088",
          "2024-12-31T10:43:21.264289",
          "2024-12-31T10:43:21.274357",
          "2024-12-31T10:43:21.282792",
          "2024-12-31T10:43:21.294513",
          "2024-12-31T10:43:21.326178",
          "2024-12-31T10:43:21.355139",
          "2024-12-31T10:43:21.357794",
          "2024-12-31T10:43:21.394051",
          "2024-12-31T10:43:21.424055",
          "2024-12-31T10:43:21.426770",
          "2024-12-31T10:43:21.437895",
          "2024-12-31T10:43:21.459960",
          "2024-12-31T10:43:21.503077",
          "2024-12-31T10:43:21.575559",
          "2024-12-31T10:43:21.604738",
          "2024-12-31T10:43:21.623768",
          "2024-12-31T10:43:21.694053",
          "2024-12-31T10:43:21.749977",
          "2024-12-31T10:43:21.840413",
          "2024-12-31T10:43:21.882932",
          "2024-12-31T10:43:26.457867",
          "2024-12-31T10:43:26.519769",
          "2024-12-31T10:43:26.558362",
          "2024-12-31T10:43:26.600277",
          "2024-12-31T10:43:26.644340",
          "2024-12-31T10:43:26.695862",
          "2024-12-31T10:43:26.716186",
          "2024-12-31T10:43:26.726123",
          "2024-12-31T10:43:26.802139",
          "2024-12-31T10:43:26.849353",
          "2024-12-31T10:43:26.904040",
          "2024-12-31T10:43:26.905944",
          "2024-12-31T10:43:26.935538",
          "2024-12-31T10:43:26.999106",
          "2024-12-31T10:43:27.066787",
          "2024-12-31T10:43:27.133301",
          "2024-12-31T10:43:27.153760",
          "2024-12-31T10:43:27.163372",
          "2024-12-31T10:43:27.212003",
          "2024-12-31T10:43:27.247339",
          "2024-12-31T10:43:27.322495",
          "2024-12-31T10:43:27.363217",
          "2024-12-31T10:43:27.556943",
          "2024-12-31T10:43:27.605586",
          "2024-12-31T10:43:27.648248",
          "2024-12-31T10:43:27.719167",
          "2024-12-31T10:43:27.807691",
          "2024-12-31T10:43:27.918638",
          "2024-12-31T10:43:31.650775",
          "2024-12-31T10:43:31.749816",
          "2024-12-31T10:43:31.907453",
          "2024-12-31T10:43:32.046496",
          "2024-12-31T10:43:32.103618",
          "2024-12-31T10:43:32.166211",
          "2024-12-31T10:43:32.202910",
          "2024-12-31T10:43:32.207915",
          "2024-12-31T10:43:32.223834",
          "2024-12-31T10:43:32.293137",
          "2024-12-31T10:43:32.361562",
          "2024-12-31T10:43:32.481205",
          "2024-12-31T10:43:32.558603",
          "2024-12-31T10:43:32.580385",
          "2024-12-31T10:43:32.608349",
          "2024-12-31T10:43:32.740530",
          "2024-12-31T10:43:32.789249",
          "2024-12-31T10:43:32.870722",
          "2024-12-31T10:43:32.940720",
          "2024-12-31T10:43:32.995700",
          "2024-12-31T10:43:33.007168",
          "2024-12-31T10:43:33.014448",
          "2024-12-31T10:43:33.074606",
          "2024-12-31T10:43:33.083177",
          "2024-12-31T10:43:33.290328",
          "2024-12-31T10:43:33.533677",
          "2024-12-31T10:43:33.565822",
          "2024-12-31T10:43:33.788484",
          "2024-12-31T10:43:35.898879",
          "2024-12-31T10:43:36.243466",
          "2024-12-31T10:43:36.304233",
          "2024-12-31T10:43:36.435283",
          "2024-12-31T10:43:36.486759",
          "2024-12-31T10:43:36.492958",
          "2024-12-31T10:43:36.532331",
          "2024-12-31T10:43:36.571028",
          "2024-12-31T10:43:36.646885",
          "2024-12-31T10:43:36.713194",
          "2024-12-31T10:43:36.756600",
          "2024-12-31T10:43:36.778218",
          "2024-12-31T10:43:36.788973",
          "2024-12-31T10:43:36.808920",
          "2024-12-31T10:43:36.940941",
          "2024-12-31T10:43:36.987819"
         ],
         "xaxis": "x",
         "y": [
          1,
          2,
          3,
          4,
          5,
          6,
          7,
          8,
          9,
          10,
          11,
          12,
          13,
          14,
          15,
          16,
          17,
          18,
          19,
          20,
          21,
          22,
          23,
          24,
          25,
          26,
          27,
          28,
          29,
          30,
          31,
          32,
          33,
          34,
          35,
          36,
          37,
          38,
          39,
          40,
          41,
          42,
          43,
          44,
          45,
          46,
          47,
          48,
          49,
          50,
          51,
          52,
          53,
          54,
          55,
          56,
          57,
          58,
          59,
          60,
          61,
          62,
          63,
          64,
          65,
          66,
          67,
          68,
          69,
          70,
          71,
          72,
          73,
          74,
          75,
          76,
          77,
          78,
          79,
          80,
          81,
          82,
          83,
          84,
          85,
          86,
          87,
          88,
          89,
          90,
          91,
          92,
          93,
          94,
          95,
          96,
          97,
          98,
          99,
          100
         ],
         "yaxis": "y"
        },
        {
         "hovertemplate": "state=active<br>Time=%{x}<br>message_id=%{y}<extra></extra>",
         "legendgroup": "active",
         "line": {
          "color": "#EF553B",
          "dash": "solid"
         },
         "marker": {
          "symbol": "circle"
         },
         "mode": "lines+markers",
         "name": "active",
         "orientation": "v",
         "showlegend": true,
         "type": "scatter",
         "x": [
          "2024-12-31T10:43:23.623690",
          "2024-12-31T10:43:23.623690",
          "2024-12-31T10:43:23.623690",
          "2024-12-31T10:43:23.623690",
          "2024-12-31T10:43:23.623690",
          "2024-12-31T10:43:25.064166",
          "2024-12-31T10:43:25.064166",
          "2024-12-31T10:43:25.064166",
          "2024-12-31T10:43:25.064166",
          "2024-12-31T10:43:25.064166",
          "2024-12-31T10:44:13.843269",
          "2024-12-31T10:44:13.843269",
          "2024-12-31T10:44:13.843269",
          "2024-12-31T10:44:13.843269",
          "2024-12-31T10:44:13.843269",
          "2024-12-31T10:44:15.299611",
          "2024-12-31T10:44:15.299611",
          "2024-12-31T10:44:15.299611",
          "2024-12-31T10:44:15.299611",
          "2024-12-31T10:44:15.299611",
          "2024-12-31T10:45:04.145963",
          "2024-12-31T10:45:04.145963",
          "2024-12-31T10:45:04.145963",
          "2024-12-31T10:45:04.145963",
          "2024-12-31T10:45:04.145963",
          "2024-12-31T10:45:05.613029",
          "2024-12-31T10:45:05.613029",
          "2024-12-31T10:45:05.613029",
          "2024-12-31T10:45:05.613029",
          "2024-12-31T10:45:05.613029",
          "2024-12-31T10:45:54.357144",
          "2024-12-31T10:45:54.357144",
          "2024-12-31T10:45:54.357144",
          "2024-12-31T10:45:54.357144",
          "2024-12-31T10:45:54.357144",
          "2024-12-31T10:45:55.842574",
          "2024-12-31T10:45:55.842574",
          "2024-12-31T10:45:55.842574",
          "2024-12-31T10:45:55.842574",
          "2024-12-31T10:45:55.842574",
          "2024-12-31T10:46:44.558880",
          "2024-12-31T10:46:44.558880",
          "2024-12-31T10:46:44.558880",
          "2024-12-31T10:46:44.558880",
          "2024-12-31T10:46:44.558880",
          "2024-12-31T10:46:46.086765",
          "2024-12-31T10:46:46.086765",
          "2024-12-31T10:46:46.086765",
          "2024-12-31T10:46:46.086765",
          "2024-12-31T10:46:46.086765",
          "2024-12-31T10:47:34.773969",
          "2024-12-31T10:47:34.773969",
          "2024-12-31T10:47:34.773969",
          "2024-12-31T10:47:34.773969",
          "2024-12-31T10:47:34.773969",
          "2024-12-31T10:47:36.314464",
          "2024-12-31T10:47:36.314464",
          "2024-12-31T10:47:36.314464",
          "2024-12-31T10:47:36.314464",
          "2024-12-31T10:47:36.314464",
          "2024-12-31T10:48:25.001630",
          "2024-12-31T10:48:25.001630",
          "2024-12-31T10:48:25.001630",
          "2024-12-31T10:48:25.001630",
          "2024-12-31T10:48:25.001630",
          "2024-12-31T10:48:26.532410",
          "2024-12-31T10:48:26.532410",
          "2024-12-31T10:48:26.532410",
          "2024-12-31T10:48:26.532410",
          "2024-12-31T10:48:26.532410",
          "2024-12-31T10:49:15.262401",
          "2024-12-31T10:49:15.262401",
          "2024-12-31T10:49:15.262401",
          "2024-12-31T10:49:15.262401",
          "2024-12-31T10:49:15.262401",
          "2024-12-31T10:49:16.824405",
          "2024-12-31T10:49:16.824405",
          "2024-12-31T10:49:16.824405",
          "2024-12-31T10:49:16.824405",
          "2024-12-31T10:49:16.824405",
          "2024-12-31T10:50:05.506299",
          "2024-12-31T10:50:05.506299",
          "2024-12-31T10:50:05.506299",
          "2024-12-31T10:50:05.506299",
          "2024-12-31T10:50:05.506299",
          "2024-12-31T10:50:07.075612",
          "2024-12-31T10:50:07.075612",
          "2024-12-31T10:50:07.075612",
          "2024-12-31T10:50:07.075612",
          "2024-12-31T10:50:07.075612",
          "2024-12-31T10:50:55.774327",
          "2024-12-31T10:50:55.774327",
          "2024-12-31T10:50:55.774327",
          "2024-12-31T10:50:55.774327",
          "2024-12-31T10:50:55.774327",
          "2024-12-31T10:50:57.360010",
          "2024-12-31T10:50:57.360010",
          "2024-12-31T10:50:57.360010",
          "2024-12-31T10:50:57.360010",
          "2024-12-31T10:50:57.360010"
         ],
         "xaxis": "x",
         "y": [
          1,
          2,
          3,
          4,
          5,
          10,
          8,
          9,
          7,
          6,
          11,
          12,
          13,
          14,
          15,
          20,
          18,
          19,
          16,
          17,
          23,
          25,
          24,
          22,
          21,
          29,
          28,
          30,
          26,
          27,
          35,
          34,
          33,
          32,
          31,
          40,
          39,
          38,
          37,
          36,
          45,
          44,
          43,
          42,
          41,
          50,
          49,
          46,
          47,
          48,
          55,
          54,
          53,
          51,
          52,
          60,
          59,
          56,
          57,
          58,
          61,
          62,
          63,
          64,
          65,
          66,
          67,
          68,
          69,
          70,
          71,
          72,
          73,
          74,
          75,
          76,
          77,
          78,
          79,
          80,
          81,
          82,
          83,
          84,
          85,
          86,
          87,
          88,
          89,
          90,
          91,
          92,
          93,
          94,
          95,
          96,
          97,
          98,
          99,
          100
         ],
         "yaxis": "y"
        },
        {
         "hovertemplate": "state=completed<br>Time=%{x}<br>message_id=%{y}<extra></extra>",
         "legendgroup": "completed",
         "line": {
          "color": "#00cc96",
          "dash": "solid"
         },
         "marker": {
          "symbol": "circle"
         },
         "mode": "lines+markers",
         "name": "completed",
         "orientation": "v",
         "showlegend": true,
         "type": "scatter",
         "x": [
          "2024-12-31T10:44:13.808628",
          "2024-12-31T10:44:13.808863",
          "2024-12-31T10:44:13.809085",
          "2024-12-31T10:44:13.809290",
          "2024-12-31T10:44:13.809485",
          "2024-12-31T10:44:15.264696",
          "2024-12-31T10:44:15.264924",
          "2024-12-31T10:44:15.265131",
          "2024-12-31T10:44:15.265335",
          "2024-12-31T10:44:15.265537",
          "2024-12-31T10:45:04.115099",
          "2024-12-31T10:45:04.115343",
          "2024-12-31T10:45:04.115594",
          "2024-12-31T10:45:04.115805",
          "2024-12-31T10:45:04.116065",
          "2024-12-31T10:45:05.579121",
          "2024-12-31T10:45:05.579341",
          "2024-12-31T10:45:05.579556",
          "2024-12-31T10:45:05.579751",
          "2024-12-31T10:45:05.579943",
          "2024-12-31T10:45:54.325706",
          "2024-12-31T10:45:54.325931",
          "2024-12-31T10:45:54.326141",
          "2024-12-31T10:45:54.326335",
          "2024-12-31T10:45:54.326538",
          "2024-12-31T10:45:55.810312",
          "2024-12-31T10:45:55.810532",
          "2024-12-31T10:45:55.810741",
          "2024-12-31T10:45:55.810936",
          "2024-12-31T10:45:55.811131",
          "2024-12-31T10:46:44.526266",
          "2024-12-31T10:46:44.527761",
          "2024-12-31T10:46:44.528293",
          "2024-12-31T10:46:44.529181",
          "2024-12-31T10:46:44.529604",
          "2024-12-31T10:46:46.054000",
          "2024-12-31T10:46:46.054261",
          "2024-12-31T10:46:46.054491",
          "2024-12-31T10:46:46.054712",
          "2024-12-31T10:46:46.054928",
          "2024-12-31T10:47:34.744053",
          "2024-12-31T10:47:34.744273",
          "2024-12-31T10:47:34.744475",
          "2024-12-31T10:47:34.744677",
          "2024-12-31T10:47:34.744885",
          "2024-12-31T10:47:36.283029",
          "2024-12-31T10:47:36.283333",
          "2024-12-31T10:47:36.283546",
          "2024-12-31T10:47:36.283744",
          "2024-12-31T10:47:36.283976",
          "2024-12-31T10:48:24.968114",
          "2024-12-31T10:48:24.968358",
          "2024-12-31T10:48:24.968576",
          "2024-12-31T10:48:24.968780",
          "2024-12-31T10:48:24.968984",
          "2024-12-31T10:48:26.496132",
          "2024-12-31T10:48:26.496457",
          "2024-12-31T10:48:26.496753",
          "2024-12-31T10:48:26.497053",
          "2024-12-31T10:48:26.497268",
          "2024-12-31T10:49:15.229887",
          "2024-12-31T10:49:15.230119",
          "2024-12-31T10:49:15.230336",
          "2024-12-31T10:49:15.230571",
          "2024-12-31T10:49:15.230834",
          "2024-12-31T10:49:16.765123",
          "2024-12-31T10:49:16.765368",
          "2024-12-31T10:49:16.765669",
          "2024-12-31T10:49:16.765911",
          "2024-12-31T10:49:16.766116",
          "2024-12-31T10:50:05.473367",
          "2024-12-31T10:50:05.473605",
          "2024-12-31T10:50:05.473830",
          "2024-12-31T10:50:05.474029",
          "2024-12-31T10:50:05.474229",
          "2024-12-31T10:50:07.040826",
          "2024-12-31T10:50:07.041130",
          "2024-12-31T10:50:07.041382",
          "2024-12-31T10:50:07.041596",
          "2024-12-31T10:50:07.041796",
          "2024-12-31T10:50:55.742917",
          "2024-12-31T10:50:55.743182",
          "2024-12-31T10:50:55.743403",
          "2024-12-31T10:50:55.743607",
          "2024-12-31T10:50:55.743797",
          "2024-12-31T10:50:57.322499",
          "2024-12-31T10:50:57.322755",
          "2024-12-31T10:50:57.322956",
          "2024-12-31T10:50:57.323148",
          "2024-12-31T10:50:57.323338",
          "2024-12-31T10:51:45.960190",
          "2024-12-31T10:51:45.960406",
          "2024-12-31T10:51:45.960601",
          "2024-12-31T10:51:45.960805",
          "2024-12-31T10:51:45.961004",
          "2024-12-31T10:51:47.565366",
          "2024-12-31T10:51:47.565631",
          "2024-12-31T10:51:47.565843",
          "2024-12-31T10:51:47.566035",
          "2024-12-31T10:51:47.566223"
         ],
         "xaxis": "x",
         "y": [
          1,
          2,
          3,
          4,
          5,
          6,
          7,
          8,
          9,
          10,
          11,
          12,
          13,
          14,
          15,
          16,
          17,
          18,
          19,
          20,
          21,
          22,
          23,
          24,
          25,
          26,
          27,
          28,
          29,
          30,
          31,
          32,
          33,
          34,
          35,
          36,
          37,
          38,
          39,
          40,
          41,
          42,
          43,
          44,
          45,
          46,
          47,
          48,
          49,
          50,
          51,
          52,
          53,
          54,
          55,
          56,
          57,
          58,
          59,
          60,
          61,
          62,
          63,
          64,
          65,
          66,
          67,
          68,
          69,
          70,
          71,
          72,
          73,
          74,
          75,
          76,
          77,
          78,
          79,
          80,
          81,
          82,
          83,
          84,
          85,
          86,
          87,
          88,
          89,
          90,
          91,
          92,
          93,
          94,
          95,
          96,
          97,
          98,
          99,
          100
         ],
         "yaxis": "y"
        }
       ],
       "layout": {
        "hovermode": "closest",
        "legend": {
         "title": {
          "text": "state"
         },
         "tracegroupgap": 0
        },
        "margin": {
         "b": 40,
         "l": 40,
         "r": 40,
         "t": 40
        },
        "template": {
         "data": {
          "bar": [
           {
            "error_x": {
             "color": "#f2f5fa"
            },
            "error_y": {
             "color": "#f2f5fa"
            },
            "marker": {
             "line": {
              "color": "rgb(17,17,17)",
              "width": 0.5
             },
             "pattern": {
              "fillmode": "overlay",
              "size": 10,
              "solidity": 0.2
             }
            },
            "type": "bar"
           }
          ],
          "barpolar": [
           {
            "marker": {
             "line": {
              "color": "rgb(17,17,17)",
              "width": 0.5
             },
             "pattern": {
              "fillmode": "overlay",
              "size": 10,
              "solidity": 0.2
             }
            },
            "type": "barpolar"
           }
          ],
          "carpet": [
           {
            "aaxis": {
             "endlinecolor": "#A2B1C6",
             "gridcolor": "#506784",
             "linecolor": "#506784",
             "minorgridcolor": "#506784",
             "startlinecolor": "#A2B1C6"
            },
            "baxis": {
             "endlinecolor": "#A2B1C6",
             "gridcolor": "#506784",
             "linecolor": "#506784",
             "minorgridcolor": "#506784",
             "startlinecolor": "#A2B1C6"
            },
            "type": "carpet"
           }
          ],
          "choropleth": [
           {
            "colorbar": {
             "outlinewidth": 0,
             "ticks": ""
            },
            "type": "choropleth"
           }
          ],
          "contour": [
           {
            "colorbar": {
             "outlinewidth": 0,
             "ticks": ""
            },
            "colorscale": [
             [
              0,
              "#0d0887"
             ],
             [
              0.1111111111111111,
              "#46039f"
             ],
             [
              0.2222222222222222,
              "#7201a8"
             ],
             [
              0.3333333333333333,
              "#9c179e"
             ],
             [
              0.4444444444444444,
              "#bd3786"
             ],
             [
              0.5555555555555556,
              "#d8576b"
             ],
             [
              0.6666666666666666,
              "#ed7953"
             ],
             [
              0.7777777777777778,
              "#fb9f3a"
             ],
             [
              0.8888888888888888,
              "#fdca26"
             ],
             [
              1,
              "#f0f921"
             ]
            ],
            "type": "contour"
           }
          ],
          "contourcarpet": [
           {
            "colorbar": {
             "outlinewidth": 0,
             "ticks": ""
            },
            "type": "contourcarpet"
           }
          ],
          "heatmap": [
           {
            "colorbar": {
             "outlinewidth": 0,
             "ticks": ""
            },
            "colorscale": [
             [
              0,
              "#0d0887"
             ],
             [
              0.1111111111111111,
              "#46039f"
             ],
             [
              0.2222222222222222,
              "#7201a8"
             ],
             [
              0.3333333333333333,
              "#9c179e"
             ],
             [
              0.4444444444444444,
              "#bd3786"
             ],
             [
              0.5555555555555556,
              "#d8576b"
             ],
             [
              0.6666666666666666,
              "#ed7953"
             ],
             [
              0.7777777777777778,
              "#fb9f3a"
             ],
             [
              0.8888888888888888,
              "#fdca26"
             ],
             [
              1,
              "#f0f921"
             ]
            ],
            "type": "heatmap"
           }
          ],
          "heatmapgl": [
           {
            "colorbar": {
             "outlinewidth": 0,
             "ticks": ""
            },
            "colorscale": [
             [
              0,
              "#0d0887"
             ],
             [
              0.1111111111111111,
              "#46039f"
             ],
             [
              0.2222222222222222,
              "#7201a8"
             ],
             [
              0.3333333333333333,
              "#9c179e"
             ],
             [
              0.4444444444444444,
              "#bd3786"
             ],
             [
              0.5555555555555556,
              "#d8576b"
             ],
             [
              0.6666666666666666,
              "#ed7953"
             ],
             [
              0.7777777777777778,
              "#fb9f3a"
             ],
             [
              0.8888888888888888,
              "#fdca26"
             ],
             [
              1,
              "#f0f921"
             ]
            ],
            "type": "heatmapgl"
           }
          ],
          "histogram": [
           {
            "marker": {
             "pattern": {
              "fillmode": "overlay",
              "size": 10,
              "solidity": 0.2
             }
            },
            "type": "histogram"
           }
          ],
          "histogram2d": [
           {
            "colorbar": {
             "outlinewidth": 0,
             "ticks": ""
            },
            "colorscale": [
             [
              0,
              "#0d0887"
             ],
             [
              0.1111111111111111,
              "#46039f"
             ],
             [
              0.2222222222222222,
              "#7201a8"
             ],
             [
              0.3333333333333333,
              "#9c179e"
             ],
             [
              0.4444444444444444,
              "#bd3786"
             ],
             [
              0.5555555555555556,
              "#d8576b"
             ],
             [
              0.6666666666666666,
              "#ed7953"
             ],
             [
              0.7777777777777778,
              "#fb9f3a"
             ],
             [
              0.8888888888888888,
              "#fdca26"
             ],
             [
              1,
              "#f0f921"
             ]
            ],
            "type": "histogram2d"
           }
          ],
          "histogram2dcontour": [
           {
            "colorbar": {
             "outlinewidth": 0,
             "ticks": ""
            },
            "colorscale": [
             [
              0,
              "#0d0887"
             ],
             [
              0.1111111111111111,
              "#46039f"
             ],
             [
              0.2222222222222222,
              "#7201a8"
             ],
             [
              0.3333333333333333,
              "#9c179e"
             ],
             [
              0.4444444444444444,
              "#bd3786"
             ],
             [
              0.5555555555555556,
              "#d8576b"
             ],
             [
              0.6666666666666666,
              "#ed7953"
             ],
             [
              0.7777777777777778,
              "#fb9f3a"
             ],
             [
              0.8888888888888888,
              "#fdca26"
             ],
             [
              1,
              "#f0f921"
             ]
            ],
            "type": "histogram2dcontour"
           }
          ],
          "mesh3d": [
           {
            "colorbar": {
             "outlinewidth": 0,
             "ticks": ""
            },
            "type": "mesh3d"
           }
          ],
          "parcoords": [
           {
            "line": {
             "colorbar": {
              "outlinewidth": 0,
              "ticks": ""
             }
            },
            "type": "parcoords"
           }
          ],
          "pie": [
           {
            "automargin": true,
            "type": "pie"
           }
          ],
          "scatter": [
           {
            "marker": {
             "line": {
              "color": "#283442"
             }
            },
            "type": "scatter"
           }
          ],
          "scatter3d": [
           {
            "line": {
             "colorbar": {
              "outlinewidth": 0,
              "ticks": ""
             }
            },
            "marker": {
             "colorbar": {
              "outlinewidth": 0,
              "ticks": ""
             }
            },
            "type": "scatter3d"
           }
          ],
          "scattercarpet": [
           {
            "marker": {
             "colorbar": {
              "outlinewidth": 0,
              "ticks": ""
             }
            },
            "type": "scattercarpet"
           }
          ],
          "scattergeo": [
           {
            "marker": {
             "colorbar": {
              "outlinewidth": 0,
              "ticks": ""
             }
            },
            "type": "scattergeo"
           }
          ],
          "scattergl": [
           {
            "marker": {
             "line": {
              "color": "#283442"
             }
            },
            "type": "scattergl"
           }
          ],
          "scattermapbox": [
           {
            "marker": {
             "colorbar": {
              "outlinewidth": 0,
              "ticks": ""
             }
            },
            "type": "scattermapbox"
           }
          ],
          "scatterpolar": [
           {
            "marker": {
             "colorbar": {
              "outlinewidth": 0,
              "ticks": ""
             }
            },
            "type": "scatterpolar"
           }
          ],
          "scatterpolargl": [
           {
            "marker": {
             "colorbar": {
              "outlinewidth": 0,
              "ticks": ""
             }
            },
            "type": "scatterpolargl"
           }
          ],
          "scatterternary": [
           {
            "marker": {
             "colorbar": {
              "outlinewidth": 0,
              "ticks": ""
             }
            },
            "type": "scatterternary"
           }
          ],
          "surface": [
           {
            "colorbar": {
             "outlinewidth": 0,
             "ticks": ""
            },
            "colorscale": [
             [
              0,
              "#0d0887"
             ],
             [
              0.1111111111111111,
              "#46039f"
             ],
             [
              0.2222222222222222,
              "#7201a8"
             ],
             [
              0.3333333333333333,
              "#9c179e"
             ],
             [
              0.4444444444444444,
              "#bd3786"
             ],
             [
              0.5555555555555556,
              "#d8576b"
             ],
             [
              0.6666666666666666,
              "#ed7953"
             ],
             [
              0.7777777777777778,
              "#fb9f3a"
             ],
             [
              0.8888888888888888,
              "#fdca26"
             ],
             [
              1,
              "#f0f921"
             ]
            ],
            "type": "surface"
           }
          ],
          "table": [
           {
            "cells": {
             "fill": {
              "color": "#506784"
             },
             "line": {
              "color": "rgb(17,17,17)"
             }
            },
            "header": {
             "fill": {
              "color": "#2a3f5f"
             },
             "line": {
              "color": "rgb(17,17,17)"
             }
            },
            "type": "table"
           }
          ]
         },
         "layout": {
          "annotationdefaults": {
           "arrowcolor": "#f2f5fa",
           "arrowhead": 0,
           "arrowwidth": 1
          },
          "autotypenumbers": "strict",
          "coloraxis": {
           "colorbar": {
            "outlinewidth": 0,
            "ticks": ""
           }
          },
          "colorscale": {
           "diverging": [
            [
             0,
             "#8e0152"
            ],
            [
             0.1,
             "#c51b7d"
            ],
            [
             0.2,
             "#de77ae"
            ],
            [
             0.3,
             "#f1b6da"
            ],
            [
             0.4,
             "#fde0ef"
            ],
            [
             0.5,
             "#f7f7f7"
            ],
            [
             0.6,
             "#e6f5d0"
            ],
            [
             0.7,
             "#b8e186"
            ],
            [
             0.8,
             "#7fbc41"
            ],
            [
             0.9,
             "#4d9221"
            ],
            [
             1,
             "#276419"
            ]
           ],
           "sequential": [
            [
             0,
             "#0d0887"
            ],
            [
             0.1111111111111111,
             "#46039f"
            ],
            [
             0.2222222222222222,
             "#7201a8"
            ],
            [
             0.3333333333333333,
             "#9c179e"
            ],
            [
             0.4444444444444444,
             "#bd3786"
            ],
            [
             0.5555555555555556,
             "#d8576b"
            ],
            [
             0.6666666666666666,
             "#ed7953"
            ],
            [
             0.7777777777777778,
             "#fb9f3a"
            ],
            [
             0.8888888888888888,
             "#fdca26"
            ],
            [
             1,
             "#f0f921"
            ]
           ],
           "sequentialminus": [
            [
             0,
             "#0d0887"
            ],
            [
             0.1111111111111111,
             "#46039f"
            ],
            [
             0.2222222222222222,
             "#7201a8"
            ],
            [
             0.3333333333333333,
             "#9c179e"
            ],
            [
             0.4444444444444444,
             "#bd3786"
            ],
            [
             0.5555555555555556,
             "#d8576b"
            ],
            [
             0.6666666666666666,
             "#ed7953"
            ],
            [
             0.7777777777777778,
             "#fb9f3a"
            ],
            [
             0.8888888888888888,
             "#fdca26"
            ],
            [
             1,
             "#f0f921"
            ]
           ]
          },
          "colorway": [
           "#636efa",
           "#EF553B",
           "#00cc96",
           "#ab63fa",
           "#FFA15A",
           "#19d3f3",
           "#FF6692",
           "#B6E880",
           "#FF97FF",
           "#FECB52"
          ],
          "font": {
           "color": "#f2f5fa"
          },
          "geo": {
           "bgcolor": "rgb(17,17,17)",
           "lakecolor": "rgb(17,17,17)",
           "landcolor": "rgb(17,17,17)",
           "showlakes": true,
           "showland": true,
           "subunitcolor": "#506784"
          },
          "hoverlabel": {
           "align": "left"
          },
          "hovermode": "closest",
          "mapbox": {
           "style": "dark"
          },
          "paper_bgcolor": "rgb(17,17,17)",
          "plot_bgcolor": "rgb(17,17,17)",
          "polar": {
           "angularaxis": {
            "gridcolor": "#506784",
            "linecolor": "#506784",
            "ticks": ""
           },
           "bgcolor": "rgb(17,17,17)",
           "radialaxis": {
            "gridcolor": "#506784",
            "linecolor": "#506784",
            "ticks": ""
           }
          },
          "scene": {
           "xaxis": {
            "backgroundcolor": "rgb(17,17,17)",
            "gridcolor": "#506784",
            "gridwidth": 2,
            "linecolor": "#506784",
            "showbackground": true,
            "ticks": "",
            "zerolinecolor": "#C8D4E3"
           },
           "yaxis": {
            "backgroundcolor": "rgb(17,17,17)",
            "gridcolor": "#506784",
            "gridwidth": 2,
            "linecolor": "#506784",
            "showbackground": true,
            "ticks": "",
            "zerolinecolor": "#C8D4E3"
           },
           "zaxis": {
            "backgroundcolor": "rgb(17,17,17)",
            "gridcolor": "#506784",
            "gridwidth": 2,
            "linecolor": "#506784",
            "showbackground": true,
            "ticks": "",
            "zerolinecolor": "#C8D4E3"
           }
          },
          "shapedefaults": {
           "line": {
            "color": "#f2f5fa"
           }
          },
          "sliderdefaults": {
           "bgcolor": "#C8D4E3",
           "bordercolor": "rgb(17,17,17)",
           "borderwidth": 1,
           "tickwidth": 0
          },
          "ternary": {
           "aaxis": {
            "gridcolor": "#506784",
            "linecolor": "#506784",
            "ticks": ""
           },
           "baxis": {
            "gridcolor": "#506784",
            "linecolor": "#506784",
            "ticks": ""
           },
           "bgcolor": "rgb(17,17,17)",
           "caxis": {
            "gridcolor": "#506784",
            "linecolor": "#506784",
            "ticks": ""
           }
          },
          "title": {
           "x": 0.05
          },
          "updatemenudefaults": {
           "bgcolor": "#506784",
           "borderwidth": 0
          },
          "xaxis": {
           "automargin": true,
           "gridcolor": "#283442",
           "linecolor": "#506784",
           "ticks": "",
           "title": {
            "standoff": 15
           },
           "zerolinecolor": "#283442",
           "zerolinewidth": 2
          },
          "yaxis": {
           "automargin": true,
           "gridcolor": "#283442",
           "linecolor": "#506784",
           "ticks": "",
           "title": {
            "standoff": 15
           },
           "zerolinecolor": "#283442",
           "zerolinewidth": 2
          }
         }
        },
        "title": {
         "text": "100 tasks 2 workers batch-size => 5 : fast Plot for Message Transitions Over Time"
        },
        "xaxis": {
         "anchor": "y",
         "domain": [
          0,
          1
         ],
         "showgrid": true,
         "title": {
          "text": "Timestamp"
         }
        },
        "yaxis": {
         "anchor": "x",
         "domain": [
          0,
          1
         ],
         "showgrid": true,
         "title": {
          "text": "State"
         }
        }
       }
      }
     },
     "metadata": {},
     "output_type": "display_data"
    },
    {
     "data": {
      "application/vnd.plotly.v1+json": {
       "config": {
        "plotlyServerURL": "https://plot.ly"
       },
       "data": [
        {
         "line": {
          "color": "blue"
         },
         "marker": {
          "color": "blue"
         },
         "mode": "lines+markers",
         "name": "Latency",
         "type": "scatter",
         "x": [
          1,
          2,
          3,
          4,
          5,
          6,
          7,
          8,
          9,
          10,
          11,
          12,
          13,
          14,
          15,
          16,
          17,
          18,
          19,
          20,
          21,
          22,
          23,
          24,
          25,
          26,
          27,
          28,
          29,
          30,
          31,
          32,
          33,
          34,
          35,
          36,
          37,
          38,
          39,
          40,
          41,
          42,
          43,
          44,
          45,
          46,
          47,
          48,
          49,
          50,
          51,
          52,
          53,
          54,
          55,
          56,
          57,
          58,
          59,
          60,
          61,
          62,
          63,
          64,
          65,
          66,
          67,
          68,
          69,
          70,
          71,
          72,
          73,
          74,
          75,
          76,
          77,
          78,
          79,
          80,
          81,
          82,
          83,
          84,
          85,
          86,
          87,
          88,
          89,
          90,
          91,
          92,
          93,
          94,
          95,
          96,
          97,
          98,
          99,
          100
         ],
         "y": [
          52.94051,
          52.876192,
          52.73859,
          52.733286,
          52.711516,
          54.148723,
          54.126813,
          54.025043,
          54.001046,
          53.99118,
          102.832307,
          102.82083,
          102.789416,
          102.760666,
          102.758271,
          104.18507,
          104.155286,
          104.152786,
          104.141856,
          104.119983,
          152.822629,
          152.750372,
          152.721403,
          152.702567,
          152.632485,
          154.060335,
          153.970119,
          153.927809,
          149.353069,
          149.291362,
          197.967904,
          197.927484,
          197.883953,
          197.833319,
          197.813418,
          199.327877,
          199.252122,
          199.205138,
          199.150672,
          199.148984,
          247.808515,
          247.745167,
          247.677688,
          247.611376,
          247.591125,
          249.119657,
          249.07133,
          249.036207,
          248.961249,
          248.920759,
          297.411171,
          297.362772,
          297.320328,
          297.249613,
          297.161293,
          298.577494,
          294.845682,
          294.746937,
          294.5896,
          294.450772,
          343.126269,
          343.063908,
          343.027426,
          343.022656,
          343.007,
          344.471986,
          344.403806,
          344.284464,
          344.207308,
          344.185731,
          392.865018,
          392.733075,
          392.684581,
          392.603307,
          392.533509,
          394.045126,
          394.033962,
          394.026934,
          393.96699,
          393.958619,
          442.452589,
          442.209505,
          442.177581,
          441.955123,
          439.844918,
          441.079033,
          441.018522,
          440.887673,
          440.836389,
          440.83038,
          489.427859,
          489.389378,
          489.313716,
          489.247611,
          489.204404,
          490.787148,
          490.776658,
          490.756923,
          490.625094,
          490.578404
         ]
        }
       ],
       "layout": {
        "legend": {
         "title": {
          "text": "Legend"
         }
        },
        "template": {
         "data": {
          "bar": [
           {
            "error_x": {
             "color": "#f2f5fa"
            },
            "error_y": {
             "color": "#f2f5fa"
            },
            "marker": {
             "line": {
              "color": "rgb(17,17,17)",
              "width": 0.5
             },
             "pattern": {
              "fillmode": "overlay",
              "size": 10,
              "solidity": 0.2
             }
            },
            "type": "bar"
           }
          ],
          "barpolar": [
           {
            "marker": {
             "line": {
              "color": "rgb(17,17,17)",
              "width": 0.5
             },
             "pattern": {
              "fillmode": "overlay",
              "size": 10,
              "solidity": 0.2
             }
            },
            "type": "barpolar"
           }
          ],
          "carpet": [
           {
            "aaxis": {
             "endlinecolor": "#A2B1C6",
             "gridcolor": "#506784",
             "linecolor": "#506784",
             "minorgridcolor": "#506784",
             "startlinecolor": "#A2B1C6"
            },
            "baxis": {
             "endlinecolor": "#A2B1C6",
             "gridcolor": "#506784",
             "linecolor": "#506784",
             "minorgridcolor": "#506784",
             "startlinecolor": "#A2B1C6"
            },
            "type": "carpet"
           }
          ],
          "choropleth": [
           {
            "colorbar": {
             "outlinewidth": 0,
             "ticks": ""
            },
            "type": "choropleth"
           }
          ],
          "contour": [
           {
            "colorbar": {
             "outlinewidth": 0,
             "ticks": ""
            },
            "colorscale": [
             [
              0,
              "#0d0887"
             ],
             [
              0.1111111111111111,
              "#46039f"
             ],
             [
              0.2222222222222222,
              "#7201a8"
             ],
             [
              0.3333333333333333,
              "#9c179e"
             ],
             [
              0.4444444444444444,
              "#bd3786"
             ],
             [
              0.5555555555555556,
              "#d8576b"
             ],
             [
              0.6666666666666666,
              "#ed7953"
             ],
             [
              0.7777777777777778,
              "#fb9f3a"
             ],
             [
              0.8888888888888888,
              "#fdca26"
             ],
             [
              1,
              "#f0f921"
             ]
            ],
            "type": "contour"
           }
          ],
          "contourcarpet": [
           {
            "colorbar": {
             "outlinewidth": 0,
             "ticks": ""
            },
            "type": "contourcarpet"
           }
          ],
          "heatmap": [
           {
            "colorbar": {
             "outlinewidth": 0,
             "ticks": ""
            },
            "colorscale": [
             [
              0,
              "#0d0887"
             ],
             [
              0.1111111111111111,
              "#46039f"
             ],
             [
              0.2222222222222222,
              "#7201a8"
             ],
             [
              0.3333333333333333,
              "#9c179e"
             ],
             [
              0.4444444444444444,
              "#bd3786"
             ],
             [
              0.5555555555555556,
              "#d8576b"
             ],
             [
              0.6666666666666666,
              "#ed7953"
             ],
             [
              0.7777777777777778,
              "#fb9f3a"
             ],
             [
              0.8888888888888888,
              "#fdca26"
             ],
             [
              1,
              "#f0f921"
             ]
            ],
            "type": "heatmap"
           }
          ],
          "heatmapgl": [
           {
            "colorbar": {
             "outlinewidth": 0,
             "ticks": ""
            },
            "colorscale": [
             [
              0,
              "#0d0887"
             ],
             [
              0.1111111111111111,
              "#46039f"
             ],
             [
              0.2222222222222222,
              "#7201a8"
             ],
             [
              0.3333333333333333,
              "#9c179e"
             ],
             [
              0.4444444444444444,
              "#bd3786"
             ],
             [
              0.5555555555555556,
              "#d8576b"
             ],
             [
              0.6666666666666666,
              "#ed7953"
             ],
             [
              0.7777777777777778,
              "#fb9f3a"
             ],
             [
              0.8888888888888888,
              "#fdca26"
             ],
             [
              1,
              "#f0f921"
             ]
            ],
            "type": "heatmapgl"
           }
          ],
          "histogram": [
           {
            "marker": {
             "pattern": {
              "fillmode": "overlay",
              "size": 10,
              "solidity": 0.2
             }
            },
            "type": "histogram"
           }
          ],
          "histogram2d": [
           {
            "colorbar": {
             "outlinewidth": 0,
             "ticks": ""
            },
            "colorscale": [
             [
              0,
              "#0d0887"
             ],
             [
              0.1111111111111111,
              "#46039f"
             ],
             [
              0.2222222222222222,
              "#7201a8"
             ],
             [
              0.3333333333333333,
              "#9c179e"
             ],
             [
              0.4444444444444444,
              "#bd3786"
             ],
             [
              0.5555555555555556,
              "#d8576b"
             ],
             [
              0.6666666666666666,
              "#ed7953"
             ],
             [
              0.7777777777777778,
              "#fb9f3a"
             ],
             [
              0.8888888888888888,
              "#fdca26"
             ],
             [
              1,
              "#f0f921"
             ]
            ],
            "type": "histogram2d"
           }
          ],
          "histogram2dcontour": [
           {
            "colorbar": {
             "outlinewidth": 0,
             "ticks": ""
            },
            "colorscale": [
             [
              0,
              "#0d0887"
             ],
             [
              0.1111111111111111,
              "#46039f"
             ],
             [
              0.2222222222222222,
              "#7201a8"
             ],
             [
              0.3333333333333333,
              "#9c179e"
             ],
             [
              0.4444444444444444,
              "#bd3786"
             ],
             [
              0.5555555555555556,
              "#d8576b"
             ],
             [
              0.6666666666666666,
              "#ed7953"
             ],
             [
              0.7777777777777778,
              "#fb9f3a"
             ],
             [
              0.8888888888888888,
              "#fdca26"
             ],
             [
              1,
              "#f0f921"
             ]
            ],
            "type": "histogram2dcontour"
           }
          ],
          "mesh3d": [
           {
            "colorbar": {
             "outlinewidth": 0,
             "ticks": ""
            },
            "type": "mesh3d"
           }
          ],
          "parcoords": [
           {
            "line": {
             "colorbar": {
              "outlinewidth": 0,
              "ticks": ""
             }
            },
            "type": "parcoords"
           }
          ],
          "pie": [
           {
            "automargin": true,
            "type": "pie"
           }
          ],
          "scatter": [
           {
            "marker": {
             "line": {
              "color": "#283442"
             }
            },
            "type": "scatter"
           }
          ],
          "scatter3d": [
           {
            "line": {
             "colorbar": {
              "outlinewidth": 0,
              "ticks": ""
             }
            },
            "marker": {
             "colorbar": {
              "outlinewidth": 0,
              "ticks": ""
             }
            },
            "type": "scatter3d"
           }
          ],
          "scattercarpet": [
           {
            "marker": {
             "colorbar": {
              "outlinewidth": 0,
              "ticks": ""
             }
            },
            "type": "scattercarpet"
           }
          ],
          "scattergeo": [
           {
            "marker": {
             "colorbar": {
              "outlinewidth": 0,
              "ticks": ""
             }
            },
            "type": "scattergeo"
           }
          ],
          "scattergl": [
           {
            "marker": {
             "line": {
              "color": "#283442"
             }
            },
            "type": "scattergl"
           }
          ],
          "scattermapbox": [
           {
            "marker": {
             "colorbar": {
              "outlinewidth": 0,
              "ticks": ""
             }
            },
            "type": "scattermapbox"
           }
          ],
          "scatterpolar": [
           {
            "marker": {
             "colorbar": {
              "outlinewidth": 0,
              "ticks": ""
             }
            },
            "type": "scatterpolar"
           }
          ],
          "scatterpolargl": [
           {
            "marker": {
             "colorbar": {
              "outlinewidth": 0,
              "ticks": ""
             }
            },
            "type": "scatterpolargl"
           }
          ],
          "scatterternary": [
           {
            "marker": {
             "colorbar": {
              "outlinewidth": 0,
              "ticks": ""
             }
            },
            "type": "scatterternary"
           }
          ],
          "surface": [
           {
            "colorbar": {
             "outlinewidth": 0,
             "ticks": ""
            },
            "colorscale": [
             [
              0,
              "#0d0887"
             ],
             [
              0.1111111111111111,
              "#46039f"
             ],
             [
              0.2222222222222222,
              "#7201a8"
             ],
             [
              0.3333333333333333,
              "#9c179e"
             ],
             [
              0.4444444444444444,
              "#bd3786"
             ],
             [
              0.5555555555555556,
              "#d8576b"
             ],
             [
              0.6666666666666666,
              "#ed7953"
             ],
             [
              0.7777777777777778,
              "#fb9f3a"
             ],
             [
              0.8888888888888888,
              "#fdca26"
             ],
             [
              1,
              "#f0f921"
             ]
            ],
            "type": "surface"
           }
          ],
          "table": [
           {
            "cells": {
             "fill": {
              "color": "#506784"
             },
             "line": {
              "color": "rgb(17,17,17)"
             }
            },
            "header": {
             "fill": {
              "color": "#2a3f5f"
             },
             "line": {
              "color": "rgb(17,17,17)"
             }
            },
            "type": "table"
           }
          ]
         },
         "layout": {
          "annotationdefaults": {
           "arrowcolor": "#f2f5fa",
           "arrowhead": 0,
           "arrowwidth": 1
          },
          "autotypenumbers": "strict",
          "coloraxis": {
           "colorbar": {
            "outlinewidth": 0,
            "ticks": ""
           }
          },
          "colorscale": {
           "diverging": [
            [
             0,
             "#8e0152"
            ],
            [
             0.1,
             "#c51b7d"
            ],
            [
             0.2,
             "#de77ae"
            ],
            [
             0.3,
             "#f1b6da"
            ],
            [
             0.4,
             "#fde0ef"
            ],
            [
             0.5,
             "#f7f7f7"
            ],
            [
             0.6,
             "#e6f5d0"
            ],
            [
             0.7,
             "#b8e186"
            ],
            [
             0.8,
             "#7fbc41"
            ],
            [
             0.9,
             "#4d9221"
            ],
            [
             1,
             "#276419"
            ]
           ],
           "sequential": [
            [
             0,
             "#0d0887"
            ],
            [
             0.1111111111111111,
             "#46039f"
            ],
            [
             0.2222222222222222,
             "#7201a8"
            ],
            [
             0.3333333333333333,
             "#9c179e"
            ],
            [
             0.4444444444444444,
             "#bd3786"
            ],
            [
             0.5555555555555556,
             "#d8576b"
            ],
            [
             0.6666666666666666,
             "#ed7953"
            ],
            [
             0.7777777777777778,
             "#fb9f3a"
            ],
            [
             0.8888888888888888,
             "#fdca26"
            ],
            [
             1,
             "#f0f921"
            ]
           ],
           "sequentialminus": [
            [
             0,
             "#0d0887"
            ],
            [
             0.1111111111111111,
             "#46039f"
            ],
            [
             0.2222222222222222,
             "#7201a8"
            ],
            [
             0.3333333333333333,
             "#9c179e"
            ],
            [
             0.4444444444444444,
             "#bd3786"
            ],
            [
             0.5555555555555556,
             "#d8576b"
            ],
            [
             0.6666666666666666,
             "#ed7953"
            ],
            [
             0.7777777777777778,
             "#fb9f3a"
            ],
            [
             0.8888888888888888,
             "#fdca26"
            ],
            [
             1,
             "#f0f921"
            ]
           ]
          },
          "colorway": [
           "#636efa",
           "#EF553B",
           "#00cc96",
           "#ab63fa",
           "#FFA15A",
           "#19d3f3",
           "#FF6692",
           "#B6E880",
           "#FF97FF",
           "#FECB52"
          ],
          "font": {
           "color": "#f2f5fa"
          },
          "geo": {
           "bgcolor": "rgb(17,17,17)",
           "lakecolor": "rgb(17,17,17)",
           "landcolor": "rgb(17,17,17)",
           "showlakes": true,
           "showland": true,
           "subunitcolor": "#506784"
          },
          "hoverlabel": {
           "align": "left"
          },
          "hovermode": "closest",
          "mapbox": {
           "style": "dark"
          },
          "paper_bgcolor": "rgb(17,17,17)",
          "plot_bgcolor": "rgb(17,17,17)",
          "polar": {
           "angularaxis": {
            "gridcolor": "#506784",
            "linecolor": "#506784",
            "ticks": ""
           },
           "bgcolor": "rgb(17,17,17)",
           "radialaxis": {
            "gridcolor": "#506784",
            "linecolor": "#506784",
            "ticks": ""
           }
          },
          "scene": {
           "xaxis": {
            "backgroundcolor": "rgb(17,17,17)",
            "gridcolor": "#506784",
            "gridwidth": 2,
            "linecolor": "#506784",
            "showbackground": true,
            "ticks": "",
            "zerolinecolor": "#C8D4E3"
           },
           "yaxis": {
            "backgroundcolor": "rgb(17,17,17)",
            "gridcolor": "#506784",
            "gridwidth": 2,
            "linecolor": "#506784",
            "showbackground": true,
            "ticks": "",
            "zerolinecolor": "#C8D4E3"
           },
           "zaxis": {
            "backgroundcolor": "rgb(17,17,17)",
            "gridcolor": "#506784",
            "gridwidth": 2,
            "linecolor": "#506784",
            "showbackground": true,
            "ticks": "",
            "zerolinecolor": "#C8D4E3"
           }
          },
          "shapedefaults": {
           "line": {
            "color": "#f2f5fa"
           }
          },
          "sliderdefaults": {
           "bgcolor": "#C8D4E3",
           "bordercolor": "rgb(17,17,17)",
           "borderwidth": 1,
           "tickwidth": 0
          },
          "ternary": {
           "aaxis": {
            "gridcolor": "#506784",
            "linecolor": "#506784",
            "ticks": ""
           },
           "baxis": {
            "gridcolor": "#506784",
            "linecolor": "#506784",
            "ticks": ""
           },
           "bgcolor": "rgb(17,17,17)",
           "caxis": {
            "gridcolor": "#506784",
            "linecolor": "#506784",
            "ticks": ""
           }
          },
          "title": {
           "x": 0.05
          },
          "updatemenudefaults": {
           "bgcolor": "#506784",
           "borderwidth": 0
          },
          "xaxis": {
           "automargin": true,
           "gridcolor": "#283442",
           "linecolor": "#506784",
           "ticks": "",
           "title": {
            "standoff": 15
           },
           "zerolinecolor": "#283442",
           "zerolinewidth": 2
          },
          "yaxis": {
           "automargin": true,
           "gridcolor": "#283442",
           "linecolor": "#506784",
           "ticks": "",
           "title": {
            "standoff": 15
           },
           "zerolinecolor": "#283442",
           "zerolinewidth": 2
          }
         }
        },
        "title": {
         "text": "100 tasks 2 workers batch-size => 5 : fast  Plot for Latency Trends Over Time"
        },
        "xaxis": {
         "showgrid": true,
         "title": {
          "text": "Message ID"
         }
        },
        "yaxis": {
         "showgrid": true,
         "title": {
          "text": "Latency (seconds)"
         }
        }
       }
      }
     },
     "metadata": {},
     "output_type": "display_data"
    },
    {
     "name": "stdout",
     "output_type": "stream",
     "text": [
      "throughput => timestamp\n",
      "2024-12-31 10:44:10    10\n",
      "2024-12-31 10:44:20     0\n",
      "2024-12-31 10:44:30     0\n",
      "2024-12-31 10:44:40     0\n",
      "2024-12-31 10:44:50     0\n",
      "2024-12-31 10:45:00    10\n",
      "2024-12-31 10:45:10     0\n",
      "2024-12-31 10:45:20     0\n",
      "2024-12-31 10:45:30     0\n",
      "2024-12-31 10:45:40     0\n",
      "2024-12-31 10:45:50    10\n",
      "2024-12-31 10:46:00     0\n",
      "2024-12-31 10:46:10     0\n",
      "2024-12-31 10:46:20     0\n",
      "2024-12-31 10:46:30     0\n",
      "2024-12-31 10:46:40    10\n",
      "2024-12-31 10:46:50     0\n",
      "2024-12-31 10:47:00     0\n",
      "2024-12-31 10:47:10     0\n",
      "2024-12-31 10:47:20     0\n",
      "2024-12-31 10:47:30    10\n",
      "2024-12-31 10:47:40     0\n",
      "2024-12-31 10:47:50     0\n",
      "2024-12-31 10:48:00     0\n",
      "2024-12-31 10:48:10     0\n",
      "2024-12-31 10:48:20    10\n",
      "2024-12-31 10:48:30     0\n",
      "2024-12-31 10:48:40     0\n",
      "2024-12-31 10:48:50     0\n",
      "2024-12-31 10:49:00     0\n",
      "2024-12-31 10:49:10    10\n",
      "2024-12-31 10:49:20     0\n",
      "2024-12-31 10:49:30     0\n",
      "2024-12-31 10:49:40     0\n",
      "2024-12-31 10:49:50     0\n",
      "2024-12-31 10:50:00    10\n",
      "2024-12-31 10:50:10     0\n",
      "2024-12-31 10:50:20     0\n",
      "2024-12-31 10:50:30     0\n",
      "2024-12-31 10:50:40     0\n",
      "2024-12-31 10:50:50    10\n",
      "2024-12-31 10:51:00     0\n",
      "2024-12-31 10:51:10     0\n",
      "2024-12-31 10:51:20     0\n",
      "2024-12-31 10:51:30     0\n",
      "2024-12-31 10:51:40    10\n",
      "Freq: 10S, dtype: int64\n"
     ]
    },
    {
     "data": {
      "application/vnd.plotly.v1+json": {
       "config": {
        "plotlyServerURL": "https://plot.ly"
       },
       "data": [
        {
         "line": {
          "color": "green"
         },
         "marker": {
          "color": "green"
         },
         "mode": "lines+markers",
         "name": "Throughput",
         "type": "scatter",
         "x": [
          "2024-12-31T10:44:10",
          "2024-12-31T10:44:20",
          "2024-12-31T10:44:30",
          "2024-12-31T10:44:40",
          "2024-12-31T10:44:50",
          "2024-12-31T10:45:00",
          "2024-12-31T10:45:10",
          "2024-12-31T10:45:20",
          "2024-12-31T10:45:30",
          "2024-12-31T10:45:40",
          "2024-12-31T10:45:50",
          "2024-12-31T10:46:00",
          "2024-12-31T10:46:10",
          "2024-12-31T10:46:20",
          "2024-12-31T10:46:30",
          "2024-12-31T10:46:40",
          "2024-12-31T10:46:50",
          "2024-12-31T10:47:00",
          "2024-12-31T10:47:10",
          "2024-12-31T10:47:20",
          "2024-12-31T10:47:30",
          "2024-12-31T10:47:40",
          "2024-12-31T10:47:50",
          "2024-12-31T10:48:00",
          "2024-12-31T10:48:10",
          "2024-12-31T10:48:20",
          "2024-12-31T10:48:30",
          "2024-12-31T10:48:40",
          "2024-12-31T10:48:50",
          "2024-12-31T10:49:00",
          "2024-12-31T10:49:10",
          "2024-12-31T10:49:20",
          "2024-12-31T10:49:30",
          "2024-12-31T10:49:40",
          "2024-12-31T10:49:50",
          "2024-12-31T10:50:00",
          "2024-12-31T10:50:10",
          "2024-12-31T10:50:20",
          "2024-12-31T10:50:30",
          "2024-12-31T10:50:40",
          "2024-12-31T10:50:50",
          "2024-12-31T10:51:00",
          "2024-12-31T10:51:10",
          "2024-12-31T10:51:20",
          "2024-12-31T10:51:30",
          "2024-12-31T10:51:40"
         ],
         "y": [
          10,
          0,
          0,
          0,
          0,
          10,
          0,
          0,
          0,
          0,
          10,
          0,
          0,
          0,
          0,
          10,
          0,
          0,
          0,
          0,
          10,
          0,
          0,
          0,
          0,
          10,
          0,
          0,
          0,
          0,
          10,
          0,
          0,
          0,
          0,
          10,
          0,
          0,
          0,
          0,
          10,
          0,
          0,
          0,
          0,
          10
         ]
        }
       ],
       "layout": {
        "legend": {
         "title": {
          "text": "Legend"
         }
        },
        "template": {
         "data": {
          "bar": [
           {
            "error_x": {
             "color": "#f2f5fa"
            },
            "error_y": {
             "color": "#f2f5fa"
            },
            "marker": {
             "line": {
              "color": "rgb(17,17,17)",
              "width": 0.5
             },
             "pattern": {
              "fillmode": "overlay",
              "size": 10,
              "solidity": 0.2
             }
            },
            "type": "bar"
           }
          ],
          "barpolar": [
           {
            "marker": {
             "line": {
              "color": "rgb(17,17,17)",
              "width": 0.5
             },
             "pattern": {
              "fillmode": "overlay",
              "size": 10,
              "solidity": 0.2
             }
            },
            "type": "barpolar"
           }
          ],
          "carpet": [
           {
            "aaxis": {
             "endlinecolor": "#A2B1C6",
             "gridcolor": "#506784",
             "linecolor": "#506784",
             "minorgridcolor": "#506784",
             "startlinecolor": "#A2B1C6"
            },
            "baxis": {
             "endlinecolor": "#A2B1C6",
             "gridcolor": "#506784",
             "linecolor": "#506784",
             "minorgridcolor": "#506784",
             "startlinecolor": "#A2B1C6"
            },
            "type": "carpet"
           }
          ],
          "choropleth": [
           {
            "colorbar": {
             "outlinewidth": 0,
             "ticks": ""
            },
            "type": "choropleth"
           }
          ],
          "contour": [
           {
            "colorbar": {
             "outlinewidth": 0,
             "ticks": ""
            },
            "colorscale": [
             [
              0,
              "#0d0887"
             ],
             [
              0.1111111111111111,
              "#46039f"
             ],
             [
              0.2222222222222222,
              "#7201a8"
             ],
             [
              0.3333333333333333,
              "#9c179e"
             ],
             [
              0.4444444444444444,
              "#bd3786"
             ],
             [
              0.5555555555555556,
              "#d8576b"
             ],
             [
              0.6666666666666666,
              "#ed7953"
             ],
             [
              0.7777777777777778,
              "#fb9f3a"
             ],
             [
              0.8888888888888888,
              "#fdca26"
             ],
             [
              1,
              "#f0f921"
             ]
            ],
            "type": "contour"
           }
          ],
          "contourcarpet": [
           {
            "colorbar": {
             "outlinewidth": 0,
             "ticks": ""
            },
            "type": "contourcarpet"
           }
          ],
          "heatmap": [
           {
            "colorbar": {
             "outlinewidth": 0,
             "ticks": ""
            },
            "colorscale": [
             [
              0,
              "#0d0887"
             ],
             [
              0.1111111111111111,
              "#46039f"
             ],
             [
              0.2222222222222222,
              "#7201a8"
             ],
             [
              0.3333333333333333,
              "#9c179e"
             ],
             [
              0.4444444444444444,
              "#bd3786"
             ],
             [
              0.5555555555555556,
              "#d8576b"
             ],
             [
              0.6666666666666666,
              "#ed7953"
             ],
             [
              0.7777777777777778,
              "#fb9f3a"
             ],
             [
              0.8888888888888888,
              "#fdca26"
             ],
             [
              1,
              "#f0f921"
             ]
            ],
            "type": "heatmap"
           }
          ],
          "heatmapgl": [
           {
            "colorbar": {
             "outlinewidth": 0,
             "ticks": ""
            },
            "colorscale": [
             [
              0,
              "#0d0887"
             ],
             [
              0.1111111111111111,
              "#46039f"
             ],
             [
              0.2222222222222222,
              "#7201a8"
             ],
             [
              0.3333333333333333,
              "#9c179e"
             ],
             [
              0.4444444444444444,
              "#bd3786"
             ],
             [
              0.5555555555555556,
              "#d8576b"
             ],
             [
              0.6666666666666666,
              "#ed7953"
             ],
             [
              0.7777777777777778,
              "#fb9f3a"
             ],
             [
              0.8888888888888888,
              "#fdca26"
             ],
             [
              1,
              "#f0f921"
             ]
            ],
            "type": "heatmapgl"
           }
          ],
          "histogram": [
           {
            "marker": {
             "pattern": {
              "fillmode": "overlay",
              "size": 10,
              "solidity": 0.2
             }
            },
            "type": "histogram"
           }
          ],
          "histogram2d": [
           {
            "colorbar": {
             "outlinewidth": 0,
             "ticks": ""
            },
            "colorscale": [
             [
              0,
              "#0d0887"
             ],
             [
              0.1111111111111111,
              "#46039f"
             ],
             [
              0.2222222222222222,
              "#7201a8"
             ],
             [
              0.3333333333333333,
              "#9c179e"
             ],
             [
              0.4444444444444444,
              "#bd3786"
             ],
             [
              0.5555555555555556,
              "#d8576b"
             ],
             [
              0.6666666666666666,
              "#ed7953"
             ],
             [
              0.7777777777777778,
              "#fb9f3a"
             ],
             [
              0.8888888888888888,
              "#fdca26"
             ],
             [
              1,
              "#f0f921"
             ]
            ],
            "type": "histogram2d"
           }
          ],
          "histogram2dcontour": [
           {
            "colorbar": {
             "outlinewidth": 0,
             "ticks": ""
            },
            "colorscale": [
             [
              0,
              "#0d0887"
             ],
             [
              0.1111111111111111,
              "#46039f"
             ],
             [
              0.2222222222222222,
              "#7201a8"
             ],
             [
              0.3333333333333333,
              "#9c179e"
             ],
             [
              0.4444444444444444,
              "#bd3786"
             ],
             [
              0.5555555555555556,
              "#d8576b"
             ],
             [
              0.6666666666666666,
              "#ed7953"
             ],
             [
              0.7777777777777778,
              "#fb9f3a"
             ],
             [
              0.8888888888888888,
              "#fdca26"
             ],
             [
              1,
              "#f0f921"
             ]
            ],
            "type": "histogram2dcontour"
           }
          ],
          "mesh3d": [
           {
            "colorbar": {
             "outlinewidth": 0,
             "ticks": ""
            },
            "type": "mesh3d"
           }
          ],
          "parcoords": [
           {
            "line": {
             "colorbar": {
              "outlinewidth": 0,
              "ticks": ""
             }
            },
            "type": "parcoords"
           }
          ],
          "pie": [
           {
            "automargin": true,
            "type": "pie"
           }
          ],
          "scatter": [
           {
            "marker": {
             "line": {
              "color": "#283442"
             }
            },
            "type": "scatter"
           }
          ],
          "scatter3d": [
           {
            "line": {
             "colorbar": {
              "outlinewidth": 0,
              "ticks": ""
             }
            },
            "marker": {
             "colorbar": {
              "outlinewidth": 0,
              "ticks": ""
             }
            },
            "type": "scatter3d"
           }
          ],
          "scattercarpet": [
           {
            "marker": {
             "colorbar": {
              "outlinewidth": 0,
              "ticks": ""
             }
            },
            "type": "scattercarpet"
           }
          ],
          "scattergeo": [
           {
            "marker": {
             "colorbar": {
              "outlinewidth": 0,
              "ticks": ""
             }
            },
            "type": "scattergeo"
           }
          ],
          "scattergl": [
           {
            "marker": {
             "line": {
              "color": "#283442"
             }
            },
            "type": "scattergl"
           }
          ],
          "scattermapbox": [
           {
            "marker": {
             "colorbar": {
              "outlinewidth": 0,
              "ticks": ""
             }
            },
            "type": "scattermapbox"
           }
          ],
          "scatterpolar": [
           {
            "marker": {
             "colorbar": {
              "outlinewidth": 0,
              "ticks": ""
             }
            },
            "type": "scatterpolar"
           }
          ],
          "scatterpolargl": [
           {
            "marker": {
             "colorbar": {
              "outlinewidth": 0,
              "ticks": ""
             }
            },
            "type": "scatterpolargl"
           }
          ],
          "scatterternary": [
           {
            "marker": {
             "colorbar": {
              "outlinewidth": 0,
              "ticks": ""
             }
            },
            "type": "scatterternary"
           }
          ],
          "surface": [
           {
            "colorbar": {
             "outlinewidth": 0,
             "ticks": ""
            },
            "colorscale": [
             [
              0,
              "#0d0887"
             ],
             [
              0.1111111111111111,
              "#46039f"
             ],
             [
              0.2222222222222222,
              "#7201a8"
             ],
             [
              0.3333333333333333,
              "#9c179e"
             ],
             [
              0.4444444444444444,
              "#bd3786"
             ],
             [
              0.5555555555555556,
              "#d8576b"
             ],
             [
              0.6666666666666666,
              "#ed7953"
             ],
             [
              0.7777777777777778,
              "#fb9f3a"
             ],
             [
              0.8888888888888888,
              "#fdca26"
             ],
             [
              1,
              "#f0f921"
             ]
            ],
            "type": "surface"
           }
          ],
          "table": [
           {
            "cells": {
             "fill": {
              "color": "#506784"
             },
             "line": {
              "color": "rgb(17,17,17)"
             }
            },
            "header": {
             "fill": {
              "color": "#2a3f5f"
             },
             "line": {
              "color": "rgb(17,17,17)"
             }
            },
            "type": "table"
           }
          ]
         },
         "layout": {
          "annotationdefaults": {
           "arrowcolor": "#f2f5fa",
           "arrowhead": 0,
           "arrowwidth": 1
          },
          "autotypenumbers": "strict",
          "coloraxis": {
           "colorbar": {
            "outlinewidth": 0,
            "ticks": ""
           }
          },
          "colorscale": {
           "diverging": [
            [
             0,
             "#8e0152"
            ],
            [
             0.1,
             "#c51b7d"
            ],
            [
             0.2,
             "#de77ae"
            ],
            [
             0.3,
             "#f1b6da"
            ],
            [
             0.4,
             "#fde0ef"
            ],
            [
             0.5,
             "#f7f7f7"
            ],
            [
             0.6,
             "#e6f5d0"
            ],
            [
             0.7,
             "#b8e186"
            ],
            [
             0.8,
             "#7fbc41"
            ],
            [
             0.9,
             "#4d9221"
            ],
            [
             1,
             "#276419"
            ]
           ],
           "sequential": [
            [
             0,
             "#0d0887"
            ],
            [
             0.1111111111111111,
             "#46039f"
            ],
            [
             0.2222222222222222,
             "#7201a8"
            ],
            [
             0.3333333333333333,
             "#9c179e"
            ],
            [
             0.4444444444444444,
             "#bd3786"
            ],
            [
             0.5555555555555556,
             "#d8576b"
            ],
            [
             0.6666666666666666,
             "#ed7953"
            ],
            [
             0.7777777777777778,
             "#fb9f3a"
            ],
            [
             0.8888888888888888,
             "#fdca26"
            ],
            [
             1,
             "#f0f921"
            ]
           ],
           "sequentialminus": [
            [
             0,
             "#0d0887"
            ],
            [
             0.1111111111111111,
             "#46039f"
            ],
            [
             0.2222222222222222,
             "#7201a8"
            ],
            [
             0.3333333333333333,
             "#9c179e"
            ],
            [
             0.4444444444444444,
             "#bd3786"
            ],
            [
             0.5555555555555556,
             "#d8576b"
            ],
            [
             0.6666666666666666,
             "#ed7953"
            ],
            [
             0.7777777777777778,
             "#fb9f3a"
            ],
            [
             0.8888888888888888,
             "#fdca26"
            ],
            [
             1,
             "#f0f921"
            ]
           ]
          },
          "colorway": [
           "#636efa",
           "#EF553B",
           "#00cc96",
           "#ab63fa",
           "#FFA15A",
           "#19d3f3",
           "#FF6692",
           "#B6E880",
           "#FF97FF",
           "#FECB52"
          ],
          "font": {
           "color": "#f2f5fa"
          },
          "geo": {
           "bgcolor": "rgb(17,17,17)",
           "lakecolor": "rgb(17,17,17)",
           "landcolor": "rgb(17,17,17)",
           "showlakes": true,
           "showland": true,
           "subunitcolor": "#506784"
          },
          "hoverlabel": {
           "align": "left"
          },
          "hovermode": "closest",
          "mapbox": {
           "style": "dark"
          },
          "paper_bgcolor": "rgb(17,17,17)",
          "plot_bgcolor": "rgb(17,17,17)",
          "polar": {
           "angularaxis": {
            "gridcolor": "#506784",
            "linecolor": "#506784",
            "ticks": ""
           },
           "bgcolor": "rgb(17,17,17)",
           "radialaxis": {
            "gridcolor": "#506784",
            "linecolor": "#506784",
            "ticks": ""
           }
          },
          "scene": {
           "xaxis": {
            "backgroundcolor": "rgb(17,17,17)",
            "gridcolor": "#506784",
            "gridwidth": 2,
            "linecolor": "#506784",
            "showbackground": true,
            "ticks": "",
            "zerolinecolor": "#C8D4E3"
           },
           "yaxis": {
            "backgroundcolor": "rgb(17,17,17)",
            "gridcolor": "#506784",
            "gridwidth": 2,
            "linecolor": "#506784",
            "showbackground": true,
            "ticks": "",
            "zerolinecolor": "#C8D4E3"
           },
           "zaxis": {
            "backgroundcolor": "rgb(17,17,17)",
            "gridcolor": "#506784",
            "gridwidth": 2,
            "linecolor": "#506784",
            "showbackground": true,
            "ticks": "",
            "zerolinecolor": "#C8D4E3"
           }
          },
          "shapedefaults": {
           "line": {
            "color": "#f2f5fa"
           }
          },
          "sliderdefaults": {
           "bgcolor": "#C8D4E3",
           "bordercolor": "rgb(17,17,17)",
           "borderwidth": 1,
           "tickwidth": 0
          },
          "ternary": {
           "aaxis": {
            "gridcolor": "#506784",
            "linecolor": "#506784",
            "ticks": ""
           },
           "baxis": {
            "gridcolor": "#506784",
            "linecolor": "#506784",
            "ticks": ""
           },
           "bgcolor": "rgb(17,17,17)",
           "caxis": {
            "gridcolor": "#506784",
            "linecolor": "#506784",
            "ticks": ""
           }
          },
          "title": {
           "x": 0.05
          },
          "updatemenudefaults": {
           "bgcolor": "#506784",
           "borderwidth": 0
          },
          "xaxis": {
           "automargin": true,
           "gridcolor": "#283442",
           "linecolor": "#506784",
           "ticks": "",
           "title": {
            "standoff": 15
           },
           "zerolinecolor": "#283442",
           "zerolinewidth": 2
          },
          "yaxis": {
           "automargin": true,
           "gridcolor": "#283442",
           "linecolor": "#506784",
           "ticks": "",
           "title": {
            "standoff": 15
           },
           "zerolinecolor": "#283442",
           "zerolinewidth": 2
          }
         }
        },
        "title": {
         "text": "100 tasks 2 workers batch-size => 5 : fast  Plot for Throughput Trends Over Time"
        },
        "xaxis": {
         "showgrid": true,
         "title": {
          "text": "Time"
         }
        },
        "yaxis": {
         "showgrid": true,
         "title": {
          "text": "Tasks Completed (Throughput)"
         }
        }
       }
      }
     },
     "metadata": {},
     "output_type": "display_data"
    },
    {
     "data": {
      "application/vnd.plotly.v1+json": {
       "config": {
        "plotlyServerURL": "https://plot.ly"
       },
       "data": [
        {
         "hovertemplate": "state=pending<br>Time=%{x}<br>message_id=%{y}<extra></extra>",
         "legendgroup": "pending",
         "line": {
          "color": "#636efa",
          "dash": "solid"
         },
         "marker": {
          "symbol": "circle"
         },
         "mode": "lines+markers",
         "name": "pending",
         "showlegend": true,
         "type": "scattergl",
         "x": [
          "2024-12-31T11:24:41.606352",
          "2024-12-31T11:24:41.652944",
          "2024-12-31T11:24:41.692515",
          "2024-12-31T11:24:41.705792",
          "2024-12-31T11:24:41.736549",
          "2024-12-31T11:24:41.770639",
          "2024-12-31T11:24:41.794443",
          "2024-12-31T11:24:41.812282",
          "2024-12-31T11:24:41.878225",
          "2024-12-31T11:24:41.982260",
          "2024-12-31T11:24:41.996401",
          "2024-12-31T11:24:42.040991",
          "2024-12-31T11:24:42.092325",
          "2024-12-31T11:24:42.137776",
          "2024-12-31T11:24:42.143575",
          "2024-12-31T11:24:42.198394",
          "2024-12-31T11:24:42.274508",
          "2024-12-31T11:24:42.294880",
          "2024-12-31T11:24:42.320492",
          "2024-12-31T11:24:42.420789",
          "2024-12-31T11:24:42.428100",
          "2024-12-31T11:24:42.467687",
          "2024-12-31T11:24:42.469886",
          "2024-12-31T11:24:42.592976",
          "2024-12-31T11:24:42.636754",
          "2024-12-31T11:24:42.662207",
          "2024-12-31T11:24:42.746441",
          "2024-12-31T11:24:42.812189",
          "2024-12-31T11:24:46.516947",
          "2024-12-31T11:24:47.065940",
          "2024-12-31T11:24:47.133279",
          "2024-12-31T11:24:47.146905",
          "2024-12-31T11:24:47.300821",
          "2024-12-31T11:24:47.306766",
          "2024-12-31T11:24:47.437104",
          "2024-12-31T11:24:47.494970",
          "2024-12-31T11:24:47.534180",
          "2024-12-31T11:24:47.581267",
          "2024-12-31T11:24:47.734061",
          "2024-12-31T11:24:47.737275",
          "2024-12-31T11:24:47.747870",
          "2024-12-31T11:24:47.848520",
          "2024-12-31T11:24:47.911137",
          "2024-12-31T11:24:47.913175",
          "2024-12-31T11:24:47.953977",
          "2024-12-31T11:24:47.959242",
          "2024-12-31T11:24:47.995820",
          "2024-12-31T11:24:47.999745",
          "2024-12-31T11:24:48.024078",
          "2024-12-31T11:24:48.031520",
          "2024-12-31T11:24:48.117964",
          "2024-12-31T11:24:48.261691",
          "2024-12-31T11:24:48.329313",
          "2024-12-31T11:24:48.417696",
          "2024-12-31T11:24:48.535369",
          "2024-12-31T11:24:48.708660",
          "2024-12-31T11:24:51.961841",
          "2024-12-31T11:24:52.403499",
          "2024-12-31T11:24:52.478082",
          "2024-12-31T11:24:52.551238",
          "2024-12-31T11:24:52.637547",
          "2024-12-31T11:24:52.772382",
          "2024-12-31T11:24:52.990851",
          "2024-12-31T11:24:53.019445",
          "2024-12-31T11:24:53.113152",
          "2024-12-31T11:24:53.115563",
          "2024-12-31T11:24:53.194160",
          "2024-12-31T11:24:53.257474",
          "2024-12-31T11:24:53.485920",
          "2024-12-31T11:24:53.554087",
          "2024-12-31T11:24:53.584117",
          "2024-12-31T11:24:53.662571",
          "2024-12-31T11:24:53.672599",
          "2024-12-31T11:24:53.714735",
          "2024-12-31T11:24:53.725778",
          "2024-12-31T11:24:53.835962",
          "2024-12-31T11:24:53.926793",
          "2024-12-31T11:24:53.935998",
          "2024-12-31T11:24:53.957130",
          "2024-12-31T11:24:54.103693",
          "2024-12-31T11:24:54.138065",
          "2024-12-31T11:24:54.148432",
          "2024-12-31T11:24:54.175924",
          "2024-12-31T11:24:54.503196",
          "2024-12-31T11:24:57.468337",
          "2024-12-31T11:24:58.221846",
          "2024-12-31T11:24:58.224602",
          "2024-12-31T11:24:58.318696",
          "2024-12-31T11:24:58.486340",
          "2024-12-31T11:24:58.497999",
          "2024-12-31T11:24:58.572275",
          "2024-12-31T11:24:58.601988",
          "2024-12-31T11:24:58.669628",
          "2024-12-31T11:24:58.761746",
          "2024-12-31T11:24:59.021253",
          "2024-12-31T11:24:59.123789",
          "2024-12-31T11:24:59.187869",
          "2024-12-31T11:24:59.208344",
          "2024-12-31T11:24:59.241948",
          "2024-12-31T11:24:59.302665",
          "2024-12-31T11:24:59.339201",
          "2024-12-31T11:24:59.395498",
          "2024-12-31T11:24:59.497352",
          "2024-12-31T11:24:59.509286",
          "2024-12-31T11:24:59.511263",
          "2024-12-31T11:24:59.553089",
          "2024-12-31T11:24:59.587382",
          "2024-12-31T11:24:59.644772",
          "2024-12-31T11:24:59.747517",
          "2024-12-31T11:24:59.823357",
          "2024-12-31T11:24:59.901342",
          "2024-12-31T11:25:00.067490",
          "2024-12-31T11:25:02.904210",
          "2024-12-31T11:25:03.510261",
          "2024-12-31T11:25:03.796812",
          "2024-12-31T11:25:03.823446",
          "2024-12-31T11:25:04.163099",
          "2024-12-31T11:25:04.289542",
          "2024-12-31T11:25:04.294423",
          "2024-12-31T11:25:04.305306",
          "2024-12-31T11:25:04.420997",
          "2024-12-31T11:25:04.645582",
          "2024-12-31T11:25:04.717280",
          "2024-12-31T11:25:04.807174",
          "2024-12-31T11:25:04.813838",
          "2024-12-31T11:25:04.818050",
          "2024-12-31T11:25:04.895376",
          "2024-12-31T11:25:04.898687",
          "2024-12-31T11:25:04.901232",
          "2024-12-31T11:25:04.952235",
          "2024-12-31T11:25:04.985618",
          "2024-12-31T11:25:04.987987",
          "2024-12-31T11:25:05.026321",
          "2024-12-31T11:25:05.065417",
          "2024-12-31T11:25:05.114763",
          "2024-12-31T11:25:05.197867",
          "2024-12-31T11:25:05.268327",
          "2024-12-31T11:25:05.493372",
          "2024-12-31T11:25:05.499070",
          "2024-12-31T11:25:05.518220",
          "2024-12-31T11:25:08.620091",
          "2024-12-31T11:25:09.089662",
          "2024-12-31T11:25:09.270268",
          "2024-12-31T11:25:09.487543",
          "2024-12-31T11:25:09.691807",
          "2024-12-31T11:25:09.722212",
          "2024-12-31T11:25:09.891549",
          "2024-12-31T11:25:09.954921",
          "2024-12-31T11:25:09.994230",
          "2024-12-31T11:25:10.071137",
          "2024-12-31T11:25:10.133759",
          "2024-12-31T11:25:10.181144",
          "2024-12-31T11:25:10.228446",
          "2024-12-31T11:25:10.370486",
          "2024-12-31T11:25:10.371989",
          "2024-12-31T11:25:10.391740",
          "2024-12-31T11:25:10.430253",
          "2024-12-31T11:25:10.470399",
          "2024-12-31T11:25:10.559734",
          "2024-12-31T11:25:10.589248",
          "2024-12-31T11:25:10.606187",
          "2024-12-31T11:25:10.630254",
          "2024-12-31T11:25:10.671638",
          "2024-12-31T11:25:10.723349",
          "2024-12-31T11:25:10.805050",
          "2024-12-31T11:25:11.022708",
          "2024-12-31T11:25:11.262225",
          "2024-12-31T11:25:11.315725",
          "2024-12-31T11:25:14.522472",
          "2024-12-31T11:25:14.634109",
          "2024-12-31T11:25:14.964117",
          "2024-12-31T11:25:15.140836",
          "2024-12-31T11:25:15.283672",
          "2024-12-31T11:25:15.402812",
          "2024-12-31T11:25:15.462797",
          "2024-12-31T11:25:15.492048",
          "2024-12-31T11:25:15.539662",
          "2024-12-31T11:25:15.610138",
          "2024-12-31T11:25:15.633369",
          "2024-12-31T11:25:15.778891",
          "2024-12-31T11:25:15.788631",
          "2024-12-31T11:25:15.816618",
          "2024-12-31T11:25:15.888423",
          "2024-12-31T11:25:15.937627",
          "2024-12-31T11:25:16.030784",
          "2024-12-31T11:25:16.126259",
          "2024-12-31T11:25:16.297612",
          "2024-12-31T11:25:16.320250",
          "2024-12-31T11:25:16.440537",
          "2024-12-31T11:25:16.471385",
          "2024-12-31T11:25:16.512227",
          "2024-12-31T11:25:16.518124",
          "2024-12-31T11:25:16.525260",
          "2024-12-31T11:25:16.633855",
          "2024-12-31T11:25:16.767113",
          "2024-12-31T11:25:16.941524",
          "2024-12-31T11:25:20.282972",
          "2024-12-31T11:25:20.319061",
          "2024-12-31T11:25:20.335687",
          "2024-12-31T11:25:20.607488",
          "2024-12-31T11:25:20.657274",
          "2024-12-31T11:25:20.693300",
          "2024-12-31T11:25:20.818346",
          "2024-12-31T11:25:20.896300",
          "2024-12-31T11:25:20.901167",
          "2024-12-31T11:25:20.937768",
          "2024-12-31T11:25:20.982942",
          "2024-12-31T11:25:21.077140",
          "2024-12-31T11:25:21.353753",
          "2024-12-31T11:25:21.363097",
          "2024-12-31T11:25:21.421355",
          "2024-12-31T11:25:21.462853",
          "2024-12-31T11:25:21.515195",
          "2024-12-31T11:25:21.565202",
          "2024-12-31T11:25:21.709027",
          "2024-12-31T11:25:21.755436",
          "2024-12-31T11:25:21.800786",
          "2024-12-31T11:25:21.953937",
          "2024-12-31T11:25:22.108904",
          "2024-12-31T11:25:22.161978",
          "2024-12-31T11:25:22.171134",
          "2024-12-31T11:25:22.326721",
          "2024-12-31T11:25:22.603780",
          "2024-12-31T11:25:22.875422",
          "2024-12-31T11:25:25.710689",
          "2024-12-31T11:25:25.787493",
          "2024-12-31T11:25:25.948082",
          "2024-12-31T11:25:25.996925",
          "2024-12-31T11:25:26.179884",
          "2024-12-31T11:25:26.329162",
          "2024-12-31T11:25:26.356548",
          "2024-12-31T11:25:26.412271",
          "2024-12-31T11:25:26.426702",
          "2024-12-31T11:25:26.483776",
          "2024-12-31T11:25:26.524737",
          "2024-12-31T11:25:26.620130",
          "2024-12-31T11:25:26.663416",
          "2024-12-31T11:25:26.842998",
          "2024-12-31T11:25:26.919676",
          "2024-12-31T11:25:26.991759",
          "2024-12-31T11:25:26.994234",
          "2024-12-31T11:25:27.010453",
          "2024-12-31T11:25:27.056818",
          "2024-12-31T11:25:27.105701",
          "2024-12-31T11:25:27.338620",
          "2024-12-31T11:25:27.550217",
          "2024-12-31T11:25:27.559671",
          "2024-12-31T11:25:27.685934",
          "2024-12-31T11:25:27.721593",
          "2024-12-31T11:25:27.843939",
          "2024-12-31T11:25:28.047750",
          "2024-12-31T11:25:28.482319",
          "2024-12-31T11:25:30.768895",
          "2024-12-31T11:25:31.158062",
          "2024-12-31T11:25:31.165388",
          "2024-12-31T11:25:31.212958",
          "2024-12-31T11:25:31.526390",
          "2024-12-31T11:25:31.579621",
          "2024-12-31T11:25:31.779734",
          "2024-12-31T11:25:31.960083",
          "2024-12-31T11:25:32.081578",
          "2024-12-31T11:25:32.092902",
          "2024-12-31T11:25:32.203690",
          "2024-12-31T11:25:32.303712",
          "2024-12-31T11:25:32.332249",
          "2024-12-31T11:25:32.426396",
          "2024-12-31T11:25:32.436704",
          "2024-12-31T11:25:32.484318",
          "2024-12-31T11:25:32.555497",
          "2024-12-31T11:25:32.657621",
          "2024-12-31T11:25:32.736148",
          "2024-12-31T11:25:32.816124",
          "2024-12-31T11:25:32.866911",
          "2024-12-31T11:25:32.874104",
          "2024-12-31T11:25:32.988877",
          "2024-12-31T11:25:33.133434",
          "2024-12-31T11:25:33.259802",
          "2024-12-31T11:25:33.573026",
          "2024-12-31T11:25:33.851661",
          "2024-12-31T11:25:34.116867",
          "2024-12-31T11:25:36.761590",
          "2024-12-31T11:25:36.782051",
          "2024-12-31T11:25:36.935326",
          "2024-12-31T11:25:36.992393",
          "2024-12-31T11:25:37.017637",
          "2024-12-31T11:25:37.105936",
          "2024-12-31T11:25:37.145622",
          "2024-12-31T11:25:37.275463",
          "2024-12-31T11:25:37.363454",
          "2024-12-31T11:25:37.470553",
          "2024-12-31T11:25:37.516056",
          "2024-12-31T11:25:37.599330",
          "2024-12-31T11:25:37.709478",
          "2024-12-31T11:25:37.917455",
          "2024-12-31T11:25:37.959964",
          "2024-12-31T11:25:37.981542",
          "2024-12-31T11:25:38.131891",
          "2024-12-31T11:25:38.153957",
          "2024-12-31T11:25:38.187584",
          "2024-12-31T11:25:38.271913",
          "2024-12-31T11:25:38.351024",
          "2024-12-31T11:25:38.391513",
          "2024-12-31T11:25:38.479744",
          "2024-12-31T11:25:38.551012",
          "2024-12-31T11:25:38.804711",
          "2024-12-31T11:25:39.282491",
          "2024-12-31T11:25:39.388997",
          "2024-12-31T11:25:39.592599",
          "2024-12-31T11:25:42.257439",
          "2024-12-31T11:25:42.449226",
          "2024-12-31T11:25:42.450668",
          "2024-12-31T11:25:42.616264",
          "2024-12-31T11:25:42.646672",
          "2024-12-31T11:25:42.718916",
          "2024-12-31T11:25:42.720966",
          "2024-12-31T11:25:42.970357",
          "2024-12-31T11:25:43.054706",
          "2024-12-31T11:25:43.084239",
          "2024-12-31T11:25:43.113324",
          "2024-12-31T11:25:43.224080",
          "2024-12-31T11:25:43.331432",
          "2024-12-31T11:25:43.403644",
          "2024-12-31T11:25:43.732152",
          "2024-12-31T11:25:43.803762",
          "2024-12-31T11:25:43.890532",
          "2024-12-31T11:25:43.907922",
          "2024-12-31T11:25:43.910751",
          "2024-12-31T11:25:43.913866",
          "2024-12-31T11:25:43.918100",
          "2024-12-31T11:25:44.170229",
          "2024-12-31T11:25:44.185192",
          "2024-12-31T11:25:44.187712",
          "2024-12-31T11:25:44.375017",
          "2024-12-31T11:25:44.837194",
          "2024-12-31T11:25:44.848055",
          "2024-12-31T11:25:44.986231",
          "2024-12-31T11:25:47.701237",
          "2024-12-31T11:25:48.055670",
          "2024-12-31T11:25:48.079296",
          "2024-12-31T11:25:48.198133",
          "2024-12-31T11:25:48.254487",
          "2024-12-31T11:25:48.276882",
          "2024-12-31T11:25:48.435414",
          "2024-12-31T11:25:48.578372",
          "2024-12-31T11:25:48.661502",
          "2024-12-31T11:25:48.681266",
          "2024-12-31T11:25:48.836020",
          "2024-12-31T11:25:48.895894",
          "2024-12-31T11:25:49.159286",
          "2024-12-31T11:25:49.375839",
          "2024-12-31T11:25:49.395603",
          "2024-12-31T11:25:49.411251",
          "2024-12-31T11:25:49.438628",
          "2024-12-31T11:25:49.506496",
          "2024-12-31T11:25:49.582470",
          "2024-12-31T11:25:49.587756",
          "2024-12-31T11:25:49.595365",
          "2024-12-31T11:25:49.853875",
          "2024-12-31T11:25:49.890581",
          "2024-12-31T11:25:49.949638",
          "2024-12-31T11:25:50.028987",
          "2024-12-31T11:25:50.282114",
          "2024-12-31T11:25:50.329986",
          "2024-12-31T11:25:50.652939",
          "2024-12-31T11:25:53.285284",
          "2024-12-31T11:25:53.599395",
          "2024-12-31T11:25:53.730382",
          "2024-12-31T11:25:53.753965",
          "2024-12-31T11:25:53.798745",
          "2024-12-31T11:25:53.870665",
          "2024-12-31T11:25:53.922421",
          "2024-12-31T11:25:54.025301",
          "2024-12-31T11:25:54.207843",
          "2024-12-31T11:25:54.303215",
          "2024-12-31T11:25:54.361344",
          "2024-12-31T11:25:54.569951",
          "2024-12-31T11:25:54.653218",
          "2024-12-31T11:25:54.894164",
          "2024-12-31T11:25:54.941604",
          "2024-12-31T11:25:55.038040",
          "2024-12-31T11:25:55.154970",
          "2024-12-31T11:25:55.198762",
          "2024-12-31T11:25:55.207018",
          "2024-12-31T11:25:55.356620",
          "2024-12-31T11:25:55.486669",
          "2024-12-31T11:25:55.489231",
          "2024-12-31T11:25:55.552113",
          "2024-12-31T11:25:55.553324",
          "2024-12-31T11:25:55.555146",
          "2024-12-31T11:25:56.131883",
          "2024-12-31T11:25:56.133756",
          "2024-12-31T11:25:56.514045",
          "2024-12-31T11:25:58.814259",
          "2024-12-31T11:25:59.259386",
          "2024-12-31T11:25:59.309414",
          "2024-12-31T11:25:59.519643",
          "2024-12-31T11:25:59.534285",
          "2024-12-31T11:25:59.564059",
          "2024-12-31T11:25:59.815412",
          "2024-12-31T11:25:59.992970",
          "2024-12-31T11:26:00.014622",
          "2024-12-31T11:26:00.071376",
          "2024-12-31T11:26:00.126660",
          "2024-12-31T11:26:00.302128",
          "2024-12-31T11:26:00.394312",
          "2024-12-31T11:26:00.706671",
          "2024-12-31T11:26:00.714637",
          "2024-12-31T11:26:00.723599",
          "2024-12-31T11:26:00.797330",
          "2024-12-31T11:26:00.809627",
          "2024-12-31T11:26:00.885614",
          "2024-12-31T11:26:00.994439",
          "2024-12-31T11:26:01.065747",
          "2024-12-31T11:26:01.127576",
          "2024-12-31T11:26:01.170520",
          "2024-12-31T11:26:01.204826",
          "2024-12-31T11:26:01.213437",
          "2024-12-31T11:26:01.707955",
          "2024-12-31T11:26:01.843654",
          "2024-12-31T11:26:02.493232",
          "2024-12-31T11:26:04.184539",
          "2024-12-31T11:26:04.685088",
          "2024-12-31T11:26:04.994427",
          "2024-12-31T11:26:05.043162",
          "2024-12-31T11:26:05.083072",
          "2024-12-31T11:26:05.126656",
          "2024-12-31T11:26:05.213526",
          "2024-12-31T11:26:05.252449",
          "2024-12-31T11:26:05.552680",
          "2024-12-31T11:26:05.557228",
          "2024-12-31T11:26:05.569216",
          "2024-12-31T11:26:05.678590",
          "2024-12-31T11:26:05.819123",
          "2024-12-31T11:26:05.944689",
          "2024-12-31T11:26:06.040057",
          "2024-12-31T11:26:06.131721",
          "2024-12-31T11:26:06.216336",
          "2024-12-31T11:26:06.289248",
          "2024-12-31T11:26:06.290297",
          "2024-12-31T11:26:06.375637",
          "2024-12-31T11:26:06.591411",
          "2024-12-31T11:26:06.596195",
          "2024-12-31T11:26:06.746568",
          "2024-12-31T11:26:06.753286",
          "2024-12-31T11:26:06.964372",
          "2024-12-31T11:26:07.202777",
          "2024-12-31T11:26:07.525422",
          "2024-12-31T11:26:08.244896",
          "2024-12-31T11:26:09.963186",
          "2024-12-31T11:26:10.361212",
          "2024-12-31T11:26:10.399194",
          "2024-12-31T11:26:10.542652",
          "2024-12-31T11:26:10.930007",
          "2024-12-31T11:26:10.939158",
          "2024-12-31T11:26:10.941048",
          "2024-12-31T11:26:11.037826",
          "2024-12-31T11:26:11.252183",
          "2024-12-31T11:26:11.255415",
          "2024-12-31T11:26:11.286257",
          "2024-12-31T11:26:11.396879",
          "2024-12-31T11:26:11.420614",
          "2024-12-31T11:26:11.457626",
          "2024-12-31T11:26:11.555179",
          "2024-12-31T11:26:11.699316",
          "2024-12-31T11:26:11.840326",
          "2024-12-31T11:26:11.851266",
          "2024-12-31T11:26:11.859176",
          "2024-12-31T11:26:11.926721",
          "2024-12-31T11:26:12.309700",
          "2024-12-31T11:26:12.360226",
          "2024-12-31T11:26:12.477383",
          "2024-12-31T11:26:12.607908",
          "2024-12-31T11:26:12.628256",
          "2024-12-31T11:26:12.839593",
          "2024-12-31T11:26:13.381692",
          "2024-12-31T11:26:13.863895",
          "2024-12-31T11:26:15.253157",
          "2024-12-31T11:26:15.442781",
          "2024-12-31T11:26:15.492198",
          "2024-12-31T11:26:15.618049",
          "2024-12-31T11:26:16.014977",
          "2024-12-31T11:26:16.071412",
          "2024-12-31T11:26:16.085767",
          "2024-12-31T11:26:16.091423",
          "2024-12-31T11:26:16.115628",
          "2024-12-31T11:26:16.186457",
          "2024-12-31T11:26:16.189678",
          "2024-12-31T11:26:16.202667",
          "2024-12-31T11:26:16.233143",
          "2024-12-31T11:26:16.277726",
          "2024-12-31T11:26:16.403640",
          "2024-12-31T11:26:16.438807",
          "2024-12-31T11:26:16.577238",
          "2024-12-31T11:26:16.609369",
          "2024-12-31T11:26:16.611176",
          "2024-12-31T11:26:16.632908",
          "2024-12-31T11:26:16.650629",
          "2024-12-31T11:26:16.865286",
          "2024-12-31T11:26:16.884500",
          "2024-12-31T11:26:16.986018"
         ],
         "xaxis": "x",
         "y": [
          1,
          2,
          3,
          4,
          5,
          6,
          7,
          8,
          9,
          10,
          11,
          12,
          13,
          14,
          15,
          16,
          17,
          18,
          19,
          20,
          21,
          22,
          23,
          24,
          25,
          26,
          27,
          28,
          29,
          30,
          31,
          32,
          33,
          34,
          35,
          36,
          37,
          38,
          39,
          40,
          41,
          42,
          43,
          44,
          45,
          46,
          47,
          48,
          49,
          50,
          51,
          52,
          53,
          54,
          55,
          56,
          57,
          58,
          59,
          60,
          61,
          62,
          63,
          64,
          65,
          66,
          67,
          68,
          69,
          70,
          71,
          72,
          73,
          74,
          75,
          76,
          77,
          78,
          79,
          80,
          81,
          82,
          83,
          84,
          85,
          86,
          87,
          88,
          89,
          90,
          91,
          92,
          93,
          94,
          95,
          96,
          97,
          98,
          99,
          100,
          101,
          102,
          103,
          104,
          105,
          106,
          107,
          108,
          109,
          110,
          111,
          112,
          113,
          114,
          115,
          116,
          117,
          118,
          119,
          120,
          121,
          122,
          123,
          124,
          125,
          126,
          127,
          128,
          129,
          130,
          131,
          132,
          133,
          134,
          135,
          136,
          137,
          138,
          139,
          140,
          141,
          142,
          143,
          144,
          145,
          146,
          147,
          148,
          149,
          150,
          151,
          152,
          153,
          154,
          155,
          156,
          157,
          158,
          159,
          160,
          161,
          162,
          163,
          164,
          165,
          166,
          167,
          168,
          169,
          170,
          171,
          172,
          173,
          174,
          175,
          176,
          177,
          178,
          179,
          180,
          181,
          182,
          183,
          184,
          185,
          186,
          187,
          188,
          189,
          190,
          191,
          192,
          193,
          194,
          195,
          196,
          197,
          198,
          199,
          200,
          201,
          202,
          203,
          204,
          205,
          206,
          207,
          208,
          209,
          210,
          211,
          212,
          213,
          214,
          215,
          216,
          217,
          218,
          219,
          220,
          221,
          222,
          223,
          224,
          225,
          226,
          227,
          228,
          229,
          230,
          231,
          232,
          233,
          234,
          235,
          236,
          237,
          238,
          239,
          240,
          241,
          242,
          243,
          244,
          245,
          246,
          247,
          248,
          249,
          250,
          251,
          252,
          253,
          254,
          255,
          256,
          257,
          258,
          259,
          260,
          261,
          262,
          263,
          264,
          265,
          266,
          267,
          268,
          269,
          270,
          271,
          272,
          273,
          274,
          275,
          276,
          277,
          278,
          279,
          280,
          281,
          282,
          283,
          284,
          285,
          286,
          287,
          288,
          289,
          290,
          291,
          292,
          293,
          294,
          295,
          296,
          297,
          298,
          299,
          300,
          301,
          302,
          303,
          304,
          305,
          306,
          307,
          308,
          309,
          310,
          311,
          312,
          313,
          314,
          315,
          316,
          317,
          318,
          319,
          320,
          321,
          322,
          323,
          324,
          325,
          326,
          327,
          328,
          329,
          330,
          331,
          332,
          333,
          334,
          335,
          336,
          337,
          338,
          339,
          340,
          341,
          342,
          343,
          344,
          345,
          346,
          347,
          348,
          349,
          350,
          351,
          352,
          353,
          354,
          355,
          356,
          357,
          358,
          359,
          360,
          361,
          362,
          363,
          364,
          365,
          366,
          367,
          368,
          369,
          370,
          371,
          372,
          373,
          374,
          375,
          376,
          377,
          378,
          379,
          380,
          381,
          382,
          383,
          384,
          385,
          386,
          387,
          388,
          389,
          390,
          391,
          392,
          393,
          394,
          395,
          396,
          397,
          398,
          399,
          400,
          401,
          402,
          403,
          404,
          405,
          406,
          407,
          408,
          409,
          410,
          411,
          412,
          413,
          414,
          415,
          416,
          417,
          418,
          419,
          420,
          421,
          422,
          423,
          424,
          425,
          426,
          427,
          428,
          429,
          430,
          431,
          432,
          433,
          434,
          435,
          436,
          437,
          438,
          439,
          440,
          441,
          442,
          443,
          444,
          445,
          446,
          447,
          448,
          449,
          450,
          451,
          452,
          453,
          454,
          455,
          456,
          457,
          458,
          459,
          460,
          461,
          462,
          463,
          464,
          465,
          466,
          467,
          468,
          469,
          470,
          471,
          472,
          473,
          474,
          475,
          476,
          477,
          478,
          479,
          480,
          481,
          482,
          483,
          484,
          485,
          486,
          487,
          488,
          489,
          490,
          491,
          492,
          493,
          494,
          495,
          496,
          497,
          498,
          499,
          500
         ],
         "yaxis": "y"
        },
        {
         "hovertemplate": "state=active<br>Time=%{x}<br>message_id=%{y}<extra></extra>",
         "legendgroup": "active",
         "line": {
          "color": "#EF553B",
          "dash": "solid"
         },
         "marker": {
          "symbol": "circle"
         },
         "mode": "lines+markers",
         "name": "active",
         "showlegend": true,
         "type": "scattergl",
         "x": [
          "2024-12-31T11:24:45.044609",
          "2024-12-31T11:24:45.044609",
          "2024-12-31T11:24:45.044609",
          "2024-12-31T11:24:45.044609",
          "2024-12-31T11:24:45.044609",
          "2024-12-31T11:24:46.491117",
          "2024-12-31T11:24:46.491117",
          "2024-12-31T11:24:46.491117",
          "2024-12-31T11:24:46.491117",
          "2024-12-31T11:24:46.491117",
          "2024-12-31T11:25:35.260805",
          "2024-12-31T11:25:35.260805",
          "2024-12-31T11:25:35.260805",
          "2024-12-31T11:25:35.260805",
          "2024-12-31T11:25:35.260805",
          "2024-12-31T11:25:36.730825",
          "2024-12-31T11:25:36.730825",
          "2024-12-31T11:25:36.730825",
          "2024-12-31T11:25:36.730825",
          "2024-12-31T11:25:36.730825",
          "2024-12-31T11:26:25.562728",
          "2024-12-31T11:26:25.562728",
          "2024-12-31T11:26:25.562728",
          "2024-12-31T11:26:25.562728",
          "2024-12-31T11:26:25.562728",
          "2024-12-31T11:26:26.998869",
          "2024-12-31T11:26:26.998869",
          "2024-12-31T11:26:26.998869",
          "2024-12-31T11:26:26.998869",
          "2024-12-31T11:26:26.998869",
          "2024-12-31T11:27:15.775391",
          "2024-12-31T11:27:15.775391",
          "2024-12-31T11:27:15.775391",
          "2024-12-31T11:27:15.775391",
          "2024-12-31T11:27:15.775391",
          "2024-12-31T11:27:17.206870",
          "2024-12-31T11:27:17.206870",
          "2024-12-31T11:27:17.206870",
          "2024-12-31T11:27:17.206870",
          "2024-12-31T11:27:17.206870",
          "2024-12-31T11:28:06.005789",
          "2024-12-31T11:28:06.005789",
          "2024-12-31T11:28:06.005789",
          "2024-12-31T11:28:06.005789",
          "2024-12-31T11:28:06.005789",
          "2024-12-31T11:28:07.415324",
          "2024-12-31T11:28:07.415324",
          "2024-12-31T11:28:07.415324",
          "2024-12-31T11:28:07.415324",
          "2024-12-31T11:28:07.415324",
          "2024-12-31T11:28:56.214130",
          "2024-12-31T11:28:56.214130",
          "2024-12-31T11:28:56.214130",
          "2024-12-31T11:28:56.214130",
          "2024-12-31T11:28:56.214130",
          "2024-12-31T11:28:57.644331",
          "2024-12-31T11:28:57.644331",
          "2024-12-31T11:28:57.644331",
          "2024-12-31T11:28:57.644331",
          "2024-12-31T11:28:57.644331",
          "2024-12-31T11:29:46.427680",
          "2024-12-31T11:29:46.427680",
          "2024-12-31T11:29:46.427680",
          "2024-12-31T11:29:46.427680",
          "2024-12-31T11:29:46.427680",
          "2024-12-31T11:29:47.846055",
          "2024-12-31T11:29:47.846055",
          "2024-12-31T11:29:47.846055",
          "2024-12-31T11:29:47.846055",
          "2024-12-31T11:29:47.846055",
          "2024-12-31T11:30:36.691508",
          "2024-12-31T11:30:36.691508",
          "2024-12-31T11:30:36.691508",
          "2024-12-31T11:30:36.691508",
          "2024-12-31T11:30:36.691508",
          "2024-12-31T11:30:38.049607",
          "2024-12-31T11:30:38.049607",
          "2024-12-31T11:30:38.049607",
          "2024-12-31T11:30:38.049607",
          "2024-12-31T11:30:38.049607",
          "2024-12-31T11:31:26.929601",
          "2024-12-31T11:31:26.929601",
          "2024-12-31T11:31:26.929601",
          "2024-12-31T11:31:26.929601",
          "2024-12-31T11:31:26.929601",
          "2024-12-31T11:31:28.275348",
          "2024-12-31T11:31:28.275348",
          "2024-12-31T11:31:28.275348",
          "2024-12-31T11:31:28.275348",
          "2024-12-31T11:31:28.275348",
          "2024-12-31T11:32:17.210619",
          "2024-12-31T11:32:17.210619",
          "2024-12-31T11:32:17.210619",
          "2024-12-31T11:32:17.210619",
          "2024-12-31T11:32:17.210619",
          "2024-12-31T11:32:18.571312",
          "2024-12-31T11:32:18.571312",
          "2024-12-31T11:32:18.571312",
          "2024-12-31T11:32:18.571312",
          "2024-12-31T11:32:18.571312",
          "2024-12-31T11:33:07.427975",
          "2024-12-31T11:33:07.427975",
          "2024-12-31T11:33:07.427975",
          "2024-12-31T11:33:07.427975",
          "2024-12-31T11:33:07.427975",
          "2024-12-31T11:33:08.798970",
          "2024-12-31T11:33:08.798970",
          "2024-12-31T11:33:08.798970",
          "2024-12-31T11:33:08.798970",
          "2024-12-31T11:33:08.798970",
          "2024-12-31T11:33:57.641381",
          "2024-12-31T11:33:57.641381",
          "2024-12-31T11:33:57.641381",
          "2024-12-31T11:33:57.641381",
          "2024-12-31T11:33:57.641381",
          "2024-12-31T11:33:59.010457",
          "2024-12-31T11:33:59.010457",
          "2024-12-31T11:33:59.010457",
          "2024-12-31T11:33:59.010457",
          "2024-12-31T11:33:59.010457",
          "2024-12-31T11:34:47.878194",
          "2024-12-31T11:34:47.878194",
          "2024-12-31T11:34:47.878194",
          "2024-12-31T11:34:47.878194",
          "2024-12-31T11:34:47.878194",
          "2024-12-31T11:34:49.239286",
          "2024-12-31T11:34:49.239286",
          "2024-12-31T11:34:49.239286",
          "2024-12-31T11:34:49.239286",
          "2024-12-31T11:34:49.239286",
          "2024-12-31T11:35:38.150039",
          "2024-12-31T11:35:38.150039",
          "2024-12-31T11:35:38.150039",
          "2024-12-31T11:35:38.150039",
          "2024-12-31T11:35:38.150039",
          "2024-12-31T11:35:39.530485",
          "2024-12-31T11:35:39.530485",
          "2024-12-31T11:35:39.530485",
          "2024-12-31T11:35:39.530485",
          "2024-12-31T11:35:39.530485",
          "2024-12-31T11:36:28.381288",
          "2024-12-31T11:36:28.381288",
          "2024-12-31T11:36:28.381288",
          "2024-12-31T11:36:28.381288",
          "2024-12-31T11:36:28.381288",
          "2024-12-31T11:36:29.746993",
          "2024-12-31T11:36:29.746993",
          "2024-12-31T11:36:29.746993",
          "2024-12-31T11:36:29.746993",
          "2024-12-31T11:36:29.746993",
          "2024-12-31T11:37:18.669033",
          "2024-12-31T11:37:18.669033",
          "2024-12-31T11:37:18.669033",
          "2024-12-31T11:37:18.669033",
          "2024-12-31T11:37:18.669033",
          "2024-12-31T11:37:19.959098",
          "2024-12-31T11:37:19.959098",
          "2024-12-31T11:37:19.959098",
          "2024-12-31T11:37:19.959098",
          "2024-12-31T11:37:19.959098",
          "2024-12-31T11:38:08.956461",
          "2024-12-31T11:38:08.956461",
          "2024-12-31T11:38:08.956461",
          "2024-12-31T11:38:08.956461",
          "2024-12-31T11:38:08.956461",
          "2024-12-31T11:38:10.230497",
          "2024-12-31T11:38:10.230497",
          "2024-12-31T11:38:10.230497",
          "2024-12-31T11:38:10.230497",
          "2024-12-31T11:38:10.230497",
          "2024-12-31T11:38:59.168407",
          "2024-12-31T11:38:59.168407",
          "2024-12-31T11:38:59.168407",
          "2024-12-31T11:38:59.168407",
          "2024-12-31T11:38:59.168407",
          "2024-12-31T11:39:00.515405",
          "2024-12-31T11:39:00.515405",
          "2024-12-31T11:39:00.515405",
          "2024-12-31T11:39:00.515405",
          "2024-12-31T11:39:00.515405",
          "2024-12-31T11:39:49.384568",
          "2024-12-31T11:39:49.384568",
          "2024-12-31T11:39:49.384568",
          "2024-12-31T11:39:49.384568",
          "2024-12-31T11:39:49.384568",
          "2024-12-31T11:39:50.749789",
          "2024-12-31T11:39:50.749789",
          "2024-12-31T11:39:50.749789",
          "2024-12-31T11:39:50.749789",
          "2024-12-31T11:39:50.749789",
          "2024-12-31T11:40:39.624392",
          "2024-12-31T11:40:39.624392",
          "2024-12-31T11:40:39.624392",
          "2024-12-31T11:40:39.624392",
          "2024-12-31T11:40:39.624392",
          "2024-12-31T11:40:40.965451",
          "2024-12-31T11:40:40.965451",
          "2024-12-31T11:40:40.965451",
          "2024-12-31T11:40:40.965451",
          "2024-12-31T11:40:40.965451",
          "2024-12-31T11:41:29.845343",
          "2024-12-31T11:41:29.845343",
          "2024-12-31T11:41:29.845343",
          "2024-12-31T11:41:29.845343",
          "2024-12-31T11:41:29.845343",
          "2024-12-31T11:41:31.179560",
          "2024-12-31T11:41:31.179560",
          "2024-12-31T11:41:31.179560",
          "2024-12-31T11:41:31.179560",
          "2024-12-31T11:41:31.179560",
          "2024-12-31T11:42:20.073468",
          "2024-12-31T11:42:20.073468",
          "2024-12-31T11:42:20.073468",
          "2024-12-31T11:42:20.073468",
          "2024-12-31T11:42:20.073468",
          "2024-12-31T11:42:21.420168",
          "2024-12-31T11:42:21.420168",
          "2024-12-31T11:42:21.420168",
          "2024-12-31T11:42:21.420168",
          "2024-12-31T11:42:21.420168",
          "2024-12-31T11:43:10.317110",
          "2024-12-31T11:43:10.317110",
          "2024-12-31T11:43:10.317110",
          "2024-12-31T11:43:10.317110",
          "2024-12-31T11:43:10.317110",
          "2024-12-31T11:43:11.640979",
          "2024-12-31T11:43:11.640979",
          "2024-12-31T11:43:11.640979",
          "2024-12-31T11:43:11.640979",
          "2024-12-31T11:43:11.640979",
          "2024-12-31T11:44:00.558712",
          "2024-12-31T11:44:00.558712",
          "2024-12-31T11:44:00.558712",
          "2024-12-31T11:44:00.558712",
          "2024-12-31T11:44:00.558712",
          "2024-12-31T11:44:01.857786",
          "2024-12-31T11:44:01.857786",
          "2024-12-31T11:44:01.857786",
          "2024-12-31T11:44:01.857786",
          "2024-12-31T11:44:01.857786",
          "2024-12-31T11:44:50.848897",
          "2024-12-31T11:44:50.848897",
          "2024-12-31T11:44:50.848897",
          "2024-12-31T11:44:50.848897",
          "2024-12-31T11:44:50.848897",
          "2024-12-31T11:44:52.125843",
          "2024-12-31T11:44:52.125843",
          "2024-12-31T11:44:52.125843",
          "2024-12-31T11:44:52.125843",
          "2024-12-31T11:44:52.125843",
          "2024-12-31T11:45:41.067702",
          "2024-12-31T11:45:41.067702",
          "2024-12-31T11:45:41.067702",
          "2024-12-31T11:45:41.067702",
          "2024-12-31T11:45:41.067702",
          "2024-12-31T11:45:42.363492",
          "2024-12-31T11:45:42.363492",
          "2024-12-31T11:45:42.363492",
          "2024-12-31T11:45:42.363492",
          "2024-12-31T11:45:42.363492",
          "2024-12-31T11:46:31.302603",
          "2024-12-31T11:46:31.302603",
          "2024-12-31T11:46:31.302603",
          "2024-12-31T11:46:31.302603",
          "2024-12-31T11:46:31.302603",
          "2024-12-31T11:46:32.581100",
          "2024-12-31T11:46:32.581100",
          "2024-12-31T11:46:32.581100",
          "2024-12-31T11:46:32.581100",
          "2024-12-31T11:46:32.581100",
          "2024-12-31T11:47:21.532225",
          "2024-12-31T11:47:21.532225",
          "2024-12-31T11:47:21.532225",
          "2024-12-31T11:47:21.532225",
          "2024-12-31T11:47:21.532225",
          "2024-12-31T11:47:22.784227",
          "2024-12-31T11:47:22.784227",
          "2024-12-31T11:47:22.784227",
          "2024-12-31T11:47:22.784227",
          "2024-12-31T11:47:22.784227",
          "2024-12-31T11:48:11.820382",
          "2024-12-31T11:48:11.820382",
          "2024-12-31T11:48:11.820382",
          "2024-12-31T11:48:11.820382",
          "2024-12-31T11:48:11.820382",
          "2024-12-31T11:48:13.047876",
          "2024-12-31T11:48:13.047876",
          "2024-12-31T11:48:13.047876",
          "2024-12-31T11:48:13.047876",
          "2024-12-31T11:48:13.047876",
          "2024-12-31T11:49:02.063274",
          "2024-12-31T11:49:02.063274",
          "2024-12-31T11:49:02.063274",
          "2024-12-31T11:49:02.063274",
          "2024-12-31T11:49:02.063274",
          "2024-12-31T11:49:03.272389",
          "2024-12-31T11:49:03.272389",
          "2024-12-31T11:49:03.272389",
          "2024-12-31T11:49:03.272389",
          "2024-12-31T11:49:03.272389",
          "2024-12-31T11:49:52.277336",
          "2024-12-31T11:49:52.277336",
          "2024-12-31T11:49:52.277336",
          "2024-12-31T11:49:52.277336",
          "2024-12-31T11:49:52.277336",
          "2024-12-31T11:49:53.501391",
          "2024-12-31T11:49:53.501391",
          "2024-12-31T11:49:53.501391",
          "2024-12-31T11:49:53.501391",
          "2024-12-31T11:49:53.501391",
          "2024-12-31T11:50:42.582906",
          "2024-12-31T11:50:42.582906",
          "2024-12-31T11:50:42.582906",
          "2024-12-31T11:50:42.582906",
          "2024-12-31T11:50:42.582906",
          "2024-12-31T11:50:43.789445",
          "2024-12-31T11:50:43.789445",
          "2024-12-31T11:50:43.789445",
          "2024-12-31T11:50:43.789445",
          "2024-12-31T11:50:43.789445",
          "2024-12-31T11:51:32.796309",
          "2024-12-31T11:51:32.796309",
          "2024-12-31T11:51:32.796309",
          "2024-12-31T11:51:32.796309",
          "2024-12-31T11:51:32.796309",
          "2024-12-31T11:51:33.999214",
          "2024-12-31T11:51:33.999214",
          "2024-12-31T11:51:33.999214",
          "2024-12-31T11:51:33.999214",
          "2024-12-31T11:51:33.999214",
          "2024-12-31T11:52:23.033927",
          "2024-12-31T11:52:23.033927",
          "2024-12-31T11:52:23.033927",
          "2024-12-31T11:52:23.033927",
          "2024-12-31T11:52:23.033927",
          "2024-12-31T11:52:24.231388",
          "2024-12-31T11:52:24.231388",
          "2024-12-31T11:52:24.231388",
          "2024-12-31T11:52:24.231388",
          "2024-12-31T11:52:24.231388",
          "2024-12-31T11:53:13.260547",
          "2024-12-31T11:53:13.260547",
          "2024-12-31T11:53:13.260547",
          "2024-12-31T11:53:13.260547",
          "2024-12-31T11:53:13.260547",
          "2024-12-31T11:53:14.440636",
          "2024-12-31T11:53:14.440636",
          "2024-12-31T11:53:14.440636",
          "2024-12-31T11:53:14.440636",
          "2024-12-31T11:53:14.440636",
          "2024-12-31T11:54:03.481456",
          "2024-12-31T11:54:03.481456",
          "2024-12-31T11:54:03.481456",
          "2024-12-31T11:54:03.481456",
          "2024-12-31T11:54:03.481456",
          "2024-12-31T11:54:04.654820",
          "2024-12-31T11:54:04.654820",
          "2024-12-31T11:54:04.654820",
          "2024-12-31T11:54:04.654820",
          "2024-12-31T11:54:04.654820",
          "2024-12-31T11:54:53.706527",
          "2024-12-31T11:54:53.706527",
          "2024-12-31T11:54:53.706527",
          "2024-12-31T11:54:53.706527",
          "2024-12-31T11:54:53.706527",
          "2024-12-31T11:54:54.933175",
          "2024-12-31T11:54:54.933175",
          "2024-12-31T11:54:54.933175",
          "2024-12-31T11:54:54.933175",
          "2024-12-31T11:54:54.933175",
          "2024-12-31T11:55:43.952691",
          "2024-12-31T11:55:43.952691",
          "2024-12-31T11:55:43.952691",
          "2024-12-31T11:55:43.952691",
          "2024-12-31T11:55:43.952691",
          "2024-12-31T11:55:45.157485",
          "2024-12-31T11:55:45.157485",
          "2024-12-31T11:55:45.157485",
          "2024-12-31T11:55:45.157485",
          "2024-12-31T11:55:45.157485",
          "2024-12-31T11:56:34.232447",
          "2024-12-31T11:56:34.232447",
          "2024-12-31T11:56:34.232447",
          "2024-12-31T11:56:34.232447",
          "2024-12-31T11:56:34.232447",
          "2024-12-31T11:56:35.424988",
          "2024-12-31T11:56:35.424988",
          "2024-12-31T11:56:35.424988",
          "2024-12-31T11:56:35.424988",
          "2024-12-31T11:56:35.424988",
          "2024-12-31T11:57:24.455262",
          "2024-12-31T11:57:24.455262",
          "2024-12-31T11:57:24.455262",
          "2024-12-31T11:57:24.455262",
          "2024-12-31T11:57:24.455262",
          "2024-12-31T11:57:25.629645",
          "2024-12-31T11:57:25.629645",
          "2024-12-31T11:57:25.629645",
          "2024-12-31T11:57:25.629645",
          "2024-12-31T11:57:25.629645",
          "2024-12-31T11:58:14.675031",
          "2024-12-31T11:58:14.675031",
          "2024-12-31T11:58:14.675031",
          "2024-12-31T11:58:14.675031",
          "2024-12-31T11:58:14.675031",
          "2024-12-31T11:58:15.841470",
          "2024-12-31T11:58:15.841470",
          "2024-12-31T11:58:15.841470",
          "2024-12-31T11:58:15.841470",
          "2024-12-31T11:58:15.841470",
          "2024-12-31T11:59:04.912161",
          "2024-12-31T11:59:04.912161",
          "2024-12-31T11:59:04.912161",
          "2024-12-31T11:59:04.912161",
          "2024-12-31T11:59:04.912161",
          "2024-12-31T11:59:06.105556",
          "2024-12-31T11:59:06.105556",
          "2024-12-31T11:59:06.105556",
          "2024-12-31T11:59:06.105556",
          "2024-12-31T11:59:06.105556",
          "2024-12-31T11:59:55.130940",
          "2024-12-31T11:59:55.130940",
          "2024-12-31T11:59:55.130940",
          "2024-12-31T11:59:55.130940",
          "2024-12-31T11:59:55.130940",
          "2024-12-31T11:59:56.319759",
          "2024-12-31T11:59:56.319759",
          "2024-12-31T11:59:56.319759",
          "2024-12-31T11:59:56.319759",
          "2024-12-31T11:59:56.319759",
          "2024-12-31T12:00:45.417536",
          "2024-12-31T12:00:45.417536",
          "2024-12-31T12:00:45.417536",
          "2024-12-31T12:00:45.417536",
          "2024-12-31T12:00:45.417536",
          "2024-12-31T12:00:46.585556",
          "2024-12-31T12:00:46.585556",
          "2024-12-31T12:00:46.585556",
          "2024-12-31T12:00:46.585556",
          "2024-12-31T12:00:46.585556",
          "2024-12-31T12:01:35.641336",
          "2024-12-31T12:01:35.641336",
          "2024-12-31T12:01:35.641336",
          "2024-12-31T12:01:35.641336",
          "2024-12-31T12:01:35.641336",
          "2024-12-31T12:01:36.786522",
          "2024-12-31T12:01:36.786522",
          "2024-12-31T12:01:36.786522",
          "2024-12-31T12:01:36.786522",
          "2024-12-31T12:01:36.786522",
          "2024-12-31T12:02:25.886562",
          "2024-12-31T12:02:25.886562",
          "2024-12-31T12:02:25.886562",
          "2024-12-31T12:02:25.886562",
          "2024-12-31T12:02:25.886562",
          "2024-12-31T12:02:27.022221",
          "2024-12-31T12:02:27.022221",
          "2024-12-31T12:02:27.022221",
          "2024-12-31T12:02:27.022221",
          "2024-12-31T12:02:27.022221",
          "2024-12-31T12:03:16.162885",
          "2024-12-31T12:03:16.162885",
          "2024-12-31T12:03:16.162885",
          "2024-12-31T12:03:16.162885",
          "2024-12-31T12:03:16.162885",
          "2024-12-31T12:03:17.290012",
          "2024-12-31T12:03:17.290012",
          "2024-12-31T12:03:17.290012",
          "2024-12-31T12:03:17.290012",
          "2024-12-31T12:03:17.290012",
          "2024-12-31T12:04:06.375054",
          "2024-12-31T12:04:06.375054",
          "2024-12-31T12:04:06.375054",
          "2024-12-31T12:04:06.375054",
          "2024-12-31T12:04:06.375054",
          "2024-12-31T12:04:07.502669",
          "2024-12-31T12:04:07.502669",
          "2024-12-31T12:04:07.502669",
          "2024-12-31T12:04:07.502669",
          "2024-12-31T12:04:07.502669",
          "2024-12-31T12:04:56.649101",
          "2024-12-31T12:04:56.649101",
          "2024-12-31T12:04:56.649101",
          "2024-12-31T12:04:56.649101",
          "2024-12-31T12:04:56.649101",
          "2024-12-31T12:04:57.705934",
          "2024-12-31T12:04:57.705934",
          "2024-12-31T12:04:57.705934",
          "2024-12-31T12:04:57.705934",
          "2024-12-31T12:04:57.705934",
          "2024-12-31T12:05:46.881401",
          "2024-12-31T12:05:46.881401",
          "2024-12-31T12:05:46.881401",
          "2024-12-31T12:05:46.881401",
          "2024-12-31T12:05:46.881401",
          "2024-12-31T12:05:47.935774",
          "2024-12-31T12:05:47.935774",
          "2024-12-31T12:05:47.935774",
          "2024-12-31T12:05:47.935774",
          "2024-12-31T12:05:47.935774"
         ],
         "xaxis": "x",
         "y": [
          1,
          2,
          3,
          4,
          5,
          10,
          9,
          6,
          7,
          8,
          11,
          12,
          13,
          14,
          15,
          16,
          17,
          18,
          19,
          20,
          25,
          24,
          22,
          21,
          23,
          29,
          30,
          27,
          26,
          28,
          33,
          34,
          31,
          32,
          35,
          36,
          37,
          38,
          39,
          40,
          41,
          42,
          43,
          44,
          45,
          46,
          47,
          48,
          49,
          50,
          55,
          54,
          51,
          52,
          53,
          60,
          59,
          57,
          58,
          56,
          65,
          63,
          64,
          61,
          62,
          69,
          66,
          67,
          68,
          70,
          71,
          72,
          73,
          74,
          75,
          76,
          77,
          78,
          79,
          80,
          81,
          82,
          83,
          84,
          85,
          90,
          89,
          86,
          87,
          88,
          95,
          94,
          92,
          91,
          93,
          99,
          100,
          97,
          96,
          98,
          103,
          104,
          101,
          102,
          105,
          106,
          107,
          108,
          109,
          110,
          111,
          112,
          113,
          114,
          115,
          116,
          117,
          118,
          119,
          120,
          125,
          124,
          121,
          122,
          123,
          129,
          128,
          130,
          126,
          127,
          135,
          133,
          134,
          131,
          132,
          139,
          136,
          137,
          138,
          140,
          141,
          142,
          143,
          144,
          145,
          146,
          147,
          148,
          149,
          150,
          151,
          152,
          153,
          154,
          155,
          160,
          159,
          156,
          157,
          158,
          165,
          163,
          164,
          161,
          162,
          170,
          168,
          169,
          166,
          167,
          174,
          171,
          172,
          173,
          175,
          176,
          177,
          178,
          179,
          180,
          181,
          182,
          183,
          184,
          185,
          186,
          187,
          188,
          189,
          190,
          195,
          194,
          191,
          192,
          193,
          199,
          198,
          200,
          196,
          197,
          204,
          203,
          205,
          201,
          202,
          206,
          207,
          208,
          209,
          210,
          211,
          212,
          213,
          214,
          215,
          216,
          217,
          218,
          219,
          220,
          225,
          224,
          221,
          222,
          223,
          230,
          228,
          229,
          226,
          227,
          234,
          231,
          232,
          233,
          235,
          236,
          237,
          238,
          239,
          240,
          241,
          242,
          243,
          244,
          245,
          246,
          247,
          248,
          249,
          250,
          255,
          254,
          251,
          252,
          253,
          260,
          259,
          257,
          256,
          258,
          264,
          265,
          262,
          261,
          263,
          268,
          269,
          266,
          267,
          270,
          271,
          272,
          273,
          274,
          275,
          276,
          277,
          278,
          279,
          280,
          281,
          282,
          283,
          284,
          285,
          290,
          289,
          286,
          287,
          288,
          295,
          294,
          292,
          293,
          291,
          300,
          298,
          299,
          296,
          297,
          304,
          301,
          302,
          303,
          305,
          306,
          307,
          308,
          309,
          310,
          311,
          312,
          313,
          314,
          315,
          316,
          317,
          318,
          319,
          320,
          325,
          324,
          321,
          322,
          323,
          330,
          329,
          327,
          326,
          328,
          334,
          335,
          332,
          331,
          333,
          338,
          339,
          336,
          337,
          340,
          341,
          342,
          343,
          344,
          345,
          346,
          347,
          348,
          349,
          350,
          351,
          352,
          353,
          354,
          355,
          360,
          359,
          356,
          357,
          358,
          365,
          364,
          363,
          362,
          361,
          370,
          368,
          369,
          366,
          367,
          374,
          371,
          372,
          373,
          375,
          376,
          377,
          378,
          379,
          380,
          381,
          382,
          383,
          384,
          385,
          386,
          387,
          388,
          389,
          390,
          395,
          394,
          391,
          392,
          393,
          400,
          399,
          398,
          397,
          396,
          404,
          403,
          405,
          401,
          402,
          410,
          406,
          407,
          408,
          409,
          411,
          412,
          413,
          414,
          415,
          416,
          417,
          418,
          419,
          420,
          421,
          422,
          423,
          424,
          425,
          430,
          429,
          426,
          427,
          428,
          434,
          433,
          435,
          431,
          432,
          439,
          438,
          440,
          436,
          437,
          441,
          442,
          443,
          444,
          445,
          446,
          447,
          448,
          449,
          450,
          451,
          452,
          453,
          454,
          455,
          460,
          459,
          456,
          457,
          458,
          465,
          463,
          464,
          461,
          462,
          469,
          466,
          467,
          468,
          470,
          471,
          472,
          473,
          474,
          475,
          476,
          477,
          478,
          479,
          480,
          481,
          482,
          483,
          484,
          485,
          490,
          489,
          486,
          487,
          488,
          495,
          494,
          492,
          491,
          493,
          499,
          500,
          498,
          497,
          496
         ],
         "yaxis": "y"
        },
        {
         "hovertemplate": "state=completed<br>Time=%{x}<br>message_id=%{y}<extra></extra>",
         "legendgroup": "completed",
         "line": {
          "color": "#00cc96",
          "dash": "solid"
         },
         "marker": {
          "symbol": "circle"
         },
         "mode": "lines+markers",
         "name": "completed",
         "showlegend": true,
         "type": "scattergl",
         "x": [
          "2024-12-31T11:25:35.229009",
          "2024-12-31T11:25:35.229247",
          "2024-12-31T11:25:35.229459",
          "2024-12-31T11:25:35.229668",
          "2024-12-31T11:25:35.229866",
          "2024-12-31T11:25:36.698269",
          "2024-12-31T11:25:36.698602",
          "2024-12-31T11:25:36.698840",
          "2024-12-31T11:25:36.699066",
          "2024-12-31T11:25:36.699281",
          "2024-12-31T11:26:25.532605",
          "2024-12-31T11:26:25.532826",
          "2024-12-31T11:26:25.533052",
          "2024-12-31T11:26:25.533260",
          "2024-12-31T11:26:25.533457",
          "2024-12-31T11:26:26.967384",
          "2024-12-31T11:26:26.967783",
          "2024-12-31T11:26:26.968081",
          "2024-12-31T11:26:26.968455",
          "2024-12-31T11:26:26.968823",
          "2024-12-31T11:27:15.745873",
          "2024-12-31T11:27:15.746117",
          "2024-12-31T11:27:15.746324",
          "2024-12-31T11:27:15.746526",
          "2024-12-31T11:27:15.747091",
          "2024-12-31T11:27:17.178815",
          "2024-12-31T11:27:17.179033",
          "2024-12-31T11:27:17.179291",
          "2024-12-31T11:27:17.179502",
          "2024-12-31T11:27:17.179702",
          "2024-12-31T11:28:05.976241",
          "2024-12-31T11:28:05.976477",
          "2024-12-31T11:28:05.976690",
          "2024-12-31T11:28:05.976885",
          "2024-12-31T11:28:05.977077",
          "2024-12-31T11:28:07.383488",
          "2024-12-31T11:28:07.383749",
          "2024-12-31T11:28:07.384188",
          "2024-12-31T11:28:07.384453",
          "2024-12-31T11:28:07.384683",
          "2024-12-31T11:28:56.184621",
          "2024-12-31T11:28:56.184855",
          "2024-12-31T11:28:56.185071",
          "2024-12-31T11:28:56.185266",
          "2024-12-31T11:28:56.185454",
          "2024-12-31T11:28:57.616072",
          "2024-12-31T11:28:57.616304",
          "2024-12-31T11:28:57.616514",
          "2024-12-31T11:28:57.616707",
          "2024-12-31T11:28:57.617020",
          "2024-12-31T11:29:46.394896",
          "2024-12-31T11:29:46.395112",
          "2024-12-31T11:29:46.395307",
          "2024-12-31T11:29:46.395496",
          "2024-12-31T11:29:46.395686",
          "2024-12-31T11:29:47.816673",
          "2024-12-31T11:29:47.816886",
          "2024-12-31T11:29:47.817087",
          "2024-12-31T11:29:47.817281",
          "2024-12-31T11:29:47.817584",
          "2024-12-31T11:30:36.659850",
          "2024-12-31T11:30:36.660082",
          "2024-12-31T11:30:36.660283",
          "2024-12-31T11:30:36.660476",
          "2024-12-31T11:30:36.660684",
          "2024-12-31T11:30:38.019190",
          "2024-12-31T11:30:38.019493",
          "2024-12-31T11:30:38.019725",
          "2024-12-31T11:30:38.019943",
          "2024-12-31T11:30:38.020156",
          "2024-12-31T11:31:26.896891",
          "2024-12-31T11:31:26.897290",
          "2024-12-31T11:31:26.897634",
          "2024-12-31T11:31:26.897843",
          "2024-12-31T11:31:26.898059",
          "2024-12-31T11:31:28.241091",
          "2024-12-31T11:31:28.241325",
          "2024-12-31T11:31:28.241548",
          "2024-12-31T11:31:28.241756",
          "2024-12-31T11:31:28.241962",
          "2024-12-31T11:32:17.180036",
          "2024-12-31T11:32:17.180277",
          "2024-12-31T11:32:17.180485",
          "2024-12-31T11:32:17.180688",
          "2024-12-31T11:32:17.180882",
          "2024-12-31T11:32:18.538076",
          "2024-12-31T11:32:18.538348",
          "2024-12-31T11:32:18.538571",
          "2024-12-31T11:32:18.538792",
          "2024-12-31T11:32:18.539021",
          "2024-12-31T11:33:07.396935",
          "2024-12-31T11:33:07.397206",
          "2024-12-31T11:33:07.397421",
          "2024-12-31T11:33:07.397631",
          "2024-12-31T11:33:07.397833",
          "2024-12-31T11:33:08.748195",
          "2024-12-31T11:33:08.748455",
          "2024-12-31T11:33:08.748678",
          "2024-12-31T11:33:08.748891",
          "2024-12-31T11:33:08.749117",
          "2024-12-31T11:33:57.609864",
          "2024-12-31T11:33:57.610106",
          "2024-12-31T11:33:57.610319",
          "2024-12-31T11:33:57.610531",
          "2024-12-31T11:33:57.610736",
          "2024-12-31T11:33:58.979470",
          "2024-12-31T11:33:58.979734",
          "2024-12-31T11:33:58.979954",
          "2024-12-31T11:33:58.980181",
          "2024-12-31T11:33:58.980403",
          "2024-12-31T11:34:47.845299",
          "2024-12-31T11:34:47.845549",
          "2024-12-31T11:34:47.845751",
          "2024-12-31T11:34:47.845949",
          "2024-12-31T11:34:47.846143",
          "2024-12-31T11:34:49.204456",
          "2024-12-31T11:34:49.204743",
          "2024-12-31T11:34:49.204958",
          "2024-12-31T11:34:49.205160",
          "2024-12-31T11:34:49.205355",
          "2024-12-31T11:35:38.115313",
          "2024-12-31T11:35:38.115556",
          "2024-12-31T11:35:38.115768",
          "2024-12-31T11:35:38.115990",
          "2024-12-31T11:35:38.116214",
          "2024-12-31T11:35:39.499400",
          "2024-12-31T11:35:39.500075",
          "2024-12-31T11:35:39.500487",
          "2024-12-31T11:35:39.500821",
          "2024-12-31T11:35:39.501071",
          "2024-12-31T11:36:28.349275",
          "2024-12-31T11:36:28.349493",
          "2024-12-31T11:36:28.349690",
          "2024-12-31T11:36:28.349885",
          "2024-12-31T11:36:28.350087",
          "2024-12-31T11:36:29.712831",
          "2024-12-31T11:36:29.713122",
          "2024-12-31T11:36:29.713440",
          "2024-12-31T11:36:29.713803",
          "2024-12-31T11:36:29.714026",
          "2024-12-31T11:37:18.610023",
          "2024-12-31T11:37:18.610324",
          "2024-12-31T11:37:18.610567",
          "2024-12-31T11:37:18.611200",
          "2024-12-31T11:37:18.611689",
          "2024-12-31T11:37:19.928374",
          "2024-12-31T11:37:19.928758",
          "2024-12-31T11:37:19.928973",
          "2024-12-31T11:37:19.929360",
          "2024-12-31T11:37:19.929583",
          "2024-12-31T11:38:08.921720",
          "2024-12-31T11:38:08.921964",
          "2024-12-31T11:38:08.922182",
          "2024-12-31T11:38:08.922380",
          "2024-12-31T11:38:08.922576",
          "2024-12-31T11:38:10.199190",
          "2024-12-31T11:38:10.199423",
          "2024-12-31T11:38:10.199624",
          "2024-12-31T11:38:10.199837",
          "2024-12-31T11:38:10.200035",
          "2024-12-31T11:38:59.138738",
          "2024-12-31T11:38:59.138975",
          "2024-12-31T11:38:59.139179",
          "2024-12-31T11:38:59.139372",
          "2024-12-31T11:38:59.139562",
          "2024-12-31T11:39:00.466475",
          "2024-12-31T11:39:00.466723",
          "2024-12-31T11:39:00.466941",
          "2024-12-31T11:39:00.467150",
          "2024-12-31T11:39:00.467353",
          "2024-12-31T11:39:49.351283",
          "2024-12-31T11:39:49.351514",
          "2024-12-31T11:39:49.351747",
          "2024-12-31T11:39:49.351948",
          "2024-12-31T11:39:49.352150",
          "2024-12-31T11:39:50.716712",
          "2024-12-31T11:39:50.716953",
          "2024-12-31T11:39:50.717156",
          "2024-12-31T11:39:50.717354",
          "2024-12-31T11:39:50.717552",
          "2024-12-31T11:40:39.590952",
          "2024-12-31T11:40:39.591219",
          "2024-12-31T11:40:39.591671",
          "2024-12-31T11:40:39.591919",
          "2024-12-31T11:40:39.592144",
          "2024-12-31T11:40:40.936283",
          "2024-12-31T11:40:40.936614",
          "2024-12-31T11:40:40.936830",
          "2024-12-31T11:40:40.937029",
          "2024-12-31T11:40:40.937220",
          "2024-12-31T11:41:29.814155",
          "2024-12-31T11:41:29.814385",
          "2024-12-31T11:41:29.814584",
          "2024-12-31T11:41:29.814802",
          "2024-12-31T11:41:29.815005",
          "2024-12-31T11:41:31.149730",
          "2024-12-31T11:41:31.149983",
          "2024-12-31T11:41:31.150233",
          "2024-12-31T11:41:31.150448",
          "2024-12-31T11:41:31.150651",
          "2024-12-31T11:42:20.037916",
          "2024-12-31T11:42:20.038184",
          "2024-12-31T11:42:20.038405",
          "2024-12-31T11:42:20.038615",
          "2024-12-31T11:42:20.038820",
          "2024-12-31T11:42:21.389776",
          "2024-12-31T11:42:21.390123",
          "2024-12-31T11:42:21.390633",
          "2024-12-31T11:42:21.390865",
          "2024-12-31T11:42:21.391279",
          "2024-12-31T11:43:10.282192",
          "2024-12-31T11:43:10.282484",
          "2024-12-31T11:43:10.282780",
          "2024-12-31T11:43:10.283007",
          "2024-12-31T11:43:10.283214",
          "2024-12-31T11:43:11.605174",
          "2024-12-31T11:43:11.605495",
          "2024-12-31T11:43:11.605717",
          "2024-12-31T11:43:11.606314",
          "2024-12-31T11:43:11.606621",
          "2024-12-31T11:44:00.526505",
          "2024-12-31T11:44:00.526736",
          "2024-12-31T11:44:00.526957",
          "2024-12-31T11:44:00.527223",
          "2024-12-31T11:44:00.527492",
          "2024-12-31T11:44:01.823554",
          "2024-12-31T11:44:01.823868",
          "2024-12-31T11:44:01.824228",
          "2024-12-31T11:44:01.824485",
          "2024-12-31T11:44:01.824731",
          "2024-12-31T11:44:50.815416",
          "2024-12-31T11:44:50.815653",
          "2024-12-31T11:44:50.815847",
          "2024-12-31T11:44:50.816149",
          "2024-12-31T11:44:50.816768",
          "2024-12-31T11:44:52.095027",
          "2024-12-31T11:44:52.095332",
          "2024-12-31T11:44:52.095583",
          "2024-12-31T11:44:52.095782",
          "2024-12-31T11:44:52.095975",
          "2024-12-31T11:45:41.034185",
          "2024-12-31T11:45:41.034416",
          "2024-12-31T11:45:41.034616",
          "2024-12-31T11:45:41.034807",
          "2024-12-31T11:45:41.035058",
          "2024-12-31T11:45:42.332454",
          "2024-12-31T11:45:42.332668",
          "2024-12-31T11:45:42.332877",
          "2024-12-31T11:45:42.333081",
          "2024-12-31T11:45:42.333272",
          "2024-12-31T11:46:31.268479",
          "2024-12-31T11:46:31.268716",
          "2024-12-31T11:46:31.268934",
          "2024-12-31T11:46:31.269149",
          "2024-12-31T11:46:31.269352",
          "2024-12-31T11:46:32.551364",
          "2024-12-31T11:46:32.551586",
          "2024-12-31T11:46:32.551813",
          "2024-12-31T11:46:32.552038",
          "2024-12-31T11:46:32.552238",
          "2024-12-31T11:47:21.499930",
          "2024-12-31T11:47:21.500187",
          "2024-12-31T11:47:21.500419",
          "2024-12-31T11:47:21.500636",
          "2024-12-31T11:47:21.500917",
          "2024-12-31T11:47:22.753060",
          "2024-12-31T11:47:22.753284",
          "2024-12-31T11:47:22.753491",
          "2024-12-31T11:47:22.753890",
          "2024-12-31T11:47:22.754100",
          "2024-12-31T11:48:11.787564",
          "2024-12-31T11:48:11.787784",
          "2024-12-31T11:48:11.787992",
          "2024-12-31T11:48:11.788184",
          "2024-12-31T11:48:11.788382",
          "2024-12-31T11:48:13.016674",
          "2024-12-31T11:48:13.016894",
          "2024-12-31T11:48:13.017099",
          "2024-12-31T11:48:13.017292",
          "2024-12-31T11:48:13.017654",
          "2024-12-31T11:49:02.017861",
          "2024-12-31T11:49:02.018088",
          "2024-12-31T11:49:02.018318",
          "2024-12-31T11:49:02.018519",
          "2024-12-31T11:49:02.018714",
          "2024-12-31T11:49:03.240777",
          "2024-12-31T11:49:03.241009",
          "2024-12-31T11:49:03.241219",
          "2024-12-31T11:49:03.241622",
          "2024-12-31T11:49:03.241836",
          "2024-12-31T11:49:52.247429",
          "2024-12-31T11:49:52.247755",
          "2024-12-31T11:49:52.248159",
          "2024-12-31T11:49:52.248562",
          "2024-12-31T11:49:52.248879",
          "2024-12-31T11:49:53.471659",
          "2024-12-31T11:49:53.472019",
          "2024-12-31T11:49:53.472246",
          "2024-12-31T11:49:53.472442",
          "2024-12-31T11:49:53.472631",
          "2024-12-31T11:50:42.550633",
          "2024-12-31T11:50:42.550911",
          "2024-12-31T11:50:42.551216",
          "2024-12-31T11:50:42.551432",
          "2024-12-31T11:50:42.551641",
          "2024-12-31T11:50:43.758723",
          "2024-12-31T11:50:43.758976",
          "2024-12-31T11:50:43.759183",
          "2024-12-31T11:50:43.759387",
          "2024-12-31T11:50:43.759931",
          "2024-12-31T11:51:32.764112",
          "2024-12-31T11:51:32.764334",
          "2024-12-31T11:51:32.764535",
          "2024-12-31T11:51:32.764726",
          "2024-12-31T11:51:32.764921",
          "2024-12-31T11:51:33.968653",
          "2024-12-31T11:51:33.969261",
          "2024-12-31T11:51:33.969475",
          "2024-12-31T11:51:33.969784",
          "2024-12-31T11:51:33.970000",
          "2024-12-31T11:52:23.000136",
          "2024-12-31T11:52:23.000376",
          "2024-12-31T11:52:23.000608",
          "2024-12-31T11:52:23.000822",
          "2024-12-31T11:52:23.001018",
          "2024-12-31T11:52:24.201542",
          "2024-12-31T11:52:24.201837",
          "2024-12-31T11:52:24.202057",
          "2024-12-31T11:52:24.202250",
          "2024-12-31T11:52:24.202441",
          "2024-12-31T11:53:13.231026",
          "2024-12-31T11:53:13.231420",
          "2024-12-31T11:53:13.231635",
          "2024-12-31T11:53:13.231857",
          "2024-12-31T11:53:13.232080",
          "2024-12-31T11:53:14.410662",
          "2024-12-31T11:53:14.410892",
          "2024-12-31T11:53:14.411107",
          "2024-12-31T11:53:14.411321",
          "2024-12-31T11:53:14.411555",
          "2024-12-31T11:54:03.447555",
          "2024-12-31T11:54:03.447791",
          "2024-12-31T11:54:03.447989",
          "2024-12-31T11:54:03.448181",
          "2024-12-31T11:54:03.448481",
          "2024-12-31T11:54:04.624163",
          "2024-12-31T11:54:04.624398",
          "2024-12-31T11:54:04.624621",
          "2024-12-31T11:54:04.624823",
          "2024-12-31T11:54:04.625021",
          "2024-12-31T11:54:53.673824",
          "2024-12-31T11:54:53.674062",
          "2024-12-31T11:54:53.674272",
          "2024-12-31T11:54:53.674470",
          "2024-12-31T11:54:53.674681",
          "2024-12-31T11:54:54.875560",
          "2024-12-31T11:54:54.875779",
          "2024-12-31T11:54:54.875975",
          "2024-12-31T11:54:54.876178",
          "2024-12-31T11:54:54.876370",
          "2024-12-31T11:55:43.919980",
          "2024-12-31T11:55:43.920812",
          "2024-12-31T11:55:43.921070",
          "2024-12-31T11:55:43.921510",
          "2024-12-31T11:55:43.921742",
          "2024-12-31T11:55:45.125660",
          "2024-12-31T11:55:45.125925",
          "2024-12-31T11:55:45.126362",
          "2024-12-31T11:55:45.126606",
          "2024-12-31T11:55:45.126803",
          "2024-12-31T11:56:34.201690",
          "2024-12-31T11:56:34.201938",
          "2024-12-31T11:56:34.202166",
          "2024-12-31T11:56:34.202376",
          "2024-12-31T11:56:34.202582",
          "2024-12-31T11:56:35.394843",
          "2024-12-31T11:56:35.395058",
          "2024-12-31T11:56:35.395254",
          "2024-12-31T11:56:35.395459",
          "2024-12-31T11:56:35.395649",
          "2024-12-31T11:57:24.423397",
          "2024-12-31T11:57:24.423626",
          "2024-12-31T11:57:24.423837",
          "2024-12-31T11:57:24.424042",
          "2024-12-31T11:57:24.424242",
          "2024-12-31T11:57:25.598673",
          "2024-12-31T11:57:25.598932",
          "2024-12-31T11:57:25.599161",
          "2024-12-31T11:57:25.599366",
          "2024-12-31T11:57:25.599560",
          "2024-12-31T11:58:14.644686",
          "2024-12-31T11:58:14.644903",
          "2024-12-31T11:58:14.645117",
          "2024-12-31T11:58:14.645310",
          "2024-12-31T11:58:14.645497",
          "2024-12-31T11:58:15.809321",
          "2024-12-31T11:58:15.809551",
          "2024-12-31T11:58:15.809759",
          "2024-12-31T11:58:15.809959",
          "2024-12-31T11:58:15.810154",
          "2024-12-31T11:59:04.881716",
          "2024-12-31T11:59:04.881935",
          "2024-12-31T11:59:04.882317",
          "2024-12-31T11:59:04.882583",
          "2024-12-31T11:59:04.883217",
          "2024-12-31T11:59:06.055588",
          "2024-12-31T11:59:06.055819",
          "2024-12-31T11:59:06.056027",
          "2024-12-31T11:59:06.056241",
          "2024-12-31T11:59:06.056438",
          "2024-12-31T11:59:55.099025",
          "2024-12-31T11:59:55.099296",
          "2024-12-31T11:59:55.099612",
          "2024-12-31T11:59:55.099874",
          "2024-12-31T11:59:55.100077",
          "2024-12-31T11:59:56.287730",
          "2024-12-31T11:59:56.287960",
          "2024-12-31T11:59:56.288163",
          "2024-12-31T11:59:56.288365",
          "2024-12-31T11:59:56.288576",
          "2024-12-31T12:00:45.384593",
          "2024-12-31T12:00:45.384856",
          "2024-12-31T12:00:45.385067",
          "2024-12-31T12:00:45.385287",
          "2024-12-31T12:00:45.385494",
          "2024-12-31T12:00:46.553002",
          "2024-12-31T12:00:46.553417",
          "2024-12-31T12:00:46.553628",
          "2024-12-31T12:00:46.553853",
          "2024-12-31T12:00:46.554059",
          "2024-12-31T12:01:35.608155",
          "2024-12-31T12:01:35.608420",
          "2024-12-31T12:01:35.608626",
          "2024-12-31T12:01:35.608825",
          "2024-12-31T12:01:35.609024",
          "2024-12-31T12:01:36.758037",
          "2024-12-31T12:01:36.758332",
          "2024-12-31T12:01:36.758539",
          "2024-12-31T12:01:36.758741",
          "2024-12-31T12:01:36.758940",
          "2024-12-31T12:02:25.850271",
          "2024-12-31T12:02:25.850488",
          "2024-12-31T12:02:25.850687",
          "2024-12-31T12:02:25.850884",
          "2024-12-31T12:02:25.851112",
          "2024-12-31T12:02:26.990807",
          "2024-12-31T12:02:26.991055",
          "2024-12-31T12:02:26.991262",
          "2024-12-31T12:02:26.991453",
          "2024-12-31T12:02:26.991643",
          "2024-12-31T12:03:16.130928",
          "2024-12-31T12:03:16.131160",
          "2024-12-31T12:03:16.131399",
          "2024-12-31T12:03:16.131609",
          "2024-12-31T12:03:16.131818",
          "2024-12-31T12:03:17.260037",
          "2024-12-31T12:03:17.260495",
          "2024-12-31T12:03:17.261155",
          "2024-12-31T12:03:17.261560",
          "2024-12-31T12:03:17.261878",
          "2024-12-31T12:04:06.345025",
          "2024-12-31T12:04:06.345449",
          "2024-12-31T12:04:06.345722",
          "2024-12-31T12:04:06.345995",
          "2024-12-31T12:04:06.346246",
          "2024-12-31T12:04:07.472219",
          "2024-12-31T12:04:07.472464",
          "2024-12-31T12:04:07.472690",
          "2024-12-31T12:04:07.472949",
          "2024-12-31T12:04:07.473409",
          "2024-12-31T12:04:56.600654",
          "2024-12-31T12:04:56.600998",
          "2024-12-31T12:04:56.601280",
          "2024-12-31T12:04:56.601481",
          "2024-12-31T12:04:56.601671",
          "2024-12-31T12:04:57.675044",
          "2024-12-31T12:04:57.675404",
          "2024-12-31T12:04:57.675640",
          "2024-12-31T12:04:57.675846",
          "2024-12-31T12:04:57.676047",
          "2024-12-31T12:05:46.850176",
          "2024-12-31T12:05:46.850445",
          "2024-12-31T12:05:46.850669",
          "2024-12-31T12:05:46.850886",
          "2024-12-31T12:05:46.851100",
          "2024-12-31T12:05:47.904152",
          "2024-12-31T12:05:47.904378",
          "2024-12-31T12:05:47.904596",
          "2024-12-31T12:05:47.904809",
          "2024-12-31T12:05:47.905029",
          "2024-12-31T12:06:38.156633",
          "2024-12-31T12:06:38.156860",
          "2024-12-31T12:06:38.157071",
          "2024-12-31T12:06:38.157284",
          "2024-12-31T12:06:38.157489",
          "2024-12-31T12:06:38.890797",
          "2024-12-31T12:06:38.891074",
          "2024-12-31T12:06:38.891471",
          "2024-12-31T12:06:38.891895",
          "2024-12-31T12:06:38.892213"
         ],
         "xaxis": "x",
         "y": [
          1,
          2,
          3,
          4,
          5,
          6,
          7,
          8,
          9,
          10,
          11,
          12,
          13,
          14,
          15,
          16,
          17,
          18,
          19,
          20,
          21,
          22,
          23,
          24,
          25,
          26,
          27,
          28,
          29,
          30,
          31,
          32,
          33,
          34,
          35,
          36,
          37,
          38,
          39,
          40,
          41,
          42,
          43,
          44,
          45,
          46,
          47,
          48,
          49,
          50,
          51,
          52,
          53,
          54,
          55,
          56,
          57,
          58,
          59,
          60,
          61,
          62,
          63,
          64,
          65,
          66,
          67,
          68,
          69,
          70,
          71,
          72,
          73,
          74,
          75,
          76,
          77,
          78,
          79,
          80,
          81,
          82,
          83,
          84,
          85,
          86,
          87,
          88,
          89,
          90,
          91,
          92,
          93,
          94,
          95,
          96,
          97,
          98,
          99,
          100,
          101,
          102,
          103,
          104,
          105,
          106,
          107,
          108,
          109,
          110,
          111,
          112,
          113,
          114,
          115,
          116,
          117,
          118,
          119,
          120,
          121,
          122,
          123,
          124,
          125,
          126,
          127,
          128,
          129,
          130,
          131,
          132,
          133,
          134,
          135,
          136,
          137,
          138,
          139,
          140,
          141,
          142,
          143,
          144,
          145,
          146,
          147,
          148,
          149,
          150,
          151,
          152,
          153,
          154,
          155,
          156,
          157,
          158,
          159,
          160,
          161,
          162,
          163,
          164,
          165,
          166,
          167,
          168,
          169,
          170,
          171,
          172,
          173,
          174,
          175,
          176,
          177,
          178,
          179,
          180,
          181,
          182,
          183,
          184,
          185,
          186,
          187,
          188,
          189,
          190,
          191,
          192,
          193,
          194,
          195,
          196,
          197,
          198,
          199,
          200,
          201,
          202,
          203,
          204,
          205,
          206,
          207,
          208,
          209,
          210,
          211,
          212,
          213,
          214,
          215,
          216,
          217,
          218,
          219,
          220,
          221,
          222,
          223,
          224,
          225,
          226,
          227,
          228,
          229,
          230,
          231,
          232,
          233,
          234,
          235,
          236,
          237,
          238,
          239,
          240,
          241,
          242,
          243,
          244,
          245,
          246,
          247,
          248,
          249,
          250,
          251,
          252,
          253,
          254,
          255,
          256,
          257,
          258,
          259,
          260,
          261,
          262,
          263,
          264,
          265,
          266,
          267,
          268,
          269,
          270,
          271,
          272,
          273,
          274,
          275,
          276,
          277,
          278,
          279,
          280,
          281,
          282,
          283,
          284,
          285,
          286,
          287,
          288,
          289,
          290,
          291,
          292,
          293,
          294,
          295,
          296,
          297,
          298,
          299,
          300,
          301,
          302,
          303,
          304,
          305,
          306,
          307,
          308,
          309,
          310,
          311,
          312,
          313,
          314,
          315,
          316,
          317,
          318,
          319,
          320,
          321,
          322,
          323,
          324,
          325,
          326,
          327,
          328,
          329,
          330,
          331,
          332,
          333,
          334,
          335,
          336,
          337,
          338,
          339,
          340,
          341,
          342,
          343,
          344,
          345,
          346,
          347,
          348,
          349,
          350,
          351,
          352,
          353,
          354,
          355,
          356,
          357,
          358,
          359,
          360,
          361,
          362,
          363,
          364,
          365,
          366,
          367,
          368,
          369,
          370,
          371,
          372,
          373,
          374,
          375,
          376,
          377,
          378,
          379,
          380,
          381,
          382,
          383,
          384,
          385,
          386,
          387,
          388,
          389,
          390,
          391,
          392,
          393,
          394,
          395,
          396,
          397,
          398,
          399,
          400,
          401,
          402,
          403,
          404,
          405,
          406,
          407,
          408,
          409,
          410,
          411,
          412,
          413,
          414,
          415,
          416,
          417,
          418,
          419,
          420,
          421,
          422,
          423,
          424,
          425,
          426,
          427,
          428,
          429,
          430,
          431,
          432,
          433,
          434,
          435,
          436,
          437,
          438,
          439,
          440,
          441,
          442,
          443,
          444,
          445,
          446,
          447,
          448,
          449,
          450,
          451,
          452,
          453,
          454,
          455,
          456,
          457,
          458,
          459,
          460,
          461,
          462,
          463,
          464,
          465,
          466,
          467,
          468,
          469,
          470,
          471,
          472,
          473,
          474,
          475,
          476,
          477,
          478,
          479,
          480,
          481,
          482,
          483,
          484,
          485,
          486,
          487,
          488,
          489,
          490,
          491,
          492,
          493,
          494,
          495,
          496,
          497,
          498,
          499,
          500
         ],
         "yaxis": "y"
        }
       ],
       "layout": {
        "hovermode": "closest",
        "legend": {
         "title": {
          "text": "state"
         },
         "tracegroupgap": 0
        },
        "margin": {
         "b": 40,
         "l": 40,
         "r": 40,
         "t": 40
        },
        "template": {
         "data": {
          "bar": [
           {
            "error_x": {
             "color": "#f2f5fa"
            },
            "error_y": {
             "color": "#f2f5fa"
            },
            "marker": {
             "line": {
              "color": "rgb(17,17,17)",
              "width": 0.5
             },
             "pattern": {
              "fillmode": "overlay",
              "size": 10,
              "solidity": 0.2
             }
            },
            "type": "bar"
           }
          ],
          "barpolar": [
           {
            "marker": {
             "line": {
              "color": "rgb(17,17,17)",
              "width": 0.5
             },
             "pattern": {
              "fillmode": "overlay",
              "size": 10,
              "solidity": 0.2
             }
            },
            "type": "barpolar"
           }
          ],
          "carpet": [
           {
            "aaxis": {
             "endlinecolor": "#A2B1C6",
             "gridcolor": "#506784",
             "linecolor": "#506784",
             "minorgridcolor": "#506784",
             "startlinecolor": "#A2B1C6"
            },
            "baxis": {
             "endlinecolor": "#A2B1C6",
             "gridcolor": "#506784",
             "linecolor": "#506784",
             "minorgridcolor": "#506784",
             "startlinecolor": "#A2B1C6"
            },
            "type": "carpet"
           }
          ],
          "choropleth": [
           {
            "colorbar": {
             "outlinewidth": 0,
             "ticks": ""
            },
            "type": "choropleth"
           }
          ],
          "contour": [
           {
            "colorbar": {
             "outlinewidth": 0,
             "ticks": ""
            },
            "colorscale": [
             [
              0,
              "#0d0887"
             ],
             [
              0.1111111111111111,
              "#46039f"
             ],
             [
              0.2222222222222222,
              "#7201a8"
             ],
             [
              0.3333333333333333,
              "#9c179e"
             ],
             [
              0.4444444444444444,
              "#bd3786"
             ],
             [
              0.5555555555555556,
              "#d8576b"
             ],
             [
              0.6666666666666666,
              "#ed7953"
             ],
             [
              0.7777777777777778,
              "#fb9f3a"
             ],
             [
              0.8888888888888888,
              "#fdca26"
             ],
             [
              1,
              "#f0f921"
             ]
            ],
            "type": "contour"
           }
          ],
          "contourcarpet": [
           {
            "colorbar": {
             "outlinewidth": 0,
             "ticks": ""
            },
            "type": "contourcarpet"
           }
          ],
          "heatmap": [
           {
            "colorbar": {
             "outlinewidth": 0,
             "ticks": ""
            },
            "colorscale": [
             [
              0,
              "#0d0887"
             ],
             [
              0.1111111111111111,
              "#46039f"
             ],
             [
              0.2222222222222222,
              "#7201a8"
             ],
             [
              0.3333333333333333,
              "#9c179e"
             ],
             [
              0.4444444444444444,
              "#bd3786"
             ],
             [
              0.5555555555555556,
              "#d8576b"
             ],
             [
              0.6666666666666666,
              "#ed7953"
             ],
             [
              0.7777777777777778,
              "#fb9f3a"
             ],
             [
              0.8888888888888888,
              "#fdca26"
             ],
             [
              1,
              "#f0f921"
             ]
            ],
            "type": "heatmap"
           }
          ],
          "heatmapgl": [
           {
            "colorbar": {
             "outlinewidth": 0,
             "ticks": ""
            },
            "colorscale": [
             [
              0,
              "#0d0887"
             ],
             [
              0.1111111111111111,
              "#46039f"
             ],
             [
              0.2222222222222222,
              "#7201a8"
             ],
             [
              0.3333333333333333,
              "#9c179e"
             ],
             [
              0.4444444444444444,
              "#bd3786"
             ],
             [
              0.5555555555555556,
              "#d8576b"
             ],
             [
              0.6666666666666666,
              "#ed7953"
             ],
             [
              0.7777777777777778,
              "#fb9f3a"
             ],
             [
              0.8888888888888888,
              "#fdca26"
             ],
             [
              1,
              "#f0f921"
             ]
            ],
            "type": "heatmapgl"
           }
          ],
          "histogram": [
           {
            "marker": {
             "pattern": {
              "fillmode": "overlay",
              "size": 10,
              "solidity": 0.2
             }
            },
            "type": "histogram"
           }
          ],
          "histogram2d": [
           {
            "colorbar": {
             "outlinewidth": 0,
             "ticks": ""
            },
            "colorscale": [
             [
              0,
              "#0d0887"
             ],
             [
              0.1111111111111111,
              "#46039f"
             ],
             [
              0.2222222222222222,
              "#7201a8"
             ],
             [
              0.3333333333333333,
              "#9c179e"
             ],
             [
              0.4444444444444444,
              "#bd3786"
             ],
             [
              0.5555555555555556,
              "#d8576b"
             ],
             [
              0.6666666666666666,
              "#ed7953"
             ],
             [
              0.7777777777777778,
              "#fb9f3a"
             ],
             [
              0.8888888888888888,
              "#fdca26"
             ],
             [
              1,
              "#f0f921"
             ]
            ],
            "type": "histogram2d"
           }
          ],
          "histogram2dcontour": [
           {
            "colorbar": {
             "outlinewidth": 0,
             "ticks": ""
            },
            "colorscale": [
             [
              0,
              "#0d0887"
             ],
             [
              0.1111111111111111,
              "#46039f"
             ],
             [
              0.2222222222222222,
              "#7201a8"
             ],
             [
              0.3333333333333333,
              "#9c179e"
             ],
             [
              0.4444444444444444,
              "#bd3786"
             ],
             [
              0.5555555555555556,
              "#d8576b"
             ],
             [
              0.6666666666666666,
              "#ed7953"
             ],
             [
              0.7777777777777778,
              "#fb9f3a"
             ],
             [
              0.8888888888888888,
              "#fdca26"
             ],
             [
              1,
              "#f0f921"
             ]
            ],
            "type": "histogram2dcontour"
           }
          ],
          "mesh3d": [
           {
            "colorbar": {
             "outlinewidth": 0,
             "ticks": ""
            },
            "type": "mesh3d"
           }
          ],
          "parcoords": [
           {
            "line": {
             "colorbar": {
              "outlinewidth": 0,
              "ticks": ""
             }
            },
            "type": "parcoords"
           }
          ],
          "pie": [
           {
            "automargin": true,
            "type": "pie"
           }
          ],
          "scatter": [
           {
            "marker": {
             "line": {
              "color": "#283442"
             }
            },
            "type": "scatter"
           }
          ],
          "scatter3d": [
           {
            "line": {
             "colorbar": {
              "outlinewidth": 0,
              "ticks": ""
             }
            },
            "marker": {
             "colorbar": {
              "outlinewidth": 0,
              "ticks": ""
             }
            },
            "type": "scatter3d"
           }
          ],
          "scattercarpet": [
           {
            "marker": {
             "colorbar": {
              "outlinewidth": 0,
              "ticks": ""
             }
            },
            "type": "scattercarpet"
           }
          ],
          "scattergeo": [
           {
            "marker": {
             "colorbar": {
              "outlinewidth": 0,
              "ticks": ""
             }
            },
            "type": "scattergeo"
           }
          ],
          "scattergl": [
           {
            "marker": {
             "line": {
              "color": "#283442"
             }
            },
            "type": "scattergl"
           }
          ],
          "scattermapbox": [
           {
            "marker": {
             "colorbar": {
              "outlinewidth": 0,
              "ticks": ""
             }
            },
            "type": "scattermapbox"
           }
          ],
          "scatterpolar": [
           {
            "marker": {
             "colorbar": {
              "outlinewidth": 0,
              "ticks": ""
             }
            },
            "type": "scatterpolar"
           }
          ],
          "scatterpolargl": [
           {
            "marker": {
             "colorbar": {
              "outlinewidth": 0,
              "ticks": ""
             }
            },
            "type": "scatterpolargl"
           }
          ],
          "scatterternary": [
           {
            "marker": {
             "colorbar": {
              "outlinewidth": 0,
              "ticks": ""
             }
            },
            "type": "scatterternary"
           }
          ],
          "surface": [
           {
            "colorbar": {
             "outlinewidth": 0,
             "ticks": ""
            },
            "colorscale": [
             [
              0,
              "#0d0887"
             ],
             [
              0.1111111111111111,
              "#46039f"
             ],
             [
              0.2222222222222222,
              "#7201a8"
             ],
             [
              0.3333333333333333,
              "#9c179e"
             ],
             [
              0.4444444444444444,
              "#bd3786"
             ],
             [
              0.5555555555555556,
              "#d8576b"
             ],
             [
              0.6666666666666666,
              "#ed7953"
             ],
             [
              0.7777777777777778,
              "#fb9f3a"
             ],
             [
              0.8888888888888888,
              "#fdca26"
             ],
             [
              1,
              "#f0f921"
             ]
            ],
            "type": "surface"
           }
          ],
          "table": [
           {
            "cells": {
             "fill": {
              "color": "#506784"
             },
             "line": {
              "color": "rgb(17,17,17)"
             }
            },
            "header": {
             "fill": {
              "color": "#2a3f5f"
             },
             "line": {
              "color": "rgb(17,17,17)"
             }
            },
            "type": "table"
           }
          ]
         },
         "layout": {
          "annotationdefaults": {
           "arrowcolor": "#f2f5fa",
           "arrowhead": 0,
           "arrowwidth": 1
          },
          "autotypenumbers": "strict",
          "coloraxis": {
           "colorbar": {
            "outlinewidth": 0,
            "ticks": ""
           }
          },
          "colorscale": {
           "diverging": [
            [
             0,
             "#8e0152"
            ],
            [
             0.1,
             "#c51b7d"
            ],
            [
             0.2,
             "#de77ae"
            ],
            [
             0.3,
             "#f1b6da"
            ],
            [
             0.4,
             "#fde0ef"
            ],
            [
             0.5,
             "#f7f7f7"
            ],
            [
             0.6,
             "#e6f5d0"
            ],
            [
             0.7,
             "#b8e186"
            ],
            [
             0.8,
             "#7fbc41"
            ],
            [
             0.9,
             "#4d9221"
            ],
            [
             1,
             "#276419"
            ]
           ],
           "sequential": [
            [
             0,
             "#0d0887"
            ],
            [
             0.1111111111111111,
             "#46039f"
            ],
            [
             0.2222222222222222,
             "#7201a8"
            ],
            [
             0.3333333333333333,
             "#9c179e"
            ],
            [
             0.4444444444444444,
             "#bd3786"
            ],
            [
             0.5555555555555556,
             "#d8576b"
            ],
            [
             0.6666666666666666,
             "#ed7953"
            ],
            [
             0.7777777777777778,
             "#fb9f3a"
            ],
            [
             0.8888888888888888,
             "#fdca26"
            ],
            [
             1,
             "#f0f921"
            ]
           ],
           "sequentialminus": [
            [
             0,
             "#0d0887"
            ],
            [
             0.1111111111111111,
             "#46039f"
            ],
            [
             0.2222222222222222,
             "#7201a8"
            ],
            [
             0.3333333333333333,
             "#9c179e"
            ],
            [
             0.4444444444444444,
             "#bd3786"
            ],
            [
             0.5555555555555556,
             "#d8576b"
            ],
            [
             0.6666666666666666,
             "#ed7953"
            ],
            [
             0.7777777777777778,
             "#fb9f3a"
            ],
            [
             0.8888888888888888,
             "#fdca26"
            ],
            [
             1,
             "#f0f921"
            ]
           ]
          },
          "colorway": [
           "#636efa",
           "#EF553B",
           "#00cc96",
           "#ab63fa",
           "#FFA15A",
           "#19d3f3",
           "#FF6692",
           "#B6E880",
           "#FF97FF",
           "#FECB52"
          ],
          "font": {
           "color": "#f2f5fa"
          },
          "geo": {
           "bgcolor": "rgb(17,17,17)",
           "lakecolor": "rgb(17,17,17)",
           "landcolor": "rgb(17,17,17)",
           "showlakes": true,
           "showland": true,
           "subunitcolor": "#506784"
          },
          "hoverlabel": {
           "align": "left"
          },
          "hovermode": "closest",
          "mapbox": {
           "style": "dark"
          },
          "paper_bgcolor": "rgb(17,17,17)",
          "plot_bgcolor": "rgb(17,17,17)",
          "polar": {
           "angularaxis": {
            "gridcolor": "#506784",
            "linecolor": "#506784",
            "ticks": ""
           },
           "bgcolor": "rgb(17,17,17)",
           "radialaxis": {
            "gridcolor": "#506784",
            "linecolor": "#506784",
            "ticks": ""
           }
          },
          "scene": {
           "xaxis": {
            "backgroundcolor": "rgb(17,17,17)",
            "gridcolor": "#506784",
            "gridwidth": 2,
            "linecolor": "#506784",
            "showbackground": true,
            "ticks": "",
            "zerolinecolor": "#C8D4E3"
           },
           "yaxis": {
            "backgroundcolor": "rgb(17,17,17)",
            "gridcolor": "#506784",
            "gridwidth": 2,
            "linecolor": "#506784",
            "showbackground": true,
            "ticks": "",
            "zerolinecolor": "#C8D4E3"
           },
           "zaxis": {
            "backgroundcolor": "rgb(17,17,17)",
            "gridcolor": "#506784",
            "gridwidth": 2,
            "linecolor": "#506784",
            "showbackground": true,
            "ticks": "",
            "zerolinecolor": "#C8D4E3"
           }
          },
          "shapedefaults": {
           "line": {
            "color": "#f2f5fa"
           }
          },
          "sliderdefaults": {
           "bgcolor": "#C8D4E3",
           "bordercolor": "rgb(17,17,17)",
           "borderwidth": 1,
           "tickwidth": 0
          },
          "ternary": {
           "aaxis": {
            "gridcolor": "#506784",
            "linecolor": "#506784",
            "ticks": ""
           },
           "baxis": {
            "gridcolor": "#506784",
            "linecolor": "#506784",
            "ticks": ""
           },
           "bgcolor": "rgb(17,17,17)",
           "caxis": {
            "gridcolor": "#506784",
            "linecolor": "#506784",
            "ticks": ""
           }
          },
          "title": {
           "x": 0.05
          },
          "updatemenudefaults": {
           "bgcolor": "#506784",
           "borderwidth": 0
          },
          "xaxis": {
           "automargin": true,
           "gridcolor": "#283442",
           "linecolor": "#506784",
           "ticks": "",
           "title": {
            "standoff": 15
           },
           "zerolinecolor": "#283442",
           "zerolinewidth": 2
          },
          "yaxis": {
           "automargin": true,
           "gridcolor": "#283442",
           "linecolor": "#506784",
           "ticks": "",
           "title": {
            "standoff": 15
           },
           "zerolinecolor": "#283442",
           "zerolinewidth": 2
          }
         }
        },
        "title": {
         "text": "500 tasks 2 workers batch-size => 5 : fast Plot for Message Transitions Over Time"
        },
        "xaxis": {
         "anchor": "y",
         "domain": [
          0,
          1
         ],
         "showgrid": true,
         "title": {
          "text": "Timestamp"
         }
        },
        "yaxis": {
         "anchor": "x",
         "domain": [
          0,
          1
         ],
         "showgrid": true,
         "title": {
          "text": "State"
         }
        }
       }
      }
     },
     "metadata": {},
     "output_type": "display_data"
    },
    {
     "data": {
      "application/vnd.plotly.v1+json": {
       "config": {
        "plotlyServerURL": "https://plot.ly"
       },
       "data": [
        {
         "line": {
          "color": "blue"
         },
         "marker": {
          "color": "blue"
         },
         "mode": "lines+markers",
         "name": "Latency",
         "type": "scatter",
         "x": [
          1,
          2,
          3,
          4,
          5,
          6,
          7,
          8,
          9,
          10,
          11,
          12,
          13,
          14,
          15,
          16,
          17,
          18,
          19,
          20,
          21,
          22,
          23,
          24,
          25,
          26,
          27,
          28,
          29,
          30,
          31,
          32,
          33,
          34,
          35,
          36,
          37,
          38,
          39,
          40,
          41,
          42,
          43,
          44,
          45,
          46,
          47,
          48,
          49,
          50,
          51,
          52,
          53,
          54,
          55,
          56,
          57,
          58,
          59,
          60,
          61,
          62,
          63,
          64,
          65,
          66,
          67,
          68,
          69,
          70,
          71,
          72,
          73,
          74,
          75,
          76,
          77,
          78,
          79,
          80,
          81,
          82,
          83,
          84,
          85,
          86,
          87,
          88,
          89,
          90,
          91,
          92,
          93,
          94,
          95,
          96,
          97,
          98,
          99,
          100,
          101,
          102,
          103,
          104,
          105,
          106,
          107,
          108,
          109,
          110,
          111,
          112,
          113,
          114,
          115,
          116,
          117,
          118,
          119,
          120,
          121,
          122,
          123,
          124,
          125,
          126,
          127,
          128,
          129,
          130,
          131,
          132,
          133,
          134,
          135,
          136,
          137,
          138,
          139,
          140,
          141,
          142,
          143,
          144,
          145,
          146,
          147,
          148,
          149,
          150,
          151,
          152,
          153,
          154,
          155,
          156,
          157,
          158,
          159,
          160,
          161,
          162,
          163,
          164,
          165,
          166,
          167,
          168,
          169,
          170,
          171,
          172,
          173,
          174,
          175,
          176,
          177,
          178,
          179,
          180,
          181,
          182,
          183,
          184,
          185,
          186,
          187,
          188,
          189,
          190,
          191,
          192,
          193,
          194,
          195,
          196,
          197,
          198,
          199,
          200,
          201,
          202,
          203,
          204,
          205,
          206,
          207,
          208,
          209,
          210,
          211,
          212,
          213,
          214,
          215,
          216,
          217,
          218,
          219,
          220,
          221,
          222,
          223,
          224,
          225,
          226,
          227,
          228,
          229,
          230,
          231,
          232,
          233,
          234,
          235,
          236,
          237,
          238,
          239,
          240,
          241,
          242,
          243,
          244,
          245,
          246,
          247,
          248,
          249,
          250,
          251,
          252,
          253,
          254,
          255,
          256,
          257,
          258,
          259,
          260,
          261,
          262,
          263,
          264,
          265,
          266,
          267,
          268,
          269,
          270,
          271,
          272,
          273,
          274,
          275,
          276,
          277,
          278,
          279,
          280,
          281,
          282,
          283,
          284,
          285,
          286,
          287,
          288,
          289,
          290,
          291,
          292,
          293,
          294,
          295,
          296,
          297,
          298,
          299,
          300,
          301,
          302,
          303,
          304,
          305,
          306,
          307,
          308,
          309,
          310,
          311,
          312,
          313,
          314,
          315,
          316,
          317,
          318,
          319,
          320,
          321,
          322,
          323,
          324,
          325,
          326,
          327,
          328,
          329,
          330,
          331,
          332,
          333,
          334,
          335,
          336,
          337,
          338,
          339,
          340,
          341,
          342,
          343,
          344,
          345,
          346,
          347,
          348,
          349,
          350,
          351,
          352,
          353,
          354,
          355,
          356,
          357,
          358,
          359,
          360,
          361,
          362,
          363,
          364,
          365,
          366,
          367,
          368,
          369,
          370,
          371,
          372,
          373,
          374,
          375,
          376,
          377,
          378,
          379,
          380,
          381,
          382,
          383,
          384,
          385,
          386,
          387,
          388,
          389,
          390,
          391,
          392,
          393,
          394,
          395,
          396,
          397,
          398,
          399,
          400,
          401,
          402,
          403,
          404,
          405,
          406,
          407,
          408,
          409,
          410,
          411,
          412,
          413,
          414,
          415,
          416,
          417,
          418,
          419,
          420,
          421,
          422,
          423,
          424,
          425,
          426,
          427,
          428,
          429,
          430,
          431,
          432,
          433,
          434,
          435,
          436,
          437,
          438,
          439,
          440,
          441,
          442,
          443,
          444,
          445,
          446,
          447,
          448,
          449,
          450,
          451,
          452,
          453,
          454,
          455,
          456,
          457,
          458,
          459,
          460,
          461,
          462,
          463,
          464,
          465,
          466,
          467,
          468,
          469,
          470,
          471,
          472,
          473,
          474,
          475,
          476,
          477,
          478,
          479,
          480,
          481,
          482,
          483,
          484,
          485,
          486,
          487,
          488,
          489,
          490,
          491,
          492,
          493,
          494,
          495,
          496,
          497,
          498,
          499,
          500
         ],
         "y": [
          53.622657,
          53.576303,
          53.536944,
          53.523876,
          53.493317,
          54.92763,
          54.904159,
          54.886558,
          54.820841,
          54.717021,
          103.536204,
          103.491835,
          103.440727,
          103.395484,
          103.389882,
          104.76899,
          104.693275,
          104.673201,
          104.647963,
          104.548034,
          153.317773,
          153.27843,
          153.276438,
          153.15355,
          153.110337,
          154.516608,
          154.432592,
          154.367102,
          150.662555,
          150.113762,
          198.842962,
          198.829572,
          198.675869,
          198.670119,
          198.539973,
          199.888518,
          199.849569,
          199.802921,
          199.650392,
          199.647408,
          248.436751,
          248.336335,
          248.273934,
          248.272091,
          248.231477,
          249.65683,
          249.620484,
          249.616769,
          249.592629,
          249.5855,
          298.276932,
          298.133421,
          298.065994,
          297.9778,
          297.860317,
          299.108013,
          295.855045,
          295.413588,
          295.339199,
          295.266346,
          344.022303,
          343.8877,
          343.669432,
          343.641031,
          343.547532,
          344.903627,
          344.825333,
          344.762251,
          344.534023,
          344.466069,
          393.312774,
          393.234719,
          393.225035,
          393.183108,
          393.172281,
          394.405129,
          394.314532,
          394.30555,
          394.284626,
          394.138269,
          443.041971,
          443.031845,
          443.004561,
          442.677492,
          439.712545,
          440.31623,
          440.313746,
          440.219875,
          440.052452,
          440.041022,
          488.82466,
          488.795218,
          488.727793,
          488.635885,
          488.37658,
          489.624406,
          489.560586,
          489.540334,
          489.506943,
          489.446452,
          538.270663,
          538.214608,
          538.112967,
          538.101245,
          538.099473,
          539.426381,
          539.392352,
          539.335182,
          539.232664,
          539.157046,
          587.943957,
          587.778059,
          584.941541,
          584.335688,
          584.049331,
          585.38101,
          585.041644,
          584.915416,
          584.910737,
          584.900049,
          633.694316,
          633.469974,
          633.398488,
          633.308816,
          633.302376,
          634.68135,
          634.604699,
          634.6018,
          634.599589,
          634.548836,
          683.363657,
          683.361506,
          683.323369,
          683.284468,
          683.235324,
          684.514964,
          684.444795,
          684.220068,
          684.214733,
          684.195806,
          729.989932,
          729.520662,
          729.340299,
          729.123657,
          728.919882,
          730.206162,
          730.037209,
          729.974052,
          729.93513,
          729.858446,
          778.787961,
          778.74082,
          778.693736,
          778.551894,
          778.550587,
          779.80745,
          779.76917,
          779.729225,
          779.640103,
          779.610787,
          828.532551,
          828.508721,
          828.467541,
          828.416023,
          828.334512,
          829.443767,
          829.204498,
          829.151216,
          825.944678,
          825.833244,
          874.387166,
          874.210678,
          874.068075,
          873.949136,
          873.889353,
          875.224664,
          875.177291,
          875.107018,
          875.083985,
          874.938661,
          923.802321,
          923.774601,
          923.703248,
          923.654292,
          923.56136,
          924.810024,
          924.639002,
          924.61658,
          924.496492,
          924.465835,
          973.301928,
          973.296261,
          973.289324,
          973.180947,
          973.047892,
          974.208206,
          970.867011,
          970.831172,
          970.814761,
          970.543163,
          1019.380642,
          1019.344884,
          1019.220059,
          1019.142315,
          1019.137653,
          1020.452008,
          1020.407181,
          1020.313493,
          1020.037112,
          1020.028182,
          1068.860837,
          1068.819631,
          1068.767585,
          1068.717805,
          1068.574187,
          1069.849738,
          1069.804709,
          1069.65178,
          1069.49741,
          1069.444643,
          1118.355371,
          1118.200015,
          1117.923177,
          1117.651801,
          1114.816803,
          1116.036061,
          1115.875786,
          1115.827303,
          1115.644601,
          1115.495569,
          1164.458868,
          1164.403382,
          1164.389145,
          1164.332373,
          1164.292031,
          1165.474897,
          1165.431916,
          1165.252585,
          1165.176106,
          1165.104216,
          1214.039951,
          1214.023963,
          1213.977798,
          1213.929106,
          1213.696438,
          1214.782237,
          1214.772997,
          1214.646943,
          1214.611488,
          1214.489333,
          1263.220729,
          1262.786397,
          1260.500039,
          1260.111087,
          1260.103964,
          1261.338406,
          1261.025196,
          1260.972192,
          1260.772304,
          1260.592155,
          1309.418352,
          1309.407285,
          1309.296729,
          1309.196924,
          1309.168668,
          1310.326664,
          1310.31658,
          1310.269173,
          1310.198393,
          1310.096479,
          1359.051416,
          1358.97166,
          1358.921081,
          1358.91408,
          1358.799505,
          1359.88324,
          1359.757092,
          1359.444073,
          1359.165631,
          1358.900787,
          1405.256271,
          1405.236037,
          1405.082992,
          1405.026126,
          1405.001077,
          1406.134841,
          1406.095387,
          1405.965756,
          1405.878168,
          1405.771283,
          1454.731373,
          1454.648425,
          1454.538681,
          1454.331107,
          1454.288915,
          1455.490117,
          1455.340128,
          1455.318289,
          1455.284858,
          1455.200718,
          1504.199609,
          1504.159398,
          1504.071472,
          1504.00042,
          1503.74693,
          1504.476232,
          1504.369979,
          1504.166584,
          1501.501948,
          1501.310705,
          1550.313444,
          1550.14807,
          1550.117863,
          1550.04581,
          1550.043955,
          1550.998296,
          1550.914555,
          1550.885236,
          1550.85646,
          1550.74592,
          1599.668704,
          1599.596732,
          1599.268456,
          1599.19706,
          1599.110486,
          1600.29362,
          1600.291086,
          1600.288191,
          1600.28415,
          1600.032212,
          1649.045834,
          1649.043708,
          1648.856618,
          1648.394663,
          1648.384025,
          1649.424431,
          1646.709655,
          1646.355437,
          1646.332025,
          1646.213422,
          1695.193068,
          1695.170909,
          1695.012575,
          1694.869809,
          1694.786979,
          1695.942897,
          1695.788378,
          1695.728727,
          1695.465537,
          1695.249182,
          1744.278221,
          1744.262811,
          1744.235644,
          1744.167974,
          1744.092211,
          1745.287804,
          1745.280414,
          1745.0221,
          1744.985597,
          1744.926732,
          1793.890993,
          1793.638698,
          1793.591084,
          1793.268571,
          1790.636458,
          1791.526265,
          1791.395543,
          1791.372397,
          1791.327861,
          1791.256138,
          1840.279269,
          1840.176637,
          1839.994323,
          1839.899161,
          1839.841238,
          1840.824892,
          1840.74184,
          1840.50109,
          1840.453855,
          1840.357609,
          1889.268427,
          1889.224864,
          1889.216819,
          1889.067422,
          1888.937573,
          1890.109442,
          1890.046819,
          1890.045837,
          1890.04422,
          1889.467677,
          1938.51093,
          1938.130858,
          1935.830858,
          1935.385924,
          1935.336083,
          1936.289678,
          1936.275266,
          1936.2457,
          1935.994547,
          1935.817184,
          1984.867094,
          1984.810559,
          1984.755657,
          1984.580455,
          1984.488905,
          1985.348917,
          1985.341182,
          1985.332428,
          1985.258911,
          1985.246811,
          2034.213411,
          2034.104857,
          2034.033865,
          2033.972298,
          2033.929557,
          2035.082904,
          2035.074523,
          2034.580208,
          2034.444711,
          2033.795344,
          2081.200054,
          2080.699768,
          2080.39064,
          2080.342125,
          2080.302422,
          2081.426346,
          2081.339891,
          2081.301179,
          2081.001173,
          2080.996831,
          2130.038939,
          2129.92983,
          2129.789503,
          2129.664136,
          2129.568967,
          2130.626316,
          2130.541996,
          2130.469291,
          2130.468444,
          2130.383303,
          2179.25886,
          2179.254293,
          2179.104119,
          2179.097598,
          2178.88674,
          2179.78803,
          2179.465633,
          2178.746366,
          2177.028267,
          2176.630431,
          2225.731734,
          2225.588508,
          2225.201392,
          2225.192451,
          2225.19077,
          2226.222211,
          2226.008312,
          2226.00574,
          2225.975303,
          2225.864999,
          2274.924411,
          2274.887823,
          2274.790543,
          2274.646679,
          2274.50592,
          2275.620953,
          2275.613288,
          2275.545969,
          2275.163249,
          2275.113183,
          2324.123271,
          2323.99309,
          2323.973024,
          2323.761888,
          2323.219979,
          2323.811149,
          2322.422247,
          2322.232859,
          2322.183648,
          2322.057998,
          2370.835199,
          2370.779033,
          2370.764902,
          2370.759463,
          2370.735472,
          2371.717695,
          2371.7147,
          2371.701929,
          2371.671666,
          2371.627303,
          2421.752993,
          2421.718053,
          2421.579833,
          2421.547915,
          2421.546313,
          2422.257889,
          2422.240445,
          2422.026185,
          2422.007395,
          2421.906195
         ]
        }
       ],
       "layout": {
        "legend": {
         "title": {
          "text": "Legend"
         }
        },
        "template": {
         "data": {
          "bar": [
           {
            "error_x": {
             "color": "#f2f5fa"
            },
            "error_y": {
             "color": "#f2f5fa"
            },
            "marker": {
             "line": {
              "color": "rgb(17,17,17)",
              "width": 0.5
             },
             "pattern": {
              "fillmode": "overlay",
              "size": 10,
              "solidity": 0.2
             }
            },
            "type": "bar"
           }
          ],
          "barpolar": [
           {
            "marker": {
             "line": {
              "color": "rgb(17,17,17)",
              "width": 0.5
             },
             "pattern": {
              "fillmode": "overlay",
              "size": 10,
              "solidity": 0.2
             }
            },
            "type": "barpolar"
           }
          ],
          "carpet": [
           {
            "aaxis": {
             "endlinecolor": "#A2B1C6",
             "gridcolor": "#506784",
             "linecolor": "#506784",
             "minorgridcolor": "#506784",
             "startlinecolor": "#A2B1C6"
            },
            "baxis": {
             "endlinecolor": "#A2B1C6",
             "gridcolor": "#506784",
             "linecolor": "#506784",
             "minorgridcolor": "#506784",
             "startlinecolor": "#A2B1C6"
            },
            "type": "carpet"
           }
          ],
          "choropleth": [
           {
            "colorbar": {
             "outlinewidth": 0,
             "ticks": ""
            },
            "type": "choropleth"
           }
          ],
          "contour": [
           {
            "colorbar": {
             "outlinewidth": 0,
             "ticks": ""
            },
            "colorscale": [
             [
              0,
              "#0d0887"
             ],
             [
              0.1111111111111111,
              "#46039f"
             ],
             [
              0.2222222222222222,
              "#7201a8"
             ],
             [
              0.3333333333333333,
              "#9c179e"
             ],
             [
              0.4444444444444444,
              "#bd3786"
             ],
             [
              0.5555555555555556,
              "#d8576b"
             ],
             [
              0.6666666666666666,
              "#ed7953"
             ],
             [
              0.7777777777777778,
              "#fb9f3a"
             ],
             [
              0.8888888888888888,
              "#fdca26"
             ],
             [
              1,
              "#f0f921"
             ]
            ],
            "type": "contour"
           }
          ],
          "contourcarpet": [
           {
            "colorbar": {
             "outlinewidth": 0,
             "ticks": ""
            },
            "type": "contourcarpet"
           }
          ],
          "heatmap": [
           {
            "colorbar": {
             "outlinewidth": 0,
             "ticks": ""
            },
            "colorscale": [
             [
              0,
              "#0d0887"
             ],
             [
              0.1111111111111111,
              "#46039f"
             ],
             [
              0.2222222222222222,
              "#7201a8"
             ],
             [
              0.3333333333333333,
              "#9c179e"
             ],
             [
              0.4444444444444444,
              "#bd3786"
             ],
             [
              0.5555555555555556,
              "#d8576b"
             ],
             [
              0.6666666666666666,
              "#ed7953"
             ],
             [
              0.7777777777777778,
              "#fb9f3a"
             ],
             [
              0.8888888888888888,
              "#fdca26"
             ],
             [
              1,
              "#f0f921"
             ]
            ],
            "type": "heatmap"
           }
          ],
          "heatmapgl": [
           {
            "colorbar": {
             "outlinewidth": 0,
             "ticks": ""
            },
            "colorscale": [
             [
              0,
              "#0d0887"
             ],
             [
              0.1111111111111111,
              "#46039f"
             ],
             [
              0.2222222222222222,
              "#7201a8"
             ],
             [
              0.3333333333333333,
              "#9c179e"
             ],
             [
              0.4444444444444444,
              "#bd3786"
             ],
             [
              0.5555555555555556,
              "#d8576b"
             ],
             [
              0.6666666666666666,
              "#ed7953"
             ],
             [
              0.7777777777777778,
              "#fb9f3a"
             ],
             [
              0.8888888888888888,
              "#fdca26"
             ],
             [
              1,
              "#f0f921"
             ]
            ],
            "type": "heatmapgl"
           }
          ],
          "histogram": [
           {
            "marker": {
             "pattern": {
              "fillmode": "overlay",
              "size": 10,
              "solidity": 0.2
             }
            },
            "type": "histogram"
           }
          ],
          "histogram2d": [
           {
            "colorbar": {
             "outlinewidth": 0,
             "ticks": ""
            },
            "colorscale": [
             [
              0,
              "#0d0887"
             ],
             [
              0.1111111111111111,
              "#46039f"
             ],
             [
              0.2222222222222222,
              "#7201a8"
             ],
             [
              0.3333333333333333,
              "#9c179e"
             ],
             [
              0.4444444444444444,
              "#bd3786"
             ],
             [
              0.5555555555555556,
              "#d8576b"
             ],
             [
              0.6666666666666666,
              "#ed7953"
             ],
             [
              0.7777777777777778,
              "#fb9f3a"
             ],
             [
              0.8888888888888888,
              "#fdca26"
             ],
             [
              1,
              "#f0f921"
             ]
            ],
            "type": "histogram2d"
           }
          ],
          "histogram2dcontour": [
           {
            "colorbar": {
             "outlinewidth": 0,
             "ticks": ""
            },
            "colorscale": [
             [
              0,
              "#0d0887"
             ],
             [
              0.1111111111111111,
              "#46039f"
             ],
             [
              0.2222222222222222,
              "#7201a8"
             ],
             [
              0.3333333333333333,
              "#9c179e"
             ],
             [
              0.4444444444444444,
              "#bd3786"
             ],
             [
              0.5555555555555556,
              "#d8576b"
             ],
             [
              0.6666666666666666,
              "#ed7953"
             ],
             [
              0.7777777777777778,
              "#fb9f3a"
             ],
             [
              0.8888888888888888,
              "#fdca26"
             ],
             [
              1,
              "#f0f921"
             ]
            ],
            "type": "histogram2dcontour"
           }
          ],
          "mesh3d": [
           {
            "colorbar": {
             "outlinewidth": 0,
             "ticks": ""
            },
            "type": "mesh3d"
           }
          ],
          "parcoords": [
           {
            "line": {
             "colorbar": {
              "outlinewidth": 0,
              "ticks": ""
             }
            },
            "type": "parcoords"
           }
          ],
          "pie": [
           {
            "automargin": true,
            "type": "pie"
           }
          ],
          "scatter": [
           {
            "marker": {
             "line": {
              "color": "#283442"
             }
            },
            "type": "scatter"
           }
          ],
          "scatter3d": [
           {
            "line": {
             "colorbar": {
              "outlinewidth": 0,
              "ticks": ""
             }
            },
            "marker": {
             "colorbar": {
              "outlinewidth": 0,
              "ticks": ""
             }
            },
            "type": "scatter3d"
           }
          ],
          "scattercarpet": [
           {
            "marker": {
             "colorbar": {
              "outlinewidth": 0,
              "ticks": ""
             }
            },
            "type": "scattercarpet"
           }
          ],
          "scattergeo": [
           {
            "marker": {
             "colorbar": {
              "outlinewidth": 0,
              "ticks": ""
             }
            },
            "type": "scattergeo"
           }
          ],
          "scattergl": [
           {
            "marker": {
             "line": {
              "color": "#283442"
             }
            },
            "type": "scattergl"
           }
          ],
          "scattermapbox": [
           {
            "marker": {
             "colorbar": {
              "outlinewidth": 0,
              "ticks": ""
             }
            },
            "type": "scattermapbox"
           }
          ],
          "scatterpolar": [
           {
            "marker": {
             "colorbar": {
              "outlinewidth": 0,
              "ticks": ""
             }
            },
            "type": "scatterpolar"
           }
          ],
          "scatterpolargl": [
           {
            "marker": {
             "colorbar": {
              "outlinewidth": 0,
              "ticks": ""
             }
            },
            "type": "scatterpolargl"
           }
          ],
          "scatterternary": [
           {
            "marker": {
             "colorbar": {
              "outlinewidth": 0,
              "ticks": ""
             }
            },
            "type": "scatterternary"
           }
          ],
          "surface": [
           {
            "colorbar": {
             "outlinewidth": 0,
             "ticks": ""
            },
            "colorscale": [
             [
              0,
              "#0d0887"
             ],
             [
              0.1111111111111111,
              "#46039f"
             ],
             [
              0.2222222222222222,
              "#7201a8"
             ],
             [
              0.3333333333333333,
              "#9c179e"
             ],
             [
              0.4444444444444444,
              "#bd3786"
             ],
             [
              0.5555555555555556,
              "#d8576b"
             ],
             [
              0.6666666666666666,
              "#ed7953"
             ],
             [
              0.7777777777777778,
              "#fb9f3a"
             ],
             [
              0.8888888888888888,
              "#fdca26"
             ],
             [
              1,
              "#f0f921"
             ]
            ],
            "type": "surface"
           }
          ],
          "table": [
           {
            "cells": {
             "fill": {
              "color": "#506784"
             },
             "line": {
              "color": "rgb(17,17,17)"
             }
            },
            "header": {
             "fill": {
              "color": "#2a3f5f"
             },
             "line": {
              "color": "rgb(17,17,17)"
             }
            },
            "type": "table"
           }
          ]
         },
         "layout": {
          "annotationdefaults": {
           "arrowcolor": "#f2f5fa",
           "arrowhead": 0,
           "arrowwidth": 1
          },
          "autotypenumbers": "strict",
          "coloraxis": {
           "colorbar": {
            "outlinewidth": 0,
            "ticks": ""
           }
          },
          "colorscale": {
           "diverging": [
            [
             0,
             "#8e0152"
            ],
            [
             0.1,
             "#c51b7d"
            ],
            [
             0.2,
             "#de77ae"
            ],
            [
             0.3,
             "#f1b6da"
            ],
            [
             0.4,
             "#fde0ef"
            ],
            [
             0.5,
             "#f7f7f7"
            ],
            [
             0.6,
             "#e6f5d0"
            ],
            [
             0.7,
             "#b8e186"
            ],
            [
             0.8,
             "#7fbc41"
            ],
            [
             0.9,
             "#4d9221"
            ],
            [
             1,
             "#276419"
            ]
           ],
           "sequential": [
            [
             0,
             "#0d0887"
            ],
            [
             0.1111111111111111,
             "#46039f"
            ],
            [
             0.2222222222222222,
             "#7201a8"
            ],
            [
             0.3333333333333333,
             "#9c179e"
            ],
            [
             0.4444444444444444,
             "#bd3786"
            ],
            [
             0.5555555555555556,
             "#d8576b"
            ],
            [
             0.6666666666666666,
             "#ed7953"
            ],
            [
             0.7777777777777778,
             "#fb9f3a"
            ],
            [
             0.8888888888888888,
             "#fdca26"
            ],
            [
             1,
             "#f0f921"
            ]
           ],
           "sequentialminus": [
            [
             0,
             "#0d0887"
            ],
            [
             0.1111111111111111,
             "#46039f"
            ],
            [
             0.2222222222222222,
             "#7201a8"
            ],
            [
             0.3333333333333333,
             "#9c179e"
            ],
            [
             0.4444444444444444,
             "#bd3786"
            ],
            [
             0.5555555555555556,
             "#d8576b"
            ],
            [
             0.6666666666666666,
             "#ed7953"
            ],
            [
             0.7777777777777778,
             "#fb9f3a"
            ],
            [
             0.8888888888888888,
             "#fdca26"
            ],
            [
             1,
             "#f0f921"
            ]
           ]
          },
          "colorway": [
           "#636efa",
           "#EF553B",
           "#00cc96",
           "#ab63fa",
           "#FFA15A",
           "#19d3f3",
           "#FF6692",
           "#B6E880",
           "#FF97FF",
           "#FECB52"
          ],
          "font": {
           "color": "#f2f5fa"
          },
          "geo": {
           "bgcolor": "rgb(17,17,17)",
           "lakecolor": "rgb(17,17,17)",
           "landcolor": "rgb(17,17,17)",
           "showlakes": true,
           "showland": true,
           "subunitcolor": "#506784"
          },
          "hoverlabel": {
           "align": "left"
          },
          "hovermode": "closest",
          "mapbox": {
           "style": "dark"
          },
          "paper_bgcolor": "rgb(17,17,17)",
          "plot_bgcolor": "rgb(17,17,17)",
          "polar": {
           "angularaxis": {
            "gridcolor": "#506784",
            "linecolor": "#506784",
            "ticks": ""
           },
           "bgcolor": "rgb(17,17,17)",
           "radialaxis": {
            "gridcolor": "#506784",
            "linecolor": "#506784",
            "ticks": ""
           }
          },
          "scene": {
           "xaxis": {
            "backgroundcolor": "rgb(17,17,17)",
            "gridcolor": "#506784",
            "gridwidth": 2,
            "linecolor": "#506784",
            "showbackground": true,
            "ticks": "",
            "zerolinecolor": "#C8D4E3"
           },
           "yaxis": {
            "backgroundcolor": "rgb(17,17,17)",
            "gridcolor": "#506784",
            "gridwidth": 2,
            "linecolor": "#506784",
            "showbackground": true,
            "ticks": "",
            "zerolinecolor": "#C8D4E3"
           },
           "zaxis": {
            "backgroundcolor": "rgb(17,17,17)",
            "gridcolor": "#506784",
            "gridwidth": 2,
            "linecolor": "#506784",
            "showbackground": true,
            "ticks": "",
            "zerolinecolor": "#C8D4E3"
           }
          },
          "shapedefaults": {
           "line": {
            "color": "#f2f5fa"
           }
          },
          "sliderdefaults": {
           "bgcolor": "#C8D4E3",
           "bordercolor": "rgb(17,17,17)",
           "borderwidth": 1,
           "tickwidth": 0
          },
          "ternary": {
           "aaxis": {
            "gridcolor": "#506784",
            "linecolor": "#506784",
            "ticks": ""
           },
           "baxis": {
            "gridcolor": "#506784",
            "linecolor": "#506784",
            "ticks": ""
           },
           "bgcolor": "rgb(17,17,17)",
           "caxis": {
            "gridcolor": "#506784",
            "linecolor": "#506784",
            "ticks": ""
           }
          },
          "title": {
           "x": 0.05
          },
          "updatemenudefaults": {
           "bgcolor": "#506784",
           "borderwidth": 0
          },
          "xaxis": {
           "automargin": true,
           "gridcolor": "#283442",
           "linecolor": "#506784",
           "ticks": "",
           "title": {
            "standoff": 15
           },
           "zerolinecolor": "#283442",
           "zerolinewidth": 2
          },
          "yaxis": {
           "automargin": true,
           "gridcolor": "#283442",
           "linecolor": "#506784",
           "ticks": "",
           "title": {
            "standoff": 15
           },
           "zerolinecolor": "#283442",
           "zerolinewidth": 2
          }
         }
        },
        "title": {
         "text": "500 tasks 2 workers batch-size => 5 : fast  Plot for Latency Trends Over Time"
        },
        "xaxis": {
         "showgrid": true,
         "title": {
          "text": "Message ID"
         }
        },
        "yaxis": {
         "showgrid": true,
         "title": {
          "text": "Latency (seconds)"
         }
        }
       }
      }
     },
     "metadata": {},
     "output_type": "display_data"
    },
    {
     "name": "stdout",
     "output_type": "stream",
     "text": [
      "throughput => timestamp\n",
      "2024-12-31 11:25:30    10\n",
      "2024-12-31 11:25:40     0\n",
      "2024-12-31 11:25:50     0\n",
      "2024-12-31 11:26:00     0\n",
      "2024-12-31 11:26:10     0\n",
      "                       ..\n",
      "2024-12-31 12:05:50     0\n",
      "2024-12-31 12:06:00     0\n",
      "2024-12-31 12:06:10     0\n",
      "2024-12-31 12:06:20     0\n",
      "2024-12-31 12:06:30    10\n",
      "Freq: 10S, Length: 247, dtype: int64\n"
     ]
    },
    {
     "data": {
      "application/vnd.plotly.v1+json": {
       "config": {
        "plotlyServerURL": "https://plot.ly"
       },
       "data": [
        {
         "line": {
          "color": "green"
         },
         "marker": {
          "color": "green"
         },
         "mode": "lines+markers",
         "name": "Throughput",
         "type": "scatter",
         "x": [
          "2024-12-31T11:25:30",
          "2024-12-31T11:25:40",
          "2024-12-31T11:25:50",
          "2024-12-31T11:26:00",
          "2024-12-31T11:26:10",
          "2024-12-31T11:26:20",
          "2024-12-31T11:26:30",
          "2024-12-31T11:26:40",
          "2024-12-31T11:26:50",
          "2024-12-31T11:27:00",
          "2024-12-31T11:27:10",
          "2024-12-31T11:27:20",
          "2024-12-31T11:27:30",
          "2024-12-31T11:27:40",
          "2024-12-31T11:27:50",
          "2024-12-31T11:28:00",
          "2024-12-31T11:28:10",
          "2024-12-31T11:28:20",
          "2024-12-31T11:28:30",
          "2024-12-31T11:28:40",
          "2024-12-31T11:28:50",
          "2024-12-31T11:29:00",
          "2024-12-31T11:29:10",
          "2024-12-31T11:29:20",
          "2024-12-31T11:29:30",
          "2024-12-31T11:29:40",
          "2024-12-31T11:29:50",
          "2024-12-31T11:30:00",
          "2024-12-31T11:30:10",
          "2024-12-31T11:30:20",
          "2024-12-31T11:30:30",
          "2024-12-31T11:30:40",
          "2024-12-31T11:30:50",
          "2024-12-31T11:31:00",
          "2024-12-31T11:31:10",
          "2024-12-31T11:31:20",
          "2024-12-31T11:31:30",
          "2024-12-31T11:31:40",
          "2024-12-31T11:31:50",
          "2024-12-31T11:32:00",
          "2024-12-31T11:32:10",
          "2024-12-31T11:32:20",
          "2024-12-31T11:32:30",
          "2024-12-31T11:32:40",
          "2024-12-31T11:32:50",
          "2024-12-31T11:33:00",
          "2024-12-31T11:33:10",
          "2024-12-31T11:33:20",
          "2024-12-31T11:33:30",
          "2024-12-31T11:33:40",
          "2024-12-31T11:33:50",
          "2024-12-31T11:34:00",
          "2024-12-31T11:34:10",
          "2024-12-31T11:34:20",
          "2024-12-31T11:34:30",
          "2024-12-31T11:34:40",
          "2024-12-31T11:34:50",
          "2024-12-31T11:35:00",
          "2024-12-31T11:35:10",
          "2024-12-31T11:35:20",
          "2024-12-31T11:35:30",
          "2024-12-31T11:35:40",
          "2024-12-31T11:35:50",
          "2024-12-31T11:36:00",
          "2024-12-31T11:36:10",
          "2024-12-31T11:36:20",
          "2024-12-31T11:36:30",
          "2024-12-31T11:36:40",
          "2024-12-31T11:36:50",
          "2024-12-31T11:37:00",
          "2024-12-31T11:37:10",
          "2024-12-31T11:37:20",
          "2024-12-31T11:37:30",
          "2024-12-31T11:37:40",
          "2024-12-31T11:37:50",
          "2024-12-31T11:38:00",
          "2024-12-31T11:38:10",
          "2024-12-31T11:38:20",
          "2024-12-31T11:38:30",
          "2024-12-31T11:38:40",
          "2024-12-31T11:38:50",
          "2024-12-31T11:39:00",
          "2024-12-31T11:39:10",
          "2024-12-31T11:39:20",
          "2024-12-31T11:39:30",
          "2024-12-31T11:39:40",
          "2024-12-31T11:39:50",
          "2024-12-31T11:40:00",
          "2024-12-31T11:40:10",
          "2024-12-31T11:40:20",
          "2024-12-31T11:40:30",
          "2024-12-31T11:40:40",
          "2024-12-31T11:40:50",
          "2024-12-31T11:41:00",
          "2024-12-31T11:41:10",
          "2024-12-31T11:41:20",
          "2024-12-31T11:41:30",
          "2024-12-31T11:41:40",
          "2024-12-31T11:41:50",
          "2024-12-31T11:42:00",
          "2024-12-31T11:42:10",
          "2024-12-31T11:42:20",
          "2024-12-31T11:42:30",
          "2024-12-31T11:42:40",
          "2024-12-31T11:42:50",
          "2024-12-31T11:43:00",
          "2024-12-31T11:43:10",
          "2024-12-31T11:43:20",
          "2024-12-31T11:43:30",
          "2024-12-31T11:43:40",
          "2024-12-31T11:43:50",
          "2024-12-31T11:44:00",
          "2024-12-31T11:44:10",
          "2024-12-31T11:44:20",
          "2024-12-31T11:44:30",
          "2024-12-31T11:44:40",
          "2024-12-31T11:44:50",
          "2024-12-31T11:45:00",
          "2024-12-31T11:45:10",
          "2024-12-31T11:45:20",
          "2024-12-31T11:45:30",
          "2024-12-31T11:45:40",
          "2024-12-31T11:45:50",
          "2024-12-31T11:46:00",
          "2024-12-31T11:46:10",
          "2024-12-31T11:46:20",
          "2024-12-31T11:46:30",
          "2024-12-31T11:46:40",
          "2024-12-31T11:46:50",
          "2024-12-31T11:47:00",
          "2024-12-31T11:47:10",
          "2024-12-31T11:47:20",
          "2024-12-31T11:47:30",
          "2024-12-31T11:47:40",
          "2024-12-31T11:47:50",
          "2024-12-31T11:48:00",
          "2024-12-31T11:48:10",
          "2024-12-31T11:48:20",
          "2024-12-31T11:48:30",
          "2024-12-31T11:48:40",
          "2024-12-31T11:48:50",
          "2024-12-31T11:49:00",
          "2024-12-31T11:49:10",
          "2024-12-31T11:49:20",
          "2024-12-31T11:49:30",
          "2024-12-31T11:49:40",
          "2024-12-31T11:49:50",
          "2024-12-31T11:50:00",
          "2024-12-31T11:50:10",
          "2024-12-31T11:50:20",
          "2024-12-31T11:50:30",
          "2024-12-31T11:50:40",
          "2024-12-31T11:50:50",
          "2024-12-31T11:51:00",
          "2024-12-31T11:51:10",
          "2024-12-31T11:51:20",
          "2024-12-31T11:51:30",
          "2024-12-31T11:51:40",
          "2024-12-31T11:51:50",
          "2024-12-31T11:52:00",
          "2024-12-31T11:52:10",
          "2024-12-31T11:52:20",
          "2024-12-31T11:52:30",
          "2024-12-31T11:52:40",
          "2024-12-31T11:52:50",
          "2024-12-31T11:53:00",
          "2024-12-31T11:53:10",
          "2024-12-31T11:53:20",
          "2024-12-31T11:53:30",
          "2024-12-31T11:53:40",
          "2024-12-31T11:53:50",
          "2024-12-31T11:54:00",
          "2024-12-31T11:54:10",
          "2024-12-31T11:54:20",
          "2024-12-31T11:54:30",
          "2024-12-31T11:54:40",
          "2024-12-31T11:54:50",
          "2024-12-31T11:55:00",
          "2024-12-31T11:55:10",
          "2024-12-31T11:55:20",
          "2024-12-31T11:55:30",
          "2024-12-31T11:55:40",
          "2024-12-31T11:55:50",
          "2024-12-31T11:56:00",
          "2024-12-31T11:56:10",
          "2024-12-31T11:56:20",
          "2024-12-31T11:56:30",
          "2024-12-31T11:56:40",
          "2024-12-31T11:56:50",
          "2024-12-31T11:57:00",
          "2024-12-31T11:57:10",
          "2024-12-31T11:57:20",
          "2024-12-31T11:57:30",
          "2024-12-31T11:57:40",
          "2024-12-31T11:57:50",
          "2024-12-31T11:58:00",
          "2024-12-31T11:58:10",
          "2024-12-31T11:58:20",
          "2024-12-31T11:58:30",
          "2024-12-31T11:58:40",
          "2024-12-31T11:58:50",
          "2024-12-31T11:59:00",
          "2024-12-31T11:59:10",
          "2024-12-31T11:59:20",
          "2024-12-31T11:59:30",
          "2024-12-31T11:59:40",
          "2024-12-31T11:59:50",
          "2024-12-31T12:00:00",
          "2024-12-31T12:00:10",
          "2024-12-31T12:00:20",
          "2024-12-31T12:00:30",
          "2024-12-31T12:00:40",
          "2024-12-31T12:00:50",
          "2024-12-31T12:01:00",
          "2024-12-31T12:01:10",
          "2024-12-31T12:01:20",
          "2024-12-31T12:01:30",
          "2024-12-31T12:01:40",
          "2024-12-31T12:01:50",
          "2024-12-31T12:02:00",
          "2024-12-31T12:02:10",
          "2024-12-31T12:02:20",
          "2024-12-31T12:02:30",
          "2024-12-31T12:02:40",
          "2024-12-31T12:02:50",
          "2024-12-31T12:03:00",
          "2024-12-31T12:03:10",
          "2024-12-31T12:03:20",
          "2024-12-31T12:03:30",
          "2024-12-31T12:03:40",
          "2024-12-31T12:03:50",
          "2024-12-31T12:04:00",
          "2024-12-31T12:04:10",
          "2024-12-31T12:04:20",
          "2024-12-31T12:04:30",
          "2024-12-31T12:04:40",
          "2024-12-31T12:04:50",
          "2024-12-31T12:05:00",
          "2024-12-31T12:05:10",
          "2024-12-31T12:05:20",
          "2024-12-31T12:05:30",
          "2024-12-31T12:05:40",
          "2024-12-31T12:05:50",
          "2024-12-31T12:06:00",
          "2024-12-31T12:06:10",
          "2024-12-31T12:06:20",
          "2024-12-31T12:06:30"
         ],
         "y": [
          10,
          0,
          0,
          0,
          0,
          10,
          0,
          0,
          0,
          0,
          10,
          0,
          0,
          0,
          0,
          10,
          0,
          0,
          0,
          0,
          10,
          0,
          0,
          0,
          0,
          10,
          0,
          0,
          0,
          0,
          10,
          0,
          0,
          0,
          0,
          10,
          0,
          0,
          0,
          0,
          10,
          0,
          0,
          0,
          0,
          10,
          0,
          0,
          0,
          0,
          10,
          0,
          0,
          0,
          0,
          10,
          0,
          0,
          0,
          0,
          10,
          0,
          0,
          0,
          0,
          10,
          0,
          0,
          0,
          0,
          10,
          0,
          0,
          0,
          0,
          5,
          5,
          0,
          0,
          0,
          5,
          5,
          0,
          0,
          0,
          5,
          5,
          0,
          0,
          0,
          5,
          5,
          0,
          0,
          0,
          5,
          5,
          0,
          0,
          0,
          0,
          10,
          0,
          0,
          0,
          0,
          10,
          0,
          0,
          0,
          0,
          10,
          0,
          0,
          0,
          0,
          10,
          0,
          0,
          0,
          0,
          10,
          0,
          0,
          0,
          0,
          10,
          0,
          0,
          0,
          0,
          10,
          0,
          0,
          0,
          0,
          10,
          0,
          0,
          0,
          0,
          10,
          0,
          0,
          0,
          0,
          10,
          0,
          0,
          0,
          0,
          10,
          0,
          0,
          0,
          0,
          10,
          0,
          0,
          0,
          0,
          10,
          0,
          0,
          0,
          0,
          10,
          0,
          0,
          0,
          0,
          10,
          0,
          0,
          0,
          0,
          10,
          0,
          0,
          0,
          0,
          10,
          0,
          0,
          0,
          0,
          10,
          0,
          0,
          0,
          0,
          10,
          0,
          0,
          0,
          0,
          10,
          0,
          0,
          0,
          0,
          10,
          0,
          0,
          0,
          0,
          10,
          0,
          0,
          0,
          0,
          10,
          0,
          0,
          0,
          0,
          10,
          0,
          0,
          0,
          0,
          10,
          0,
          0,
          0,
          0,
          10,
          0,
          0,
          0,
          0,
          10,
          0,
          0,
          0,
          0,
          10,
          0,
          0,
          0,
          0,
          10,
          0,
          0,
          0,
          0,
          10
         ]
        }
       ],
       "layout": {
        "legend": {
         "title": {
          "text": "Legend"
         }
        },
        "template": {
         "data": {
          "bar": [
           {
            "error_x": {
             "color": "#f2f5fa"
            },
            "error_y": {
             "color": "#f2f5fa"
            },
            "marker": {
             "line": {
              "color": "rgb(17,17,17)",
              "width": 0.5
             },
             "pattern": {
              "fillmode": "overlay",
              "size": 10,
              "solidity": 0.2
             }
            },
            "type": "bar"
           }
          ],
          "barpolar": [
           {
            "marker": {
             "line": {
              "color": "rgb(17,17,17)",
              "width": 0.5
             },
             "pattern": {
              "fillmode": "overlay",
              "size": 10,
              "solidity": 0.2
             }
            },
            "type": "barpolar"
           }
          ],
          "carpet": [
           {
            "aaxis": {
             "endlinecolor": "#A2B1C6",
             "gridcolor": "#506784",
             "linecolor": "#506784",
             "minorgridcolor": "#506784",
             "startlinecolor": "#A2B1C6"
            },
            "baxis": {
             "endlinecolor": "#A2B1C6",
             "gridcolor": "#506784",
             "linecolor": "#506784",
             "minorgridcolor": "#506784",
             "startlinecolor": "#A2B1C6"
            },
            "type": "carpet"
           }
          ],
          "choropleth": [
           {
            "colorbar": {
             "outlinewidth": 0,
             "ticks": ""
            },
            "type": "choropleth"
           }
          ],
          "contour": [
           {
            "colorbar": {
             "outlinewidth": 0,
             "ticks": ""
            },
            "colorscale": [
             [
              0,
              "#0d0887"
             ],
             [
              0.1111111111111111,
              "#46039f"
             ],
             [
              0.2222222222222222,
              "#7201a8"
             ],
             [
              0.3333333333333333,
              "#9c179e"
             ],
             [
              0.4444444444444444,
              "#bd3786"
             ],
             [
              0.5555555555555556,
              "#d8576b"
             ],
             [
              0.6666666666666666,
              "#ed7953"
             ],
             [
              0.7777777777777778,
              "#fb9f3a"
             ],
             [
              0.8888888888888888,
              "#fdca26"
             ],
             [
              1,
              "#f0f921"
             ]
            ],
            "type": "contour"
           }
          ],
          "contourcarpet": [
           {
            "colorbar": {
             "outlinewidth": 0,
             "ticks": ""
            },
            "type": "contourcarpet"
           }
          ],
          "heatmap": [
           {
            "colorbar": {
             "outlinewidth": 0,
             "ticks": ""
            },
            "colorscale": [
             [
              0,
              "#0d0887"
             ],
             [
              0.1111111111111111,
              "#46039f"
             ],
             [
              0.2222222222222222,
              "#7201a8"
             ],
             [
              0.3333333333333333,
              "#9c179e"
             ],
             [
              0.4444444444444444,
              "#bd3786"
             ],
             [
              0.5555555555555556,
              "#d8576b"
             ],
             [
              0.6666666666666666,
              "#ed7953"
             ],
             [
              0.7777777777777778,
              "#fb9f3a"
             ],
             [
              0.8888888888888888,
              "#fdca26"
             ],
             [
              1,
              "#f0f921"
             ]
            ],
            "type": "heatmap"
           }
          ],
          "heatmapgl": [
           {
            "colorbar": {
             "outlinewidth": 0,
             "ticks": ""
            },
            "colorscale": [
             [
              0,
              "#0d0887"
             ],
             [
              0.1111111111111111,
              "#46039f"
             ],
             [
              0.2222222222222222,
              "#7201a8"
             ],
             [
              0.3333333333333333,
              "#9c179e"
             ],
             [
              0.4444444444444444,
              "#bd3786"
             ],
             [
              0.5555555555555556,
              "#d8576b"
             ],
             [
              0.6666666666666666,
              "#ed7953"
             ],
             [
              0.7777777777777778,
              "#fb9f3a"
             ],
             [
              0.8888888888888888,
              "#fdca26"
             ],
             [
              1,
              "#f0f921"
             ]
            ],
            "type": "heatmapgl"
           }
          ],
          "histogram": [
           {
            "marker": {
             "pattern": {
              "fillmode": "overlay",
              "size": 10,
              "solidity": 0.2
             }
            },
            "type": "histogram"
           }
          ],
          "histogram2d": [
           {
            "colorbar": {
             "outlinewidth": 0,
             "ticks": ""
            },
            "colorscale": [
             [
              0,
              "#0d0887"
             ],
             [
              0.1111111111111111,
              "#46039f"
             ],
             [
              0.2222222222222222,
              "#7201a8"
             ],
             [
              0.3333333333333333,
              "#9c179e"
             ],
             [
              0.4444444444444444,
              "#bd3786"
             ],
             [
              0.5555555555555556,
              "#d8576b"
             ],
             [
              0.6666666666666666,
              "#ed7953"
             ],
             [
              0.7777777777777778,
              "#fb9f3a"
             ],
             [
              0.8888888888888888,
              "#fdca26"
             ],
             [
              1,
              "#f0f921"
             ]
            ],
            "type": "histogram2d"
           }
          ],
          "histogram2dcontour": [
           {
            "colorbar": {
             "outlinewidth": 0,
             "ticks": ""
            },
            "colorscale": [
             [
              0,
              "#0d0887"
             ],
             [
              0.1111111111111111,
              "#46039f"
             ],
             [
              0.2222222222222222,
              "#7201a8"
             ],
             [
              0.3333333333333333,
              "#9c179e"
             ],
             [
              0.4444444444444444,
              "#bd3786"
             ],
             [
              0.5555555555555556,
              "#d8576b"
             ],
             [
              0.6666666666666666,
              "#ed7953"
             ],
             [
              0.7777777777777778,
              "#fb9f3a"
             ],
             [
              0.8888888888888888,
              "#fdca26"
             ],
             [
              1,
              "#f0f921"
             ]
            ],
            "type": "histogram2dcontour"
           }
          ],
          "mesh3d": [
           {
            "colorbar": {
             "outlinewidth": 0,
             "ticks": ""
            },
            "type": "mesh3d"
           }
          ],
          "parcoords": [
           {
            "line": {
             "colorbar": {
              "outlinewidth": 0,
              "ticks": ""
             }
            },
            "type": "parcoords"
           }
          ],
          "pie": [
           {
            "automargin": true,
            "type": "pie"
           }
          ],
          "scatter": [
           {
            "marker": {
             "line": {
              "color": "#283442"
             }
            },
            "type": "scatter"
           }
          ],
          "scatter3d": [
           {
            "line": {
             "colorbar": {
              "outlinewidth": 0,
              "ticks": ""
             }
            },
            "marker": {
             "colorbar": {
              "outlinewidth": 0,
              "ticks": ""
             }
            },
            "type": "scatter3d"
           }
          ],
          "scattercarpet": [
           {
            "marker": {
             "colorbar": {
              "outlinewidth": 0,
              "ticks": ""
             }
            },
            "type": "scattercarpet"
           }
          ],
          "scattergeo": [
           {
            "marker": {
             "colorbar": {
              "outlinewidth": 0,
              "ticks": ""
             }
            },
            "type": "scattergeo"
           }
          ],
          "scattergl": [
           {
            "marker": {
             "line": {
              "color": "#283442"
             }
            },
            "type": "scattergl"
           }
          ],
          "scattermapbox": [
           {
            "marker": {
             "colorbar": {
              "outlinewidth": 0,
              "ticks": ""
             }
            },
            "type": "scattermapbox"
           }
          ],
          "scatterpolar": [
           {
            "marker": {
             "colorbar": {
              "outlinewidth": 0,
              "ticks": ""
             }
            },
            "type": "scatterpolar"
           }
          ],
          "scatterpolargl": [
           {
            "marker": {
             "colorbar": {
              "outlinewidth": 0,
              "ticks": ""
             }
            },
            "type": "scatterpolargl"
           }
          ],
          "scatterternary": [
           {
            "marker": {
             "colorbar": {
              "outlinewidth": 0,
              "ticks": ""
             }
            },
            "type": "scatterternary"
           }
          ],
          "surface": [
           {
            "colorbar": {
             "outlinewidth": 0,
             "ticks": ""
            },
            "colorscale": [
             [
              0,
              "#0d0887"
             ],
             [
              0.1111111111111111,
              "#46039f"
             ],
             [
              0.2222222222222222,
              "#7201a8"
             ],
             [
              0.3333333333333333,
              "#9c179e"
             ],
             [
              0.4444444444444444,
              "#bd3786"
             ],
             [
              0.5555555555555556,
              "#d8576b"
             ],
             [
              0.6666666666666666,
              "#ed7953"
             ],
             [
              0.7777777777777778,
              "#fb9f3a"
             ],
             [
              0.8888888888888888,
              "#fdca26"
             ],
             [
              1,
              "#f0f921"
             ]
            ],
            "type": "surface"
           }
          ],
          "table": [
           {
            "cells": {
             "fill": {
              "color": "#506784"
             },
             "line": {
              "color": "rgb(17,17,17)"
             }
            },
            "header": {
             "fill": {
              "color": "#2a3f5f"
             },
             "line": {
              "color": "rgb(17,17,17)"
             }
            },
            "type": "table"
           }
          ]
         },
         "layout": {
          "annotationdefaults": {
           "arrowcolor": "#f2f5fa",
           "arrowhead": 0,
           "arrowwidth": 1
          },
          "autotypenumbers": "strict",
          "coloraxis": {
           "colorbar": {
            "outlinewidth": 0,
            "ticks": ""
           }
          },
          "colorscale": {
           "diverging": [
            [
             0,
             "#8e0152"
            ],
            [
             0.1,
             "#c51b7d"
            ],
            [
             0.2,
             "#de77ae"
            ],
            [
             0.3,
             "#f1b6da"
            ],
            [
             0.4,
             "#fde0ef"
            ],
            [
             0.5,
             "#f7f7f7"
            ],
            [
             0.6,
             "#e6f5d0"
            ],
            [
             0.7,
             "#b8e186"
            ],
            [
             0.8,
             "#7fbc41"
            ],
            [
             0.9,
             "#4d9221"
            ],
            [
             1,
             "#276419"
            ]
           ],
           "sequential": [
            [
             0,
             "#0d0887"
            ],
            [
             0.1111111111111111,
             "#46039f"
            ],
            [
             0.2222222222222222,
             "#7201a8"
            ],
            [
             0.3333333333333333,
             "#9c179e"
            ],
            [
             0.4444444444444444,
             "#bd3786"
            ],
            [
             0.5555555555555556,
             "#d8576b"
            ],
            [
             0.6666666666666666,
             "#ed7953"
            ],
            [
             0.7777777777777778,
             "#fb9f3a"
            ],
            [
             0.8888888888888888,
             "#fdca26"
            ],
            [
             1,
             "#f0f921"
            ]
           ],
           "sequentialminus": [
            [
             0,
             "#0d0887"
            ],
            [
             0.1111111111111111,
             "#46039f"
            ],
            [
             0.2222222222222222,
             "#7201a8"
            ],
            [
             0.3333333333333333,
             "#9c179e"
            ],
            [
             0.4444444444444444,
             "#bd3786"
            ],
            [
             0.5555555555555556,
             "#d8576b"
            ],
            [
             0.6666666666666666,
             "#ed7953"
            ],
            [
             0.7777777777777778,
             "#fb9f3a"
            ],
            [
             0.8888888888888888,
             "#fdca26"
            ],
            [
             1,
             "#f0f921"
            ]
           ]
          },
          "colorway": [
           "#636efa",
           "#EF553B",
           "#00cc96",
           "#ab63fa",
           "#FFA15A",
           "#19d3f3",
           "#FF6692",
           "#B6E880",
           "#FF97FF",
           "#FECB52"
          ],
          "font": {
           "color": "#f2f5fa"
          },
          "geo": {
           "bgcolor": "rgb(17,17,17)",
           "lakecolor": "rgb(17,17,17)",
           "landcolor": "rgb(17,17,17)",
           "showlakes": true,
           "showland": true,
           "subunitcolor": "#506784"
          },
          "hoverlabel": {
           "align": "left"
          },
          "hovermode": "closest",
          "mapbox": {
           "style": "dark"
          },
          "paper_bgcolor": "rgb(17,17,17)",
          "plot_bgcolor": "rgb(17,17,17)",
          "polar": {
           "angularaxis": {
            "gridcolor": "#506784",
            "linecolor": "#506784",
            "ticks": ""
           },
           "bgcolor": "rgb(17,17,17)",
           "radialaxis": {
            "gridcolor": "#506784",
            "linecolor": "#506784",
            "ticks": ""
           }
          },
          "scene": {
           "xaxis": {
            "backgroundcolor": "rgb(17,17,17)",
            "gridcolor": "#506784",
            "gridwidth": 2,
            "linecolor": "#506784",
            "showbackground": true,
            "ticks": "",
            "zerolinecolor": "#C8D4E3"
           },
           "yaxis": {
            "backgroundcolor": "rgb(17,17,17)",
            "gridcolor": "#506784",
            "gridwidth": 2,
            "linecolor": "#506784",
            "showbackground": true,
            "ticks": "",
            "zerolinecolor": "#C8D4E3"
           },
           "zaxis": {
            "backgroundcolor": "rgb(17,17,17)",
            "gridcolor": "#506784",
            "gridwidth": 2,
            "linecolor": "#506784",
            "showbackground": true,
            "ticks": "",
            "zerolinecolor": "#C8D4E3"
           }
          },
          "shapedefaults": {
           "line": {
            "color": "#f2f5fa"
           }
          },
          "sliderdefaults": {
           "bgcolor": "#C8D4E3",
           "bordercolor": "rgb(17,17,17)",
           "borderwidth": 1,
           "tickwidth": 0
          },
          "ternary": {
           "aaxis": {
            "gridcolor": "#506784",
            "linecolor": "#506784",
            "ticks": ""
           },
           "baxis": {
            "gridcolor": "#506784",
            "linecolor": "#506784",
            "ticks": ""
           },
           "bgcolor": "rgb(17,17,17)",
           "caxis": {
            "gridcolor": "#506784",
            "linecolor": "#506784",
            "ticks": ""
           }
          },
          "title": {
           "x": 0.05
          },
          "updatemenudefaults": {
           "bgcolor": "#506784",
           "borderwidth": 0
          },
          "xaxis": {
           "automargin": true,
           "gridcolor": "#283442",
           "linecolor": "#506784",
           "ticks": "",
           "title": {
            "standoff": 15
           },
           "zerolinecolor": "#283442",
           "zerolinewidth": 2
          },
          "yaxis": {
           "automargin": true,
           "gridcolor": "#283442",
           "linecolor": "#506784",
           "ticks": "",
           "title": {
            "standoff": 15
           },
           "zerolinecolor": "#283442",
           "zerolinewidth": 2
          }
         }
        },
        "title": {
         "text": "500 tasks 2 workers batch-size => 5 : fast  Plot for Throughput Trends Over Time"
        },
        "xaxis": {
         "showgrid": true,
         "title": {
          "text": "Time"
         }
        },
        "yaxis": {
         "showgrid": true,
         "title": {
          "text": "Tasks Completed (Throughput)"
         }
        }
       }
      }
     },
     "metadata": {},
     "output_type": "display_data"
    },
    {
     "data": {
      "application/vnd.plotly.v1+json": {
       "config": {
        "plotlyServerURL": "https://plot.ly"
       },
       "data": [
        {
         "hovertemplate": "state=pending<br>Time=%{x}<br>message_id=%{y}<extra></extra>",
         "legendgroup": "pending",
         "line": {
          "color": "#636efa",
          "dash": "solid"
         },
         "marker": {
          "symbol": "circle"
         },
         "mode": "lines+markers",
         "name": "pending",
         "orientation": "v",
         "showlegend": true,
         "type": "scatter",
         "x": [
          "2024-12-31T08:06:20.670449",
          "2024-12-31T08:06:20.951665",
          "2024-12-31T08:06:20.976843",
          "2024-12-31T08:06:20.998337",
          "2024-12-31T08:06:21.009299",
          "2024-12-31T08:06:21.049593",
          "2024-12-31T08:06:21.056450",
          "2024-12-31T08:06:21.068106",
          "2024-12-31T08:06:21.075479",
          "2024-12-31T08:06:21.142567",
          "2024-12-31T08:06:21.206760",
          "2024-12-31T08:06:21.233347",
          "2024-12-31T08:06:21.247961",
          "2024-12-31T08:06:21.317426",
          "2024-12-31T08:06:21.337411",
          "2024-12-31T08:06:21.343753",
          "2024-12-31T08:06:21.358930",
          "2024-12-31T08:06:21.392283",
          "2024-12-31T08:06:21.439753",
          "2024-12-31T08:06:21.441526",
          "2024-12-31T08:06:21.519692",
          "2024-12-31T08:06:21.611950",
          "2024-12-31T08:06:21.671809",
          "2024-12-31T08:06:21.675369",
          "2024-12-31T08:06:21.690415",
          "2024-12-31T08:06:21.812936",
          "2024-12-31T08:06:21.832020",
          "2024-12-31T08:06:21.897457",
          "2024-12-31T08:06:25.497609",
          "2024-12-31T08:06:25.902375",
          "2024-12-31T08:06:25.977595",
          "2024-12-31T08:06:26.050182",
          "2024-12-31T08:06:26.094852",
          "2024-12-31T08:06:26.101732",
          "2024-12-31T08:06:26.116786",
          "2024-12-31T08:06:26.118556",
          "2024-12-31T08:06:26.140605",
          "2024-12-31T08:06:26.193921",
          "2024-12-31T08:06:26.201586",
          "2024-12-31T08:06:26.203477",
          "2024-12-31T08:06:26.260002",
          "2024-12-31T08:06:26.340629",
          "2024-12-31T08:06:26.370350",
          "2024-12-31T08:06:26.401222",
          "2024-12-31T08:06:26.413928",
          "2024-12-31T08:06:26.415010",
          "2024-12-31T08:06:26.483216",
          "2024-12-31T08:06:26.518085",
          "2024-12-31T08:06:26.537179",
          "2024-12-31T08:06:26.560227"
         ],
         "xaxis": "x",
         "y": [
          1,
          2,
          3,
          4,
          5,
          6,
          7,
          8,
          9,
          10,
          11,
          12,
          13,
          14,
          15,
          16,
          17,
          18,
          19,
          20,
          21,
          22,
          23,
          24,
          25,
          26,
          27,
          28,
          29,
          30,
          31,
          32,
          33,
          34,
          35,
          36,
          37,
          38,
          39,
          40,
          41,
          42,
          43,
          44,
          45,
          46,
          47,
          48,
          49,
          50
         ],
         "yaxis": "y"
        },
        {
         "hovertemplate": "state=active<br>Time=%{x}<br>message_id=%{y}<extra></extra>",
         "legendgroup": "active",
         "line": {
          "color": "#EF553B",
          "dash": "solid"
         },
         "marker": {
          "symbol": "circle"
         },
         "mode": "lines+markers",
         "name": "active",
         "orientation": "v",
         "showlegend": true,
         "type": "scatter",
         "x": [
          "2024-12-31T08:06:21.629747",
          "2024-12-31T08:06:21.629747",
          "2024-12-31T08:06:21.629747",
          "2024-12-31T08:06:21.629747",
          "2024-12-31T08:06:21.629747",
          "2024-12-31T08:06:22.331052",
          "2024-12-31T08:06:22.331052",
          "2024-12-31T08:06:22.331052",
          "2024-12-31T08:06:22.331052",
          "2024-12-31T08:06:22.331052",
          "2024-12-31T08:06:22.733488",
          "2024-12-31T08:06:22.733488",
          "2024-12-31T08:06:22.733488",
          "2024-12-31T08:06:22.733488",
          "2024-12-31T08:06:22.733488",
          "2024-12-31T08:06:25.359009",
          "2024-12-31T08:06:25.359009",
          "2024-12-31T08:06:25.359009",
          "2024-12-31T08:06:25.359009",
          "2024-12-31T08:06:25.359009",
          "2024-12-31T08:07:11.844840",
          "2024-12-31T08:07:11.844840",
          "2024-12-31T08:07:11.844840",
          "2024-12-31T08:07:11.844840",
          "2024-12-31T08:07:11.844840",
          "2024-12-31T08:07:12.549415",
          "2024-12-31T08:07:12.549415",
          "2024-12-31T08:07:12.549415",
          "2024-12-31T08:07:12.549415",
          "2024-12-31T08:07:12.549415",
          "2024-12-31T08:07:12.948844",
          "2024-12-31T08:07:12.948844",
          "2024-12-31T08:07:12.948844",
          "2024-12-31T08:07:12.948844",
          "2024-12-31T08:07:12.948844",
          "2024-12-31T08:07:15.575502",
          "2024-12-31T08:07:15.575502",
          "2024-12-31T08:07:15.575502",
          "2024-12-31T08:07:15.575502",
          "2024-12-31T08:07:15.575502",
          "2024-12-31T08:08:02.162549",
          "2024-12-31T08:08:02.162549",
          "2024-12-31T08:08:02.162549",
          "2024-12-31T08:08:02.162549",
          "2024-12-31T08:08:02.162549",
          "2024-12-31T08:08:02.845758",
          "2024-12-31T08:08:02.845758",
          "2024-12-31T08:08:02.845758",
          "2024-12-31T08:08:02.845758",
          "2024-12-31T08:08:02.845758"
         ],
         "xaxis": "x",
         "y": [
          4,
          3,
          5,
          1,
          2,
          10,
          8,
          9,
          7,
          6,
          11,
          12,
          13,
          14,
          15,
          20,
          19,
          17,
          16,
          18,
          21,
          22,
          23,
          24,
          25,
          26,
          27,
          28,
          29,
          30,
          31,
          32,
          33,
          34,
          35,
          36,
          37,
          38,
          39,
          40,
          41,
          42,
          43,
          44,
          45,
          46,
          47,
          48,
          49,
          50
         ],
         "yaxis": "y"
        },
        {
         "hovertemplate": "state=completed<br>Time=%{x}<br>message_id=%{y}<extra></extra>",
         "legendgroup": "completed",
         "line": {
          "color": "#00cc96",
          "dash": "solid"
         },
         "marker": {
          "symbol": "circle"
         },
         "mode": "lines+markers",
         "name": "completed",
         "orientation": "v",
         "showlegend": true,
         "type": "scatter",
         "x": [
          "2024-12-31T08:07:11.814600",
          "2024-12-31T08:07:11.814817",
          "2024-12-31T08:07:11.815031",
          "2024-12-31T08:07:11.815236",
          "2024-12-31T08:07:11.815435",
          "2024-12-31T08:07:12.519214",
          "2024-12-31T08:07:12.519432",
          "2024-12-31T08:07:12.519631",
          "2024-12-31T08:07:12.519824",
          "2024-12-31T08:07:12.520052",
          "2024-12-31T08:07:12.915950",
          "2024-12-31T08:07:12.916173",
          "2024-12-31T08:07:12.916374",
          "2024-12-31T08:07:12.916571",
          "2024-12-31T08:07:12.916764",
          "2024-12-31T08:07:15.545433",
          "2024-12-31T08:07:15.545659",
          "2024-12-31T08:07:15.545863",
          "2024-12-31T08:07:15.546057",
          "2024-12-31T08:07:15.546274",
          "2024-12-31T08:08:02.134331",
          "2024-12-31T08:08:02.134558",
          "2024-12-31T08:08:02.134755",
          "2024-12-31T08:08:02.134950",
          "2024-12-31T08:08:02.135149",
          "2024-12-31T08:08:02.813923",
          "2024-12-31T08:08:02.814148",
          "2024-12-31T08:08:02.814358",
          "2024-12-31T08:08:02.814567",
          "2024-12-31T08:08:02.814770",
          "2024-12-31T08:08:03.190415",
          "2024-12-31T08:08:03.190653",
          "2024-12-31T08:08:03.190854",
          "2024-12-31T08:08:03.191104",
          "2024-12-31T08:08:03.191317",
          "2024-12-31T08:08:05.973845",
          "2024-12-31T08:08:05.974066",
          "2024-12-31T08:08:05.974266",
          "2024-12-31T08:08:05.974708",
          "2024-12-31T08:08:05.974948",
          "2024-12-31T08:08:52.377125",
          "2024-12-31T08:08:52.377340",
          "2024-12-31T08:08:52.377538",
          "2024-12-31T08:08:52.377744",
          "2024-12-31T08:08:52.377934",
          "2024-12-31T08:08:53.054960",
          "2024-12-31T08:08:53.055214",
          "2024-12-31T08:08:53.055443",
          "2024-12-31T08:08:53.055638",
          "2024-12-31T08:08:53.055938"
         ],
         "xaxis": "x",
         "y": [
          1,
          2,
          3,
          4,
          5,
          6,
          7,
          8,
          9,
          10,
          11,
          12,
          13,
          14,
          15,
          16,
          17,
          18,
          19,
          20,
          21,
          22,
          23,
          24,
          25,
          26,
          27,
          28,
          29,
          30,
          31,
          32,
          33,
          34,
          35,
          36,
          37,
          38,
          39,
          40,
          41,
          42,
          43,
          44,
          45,
          46,
          47,
          48,
          49,
          50
         ],
         "yaxis": "y"
        }
       ],
       "layout": {
        "hovermode": "closest",
        "legend": {
         "title": {
          "text": "state"
         },
         "tracegroupgap": 0
        },
        "margin": {
         "b": 40,
         "l": 40,
         "r": 40,
         "t": 40
        },
        "template": {
         "data": {
          "bar": [
           {
            "error_x": {
             "color": "#f2f5fa"
            },
            "error_y": {
             "color": "#f2f5fa"
            },
            "marker": {
             "line": {
              "color": "rgb(17,17,17)",
              "width": 0.5
             },
             "pattern": {
              "fillmode": "overlay",
              "size": 10,
              "solidity": 0.2
             }
            },
            "type": "bar"
           }
          ],
          "barpolar": [
           {
            "marker": {
             "line": {
              "color": "rgb(17,17,17)",
              "width": 0.5
             },
             "pattern": {
              "fillmode": "overlay",
              "size": 10,
              "solidity": 0.2
             }
            },
            "type": "barpolar"
           }
          ],
          "carpet": [
           {
            "aaxis": {
             "endlinecolor": "#A2B1C6",
             "gridcolor": "#506784",
             "linecolor": "#506784",
             "minorgridcolor": "#506784",
             "startlinecolor": "#A2B1C6"
            },
            "baxis": {
             "endlinecolor": "#A2B1C6",
             "gridcolor": "#506784",
             "linecolor": "#506784",
             "minorgridcolor": "#506784",
             "startlinecolor": "#A2B1C6"
            },
            "type": "carpet"
           }
          ],
          "choropleth": [
           {
            "colorbar": {
             "outlinewidth": 0,
             "ticks": ""
            },
            "type": "choropleth"
           }
          ],
          "contour": [
           {
            "colorbar": {
             "outlinewidth": 0,
             "ticks": ""
            },
            "colorscale": [
             [
              0,
              "#0d0887"
             ],
             [
              0.1111111111111111,
              "#46039f"
             ],
             [
              0.2222222222222222,
              "#7201a8"
             ],
             [
              0.3333333333333333,
              "#9c179e"
             ],
             [
              0.4444444444444444,
              "#bd3786"
             ],
             [
              0.5555555555555556,
              "#d8576b"
             ],
             [
              0.6666666666666666,
              "#ed7953"
             ],
             [
              0.7777777777777778,
              "#fb9f3a"
             ],
             [
              0.8888888888888888,
              "#fdca26"
             ],
             [
              1,
              "#f0f921"
             ]
            ],
            "type": "contour"
           }
          ],
          "contourcarpet": [
           {
            "colorbar": {
             "outlinewidth": 0,
             "ticks": ""
            },
            "type": "contourcarpet"
           }
          ],
          "heatmap": [
           {
            "colorbar": {
             "outlinewidth": 0,
             "ticks": ""
            },
            "colorscale": [
             [
              0,
              "#0d0887"
             ],
             [
              0.1111111111111111,
              "#46039f"
             ],
             [
              0.2222222222222222,
              "#7201a8"
             ],
             [
              0.3333333333333333,
              "#9c179e"
             ],
             [
              0.4444444444444444,
              "#bd3786"
             ],
             [
              0.5555555555555556,
              "#d8576b"
             ],
             [
              0.6666666666666666,
              "#ed7953"
             ],
             [
              0.7777777777777778,
              "#fb9f3a"
             ],
             [
              0.8888888888888888,
              "#fdca26"
             ],
             [
              1,
              "#f0f921"
             ]
            ],
            "type": "heatmap"
           }
          ],
          "heatmapgl": [
           {
            "colorbar": {
             "outlinewidth": 0,
             "ticks": ""
            },
            "colorscale": [
             [
              0,
              "#0d0887"
             ],
             [
              0.1111111111111111,
              "#46039f"
             ],
             [
              0.2222222222222222,
              "#7201a8"
             ],
             [
              0.3333333333333333,
              "#9c179e"
             ],
             [
              0.4444444444444444,
              "#bd3786"
             ],
             [
              0.5555555555555556,
              "#d8576b"
             ],
             [
              0.6666666666666666,
              "#ed7953"
             ],
             [
              0.7777777777777778,
              "#fb9f3a"
             ],
             [
              0.8888888888888888,
              "#fdca26"
             ],
             [
              1,
              "#f0f921"
             ]
            ],
            "type": "heatmapgl"
           }
          ],
          "histogram": [
           {
            "marker": {
             "pattern": {
              "fillmode": "overlay",
              "size": 10,
              "solidity": 0.2
             }
            },
            "type": "histogram"
           }
          ],
          "histogram2d": [
           {
            "colorbar": {
             "outlinewidth": 0,
             "ticks": ""
            },
            "colorscale": [
             [
              0,
              "#0d0887"
             ],
             [
              0.1111111111111111,
              "#46039f"
             ],
             [
              0.2222222222222222,
              "#7201a8"
             ],
             [
              0.3333333333333333,
              "#9c179e"
             ],
             [
              0.4444444444444444,
              "#bd3786"
             ],
             [
              0.5555555555555556,
              "#d8576b"
             ],
             [
              0.6666666666666666,
              "#ed7953"
             ],
             [
              0.7777777777777778,
              "#fb9f3a"
             ],
             [
              0.8888888888888888,
              "#fdca26"
             ],
             [
              1,
              "#f0f921"
             ]
            ],
            "type": "histogram2d"
           }
          ],
          "histogram2dcontour": [
           {
            "colorbar": {
             "outlinewidth": 0,
             "ticks": ""
            },
            "colorscale": [
             [
              0,
              "#0d0887"
             ],
             [
              0.1111111111111111,
              "#46039f"
             ],
             [
              0.2222222222222222,
              "#7201a8"
             ],
             [
              0.3333333333333333,
              "#9c179e"
             ],
             [
              0.4444444444444444,
              "#bd3786"
             ],
             [
              0.5555555555555556,
              "#d8576b"
             ],
             [
              0.6666666666666666,
              "#ed7953"
             ],
             [
              0.7777777777777778,
              "#fb9f3a"
             ],
             [
              0.8888888888888888,
              "#fdca26"
             ],
             [
              1,
              "#f0f921"
             ]
            ],
            "type": "histogram2dcontour"
           }
          ],
          "mesh3d": [
           {
            "colorbar": {
             "outlinewidth": 0,
             "ticks": ""
            },
            "type": "mesh3d"
           }
          ],
          "parcoords": [
           {
            "line": {
             "colorbar": {
              "outlinewidth": 0,
              "ticks": ""
             }
            },
            "type": "parcoords"
           }
          ],
          "pie": [
           {
            "automargin": true,
            "type": "pie"
           }
          ],
          "scatter": [
           {
            "marker": {
             "line": {
              "color": "#283442"
             }
            },
            "type": "scatter"
           }
          ],
          "scatter3d": [
           {
            "line": {
             "colorbar": {
              "outlinewidth": 0,
              "ticks": ""
             }
            },
            "marker": {
             "colorbar": {
              "outlinewidth": 0,
              "ticks": ""
             }
            },
            "type": "scatter3d"
           }
          ],
          "scattercarpet": [
           {
            "marker": {
             "colorbar": {
              "outlinewidth": 0,
              "ticks": ""
             }
            },
            "type": "scattercarpet"
           }
          ],
          "scattergeo": [
           {
            "marker": {
             "colorbar": {
              "outlinewidth": 0,
              "ticks": ""
             }
            },
            "type": "scattergeo"
           }
          ],
          "scattergl": [
           {
            "marker": {
             "line": {
              "color": "#283442"
             }
            },
            "type": "scattergl"
           }
          ],
          "scattermapbox": [
           {
            "marker": {
             "colorbar": {
              "outlinewidth": 0,
              "ticks": ""
             }
            },
            "type": "scattermapbox"
           }
          ],
          "scatterpolar": [
           {
            "marker": {
             "colorbar": {
              "outlinewidth": 0,
              "ticks": ""
             }
            },
            "type": "scatterpolar"
           }
          ],
          "scatterpolargl": [
           {
            "marker": {
             "colorbar": {
              "outlinewidth": 0,
              "ticks": ""
             }
            },
            "type": "scatterpolargl"
           }
          ],
          "scatterternary": [
           {
            "marker": {
             "colorbar": {
              "outlinewidth": 0,
              "ticks": ""
             }
            },
            "type": "scatterternary"
           }
          ],
          "surface": [
           {
            "colorbar": {
             "outlinewidth": 0,
             "ticks": ""
            },
            "colorscale": [
             [
              0,
              "#0d0887"
             ],
             [
              0.1111111111111111,
              "#46039f"
             ],
             [
              0.2222222222222222,
              "#7201a8"
             ],
             [
              0.3333333333333333,
              "#9c179e"
             ],
             [
              0.4444444444444444,
              "#bd3786"
             ],
             [
              0.5555555555555556,
              "#d8576b"
             ],
             [
              0.6666666666666666,
              "#ed7953"
             ],
             [
              0.7777777777777778,
              "#fb9f3a"
             ],
             [
              0.8888888888888888,
              "#fdca26"
             ],
             [
              1,
              "#f0f921"
             ]
            ],
            "type": "surface"
           }
          ],
          "table": [
           {
            "cells": {
             "fill": {
              "color": "#506784"
             },
             "line": {
              "color": "rgb(17,17,17)"
             }
            },
            "header": {
             "fill": {
              "color": "#2a3f5f"
             },
             "line": {
              "color": "rgb(17,17,17)"
             }
            },
            "type": "table"
           }
          ]
         },
         "layout": {
          "annotationdefaults": {
           "arrowcolor": "#f2f5fa",
           "arrowhead": 0,
           "arrowwidth": 1
          },
          "autotypenumbers": "strict",
          "coloraxis": {
           "colorbar": {
            "outlinewidth": 0,
            "ticks": ""
           }
          },
          "colorscale": {
           "diverging": [
            [
             0,
             "#8e0152"
            ],
            [
             0.1,
             "#c51b7d"
            ],
            [
             0.2,
             "#de77ae"
            ],
            [
             0.3,
             "#f1b6da"
            ],
            [
             0.4,
             "#fde0ef"
            ],
            [
             0.5,
             "#f7f7f7"
            ],
            [
             0.6,
             "#e6f5d0"
            ],
            [
             0.7,
             "#b8e186"
            ],
            [
             0.8,
             "#7fbc41"
            ],
            [
             0.9,
             "#4d9221"
            ],
            [
             1,
             "#276419"
            ]
           ],
           "sequential": [
            [
             0,
             "#0d0887"
            ],
            [
             0.1111111111111111,
             "#46039f"
            ],
            [
             0.2222222222222222,
             "#7201a8"
            ],
            [
             0.3333333333333333,
             "#9c179e"
            ],
            [
             0.4444444444444444,
             "#bd3786"
            ],
            [
             0.5555555555555556,
             "#d8576b"
            ],
            [
             0.6666666666666666,
             "#ed7953"
            ],
            [
             0.7777777777777778,
             "#fb9f3a"
            ],
            [
             0.8888888888888888,
             "#fdca26"
            ],
            [
             1,
             "#f0f921"
            ]
           ],
           "sequentialminus": [
            [
             0,
             "#0d0887"
            ],
            [
             0.1111111111111111,
             "#46039f"
            ],
            [
             0.2222222222222222,
             "#7201a8"
            ],
            [
             0.3333333333333333,
             "#9c179e"
            ],
            [
             0.4444444444444444,
             "#bd3786"
            ],
            [
             0.5555555555555556,
             "#d8576b"
            ],
            [
             0.6666666666666666,
             "#ed7953"
            ],
            [
             0.7777777777777778,
             "#fb9f3a"
            ],
            [
             0.8888888888888888,
             "#fdca26"
            ],
            [
             1,
             "#f0f921"
            ]
           ]
          },
          "colorway": [
           "#636efa",
           "#EF553B",
           "#00cc96",
           "#ab63fa",
           "#FFA15A",
           "#19d3f3",
           "#FF6692",
           "#B6E880",
           "#FF97FF",
           "#FECB52"
          ],
          "font": {
           "color": "#f2f5fa"
          },
          "geo": {
           "bgcolor": "rgb(17,17,17)",
           "lakecolor": "rgb(17,17,17)",
           "landcolor": "rgb(17,17,17)",
           "showlakes": true,
           "showland": true,
           "subunitcolor": "#506784"
          },
          "hoverlabel": {
           "align": "left"
          },
          "hovermode": "closest",
          "mapbox": {
           "style": "dark"
          },
          "paper_bgcolor": "rgb(17,17,17)",
          "plot_bgcolor": "rgb(17,17,17)",
          "polar": {
           "angularaxis": {
            "gridcolor": "#506784",
            "linecolor": "#506784",
            "ticks": ""
           },
           "bgcolor": "rgb(17,17,17)",
           "radialaxis": {
            "gridcolor": "#506784",
            "linecolor": "#506784",
            "ticks": ""
           }
          },
          "scene": {
           "xaxis": {
            "backgroundcolor": "rgb(17,17,17)",
            "gridcolor": "#506784",
            "gridwidth": 2,
            "linecolor": "#506784",
            "showbackground": true,
            "ticks": "",
            "zerolinecolor": "#C8D4E3"
           },
           "yaxis": {
            "backgroundcolor": "rgb(17,17,17)",
            "gridcolor": "#506784",
            "gridwidth": 2,
            "linecolor": "#506784",
            "showbackground": true,
            "ticks": "",
            "zerolinecolor": "#C8D4E3"
           },
           "zaxis": {
            "backgroundcolor": "rgb(17,17,17)",
            "gridcolor": "#506784",
            "gridwidth": 2,
            "linecolor": "#506784",
            "showbackground": true,
            "ticks": "",
            "zerolinecolor": "#C8D4E3"
           }
          },
          "shapedefaults": {
           "line": {
            "color": "#f2f5fa"
           }
          },
          "sliderdefaults": {
           "bgcolor": "#C8D4E3",
           "bordercolor": "rgb(17,17,17)",
           "borderwidth": 1,
           "tickwidth": 0
          },
          "ternary": {
           "aaxis": {
            "gridcolor": "#506784",
            "linecolor": "#506784",
            "ticks": ""
           },
           "baxis": {
            "gridcolor": "#506784",
            "linecolor": "#506784",
            "ticks": ""
           },
           "bgcolor": "rgb(17,17,17)",
           "caxis": {
            "gridcolor": "#506784",
            "linecolor": "#506784",
            "ticks": ""
           }
          },
          "title": {
           "x": 0.05
          },
          "updatemenudefaults": {
           "bgcolor": "#506784",
           "borderwidth": 0
          },
          "xaxis": {
           "automargin": true,
           "gridcolor": "#283442",
           "linecolor": "#506784",
           "ticks": "",
           "title": {
            "standoff": 15
           },
           "zerolinecolor": "#283442",
           "zerolinewidth": 2
          },
          "yaxis": {
           "automargin": true,
           "gridcolor": "#283442",
           "linecolor": "#506784",
           "ticks": "",
           "title": {
            "standoff": 15
           },
           "zerolinecolor": "#283442",
           "zerolinewidth": 2
          }
         }
        },
        "title": {
         "text": "50 tasks 4 workers batch-size => 5 : fast Plot for Message Transitions Over Time"
        },
        "xaxis": {
         "anchor": "y",
         "domain": [
          0,
          1
         ],
         "showgrid": true,
         "title": {
          "text": "Timestamp"
         }
        },
        "yaxis": {
         "anchor": "x",
         "domain": [
          0,
          1
         ],
         "showgrid": true,
         "title": {
          "text": "State"
         }
        }
       }
      }
     },
     "metadata": {},
     "output_type": "display_data"
    },
    {
     "data": {
      "application/vnd.plotly.v1+json": {
       "config": {
        "plotlyServerURL": "https://plot.ly"
       },
       "data": [
        {
         "line": {
          "color": "blue"
         },
         "marker": {
          "color": "blue"
         },
         "mode": "lines+markers",
         "name": "Latency",
         "type": "scatter",
         "x": [
          1,
          2,
          3,
          4,
          5,
          6,
          7,
          8,
          9,
          10,
          11,
          12,
          13,
          14,
          15,
          16,
          17,
          18,
          19,
          20,
          21,
          22,
          23,
          24,
          25,
          26,
          27,
          28,
          29,
          30,
          31,
          32,
          33,
          34,
          35,
          36,
          37,
          38,
          39,
          40,
          41,
          42,
          43,
          44,
          45,
          46,
          47,
          48,
          49,
          50
         ],
         "y": [
          51.144151,
          50.863152,
          50.838188,
          50.816899,
          50.806136,
          51.469621,
          51.462982,
          51.451525,
          51.444345,
          51.377485,
          51.70919,
          51.682826,
          51.668413,
          51.599145,
          51.579353,
          54.20168,
          54.186729,
          54.15358,
          54.106304,
          54.104748,
          100.614639,
          100.522608,
          100.462946,
          100.459581,
          100.444734,
          101.000987,
          100.982128,
          100.916901,
          97.316958,
          96.912395,
          97.21282,
          97.140471,
          97.096002,
          97.089372,
          97.074531,
          99.855289,
          99.833461,
          99.780345,
          99.773122,
          99.771471,
          146.117123,
          146.036711,
          146.007188,
          145.976522,
          145.964006,
          146.63995,
          146.571998,
          146.537358,
          146.518459,
          146.495711
         ]
        }
       ],
       "layout": {
        "legend": {
         "title": {
          "text": "Legend"
         }
        },
        "template": {
         "data": {
          "bar": [
           {
            "error_x": {
             "color": "#f2f5fa"
            },
            "error_y": {
             "color": "#f2f5fa"
            },
            "marker": {
             "line": {
              "color": "rgb(17,17,17)",
              "width": 0.5
             },
             "pattern": {
              "fillmode": "overlay",
              "size": 10,
              "solidity": 0.2
             }
            },
            "type": "bar"
           }
          ],
          "barpolar": [
           {
            "marker": {
             "line": {
              "color": "rgb(17,17,17)",
              "width": 0.5
             },
             "pattern": {
              "fillmode": "overlay",
              "size": 10,
              "solidity": 0.2
             }
            },
            "type": "barpolar"
           }
          ],
          "carpet": [
           {
            "aaxis": {
             "endlinecolor": "#A2B1C6",
             "gridcolor": "#506784",
             "linecolor": "#506784",
             "minorgridcolor": "#506784",
             "startlinecolor": "#A2B1C6"
            },
            "baxis": {
             "endlinecolor": "#A2B1C6",
             "gridcolor": "#506784",
             "linecolor": "#506784",
             "minorgridcolor": "#506784",
             "startlinecolor": "#A2B1C6"
            },
            "type": "carpet"
           }
          ],
          "choropleth": [
           {
            "colorbar": {
             "outlinewidth": 0,
             "ticks": ""
            },
            "type": "choropleth"
           }
          ],
          "contour": [
           {
            "colorbar": {
             "outlinewidth": 0,
             "ticks": ""
            },
            "colorscale": [
             [
              0,
              "#0d0887"
             ],
             [
              0.1111111111111111,
              "#46039f"
             ],
             [
              0.2222222222222222,
              "#7201a8"
             ],
             [
              0.3333333333333333,
              "#9c179e"
             ],
             [
              0.4444444444444444,
              "#bd3786"
             ],
             [
              0.5555555555555556,
              "#d8576b"
             ],
             [
              0.6666666666666666,
              "#ed7953"
             ],
             [
              0.7777777777777778,
              "#fb9f3a"
             ],
             [
              0.8888888888888888,
              "#fdca26"
             ],
             [
              1,
              "#f0f921"
             ]
            ],
            "type": "contour"
           }
          ],
          "contourcarpet": [
           {
            "colorbar": {
             "outlinewidth": 0,
             "ticks": ""
            },
            "type": "contourcarpet"
           }
          ],
          "heatmap": [
           {
            "colorbar": {
             "outlinewidth": 0,
             "ticks": ""
            },
            "colorscale": [
             [
              0,
              "#0d0887"
             ],
             [
              0.1111111111111111,
              "#46039f"
             ],
             [
              0.2222222222222222,
              "#7201a8"
             ],
             [
              0.3333333333333333,
              "#9c179e"
             ],
             [
              0.4444444444444444,
              "#bd3786"
             ],
             [
              0.5555555555555556,
              "#d8576b"
             ],
             [
              0.6666666666666666,
              "#ed7953"
             ],
             [
              0.7777777777777778,
              "#fb9f3a"
             ],
             [
              0.8888888888888888,
              "#fdca26"
             ],
             [
              1,
              "#f0f921"
             ]
            ],
            "type": "heatmap"
           }
          ],
          "heatmapgl": [
           {
            "colorbar": {
             "outlinewidth": 0,
             "ticks": ""
            },
            "colorscale": [
             [
              0,
              "#0d0887"
             ],
             [
              0.1111111111111111,
              "#46039f"
             ],
             [
              0.2222222222222222,
              "#7201a8"
             ],
             [
              0.3333333333333333,
              "#9c179e"
             ],
             [
              0.4444444444444444,
              "#bd3786"
             ],
             [
              0.5555555555555556,
              "#d8576b"
             ],
             [
              0.6666666666666666,
              "#ed7953"
             ],
             [
              0.7777777777777778,
              "#fb9f3a"
             ],
             [
              0.8888888888888888,
              "#fdca26"
             ],
             [
              1,
              "#f0f921"
             ]
            ],
            "type": "heatmapgl"
           }
          ],
          "histogram": [
           {
            "marker": {
             "pattern": {
              "fillmode": "overlay",
              "size": 10,
              "solidity": 0.2
             }
            },
            "type": "histogram"
           }
          ],
          "histogram2d": [
           {
            "colorbar": {
             "outlinewidth": 0,
             "ticks": ""
            },
            "colorscale": [
             [
              0,
              "#0d0887"
             ],
             [
              0.1111111111111111,
              "#46039f"
             ],
             [
              0.2222222222222222,
              "#7201a8"
             ],
             [
              0.3333333333333333,
              "#9c179e"
             ],
             [
              0.4444444444444444,
              "#bd3786"
             ],
             [
              0.5555555555555556,
              "#d8576b"
             ],
             [
              0.6666666666666666,
              "#ed7953"
             ],
             [
              0.7777777777777778,
              "#fb9f3a"
             ],
             [
              0.8888888888888888,
              "#fdca26"
             ],
             [
              1,
              "#f0f921"
             ]
            ],
            "type": "histogram2d"
           }
          ],
          "histogram2dcontour": [
           {
            "colorbar": {
             "outlinewidth": 0,
             "ticks": ""
            },
            "colorscale": [
             [
              0,
              "#0d0887"
             ],
             [
              0.1111111111111111,
              "#46039f"
             ],
             [
              0.2222222222222222,
              "#7201a8"
             ],
             [
              0.3333333333333333,
              "#9c179e"
             ],
             [
              0.4444444444444444,
              "#bd3786"
             ],
             [
              0.5555555555555556,
              "#d8576b"
             ],
             [
              0.6666666666666666,
              "#ed7953"
             ],
             [
              0.7777777777777778,
              "#fb9f3a"
             ],
             [
              0.8888888888888888,
              "#fdca26"
             ],
             [
              1,
              "#f0f921"
             ]
            ],
            "type": "histogram2dcontour"
           }
          ],
          "mesh3d": [
           {
            "colorbar": {
             "outlinewidth": 0,
             "ticks": ""
            },
            "type": "mesh3d"
           }
          ],
          "parcoords": [
           {
            "line": {
             "colorbar": {
              "outlinewidth": 0,
              "ticks": ""
             }
            },
            "type": "parcoords"
           }
          ],
          "pie": [
           {
            "automargin": true,
            "type": "pie"
           }
          ],
          "scatter": [
           {
            "marker": {
             "line": {
              "color": "#283442"
             }
            },
            "type": "scatter"
           }
          ],
          "scatter3d": [
           {
            "line": {
             "colorbar": {
              "outlinewidth": 0,
              "ticks": ""
             }
            },
            "marker": {
             "colorbar": {
              "outlinewidth": 0,
              "ticks": ""
             }
            },
            "type": "scatter3d"
           }
          ],
          "scattercarpet": [
           {
            "marker": {
             "colorbar": {
              "outlinewidth": 0,
              "ticks": ""
             }
            },
            "type": "scattercarpet"
           }
          ],
          "scattergeo": [
           {
            "marker": {
             "colorbar": {
              "outlinewidth": 0,
              "ticks": ""
             }
            },
            "type": "scattergeo"
           }
          ],
          "scattergl": [
           {
            "marker": {
             "line": {
              "color": "#283442"
             }
            },
            "type": "scattergl"
           }
          ],
          "scattermapbox": [
           {
            "marker": {
             "colorbar": {
              "outlinewidth": 0,
              "ticks": ""
             }
            },
            "type": "scattermapbox"
           }
          ],
          "scatterpolar": [
           {
            "marker": {
             "colorbar": {
              "outlinewidth": 0,
              "ticks": ""
             }
            },
            "type": "scatterpolar"
           }
          ],
          "scatterpolargl": [
           {
            "marker": {
             "colorbar": {
              "outlinewidth": 0,
              "ticks": ""
             }
            },
            "type": "scatterpolargl"
           }
          ],
          "scatterternary": [
           {
            "marker": {
             "colorbar": {
              "outlinewidth": 0,
              "ticks": ""
             }
            },
            "type": "scatterternary"
           }
          ],
          "surface": [
           {
            "colorbar": {
             "outlinewidth": 0,
             "ticks": ""
            },
            "colorscale": [
             [
              0,
              "#0d0887"
             ],
             [
              0.1111111111111111,
              "#46039f"
             ],
             [
              0.2222222222222222,
              "#7201a8"
             ],
             [
              0.3333333333333333,
              "#9c179e"
             ],
             [
              0.4444444444444444,
              "#bd3786"
             ],
             [
              0.5555555555555556,
              "#d8576b"
             ],
             [
              0.6666666666666666,
              "#ed7953"
             ],
             [
              0.7777777777777778,
              "#fb9f3a"
             ],
             [
              0.8888888888888888,
              "#fdca26"
             ],
             [
              1,
              "#f0f921"
             ]
            ],
            "type": "surface"
           }
          ],
          "table": [
           {
            "cells": {
             "fill": {
              "color": "#506784"
             },
             "line": {
              "color": "rgb(17,17,17)"
             }
            },
            "header": {
             "fill": {
              "color": "#2a3f5f"
             },
             "line": {
              "color": "rgb(17,17,17)"
             }
            },
            "type": "table"
           }
          ]
         },
         "layout": {
          "annotationdefaults": {
           "arrowcolor": "#f2f5fa",
           "arrowhead": 0,
           "arrowwidth": 1
          },
          "autotypenumbers": "strict",
          "coloraxis": {
           "colorbar": {
            "outlinewidth": 0,
            "ticks": ""
           }
          },
          "colorscale": {
           "diverging": [
            [
             0,
             "#8e0152"
            ],
            [
             0.1,
             "#c51b7d"
            ],
            [
             0.2,
             "#de77ae"
            ],
            [
             0.3,
             "#f1b6da"
            ],
            [
             0.4,
             "#fde0ef"
            ],
            [
             0.5,
             "#f7f7f7"
            ],
            [
             0.6,
             "#e6f5d0"
            ],
            [
             0.7,
             "#b8e186"
            ],
            [
             0.8,
             "#7fbc41"
            ],
            [
             0.9,
             "#4d9221"
            ],
            [
             1,
             "#276419"
            ]
           ],
           "sequential": [
            [
             0,
             "#0d0887"
            ],
            [
             0.1111111111111111,
             "#46039f"
            ],
            [
             0.2222222222222222,
             "#7201a8"
            ],
            [
             0.3333333333333333,
             "#9c179e"
            ],
            [
             0.4444444444444444,
             "#bd3786"
            ],
            [
             0.5555555555555556,
             "#d8576b"
            ],
            [
             0.6666666666666666,
             "#ed7953"
            ],
            [
             0.7777777777777778,
             "#fb9f3a"
            ],
            [
             0.8888888888888888,
             "#fdca26"
            ],
            [
             1,
             "#f0f921"
            ]
           ],
           "sequentialminus": [
            [
             0,
             "#0d0887"
            ],
            [
             0.1111111111111111,
             "#46039f"
            ],
            [
             0.2222222222222222,
             "#7201a8"
            ],
            [
             0.3333333333333333,
             "#9c179e"
            ],
            [
             0.4444444444444444,
             "#bd3786"
            ],
            [
             0.5555555555555556,
             "#d8576b"
            ],
            [
             0.6666666666666666,
             "#ed7953"
            ],
            [
             0.7777777777777778,
             "#fb9f3a"
            ],
            [
             0.8888888888888888,
             "#fdca26"
            ],
            [
             1,
             "#f0f921"
            ]
           ]
          },
          "colorway": [
           "#636efa",
           "#EF553B",
           "#00cc96",
           "#ab63fa",
           "#FFA15A",
           "#19d3f3",
           "#FF6692",
           "#B6E880",
           "#FF97FF",
           "#FECB52"
          ],
          "font": {
           "color": "#f2f5fa"
          },
          "geo": {
           "bgcolor": "rgb(17,17,17)",
           "lakecolor": "rgb(17,17,17)",
           "landcolor": "rgb(17,17,17)",
           "showlakes": true,
           "showland": true,
           "subunitcolor": "#506784"
          },
          "hoverlabel": {
           "align": "left"
          },
          "hovermode": "closest",
          "mapbox": {
           "style": "dark"
          },
          "paper_bgcolor": "rgb(17,17,17)",
          "plot_bgcolor": "rgb(17,17,17)",
          "polar": {
           "angularaxis": {
            "gridcolor": "#506784",
            "linecolor": "#506784",
            "ticks": ""
           },
           "bgcolor": "rgb(17,17,17)",
           "radialaxis": {
            "gridcolor": "#506784",
            "linecolor": "#506784",
            "ticks": ""
           }
          },
          "scene": {
           "xaxis": {
            "backgroundcolor": "rgb(17,17,17)",
            "gridcolor": "#506784",
            "gridwidth": 2,
            "linecolor": "#506784",
            "showbackground": true,
            "ticks": "",
            "zerolinecolor": "#C8D4E3"
           },
           "yaxis": {
            "backgroundcolor": "rgb(17,17,17)",
            "gridcolor": "#506784",
            "gridwidth": 2,
            "linecolor": "#506784",
            "showbackground": true,
            "ticks": "",
            "zerolinecolor": "#C8D4E3"
           },
           "zaxis": {
            "backgroundcolor": "rgb(17,17,17)",
            "gridcolor": "#506784",
            "gridwidth": 2,
            "linecolor": "#506784",
            "showbackground": true,
            "ticks": "",
            "zerolinecolor": "#C8D4E3"
           }
          },
          "shapedefaults": {
           "line": {
            "color": "#f2f5fa"
           }
          },
          "sliderdefaults": {
           "bgcolor": "#C8D4E3",
           "bordercolor": "rgb(17,17,17)",
           "borderwidth": 1,
           "tickwidth": 0
          },
          "ternary": {
           "aaxis": {
            "gridcolor": "#506784",
            "linecolor": "#506784",
            "ticks": ""
           },
           "baxis": {
            "gridcolor": "#506784",
            "linecolor": "#506784",
            "ticks": ""
           },
           "bgcolor": "rgb(17,17,17)",
           "caxis": {
            "gridcolor": "#506784",
            "linecolor": "#506784",
            "ticks": ""
           }
          },
          "title": {
           "x": 0.05
          },
          "updatemenudefaults": {
           "bgcolor": "#506784",
           "borderwidth": 0
          },
          "xaxis": {
           "automargin": true,
           "gridcolor": "#283442",
           "linecolor": "#506784",
           "ticks": "",
           "title": {
            "standoff": 15
           },
           "zerolinecolor": "#283442",
           "zerolinewidth": 2
          },
          "yaxis": {
           "automargin": true,
           "gridcolor": "#283442",
           "linecolor": "#506784",
           "ticks": "",
           "title": {
            "standoff": 15
           },
           "zerolinecolor": "#283442",
           "zerolinewidth": 2
          }
         }
        },
        "title": {
         "text": "50 tasks 4 workers batch-size => 5 : fast  Plot for Latency Trends Over Time"
        },
        "xaxis": {
         "showgrid": true,
         "title": {
          "text": "Message ID"
         }
        },
        "yaxis": {
         "showgrid": true,
         "title": {
          "text": "Latency (seconds)"
         }
        }
       }
      }
     },
     "metadata": {},
     "output_type": "display_data"
    },
    {
     "name": "stdout",
     "output_type": "stream",
     "text": [
      "throughput => timestamp\n",
      "2024-12-31 08:07:10    20\n",
      "2024-12-31 08:07:20     0\n",
      "2024-12-31 08:07:30     0\n",
      "2024-12-31 08:07:40     0\n",
      "2024-12-31 08:07:50     0\n",
      "2024-12-31 08:08:00    20\n",
      "2024-12-31 08:08:10     0\n",
      "2024-12-31 08:08:20     0\n",
      "2024-12-31 08:08:30     0\n",
      "2024-12-31 08:08:40     0\n",
      "2024-12-31 08:08:50    10\n",
      "Freq: 10S, dtype: int64\n"
     ]
    },
    {
     "data": {
      "application/vnd.plotly.v1+json": {
       "config": {
        "plotlyServerURL": "https://plot.ly"
       },
       "data": [
        {
         "line": {
          "color": "green"
         },
         "marker": {
          "color": "green"
         },
         "mode": "lines+markers",
         "name": "Throughput",
         "type": "scatter",
         "x": [
          "2024-12-31T08:07:10",
          "2024-12-31T08:07:20",
          "2024-12-31T08:07:30",
          "2024-12-31T08:07:40",
          "2024-12-31T08:07:50",
          "2024-12-31T08:08:00",
          "2024-12-31T08:08:10",
          "2024-12-31T08:08:20",
          "2024-12-31T08:08:30",
          "2024-12-31T08:08:40",
          "2024-12-31T08:08:50"
         ],
         "y": [
          20,
          0,
          0,
          0,
          0,
          20,
          0,
          0,
          0,
          0,
          10
         ]
        }
       ],
       "layout": {
        "legend": {
         "title": {
          "text": "Legend"
         }
        },
        "template": {
         "data": {
          "bar": [
           {
            "error_x": {
             "color": "#f2f5fa"
            },
            "error_y": {
             "color": "#f2f5fa"
            },
            "marker": {
             "line": {
              "color": "rgb(17,17,17)",
              "width": 0.5
             },
             "pattern": {
              "fillmode": "overlay",
              "size": 10,
              "solidity": 0.2
             }
            },
            "type": "bar"
           }
          ],
          "barpolar": [
           {
            "marker": {
             "line": {
              "color": "rgb(17,17,17)",
              "width": 0.5
             },
             "pattern": {
              "fillmode": "overlay",
              "size": 10,
              "solidity": 0.2
             }
            },
            "type": "barpolar"
           }
          ],
          "carpet": [
           {
            "aaxis": {
             "endlinecolor": "#A2B1C6",
             "gridcolor": "#506784",
             "linecolor": "#506784",
             "minorgridcolor": "#506784",
             "startlinecolor": "#A2B1C6"
            },
            "baxis": {
             "endlinecolor": "#A2B1C6",
             "gridcolor": "#506784",
             "linecolor": "#506784",
             "minorgridcolor": "#506784",
             "startlinecolor": "#A2B1C6"
            },
            "type": "carpet"
           }
          ],
          "choropleth": [
           {
            "colorbar": {
             "outlinewidth": 0,
             "ticks": ""
            },
            "type": "choropleth"
           }
          ],
          "contour": [
           {
            "colorbar": {
             "outlinewidth": 0,
             "ticks": ""
            },
            "colorscale": [
             [
              0,
              "#0d0887"
             ],
             [
              0.1111111111111111,
              "#46039f"
             ],
             [
              0.2222222222222222,
              "#7201a8"
             ],
             [
              0.3333333333333333,
              "#9c179e"
             ],
             [
              0.4444444444444444,
              "#bd3786"
             ],
             [
              0.5555555555555556,
              "#d8576b"
             ],
             [
              0.6666666666666666,
              "#ed7953"
             ],
             [
              0.7777777777777778,
              "#fb9f3a"
             ],
             [
              0.8888888888888888,
              "#fdca26"
             ],
             [
              1,
              "#f0f921"
             ]
            ],
            "type": "contour"
           }
          ],
          "contourcarpet": [
           {
            "colorbar": {
             "outlinewidth": 0,
             "ticks": ""
            },
            "type": "contourcarpet"
           }
          ],
          "heatmap": [
           {
            "colorbar": {
             "outlinewidth": 0,
             "ticks": ""
            },
            "colorscale": [
             [
              0,
              "#0d0887"
             ],
             [
              0.1111111111111111,
              "#46039f"
             ],
             [
              0.2222222222222222,
              "#7201a8"
             ],
             [
              0.3333333333333333,
              "#9c179e"
             ],
             [
              0.4444444444444444,
              "#bd3786"
             ],
             [
              0.5555555555555556,
              "#d8576b"
             ],
             [
              0.6666666666666666,
              "#ed7953"
             ],
             [
              0.7777777777777778,
              "#fb9f3a"
             ],
             [
              0.8888888888888888,
              "#fdca26"
             ],
             [
              1,
              "#f0f921"
             ]
            ],
            "type": "heatmap"
           }
          ],
          "heatmapgl": [
           {
            "colorbar": {
             "outlinewidth": 0,
             "ticks": ""
            },
            "colorscale": [
             [
              0,
              "#0d0887"
             ],
             [
              0.1111111111111111,
              "#46039f"
             ],
             [
              0.2222222222222222,
              "#7201a8"
             ],
             [
              0.3333333333333333,
              "#9c179e"
             ],
             [
              0.4444444444444444,
              "#bd3786"
             ],
             [
              0.5555555555555556,
              "#d8576b"
             ],
             [
              0.6666666666666666,
              "#ed7953"
             ],
             [
              0.7777777777777778,
              "#fb9f3a"
             ],
             [
              0.8888888888888888,
              "#fdca26"
             ],
             [
              1,
              "#f0f921"
             ]
            ],
            "type": "heatmapgl"
           }
          ],
          "histogram": [
           {
            "marker": {
             "pattern": {
              "fillmode": "overlay",
              "size": 10,
              "solidity": 0.2
             }
            },
            "type": "histogram"
           }
          ],
          "histogram2d": [
           {
            "colorbar": {
             "outlinewidth": 0,
             "ticks": ""
            },
            "colorscale": [
             [
              0,
              "#0d0887"
             ],
             [
              0.1111111111111111,
              "#46039f"
             ],
             [
              0.2222222222222222,
              "#7201a8"
             ],
             [
              0.3333333333333333,
              "#9c179e"
             ],
             [
              0.4444444444444444,
              "#bd3786"
             ],
             [
              0.5555555555555556,
              "#d8576b"
             ],
             [
              0.6666666666666666,
              "#ed7953"
             ],
             [
              0.7777777777777778,
              "#fb9f3a"
             ],
             [
              0.8888888888888888,
              "#fdca26"
             ],
             [
              1,
              "#f0f921"
             ]
            ],
            "type": "histogram2d"
           }
          ],
          "histogram2dcontour": [
           {
            "colorbar": {
             "outlinewidth": 0,
             "ticks": ""
            },
            "colorscale": [
             [
              0,
              "#0d0887"
             ],
             [
              0.1111111111111111,
              "#46039f"
             ],
             [
              0.2222222222222222,
              "#7201a8"
             ],
             [
              0.3333333333333333,
              "#9c179e"
             ],
             [
              0.4444444444444444,
              "#bd3786"
             ],
             [
              0.5555555555555556,
              "#d8576b"
             ],
             [
              0.6666666666666666,
              "#ed7953"
             ],
             [
              0.7777777777777778,
              "#fb9f3a"
             ],
             [
              0.8888888888888888,
              "#fdca26"
             ],
             [
              1,
              "#f0f921"
             ]
            ],
            "type": "histogram2dcontour"
           }
          ],
          "mesh3d": [
           {
            "colorbar": {
             "outlinewidth": 0,
             "ticks": ""
            },
            "type": "mesh3d"
           }
          ],
          "parcoords": [
           {
            "line": {
             "colorbar": {
              "outlinewidth": 0,
              "ticks": ""
             }
            },
            "type": "parcoords"
           }
          ],
          "pie": [
           {
            "automargin": true,
            "type": "pie"
           }
          ],
          "scatter": [
           {
            "marker": {
             "line": {
              "color": "#283442"
             }
            },
            "type": "scatter"
           }
          ],
          "scatter3d": [
           {
            "line": {
             "colorbar": {
              "outlinewidth": 0,
              "ticks": ""
             }
            },
            "marker": {
             "colorbar": {
              "outlinewidth": 0,
              "ticks": ""
             }
            },
            "type": "scatter3d"
           }
          ],
          "scattercarpet": [
           {
            "marker": {
             "colorbar": {
              "outlinewidth": 0,
              "ticks": ""
             }
            },
            "type": "scattercarpet"
           }
          ],
          "scattergeo": [
           {
            "marker": {
             "colorbar": {
              "outlinewidth": 0,
              "ticks": ""
             }
            },
            "type": "scattergeo"
           }
          ],
          "scattergl": [
           {
            "marker": {
             "line": {
              "color": "#283442"
             }
            },
            "type": "scattergl"
           }
          ],
          "scattermapbox": [
           {
            "marker": {
             "colorbar": {
              "outlinewidth": 0,
              "ticks": ""
             }
            },
            "type": "scattermapbox"
           }
          ],
          "scatterpolar": [
           {
            "marker": {
             "colorbar": {
              "outlinewidth": 0,
              "ticks": ""
             }
            },
            "type": "scatterpolar"
           }
          ],
          "scatterpolargl": [
           {
            "marker": {
             "colorbar": {
              "outlinewidth": 0,
              "ticks": ""
             }
            },
            "type": "scatterpolargl"
           }
          ],
          "scatterternary": [
           {
            "marker": {
             "colorbar": {
              "outlinewidth": 0,
              "ticks": ""
             }
            },
            "type": "scatterternary"
           }
          ],
          "surface": [
           {
            "colorbar": {
             "outlinewidth": 0,
             "ticks": ""
            },
            "colorscale": [
             [
              0,
              "#0d0887"
             ],
             [
              0.1111111111111111,
              "#46039f"
             ],
             [
              0.2222222222222222,
              "#7201a8"
             ],
             [
              0.3333333333333333,
              "#9c179e"
             ],
             [
              0.4444444444444444,
              "#bd3786"
             ],
             [
              0.5555555555555556,
              "#d8576b"
             ],
             [
              0.6666666666666666,
              "#ed7953"
             ],
             [
              0.7777777777777778,
              "#fb9f3a"
             ],
             [
              0.8888888888888888,
              "#fdca26"
             ],
             [
              1,
              "#f0f921"
             ]
            ],
            "type": "surface"
           }
          ],
          "table": [
           {
            "cells": {
             "fill": {
              "color": "#506784"
             },
             "line": {
              "color": "rgb(17,17,17)"
             }
            },
            "header": {
             "fill": {
              "color": "#2a3f5f"
             },
             "line": {
              "color": "rgb(17,17,17)"
             }
            },
            "type": "table"
           }
          ]
         },
         "layout": {
          "annotationdefaults": {
           "arrowcolor": "#f2f5fa",
           "arrowhead": 0,
           "arrowwidth": 1
          },
          "autotypenumbers": "strict",
          "coloraxis": {
           "colorbar": {
            "outlinewidth": 0,
            "ticks": ""
           }
          },
          "colorscale": {
           "diverging": [
            [
             0,
             "#8e0152"
            ],
            [
             0.1,
             "#c51b7d"
            ],
            [
             0.2,
             "#de77ae"
            ],
            [
             0.3,
             "#f1b6da"
            ],
            [
             0.4,
             "#fde0ef"
            ],
            [
             0.5,
             "#f7f7f7"
            ],
            [
             0.6,
             "#e6f5d0"
            ],
            [
             0.7,
             "#b8e186"
            ],
            [
             0.8,
             "#7fbc41"
            ],
            [
             0.9,
             "#4d9221"
            ],
            [
             1,
             "#276419"
            ]
           ],
           "sequential": [
            [
             0,
             "#0d0887"
            ],
            [
             0.1111111111111111,
             "#46039f"
            ],
            [
             0.2222222222222222,
             "#7201a8"
            ],
            [
             0.3333333333333333,
             "#9c179e"
            ],
            [
             0.4444444444444444,
             "#bd3786"
            ],
            [
             0.5555555555555556,
             "#d8576b"
            ],
            [
             0.6666666666666666,
             "#ed7953"
            ],
            [
             0.7777777777777778,
             "#fb9f3a"
            ],
            [
             0.8888888888888888,
             "#fdca26"
            ],
            [
             1,
             "#f0f921"
            ]
           ],
           "sequentialminus": [
            [
             0,
             "#0d0887"
            ],
            [
             0.1111111111111111,
             "#46039f"
            ],
            [
             0.2222222222222222,
             "#7201a8"
            ],
            [
             0.3333333333333333,
             "#9c179e"
            ],
            [
             0.4444444444444444,
             "#bd3786"
            ],
            [
             0.5555555555555556,
             "#d8576b"
            ],
            [
             0.6666666666666666,
             "#ed7953"
            ],
            [
             0.7777777777777778,
             "#fb9f3a"
            ],
            [
             0.8888888888888888,
             "#fdca26"
            ],
            [
             1,
             "#f0f921"
            ]
           ]
          },
          "colorway": [
           "#636efa",
           "#EF553B",
           "#00cc96",
           "#ab63fa",
           "#FFA15A",
           "#19d3f3",
           "#FF6692",
           "#B6E880",
           "#FF97FF",
           "#FECB52"
          ],
          "font": {
           "color": "#f2f5fa"
          },
          "geo": {
           "bgcolor": "rgb(17,17,17)",
           "lakecolor": "rgb(17,17,17)",
           "landcolor": "rgb(17,17,17)",
           "showlakes": true,
           "showland": true,
           "subunitcolor": "#506784"
          },
          "hoverlabel": {
           "align": "left"
          },
          "hovermode": "closest",
          "mapbox": {
           "style": "dark"
          },
          "paper_bgcolor": "rgb(17,17,17)",
          "plot_bgcolor": "rgb(17,17,17)",
          "polar": {
           "angularaxis": {
            "gridcolor": "#506784",
            "linecolor": "#506784",
            "ticks": ""
           },
           "bgcolor": "rgb(17,17,17)",
           "radialaxis": {
            "gridcolor": "#506784",
            "linecolor": "#506784",
            "ticks": ""
           }
          },
          "scene": {
           "xaxis": {
            "backgroundcolor": "rgb(17,17,17)",
            "gridcolor": "#506784",
            "gridwidth": 2,
            "linecolor": "#506784",
            "showbackground": true,
            "ticks": "",
            "zerolinecolor": "#C8D4E3"
           },
           "yaxis": {
            "backgroundcolor": "rgb(17,17,17)",
            "gridcolor": "#506784",
            "gridwidth": 2,
            "linecolor": "#506784",
            "showbackground": true,
            "ticks": "",
            "zerolinecolor": "#C8D4E3"
           },
           "zaxis": {
            "backgroundcolor": "rgb(17,17,17)",
            "gridcolor": "#506784",
            "gridwidth": 2,
            "linecolor": "#506784",
            "showbackground": true,
            "ticks": "",
            "zerolinecolor": "#C8D4E3"
           }
          },
          "shapedefaults": {
           "line": {
            "color": "#f2f5fa"
           }
          },
          "sliderdefaults": {
           "bgcolor": "#C8D4E3",
           "bordercolor": "rgb(17,17,17)",
           "borderwidth": 1,
           "tickwidth": 0
          },
          "ternary": {
           "aaxis": {
            "gridcolor": "#506784",
            "linecolor": "#506784",
            "ticks": ""
           },
           "baxis": {
            "gridcolor": "#506784",
            "linecolor": "#506784",
            "ticks": ""
           },
           "bgcolor": "rgb(17,17,17)",
           "caxis": {
            "gridcolor": "#506784",
            "linecolor": "#506784",
            "ticks": ""
           }
          },
          "title": {
           "x": 0.05
          },
          "updatemenudefaults": {
           "bgcolor": "#506784",
           "borderwidth": 0
          },
          "xaxis": {
           "automargin": true,
           "gridcolor": "#283442",
           "linecolor": "#506784",
           "ticks": "",
           "title": {
            "standoff": 15
           },
           "zerolinecolor": "#283442",
           "zerolinewidth": 2
          },
          "yaxis": {
           "automargin": true,
           "gridcolor": "#283442",
           "linecolor": "#506784",
           "ticks": "",
           "title": {
            "standoff": 15
           },
           "zerolinecolor": "#283442",
           "zerolinewidth": 2
          }
         }
        },
        "title": {
         "text": "50 tasks 4 workers batch-size => 5 : fast  Plot for Throughput Trends Over Time"
        },
        "xaxis": {
         "showgrid": true,
         "title": {
          "text": "Time"
         }
        },
        "yaxis": {
         "showgrid": true,
         "title": {
          "text": "Tasks Completed (Throughput)"
         }
        }
       }
      }
     },
     "metadata": {},
     "output_type": "display_data"
    },
    {
     "data": {
      "application/vnd.plotly.v1+json": {
       "config": {
        "plotlyServerURL": "https://plot.ly"
       },
       "data": [
        {
         "hovertemplate": "state=pending<br>Time=%{x}<br>message_id=%{y}<extra></extra>",
         "legendgroup": "pending",
         "line": {
          "color": "#636efa",
          "dash": "solid"
         },
         "marker": {
          "symbol": "circle"
         },
         "mode": "lines+markers",
         "name": "pending",
         "orientation": "v",
         "showlegend": true,
         "type": "scatter",
         "x": [
          "2024-12-31T09:04:13.161842",
          "2024-12-31T09:04:13.192803",
          "2024-12-31T09:04:13.530583",
          "2024-12-31T09:04:13.564212",
          "2024-12-31T09:04:13.579587",
          "2024-12-31T09:04:13.600224",
          "2024-12-31T09:04:13.603561",
          "2024-12-31T09:04:13.605673",
          "2024-12-31T09:04:13.608884",
          "2024-12-31T09:04:13.610789",
          "2024-12-31T09:04:13.654008",
          "2024-12-31T09:04:13.700092",
          "2024-12-31T09:04:13.718737",
          "2024-12-31T09:04:13.722254",
          "2024-12-31T09:04:13.750618",
          "2024-12-31T09:04:13.771135",
          "2024-12-31T09:04:13.857527",
          "2024-12-31T09:04:13.889347",
          "2024-12-31T09:04:13.940625",
          "2024-12-31T09:04:13.944317",
          "2024-12-31T09:04:13.994934",
          "2024-12-31T09:04:13.997753",
          "2024-12-31T09:04:14.097288",
          "2024-12-31T09:04:14.149487",
          "2024-12-31T09:04:14.174343",
          "2024-12-31T09:04:14.368879",
          "2024-12-31T09:04:14.503730",
          "2024-12-31T09:04:14.681308",
          "2024-12-31T09:04:19.048945",
          "2024-12-31T09:04:19.088748",
          "2024-12-31T09:04:19.090984",
          "2024-12-31T09:04:19.103753",
          "2024-12-31T09:04:19.109741",
          "2024-12-31T09:04:19.202886",
          "2024-12-31T09:04:19.228420",
          "2024-12-31T09:04:19.232784",
          "2024-12-31T09:04:19.282248",
          "2024-12-31T09:04:19.315993",
          "2024-12-31T09:04:19.460088",
          "2024-12-31T09:04:19.482244",
          "2024-12-31T09:04:19.522474",
          "2024-12-31T09:04:19.558415",
          "2024-12-31T09:04:19.639943",
          "2024-12-31T09:04:19.682533",
          "2024-12-31T09:04:19.787483",
          "2024-12-31T09:04:19.796106",
          "2024-12-31T09:04:19.950030",
          "2024-12-31T09:04:19.965250",
          "2024-12-31T09:04:20.136812",
          "2024-12-31T09:04:20.167268",
          "2024-12-31T09:04:20.185401",
          "2024-12-31T09:04:20.236409",
          "2024-12-31T09:04:20.399724",
          "2024-12-31T09:04:20.461618",
          "2024-12-31T09:04:20.543374",
          "2024-12-31T09:04:20.672308",
          "2024-12-31T09:04:24.608453",
          "2024-12-31T09:04:24.707009",
          "2024-12-31T09:04:24.858593",
          "2024-12-31T09:04:24.932941",
          "2024-12-31T09:04:24.984766",
          "2024-12-31T09:04:25.022805",
          "2024-12-31T09:04:25.119454",
          "2024-12-31T09:04:25.169535",
          "2024-12-31T09:04:25.230613",
          "2024-12-31T09:04:25.255363",
          "2024-12-31T09:04:25.337874",
          "2024-12-31T09:04:25.474459",
          "2024-12-31T09:04:25.599511",
          "2024-12-31T09:04:25.612955",
          "2024-12-31T09:04:25.720229",
          "2024-12-31T09:04:25.858157",
          "2024-12-31T09:04:25.992112",
          "2024-12-31T09:04:25.999538",
          "2024-12-31T09:04:26.008193",
          "2024-12-31T09:04:26.018117",
          "2024-12-31T09:04:26.143989",
          "2024-12-31T09:04:26.159975",
          "2024-12-31T09:04:26.303177",
          "2024-12-31T09:04:26.321406",
          "2024-12-31T09:04:26.404471",
          "2024-12-31T09:04:26.530416",
          "2024-12-31T09:04:26.752582",
          "2024-12-31T09:04:26.805953",
          "2024-12-31T09:04:28.849235",
          "2024-12-31T09:04:28.931022",
          "2024-12-31T09:04:29.197947",
          "2024-12-31T09:04:29.208053",
          "2024-12-31T09:04:29.220915",
          "2024-12-31T09:04:29.329020",
          "2024-12-31T09:04:29.400078",
          "2024-12-31T09:04:29.438444",
          "2024-12-31T09:04:29.465449",
          "2024-12-31T09:04:29.543911",
          "2024-12-31T09:04:29.692784",
          "2024-12-31T09:04:29.721443",
          "2024-12-31T09:04:29.804867",
          "2024-12-31T09:04:30.006759",
          "2024-12-31T09:04:30.115024",
          "2024-12-31T09:04:30.255689"
         ],
         "xaxis": "x",
         "y": [
          1,
          2,
          3,
          4,
          5,
          6,
          7,
          8,
          9,
          10,
          11,
          12,
          13,
          14,
          15,
          16,
          17,
          18,
          19,
          20,
          21,
          22,
          23,
          24,
          25,
          26,
          27,
          28,
          29,
          30,
          31,
          32,
          33,
          34,
          35,
          36,
          37,
          38,
          39,
          40,
          41,
          42,
          43,
          44,
          45,
          46,
          47,
          48,
          49,
          50,
          51,
          52,
          53,
          54,
          55,
          56,
          57,
          58,
          59,
          60,
          61,
          62,
          63,
          64,
          65,
          66,
          67,
          68,
          69,
          70,
          71,
          72,
          73,
          74,
          75,
          76,
          77,
          78,
          79,
          80,
          81,
          82,
          83,
          84,
          85,
          86,
          87,
          88,
          89,
          90,
          91,
          92,
          93,
          94,
          95,
          96,
          97,
          98,
          99,
          100
         ],
         "yaxis": "y"
        },
        {
         "hovertemplate": "state=active<br>Time=%{x}<br>message_id=%{y}<extra></extra>",
         "legendgroup": "active",
         "line": {
          "color": "#EF553B",
          "dash": "solid"
         },
         "marker": {
          "symbol": "circle"
         },
         "mode": "lines+markers",
         "name": "active",
         "orientation": "v",
         "showlegend": true,
         "type": "scatter",
         "x": [
          "2024-12-31T09:04:15.342196",
          "2024-12-31T09:04:15.342196",
          "2024-12-31T09:04:15.342196",
          "2024-12-31T09:04:15.342196",
          "2024-12-31T09:04:15.342196",
          "2024-12-31T09:04:17.737030",
          "2024-12-31T09:04:17.737030",
          "2024-12-31T09:04:17.737030",
          "2024-12-31T09:04:17.737030",
          "2024-12-31T09:04:17.737030",
          "2024-12-31T09:04:18.045480",
          "2024-12-31T09:04:18.045480",
          "2024-12-31T09:04:18.045480",
          "2024-12-31T09:04:18.045480",
          "2024-12-31T09:04:18.045480",
          "2024-12-31T09:04:18.076448",
          "2024-12-31T09:04:18.076448",
          "2024-12-31T09:04:18.076448",
          "2024-12-31T09:04:18.076448",
          "2024-12-31T09:04:18.076448",
          "2024-12-31T09:05:05.567133",
          "2024-12-31T09:05:05.567133",
          "2024-12-31T09:05:05.567133",
          "2024-12-31T09:05:05.567133",
          "2024-12-31T09:05:05.567133",
          "2024-12-31T09:05:07.988887",
          "2024-12-31T09:05:07.988887",
          "2024-12-31T09:05:07.988887",
          "2024-12-31T09:05:07.988887",
          "2024-12-31T09:05:07.988887",
          "2024-12-31T09:05:08.268193",
          "2024-12-31T09:05:08.268193",
          "2024-12-31T09:05:08.268193",
          "2024-12-31T09:05:08.268193",
          "2024-12-31T09:05:08.268193",
          "2024-12-31T09:05:08.305323",
          "2024-12-31T09:05:08.305323",
          "2024-12-31T09:05:08.305323",
          "2024-12-31T09:05:08.305323",
          "2024-12-31T09:05:08.305323",
          "2024-12-31T09:05:55.857732",
          "2024-12-31T09:05:55.857732",
          "2024-12-31T09:05:55.857732",
          "2024-12-31T09:05:55.857732",
          "2024-12-31T09:05:55.857732",
          "2024-12-31T09:05:58.329150",
          "2024-12-31T09:05:58.329150",
          "2024-12-31T09:05:58.329150",
          "2024-12-31T09:05:58.329150",
          "2024-12-31T09:05:58.329150",
          "2024-12-31T09:05:58.621199",
          "2024-12-31T09:05:58.621199",
          "2024-12-31T09:05:58.621199",
          "2024-12-31T09:05:58.621199",
          "2024-12-31T09:05:58.621199",
          "2024-12-31T09:05:58.666766",
          "2024-12-31T09:05:58.666766",
          "2024-12-31T09:05:58.666766",
          "2024-12-31T09:05:58.666766",
          "2024-12-31T09:05:58.666766",
          "2024-12-31T09:06:46.059501",
          "2024-12-31T09:06:46.059501",
          "2024-12-31T09:06:46.059501",
          "2024-12-31T09:06:46.059501",
          "2024-12-31T09:06:46.059501",
          "2024-12-31T09:06:48.555708",
          "2024-12-31T09:06:48.555708",
          "2024-12-31T09:06:48.555708",
          "2024-12-31T09:06:48.555708",
          "2024-12-31T09:06:48.555708",
          "2024-12-31T09:06:48.845956",
          "2024-12-31T09:06:48.845956",
          "2024-12-31T09:06:48.845956",
          "2024-12-31T09:06:48.845956",
          "2024-12-31T09:06:48.845956",
          "2024-12-31T09:06:48.885051",
          "2024-12-31T09:06:48.885051",
          "2024-12-31T09:06:48.885051",
          "2024-12-31T09:06:48.885051",
          "2024-12-31T09:06:48.885051",
          "2024-12-31T09:07:36.285160",
          "2024-12-31T09:07:36.285160",
          "2024-12-31T09:07:36.285160",
          "2024-12-31T09:07:36.285160",
          "2024-12-31T09:07:36.285160",
          "2024-12-31T09:07:38.797857",
          "2024-12-31T09:07:38.797857",
          "2024-12-31T09:07:38.797857",
          "2024-12-31T09:07:38.797857",
          "2024-12-31T09:07:38.797857",
          "2024-12-31T09:07:39.055269",
          "2024-12-31T09:07:39.055269",
          "2024-12-31T09:07:39.055269",
          "2024-12-31T09:07:39.055269",
          "2024-12-31T09:07:39.055269",
          "2024-12-31T09:07:39.104707",
          "2024-12-31T09:07:39.104707",
          "2024-12-31T09:07:39.104707",
          "2024-12-31T09:07:39.104707",
          "2024-12-31T09:07:39.104707"
         ],
         "xaxis": "x",
         "y": [
          1,
          2,
          3,
          4,
          5,
          10,
          8,
          9,
          7,
          6,
          11,
          12,
          13,
          14,
          15,
          20,
          19,
          17,
          16,
          18,
          25,
          23,
          24,
          21,
          22,
          28,
          30,
          29,
          27,
          26,
          34,
          33,
          35,
          31,
          32,
          40,
          39,
          38,
          37,
          36,
          45,
          44,
          43,
          42,
          41,
          50,
          49,
          48,
          47,
          46,
          55,
          54,
          51,
          52,
          53,
          60,
          59,
          58,
          56,
          57,
          65,
          64,
          61,
          62,
          63,
          66,
          67,
          68,
          69,
          70,
          71,
          72,
          73,
          74,
          75,
          76,
          77,
          78,
          79,
          80,
          81,
          82,
          83,
          84,
          85,
          86,
          87,
          88,
          89,
          90,
          91,
          92,
          93,
          94,
          95,
          96,
          97,
          98,
          99,
          100
         ],
         "yaxis": "y"
        },
        {
         "hovertemplate": "state=completed<br>Time=%{x}<br>message_id=%{y}<extra></extra>",
         "legendgroup": "completed",
         "line": {
          "color": "#00cc96",
          "dash": "solid"
         },
         "marker": {
          "symbol": "circle"
         },
         "mode": "lines+markers",
         "name": "completed",
         "orientation": "v",
         "showlegend": true,
         "type": "scatter",
         "x": [
          "2024-12-31T09:05:05.536981",
          "2024-12-31T09:05:05.537215",
          "2024-12-31T09:05:05.537414",
          "2024-12-31T09:05:05.537621",
          "2024-12-31T09:05:05.537828",
          "2024-12-31T09:05:07.954497",
          "2024-12-31T09:05:07.954768",
          "2024-12-31T09:05:07.954996",
          "2024-12-31T09:05:07.955306",
          "2024-12-31T09:05:07.955725",
          "2024-12-31T09:05:08.236159",
          "2024-12-31T09:05:08.236373",
          "2024-12-31T09:05:08.236582",
          "2024-12-31T09:05:08.236778",
          "2024-12-31T09:05:08.236970",
          "2024-12-31T09:05:08.273379",
          "2024-12-31T09:05:08.273618",
          "2024-12-31T09:05:08.273817",
          "2024-12-31T09:05:08.274009",
          "2024-12-31T09:05:08.274208",
          "2024-12-31T09:05:55.821506",
          "2024-12-31T09:05:55.821737",
          "2024-12-31T09:05:55.821941",
          "2024-12-31T09:05:55.822134",
          "2024-12-31T09:05:55.822327",
          "2024-12-31T09:05:58.298100",
          "2024-12-31T09:05:58.298343",
          "2024-12-31T09:05:58.298575",
          "2024-12-31T09:05:58.298856",
          "2024-12-31T09:05:58.299119",
          "2024-12-31T09:05:58.588522",
          "2024-12-31T09:05:58.588755",
          "2024-12-31T09:05:58.588988",
          "2024-12-31T09:05:58.589206",
          "2024-12-31T09:05:58.589414",
          "2024-12-31T09:05:58.633734",
          "2024-12-31T09:05:58.633959",
          "2024-12-31T09:05:58.634171",
          "2024-12-31T09:05:58.634378",
          "2024-12-31T09:05:58.634572",
          "2024-12-31T09:06:46.029722",
          "2024-12-31T09:06:46.029944",
          "2024-12-31T09:06:46.030146",
          "2024-12-31T09:06:46.030350",
          "2024-12-31T09:06:46.030561",
          "2024-12-31T09:06:48.523464",
          "2024-12-31T09:06:48.523702",
          "2024-12-31T09:06:48.523909",
          "2024-12-31T09:06:48.524116",
          "2024-12-31T09:06:48.524318",
          "2024-12-31T09:06:48.813195",
          "2024-12-31T09:06:48.813422",
          "2024-12-31T09:06:48.813634",
          "2024-12-31T09:06:48.813846",
          "2024-12-31T09:06:48.814043",
          "2024-12-31T09:06:48.854782",
          "2024-12-31T09:06:48.855021",
          "2024-12-31T09:06:48.855235",
          "2024-12-31T09:06:48.855440",
          "2024-12-31T09:06:48.855651",
          "2024-12-31T09:07:36.256342",
          "2024-12-31T09:07:36.256563",
          "2024-12-31T09:07:36.256882",
          "2024-12-31T09:07:36.257158",
          "2024-12-31T09:07:36.257387",
          "2024-12-31T09:07:38.768515",
          "2024-12-31T09:07:38.768772",
          "2024-12-31T09:07:38.768998",
          "2024-12-31T09:07:38.769221",
          "2024-12-31T09:07:38.769438",
          "2024-12-31T09:07:39.023370",
          "2024-12-31T09:07:39.023673",
          "2024-12-31T09:07:39.023933",
          "2024-12-31T09:07:39.024228",
          "2024-12-31T09:07:39.024458",
          "2024-12-31T09:07:39.074104",
          "2024-12-31T09:07:39.074315",
          "2024-12-31T09:07:39.074510",
          "2024-12-31T09:07:39.074699",
          "2024-12-31T09:07:39.075005",
          "2024-12-31T09:08:26.461294",
          "2024-12-31T09:08:26.461520",
          "2024-12-31T09:08:26.461718",
          "2024-12-31T09:08:26.461910",
          "2024-12-31T09:08:26.462115",
          "2024-12-31T09:08:28.979939",
          "2024-12-31T09:08:28.980168",
          "2024-12-31T09:08:28.980372",
          "2024-12-31T09:08:28.980576",
          "2024-12-31T09:08:28.980770",
          "2024-12-31T09:08:29.246038",
          "2024-12-31T09:08:29.246337",
          "2024-12-31T09:08:29.246542",
          "2024-12-31T09:08:29.246738",
          "2024-12-31T09:08:29.246933",
          "2024-12-31T09:08:29.318759",
          "2024-12-31T09:08:29.319066",
          "2024-12-31T09:08:29.319473",
          "2024-12-31T09:08:29.319688",
          "2024-12-31T09:08:29.319883"
         ],
         "xaxis": "x",
         "y": [
          1,
          2,
          3,
          4,
          5,
          6,
          7,
          8,
          9,
          10,
          11,
          12,
          13,
          14,
          15,
          16,
          17,
          18,
          19,
          20,
          21,
          22,
          23,
          24,
          25,
          26,
          27,
          28,
          29,
          30,
          31,
          32,
          33,
          34,
          35,
          36,
          37,
          38,
          39,
          40,
          41,
          42,
          43,
          44,
          45,
          46,
          47,
          48,
          49,
          50,
          51,
          52,
          53,
          54,
          55,
          56,
          57,
          58,
          59,
          60,
          61,
          62,
          63,
          64,
          65,
          66,
          67,
          68,
          69,
          70,
          71,
          72,
          73,
          74,
          75,
          76,
          77,
          78,
          79,
          80,
          81,
          82,
          83,
          84,
          85,
          86,
          87,
          88,
          89,
          90,
          91,
          92,
          93,
          94,
          95,
          96,
          97,
          98,
          99,
          100
         ],
         "yaxis": "y"
        }
       ],
       "layout": {
        "hovermode": "closest",
        "legend": {
         "title": {
          "text": "state"
         },
         "tracegroupgap": 0
        },
        "margin": {
         "b": 40,
         "l": 40,
         "r": 40,
         "t": 40
        },
        "template": {
         "data": {
          "bar": [
           {
            "error_x": {
             "color": "#f2f5fa"
            },
            "error_y": {
             "color": "#f2f5fa"
            },
            "marker": {
             "line": {
              "color": "rgb(17,17,17)",
              "width": 0.5
             },
             "pattern": {
              "fillmode": "overlay",
              "size": 10,
              "solidity": 0.2
             }
            },
            "type": "bar"
           }
          ],
          "barpolar": [
           {
            "marker": {
             "line": {
              "color": "rgb(17,17,17)",
              "width": 0.5
             },
             "pattern": {
              "fillmode": "overlay",
              "size": 10,
              "solidity": 0.2
             }
            },
            "type": "barpolar"
           }
          ],
          "carpet": [
           {
            "aaxis": {
             "endlinecolor": "#A2B1C6",
             "gridcolor": "#506784",
             "linecolor": "#506784",
             "minorgridcolor": "#506784",
             "startlinecolor": "#A2B1C6"
            },
            "baxis": {
             "endlinecolor": "#A2B1C6",
             "gridcolor": "#506784",
             "linecolor": "#506784",
             "minorgridcolor": "#506784",
             "startlinecolor": "#A2B1C6"
            },
            "type": "carpet"
           }
          ],
          "choropleth": [
           {
            "colorbar": {
             "outlinewidth": 0,
             "ticks": ""
            },
            "type": "choropleth"
           }
          ],
          "contour": [
           {
            "colorbar": {
             "outlinewidth": 0,
             "ticks": ""
            },
            "colorscale": [
             [
              0,
              "#0d0887"
             ],
             [
              0.1111111111111111,
              "#46039f"
             ],
             [
              0.2222222222222222,
              "#7201a8"
             ],
             [
              0.3333333333333333,
              "#9c179e"
             ],
             [
              0.4444444444444444,
              "#bd3786"
             ],
             [
              0.5555555555555556,
              "#d8576b"
             ],
             [
              0.6666666666666666,
              "#ed7953"
             ],
             [
              0.7777777777777778,
              "#fb9f3a"
             ],
             [
              0.8888888888888888,
              "#fdca26"
             ],
             [
              1,
              "#f0f921"
             ]
            ],
            "type": "contour"
           }
          ],
          "contourcarpet": [
           {
            "colorbar": {
             "outlinewidth": 0,
             "ticks": ""
            },
            "type": "contourcarpet"
           }
          ],
          "heatmap": [
           {
            "colorbar": {
             "outlinewidth": 0,
             "ticks": ""
            },
            "colorscale": [
             [
              0,
              "#0d0887"
             ],
             [
              0.1111111111111111,
              "#46039f"
             ],
             [
              0.2222222222222222,
              "#7201a8"
             ],
             [
              0.3333333333333333,
              "#9c179e"
             ],
             [
              0.4444444444444444,
              "#bd3786"
             ],
             [
              0.5555555555555556,
              "#d8576b"
             ],
             [
              0.6666666666666666,
              "#ed7953"
             ],
             [
              0.7777777777777778,
              "#fb9f3a"
             ],
             [
              0.8888888888888888,
              "#fdca26"
             ],
             [
              1,
              "#f0f921"
             ]
            ],
            "type": "heatmap"
           }
          ],
          "heatmapgl": [
           {
            "colorbar": {
             "outlinewidth": 0,
             "ticks": ""
            },
            "colorscale": [
             [
              0,
              "#0d0887"
             ],
             [
              0.1111111111111111,
              "#46039f"
             ],
             [
              0.2222222222222222,
              "#7201a8"
             ],
             [
              0.3333333333333333,
              "#9c179e"
             ],
             [
              0.4444444444444444,
              "#bd3786"
             ],
             [
              0.5555555555555556,
              "#d8576b"
             ],
             [
              0.6666666666666666,
              "#ed7953"
             ],
             [
              0.7777777777777778,
              "#fb9f3a"
             ],
             [
              0.8888888888888888,
              "#fdca26"
             ],
             [
              1,
              "#f0f921"
             ]
            ],
            "type": "heatmapgl"
           }
          ],
          "histogram": [
           {
            "marker": {
             "pattern": {
              "fillmode": "overlay",
              "size": 10,
              "solidity": 0.2
             }
            },
            "type": "histogram"
           }
          ],
          "histogram2d": [
           {
            "colorbar": {
             "outlinewidth": 0,
             "ticks": ""
            },
            "colorscale": [
             [
              0,
              "#0d0887"
             ],
             [
              0.1111111111111111,
              "#46039f"
             ],
             [
              0.2222222222222222,
              "#7201a8"
             ],
             [
              0.3333333333333333,
              "#9c179e"
             ],
             [
              0.4444444444444444,
              "#bd3786"
             ],
             [
              0.5555555555555556,
              "#d8576b"
             ],
             [
              0.6666666666666666,
              "#ed7953"
             ],
             [
              0.7777777777777778,
              "#fb9f3a"
             ],
             [
              0.8888888888888888,
              "#fdca26"
             ],
             [
              1,
              "#f0f921"
             ]
            ],
            "type": "histogram2d"
           }
          ],
          "histogram2dcontour": [
           {
            "colorbar": {
             "outlinewidth": 0,
             "ticks": ""
            },
            "colorscale": [
             [
              0,
              "#0d0887"
             ],
             [
              0.1111111111111111,
              "#46039f"
             ],
             [
              0.2222222222222222,
              "#7201a8"
             ],
             [
              0.3333333333333333,
              "#9c179e"
             ],
             [
              0.4444444444444444,
              "#bd3786"
             ],
             [
              0.5555555555555556,
              "#d8576b"
             ],
             [
              0.6666666666666666,
              "#ed7953"
             ],
             [
              0.7777777777777778,
              "#fb9f3a"
             ],
             [
              0.8888888888888888,
              "#fdca26"
             ],
             [
              1,
              "#f0f921"
             ]
            ],
            "type": "histogram2dcontour"
           }
          ],
          "mesh3d": [
           {
            "colorbar": {
             "outlinewidth": 0,
             "ticks": ""
            },
            "type": "mesh3d"
           }
          ],
          "parcoords": [
           {
            "line": {
             "colorbar": {
              "outlinewidth": 0,
              "ticks": ""
             }
            },
            "type": "parcoords"
           }
          ],
          "pie": [
           {
            "automargin": true,
            "type": "pie"
           }
          ],
          "scatter": [
           {
            "marker": {
             "line": {
              "color": "#283442"
             }
            },
            "type": "scatter"
           }
          ],
          "scatter3d": [
           {
            "line": {
             "colorbar": {
              "outlinewidth": 0,
              "ticks": ""
             }
            },
            "marker": {
             "colorbar": {
              "outlinewidth": 0,
              "ticks": ""
             }
            },
            "type": "scatter3d"
           }
          ],
          "scattercarpet": [
           {
            "marker": {
             "colorbar": {
              "outlinewidth": 0,
              "ticks": ""
             }
            },
            "type": "scattercarpet"
           }
          ],
          "scattergeo": [
           {
            "marker": {
             "colorbar": {
              "outlinewidth": 0,
              "ticks": ""
             }
            },
            "type": "scattergeo"
           }
          ],
          "scattergl": [
           {
            "marker": {
             "line": {
              "color": "#283442"
             }
            },
            "type": "scattergl"
           }
          ],
          "scattermapbox": [
           {
            "marker": {
             "colorbar": {
              "outlinewidth": 0,
              "ticks": ""
             }
            },
            "type": "scattermapbox"
           }
          ],
          "scatterpolar": [
           {
            "marker": {
             "colorbar": {
              "outlinewidth": 0,
              "ticks": ""
             }
            },
            "type": "scatterpolar"
           }
          ],
          "scatterpolargl": [
           {
            "marker": {
             "colorbar": {
              "outlinewidth": 0,
              "ticks": ""
             }
            },
            "type": "scatterpolargl"
           }
          ],
          "scatterternary": [
           {
            "marker": {
             "colorbar": {
              "outlinewidth": 0,
              "ticks": ""
             }
            },
            "type": "scatterternary"
           }
          ],
          "surface": [
           {
            "colorbar": {
             "outlinewidth": 0,
             "ticks": ""
            },
            "colorscale": [
             [
              0,
              "#0d0887"
             ],
             [
              0.1111111111111111,
              "#46039f"
             ],
             [
              0.2222222222222222,
              "#7201a8"
             ],
             [
              0.3333333333333333,
              "#9c179e"
             ],
             [
              0.4444444444444444,
              "#bd3786"
             ],
             [
              0.5555555555555556,
              "#d8576b"
             ],
             [
              0.6666666666666666,
              "#ed7953"
             ],
             [
              0.7777777777777778,
              "#fb9f3a"
             ],
             [
              0.8888888888888888,
              "#fdca26"
             ],
             [
              1,
              "#f0f921"
             ]
            ],
            "type": "surface"
           }
          ],
          "table": [
           {
            "cells": {
             "fill": {
              "color": "#506784"
             },
             "line": {
              "color": "rgb(17,17,17)"
             }
            },
            "header": {
             "fill": {
              "color": "#2a3f5f"
             },
             "line": {
              "color": "rgb(17,17,17)"
             }
            },
            "type": "table"
           }
          ]
         },
         "layout": {
          "annotationdefaults": {
           "arrowcolor": "#f2f5fa",
           "arrowhead": 0,
           "arrowwidth": 1
          },
          "autotypenumbers": "strict",
          "coloraxis": {
           "colorbar": {
            "outlinewidth": 0,
            "ticks": ""
           }
          },
          "colorscale": {
           "diverging": [
            [
             0,
             "#8e0152"
            ],
            [
             0.1,
             "#c51b7d"
            ],
            [
             0.2,
             "#de77ae"
            ],
            [
             0.3,
             "#f1b6da"
            ],
            [
             0.4,
             "#fde0ef"
            ],
            [
             0.5,
             "#f7f7f7"
            ],
            [
             0.6,
             "#e6f5d0"
            ],
            [
             0.7,
             "#b8e186"
            ],
            [
             0.8,
             "#7fbc41"
            ],
            [
             0.9,
             "#4d9221"
            ],
            [
             1,
             "#276419"
            ]
           ],
           "sequential": [
            [
             0,
             "#0d0887"
            ],
            [
             0.1111111111111111,
             "#46039f"
            ],
            [
             0.2222222222222222,
             "#7201a8"
            ],
            [
             0.3333333333333333,
             "#9c179e"
            ],
            [
             0.4444444444444444,
             "#bd3786"
            ],
            [
             0.5555555555555556,
             "#d8576b"
            ],
            [
             0.6666666666666666,
             "#ed7953"
            ],
            [
             0.7777777777777778,
             "#fb9f3a"
            ],
            [
             0.8888888888888888,
             "#fdca26"
            ],
            [
             1,
             "#f0f921"
            ]
           ],
           "sequentialminus": [
            [
             0,
             "#0d0887"
            ],
            [
             0.1111111111111111,
             "#46039f"
            ],
            [
             0.2222222222222222,
             "#7201a8"
            ],
            [
             0.3333333333333333,
             "#9c179e"
            ],
            [
             0.4444444444444444,
             "#bd3786"
            ],
            [
             0.5555555555555556,
             "#d8576b"
            ],
            [
             0.6666666666666666,
             "#ed7953"
            ],
            [
             0.7777777777777778,
             "#fb9f3a"
            ],
            [
             0.8888888888888888,
             "#fdca26"
            ],
            [
             1,
             "#f0f921"
            ]
           ]
          },
          "colorway": [
           "#636efa",
           "#EF553B",
           "#00cc96",
           "#ab63fa",
           "#FFA15A",
           "#19d3f3",
           "#FF6692",
           "#B6E880",
           "#FF97FF",
           "#FECB52"
          ],
          "font": {
           "color": "#f2f5fa"
          },
          "geo": {
           "bgcolor": "rgb(17,17,17)",
           "lakecolor": "rgb(17,17,17)",
           "landcolor": "rgb(17,17,17)",
           "showlakes": true,
           "showland": true,
           "subunitcolor": "#506784"
          },
          "hoverlabel": {
           "align": "left"
          },
          "hovermode": "closest",
          "mapbox": {
           "style": "dark"
          },
          "paper_bgcolor": "rgb(17,17,17)",
          "plot_bgcolor": "rgb(17,17,17)",
          "polar": {
           "angularaxis": {
            "gridcolor": "#506784",
            "linecolor": "#506784",
            "ticks": ""
           },
           "bgcolor": "rgb(17,17,17)",
           "radialaxis": {
            "gridcolor": "#506784",
            "linecolor": "#506784",
            "ticks": ""
           }
          },
          "scene": {
           "xaxis": {
            "backgroundcolor": "rgb(17,17,17)",
            "gridcolor": "#506784",
            "gridwidth": 2,
            "linecolor": "#506784",
            "showbackground": true,
            "ticks": "",
            "zerolinecolor": "#C8D4E3"
           },
           "yaxis": {
            "backgroundcolor": "rgb(17,17,17)",
            "gridcolor": "#506784",
            "gridwidth": 2,
            "linecolor": "#506784",
            "showbackground": true,
            "ticks": "",
            "zerolinecolor": "#C8D4E3"
           },
           "zaxis": {
            "backgroundcolor": "rgb(17,17,17)",
            "gridcolor": "#506784",
            "gridwidth": 2,
            "linecolor": "#506784",
            "showbackground": true,
            "ticks": "",
            "zerolinecolor": "#C8D4E3"
           }
          },
          "shapedefaults": {
           "line": {
            "color": "#f2f5fa"
           }
          },
          "sliderdefaults": {
           "bgcolor": "#C8D4E3",
           "bordercolor": "rgb(17,17,17)",
           "borderwidth": 1,
           "tickwidth": 0
          },
          "ternary": {
           "aaxis": {
            "gridcolor": "#506784",
            "linecolor": "#506784",
            "ticks": ""
           },
           "baxis": {
            "gridcolor": "#506784",
            "linecolor": "#506784",
            "ticks": ""
           },
           "bgcolor": "rgb(17,17,17)",
           "caxis": {
            "gridcolor": "#506784",
            "linecolor": "#506784",
            "ticks": ""
           }
          },
          "title": {
           "x": 0.05
          },
          "updatemenudefaults": {
           "bgcolor": "#506784",
           "borderwidth": 0
          },
          "xaxis": {
           "automargin": true,
           "gridcolor": "#283442",
           "linecolor": "#506784",
           "ticks": "",
           "title": {
            "standoff": 15
           },
           "zerolinecolor": "#283442",
           "zerolinewidth": 2
          },
          "yaxis": {
           "automargin": true,
           "gridcolor": "#283442",
           "linecolor": "#506784",
           "ticks": "",
           "title": {
            "standoff": 15
           },
           "zerolinecolor": "#283442",
           "zerolinewidth": 2
          }
         }
        },
        "title": {
         "text": "100 tasks 4 workers batch-size => 5 : fast Plot for Message Transitions Over Time"
        },
        "xaxis": {
         "anchor": "y",
         "domain": [
          0,
          1
         ],
         "showgrid": true,
         "title": {
          "text": "Timestamp"
         }
        },
        "yaxis": {
         "anchor": "x",
         "domain": [
          0,
          1
         ],
         "showgrid": true,
         "title": {
          "text": "State"
         }
        }
       }
      }
     },
     "metadata": {},
     "output_type": "display_data"
    },
    {
     "data": {
      "application/vnd.plotly.v1+json": {
       "config": {
        "plotlyServerURL": "https://plot.ly"
       },
       "data": [
        {
         "line": {
          "color": "blue"
         },
         "marker": {
          "color": "blue"
         },
         "mode": "lines+markers",
         "name": "Latency",
         "type": "scatter",
         "x": [
          1,
          2,
          3,
          4,
          5,
          6,
          7,
          8,
          9,
          10,
          11,
          12,
          13,
          14,
          15,
          16,
          17,
          18,
          19,
          20,
          21,
          22,
          23,
          24,
          25,
          26,
          27,
          28,
          29,
          30,
          31,
          32,
          33,
          34,
          35,
          36,
          37,
          38,
          39,
          40,
          41,
          42,
          43,
          44,
          45,
          46,
          47,
          48,
          49,
          50,
          51,
          52,
          53,
          54,
          55,
          56,
          57,
          58,
          59,
          60,
          61,
          62,
          63,
          64,
          65,
          66,
          67,
          68,
          69,
          70,
          71,
          72,
          73,
          74,
          75,
          76,
          77,
          78,
          79,
          80,
          81,
          82,
          83,
          84,
          85,
          86,
          87,
          88,
          89,
          90,
          91,
          92,
          93,
          94,
          95,
          96,
          97,
          98,
          99,
          100
         ],
         "y": [
          52.375139,
          52.344412,
          52.006831,
          51.973409,
          51.958241,
          54.354273,
          54.351207,
          54.349323,
          54.346422,
          54.344936,
          54.582151,
          54.536281,
          54.517845,
          54.514524,
          54.486352,
          54.502244,
          54.416091,
          54.38447,
          54.333384,
          54.329891,
          101.826572,
          101.823984,
          101.724653,
          101.672647,
          101.647984,
          103.929221,
          103.794613,
          103.617267,
          99.249911,
          99.210371,
          99.497538,
          99.485002,
          99.479247,
          99.38632,
          99.360994,
          99.40095,
          99.351711,
          99.318178,
          99.17429,
          99.152328,
          146.507248,
          146.471529,
          146.390203,
          146.347817,
          146.243078,
          148.727358,
          148.573672,
          148.558659,
          148.387304,
          148.35705,
          148.627794,
          148.577013,
          148.41391,
          148.352228,
          148.270669,
          148.182474,
          144.246568,
          144.148226,
          143.996847,
          143.92271,
          191.271576,
          191.233758,
          191.137428,
          191.087623,
          191.026774,
          193.513152,
          193.430898,
          193.294539,
          193.16971,
          193.156483,
          193.303141,
          193.165516,
          193.031821,
          193.02469,
          193.016265,
          193.055987,
          192.930326,
          192.914535,
          192.771522,
          192.753599,
          240.056823,
          239.931104,
          239.709136,
          239.655957,
          237.61288,
          240.048917,
          239.782221,
          239.772319,
          239.759661,
          239.65175,
          239.84596,
          239.807893,
          239.781093,
          239.702827,
          239.554149,
          239.597316,
          239.514199,
          239.312714,
          239.204664,
          239.064194
         ]
        }
       ],
       "layout": {
        "legend": {
         "title": {
          "text": "Legend"
         }
        },
        "template": {
         "data": {
          "bar": [
           {
            "error_x": {
             "color": "#f2f5fa"
            },
            "error_y": {
             "color": "#f2f5fa"
            },
            "marker": {
             "line": {
              "color": "rgb(17,17,17)",
              "width": 0.5
             },
             "pattern": {
              "fillmode": "overlay",
              "size": 10,
              "solidity": 0.2
             }
            },
            "type": "bar"
           }
          ],
          "barpolar": [
           {
            "marker": {
             "line": {
              "color": "rgb(17,17,17)",
              "width": 0.5
             },
             "pattern": {
              "fillmode": "overlay",
              "size": 10,
              "solidity": 0.2
             }
            },
            "type": "barpolar"
           }
          ],
          "carpet": [
           {
            "aaxis": {
             "endlinecolor": "#A2B1C6",
             "gridcolor": "#506784",
             "linecolor": "#506784",
             "minorgridcolor": "#506784",
             "startlinecolor": "#A2B1C6"
            },
            "baxis": {
             "endlinecolor": "#A2B1C6",
             "gridcolor": "#506784",
             "linecolor": "#506784",
             "minorgridcolor": "#506784",
             "startlinecolor": "#A2B1C6"
            },
            "type": "carpet"
           }
          ],
          "choropleth": [
           {
            "colorbar": {
             "outlinewidth": 0,
             "ticks": ""
            },
            "type": "choropleth"
           }
          ],
          "contour": [
           {
            "colorbar": {
             "outlinewidth": 0,
             "ticks": ""
            },
            "colorscale": [
             [
              0,
              "#0d0887"
             ],
             [
              0.1111111111111111,
              "#46039f"
             ],
             [
              0.2222222222222222,
              "#7201a8"
             ],
             [
              0.3333333333333333,
              "#9c179e"
             ],
             [
              0.4444444444444444,
              "#bd3786"
             ],
             [
              0.5555555555555556,
              "#d8576b"
             ],
             [
              0.6666666666666666,
              "#ed7953"
             ],
             [
              0.7777777777777778,
              "#fb9f3a"
             ],
             [
              0.8888888888888888,
              "#fdca26"
             ],
             [
              1,
              "#f0f921"
             ]
            ],
            "type": "contour"
           }
          ],
          "contourcarpet": [
           {
            "colorbar": {
             "outlinewidth": 0,
             "ticks": ""
            },
            "type": "contourcarpet"
           }
          ],
          "heatmap": [
           {
            "colorbar": {
             "outlinewidth": 0,
             "ticks": ""
            },
            "colorscale": [
             [
              0,
              "#0d0887"
             ],
             [
              0.1111111111111111,
              "#46039f"
             ],
             [
              0.2222222222222222,
              "#7201a8"
             ],
             [
              0.3333333333333333,
              "#9c179e"
             ],
             [
              0.4444444444444444,
              "#bd3786"
             ],
             [
              0.5555555555555556,
              "#d8576b"
             ],
             [
              0.6666666666666666,
              "#ed7953"
             ],
             [
              0.7777777777777778,
              "#fb9f3a"
             ],
             [
              0.8888888888888888,
              "#fdca26"
             ],
             [
              1,
              "#f0f921"
             ]
            ],
            "type": "heatmap"
           }
          ],
          "heatmapgl": [
           {
            "colorbar": {
             "outlinewidth": 0,
             "ticks": ""
            },
            "colorscale": [
             [
              0,
              "#0d0887"
             ],
             [
              0.1111111111111111,
              "#46039f"
             ],
             [
              0.2222222222222222,
              "#7201a8"
             ],
             [
              0.3333333333333333,
              "#9c179e"
             ],
             [
              0.4444444444444444,
              "#bd3786"
             ],
             [
              0.5555555555555556,
              "#d8576b"
             ],
             [
              0.6666666666666666,
              "#ed7953"
             ],
             [
              0.7777777777777778,
              "#fb9f3a"
             ],
             [
              0.8888888888888888,
              "#fdca26"
             ],
             [
              1,
              "#f0f921"
             ]
            ],
            "type": "heatmapgl"
           }
          ],
          "histogram": [
           {
            "marker": {
             "pattern": {
              "fillmode": "overlay",
              "size": 10,
              "solidity": 0.2
             }
            },
            "type": "histogram"
           }
          ],
          "histogram2d": [
           {
            "colorbar": {
             "outlinewidth": 0,
             "ticks": ""
            },
            "colorscale": [
             [
              0,
              "#0d0887"
             ],
             [
              0.1111111111111111,
              "#46039f"
             ],
             [
              0.2222222222222222,
              "#7201a8"
             ],
             [
              0.3333333333333333,
              "#9c179e"
             ],
             [
              0.4444444444444444,
              "#bd3786"
             ],
             [
              0.5555555555555556,
              "#d8576b"
             ],
             [
              0.6666666666666666,
              "#ed7953"
             ],
             [
              0.7777777777777778,
              "#fb9f3a"
             ],
             [
              0.8888888888888888,
              "#fdca26"
             ],
             [
              1,
              "#f0f921"
             ]
            ],
            "type": "histogram2d"
           }
          ],
          "histogram2dcontour": [
           {
            "colorbar": {
             "outlinewidth": 0,
             "ticks": ""
            },
            "colorscale": [
             [
              0,
              "#0d0887"
             ],
             [
              0.1111111111111111,
              "#46039f"
             ],
             [
              0.2222222222222222,
              "#7201a8"
             ],
             [
              0.3333333333333333,
              "#9c179e"
             ],
             [
              0.4444444444444444,
              "#bd3786"
             ],
             [
              0.5555555555555556,
              "#d8576b"
             ],
             [
              0.6666666666666666,
              "#ed7953"
             ],
             [
              0.7777777777777778,
              "#fb9f3a"
             ],
             [
              0.8888888888888888,
              "#fdca26"
             ],
             [
              1,
              "#f0f921"
             ]
            ],
            "type": "histogram2dcontour"
           }
          ],
          "mesh3d": [
           {
            "colorbar": {
             "outlinewidth": 0,
             "ticks": ""
            },
            "type": "mesh3d"
           }
          ],
          "parcoords": [
           {
            "line": {
             "colorbar": {
              "outlinewidth": 0,
              "ticks": ""
             }
            },
            "type": "parcoords"
           }
          ],
          "pie": [
           {
            "automargin": true,
            "type": "pie"
           }
          ],
          "scatter": [
           {
            "marker": {
             "line": {
              "color": "#283442"
             }
            },
            "type": "scatter"
           }
          ],
          "scatter3d": [
           {
            "line": {
             "colorbar": {
              "outlinewidth": 0,
              "ticks": ""
             }
            },
            "marker": {
             "colorbar": {
              "outlinewidth": 0,
              "ticks": ""
             }
            },
            "type": "scatter3d"
           }
          ],
          "scattercarpet": [
           {
            "marker": {
             "colorbar": {
              "outlinewidth": 0,
              "ticks": ""
             }
            },
            "type": "scattercarpet"
           }
          ],
          "scattergeo": [
           {
            "marker": {
             "colorbar": {
              "outlinewidth": 0,
              "ticks": ""
             }
            },
            "type": "scattergeo"
           }
          ],
          "scattergl": [
           {
            "marker": {
             "line": {
              "color": "#283442"
             }
            },
            "type": "scattergl"
           }
          ],
          "scattermapbox": [
           {
            "marker": {
             "colorbar": {
              "outlinewidth": 0,
              "ticks": ""
             }
            },
            "type": "scattermapbox"
           }
          ],
          "scatterpolar": [
           {
            "marker": {
             "colorbar": {
              "outlinewidth": 0,
              "ticks": ""
             }
            },
            "type": "scatterpolar"
           }
          ],
          "scatterpolargl": [
           {
            "marker": {
             "colorbar": {
              "outlinewidth": 0,
              "ticks": ""
             }
            },
            "type": "scatterpolargl"
           }
          ],
          "scatterternary": [
           {
            "marker": {
             "colorbar": {
              "outlinewidth": 0,
              "ticks": ""
             }
            },
            "type": "scatterternary"
           }
          ],
          "surface": [
           {
            "colorbar": {
             "outlinewidth": 0,
             "ticks": ""
            },
            "colorscale": [
             [
              0,
              "#0d0887"
             ],
             [
              0.1111111111111111,
              "#46039f"
             ],
             [
              0.2222222222222222,
              "#7201a8"
             ],
             [
              0.3333333333333333,
              "#9c179e"
             ],
             [
              0.4444444444444444,
              "#bd3786"
             ],
             [
              0.5555555555555556,
              "#d8576b"
             ],
             [
              0.6666666666666666,
              "#ed7953"
             ],
             [
              0.7777777777777778,
              "#fb9f3a"
             ],
             [
              0.8888888888888888,
              "#fdca26"
             ],
             [
              1,
              "#f0f921"
             ]
            ],
            "type": "surface"
           }
          ],
          "table": [
           {
            "cells": {
             "fill": {
              "color": "#506784"
             },
             "line": {
              "color": "rgb(17,17,17)"
             }
            },
            "header": {
             "fill": {
              "color": "#2a3f5f"
             },
             "line": {
              "color": "rgb(17,17,17)"
             }
            },
            "type": "table"
           }
          ]
         },
         "layout": {
          "annotationdefaults": {
           "arrowcolor": "#f2f5fa",
           "arrowhead": 0,
           "arrowwidth": 1
          },
          "autotypenumbers": "strict",
          "coloraxis": {
           "colorbar": {
            "outlinewidth": 0,
            "ticks": ""
           }
          },
          "colorscale": {
           "diverging": [
            [
             0,
             "#8e0152"
            ],
            [
             0.1,
             "#c51b7d"
            ],
            [
             0.2,
             "#de77ae"
            ],
            [
             0.3,
             "#f1b6da"
            ],
            [
             0.4,
             "#fde0ef"
            ],
            [
             0.5,
             "#f7f7f7"
            ],
            [
             0.6,
             "#e6f5d0"
            ],
            [
             0.7,
             "#b8e186"
            ],
            [
             0.8,
             "#7fbc41"
            ],
            [
             0.9,
             "#4d9221"
            ],
            [
             1,
             "#276419"
            ]
           ],
           "sequential": [
            [
             0,
             "#0d0887"
            ],
            [
             0.1111111111111111,
             "#46039f"
            ],
            [
             0.2222222222222222,
             "#7201a8"
            ],
            [
             0.3333333333333333,
             "#9c179e"
            ],
            [
             0.4444444444444444,
             "#bd3786"
            ],
            [
             0.5555555555555556,
             "#d8576b"
            ],
            [
             0.6666666666666666,
             "#ed7953"
            ],
            [
             0.7777777777777778,
             "#fb9f3a"
            ],
            [
             0.8888888888888888,
             "#fdca26"
            ],
            [
             1,
             "#f0f921"
            ]
           ],
           "sequentialminus": [
            [
             0,
             "#0d0887"
            ],
            [
             0.1111111111111111,
             "#46039f"
            ],
            [
             0.2222222222222222,
             "#7201a8"
            ],
            [
             0.3333333333333333,
             "#9c179e"
            ],
            [
             0.4444444444444444,
             "#bd3786"
            ],
            [
             0.5555555555555556,
             "#d8576b"
            ],
            [
             0.6666666666666666,
             "#ed7953"
            ],
            [
             0.7777777777777778,
             "#fb9f3a"
            ],
            [
             0.8888888888888888,
             "#fdca26"
            ],
            [
             1,
             "#f0f921"
            ]
           ]
          },
          "colorway": [
           "#636efa",
           "#EF553B",
           "#00cc96",
           "#ab63fa",
           "#FFA15A",
           "#19d3f3",
           "#FF6692",
           "#B6E880",
           "#FF97FF",
           "#FECB52"
          ],
          "font": {
           "color": "#f2f5fa"
          },
          "geo": {
           "bgcolor": "rgb(17,17,17)",
           "lakecolor": "rgb(17,17,17)",
           "landcolor": "rgb(17,17,17)",
           "showlakes": true,
           "showland": true,
           "subunitcolor": "#506784"
          },
          "hoverlabel": {
           "align": "left"
          },
          "hovermode": "closest",
          "mapbox": {
           "style": "dark"
          },
          "paper_bgcolor": "rgb(17,17,17)",
          "plot_bgcolor": "rgb(17,17,17)",
          "polar": {
           "angularaxis": {
            "gridcolor": "#506784",
            "linecolor": "#506784",
            "ticks": ""
           },
           "bgcolor": "rgb(17,17,17)",
           "radialaxis": {
            "gridcolor": "#506784",
            "linecolor": "#506784",
            "ticks": ""
           }
          },
          "scene": {
           "xaxis": {
            "backgroundcolor": "rgb(17,17,17)",
            "gridcolor": "#506784",
            "gridwidth": 2,
            "linecolor": "#506784",
            "showbackground": true,
            "ticks": "",
            "zerolinecolor": "#C8D4E3"
           },
           "yaxis": {
            "backgroundcolor": "rgb(17,17,17)",
            "gridcolor": "#506784",
            "gridwidth": 2,
            "linecolor": "#506784",
            "showbackground": true,
            "ticks": "",
            "zerolinecolor": "#C8D4E3"
           },
           "zaxis": {
            "backgroundcolor": "rgb(17,17,17)",
            "gridcolor": "#506784",
            "gridwidth": 2,
            "linecolor": "#506784",
            "showbackground": true,
            "ticks": "",
            "zerolinecolor": "#C8D4E3"
           }
          },
          "shapedefaults": {
           "line": {
            "color": "#f2f5fa"
           }
          },
          "sliderdefaults": {
           "bgcolor": "#C8D4E3",
           "bordercolor": "rgb(17,17,17)",
           "borderwidth": 1,
           "tickwidth": 0
          },
          "ternary": {
           "aaxis": {
            "gridcolor": "#506784",
            "linecolor": "#506784",
            "ticks": ""
           },
           "baxis": {
            "gridcolor": "#506784",
            "linecolor": "#506784",
            "ticks": ""
           },
           "bgcolor": "rgb(17,17,17)",
           "caxis": {
            "gridcolor": "#506784",
            "linecolor": "#506784",
            "ticks": ""
           }
          },
          "title": {
           "x": 0.05
          },
          "updatemenudefaults": {
           "bgcolor": "#506784",
           "borderwidth": 0
          },
          "xaxis": {
           "automargin": true,
           "gridcolor": "#283442",
           "linecolor": "#506784",
           "ticks": "",
           "title": {
            "standoff": 15
           },
           "zerolinecolor": "#283442",
           "zerolinewidth": 2
          },
          "yaxis": {
           "automargin": true,
           "gridcolor": "#283442",
           "linecolor": "#506784",
           "ticks": "",
           "title": {
            "standoff": 15
           },
           "zerolinecolor": "#283442",
           "zerolinewidth": 2
          }
         }
        },
        "title": {
         "text": "100 tasks 4 workers batch-size => 5 : fast  Plot for Latency Trends Over Time"
        },
        "xaxis": {
         "showgrid": true,
         "title": {
          "text": "Message ID"
         }
        },
        "yaxis": {
         "showgrid": true,
         "title": {
          "text": "Latency (seconds)"
         }
        }
       }
      }
     },
     "metadata": {},
     "output_type": "display_data"
    },
    {
     "name": "stdout",
     "output_type": "stream",
     "text": [
      "throughput => timestamp\n",
      "2024-12-31 09:05:00    20\n",
      "2024-12-31 09:05:10     0\n",
      "2024-12-31 09:05:20     0\n",
      "2024-12-31 09:05:30     0\n",
      "2024-12-31 09:05:40     0\n",
      "2024-12-31 09:05:50    20\n",
      "2024-12-31 09:06:00     0\n",
      "2024-12-31 09:06:10     0\n",
      "2024-12-31 09:06:20     0\n",
      "2024-12-31 09:06:30     0\n",
      "2024-12-31 09:06:40    20\n",
      "2024-12-31 09:06:50     0\n",
      "2024-12-31 09:07:00     0\n",
      "2024-12-31 09:07:10     0\n",
      "2024-12-31 09:07:20     0\n",
      "2024-12-31 09:07:30    20\n",
      "2024-12-31 09:07:40     0\n",
      "2024-12-31 09:07:50     0\n",
      "2024-12-31 09:08:00     0\n",
      "2024-12-31 09:08:10     0\n",
      "2024-12-31 09:08:20    20\n",
      "Freq: 10S, dtype: int64\n"
     ]
    },
    {
     "data": {
      "application/vnd.plotly.v1+json": {
       "config": {
        "plotlyServerURL": "https://plot.ly"
       },
       "data": [
        {
         "line": {
          "color": "green"
         },
         "marker": {
          "color": "green"
         },
         "mode": "lines+markers",
         "name": "Throughput",
         "type": "scatter",
         "x": [
          "2024-12-31T09:05:00",
          "2024-12-31T09:05:10",
          "2024-12-31T09:05:20",
          "2024-12-31T09:05:30",
          "2024-12-31T09:05:40",
          "2024-12-31T09:05:50",
          "2024-12-31T09:06:00",
          "2024-12-31T09:06:10",
          "2024-12-31T09:06:20",
          "2024-12-31T09:06:30",
          "2024-12-31T09:06:40",
          "2024-12-31T09:06:50",
          "2024-12-31T09:07:00",
          "2024-12-31T09:07:10",
          "2024-12-31T09:07:20",
          "2024-12-31T09:07:30",
          "2024-12-31T09:07:40",
          "2024-12-31T09:07:50",
          "2024-12-31T09:08:00",
          "2024-12-31T09:08:10",
          "2024-12-31T09:08:20"
         ],
         "y": [
          20,
          0,
          0,
          0,
          0,
          20,
          0,
          0,
          0,
          0,
          20,
          0,
          0,
          0,
          0,
          20,
          0,
          0,
          0,
          0,
          20
         ]
        }
       ],
       "layout": {
        "legend": {
         "title": {
          "text": "Legend"
         }
        },
        "template": {
         "data": {
          "bar": [
           {
            "error_x": {
             "color": "#f2f5fa"
            },
            "error_y": {
             "color": "#f2f5fa"
            },
            "marker": {
             "line": {
              "color": "rgb(17,17,17)",
              "width": 0.5
             },
             "pattern": {
              "fillmode": "overlay",
              "size": 10,
              "solidity": 0.2
             }
            },
            "type": "bar"
           }
          ],
          "barpolar": [
           {
            "marker": {
             "line": {
              "color": "rgb(17,17,17)",
              "width": 0.5
             },
             "pattern": {
              "fillmode": "overlay",
              "size": 10,
              "solidity": 0.2
             }
            },
            "type": "barpolar"
           }
          ],
          "carpet": [
           {
            "aaxis": {
             "endlinecolor": "#A2B1C6",
             "gridcolor": "#506784",
             "linecolor": "#506784",
             "minorgridcolor": "#506784",
             "startlinecolor": "#A2B1C6"
            },
            "baxis": {
             "endlinecolor": "#A2B1C6",
             "gridcolor": "#506784",
             "linecolor": "#506784",
             "minorgridcolor": "#506784",
             "startlinecolor": "#A2B1C6"
            },
            "type": "carpet"
           }
          ],
          "choropleth": [
           {
            "colorbar": {
             "outlinewidth": 0,
             "ticks": ""
            },
            "type": "choropleth"
           }
          ],
          "contour": [
           {
            "colorbar": {
             "outlinewidth": 0,
             "ticks": ""
            },
            "colorscale": [
             [
              0,
              "#0d0887"
             ],
             [
              0.1111111111111111,
              "#46039f"
             ],
             [
              0.2222222222222222,
              "#7201a8"
             ],
             [
              0.3333333333333333,
              "#9c179e"
             ],
             [
              0.4444444444444444,
              "#bd3786"
             ],
             [
              0.5555555555555556,
              "#d8576b"
             ],
             [
              0.6666666666666666,
              "#ed7953"
             ],
             [
              0.7777777777777778,
              "#fb9f3a"
             ],
             [
              0.8888888888888888,
              "#fdca26"
             ],
             [
              1,
              "#f0f921"
             ]
            ],
            "type": "contour"
           }
          ],
          "contourcarpet": [
           {
            "colorbar": {
             "outlinewidth": 0,
             "ticks": ""
            },
            "type": "contourcarpet"
           }
          ],
          "heatmap": [
           {
            "colorbar": {
             "outlinewidth": 0,
             "ticks": ""
            },
            "colorscale": [
             [
              0,
              "#0d0887"
             ],
             [
              0.1111111111111111,
              "#46039f"
             ],
             [
              0.2222222222222222,
              "#7201a8"
             ],
             [
              0.3333333333333333,
              "#9c179e"
             ],
             [
              0.4444444444444444,
              "#bd3786"
             ],
             [
              0.5555555555555556,
              "#d8576b"
             ],
             [
              0.6666666666666666,
              "#ed7953"
             ],
             [
              0.7777777777777778,
              "#fb9f3a"
             ],
             [
              0.8888888888888888,
              "#fdca26"
             ],
             [
              1,
              "#f0f921"
             ]
            ],
            "type": "heatmap"
           }
          ],
          "heatmapgl": [
           {
            "colorbar": {
             "outlinewidth": 0,
             "ticks": ""
            },
            "colorscale": [
             [
              0,
              "#0d0887"
             ],
             [
              0.1111111111111111,
              "#46039f"
             ],
             [
              0.2222222222222222,
              "#7201a8"
             ],
             [
              0.3333333333333333,
              "#9c179e"
             ],
             [
              0.4444444444444444,
              "#bd3786"
             ],
             [
              0.5555555555555556,
              "#d8576b"
             ],
             [
              0.6666666666666666,
              "#ed7953"
             ],
             [
              0.7777777777777778,
              "#fb9f3a"
             ],
             [
              0.8888888888888888,
              "#fdca26"
             ],
             [
              1,
              "#f0f921"
             ]
            ],
            "type": "heatmapgl"
           }
          ],
          "histogram": [
           {
            "marker": {
             "pattern": {
              "fillmode": "overlay",
              "size": 10,
              "solidity": 0.2
             }
            },
            "type": "histogram"
           }
          ],
          "histogram2d": [
           {
            "colorbar": {
             "outlinewidth": 0,
             "ticks": ""
            },
            "colorscale": [
             [
              0,
              "#0d0887"
             ],
             [
              0.1111111111111111,
              "#46039f"
             ],
             [
              0.2222222222222222,
              "#7201a8"
             ],
             [
              0.3333333333333333,
              "#9c179e"
             ],
             [
              0.4444444444444444,
              "#bd3786"
             ],
             [
              0.5555555555555556,
              "#d8576b"
             ],
             [
              0.6666666666666666,
              "#ed7953"
             ],
             [
              0.7777777777777778,
              "#fb9f3a"
             ],
             [
              0.8888888888888888,
              "#fdca26"
             ],
             [
              1,
              "#f0f921"
             ]
            ],
            "type": "histogram2d"
           }
          ],
          "histogram2dcontour": [
           {
            "colorbar": {
             "outlinewidth": 0,
             "ticks": ""
            },
            "colorscale": [
             [
              0,
              "#0d0887"
             ],
             [
              0.1111111111111111,
              "#46039f"
             ],
             [
              0.2222222222222222,
              "#7201a8"
             ],
             [
              0.3333333333333333,
              "#9c179e"
             ],
             [
              0.4444444444444444,
              "#bd3786"
             ],
             [
              0.5555555555555556,
              "#d8576b"
             ],
             [
              0.6666666666666666,
              "#ed7953"
             ],
             [
              0.7777777777777778,
              "#fb9f3a"
             ],
             [
              0.8888888888888888,
              "#fdca26"
             ],
             [
              1,
              "#f0f921"
             ]
            ],
            "type": "histogram2dcontour"
           }
          ],
          "mesh3d": [
           {
            "colorbar": {
             "outlinewidth": 0,
             "ticks": ""
            },
            "type": "mesh3d"
           }
          ],
          "parcoords": [
           {
            "line": {
             "colorbar": {
              "outlinewidth": 0,
              "ticks": ""
             }
            },
            "type": "parcoords"
           }
          ],
          "pie": [
           {
            "automargin": true,
            "type": "pie"
           }
          ],
          "scatter": [
           {
            "marker": {
             "line": {
              "color": "#283442"
             }
            },
            "type": "scatter"
           }
          ],
          "scatter3d": [
           {
            "line": {
             "colorbar": {
              "outlinewidth": 0,
              "ticks": ""
             }
            },
            "marker": {
             "colorbar": {
              "outlinewidth": 0,
              "ticks": ""
             }
            },
            "type": "scatter3d"
           }
          ],
          "scattercarpet": [
           {
            "marker": {
             "colorbar": {
              "outlinewidth": 0,
              "ticks": ""
             }
            },
            "type": "scattercarpet"
           }
          ],
          "scattergeo": [
           {
            "marker": {
             "colorbar": {
              "outlinewidth": 0,
              "ticks": ""
             }
            },
            "type": "scattergeo"
           }
          ],
          "scattergl": [
           {
            "marker": {
             "line": {
              "color": "#283442"
             }
            },
            "type": "scattergl"
           }
          ],
          "scattermapbox": [
           {
            "marker": {
             "colorbar": {
              "outlinewidth": 0,
              "ticks": ""
             }
            },
            "type": "scattermapbox"
           }
          ],
          "scatterpolar": [
           {
            "marker": {
             "colorbar": {
              "outlinewidth": 0,
              "ticks": ""
             }
            },
            "type": "scatterpolar"
           }
          ],
          "scatterpolargl": [
           {
            "marker": {
             "colorbar": {
              "outlinewidth": 0,
              "ticks": ""
             }
            },
            "type": "scatterpolargl"
           }
          ],
          "scatterternary": [
           {
            "marker": {
             "colorbar": {
              "outlinewidth": 0,
              "ticks": ""
             }
            },
            "type": "scatterternary"
           }
          ],
          "surface": [
           {
            "colorbar": {
             "outlinewidth": 0,
             "ticks": ""
            },
            "colorscale": [
             [
              0,
              "#0d0887"
             ],
             [
              0.1111111111111111,
              "#46039f"
             ],
             [
              0.2222222222222222,
              "#7201a8"
             ],
             [
              0.3333333333333333,
              "#9c179e"
             ],
             [
              0.4444444444444444,
              "#bd3786"
             ],
             [
              0.5555555555555556,
              "#d8576b"
             ],
             [
              0.6666666666666666,
              "#ed7953"
             ],
             [
              0.7777777777777778,
              "#fb9f3a"
             ],
             [
              0.8888888888888888,
              "#fdca26"
             ],
             [
              1,
              "#f0f921"
             ]
            ],
            "type": "surface"
           }
          ],
          "table": [
           {
            "cells": {
             "fill": {
              "color": "#506784"
             },
             "line": {
              "color": "rgb(17,17,17)"
             }
            },
            "header": {
             "fill": {
              "color": "#2a3f5f"
             },
             "line": {
              "color": "rgb(17,17,17)"
             }
            },
            "type": "table"
           }
          ]
         },
         "layout": {
          "annotationdefaults": {
           "arrowcolor": "#f2f5fa",
           "arrowhead": 0,
           "arrowwidth": 1
          },
          "autotypenumbers": "strict",
          "coloraxis": {
           "colorbar": {
            "outlinewidth": 0,
            "ticks": ""
           }
          },
          "colorscale": {
           "diverging": [
            [
             0,
             "#8e0152"
            ],
            [
             0.1,
             "#c51b7d"
            ],
            [
             0.2,
             "#de77ae"
            ],
            [
             0.3,
             "#f1b6da"
            ],
            [
             0.4,
             "#fde0ef"
            ],
            [
             0.5,
             "#f7f7f7"
            ],
            [
             0.6,
             "#e6f5d0"
            ],
            [
             0.7,
             "#b8e186"
            ],
            [
             0.8,
             "#7fbc41"
            ],
            [
             0.9,
             "#4d9221"
            ],
            [
             1,
             "#276419"
            ]
           ],
           "sequential": [
            [
             0,
             "#0d0887"
            ],
            [
             0.1111111111111111,
             "#46039f"
            ],
            [
             0.2222222222222222,
             "#7201a8"
            ],
            [
             0.3333333333333333,
             "#9c179e"
            ],
            [
             0.4444444444444444,
             "#bd3786"
            ],
            [
             0.5555555555555556,
             "#d8576b"
            ],
            [
             0.6666666666666666,
             "#ed7953"
            ],
            [
             0.7777777777777778,
             "#fb9f3a"
            ],
            [
             0.8888888888888888,
             "#fdca26"
            ],
            [
             1,
             "#f0f921"
            ]
           ],
           "sequentialminus": [
            [
             0,
             "#0d0887"
            ],
            [
             0.1111111111111111,
             "#46039f"
            ],
            [
             0.2222222222222222,
             "#7201a8"
            ],
            [
             0.3333333333333333,
             "#9c179e"
            ],
            [
             0.4444444444444444,
             "#bd3786"
            ],
            [
             0.5555555555555556,
             "#d8576b"
            ],
            [
             0.6666666666666666,
             "#ed7953"
            ],
            [
             0.7777777777777778,
             "#fb9f3a"
            ],
            [
             0.8888888888888888,
             "#fdca26"
            ],
            [
             1,
             "#f0f921"
            ]
           ]
          },
          "colorway": [
           "#636efa",
           "#EF553B",
           "#00cc96",
           "#ab63fa",
           "#FFA15A",
           "#19d3f3",
           "#FF6692",
           "#B6E880",
           "#FF97FF",
           "#FECB52"
          ],
          "font": {
           "color": "#f2f5fa"
          },
          "geo": {
           "bgcolor": "rgb(17,17,17)",
           "lakecolor": "rgb(17,17,17)",
           "landcolor": "rgb(17,17,17)",
           "showlakes": true,
           "showland": true,
           "subunitcolor": "#506784"
          },
          "hoverlabel": {
           "align": "left"
          },
          "hovermode": "closest",
          "mapbox": {
           "style": "dark"
          },
          "paper_bgcolor": "rgb(17,17,17)",
          "plot_bgcolor": "rgb(17,17,17)",
          "polar": {
           "angularaxis": {
            "gridcolor": "#506784",
            "linecolor": "#506784",
            "ticks": ""
           },
           "bgcolor": "rgb(17,17,17)",
           "radialaxis": {
            "gridcolor": "#506784",
            "linecolor": "#506784",
            "ticks": ""
           }
          },
          "scene": {
           "xaxis": {
            "backgroundcolor": "rgb(17,17,17)",
            "gridcolor": "#506784",
            "gridwidth": 2,
            "linecolor": "#506784",
            "showbackground": true,
            "ticks": "",
            "zerolinecolor": "#C8D4E3"
           },
           "yaxis": {
            "backgroundcolor": "rgb(17,17,17)",
            "gridcolor": "#506784",
            "gridwidth": 2,
            "linecolor": "#506784",
            "showbackground": true,
            "ticks": "",
            "zerolinecolor": "#C8D4E3"
           },
           "zaxis": {
            "backgroundcolor": "rgb(17,17,17)",
            "gridcolor": "#506784",
            "gridwidth": 2,
            "linecolor": "#506784",
            "showbackground": true,
            "ticks": "",
            "zerolinecolor": "#C8D4E3"
           }
          },
          "shapedefaults": {
           "line": {
            "color": "#f2f5fa"
           }
          },
          "sliderdefaults": {
           "bgcolor": "#C8D4E3",
           "bordercolor": "rgb(17,17,17)",
           "borderwidth": 1,
           "tickwidth": 0
          },
          "ternary": {
           "aaxis": {
            "gridcolor": "#506784",
            "linecolor": "#506784",
            "ticks": ""
           },
           "baxis": {
            "gridcolor": "#506784",
            "linecolor": "#506784",
            "ticks": ""
           },
           "bgcolor": "rgb(17,17,17)",
           "caxis": {
            "gridcolor": "#506784",
            "linecolor": "#506784",
            "ticks": ""
           }
          },
          "title": {
           "x": 0.05
          },
          "updatemenudefaults": {
           "bgcolor": "#506784",
           "borderwidth": 0
          },
          "xaxis": {
           "automargin": true,
           "gridcolor": "#283442",
           "linecolor": "#506784",
           "ticks": "",
           "title": {
            "standoff": 15
           },
           "zerolinecolor": "#283442",
           "zerolinewidth": 2
          },
          "yaxis": {
           "automargin": true,
           "gridcolor": "#283442",
           "linecolor": "#506784",
           "ticks": "",
           "title": {
            "standoff": 15
           },
           "zerolinecolor": "#283442",
           "zerolinewidth": 2
          }
         }
        },
        "title": {
         "text": "100 tasks 4 workers batch-size => 5 : fast  Plot for Throughput Trends Over Time"
        },
        "xaxis": {
         "showgrid": true,
         "title": {
          "text": "Time"
         }
        },
        "yaxis": {
         "showgrid": true,
         "title": {
          "text": "Tasks Completed (Throughput)"
         }
        }
       }
      }
     },
     "metadata": {},
     "output_type": "display_data"
    },
    {
     "data": {
      "application/vnd.plotly.v1+json": {
       "config": {
        "plotlyServerURL": "https://plot.ly"
       },
       "data": [
        {
         "hovertemplate": "state=pending<br>Time=%{x}<br>message_id=%{y}<extra></extra>",
         "legendgroup": "pending",
         "line": {
          "color": "#636efa",
          "dash": "solid"
         },
         "marker": {
          "symbol": "circle"
         },
         "mode": "lines+markers",
         "name": "pending",
         "showlegend": true,
         "type": "scattergl",
         "x": [
          "2024-12-31T11:24:41.606352",
          "2024-12-31T11:24:41.652944",
          "2024-12-31T11:24:41.692515",
          "2024-12-31T11:24:41.705792",
          "2024-12-31T11:24:41.736549",
          "2024-12-31T11:24:41.770639",
          "2024-12-31T11:24:41.794443",
          "2024-12-31T11:24:41.812282",
          "2024-12-31T11:24:41.878225",
          "2024-12-31T11:24:41.982260",
          "2024-12-31T11:24:41.996401",
          "2024-12-31T11:24:42.040991",
          "2024-12-31T11:24:42.092325",
          "2024-12-31T11:24:42.137776",
          "2024-12-31T11:24:42.143575",
          "2024-12-31T11:24:42.198394",
          "2024-12-31T11:24:42.274508",
          "2024-12-31T11:24:42.294880",
          "2024-12-31T11:24:42.320492",
          "2024-12-31T11:24:42.420789",
          "2024-12-31T11:24:42.428100",
          "2024-12-31T11:24:42.467687",
          "2024-12-31T11:24:42.469886",
          "2024-12-31T11:24:42.592976",
          "2024-12-31T11:24:42.636754",
          "2024-12-31T11:24:42.662207",
          "2024-12-31T11:24:42.746441",
          "2024-12-31T11:24:42.812189",
          "2024-12-31T11:24:46.516947",
          "2024-12-31T11:24:47.065940",
          "2024-12-31T11:24:47.133279",
          "2024-12-31T11:24:47.146905",
          "2024-12-31T11:24:47.300821",
          "2024-12-31T11:24:47.306766",
          "2024-12-31T11:24:47.437104",
          "2024-12-31T11:24:47.494970",
          "2024-12-31T11:24:47.534180",
          "2024-12-31T11:24:47.581267",
          "2024-12-31T11:24:47.734061",
          "2024-12-31T11:24:47.737275",
          "2024-12-31T11:24:47.747870",
          "2024-12-31T11:24:47.848520",
          "2024-12-31T11:24:47.911137",
          "2024-12-31T11:24:47.913175",
          "2024-12-31T11:24:47.953977",
          "2024-12-31T11:24:47.959242",
          "2024-12-31T11:24:47.995820",
          "2024-12-31T11:24:47.999745",
          "2024-12-31T11:24:48.024078",
          "2024-12-31T11:24:48.031520",
          "2024-12-31T11:24:48.117964",
          "2024-12-31T11:24:48.261691",
          "2024-12-31T11:24:48.329313",
          "2024-12-31T11:24:48.417696",
          "2024-12-31T11:24:48.535369",
          "2024-12-31T11:24:48.708660",
          "2024-12-31T11:24:51.961841",
          "2024-12-31T11:24:52.403499",
          "2024-12-31T11:24:52.478082",
          "2024-12-31T11:24:52.551238",
          "2024-12-31T11:24:52.637547",
          "2024-12-31T11:24:52.772382",
          "2024-12-31T11:24:52.990851",
          "2024-12-31T11:24:53.019445",
          "2024-12-31T11:24:53.113152",
          "2024-12-31T11:24:53.115563",
          "2024-12-31T11:24:53.194160",
          "2024-12-31T11:24:53.257474",
          "2024-12-31T11:24:53.485920",
          "2024-12-31T11:24:53.554087",
          "2024-12-31T11:24:53.584117",
          "2024-12-31T11:24:53.662571",
          "2024-12-31T11:24:53.672599",
          "2024-12-31T11:24:53.714735",
          "2024-12-31T11:24:53.725778",
          "2024-12-31T11:24:53.835962",
          "2024-12-31T11:24:53.926793",
          "2024-12-31T11:24:53.935998",
          "2024-12-31T11:24:53.957130",
          "2024-12-31T11:24:54.103693",
          "2024-12-31T11:24:54.138065",
          "2024-12-31T11:24:54.148432",
          "2024-12-31T11:24:54.175924",
          "2024-12-31T11:24:54.503196",
          "2024-12-31T11:24:57.468337",
          "2024-12-31T11:24:58.221846",
          "2024-12-31T11:24:58.224602",
          "2024-12-31T11:24:58.318696",
          "2024-12-31T11:24:58.486340",
          "2024-12-31T11:24:58.497999",
          "2024-12-31T11:24:58.572275",
          "2024-12-31T11:24:58.601988",
          "2024-12-31T11:24:58.669628",
          "2024-12-31T11:24:58.761746",
          "2024-12-31T11:24:59.021253",
          "2024-12-31T11:24:59.123789",
          "2024-12-31T11:24:59.187869",
          "2024-12-31T11:24:59.208344",
          "2024-12-31T11:24:59.241948",
          "2024-12-31T11:24:59.302665",
          "2024-12-31T11:24:59.339201",
          "2024-12-31T11:24:59.395498",
          "2024-12-31T11:24:59.497352",
          "2024-12-31T11:24:59.509286",
          "2024-12-31T11:24:59.511263",
          "2024-12-31T11:24:59.553089",
          "2024-12-31T11:24:59.587382",
          "2024-12-31T11:24:59.644772",
          "2024-12-31T11:24:59.747517",
          "2024-12-31T11:24:59.823357",
          "2024-12-31T11:24:59.901342",
          "2024-12-31T11:25:00.067490",
          "2024-12-31T11:25:02.904210",
          "2024-12-31T11:25:03.510261",
          "2024-12-31T11:25:03.796812",
          "2024-12-31T11:25:03.823446",
          "2024-12-31T11:25:04.163099",
          "2024-12-31T11:25:04.289542",
          "2024-12-31T11:25:04.294423",
          "2024-12-31T11:25:04.305306",
          "2024-12-31T11:25:04.420997",
          "2024-12-31T11:25:04.645582",
          "2024-12-31T11:25:04.717280",
          "2024-12-31T11:25:04.807174",
          "2024-12-31T11:25:04.813838",
          "2024-12-31T11:25:04.818050",
          "2024-12-31T11:25:04.895376",
          "2024-12-31T11:25:04.898687",
          "2024-12-31T11:25:04.901232",
          "2024-12-31T11:25:04.952235",
          "2024-12-31T11:25:04.985618",
          "2024-12-31T11:25:04.987987",
          "2024-12-31T11:25:05.026321",
          "2024-12-31T11:25:05.065417",
          "2024-12-31T11:25:05.114763",
          "2024-12-31T11:25:05.197867",
          "2024-12-31T11:25:05.268327",
          "2024-12-31T11:25:05.493372",
          "2024-12-31T11:25:05.499070",
          "2024-12-31T11:25:05.518220",
          "2024-12-31T11:25:08.620091",
          "2024-12-31T11:25:09.089662",
          "2024-12-31T11:25:09.270268",
          "2024-12-31T11:25:09.487543",
          "2024-12-31T11:25:09.691807",
          "2024-12-31T11:25:09.722212",
          "2024-12-31T11:25:09.891549",
          "2024-12-31T11:25:09.954921",
          "2024-12-31T11:25:09.994230",
          "2024-12-31T11:25:10.071137",
          "2024-12-31T11:25:10.133759",
          "2024-12-31T11:25:10.181144",
          "2024-12-31T11:25:10.228446",
          "2024-12-31T11:25:10.370486",
          "2024-12-31T11:25:10.371989",
          "2024-12-31T11:25:10.391740",
          "2024-12-31T11:25:10.430253",
          "2024-12-31T11:25:10.470399",
          "2024-12-31T11:25:10.559734",
          "2024-12-31T11:25:10.589248",
          "2024-12-31T11:25:10.606187",
          "2024-12-31T11:25:10.630254",
          "2024-12-31T11:25:10.671638",
          "2024-12-31T11:25:10.723349",
          "2024-12-31T11:25:10.805050",
          "2024-12-31T11:25:11.022708",
          "2024-12-31T11:25:11.262225",
          "2024-12-31T11:25:11.315725",
          "2024-12-31T11:25:14.522472",
          "2024-12-31T11:25:14.634109",
          "2024-12-31T11:25:14.964117",
          "2024-12-31T11:25:15.140836",
          "2024-12-31T11:25:15.283672",
          "2024-12-31T11:25:15.402812",
          "2024-12-31T11:25:15.462797",
          "2024-12-31T11:25:15.492048",
          "2024-12-31T11:25:15.539662",
          "2024-12-31T11:25:15.610138",
          "2024-12-31T11:25:15.633369",
          "2024-12-31T11:25:15.778891",
          "2024-12-31T11:25:15.788631",
          "2024-12-31T11:25:15.816618",
          "2024-12-31T11:25:15.888423",
          "2024-12-31T11:25:15.937627",
          "2024-12-31T11:25:16.030784",
          "2024-12-31T11:25:16.126259",
          "2024-12-31T11:25:16.297612",
          "2024-12-31T11:25:16.320250",
          "2024-12-31T11:25:16.440537",
          "2024-12-31T11:25:16.471385",
          "2024-12-31T11:25:16.512227",
          "2024-12-31T11:25:16.518124",
          "2024-12-31T11:25:16.525260",
          "2024-12-31T11:25:16.633855",
          "2024-12-31T11:25:16.767113",
          "2024-12-31T11:25:16.941524",
          "2024-12-31T11:25:20.282972",
          "2024-12-31T11:25:20.319061",
          "2024-12-31T11:25:20.335687",
          "2024-12-31T11:25:20.607488",
          "2024-12-31T11:25:20.657274",
          "2024-12-31T11:25:20.693300",
          "2024-12-31T11:25:20.818346",
          "2024-12-31T11:25:20.896300",
          "2024-12-31T11:25:20.901167",
          "2024-12-31T11:25:20.937768",
          "2024-12-31T11:25:20.982942",
          "2024-12-31T11:25:21.077140",
          "2024-12-31T11:25:21.353753",
          "2024-12-31T11:25:21.363097",
          "2024-12-31T11:25:21.421355",
          "2024-12-31T11:25:21.462853",
          "2024-12-31T11:25:21.515195",
          "2024-12-31T11:25:21.565202",
          "2024-12-31T11:25:21.709027",
          "2024-12-31T11:25:21.755436",
          "2024-12-31T11:25:21.800786",
          "2024-12-31T11:25:21.953937",
          "2024-12-31T11:25:22.108904",
          "2024-12-31T11:25:22.161978",
          "2024-12-31T11:25:22.171134",
          "2024-12-31T11:25:22.326721",
          "2024-12-31T11:25:22.603780",
          "2024-12-31T11:25:22.875422",
          "2024-12-31T11:25:25.710689",
          "2024-12-31T11:25:25.787493",
          "2024-12-31T11:25:25.948082",
          "2024-12-31T11:25:25.996925",
          "2024-12-31T11:25:26.179884",
          "2024-12-31T11:25:26.329162",
          "2024-12-31T11:25:26.356548",
          "2024-12-31T11:25:26.412271",
          "2024-12-31T11:25:26.426702",
          "2024-12-31T11:25:26.483776",
          "2024-12-31T11:25:26.524737",
          "2024-12-31T11:25:26.620130",
          "2024-12-31T11:25:26.663416",
          "2024-12-31T11:25:26.842998",
          "2024-12-31T11:25:26.919676",
          "2024-12-31T11:25:26.991759",
          "2024-12-31T11:25:26.994234",
          "2024-12-31T11:25:27.010453",
          "2024-12-31T11:25:27.056818",
          "2024-12-31T11:25:27.105701",
          "2024-12-31T11:25:27.338620",
          "2024-12-31T11:25:27.550217",
          "2024-12-31T11:25:27.559671",
          "2024-12-31T11:25:27.685934",
          "2024-12-31T11:25:27.721593",
          "2024-12-31T11:25:27.843939",
          "2024-12-31T11:25:28.047750",
          "2024-12-31T11:25:28.482319",
          "2024-12-31T11:25:30.768895",
          "2024-12-31T11:25:31.158062",
          "2024-12-31T11:25:31.165388",
          "2024-12-31T11:25:31.212958",
          "2024-12-31T11:25:31.526390",
          "2024-12-31T11:25:31.579621",
          "2024-12-31T11:25:31.779734",
          "2024-12-31T11:25:31.960083",
          "2024-12-31T11:25:32.081578",
          "2024-12-31T11:25:32.092902",
          "2024-12-31T11:25:32.203690",
          "2024-12-31T11:25:32.303712",
          "2024-12-31T11:25:32.332249",
          "2024-12-31T11:25:32.426396",
          "2024-12-31T11:25:32.436704",
          "2024-12-31T11:25:32.484318",
          "2024-12-31T11:25:32.555497",
          "2024-12-31T11:25:32.657621",
          "2024-12-31T11:25:32.736148",
          "2024-12-31T11:25:32.816124",
          "2024-12-31T11:25:32.866911",
          "2024-12-31T11:25:32.874104",
          "2024-12-31T11:25:32.988877",
          "2024-12-31T11:25:33.133434",
          "2024-12-31T11:25:33.259802",
          "2024-12-31T11:25:33.573026",
          "2024-12-31T11:25:33.851661",
          "2024-12-31T11:25:34.116867",
          "2024-12-31T11:25:36.761590",
          "2024-12-31T11:25:36.782051",
          "2024-12-31T11:25:36.935326",
          "2024-12-31T11:25:36.992393",
          "2024-12-31T11:25:37.017637",
          "2024-12-31T11:25:37.105936",
          "2024-12-31T11:25:37.145622",
          "2024-12-31T11:25:37.275463",
          "2024-12-31T11:25:37.363454",
          "2024-12-31T11:25:37.470553",
          "2024-12-31T11:25:37.516056",
          "2024-12-31T11:25:37.599330",
          "2024-12-31T11:25:37.709478",
          "2024-12-31T11:25:37.917455",
          "2024-12-31T11:25:37.959964",
          "2024-12-31T11:25:37.981542",
          "2024-12-31T11:25:38.131891",
          "2024-12-31T11:25:38.153957",
          "2024-12-31T11:25:38.187584",
          "2024-12-31T11:25:38.271913",
          "2024-12-31T11:25:38.351024",
          "2024-12-31T11:25:38.391513",
          "2024-12-31T11:25:38.479744",
          "2024-12-31T11:25:38.551012",
          "2024-12-31T11:25:38.804711",
          "2024-12-31T11:25:39.282491",
          "2024-12-31T11:25:39.388997",
          "2024-12-31T11:25:39.592599",
          "2024-12-31T11:25:42.257439",
          "2024-12-31T11:25:42.449226",
          "2024-12-31T11:25:42.450668",
          "2024-12-31T11:25:42.616264",
          "2024-12-31T11:25:42.646672",
          "2024-12-31T11:25:42.718916",
          "2024-12-31T11:25:42.720966",
          "2024-12-31T11:25:42.970357",
          "2024-12-31T11:25:43.054706",
          "2024-12-31T11:25:43.084239",
          "2024-12-31T11:25:43.113324",
          "2024-12-31T11:25:43.224080",
          "2024-12-31T11:25:43.331432",
          "2024-12-31T11:25:43.403644",
          "2024-12-31T11:25:43.732152",
          "2024-12-31T11:25:43.803762",
          "2024-12-31T11:25:43.890532",
          "2024-12-31T11:25:43.907922",
          "2024-12-31T11:25:43.910751",
          "2024-12-31T11:25:43.913866",
          "2024-12-31T11:25:43.918100",
          "2024-12-31T11:25:44.170229",
          "2024-12-31T11:25:44.185192",
          "2024-12-31T11:25:44.187712",
          "2024-12-31T11:25:44.375017",
          "2024-12-31T11:25:44.837194",
          "2024-12-31T11:25:44.848055",
          "2024-12-31T11:25:44.986231",
          "2024-12-31T11:25:47.701237",
          "2024-12-31T11:25:48.055670",
          "2024-12-31T11:25:48.079296",
          "2024-12-31T11:25:48.198133",
          "2024-12-31T11:25:48.254487",
          "2024-12-31T11:25:48.276882",
          "2024-12-31T11:25:48.435414",
          "2024-12-31T11:25:48.578372",
          "2024-12-31T11:25:48.661502",
          "2024-12-31T11:25:48.681266",
          "2024-12-31T11:25:48.836020",
          "2024-12-31T11:25:48.895894",
          "2024-12-31T11:25:49.159286",
          "2024-12-31T11:25:49.375839",
          "2024-12-31T11:25:49.395603",
          "2024-12-31T11:25:49.411251",
          "2024-12-31T11:25:49.438628",
          "2024-12-31T11:25:49.506496",
          "2024-12-31T11:25:49.582470",
          "2024-12-31T11:25:49.587756",
          "2024-12-31T11:25:49.595365",
          "2024-12-31T11:25:49.853875",
          "2024-12-31T11:25:49.890581",
          "2024-12-31T11:25:49.949638",
          "2024-12-31T11:25:50.028987",
          "2024-12-31T11:25:50.282114",
          "2024-12-31T11:25:50.329986",
          "2024-12-31T11:25:50.652939",
          "2024-12-31T11:25:53.285284",
          "2024-12-31T11:25:53.599395",
          "2024-12-31T11:25:53.730382",
          "2024-12-31T11:25:53.753965",
          "2024-12-31T11:25:53.798745",
          "2024-12-31T11:25:53.870665",
          "2024-12-31T11:25:53.922421",
          "2024-12-31T11:25:54.025301",
          "2024-12-31T11:25:54.207843",
          "2024-12-31T11:25:54.303215",
          "2024-12-31T11:25:54.361344",
          "2024-12-31T11:25:54.569951",
          "2024-12-31T11:25:54.653218",
          "2024-12-31T11:25:54.894164",
          "2024-12-31T11:25:54.941604",
          "2024-12-31T11:25:55.038040",
          "2024-12-31T11:25:55.154970",
          "2024-12-31T11:25:55.198762",
          "2024-12-31T11:25:55.207018",
          "2024-12-31T11:25:55.356620",
          "2024-12-31T11:25:55.486669",
          "2024-12-31T11:25:55.489231",
          "2024-12-31T11:25:55.552113",
          "2024-12-31T11:25:55.553324",
          "2024-12-31T11:25:55.555146",
          "2024-12-31T11:25:56.131883",
          "2024-12-31T11:25:56.133756",
          "2024-12-31T11:25:56.514045",
          "2024-12-31T11:25:58.814259",
          "2024-12-31T11:25:59.259386",
          "2024-12-31T11:25:59.309414",
          "2024-12-31T11:25:59.519643",
          "2024-12-31T11:25:59.534285",
          "2024-12-31T11:25:59.564059",
          "2024-12-31T11:25:59.815412",
          "2024-12-31T11:25:59.992970",
          "2024-12-31T11:26:00.014622",
          "2024-12-31T11:26:00.071376",
          "2024-12-31T11:26:00.126660",
          "2024-12-31T11:26:00.302128",
          "2024-12-31T11:26:00.394312",
          "2024-12-31T11:26:00.706671",
          "2024-12-31T11:26:00.714637",
          "2024-12-31T11:26:00.723599",
          "2024-12-31T11:26:00.797330",
          "2024-12-31T11:26:00.809627",
          "2024-12-31T11:26:00.885614",
          "2024-12-31T11:26:00.994439",
          "2024-12-31T11:26:01.065747",
          "2024-12-31T11:26:01.127576",
          "2024-12-31T11:26:01.170520",
          "2024-12-31T11:26:01.204826",
          "2024-12-31T11:26:01.213437",
          "2024-12-31T11:26:01.707955",
          "2024-12-31T11:26:01.843654",
          "2024-12-31T11:26:02.493232",
          "2024-12-31T11:26:04.184539",
          "2024-12-31T11:26:04.685088",
          "2024-12-31T11:26:04.994427",
          "2024-12-31T11:26:05.043162",
          "2024-12-31T11:26:05.083072",
          "2024-12-31T11:26:05.126656",
          "2024-12-31T11:26:05.213526",
          "2024-12-31T11:26:05.252449",
          "2024-12-31T11:26:05.552680",
          "2024-12-31T11:26:05.557228",
          "2024-12-31T11:26:05.569216",
          "2024-12-31T11:26:05.678590",
          "2024-12-31T11:26:05.819123",
          "2024-12-31T11:26:05.944689",
          "2024-12-31T11:26:06.040057",
          "2024-12-31T11:26:06.131721",
          "2024-12-31T11:26:06.216336",
          "2024-12-31T11:26:06.289248",
          "2024-12-31T11:26:06.290297",
          "2024-12-31T11:26:06.375637",
          "2024-12-31T11:26:06.591411",
          "2024-12-31T11:26:06.596195",
          "2024-12-31T11:26:06.746568",
          "2024-12-31T11:26:06.753286",
          "2024-12-31T11:26:06.964372",
          "2024-12-31T11:26:07.202777",
          "2024-12-31T11:26:07.525422",
          "2024-12-31T11:26:08.244896",
          "2024-12-31T11:26:09.963186",
          "2024-12-31T11:26:10.361212",
          "2024-12-31T11:26:10.399194",
          "2024-12-31T11:26:10.542652",
          "2024-12-31T11:26:10.930007",
          "2024-12-31T11:26:10.939158",
          "2024-12-31T11:26:10.941048",
          "2024-12-31T11:26:11.037826",
          "2024-12-31T11:26:11.252183",
          "2024-12-31T11:26:11.255415",
          "2024-12-31T11:26:11.286257",
          "2024-12-31T11:26:11.396879",
          "2024-12-31T11:26:11.420614",
          "2024-12-31T11:26:11.457626",
          "2024-12-31T11:26:11.555179",
          "2024-12-31T11:26:11.699316",
          "2024-12-31T11:26:11.840326",
          "2024-12-31T11:26:11.851266",
          "2024-12-31T11:26:11.859176",
          "2024-12-31T11:26:11.926721",
          "2024-12-31T11:26:12.309700",
          "2024-12-31T11:26:12.360226",
          "2024-12-31T11:26:12.477383",
          "2024-12-31T11:26:12.607908",
          "2024-12-31T11:26:12.628256",
          "2024-12-31T11:26:12.839593",
          "2024-12-31T11:26:13.381692",
          "2024-12-31T11:26:13.863895",
          "2024-12-31T11:26:15.253157",
          "2024-12-31T11:26:15.442781",
          "2024-12-31T11:26:15.492198",
          "2024-12-31T11:26:15.618049",
          "2024-12-31T11:26:16.014977",
          "2024-12-31T11:26:16.071412",
          "2024-12-31T11:26:16.085767",
          "2024-12-31T11:26:16.091423",
          "2024-12-31T11:26:16.115628",
          "2024-12-31T11:26:16.186457",
          "2024-12-31T11:26:16.189678",
          "2024-12-31T11:26:16.202667",
          "2024-12-31T11:26:16.233143",
          "2024-12-31T11:26:16.277726",
          "2024-12-31T11:26:16.403640",
          "2024-12-31T11:26:16.438807",
          "2024-12-31T11:26:16.577238",
          "2024-12-31T11:26:16.609369",
          "2024-12-31T11:26:16.611176",
          "2024-12-31T11:26:16.632908",
          "2024-12-31T11:26:16.650629",
          "2024-12-31T11:26:16.865286",
          "2024-12-31T11:26:16.884500",
          "2024-12-31T11:26:16.986018"
         ],
         "xaxis": "x",
         "y": [
          1,
          2,
          3,
          4,
          5,
          6,
          7,
          8,
          9,
          10,
          11,
          12,
          13,
          14,
          15,
          16,
          17,
          18,
          19,
          20,
          21,
          22,
          23,
          24,
          25,
          26,
          27,
          28,
          29,
          30,
          31,
          32,
          33,
          34,
          35,
          36,
          37,
          38,
          39,
          40,
          41,
          42,
          43,
          44,
          45,
          46,
          47,
          48,
          49,
          50,
          51,
          52,
          53,
          54,
          55,
          56,
          57,
          58,
          59,
          60,
          61,
          62,
          63,
          64,
          65,
          66,
          67,
          68,
          69,
          70,
          71,
          72,
          73,
          74,
          75,
          76,
          77,
          78,
          79,
          80,
          81,
          82,
          83,
          84,
          85,
          86,
          87,
          88,
          89,
          90,
          91,
          92,
          93,
          94,
          95,
          96,
          97,
          98,
          99,
          100,
          101,
          102,
          103,
          104,
          105,
          106,
          107,
          108,
          109,
          110,
          111,
          112,
          113,
          114,
          115,
          116,
          117,
          118,
          119,
          120,
          121,
          122,
          123,
          124,
          125,
          126,
          127,
          128,
          129,
          130,
          131,
          132,
          133,
          134,
          135,
          136,
          137,
          138,
          139,
          140,
          141,
          142,
          143,
          144,
          145,
          146,
          147,
          148,
          149,
          150,
          151,
          152,
          153,
          154,
          155,
          156,
          157,
          158,
          159,
          160,
          161,
          162,
          163,
          164,
          165,
          166,
          167,
          168,
          169,
          170,
          171,
          172,
          173,
          174,
          175,
          176,
          177,
          178,
          179,
          180,
          181,
          182,
          183,
          184,
          185,
          186,
          187,
          188,
          189,
          190,
          191,
          192,
          193,
          194,
          195,
          196,
          197,
          198,
          199,
          200,
          201,
          202,
          203,
          204,
          205,
          206,
          207,
          208,
          209,
          210,
          211,
          212,
          213,
          214,
          215,
          216,
          217,
          218,
          219,
          220,
          221,
          222,
          223,
          224,
          225,
          226,
          227,
          228,
          229,
          230,
          231,
          232,
          233,
          234,
          235,
          236,
          237,
          238,
          239,
          240,
          241,
          242,
          243,
          244,
          245,
          246,
          247,
          248,
          249,
          250,
          251,
          252,
          253,
          254,
          255,
          256,
          257,
          258,
          259,
          260,
          261,
          262,
          263,
          264,
          265,
          266,
          267,
          268,
          269,
          270,
          271,
          272,
          273,
          274,
          275,
          276,
          277,
          278,
          279,
          280,
          281,
          282,
          283,
          284,
          285,
          286,
          287,
          288,
          289,
          290,
          291,
          292,
          293,
          294,
          295,
          296,
          297,
          298,
          299,
          300,
          301,
          302,
          303,
          304,
          305,
          306,
          307,
          308,
          309,
          310,
          311,
          312,
          313,
          314,
          315,
          316,
          317,
          318,
          319,
          320,
          321,
          322,
          323,
          324,
          325,
          326,
          327,
          328,
          329,
          330,
          331,
          332,
          333,
          334,
          335,
          336,
          337,
          338,
          339,
          340,
          341,
          342,
          343,
          344,
          345,
          346,
          347,
          348,
          349,
          350,
          351,
          352,
          353,
          354,
          355,
          356,
          357,
          358,
          359,
          360,
          361,
          362,
          363,
          364,
          365,
          366,
          367,
          368,
          369,
          370,
          371,
          372,
          373,
          374,
          375,
          376,
          377,
          378,
          379,
          380,
          381,
          382,
          383,
          384,
          385,
          386,
          387,
          388,
          389,
          390,
          391,
          392,
          393,
          394,
          395,
          396,
          397,
          398,
          399,
          400,
          401,
          402,
          403,
          404,
          405,
          406,
          407,
          408,
          409,
          410,
          411,
          412,
          413,
          414,
          415,
          416,
          417,
          418,
          419,
          420,
          421,
          422,
          423,
          424,
          425,
          426,
          427,
          428,
          429,
          430,
          431,
          432,
          433,
          434,
          435,
          436,
          437,
          438,
          439,
          440,
          441,
          442,
          443,
          444,
          445,
          446,
          447,
          448,
          449,
          450,
          451,
          452,
          453,
          454,
          455,
          456,
          457,
          458,
          459,
          460,
          461,
          462,
          463,
          464,
          465,
          466,
          467,
          468,
          469,
          470,
          471,
          472,
          473,
          474,
          475,
          476,
          477,
          478,
          479,
          480,
          481,
          482,
          483,
          484,
          485,
          486,
          487,
          488,
          489,
          490,
          491,
          492,
          493,
          494,
          495,
          496,
          497,
          498,
          499,
          500
         ],
         "yaxis": "y"
        },
        {
         "hovertemplate": "state=active<br>Time=%{x}<br>message_id=%{y}<extra></extra>",
         "legendgroup": "active",
         "line": {
          "color": "#EF553B",
          "dash": "solid"
         },
         "marker": {
          "symbol": "circle"
         },
         "mode": "lines+markers",
         "name": "active",
         "showlegend": true,
         "type": "scattergl",
         "x": [
          "2024-12-31T11:24:45.044609",
          "2024-12-31T11:24:45.044609",
          "2024-12-31T11:24:45.044609",
          "2024-12-31T11:24:45.044609",
          "2024-12-31T11:24:45.044609",
          "2024-12-31T11:24:46.491117",
          "2024-12-31T11:24:46.491117",
          "2024-12-31T11:24:46.491117",
          "2024-12-31T11:24:46.491117",
          "2024-12-31T11:24:46.491117",
          "2024-12-31T11:25:35.260805",
          "2024-12-31T11:25:35.260805",
          "2024-12-31T11:25:35.260805",
          "2024-12-31T11:25:35.260805",
          "2024-12-31T11:25:35.260805",
          "2024-12-31T11:25:36.730825",
          "2024-12-31T11:25:36.730825",
          "2024-12-31T11:25:36.730825",
          "2024-12-31T11:25:36.730825",
          "2024-12-31T11:25:36.730825",
          "2024-12-31T11:26:25.562728",
          "2024-12-31T11:26:25.562728",
          "2024-12-31T11:26:25.562728",
          "2024-12-31T11:26:25.562728",
          "2024-12-31T11:26:25.562728",
          "2024-12-31T11:26:26.998869",
          "2024-12-31T11:26:26.998869",
          "2024-12-31T11:26:26.998869",
          "2024-12-31T11:26:26.998869",
          "2024-12-31T11:26:26.998869",
          "2024-12-31T11:27:15.775391",
          "2024-12-31T11:27:15.775391",
          "2024-12-31T11:27:15.775391",
          "2024-12-31T11:27:15.775391",
          "2024-12-31T11:27:15.775391",
          "2024-12-31T11:27:17.206870",
          "2024-12-31T11:27:17.206870",
          "2024-12-31T11:27:17.206870",
          "2024-12-31T11:27:17.206870",
          "2024-12-31T11:27:17.206870",
          "2024-12-31T11:28:06.005789",
          "2024-12-31T11:28:06.005789",
          "2024-12-31T11:28:06.005789",
          "2024-12-31T11:28:06.005789",
          "2024-12-31T11:28:06.005789",
          "2024-12-31T11:28:07.415324",
          "2024-12-31T11:28:07.415324",
          "2024-12-31T11:28:07.415324",
          "2024-12-31T11:28:07.415324",
          "2024-12-31T11:28:07.415324",
          "2024-12-31T11:28:56.214130",
          "2024-12-31T11:28:56.214130",
          "2024-12-31T11:28:56.214130",
          "2024-12-31T11:28:56.214130",
          "2024-12-31T11:28:56.214130",
          "2024-12-31T11:28:57.644331",
          "2024-12-31T11:28:57.644331",
          "2024-12-31T11:28:57.644331",
          "2024-12-31T11:28:57.644331",
          "2024-12-31T11:28:57.644331",
          "2024-12-31T11:29:46.427680",
          "2024-12-31T11:29:46.427680",
          "2024-12-31T11:29:46.427680",
          "2024-12-31T11:29:46.427680",
          "2024-12-31T11:29:46.427680",
          "2024-12-31T11:29:47.846055",
          "2024-12-31T11:29:47.846055",
          "2024-12-31T11:29:47.846055",
          "2024-12-31T11:29:47.846055",
          "2024-12-31T11:29:47.846055",
          "2024-12-31T11:30:36.691508",
          "2024-12-31T11:30:36.691508",
          "2024-12-31T11:30:36.691508",
          "2024-12-31T11:30:36.691508",
          "2024-12-31T11:30:36.691508",
          "2024-12-31T11:30:38.049607",
          "2024-12-31T11:30:38.049607",
          "2024-12-31T11:30:38.049607",
          "2024-12-31T11:30:38.049607",
          "2024-12-31T11:30:38.049607",
          "2024-12-31T11:31:26.929601",
          "2024-12-31T11:31:26.929601",
          "2024-12-31T11:31:26.929601",
          "2024-12-31T11:31:26.929601",
          "2024-12-31T11:31:26.929601",
          "2024-12-31T11:31:28.275348",
          "2024-12-31T11:31:28.275348",
          "2024-12-31T11:31:28.275348",
          "2024-12-31T11:31:28.275348",
          "2024-12-31T11:31:28.275348",
          "2024-12-31T11:32:17.210619",
          "2024-12-31T11:32:17.210619",
          "2024-12-31T11:32:17.210619",
          "2024-12-31T11:32:17.210619",
          "2024-12-31T11:32:17.210619",
          "2024-12-31T11:32:18.571312",
          "2024-12-31T11:32:18.571312",
          "2024-12-31T11:32:18.571312",
          "2024-12-31T11:32:18.571312",
          "2024-12-31T11:32:18.571312",
          "2024-12-31T11:33:07.427975",
          "2024-12-31T11:33:07.427975",
          "2024-12-31T11:33:07.427975",
          "2024-12-31T11:33:07.427975",
          "2024-12-31T11:33:07.427975",
          "2024-12-31T11:33:08.798970",
          "2024-12-31T11:33:08.798970",
          "2024-12-31T11:33:08.798970",
          "2024-12-31T11:33:08.798970",
          "2024-12-31T11:33:08.798970",
          "2024-12-31T11:33:57.641381",
          "2024-12-31T11:33:57.641381",
          "2024-12-31T11:33:57.641381",
          "2024-12-31T11:33:57.641381",
          "2024-12-31T11:33:57.641381",
          "2024-12-31T11:33:59.010457",
          "2024-12-31T11:33:59.010457",
          "2024-12-31T11:33:59.010457",
          "2024-12-31T11:33:59.010457",
          "2024-12-31T11:33:59.010457",
          "2024-12-31T11:34:47.878194",
          "2024-12-31T11:34:47.878194",
          "2024-12-31T11:34:47.878194",
          "2024-12-31T11:34:47.878194",
          "2024-12-31T11:34:47.878194",
          "2024-12-31T11:34:49.239286",
          "2024-12-31T11:34:49.239286",
          "2024-12-31T11:34:49.239286",
          "2024-12-31T11:34:49.239286",
          "2024-12-31T11:34:49.239286",
          "2024-12-31T11:35:38.150039",
          "2024-12-31T11:35:38.150039",
          "2024-12-31T11:35:38.150039",
          "2024-12-31T11:35:38.150039",
          "2024-12-31T11:35:38.150039",
          "2024-12-31T11:35:39.530485",
          "2024-12-31T11:35:39.530485",
          "2024-12-31T11:35:39.530485",
          "2024-12-31T11:35:39.530485",
          "2024-12-31T11:35:39.530485",
          "2024-12-31T11:36:28.381288",
          "2024-12-31T11:36:28.381288",
          "2024-12-31T11:36:28.381288",
          "2024-12-31T11:36:28.381288",
          "2024-12-31T11:36:28.381288",
          "2024-12-31T11:36:29.746993",
          "2024-12-31T11:36:29.746993",
          "2024-12-31T11:36:29.746993",
          "2024-12-31T11:36:29.746993",
          "2024-12-31T11:36:29.746993",
          "2024-12-31T11:37:18.669033",
          "2024-12-31T11:37:18.669033",
          "2024-12-31T11:37:18.669033",
          "2024-12-31T11:37:18.669033",
          "2024-12-31T11:37:18.669033",
          "2024-12-31T11:37:19.959098",
          "2024-12-31T11:37:19.959098",
          "2024-12-31T11:37:19.959098",
          "2024-12-31T11:37:19.959098",
          "2024-12-31T11:37:19.959098",
          "2024-12-31T11:38:08.956461",
          "2024-12-31T11:38:08.956461",
          "2024-12-31T11:38:08.956461",
          "2024-12-31T11:38:08.956461",
          "2024-12-31T11:38:08.956461",
          "2024-12-31T11:38:10.230497",
          "2024-12-31T11:38:10.230497",
          "2024-12-31T11:38:10.230497",
          "2024-12-31T11:38:10.230497",
          "2024-12-31T11:38:10.230497",
          "2024-12-31T11:38:59.168407",
          "2024-12-31T11:38:59.168407",
          "2024-12-31T11:38:59.168407",
          "2024-12-31T11:38:59.168407",
          "2024-12-31T11:38:59.168407",
          "2024-12-31T11:39:00.515405",
          "2024-12-31T11:39:00.515405",
          "2024-12-31T11:39:00.515405",
          "2024-12-31T11:39:00.515405",
          "2024-12-31T11:39:00.515405",
          "2024-12-31T11:39:49.384568",
          "2024-12-31T11:39:49.384568",
          "2024-12-31T11:39:49.384568",
          "2024-12-31T11:39:49.384568",
          "2024-12-31T11:39:49.384568",
          "2024-12-31T11:39:50.749789",
          "2024-12-31T11:39:50.749789",
          "2024-12-31T11:39:50.749789",
          "2024-12-31T11:39:50.749789",
          "2024-12-31T11:39:50.749789",
          "2024-12-31T11:40:39.624392",
          "2024-12-31T11:40:39.624392",
          "2024-12-31T11:40:39.624392",
          "2024-12-31T11:40:39.624392",
          "2024-12-31T11:40:39.624392",
          "2024-12-31T11:40:40.965451",
          "2024-12-31T11:40:40.965451",
          "2024-12-31T11:40:40.965451",
          "2024-12-31T11:40:40.965451",
          "2024-12-31T11:40:40.965451",
          "2024-12-31T11:41:29.845343",
          "2024-12-31T11:41:29.845343",
          "2024-12-31T11:41:29.845343",
          "2024-12-31T11:41:29.845343",
          "2024-12-31T11:41:29.845343",
          "2024-12-31T11:41:31.179560",
          "2024-12-31T11:41:31.179560",
          "2024-12-31T11:41:31.179560",
          "2024-12-31T11:41:31.179560",
          "2024-12-31T11:41:31.179560",
          "2024-12-31T11:42:20.073468",
          "2024-12-31T11:42:20.073468",
          "2024-12-31T11:42:20.073468",
          "2024-12-31T11:42:20.073468",
          "2024-12-31T11:42:20.073468",
          "2024-12-31T11:42:21.420168",
          "2024-12-31T11:42:21.420168",
          "2024-12-31T11:42:21.420168",
          "2024-12-31T11:42:21.420168",
          "2024-12-31T11:42:21.420168",
          "2024-12-31T11:43:10.317110",
          "2024-12-31T11:43:10.317110",
          "2024-12-31T11:43:10.317110",
          "2024-12-31T11:43:10.317110",
          "2024-12-31T11:43:10.317110",
          "2024-12-31T11:43:11.640979",
          "2024-12-31T11:43:11.640979",
          "2024-12-31T11:43:11.640979",
          "2024-12-31T11:43:11.640979",
          "2024-12-31T11:43:11.640979",
          "2024-12-31T11:44:00.558712",
          "2024-12-31T11:44:00.558712",
          "2024-12-31T11:44:00.558712",
          "2024-12-31T11:44:00.558712",
          "2024-12-31T11:44:00.558712",
          "2024-12-31T11:44:01.857786",
          "2024-12-31T11:44:01.857786",
          "2024-12-31T11:44:01.857786",
          "2024-12-31T11:44:01.857786",
          "2024-12-31T11:44:01.857786",
          "2024-12-31T11:44:50.848897",
          "2024-12-31T11:44:50.848897",
          "2024-12-31T11:44:50.848897",
          "2024-12-31T11:44:50.848897",
          "2024-12-31T11:44:50.848897",
          "2024-12-31T11:44:52.125843",
          "2024-12-31T11:44:52.125843",
          "2024-12-31T11:44:52.125843",
          "2024-12-31T11:44:52.125843",
          "2024-12-31T11:44:52.125843",
          "2024-12-31T11:45:41.067702",
          "2024-12-31T11:45:41.067702",
          "2024-12-31T11:45:41.067702",
          "2024-12-31T11:45:41.067702",
          "2024-12-31T11:45:41.067702",
          "2024-12-31T11:45:42.363492",
          "2024-12-31T11:45:42.363492",
          "2024-12-31T11:45:42.363492",
          "2024-12-31T11:45:42.363492",
          "2024-12-31T11:45:42.363492",
          "2024-12-31T11:46:31.302603",
          "2024-12-31T11:46:31.302603",
          "2024-12-31T11:46:31.302603",
          "2024-12-31T11:46:31.302603",
          "2024-12-31T11:46:31.302603",
          "2024-12-31T11:46:32.581100",
          "2024-12-31T11:46:32.581100",
          "2024-12-31T11:46:32.581100",
          "2024-12-31T11:46:32.581100",
          "2024-12-31T11:46:32.581100",
          "2024-12-31T11:47:21.532225",
          "2024-12-31T11:47:21.532225",
          "2024-12-31T11:47:21.532225",
          "2024-12-31T11:47:21.532225",
          "2024-12-31T11:47:21.532225",
          "2024-12-31T11:47:22.784227",
          "2024-12-31T11:47:22.784227",
          "2024-12-31T11:47:22.784227",
          "2024-12-31T11:47:22.784227",
          "2024-12-31T11:47:22.784227",
          "2024-12-31T11:48:11.820382",
          "2024-12-31T11:48:11.820382",
          "2024-12-31T11:48:11.820382",
          "2024-12-31T11:48:11.820382",
          "2024-12-31T11:48:11.820382",
          "2024-12-31T11:48:13.047876",
          "2024-12-31T11:48:13.047876",
          "2024-12-31T11:48:13.047876",
          "2024-12-31T11:48:13.047876",
          "2024-12-31T11:48:13.047876",
          "2024-12-31T11:49:02.063274",
          "2024-12-31T11:49:02.063274",
          "2024-12-31T11:49:02.063274",
          "2024-12-31T11:49:02.063274",
          "2024-12-31T11:49:02.063274",
          "2024-12-31T11:49:03.272389",
          "2024-12-31T11:49:03.272389",
          "2024-12-31T11:49:03.272389",
          "2024-12-31T11:49:03.272389",
          "2024-12-31T11:49:03.272389",
          "2024-12-31T11:49:52.277336",
          "2024-12-31T11:49:52.277336",
          "2024-12-31T11:49:52.277336",
          "2024-12-31T11:49:52.277336",
          "2024-12-31T11:49:52.277336",
          "2024-12-31T11:49:53.501391",
          "2024-12-31T11:49:53.501391",
          "2024-12-31T11:49:53.501391",
          "2024-12-31T11:49:53.501391",
          "2024-12-31T11:49:53.501391",
          "2024-12-31T11:50:42.582906",
          "2024-12-31T11:50:42.582906",
          "2024-12-31T11:50:42.582906",
          "2024-12-31T11:50:42.582906",
          "2024-12-31T11:50:42.582906",
          "2024-12-31T11:50:43.789445",
          "2024-12-31T11:50:43.789445",
          "2024-12-31T11:50:43.789445",
          "2024-12-31T11:50:43.789445",
          "2024-12-31T11:50:43.789445",
          "2024-12-31T11:51:32.796309",
          "2024-12-31T11:51:32.796309",
          "2024-12-31T11:51:32.796309",
          "2024-12-31T11:51:32.796309",
          "2024-12-31T11:51:32.796309",
          "2024-12-31T11:51:33.999214",
          "2024-12-31T11:51:33.999214",
          "2024-12-31T11:51:33.999214",
          "2024-12-31T11:51:33.999214",
          "2024-12-31T11:51:33.999214",
          "2024-12-31T11:52:23.033927",
          "2024-12-31T11:52:23.033927",
          "2024-12-31T11:52:23.033927",
          "2024-12-31T11:52:23.033927",
          "2024-12-31T11:52:23.033927",
          "2024-12-31T11:52:24.231388",
          "2024-12-31T11:52:24.231388",
          "2024-12-31T11:52:24.231388",
          "2024-12-31T11:52:24.231388",
          "2024-12-31T11:52:24.231388",
          "2024-12-31T11:53:13.260547",
          "2024-12-31T11:53:13.260547",
          "2024-12-31T11:53:13.260547",
          "2024-12-31T11:53:13.260547",
          "2024-12-31T11:53:13.260547",
          "2024-12-31T11:53:14.440636",
          "2024-12-31T11:53:14.440636",
          "2024-12-31T11:53:14.440636",
          "2024-12-31T11:53:14.440636",
          "2024-12-31T11:53:14.440636",
          "2024-12-31T11:54:03.481456",
          "2024-12-31T11:54:03.481456",
          "2024-12-31T11:54:03.481456",
          "2024-12-31T11:54:03.481456",
          "2024-12-31T11:54:03.481456",
          "2024-12-31T11:54:04.654820",
          "2024-12-31T11:54:04.654820",
          "2024-12-31T11:54:04.654820",
          "2024-12-31T11:54:04.654820",
          "2024-12-31T11:54:04.654820",
          "2024-12-31T11:54:53.706527",
          "2024-12-31T11:54:53.706527",
          "2024-12-31T11:54:53.706527",
          "2024-12-31T11:54:53.706527",
          "2024-12-31T11:54:53.706527",
          "2024-12-31T11:54:54.933175",
          "2024-12-31T11:54:54.933175",
          "2024-12-31T11:54:54.933175",
          "2024-12-31T11:54:54.933175",
          "2024-12-31T11:54:54.933175",
          "2024-12-31T11:55:43.952691",
          "2024-12-31T11:55:43.952691",
          "2024-12-31T11:55:43.952691",
          "2024-12-31T11:55:43.952691",
          "2024-12-31T11:55:43.952691",
          "2024-12-31T11:55:45.157485",
          "2024-12-31T11:55:45.157485",
          "2024-12-31T11:55:45.157485",
          "2024-12-31T11:55:45.157485",
          "2024-12-31T11:55:45.157485",
          "2024-12-31T11:56:34.232447",
          "2024-12-31T11:56:34.232447",
          "2024-12-31T11:56:34.232447",
          "2024-12-31T11:56:34.232447",
          "2024-12-31T11:56:34.232447",
          "2024-12-31T11:56:35.424988",
          "2024-12-31T11:56:35.424988",
          "2024-12-31T11:56:35.424988",
          "2024-12-31T11:56:35.424988",
          "2024-12-31T11:56:35.424988",
          "2024-12-31T11:57:24.455262",
          "2024-12-31T11:57:24.455262",
          "2024-12-31T11:57:24.455262",
          "2024-12-31T11:57:24.455262",
          "2024-12-31T11:57:24.455262",
          "2024-12-31T11:57:25.629645",
          "2024-12-31T11:57:25.629645",
          "2024-12-31T11:57:25.629645",
          "2024-12-31T11:57:25.629645",
          "2024-12-31T11:57:25.629645",
          "2024-12-31T11:58:14.675031",
          "2024-12-31T11:58:14.675031",
          "2024-12-31T11:58:14.675031",
          "2024-12-31T11:58:14.675031",
          "2024-12-31T11:58:14.675031",
          "2024-12-31T11:58:15.841470",
          "2024-12-31T11:58:15.841470",
          "2024-12-31T11:58:15.841470",
          "2024-12-31T11:58:15.841470",
          "2024-12-31T11:58:15.841470",
          "2024-12-31T11:59:04.912161",
          "2024-12-31T11:59:04.912161",
          "2024-12-31T11:59:04.912161",
          "2024-12-31T11:59:04.912161",
          "2024-12-31T11:59:04.912161",
          "2024-12-31T11:59:06.105556",
          "2024-12-31T11:59:06.105556",
          "2024-12-31T11:59:06.105556",
          "2024-12-31T11:59:06.105556",
          "2024-12-31T11:59:06.105556",
          "2024-12-31T11:59:55.130940",
          "2024-12-31T11:59:55.130940",
          "2024-12-31T11:59:55.130940",
          "2024-12-31T11:59:55.130940",
          "2024-12-31T11:59:55.130940",
          "2024-12-31T11:59:56.319759",
          "2024-12-31T11:59:56.319759",
          "2024-12-31T11:59:56.319759",
          "2024-12-31T11:59:56.319759",
          "2024-12-31T11:59:56.319759",
          "2024-12-31T12:00:45.417536",
          "2024-12-31T12:00:45.417536",
          "2024-12-31T12:00:45.417536",
          "2024-12-31T12:00:45.417536",
          "2024-12-31T12:00:45.417536",
          "2024-12-31T12:00:46.585556",
          "2024-12-31T12:00:46.585556",
          "2024-12-31T12:00:46.585556",
          "2024-12-31T12:00:46.585556",
          "2024-12-31T12:00:46.585556",
          "2024-12-31T12:01:35.641336",
          "2024-12-31T12:01:35.641336",
          "2024-12-31T12:01:35.641336",
          "2024-12-31T12:01:35.641336",
          "2024-12-31T12:01:35.641336",
          "2024-12-31T12:01:36.786522",
          "2024-12-31T12:01:36.786522",
          "2024-12-31T12:01:36.786522",
          "2024-12-31T12:01:36.786522",
          "2024-12-31T12:01:36.786522",
          "2024-12-31T12:02:25.886562",
          "2024-12-31T12:02:25.886562",
          "2024-12-31T12:02:25.886562",
          "2024-12-31T12:02:25.886562",
          "2024-12-31T12:02:25.886562",
          "2024-12-31T12:02:27.022221",
          "2024-12-31T12:02:27.022221",
          "2024-12-31T12:02:27.022221",
          "2024-12-31T12:02:27.022221",
          "2024-12-31T12:02:27.022221",
          "2024-12-31T12:03:16.162885",
          "2024-12-31T12:03:16.162885",
          "2024-12-31T12:03:16.162885",
          "2024-12-31T12:03:16.162885",
          "2024-12-31T12:03:16.162885",
          "2024-12-31T12:03:17.290012",
          "2024-12-31T12:03:17.290012",
          "2024-12-31T12:03:17.290012",
          "2024-12-31T12:03:17.290012",
          "2024-12-31T12:03:17.290012",
          "2024-12-31T12:04:06.375054",
          "2024-12-31T12:04:06.375054",
          "2024-12-31T12:04:06.375054",
          "2024-12-31T12:04:06.375054",
          "2024-12-31T12:04:06.375054",
          "2024-12-31T12:04:07.502669",
          "2024-12-31T12:04:07.502669",
          "2024-12-31T12:04:07.502669",
          "2024-12-31T12:04:07.502669",
          "2024-12-31T12:04:07.502669",
          "2024-12-31T12:04:56.649101",
          "2024-12-31T12:04:56.649101",
          "2024-12-31T12:04:56.649101",
          "2024-12-31T12:04:56.649101",
          "2024-12-31T12:04:56.649101",
          "2024-12-31T12:04:57.705934",
          "2024-12-31T12:04:57.705934",
          "2024-12-31T12:04:57.705934",
          "2024-12-31T12:04:57.705934",
          "2024-12-31T12:04:57.705934",
          "2024-12-31T12:05:46.881401",
          "2024-12-31T12:05:46.881401",
          "2024-12-31T12:05:46.881401",
          "2024-12-31T12:05:46.881401",
          "2024-12-31T12:05:46.881401",
          "2024-12-31T12:05:47.935774",
          "2024-12-31T12:05:47.935774",
          "2024-12-31T12:05:47.935774",
          "2024-12-31T12:05:47.935774",
          "2024-12-31T12:05:47.935774"
         ],
         "xaxis": "x",
         "y": [
          1,
          2,
          3,
          4,
          5,
          10,
          9,
          6,
          7,
          8,
          11,
          12,
          13,
          14,
          15,
          16,
          17,
          18,
          19,
          20,
          25,
          24,
          22,
          21,
          23,
          29,
          30,
          27,
          26,
          28,
          33,
          34,
          31,
          32,
          35,
          36,
          37,
          38,
          39,
          40,
          41,
          42,
          43,
          44,
          45,
          46,
          47,
          48,
          49,
          50,
          55,
          54,
          51,
          52,
          53,
          60,
          59,
          57,
          58,
          56,
          65,
          63,
          64,
          61,
          62,
          69,
          66,
          67,
          68,
          70,
          71,
          72,
          73,
          74,
          75,
          76,
          77,
          78,
          79,
          80,
          81,
          82,
          83,
          84,
          85,
          90,
          89,
          86,
          87,
          88,
          95,
          94,
          92,
          91,
          93,
          99,
          100,
          97,
          96,
          98,
          103,
          104,
          101,
          102,
          105,
          106,
          107,
          108,
          109,
          110,
          111,
          112,
          113,
          114,
          115,
          116,
          117,
          118,
          119,
          120,
          125,
          124,
          121,
          122,
          123,
          129,
          128,
          130,
          126,
          127,
          135,
          133,
          134,
          131,
          132,
          139,
          136,
          137,
          138,
          140,
          141,
          142,
          143,
          144,
          145,
          146,
          147,
          148,
          149,
          150,
          151,
          152,
          153,
          154,
          155,
          160,
          159,
          156,
          157,
          158,
          165,
          163,
          164,
          161,
          162,
          170,
          168,
          169,
          166,
          167,
          174,
          171,
          172,
          173,
          175,
          176,
          177,
          178,
          179,
          180,
          181,
          182,
          183,
          184,
          185,
          186,
          187,
          188,
          189,
          190,
          195,
          194,
          191,
          192,
          193,
          199,
          198,
          200,
          196,
          197,
          204,
          203,
          205,
          201,
          202,
          206,
          207,
          208,
          209,
          210,
          211,
          212,
          213,
          214,
          215,
          216,
          217,
          218,
          219,
          220,
          225,
          224,
          221,
          222,
          223,
          230,
          228,
          229,
          226,
          227,
          234,
          231,
          232,
          233,
          235,
          236,
          237,
          238,
          239,
          240,
          241,
          242,
          243,
          244,
          245,
          246,
          247,
          248,
          249,
          250,
          255,
          254,
          251,
          252,
          253,
          260,
          259,
          257,
          256,
          258,
          264,
          265,
          262,
          261,
          263,
          268,
          269,
          266,
          267,
          270,
          271,
          272,
          273,
          274,
          275,
          276,
          277,
          278,
          279,
          280,
          281,
          282,
          283,
          284,
          285,
          290,
          289,
          286,
          287,
          288,
          295,
          294,
          292,
          293,
          291,
          300,
          298,
          299,
          296,
          297,
          304,
          301,
          302,
          303,
          305,
          306,
          307,
          308,
          309,
          310,
          311,
          312,
          313,
          314,
          315,
          316,
          317,
          318,
          319,
          320,
          325,
          324,
          321,
          322,
          323,
          330,
          329,
          327,
          326,
          328,
          334,
          335,
          332,
          331,
          333,
          338,
          339,
          336,
          337,
          340,
          341,
          342,
          343,
          344,
          345,
          346,
          347,
          348,
          349,
          350,
          351,
          352,
          353,
          354,
          355,
          360,
          359,
          356,
          357,
          358,
          365,
          364,
          363,
          362,
          361,
          370,
          368,
          369,
          366,
          367,
          374,
          371,
          372,
          373,
          375,
          376,
          377,
          378,
          379,
          380,
          381,
          382,
          383,
          384,
          385,
          386,
          387,
          388,
          389,
          390,
          395,
          394,
          391,
          392,
          393,
          400,
          399,
          398,
          397,
          396,
          404,
          403,
          405,
          401,
          402,
          410,
          406,
          407,
          408,
          409,
          411,
          412,
          413,
          414,
          415,
          416,
          417,
          418,
          419,
          420,
          421,
          422,
          423,
          424,
          425,
          430,
          429,
          426,
          427,
          428,
          434,
          433,
          435,
          431,
          432,
          439,
          438,
          440,
          436,
          437,
          441,
          442,
          443,
          444,
          445,
          446,
          447,
          448,
          449,
          450,
          451,
          452,
          453,
          454,
          455,
          460,
          459,
          456,
          457,
          458,
          465,
          463,
          464,
          461,
          462,
          469,
          466,
          467,
          468,
          470,
          471,
          472,
          473,
          474,
          475,
          476,
          477,
          478,
          479,
          480,
          481,
          482,
          483,
          484,
          485,
          490,
          489,
          486,
          487,
          488,
          495,
          494,
          492,
          491,
          493,
          499,
          500,
          498,
          497,
          496
         ],
         "yaxis": "y"
        },
        {
         "hovertemplate": "state=completed<br>Time=%{x}<br>message_id=%{y}<extra></extra>",
         "legendgroup": "completed",
         "line": {
          "color": "#00cc96",
          "dash": "solid"
         },
         "marker": {
          "symbol": "circle"
         },
         "mode": "lines+markers",
         "name": "completed",
         "showlegend": true,
         "type": "scattergl",
         "x": [
          "2024-12-31T11:25:35.229009",
          "2024-12-31T11:25:35.229247",
          "2024-12-31T11:25:35.229459",
          "2024-12-31T11:25:35.229668",
          "2024-12-31T11:25:35.229866",
          "2024-12-31T11:25:36.698269",
          "2024-12-31T11:25:36.698602",
          "2024-12-31T11:25:36.698840",
          "2024-12-31T11:25:36.699066",
          "2024-12-31T11:25:36.699281",
          "2024-12-31T11:26:25.532605",
          "2024-12-31T11:26:25.532826",
          "2024-12-31T11:26:25.533052",
          "2024-12-31T11:26:25.533260",
          "2024-12-31T11:26:25.533457",
          "2024-12-31T11:26:26.967384",
          "2024-12-31T11:26:26.967783",
          "2024-12-31T11:26:26.968081",
          "2024-12-31T11:26:26.968455",
          "2024-12-31T11:26:26.968823",
          "2024-12-31T11:27:15.745873",
          "2024-12-31T11:27:15.746117",
          "2024-12-31T11:27:15.746324",
          "2024-12-31T11:27:15.746526",
          "2024-12-31T11:27:15.747091",
          "2024-12-31T11:27:17.178815",
          "2024-12-31T11:27:17.179033",
          "2024-12-31T11:27:17.179291",
          "2024-12-31T11:27:17.179502",
          "2024-12-31T11:27:17.179702",
          "2024-12-31T11:28:05.976241",
          "2024-12-31T11:28:05.976477",
          "2024-12-31T11:28:05.976690",
          "2024-12-31T11:28:05.976885",
          "2024-12-31T11:28:05.977077",
          "2024-12-31T11:28:07.383488",
          "2024-12-31T11:28:07.383749",
          "2024-12-31T11:28:07.384188",
          "2024-12-31T11:28:07.384453",
          "2024-12-31T11:28:07.384683",
          "2024-12-31T11:28:56.184621",
          "2024-12-31T11:28:56.184855",
          "2024-12-31T11:28:56.185071",
          "2024-12-31T11:28:56.185266",
          "2024-12-31T11:28:56.185454",
          "2024-12-31T11:28:57.616072",
          "2024-12-31T11:28:57.616304",
          "2024-12-31T11:28:57.616514",
          "2024-12-31T11:28:57.616707",
          "2024-12-31T11:28:57.617020",
          "2024-12-31T11:29:46.394896",
          "2024-12-31T11:29:46.395112",
          "2024-12-31T11:29:46.395307",
          "2024-12-31T11:29:46.395496",
          "2024-12-31T11:29:46.395686",
          "2024-12-31T11:29:47.816673",
          "2024-12-31T11:29:47.816886",
          "2024-12-31T11:29:47.817087",
          "2024-12-31T11:29:47.817281",
          "2024-12-31T11:29:47.817584",
          "2024-12-31T11:30:36.659850",
          "2024-12-31T11:30:36.660082",
          "2024-12-31T11:30:36.660283",
          "2024-12-31T11:30:36.660476",
          "2024-12-31T11:30:36.660684",
          "2024-12-31T11:30:38.019190",
          "2024-12-31T11:30:38.019493",
          "2024-12-31T11:30:38.019725",
          "2024-12-31T11:30:38.019943",
          "2024-12-31T11:30:38.020156",
          "2024-12-31T11:31:26.896891",
          "2024-12-31T11:31:26.897290",
          "2024-12-31T11:31:26.897634",
          "2024-12-31T11:31:26.897843",
          "2024-12-31T11:31:26.898059",
          "2024-12-31T11:31:28.241091",
          "2024-12-31T11:31:28.241325",
          "2024-12-31T11:31:28.241548",
          "2024-12-31T11:31:28.241756",
          "2024-12-31T11:31:28.241962",
          "2024-12-31T11:32:17.180036",
          "2024-12-31T11:32:17.180277",
          "2024-12-31T11:32:17.180485",
          "2024-12-31T11:32:17.180688",
          "2024-12-31T11:32:17.180882",
          "2024-12-31T11:32:18.538076",
          "2024-12-31T11:32:18.538348",
          "2024-12-31T11:32:18.538571",
          "2024-12-31T11:32:18.538792",
          "2024-12-31T11:32:18.539021",
          "2024-12-31T11:33:07.396935",
          "2024-12-31T11:33:07.397206",
          "2024-12-31T11:33:07.397421",
          "2024-12-31T11:33:07.397631",
          "2024-12-31T11:33:07.397833",
          "2024-12-31T11:33:08.748195",
          "2024-12-31T11:33:08.748455",
          "2024-12-31T11:33:08.748678",
          "2024-12-31T11:33:08.748891",
          "2024-12-31T11:33:08.749117",
          "2024-12-31T11:33:57.609864",
          "2024-12-31T11:33:57.610106",
          "2024-12-31T11:33:57.610319",
          "2024-12-31T11:33:57.610531",
          "2024-12-31T11:33:57.610736",
          "2024-12-31T11:33:58.979470",
          "2024-12-31T11:33:58.979734",
          "2024-12-31T11:33:58.979954",
          "2024-12-31T11:33:58.980181",
          "2024-12-31T11:33:58.980403",
          "2024-12-31T11:34:47.845299",
          "2024-12-31T11:34:47.845549",
          "2024-12-31T11:34:47.845751",
          "2024-12-31T11:34:47.845949",
          "2024-12-31T11:34:47.846143",
          "2024-12-31T11:34:49.204456",
          "2024-12-31T11:34:49.204743",
          "2024-12-31T11:34:49.204958",
          "2024-12-31T11:34:49.205160",
          "2024-12-31T11:34:49.205355",
          "2024-12-31T11:35:38.115313",
          "2024-12-31T11:35:38.115556",
          "2024-12-31T11:35:38.115768",
          "2024-12-31T11:35:38.115990",
          "2024-12-31T11:35:38.116214",
          "2024-12-31T11:35:39.499400",
          "2024-12-31T11:35:39.500075",
          "2024-12-31T11:35:39.500487",
          "2024-12-31T11:35:39.500821",
          "2024-12-31T11:35:39.501071",
          "2024-12-31T11:36:28.349275",
          "2024-12-31T11:36:28.349493",
          "2024-12-31T11:36:28.349690",
          "2024-12-31T11:36:28.349885",
          "2024-12-31T11:36:28.350087",
          "2024-12-31T11:36:29.712831",
          "2024-12-31T11:36:29.713122",
          "2024-12-31T11:36:29.713440",
          "2024-12-31T11:36:29.713803",
          "2024-12-31T11:36:29.714026",
          "2024-12-31T11:37:18.610023",
          "2024-12-31T11:37:18.610324",
          "2024-12-31T11:37:18.610567",
          "2024-12-31T11:37:18.611200",
          "2024-12-31T11:37:18.611689",
          "2024-12-31T11:37:19.928374",
          "2024-12-31T11:37:19.928758",
          "2024-12-31T11:37:19.928973",
          "2024-12-31T11:37:19.929360",
          "2024-12-31T11:37:19.929583",
          "2024-12-31T11:38:08.921720",
          "2024-12-31T11:38:08.921964",
          "2024-12-31T11:38:08.922182",
          "2024-12-31T11:38:08.922380",
          "2024-12-31T11:38:08.922576",
          "2024-12-31T11:38:10.199190",
          "2024-12-31T11:38:10.199423",
          "2024-12-31T11:38:10.199624",
          "2024-12-31T11:38:10.199837",
          "2024-12-31T11:38:10.200035",
          "2024-12-31T11:38:59.138738",
          "2024-12-31T11:38:59.138975",
          "2024-12-31T11:38:59.139179",
          "2024-12-31T11:38:59.139372",
          "2024-12-31T11:38:59.139562",
          "2024-12-31T11:39:00.466475",
          "2024-12-31T11:39:00.466723",
          "2024-12-31T11:39:00.466941",
          "2024-12-31T11:39:00.467150",
          "2024-12-31T11:39:00.467353",
          "2024-12-31T11:39:49.351283",
          "2024-12-31T11:39:49.351514",
          "2024-12-31T11:39:49.351747",
          "2024-12-31T11:39:49.351948",
          "2024-12-31T11:39:49.352150",
          "2024-12-31T11:39:50.716712",
          "2024-12-31T11:39:50.716953",
          "2024-12-31T11:39:50.717156",
          "2024-12-31T11:39:50.717354",
          "2024-12-31T11:39:50.717552",
          "2024-12-31T11:40:39.590952",
          "2024-12-31T11:40:39.591219",
          "2024-12-31T11:40:39.591671",
          "2024-12-31T11:40:39.591919",
          "2024-12-31T11:40:39.592144",
          "2024-12-31T11:40:40.936283",
          "2024-12-31T11:40:40.936614",
          "2024-12-31T11:40:40.936830",
          "2024-12-31T11:40:40.937029",
          "2024-12-31T11:40:40.937220",
          "2024-12-31T11:41:29.814155",
          "2024-12-31T11:41:29.814385",
          "2024-12-31T11:41:29.814584",
          "2024-12-31T11:41:29.814802",
          "2024-12-31T11:41:29.815005",
          "2024-12-31T11:41:31.149730",
          "2024-12-31T11:41:31.149983",
          "2024-12-31T11:41:31.150233",
          "2024-12-31T11:41:31.150448",
          "2024-12-31T11:41:31.150651",
          "2024-12-31T11:42:20.037916",
          "2024-12-31T11:42:20.038184",
          "2024-12-31T11:42:20.038405",
          "2024-12-31T11:42:20.038615",
          "2024-12-31T11:42:20.038820",
          "2024-12-31T11:42:21.389776",
          "2024-12-31T11:42:21.390123",
          "2024-12-31T11:42:21.390633",
          "2024-12-31T11:42:21.390865",
          "2024-12-31T11:42:21.391279",
          "2024-12-31T11:43:10.282192",
          "2024-12-31T11:43:10.282484",
          "2024-12-31T11:43:10.282780",
          "2024-12-31T11:43:10.283007",
          "2024-12-31T11:43:10.283214",
          "2024-12-31T11:43:11.605174",
          "2024-12-31T11:43:11.605495",
          "2024-12-31T11:43:11.605717",
          "2024-12-31T11:43:11.606314",
          "2024-12-31T11:43:11.606621",
          "2024-12-31T11:44:00.526505",
          "2024-12-31T11:44:00.526736",
          "2024-12-31T11:44:00.526957",
          "2024-12-31T11:44:00.527223",
          "2024-12-31T11:44:00.527492",
          "2024-12-31T11:44:01.823554",
          "2024-12-31T11:44:01.823868",
          "2024-12-31T11:44:01.824228",
          "2024-12-31T11:44:01.824485",
          "2024-12-31T11:44:01.824731",
          "2024-12-31T11:44:50.815416",
          "2024-12-31T11:44:50.815653",
          "2024-12-31T11:44:50.815847",
          "2024-12-31T11:44:50.816149",
          "2024-12-31T11:44:50.816768",
          "2024-12-31T11:44:52.095027",
          "2024-12-31T11:44:52.095332",
          "2024-12-31T11:44:52.095583",
          "2024-12-31T11:44:52.095782",
          "2024-12-31T11:44:52.095975",
          "2024-12-31T11:45:41.034185",
          "2024-12-31T11:45:41.034416",
          "2024-12-31T11:45:41.034616",
          "2024-12-31T11:45:41.034807",
          "2024-12-31T11:45:41.035058",
          "2024-12-31T11:45:42.332454",
          "2024-12-31T11:45:42.332668",
          "2024-12-31T11:45:42.332877",
          "2024-12-31T11:45:42.333081",
          "2024-12-31T11:45:42.333272",
          "2024-12-31T11:46:31.268479",
          "2024-12-31T11:46:31.268716",
          "2024-12-31T11:46:31.268934",
          "2024-12-31T11:46:31.269149",
          "2024-12-31T11:46:31.269352",
          "2024-12-31T11:46:32.551364",
          "2024-12-31T11:46:32.551586",
          "2024-12-31T11:46:32.551813",
          "2024-12-31T11:46:32.552038",
          "2024-12-31T11:46:32.552238",
          "2024-12-31T11:47:21.499930",
          "2024-12-31T11:47:21.500187",
          "2024-12-31T11:47:21.500419",
          "2024-12-31T11:47:21.500636",
          "2024-12-31T11:47:21.500917",
          "2024-12-31T11:47:22.753060",
          "2024-12-31T11:47:22.753284",
          "2024-12-31T11:47:22.753491",
          "2024-12-31T11:47:22.753890",
          "2024-12-31T11:47:22.754100",
          "2024-12-31T11:48:11.787564",
          "2024-12-31T11:48:11.787784",
          "2024-12-31T11:48:11.787992",
          "2024-12-31T11:48:11.788184",
          "2024-12-31T11:48:11.788382",
          "2024-12-31T11:48:13.016674",
          "2024-12-31T11:48:13.016894",
          "2024-12-31T11:48:13.017099",
          "2024-12-31T11:48:13.017292",
          "2024-12-31T11:48:13.017654",
          "2024-12-31T11:49:02.017861",
          "2024-12-31T11:49:02.018088",
          "2024-12-31T11:49:02.018318",
          "2024-12-31T11:49:02.018519",
          "2024-12-31T11:49:02.018714",
          "2024-12-31T11:49:03.240777",
          "2024-12-31T11:49:03.241009",
          "2024-12-31T11:49:03.241219",
          "2024-12-31T11:49:03.241622",
          "2024-12-31T11:49:03.241836",
          "2024-12-31T11:49:52.247429",
          "2024-12-31T11:49:52.247755",
          "2024-12-31T11:49:52.248159",
          "2024-12-31T11:49:52.248562",
          "2024-12-31T11:49:52.248879",
          "2024-12-31T11:49:53.471659",
          "2024-12-31T11:49:53.472019",
          "2024-12-31T11:49:53.472246",
          "2024-12-31T11:49:53.472442",
          "2024-12-31T11:49:53.472631",
          "2024-12-31T11:50:42.550633",
          "2024-12-31T11:50:42.550911",
          "2024-12-31T11:50:42.551216",
          "2024-12-31T11:50:42.551432",
          "2024-12-31T11:50:42.551641",
          "2024-12-31T11:50:43.758723",
          "2024-12-31T11:50:43.758976",
          "2024-12-31T11:50:43.759183",
          "2024-12-31T11:50:43.759387",
          "2024-12-31T11:50:43.759931",
          "2024-12-31T11:51:32.764112",
          "2024-12-31T11:51:32.764334",
          "2024-12-31T11:51:32.764535",
          "2024-12-31T11:51:32.764726",
          "2024-12-31T11:51:32.764921",
          "2024-12-31T11:51:33.968653",
          "2024-12-31T11:51:33.969261",
          "2024-12-31T11:51:33.969475",
          "2024-12-31T11:51:33.969784",
          "2024-12-31T11:51:33.970000",
          "2024-12-31T11:52:23.000136",
          "2024-12-31T11:52:23.000376",
          "2024-12-31T11:52:23.000608",
          "2024-12-31T11:52:23.000822",
          "2024-12-31T11:52:23.001018",
          "2024-12-31T11:52:24.201542",
          "2024-12-31T11:52:24.201837",
          "2024-12-31T11:52:24.202057",
          "2024-12-31T11:52:24.202250",
          "2024-12-31T11:52:24.202441",
          "2024-12-31T11:53:13.231026",
          "2024-12-31T11:53:13.231420",
          "2024-12-31T11:53:13.231635",
          "2024-12-31T11:53:13.231857",
          "2024-12-31T11:53:13.232080",
          "2024-12-31T11:53:14.410662",
          "2024-12-31T11:53:14.410892",
          "2024-12-31T11:53:14.411107",
          "2024-12-31T11:53:14.411321",
          "2024-12-31T11:53:14.411555",
          "2024-12-31T11:54:03.447555",
          "2024-12-31T11:54:03.447791",
          "2024-12-31T11:54:03.447989",
          "2024-12-31T11:54:03.448181",
          "2024-12-31T11:54:03.448481",
          "2024-12-31T11:54:04.624163",
          "2024-12-31T11:54:04.624398",
          "2024-12-31T11:54:04.624621",
          "2024-12-31T11:54:04.624823",
          "2024-12-31T11:54:04.625021",
          "2024-12-31T11:54:53.673824",
          "2024-12-31T11:54:53.674062",
          "2024-12-31T11:54:53.674272",
          "2024-12-31T11:54:53.674470",
          "2024-12-31T11:54:53.674681",
          "2024-12-31T11:54:54.875560",
          "2024-12-31T11:54:54.875779",
          "2024-12-31T11:54:54.875975",
          "2024-12-31T11:54:54.876178",
          "2024-12-31T11:54:54.876370",
          "2024-12-31T11:55:43.919980",
          "2024-12-31T11:55:43.920812",
          "2024-12-31T11:55:43.921070",
          "2024-12-31T11:55:43.921510",
          "2024-12-31T11:55:43.921742",
          "2024-12-31T11:55:45.125660",
          "2024-12-31T11:55:45.125925",
          "2024-12-31T11:55:45.126362",
          "2024-12-31T11:55:45.126606",
          "2024-12-31T11:55:45.126803",
          "2024-12-31T11:56:34.201690",
          "2024-12-31T11:56:34.201938",
          "2024-12-31T11:56:34.202166",
          "2024-12-31T11:56:34.202376",
          "2024-12-31T11:56:34.202582",
          "2024-12-31T11:56:35.394843",
          "2024-12-31T11:56:35.395058",
          "2024-12-31T11:56:35.395254",
          "2024-12-31T11:56:35.395459",
          "2024-12-31T11:56:35.395649",
          "2024-12-31T11:57:24.423397",
          "2024-12-31T11:57:24.423626",
          "2024-12-31T11:57:24.423837",
          "2024-12-31T11:57:24.424042",
          "2024-12-31T11:57:24.424242",
          "2024-12-31T11:57:25.598673",
          "2024-12-31T11:57:25.598932",
          "2024-12-31T11:57:25.599161",
          "2024-12-31T11:57:25.599366",
          "2024-12-31T11:57:25.599560",
          "2024-12-31T11:58:14.644686",
          "2024-12-31T11:58:14.644903",
          "2024-12-31T11:58:14.645117",
          "2024-12-31T11:58:14.645310",
          "2024-12-31T11:58:14.645497",
          "2024-12-31T11:58:15.809321",
          "2024-12-31T11:58:15.809551",
          "2024-12-31T11:58:15.809759",
          "2024-12-31T11:58:15.809959",
          "2024-12-31T11:58:15.810154",
          "2024-12-31T11:59:04.881716",
          "2024-12-31T11:59:04.881935",
          "2024-12-31T11:59:04.882317",
          "2024-12-31T11:59:04.882583",
          "2024-12-31T11:59:04.883217",
          "2024-12-31T11:59:06.055588",
          "2024-12-31T11:59:06.055819",
          "2024-12-31T11:59:06.056027",
          "2024-12-31T11:59:06.056241",
          "2024-12-31T11:59:06.056438",
          "2024-12-31T11:59:55.099025",
          "2024-12-31T11:59:55.099296",
          "2024-12-31T11:59:55.099612",
          "2024-12-31T11:59:55.099874",
          "2024-12-31T11:59:55.100077",
          "2024-12-31T11:59:56.287730",
          "2024-12-31T11:59:56.287960",
          "2024-12-31T11:59:56.288163",
          "2024-12-31T11:59:56.288365",
          "2024-12-31T11:59:56.288576",
          "2024-12-31T12:00:45.384593",
          "2024-12-31T12:00:45.384856",
          "2024-12-31T12:00:45.385067",
          "2024-12-31T12:00:45.385287",
          "2024-12-31T12:00:45.385494",
          "2024-12-31T12:00:46.553002",
          "2024-12-31T12:00:46.553417",
          "2024-12-31T12:00:46.553628",
          "2024-12-31T12:00:46.553853",
          "2024-12-31T12:00:46.554059",
          "2024-12-31T12:01:35.608155",
          "2024-12-31T12:01:35.608420",
          "2024-12-31T12:01:35.608626",
          "2024-12-31T12:01:35.608825",
          "2024-12-31T12:01:35.609024",
          "2024-12-31T12:01:36.758037",
          "2024-12-31T12:01:36.758332",
          "2024-12-31T12:01:36.758539",
          "2024-12-31T12:01:36.758741",
          "2024-12-31T12:01:36.758940",
          "2024-12-31T12:02:25.850271",
          "2024-12-31T12:02:25.850488",
          "2024-12-31T12:02:25.850687",
          "2024-12-31T12:02:25.850884",
          "2024-12-31T12:02:25.851112",
          "2024-12-31T12:02:26.990807",
          "2024-12-31T12:02:26.991055",
          "2024-12-31T12:02:26.991262",
          "2024-12-31T12:02:26.991453",
          "2024-12-31T12:02:26.991643",
          "2024-12-31T12:03:16.130928",
          "2024-12-31T12:03:16.131160",
          "2024-12-31T12:03:16.131399",
          "2024-12-31T12:03:16.131609",
          "2024-12-31T12:03:16.131818",
          "2024-12-31T12:03:17.260037",
          "2024-12-31T12:03:17.260495",
          "2024-12-31T12:03:17.261155",
          "2024-12-31T12:03:17.261560",
          "2024-12-31T12:03:17.261878",
          "2024-12-31T12:04:06.345025",
          "2024-12-31T12:04:06.345449",
          "2024-12-31T12:04:06.345722",
          "2024-12-31T12:04:06.345995",
          "2024-12-31T12:04:06.346246",
          "2024-12-31T12:04:07.472219",
          "2024-12-31T12:04:07.472464",
          "2024-12-31T12:04:07.472690",
          "2024-12-31T12:04:07.472949",
          "2024-12-31T12:04:07.473409",
          "2024-12-31T12:04:56.600654",
          "2024-12-31T12:04:56.600998",
          "2024-12-31T12:04:56.601280",
          "2024-12-31T12:04:56.601481",
          "2024-12-31T12:04:56.601671",
          "2024-12-31T12:04:57.675044",
          "2024-12-31T12:04:57.675404",
          "2024-12-31T12:04:57.675640",
          "2024-12-31T12:04:57.675846",
          "2024-12-31T12:04:57.676047",
          "2024-12-31T12:05:46.850176",
          "2024-12-31T12:05:46.850445",
          "2024-12-31T12:05:46.850669",
          "2024-12-31T12:05:46.850886",
          "2024-12-31T12:05:46.851100",
          "2024-12-31T12:05:47.904152",
          "2024-12-31T12:05:47.904378",
          "2024-12-31T12:05:47.904596",
          "2024-12-31T12:05:47.904809",
          "2024-12-31T12:05:47.905029",
          "2024-12-31T12:06:38.156633",
          "2024-12-31T12:06:38.156860",
          "2024-12-31T12:06:38.157071",
          "2024-12-31T12:06:38.157284",
          "2024-12-31T12:06:38.157489",
          "2024-12-31T12:06:38.890797",
          "2024-12-31T12:06:38.891074",
          "2024-12-31T12:06:38.891471",
          "2024-12-31T12:06:38.891895",
          "2024-12-31T12:06:38.892213"
         ],
         "xaxis": "x",
         "y": [
          1,
          2,
          3,
          4,
          5,
          6,
          7,
          8,
          9,
          10,
          11,
          12,
          13,
          14,
          15,
          16,
          17,
          18,
          19,
          20,
          21,
          22,
          23,
          24,
          25,
          26,
          27,
          28,
          29,
          30,
          31,
          32,
          33,
          34,
          35,
          36,
          37,
          38,
          39,
          40,
          41,
          42,
          43,
          44,
          45,
          46,
          47,
          48,
          49,
          50,
          51,
          52,
          53,
          54,
          55,
          56,
          57,
          58,
          59,
          60,
          61,
          62,
          63,
          64,
          65,
          66,
          67,
          68,
          69,
          70,
          71,
          72,
          73,
          74,
          75,
          76,
          77,
          78,
          79,
          80,
          81,
          82,
          83,
          84,
          85,
          86,
          87,
          88,
          89,
          90,
          91,
          92,
          93,
          94,
          95,
          96,
          97,
          98,
          99,
          100,
          101,
          102,
          103,
          104,
          105,
          106,
          107,
          108,
          109,
          110,
          111,
          112,
          113,
          114,
          115,
          116,
          117,
          118,
          119,
          120,
          121,
          122,
          123,
          124,
          125,
          126,
          127,
          128,
          129,
          130,
          131,
          132,
          133,
          134,
          135,
          136,
          137,
          138,
          139,
          140,
          141,
          142,
          143,
          144,
          145,
          146,
          147,
          148,
          149,
          150,
          151,
          152,
          153,
          154,
          155,
          156,
          157,
          158,
          159,
          160,
          161,
          162,
          163,
          164,
          165,
          166,
          167,
          168,
          169,
          170,
          171,
          172,
          173,
          174,
          175,
          176,
          177,
          178,
          179,
          180,
          181,
          182,
          183,
          184,
          185,
          186,
          187,
          188,
          189,
          190,
          191,
          192,
          193,
          194,
          195,
          196,
          197,
          198,
          199,
          200,
          201,
          202,
          203,
          204,
          205,
          206,
          207,
          208,
          209,
          210,
          211,
          212,
          213,
          214,
          215,
          216,
          217,
          218,
          219,
          220,
          221,
          222,
          223,
          224,
          225,
          226,
          227,
          228,
          229,
          230,
          231,
          232,
          233,
          234,
          235,
          236,
          237,
          238,
          239,
          240,
          241,
          242,
          243,
          244,
          245,
          246,
          247,
          248,
          249,
          250,
          251,
          252,
          253,
          254,
          255,
          256,
          257,
          258,
          259,
          260,
          261,
          262,
          263,
          264,
          265,
          266,
          267,
          268,
          269,
          270,
          271,
          272,
          273,
          274,
          275,
          276,
          277,
          278,
          279,
          280,
          281,
          282,
          283,
          284,
          285,
          286,
          287,
          288,
          289,
          290,
          291,
          292,
          293,
          294,
          295,
          296,
          297,
          298,
          299,
          300,
          301,
          302,
          303,
          304,
          305,
          306,
          307,
          308,
          309,
          310,
          311,
          312,
          313,
          314,
          315,
          316,
          317,
          318,
          319,
          320,
          321,
          322,
          323,
          324,
          325,
          326,
          327,
          328,
          329,
          330,
          331,
          332,
          333,
          334,
          335,
          336,
          337,
          338,
          339,
          340,
          341,
          342,
          343,
          344,
          345,
          346,
          347,
          348,
          349,
          350,
          351,
          352,
          353,
          354,
          355,
          356,
          357,
          358,
          359,
          360,
          361,
          362,
          363,
          364,
          365,
          366,
          367,
          368,
          369,
          370,
          371,
          372,
          373,
          374,
          375,
          376,
          377,
          378,
          379,
          380,
          381,
          382,
          383,
          384,
          385,
          386,
          387,
          388,
          389,
          390,
          391,
          392,
          393,
          394,
          395,
          396,
          397,
          398,
          399,
          400,
          401,
          402,
          403,
          404,
          405,
          406,
          407,
          408,
          409,
          410,
          411,
          412,
          413,
          414,
          415,
          416,
          417,
          418,
          419,
          420,
          421,
          422,
          423,
          424,
          425,
          426,
          427,
          428,
          429,
          430,
          431,
          432,
          433,
          434,
          435,
          436,
          437,
          438,
          439,
          440,
          441,
          442,
          443,
          444,
          445,
          446,
          447,
          448,
          449,
          450,
          451,
          452,
          453,
          454,
          455,
          456,
          457,
          458,
          459,
          460,
          461,
          462,
          463,
          464,
          465,
          466,
          467,
          468,
          469,
          470,
          471,
          472,
          473,
          474,
          475,
          476,
          477,
          478,
          479,
          480,
          481,
          482,
          483,
          484,
          485,
          486,
          487,
          488,
          489,
          490,
          491,
          492,
          493,
          494,
          495,
          496,
          497,
          498,
          499,
          500
         ],
         "yaxis": "y"
        }
       ],
       "layout": {
        "hovermode": "closest",
        "legend": {
         "title": {
          "text": "state"
         },
         "tracegroupgap": 0
        },
        "margin": {
         "b": 40,
         "l": 40,
         "r": 40,
         "t": 40
        },
        "template": {
         "data": {
          "bar": [
           {
            "error_x": {
             "color": "#f2f5fa"
            },
            "error_y": {
             "color": "#f2f5fa"
            },
            "marker": {
             "line": {
              "color": "rgb(17,17,17)",
              "width": 0.5
             },
             "pattern": {
              "fillmode": "overlay",
              "size": 10,
              "solidity": 0.2
             }
            },
            "type": "bar"
           }
          ],
          "barpolar": [
           {
            "marker": {
             "line": {
              "color": "rgb(17,17,17)",
              "width": 0.5
             },
             "pattern": {
              "fillmode": "overlay",
              "size": 10,
              "solidity": 0.2
             }
            },
            "type": "barpolar"
           }
          ],
          "carpet": [
           {
            "aaxis": {
             "endlinecolor": "#A2B1C6",
             "gridcolor": "#506784",
             "linecolor": "#506784",
             "minorgridcolor": "#506784",
             "startlinecolor": "#A2B1C6"
            },
            "baxis": {
             "endlinecolor": "#A2B1C6",
             "gridcolor": "#506784",
             "linecolor": "#506784",
             "minorgridcolor": "#506784",
             "startlinecolor": "#A2B1C6"
            },
            "type": "carpet"
           }
          ],
          "choropleth": [
           {
            "colorbar": {
             "outlinewidth": 0,
             "ticks": ""
            },
            "type": "choropleth"
           }
          ],
          "contour": [
           {
            "colorbar": {
             "outlinewidth": 0,
             "ticks": ""
            },
            "colorscale": [
             [
              0,
              "#0d0887"
             ],
             [
              0.1111111111111111,
              "#46039f"
             ],
             [
              0.2222222222222222,
              "#7201a8"
             ],
             [
              0.3333333333333333,
              "#9c179e"
             ],
             [
              0.4444444444444444,
              "#bd3786"
             ],
             [
              0.5555555555555556,
              "#d8576b"
             ],
             [
              0.6666666666666666,
              "#ed7953"
             ],
             [
              0.7777777777777778,
              "#fb9f3a"
             ],
             [
              0.8888888888888888,
              "#fdca26"
             ],
             [
              1,
              "#f0f921"
             ]
            ],
            "type": "contour"
           }
          ],
          "contourcarpet": [
           {
            "colorbar": {
             "outlinewidth": 0,
             "ticks": ""
            },
            "type": "contourcarpet"
           }
          ],
          "heatmap": [
           {
            "colorbar": {
             "outlinewidth": 0,
             "ticks": ""
            },
            "colorscale": [
             [
              0,
              "#0d0887"
             ],
             [
              0.1111111111111111,
              "#46039f"
             ],
             [
              0.2222222222222222,
              "#7201a8"
             ],
             [
              0.3333333333333333,
              "#9c179e"
             ],
             [
              0.4444444444444444,
              "#bd3786"
             ],
             [
              0.5555555555555556,
              "#d8576b"
             ],
             [
              0.6666666666666666,
              "#ed7953"
             ],
             [
              0.7777777777777778,
              "#fb9f3a"
             ],
             [
              0.8888888888888888,
              "#fdca26"
             ],
             [
              1,
              "#f0f921"
             ]
            ],
            "type": "heatmap"
           }
          ],
          "heatmapgl": [
           {
            "colorbar": {
             "outlinewidth": 0,
             "ticks": ""
            },
            "colorscale": [
             [
              0,
              "#0d0887"
             ],
             [
              0.1111111111111111,
              "#46039f"
             ],
             [
              0.2222222222222222,
              "#7201a8"
             ],
             [
              0.3333333333333333,
              "#9c179e"
             ],
             [
              0.4444444444444444,
              "#bd3786"
             ],
             [
              0.5555555555555556,
              "#d8576b"
             ],
             [
              0.6666666666666666,
              "#ed7953"
             ],
             [
              0.7777777777777778,
              "#fb9f3a"
             ],
             [
              0.8888888888888888,
              "#fdca26"
             ],
             [
              1,
              "#f0f921"
             ]
            ],
            "type": "heatmapgl"
           }
          ],
          "histogram": [
           {
            "marker": {
             "pattern": {
              "fillmode": "overlay",
              "size": 10,
              "solidity": 0.2
             }
            },
            "type": "histogram"
           }
          ],
          "histogram2d": [
           {
            "colorbar": {
             "outlinewidth": 0,
             "ticks": ""
            },
            "colorscale": [
             [
              0,
              "#0d0887"
             ],
             [
              0.1111111111111111,
              "#46039f"
             ],
             [
              0.2222222222222222,
              "#7201a8"
             ],
             [
              0.3333333333333333,
              "#9c179e"
             ],
             [
              0.4444444444444444,
              "#bd3786"
             ],
             [
              0.5555555555555556,
              "#d8576b"
             ],
             [
              0.6666666666666666,
              "#ed7953"
             ],
             [
              0.7777777777777778,
              "#fb9f3a"
             ],
             [
              0.8888888888888888,
              "#fdca26"
             ],
             [
              1,
              "#f0f921"
             ]
            ],
            "type": "histogram2d"
           }
          ],
          "histogram2dcontour": [
           {
            "colorbar": {
             "outlinewidth": 0,
             "ticks": ""
            },
            "colorscale": [
             [
              0,
              "#0d0887"
             ],
             [
              0.1111111111111111,
              "#46039f"
             ],
             [
              0.2222222222222222,
              "#7201a8"
             ],
             [
              0.3333333333333333,
              "#9c179e"
             ],
             [
              0.4444444444444444,
              "#bd3786"
             ],
             [
              0.5555555555555556,
              "#d8576b"
             ],
             [
              0.6666666666666666,
              "#ed7953"
             ],
             [
              0.7777777777777778,
              "#fb9f3a"
             ],
             [
              0.8888888888888888,
              "#fdca26"
             ],
             [
              1,
              "#f0f921"
             ]
            ],
            "type": "histogram2dcontour"
           }
          ],
          "mesh3d": [
           {
            "colorbar": {
             "outlinewidth": 0,
             "ticks": ""
            },
            "type": "mesh3d"
           }
          ],
          "parcoords": [
           {
            "line": {
             "colorbar": {
              "outlinewidth": 0,
              "ticks": ""
             }
            },
            "type": "parcoords"
           }
          ],
          "pie": [
           {
            "automargin": true,
            "type": "pie"
           }
          ],
          "scatter": [
           {
            "marker": {
             "line": {
              "color": "#283442"
             }
            },
            "type": "scatter"
           }
          ],
          "scatter3d": [
           {
            "line": {
             "colorbar": {
              "outlinewidth": 0,
              "ticks": ""
             }
            },
            "marker": {
             "colorbar": {
              "outlinewidth": 0,
              "ticks": ""
             }
            },
            "type": "scatter3d"
           }
          ],
          "scattercarpet": [
           {
            "marker": {
             "colorbar": {
              "outlinewidth": 0,
              "ticks": ""
             }
            },
            "type": "scattercarpet"
           }
          ],
          "scattergeo": [
           {
            "marker": {
             "colorbar": {
              "outlinewidth": 0,
              "ticks": ""
             }
            },
            "type": "scattergeo"
           }
          ],
          "scattergl": [
           {
            "marker": {
             "line": {
              "color": "#283442"
             }
            },
            "type": "scattergl"
           }
          ],
          "scattermapbox": [
           {
            "marker": {
             "colorbar": {
              "outlinewidth": 0,
              "ticks": ""
             }
            },
            "type": "scattermapbox"
           }
          ],
          "scatterpolar": [
           {
            "marker": {
             "colorbar": {
              "outlinewidth": 0,
              "ticks": ""
             }
            },
            "type": "scatterpolar"
           }
          ],
          "scatterpolargl": [
           {
            "marker": {
             "colorbar": {
              "outlinewidth": 0,
              "ticks": ""
             }
            },
            "type": "scatterpolargl"
           }
          ],
          "scatterternary": [
           {
            "marker": {
             "colorbar": {
              "outlinewidth": 0,
              "ticks": ""
             }
            },
            "type": "scatterternary"
           }
          ],
          "surface": [
           {
            "colorbar": {
             "outlinewidth": 0,
             "ticks": ""
            },
            "colorscale": [
             [
              0,
              "#0d0887"
             ],
             [
              0.1111111111111111,
              "#46039f"
             ],
             [
              0.2222222222222222,
              "#7201a8"
             ],
             [
              0.3333333333333333,
              "#9c179e"
             ],
             [
              0.4444444444444444,
              "#bd3786"
             ],
             [
              0.5555555555555556,
              "#d8576b"
             ],
             [
              0.6666666666666666,
              "#ed7953"
             ],
             [
              0.7777777777777778,
              "#fb9f3a"
             ],
             [
              0.8888888888888888,
              "#fdca26"
             ],
             [
              1,
              "#f0f921"
             ]
            ],
            "type": "surface"
           }
          ],
          "table": [
           {
            "cells": {
             "fill": {
              "color": "#506784"
             },
             "line": {
              "color": "rgb(17,17,17)"
             }
            },
            "header": {
             "fill": {
              "color": "#2a3f5f"
             },
             "line": {
              "color": "rgb(17,17,17)"
             }
            },
            "type": "table"
           }
          ]
         },
         "layout": {
          "annotationdefaults": {
           "arrowcolor": "#f2f5fa",
           "arrowhead": 0,
           "arrowwidth": 1
          },
          "autotypenumbers": "strict",
          "coloraxis": {
           "colorbar": {
            "outlinewidth": 0,
            "ticks": ""
           }
          },
          "colorscale": {
           "diverging": [
            [
             0,
             "#8e0152"
            ],
            [
             0.1,
             "#c51b7d"
            ],
            [
             0.2,
             "#de77ae"
            ],
            [
             0.3,
             "#f1b6da"
            ],
            [
             0.4,
             "#fde0ef"
            ],
            [
             0.5,
             "#f7f7f7"
            ],
            [
             0.6,
             "#e6f5d0"
            ],
            [
             0.7,
             "#b8e186"
            ],
            [
             0.8,
             "#7fbc41"
            ],
            [
             0.9,
             "#4d9221"
            ],
            [
             1,
             "#276419"
            ]
           ],
           "sequential": [
            [
             0,
             "#0d0887"
            ],
            [
             0.1111111111111111,
             "#46039f"
            ],
            [
             0.2222222222222222,
             "#7201a8"
            ],
            [
             0.3333333333333333,
             "#9c179e"
            ],
            [
             0.4444444444444444,
             "#bd3786"
            ],
            [
             0.5555555555555556,
             "#d8576b"
            ],
            [
             0.6666666666666666,
             "#ed7953"
            ],
            [
             0.7777777777777778,
             "#fb9f3a"
            ],
            [
             0.8888888888888888,
             "#fdca26"
            ],
            [
             1,
             "#f0f921"
            ]
           ],
           "sequentialminus": [
            [
             0,
             "#0d0887"
            ],
            [
             0.1111111111111111,
             "#46039f"
            ],
            [
             0.2222222222222222,
             "#7201a8"
            ],
            [
             0.3333333333333333,
             "#9c179e"
            ],
            [
             0.4444444444444444,
             "#bd3786"
            ],
            [
             0.5555555555555556,
             "#d8576b"
            ],
            [
             0.6666666666666666,
             "#ed7953"
            ],
            [
             0.7777777777777778,
             "#fb9f3a"
            ],
            [
             0.8888888888888888,
             "#fdca26"
            ],
            [
             1,
             "#f0f921"
            ]
           ]
          },
          "colorway": [
           "#636efa",
           "#EF553B",
           "#00cc96",
           "#ab63fa",
           "#FFA15A",
           "#19d3f3",
           "#FF6692",
           "#B6E880",
           "#FF97FF",
           "#FECB52"
          ],
          "font": {
           "color": "#f2f5fa"
          },
          "geo": {
           "bgcolor": "rgb(17,17,17)",
           "lakecolor": "rgb(17,17,17)",
           "landcolor": "rgb(17,17,17)",
           "showlakes": true,
           "showland": true,
           "subunitcolor": "#506784"
          },
          "hoverlabel": {
           "align": "left"
          },
          "hovermode": "closest",
          "mapbox": {
           "style": "dark"
          },
          "paper_bgcolor": "rgb(17,17,17)",
          "plot_bgcolor": "rgb(17,17,17)",
          "polar": {
           "angularaxis": {
            "gridcolor": "#506784",
            "linecolor": "#506784",
            "ticks": ""
           },
           "bgcolor": "rgb(17,17,17)",
           "radialaxis": {
            "gridcolor": "#506784",
            "linecolor": "#506784",
            "ticks": ""
           }
          },
          "scene": {
           "xaxis": {
            "backgroundcolor": "rgb(17,17,17)",
            "gridcolor": "#506784",
            "gridwidth": 2,
            "linecolor": "#506784",
            "showbackground": true,
            "ticks": "",
            "zerolinecolor": "#C8D4E3"
           },
           "yaxis": {
            "backgroundcolor": "rgb(17,17,17)",
            "gridcolor": "#506784",
            "gridwidth": 2,
            "linecolor": "#506784",
            "showbackground": true,
            "ticks": "",
            "zerolinecolor": "#C8D4E3"
           },
           "zaxis": {
            "backgroundcolor": "rgb(17,17,17)",
            "gridcolor": "#506784",
            "gridwidth": 2,
            "linecolor": "#506784",
            "showbackground": true,
            "ticks": "",
            "zerolinecolor": "#C8D4E3"
           }
          },
          "shapedefaults": {
           "line": {
            "color": "#f2f5fa"
           }
          },
          "sliderdefaults": {
           "bgcolor": "#C8D4E3",
           "bordercolor": "rgb(17,17,17)",
           "borderwidth": 1,
           "tickwidth": 0
          },
          "ternary": {
           "aaxis": {
            "gridcolor": "#506784",
            "linecolor": "#506784",
            "ticks": ""
           },
           "baxis": {
            "gridcolor": "#506784",
            "linecolor": "#506784",
            "ticks": ""
           },
           "bgcolor": "rgb(17,17,17)",
           "caxis": {
            "gridcolor": "#506784",
            "linecolor": "#506784",
            "ticks": ""
           }
          },
          "title": {
           "x": 0.05
          },
          "updatemenudefaults": {
           "bgcolor": "#506784",
           "borderwidth": 0
          },
          "xaxis": {
           "automargin": true,
           "gridcolor": "#283442",
           "linecolor": "#506784",
           "ticks": "",
           "title": {
            "standoff": 15
           },
           "zerolinecolor": "#283442",
           "zerolinewidth": 2
          },
          "yaxis": {
           "automargin": true,
           "gridcolor": "#283442",
           "linecolor": "#506784",
           "ticks": "",
           "title": {
            "standoff": 15
           },
           "zerolinecolor": "#283442",
           "zerolinewidth": 2
          }
         }
        },
        "title": {
         "text": "500 tasks 4 workers batch-size => 5 : fast Plot for Message Transitions Over Time"
        },
        "xaxis": {
         "anchor": "y",
         "domain": [
          0,
          1
         ],
         "showgrid": true,
         "title": {
          "text": "Timestamp"
         }
        },
        "yaxis": {
         "anchor": "x",
         "domain": [
          0,
          1
         ],
         "showgrid": true,
         "title": {
          "text": "State"
         }
        }
       }
      }
     },
     "metadata": {},
     "output_type": "display_data"
    },
    {
     "data": {
      "application/vnd.plotly.v1+json": {
       "config": {
        "plotlyServerURL": "https://plot.ly"
       },
       "data": [
        {
         "line": {
          "color": "blue"
         },
         "marker": {
          "color": "blue"
         },
         "mode": "lines+markers",
         "name": "Latency",
         "type": "scatter",
         "x": [
          1,
          2,
          3,
          4,
          5,
          6,
          7,
          8,
          9,
          10,
          11,
          12,
          13,
          14,
          15,
          16,
          17,
          18,
          19,
          20,
          21,
          22,
          23,
          24,
          25,
          26,
          27,
          28,
          29,
          30,
          31,
          32,
          33,
          34,
          35,
          36,
          37,
          38,
          39,
          40,
          41,
          42,
          43,
          44,
          45,
          46,
          47,
          48,
          49,
          50,
          51,
          52,
          53,
          54,
          55,
          56,
          57,
          58,
          59,
          60,
          61,
          62,
          63,
          64,
          65,
          66,
          67,
          68,
          69,
          70,
          71,
          72,
          73,
          74,
          75,
          76,
          77,
          78,
          79,
          80,
          81,
          82,
          83,
          84,
          85,
          86,
          87,
          88,
          89,
          90,
          91,
          92,
          93,
          94,
          95,
          96,
          97,
          98,
          99,
          100,
          101,
          102,
          103,
          104,
          105,
          106,
          107,
          108,
          109,
          110,
          111,
          112,
          113,
          114,
          115,
          116,
          117,
          118,
          119,
          120,
          121,
          122,
          123,
          124,
          125,
          126,
          127,
          128,
          129,
          130,
          131,
          132,
          133,
          134,
          135,
          136,
          137,
          138,
          139,
          140,
          141,
          142,
          143,
          144,
          145,
          146,
          147,
          148,
          149,
          150,
          151,
          152,
          153,
          154,
          155,
          156,
          157,
          158,
          159,
          160,
          161,
          162,
          163,
          164,
          165,
          166,
          167,
          168,
          169,
          170,
          171,
          172,
          173,
          174,
          175,
          176,
          177,
          178,
          179,
          180,
          181,
          182,
          183,
          184,
          185,
          186,
          187,
          188,
          189,
          190,
          191,
          192,
          193,
          194,
          195,
          196,
          197,
          198,
          199,
          200,
          201,
          202,
          203,
          204,
          205,
          206,
          207,
          208,
          209,
          210,
          211,
          212,
          213,
          214,
          215,
          216,
          217,
          218,
          219,
          220,
          221,
          222,
          223,
          224,
          225,
          226,
          227,
          228,
          229,
          230,
          231,
          232,
          233,
          234,
          235,
          236,
          237,
          238,
          239,
          240,
          241,
          242,
          243,
          244,
          245,
          246,
          247,
          248,
          249,
          250,
          251,
          252,
          253,
          254,
          255,
          256,
          257,
          258,
          259,
          260,
          261,
          262,
          263,
          264,
          265,
          266,
          267,
          268,
          269,
          270,
          271,
          272,
          273,
          274,
          275,
          276,
          277,
          278,
          279,
          280,
          281,
          282,
          283,
          284,
          285,
          286,
          287,
          288,
          289,
          290,
          291,
          292,
          293,
          294,
          295,
          296,
          297,
          298,
          299,
          300,
          301,
          302,
          303,
          304,
          305,
          306,
          307,
          308,
          309,
          310,
          311,
          312,
          313,
          314,
          315,
          316,
          317,
          318,
          319,
          320,
          321,
          322,
          323,
          324,
          325,
          326,
          327,
          328,
          329,
          330,
          331,
          332,
          333,
          334,
          335,
          336,
          337,
          338,
          339,
          340,
          341,
          342,
          343,
          344,
          345,
          346,
          347,
          348,
          349,
          350,
          351,
          352,
          353,
          354,
          355,
          356,
          357,
          358,
          359,
          360,
          361,
          362,
          363,
          364,
          365,
          366,
          367,
          368,
          369,
          370,
          371,
          372,
          373,
          374,
          375,
          376,
          377,
          378,
          379,
          380,
          381,
          382,
          383,
          384,
          385,
          386,
          387,
          388,
          389,
          390,
          391,
          392,
          393,
          394,
          395,
          396,
          397,
          398,
          399,
          400,
          401,
          402,
          403,
          404,
          405,
          406,
          407,
          408,
          409,
          410,
          411,
          412,
          413,
          414,
          415,
          416,
          417,
          418,
          419,
          420,
          421,
          422,
          423,
          424,
          425,
          426,
          427,
          428,
          429,
          430,
          431,
          432,
          433,
          434,
          435,
          436,
          437,
          438,
          439,
          440,
          441,
          442,
          443,
          444,
          445,
          446,
          447,
          448,
          449,
          450,
          451,
          452,
          453,
          454,
          455,
          456,
          457,
          458,
          459,
          460,
          461,
          462,
          463,
          464,
          465,
          466,
          467,
          468,
          469,
          470,
          471,
          472,
          473,
          474,
          475,
          476,
          477,
          478,
          479,
          480,
          481,
          482,
          483,
          484,
          485,
          486,
          487,
          488,
          489,
          490,
          491,
          492,
          493,
          494,
          495,
          496,
          497,
          498,
          499,
          500
         ],
         "y": [
          53.622657,
          53.576303,
          53.536944,
          53.523876,
          53.493317,
          54.92763,
          54.904159,
          54.886558,
          54.820841,
          54.717021,
          103.536204,
          103.491835,
          103.440727,
          103.395484,
          103.389882,
          104.76899,
          104.693275,
          104.673201,
          104.647963,
          104.548034,
          153.317773,
          153.27843,
          153.276438,
          153.15355,
          153.110337,
          154.516608,
          154.432592,
          154.367102,
          150.662555,
          150.113762,
          198.842962,
          198.829572,
          198.675869,
          198.670119,
          198.539973,
          199.888518,
          199.849569,
          199.802921,
          199.650392,
          199.647408,
          248.436751,
          248.336335,
          248.273934,
          248.272091,
          248.231477,
          249.65683,
          249.620484,
          249.616769,
          249.592629,
          249.5855,
          298.276932,
          298.133421,
          298.065994,
          297.9778,
          297.860317,
          299.108013,
          295.855045,
          295.413588,
          295.339199,
          295.266346,
          344.022303,
          343.8877,
          343.669432,
          343.641031,
          343.547532,
          344.903627,
          344.825333,
          344.762251,
          344.534023,
          344.466069,
          393.312774,
          393.234719,
          393.225035,
          393.183108,
          393.172281,
          394.405129,
          394.314532,
          394.30555,
          394.284626,
          394.138269,
          443.041971,
          443.031845,
          443.004561,
          442.677492,
          439.712545,
          440.31623,
          440.313746,
          440.219875,
          440.052452,
          440.041022,
          488.82466,
          488.795218,
          488.727793,
          488.635885,
          488.37658,
          489.624406,
          489.560586,
          489.540334,
          489.506943,
          489.446452,
          538.270663,
          538.214608,
          538.112967,
          538.101245,
          538.099473,
          539.426381,
          539.392352,
          539.335182,
          539.232664,
          539.157046,
          587.943957,
          587.778059,
          584.941541,
          584.335688,
          584.049331,
          585.38101,
          585.041644,
          584.915416,
          584.910737,
          584.900049,
          633.694316,
          633.469974,
          633.398488,
          633.308816,
          633.302376,
          634.68135,
          634.604699,
          634.6018,
          634.599589,
          634.548836,
          683.363657,
          683.361506,
          683.323369,
          683.284468,
          683.235324,
          684.514964,
          684.444795,
          684.220068,
          684.214733,
          684.195806,
          729.989932,
          729.520662,
          729.340299,
          729.123657,
          728.919882,
          730.206162,
          730.037209,
          729.974052,
          729.93513,
          729.858446,
          778.787961,
          778.74082,
          778.693736,
          778.551894,
          778.550587,
          779.80745,
          779.76917,
          779.729225,
          779.640103,
          779.610787,
          828.532551,
          828.508721,
          828.467541,
          828.416023,
          828.334512,
          829.443767,
          829.204498,
          829.151216,
          825.944678,
          825.833244,
          874.387166,
          874.210678,
          874.068075,
          873.949136,
          873.889353,
          875.224664,
          875.177291,
          875.107018,
          875.083985,
          874.938661,
          923.802321,
          923.774601,
          923.703248,
          923.654292,
          923.56136,
          924.810024,
          924.639002,
          924.61658,
          924.496492,
          924.465835,
          973.301928,
          973.296261,
          973.289324,
          973.180947,
          973.047892,
          974.208206,
          970.867011,
          970.831172,
          970.814761,
          970.543163,
          1019.380642,
          1019.344884,
          1019.220059,
          1019.142315,
          1019.137653,
          1020.452008,
          1020.407181,
          1020.313493,
          1020.037112,
          1020.028182,
          1068.860837,
          1068.819631,
          1068.767585,
          1068.717805,
          1068.574187,
          1069.849738,
          1069.804709,
          1069.65178,
          1069.49741,
          1069.444643,
          1118.355371,
          1118.200015,
          1117.923177,
          1117.651801,
          1114.816803,
          1116.036061,
          1115.875786,
          1115.827303,
          1115.644601,
          1115.495569,
          1164.458868,
          1164.403382,
          1164.389145,
          1164.332373,
          1164.292031,
          1165.474897,
          1165.431916,
          1165.252585,
          1165.176106,
          1165.104216,
          1214.039951,
          1214.023963,
          1213.977798,
          1213.929106,
          1213.696438,
          1214.782237,
          1214.772997,
          1214.646943,
          1214.611488,
          1214.489333,
          1263.220729,
          1262.786397,
          1260.500039,
          1260.111087,
          1260.103964,
          1261.338406,
          1261.025196,
          1260.972192,
          1260.772304,
          1260.592155,
          1309.418352,
          1309.407285,
          1309.296729,
          1309.196924,
          1309.168668,
          1310.326664,
          1310.31658,
          1310.269173,
          1310.198393,
          1310.096479,
          1359.051416,
          1358.97166,
          1358.921081,
          1358.91408,
          1358.799505,
          1359.88324,
          1359.757092,
          1359.444073,
          1359.165631,
          1358.900787,
          1405.256271,
          1405.236037,
          1405.082992,
          1405.026126,
          1405.001077,
          1406.134841,
          1406.095387,
          1405.965756,
          1405.878168,
          1405.771283,
          1454.731373,
          1454.648425,
          1454.538681,
          1454.331107,
          1454.288915,
          1455.490117,
          1455.340128,
          1455.318289,
          1455.284858,
          1455.200718,
          1504.199609,
          1504.159398,
          1504.071472,
          1504.00042,
          1503.74693,
          1504.476232,
          1504.369979,
          1504.166584,
          1501.501948,
          1501.310705,
          1550.313444,
          1550.14807,
          1550.117863,
          1550.04581,
          1550.043955,
          1550.998296,
          1550.914555,
          1550.885236,
          1550.85646,
          1550.74592,
          1599.668704,
          1599.596732,
          1599.268456,
          1599.19706,
          1599.110486,
          1600.29362,
          1600.291086,
          1600.288191,
          1600.28415,
          1600.032212,
          1649.045834,
          1649.043708,
          1648.856618,
          1648.394663,
          1648.384025,
          1649.424431,
          1646.709655,
          1646.355437,
          1646.332025,
          1646.213422,
          1695.193068,
          1695.170909,
          1695.012575,
          1694.869809,
          1694.786979,
          1695.942897,
          1695.788378,
          1695.728727,
          1695.465537,
          1695.249182,
          1744.278221,
          1744.262811,
          1744.235644,
          1744.167974,
          1744.092211,
          1745.287804,
          1745.280414,
          1745.0221,
          1744.985597,
          1744.926732,
          1793.890993,
          1793.638698,
          1793.591084,
          1793.268571,
          1790.636458,
          1791.526265,
          1791.395543,
          1791.372397,
          1791.327861,
          1791.256138,
          1840.279269,
          1840.176637,
          1839.994323,
          1839.899161,
          1839.841238,
          1840.824892,
          1840.74184,
          1840.50109,
          1840.453855,
          1840.357609,
          1889.268427,
          1889.224864,
          1889.216819,
          1889.067422,
          1888.937573,
          1890.109442,
          1890.046819,
          1890.045837,
          1890.04422,
          1889.467677,
          1938.51093,
          1938.130858,
          1935.830858,
          1935.385924,
          1935.336083,
          1936.289678,
          1936.275266,
          1936.2457,
          1935.994547,
          1935.817184,
          1984.867094,
          1984.810559,
          1984.755657,
          1984.580455,
          1984.488905,
          1985.348917,
          1985.341182,
          1985.332428,
          1985.258911,
          1985.246811,
          2034.213411,
          2034.104857,
          2034.033865,
          2033.972298,
          2033.929557,
          2035.082904,
          2035.074523,
          2034.580208,
          2034.444711,
          2033.795344,
          2081.200054,
          2080.699768,
          2080.39064,
          2080.342125,
          2080.302422,
          2081.426346,
          2081.339891,
          2081.301179,
          2081.001173,
          2080.996831,
          2130.038939,
          2129.92983,
          2129.789503,
          2129.664136,
          2129.568967,
          2130.626316,
          2130.541996,
          2130.469291,
          2130.468444,
          2130.383303,
          2179.25886,
          2179.254293,
          2179.104119,
          2179.097598,
          2178.88674,
          2179.78803,
          2179.465633,
          2178.746366,
          2177.028267,
          2176.630431,
          2225.731734,
          2225.588508,
          2225.201392,
          2225.192451,
          2225.19077,
          2226.222211,
          2226.008312,
          2226.00574,
          2225.975303,
          2225.864999,
          2274.924411,
          2274.887823,
          2274.790543,
          2274.646679,
          2274.50592,
          2275.620953,
          2275.613288,
          2275.545969,
          2275.163249,
          2275.113183,
          2324.123271,
          2323.99309,
          2323.973024,
          2323.761888,
          2323.219979,
          2323.811149,
          2322.422247,
          2322.232859,
          2322.183648,
          2322.057998,
          2370.835199,
          2370.779033,
          2370.764902,
          2370.759463,
          2370.735472,
          2371.717695,
          2371.7147,
          2371.701929,
          2371.671666,
          2371.627303,
          2421.752993,
          2421.718053,
          2421.579833,
          2421.547915,
          2421.546313,
          2422.257889,
          2422.240445,
          2422.026185,
          2422.007395,
          2421.906195
         ]
        }
       ],
       "layout": {
        "legend": {
         "title": {
          "text": "Legend"
         }
        },
        "template": {
         "data": {
          "bar": [
           {
            "error_x": {
             "color": "#f2f5fa"
            },
            "error_y": {
             "color": "#f2f5fa"
            },
            "marker": {
             "line": {
              "color": "rgb(17,17,17)",
              "width": 0.5
             },
             "pattern": {
              "fillmode": "overlay",
              "size": 10,
              "solidity": 0.2
             }
            },
            "type": "bar"
           }
          ],
          "barpolar": [
           {
            "marker": {
             "line": {
              "color": "rgb(17,17,17)",
              "width": 0.5
             },
             "pattern": {
              "fillmode": "overlay",
              "size": 10,
              "solidity": 0.2
             }
            },
            "type": "barpolar"
           }
          ],
          "carpet": [
           {
            "aaxis": {
             "endlinecolor": "#A2B1C6",
             "gridcolor": "#506784",
             "linecolor": "#506784",
             "minorgridcolor": "#506784",
             "startlinecolor": "#A2B1C6"
            },
            "baxis": {
             "endlinecolor": "#A2B1C6",
             "gridcolor": "#506784",
             "linecolor": "#506784",
             "minorgridcolor": "#506784",
             "startlinecolor": "#A2B1C6"
            },
            "type": "carpet"
           }
          ],
          "choropleth": [
           {
            "colorbar": {
             "outlinewidth": 0,
             "ticks": ""
            },
            "type": "choropleth"
           }
          ],
          "contour": [
           {
            "colorbar": {
             "outlinewidth": 0,
             "ticks": ""
            },
            "colorscale": [
             [
              0,
              "#0d0887"
             ],
             [
              0.1111111111111111,
              "#46039f"
             ],
             [
              0.2222222222222222,
              "#7201a8"
             ],
             [
              0.3333333333333333,
              "#9c179e"
             ],
             [
              0.4444444444444444,
              "#bd3786"
             ],
             [
              0.5555555555555556,
              "#d8576b"
             ],
             [
              0.6666666666666666,
              "#ed7953"
             ],
             [
              0.7777777777777778,
              "#fb9f3a"
             ],
             [
              0.8888888888888888,
              "#fdca26"
             ],
             [
              1,
              "#f0f921"
             ]
            ],
            "type": "contour"
           }
          ],
          "contourcarpet": [
           {
            "colorbar": {
             "outlinewidth": 0,
             "ticks": ""
            },
            "type": "contourcarpet"
           }
          ],
          "heatmap": [
           {
            "colorbar": {
             "outlinewidth": 0,
             "ticks": ""
            },
            "colorscale": [
             [
              0,
              "#0d0887"
             ],
             [
              0.1111111111111111,
              "#46039f"
             ],
             [
              0.2222222222222222,
              "#7201a8"
             ],
             [
              0.3333333333333333,
              "#9c179e"
             ],
             [
              0.4444444444444444,
              "#bd3786"
             ],
             [
              0.5555555555555556,
              "#d8576b"
             ],
             [
              0.6666666666666666,
              "#ed7953"
             ],
             [
              0.7777777777777778,
              "#fb9f3a"
             ],
             [
              0.8888888888888888,
              "#fdca26"
             ],
             [
              1,
              "#f0f921"
             ]
            ],
            "type": "heatmap"
           }
          ],
          "heatmapgl": [
           {
            "colorbar": {
             "outlinewidth": 0,
             "ticks": ""
            },
            "colorscale": [
             [
              0,
              "#0d0887"
             ],
             [
              0.1111111111111111,
              "#46039f"
             ],
             [
              0.2222222222222222,
              "#7201a8"
             ],
             [
              0.3333333333333333,
              "#9c179e"
             ],
             [
              0.4444444444444444,
              "#bd3786"
             ],
             [
              0.5555555555555556,
              "#d8576b"
             ],
             [
              0.6666666666666666,
              "#ed7953"
             ],
             [
              0.7777777777777778,
              "#fb9f3a"
             ],
             [
              0.8888888888888888,
              "#fdca26"
             ],
             [
              1,
              "#f0f921"
             ]
            ],
            "type": "heatmapgl"
           }
          ],
          "histogram": [
           {
            "marker": {
             "pattern": {
              "fillmode": "overlay",
              "size": 10,
              "solidity": 0.2
             }
            },
            "type": "histogram"
           }
          ],
          "histogram2d": [
           {
            "colorbar": {
             "outlinewidth": 0,
             "ticks": ""
            },
            "colorscale": [
             [
              0,
              "#0d0887"
             ],
             [
              0.1111111111111111,
              "#46039f"
             ],
             [
              0.2222222222222222,
              "#7201a8"
             ],
             [
              0.3333333333333333,
              "#9c179e"
             ],
             [
              0.4444444444444444,
              "#bd3786"
             ],
             [
              0.5555555555555556,
              "#d8576b"
             ],
             [
              0.6666666666666666,
              "#ed7953"
             ],
             [
              0.7777777777777778,
              "#fb9f3a"
             ],
             [
              0.8888888888888888,
              "#fdca26"
             ],
             [
              1,
              "#f0f921"
             ]
            ],
            "type": "histogram2d"
           }
          ],
          "histogram2dcontour": [
           {
            "colorbar": {
             "outlinewidth": 0,
             "ticks": ""
            },
            "colorscale": [
             [
              0,
              "#0d0887"
             ],
             [
              0.1111111111111111,
              "#46039f"
             ],
             [
              0.2222222222222222,
              "#7201a8"
             ],
             [
              0.3333333333333333,
              "#9c179e"
             ],
             [
              0.4444444444444444,
              "#bd3786"
             ],
             [
              0.5555555555555556,
              "#d8576b"
             ],
             [
              0.6666666666666666,
              "#ed7953"
             ],
             [
              0.7777777777777778,
              "#fb9f3a"
             ],
             [
              0.8888888888888888,
              "#fdca26"
             ],
             [
              1,
              "#f0f921"
             ]
            ],
            "type": "histogram2dcontour"
           }
          ],
          "mesh3d": [
           {
            "colorbar": {
             "outlinewidth": 0,
             "ticks": ""
            },
            "type": "mesh3d"
           }
          ],
          "parcoords": [
           {
            "line": {
             "colorbar": {
              "outlinewidth": 0,
              "ticks": ""
             }
            },
            "type": "parcoords"
           }
          ],
          "pie": [
           {
            "automargin": true,
            "type": "pie"
           }
          ],
          "scatter": [
           {
            "marker": {
             "line": {
              "color": "#283442"
             }
            },
            "type": "scatter"
           }
          ],
          "scatter3d": [
           {
            "line": {
             "colorbar": {
              "outlinewidth": 0,
              "ticks": ""
             }
            },
            "marker": {
             "colorbar": {
              "outlinewidth": 0,
              "ticks": ""
             }
            },
            "type": "scatter3d"
           }
          ],
          "scattercarpet": [
           {
            "marker": {
             "colorbar": {
              "outlinewidth": 0,
              "ticks": ""
             }
            },
            "type": "scattercarpet"
           }
          ],
          "scattergeo": [
           {
            "marker": {
             "colorbar": {
              "outlinewidth": 0,
              "ticks": ""
             }
            },
            "type": "scattergeo"
           }
          ],
          "scattergl": [
           {
            "marker": {
             "line": {
              "color": "#283442"
             }
            },
            "type": "scattergl"
           }
          ],
          "scattermapbox": [
           {
            "marker": {
             "colorbar": {
              "outlinewidth": 0,
              "ticks": ""
             }
            },
            "type": "scattermapbox"
           }
          ],
          "scatterpolar": [
           {
            "marker": {
             "colorbar": {
              "outlinewidth": 0,
              "ticks": ""
             }
            },
            "type": "scatterpolar"
           }
          ],
          "scatterpolargl": [
           {
            "marker": {
             "colorbar": {
              "outlinewidth": 0,
              "ticks": ""
             }
            },
            "type": "scatterpolargl"
           }
          ],
          "scatterternary": [
           {
            "marker": {
             "colorbar": {
              "outlinewidth": 0,
              "ticks": ""
             }
            },
            "type": "scatterternary"
           }
          ],
          "surface": [
           {
            "colorbar": {
             "outlinewidth": 0,
             "ticks": ""
            },
            "colorscale": [
             [
              0,
              "#0d0887"
             ],
             [
              0.1111111111111111,
              "#46039f"
             ],
             [
              0.2222222222222222,
              "#7201a8"
             ],
             [
              0.3333333333333333,
              "#9c179e"
             ],
             [
              0.4444444444444444,
              "#bd3786"
             ],
             [
              0.5555555555555556,
              "#d8576b"
             ],
             [
              0.6666666666666666,
              "#ed7953"
             ],
             [
              0.7777777777777778,
              "#fb9f3a"
             ],
             [
              0.8888888888888888,
              "#fdca26"
             ],
             [
              1,
              "#f0f921"
             ]
            ],
            "type": "surface"
           }
          ],
          "table": [
           {
            "cells": {
             "fill": {
              "color": "#506784"
             },
             "line": {
              "color": "rgb(17,17,17)"
             }
            },
            "header": {
             "fill": {
              "color": "#2a3f5f"
             },
             "line": {
              "color": "rgb(17,17,17)"
             }
            },
            "type": "table"
           }
          ]
         },
         "layout": {
          "annotationdefaults": {
           "arrowcolor": "#f2f5fa",
           "arrowhead": 0,
           "arrowwidth": 1
          },
          "autotypenumbers": "strict",
          "coloraxis": {
           "colorbar": {
            "outlinewidth": 0,
            "ticks": ""
           }
          },
          "colorscale": {
           "diverging": [
            [
             0,
             "#8e0152"
            ],
            [
             0.1,
             "#c51b7d"
            ],
            [
             0.2,
             "#de77ae"
            ],
            [
             0.3,
             "#f1b6da"
            ],
            [
             0.4,
             "#fde0ef"
            ],
            [
             0.5,
             "#f7f7f7"
            ],
            [
             0.6,
             "#e6f5d0"
            ],
            [
             0.7,
             "#b8e186"
            ],
            [
             0.8,
             "#7fbc41"
            ],
            [
             0.9,
             "#4d9221"
            ],
            [
             1,
             "#276419"
            ]
           ],
           "sequential": [
            [
             0,
             "#0d0887"
            ],
            [
             0.1111111111111111,
             "#46039f"
            ],
            [
             0.2222222222222222,
             "#7201a8"
            ],
            [
             0.3333333333333333,
             "#9c179e"
            ],
            [
             0.4444444444444444,
             "#bd3786"
            ],
            [
             0.5555555555555556,
             "#d8576b"
            ],
            [
             0.6666666666666666,
             "#ed7953"
            ],
            [
             0.7777777777777778,
             "#fb9f3a"
            ],
            [
             0.8888888888888888,
             "#fdca26"
            ],
            [
             1,
             "#f0f921"
            ]
           ],
           "sequentialminus": [
            [
             0,
             "#0d0887"
            ],
            [
             0.1111111111111111,
             "#46039f"
            ],
            [
             0.2222222222222222,
             "#7201a8"
            ],
            [
             0.3333333333333333,
             "#9c179e"
            ],
            [
             0.4444444444444444,
             "#bd3786"
            ],
            [
             0.5555555555555556,
             "#d8576b"
            ],
            [
             0.6666666666666666,
             "#ed7953"
            ],
            [
             0.7777777777777778,
             "#fb9f3a"
            ],
            [
             0.8888888888888888,
             "#fdca26"
            ],
            [
             1,
             "#f0f921"
            ]
           ]
          },
          "colorway": [
           "#636efa",
           "#EF553B",
           "#00cc96",
           "#ab63fa",
           "#FFA15A",
           "#19d3f3",
           "#FF6692",
           "#B6E880",
           "#FF97FF",
           "#FECB52"
          ],
          "font": {
           "color": "#f2f5fa"
          },
          "geo": {
           "bgcolor": "rgb(17,17,17)",
           "lakecolor": "rgb(17,17,17)",
           "landcolor": "rgb(17,17,17)",
           "showlakes": true,
           "showland": true,
           "subunitcolor": "#506784"
          },
          "hoverlabel": {
           "align": "left"
          },
          "hovermode": "closest",
          "mapbox": {
           "style": "dark"
          },
          "paper_bgcolor": "rgb(17,17,17)",
          "plot_bgcolor": "rgb(17,17,17)",
          "polar": {
           "angularaxis": {
            "gridcolor": "#506784",
            "linecolor": "#506784",
            "ticks": ""
           },
           "bgcolor": "rgb(17,17,17)",
           "radialaxis": {
            "gridcolor": "#506784",
            "linecolor": "#506784",
            "ticks": ""
           }
          },
          "scene": {
           "xaxis": {
            "backgroundcolor": "rgb(17,17,17)",
            "gridcolor": "#506784",
            "gridwidth": 2,
            "linecolor": "#506784",
            "showbackground": true,
            "ticks": "",
            "zerolinecolor": "#C8D4E3"
           },
           "yaxis": {
            "backgroundcolor": "rgb(17,17,17)",
            "gridcolor": "#506784",
            "gridwidth": 2,
            "linecolor": "#506784",
            "showbackground": true,
            "ticks": "",
            "zerolinecolor": "#C8D4E3"
           },
           "zaxis": {
            "backgroundcolor": "rgb(17,17,17)",
            "gridcolor": "#506784",
            "gridwidth": 2,
            "linecolor": "#506784",
            "showbackground": true,
            "ticks": "",
            "zerolinecolor": "#C8D4E3"
           }
          },
          "shapedefaults": {
           "line": {
            "color": "#f2f5fa"
           }
          },
          "sliderdefaults": {
           "bgcolor": "#C8D4E3",
           "bordercolor": "rgb(17,17,17)",
           "borderwidth": 1,
           "tickwidth": 0
          },
          "ternary": {
           "aaxis": {
            "gridcolor": "#506784",
            "linecolor": "#506784",
            "ticks": ""
           },
           "baxis": {
            "gridcolor": "#506784",
            "linecolor": "#506784",
            "ticks": ""
           },
           "bgcolor": "rgb(17,17,17)",
           "caxis": {
            "gridcolor": "#506784",
            "linecolor": "#506784",
            "ticks": ""
           }
          },
          "title": {
           "x": 0.05
          },
          "updatemenudefaults": {
           "bgcolor": "#506784",
           "borderwidth": 0
          },
          "xaxis": {
           "automargin": true,
           "gridcolor": "#283442",
           "linecolor": "#506784",
           "ticks": "",
           "title": {
            "standoff": 15
           },
           "zerolinecolor": "#283442",
           "zerolinewidth": 2
          },
          "yaxis": {
           "automargin": true,
           "gridcolor": "#283442",
           "linecolor": "#506784",
           "ticks": "",
           "title": {
            "standoff": 15
           },
           "zerolinecolor": "#283442",
           "zerolinewidth": 2
          }
         }
        },
        "title": {
         "text": "500 tasks 4 workers batch-size => 5 : fast  Plot for Latency Trends Over Time"
        },
        "xaxis": {
         "showgrid": true,
         "title": {
          "text": "Message ID"
         }
        },
        "yaxis": {
         "showgrid": true,
         "title": {
          "text": "Latency (seconds)"
         }
        }
       }
      }
     },
     "metadata": {},
     "output_type": "display_data"
    },
    {
     "name": "stdout",
     "output_type": "stream",
     "text": [
      "throughput => timestamp\n",
      "2024-12-31 11:25:30    10\n",
      "2024-12-31 11:25:40     0\n",
      "2024-12-31 11:25:50     0\n",
      "2024-12-31 11:26:00     0\n",
      "2024-12-31 11:26:10     0\n",
      "                       ..\n",
      "2024-12-31 12:05:50     0\n",
      "2024-12-31 12:06:00     0\n",
      "2024-12-31 12:06:10     0\n",
      "2024-12-31 12:06:20     0\n",
      "2024-12-31 12:06:30    10\n",
      "Freq: 10S, Length: 247, dtype: int64\n"
     ]
    },
    {
     "data": {
      "application/vnd.plotly.v1+json": {
       "config": {
        "plotlyServerURL": "https://plot.ly"
       },
       "data": [
        {
         "line": {
          "color": "green"
         },
         "marker": {
          "color": "green"
         },
         "mode": "lines+markers",
         "name": "Throughput",
         "type": "scatter",
         "x": [
          "2024-12-31T11:25:30",
          "2024-12-31T11:25:40",
          "2024-12-31T11:25:50",
          "2024-12-31T11:26:00",
          "2024-12-31T11:26:10",
          "2024-12-31T11:26:20",
          "2024-12-31T11:26:30",
          "2024-12-31T11:26:40",
          "2024-12-31T11:26:50",
          "2024-12-31T11:27:00",
          "2024-12-31T11:27:10",
          "2024-12-31T11:27:20",
          "2024-12-31T11:27:30",
          "2024-12-31T11:27:40",
          "2024-12-31T11:27:50",
          "2024-12-31T11:28:00",
          "2024-12-31T11:28:10",
          "2024-12-31T11:28:20",
          "2024-12-31T11:28:30",
          "2024-12-31T11:28:40",
          "2024-12-31T11:28:50",
          "2024-12-31T11:29:00",
          "2024-12-31T11:29:10",
          "2024-12-31T11:29:20",
          "2024-12-31T11:29:30",
          "2024-12-31T11:29:40",
          "2024-12-31T11:29:50",
          "2024-12-31T11:30:00",
          "2024-12-31T11:30:10",
          "2024-12-31T11:30:20",
          "2024-12-31T11:30:30",
          "2024-12-31T11:30:40",
          "2024-12-31T11:30:50",
          "2024-12-31T11:31:00",
          "2024-12-31T11:31:10",
          "2024-12-31T11:31:20",
          "2024-12-31T11:31:30",
          "2024-12-31T11:31:40",
          "2024-12-31T11:31:50",
          "2024-12-31T11:32:00",
          "2024-12-31T11:32:10",
          "2024-12-31T11:32:20",
          "2024-12-31T11:32:30",
          "2024-12-31T11:32:40",
          "2024-12-31T11:32:50",
          "2024-12-31T11:33:00",
          "2024-12-31T11:33:10",
          "2024-12-31T11:33:20",
          "2024-12-31T11:33:30",
          "2024-12-31T11:33:40",
          "2024-12-31T11:33:50",
          "2024-12-31T11:34:00",
          "2024-12-31T11:34:10",
          "2024-12-31T11:34:20",
          "2024-12-31T11:34:30",
          "2024-12-31T11:34:40",
          "2024-12-31T11:34:50",
          "2024-12-31T11:35:00",
          "2024-12-31T11:35:10",
          "2024-12-31T11:35:20",
          "2024-12-31T11:35:30",
          "2024-12-31T11:35:40",
          "2024-12-31T11:35:50",
          "2024-12-31T11:36:00",
          "2024-12-31T11:36:10",
          "2024-12-31T11:36:20",
          "2024-12-31T11:36:30",
          "2024-12-31T11:36:40",
          "2024-12-31T11:36:50",
          "2024-12-31T11:37:00",
          "2024-12-31T11:37:10",
          "2024-12-31T11:37:20",
          "2024-12-31T11:37:30",
          "2024-12-31T11:37:40",
          "2024-12-31T11:37:50",
          "2024-12-31T11:38:00",
          "2024-12-31T11:38:10",
          "2024-12-31T11:38:20",
          "2024-12-31T11:38:30",
          "2024-12-31T11:38:40",
          "2024-12-31T11:38:50",
          "2024-12-31T11:39:00",
          "2024-12-31T11:39:10",
          "2024-12-31T11:39:20",
          "2024-12-31T11:39:30",
          "2024-12-31T11:39:40",
          "2024-12-31T11:39:50",
          "2024-12-31T11:40:00",
          "2024-12-31T11:40:10",
          "2024-12-31T11:40:20",
          "2024-12-31T11:40:30",
          "2024-12-31T11:40:40",
          "2024-12-31T11:40:50",
          "2024-12-31T11:41:00",
          "2024-12-31T11:41:10",
          "2024-12-31T11:41:20",
          "2024-12-31T11:41:30",
          "2024-12-31T11:41:40",
          "2024-12-31T11:41:50",
          "2024-12-31T11:42:00",
          "2024-12-31T11:42:10",
          "2024-12-31T11:42:20",
          "2024-12-31T11:42:30",
          "2024-12-31T11:42:40",
          "2024-12-31T11:42:50",
          "2024-12-31T11:43:00",
          "2024-12-31T11:43:10",
          "2024-12-31T11:43:20",
          "2024-12-31T11:43:30",
          "2024-12-31T11:43:40",
          "2024-12-31T11:43:50",
          "2024-12-31T11:44:00",
          "2024-12-31T11:44:10",
          "2024-12-31T11:44:20",
          "2024-12-31T11:44:30",
          "2024-12-31T11:44:40",
          "2024-12-31T11:44:50",
          "2024-12-31T11:45:00",
          "2024-12-31T11:45:10",
          "2024-12-31T11:45:20",
          "2024-12-31T11:45:30",
          "2024-12-31T11:45:40",
          "2024-12-31T11:45:50",
          "2024-12-31T11:46:00",
          "2024-12-31T11:46:10",
          "2024-12-31T11:46:20",
          "2024-12-31T11:46:30",
          "2024-12-31T11:46:40",
          "2024-12-31T11:46:50",
          "2024-12-31T11:47:00",
          "2024-12-31T11:47:10",
          "2024-12-31T11:47:20",
          "2024-12-31T11:47:30",
          "2024-12-31T11:47:40",
          "2024-12-31T11:47:50",
          "2024-12-31T11:48:00",
          "2024-12-31T11:48:10",
          "2024-12-31T11:48:20",
          "2024-12-31T11:48:30",
          "2024-12-31T11:48:40",
          "2024-12-31T11:48:50",
          "2024-12-31T11:49:00",
          "2024-12-31T11:49:10",
          "2024-12-31T11:49:20",
          "2024-12-31T11:49:30",
          "2024-12-31T11:49:40",
          "2024-12-31T11:49:50",
          "2024-12-31T11:50:00",
          "2024-12-31T11:50:10",
          "2024-12-31T11:50:20",
          "2024-12-31T11:50:30",
          "2024-12-31T11:50:40",
          "2024-12-31T11:50:50",
          "2024-12-31T11:51:00",
          "2024-12-31T11:51:10",
          "2024-12-31T11:51:20",
          "2024-12-31T11:51:30",
          "2024-12-31T11:51:40",
          "2024-12-31T11:51:50",
          "2024-12-31T11:52:00",
          "2024-12-31T11:52:10",
          "2024-12-31T11:52:20",
          "2024-12-31T11:52:30",
          "2024-12-31T11:52:40",
          "2024-12-31T11:52:50",
          "2024-12-31T11:53:00",
          "2024-12-31T11:53:10",
          "2024-12-31T11:53:20",
          "2024-12-31T11:53:30",
          "2024-12-31T11:53:40",
          "2024-12-31T11:53:50",
          "2024-12-31T11:54:00",
          "2024-12-31T11:54:10",
          "2024-12-31T11:54:20",
          "2024-12-31T11:54:30",
          "2024-12-31T11:54:40",
          "2024-12-31T11:54:50",
          "2024-12-31T11:55:00",
          "2024-12-31T11:55:10",
          "2024-12-31T11:55:20",
          "2024-12-31T11:55:30",
          "2024-12-31T11:55:40",
          "2024-12-31T11:55:50",
          "2024-12-31T11:56:00",
          "2024-12-31T11:56:10",
          "2024-12-31T11:56:20",
          "2024-12-31T11:56:30",
          "2024-12-31T11:56:40",
          "2024-12-31T11:56:50",
          "2024-12-31T11:57:00",
          "2024-12-31T11:57:10",
          "2024-12-31T11:57:20",
          "2024-12-31T11:57:30",
          "2024-12-31T11:57:40",
          "2024-12-31T11:57:50",
          "2024-12-31T11:58:00",
          "2024-12-31T11:58:10",
          "2024-12-31T11:58:20",
          "2024-12-31T11:58:30",
          "2024-12-31T11:58:40",
          "2024-12-31T11:58:50",
          "2024-12-31T11:59:00",
          "2024-12-31T11:59:10",
          "2024-12-31T11:59:20",
          "2024-12-31T11:59:30",
          "2024-12-31T11:59:40",
          "2024-12-31T11:59:50",
          "2024-12-31T12:00:00",
          "2024-12-31T12:00:10",
          "2024-12-31T12:00:20",
          "2024-12-31T12:00:30",
          "2024-12-31T12:00:40",
          "2024-12-31T12:00:50",
          "2024-12-31T12:01:00",
          "2024-12-31T12:01:10",
          "2024-12-31T12:01:20",
          "2024-12-31T12:01:30",
          "2024-12-31T12:01:40",
          "2024-12-31T12:01:50",
          "2024-12-31T12:02:00",
          "2024-12-31T12:02:10",
          "2024-12-31T12:02:20",
          "2024-12-31T12:02:30",
          "2024-12-31T12:02:40",
          "2024-12-31T12:02:50",
          "2024-12-31T12:03:00",
          "2024-12-31T12:03:10",
          "2024-12-31T12:03:20",
          "2024-12-31T12:03:30",
          "2024-12-31T12:03:40",
          "2024-12-31T12:03:50",
          "2024-12-31T12:04:00",
          "2024-12-31T12:04:10",
          "2024-12-31T12:04:20",
          "2024-12-31T12:04:30",
          "2024-12-31T12:04:40",
          "2024-12-31T12:04:50",
          "2024-12-31T12:05:00",
          "2024-12-31T12:05:10",
          "2024-12-31T12:05:20",
          "2024-12-31T12:05:30",
          "2024-12-31T12:05:40",
          "2024-12-31T12:05:50",
          "2024-12-31T12:06:00",
          "2024-12-31T12:06:10",
          "2024-12-31T12:06:20",
          "2024-12-31T12:06:30"
         ],
         "y": [
          10,
          0,
          0,
          0,
          0,
          10,
          0,
          0,
          0,
          0,
          10,
          0,
          0,
          0,
          0,
          10,
          0,
          0,
          0,
          0,
          10,
          0,
          0,
          0,
          0,
          10,
          0,
          0,
          0,
          0,
          10,
          0,
          0,
          0,
          0,
          10,
          0,
          0,
          0,
          0,
          10,
          0,
          0,
          0,
          0,
          10,
          0,
          0,
          0,
          0,
          10,
          0,
          0,
          0,
          0,
          10,
          0,
          0,
          0,
          0,
          10,
          0,
          0,
          0,
          0,
          10,
          0,
          0,
          0,
          0,
          10,
          0,
          0,
          0,
          0,
          5,
          5,
          0,
          0,
          0,
          5,
          5,
          0,
          0,
          0,
          5,
          5,
          0,
          0,
          0,
          5,
          5,
          0,
          0,
          0,
          5,
          5,
          0,
          0,
          0,
          0,
          10,
          0,
          0,
          0,
          0,
          10,
          0,
          0,
          0,
          0,
          10,
          0,
          0,
          0,
          0,
          10,
          0,
          0,
          0,
          0,
          10,
          0,
          0,
          0,
          0,
          10,
          0,
          0,
          0,
          0,
          10,
          0,
          0,
          0,
          0,
          10,
          0,
          0,
          0,
          0,
          10,
          0,
          0,
          0,
          0,
          10,
          0,
          0,
          0,
          0,
          10,
          0,
          0,
          0,
          0,
          10,
          0,
          0,
          0,
          0,
          10,
          0,
          0,
          0,
          0,
          10,
          0,
          0,
          0,
          0,
          10,
          0,
          0,
          0,
          0,
          10,
          0,
          0,
          0,
          0,
          10,
          0,
          0,
          0,
          0,
          10,
          0,
          0,
          0,
          0,
          10,
          0,
          0,
          0,
          0,
          10,
          0,
          0,
          0,
          0,
          10,
          0,
          0,
          0,
          0,
          10,
          0,
          0,
          0,
          0,
          10,
          0,
          0,
          0,
          0,
          10,
          0,
          0,
          0,
          0,
          10,
          0,
          0,
          0,
          0,
          10,
          0,
          0,
          0,
          0,
          10,
          0,
          0,
          0,
          0,
          10,
          0,
          0,
          0,
          0,
          10,
          0,
          0,
          0,
          0,
          10
         ]
        }
       ],
       "layout": {
        "legend": {
         "title": {
          "text": "Legend"
         }
        },
        "template": {
         "data": {
          "bar": [
           {
            "error_x": {
             "color": "#f2f5fa"
            },
            "error_y": {
             "color": "#f2f5fa"
            },
            "marker": {
             "line": {
              "color": "rgb(17,17,17)",
              "width": 0.5
             },
             "pattern": {
              "fillmode": "overlay",
              "size": 10,
              "solidity": 0.2
             }
            },
            "type": "bar"
           }
          ],
          "barpolar": [
           {
            "marker": {
             "line": {
              "color": "rgb(17,17,17)",
              "width": 0.5
             },
             "pattern": {
              "fillmode": "overlay",
              "size": 10,
              "solidity": 0.2
             }
            },
            "type": "barpolar"
           }
          ],
          "carpet": [
           {
            "aaxis": {
             "endlinecolor": "#A2B1C6",
             "gridcolor": "#506784",
             "linecolor": "#506784",
             "minorgridcolor": "#506784",
             "startlinecolor": "#A2B1C6"
            },
            "baxis": {
             "endlinecolor": "#A2B1C6",
             "gridcolor": "#506784",
             "linecolor": "#506784",
             "minorgridcolor": "#506784",
             "startlinecolor": "#A2B1C6"
            },
            "type": "carpet"
           }
          ],
          "choropleth": [
           {
            "colorbar": {
             "outlinewidth": 0,
             "ticks": ""
            },
            "type": "choropleth"
           }
          ],
          "contour": [
           {
            "colorbar": {
             "outlinewidth": 0,
             "ticks": ""
            },
            "colorscale": [
             [
              0,
              "#0d0887"
             ],
             [
              0.1111111111111111,
              "#46039f"
             ],
             [
              0.2222222222222222,
              "#7201a8"
             ],
             [
              0.3333333333333333,
              "#9c179e"
             ],
             [
              0.4444444444444444,
              "#bd3786"
             ],
             [
              0.5555555555555556,
              "#d8576b"
             ],
             [
              0.6666666666666666,
              "#ed7953"
             ],
             [
              0.7777777777777778,
              "#fb9f3a"
             ],
             [
              0.8888888888888888,
              "#fdca26"
             ],
             [
              1,
              "#f0f921"
             ]
            ],
            "type": "contour"
           }
          ],
          "contourcarpet": [
           {
            "colorbar": {
             "outlinewidth": 0,
             "ticks": ""
            },
            "type": "contourcarpet"
           }
          ],
          "heatmap": [
           {
            "colorbar": {
             "outlinewidth": 0,
             "ticks": ""
            },
            "colorscale": [
             [
              0,
              "#0d0887"
             ],
             [
              0.1111111111111111,
              "#46039f"
             ],
             [
              0.2222222222222222,
              "#7201a8"
             ],
             [
              0.3333333333333333,
              "#9c179e"
             ],
             [
              0.4444444444444444,
              "#bd3786"
             ],
             [
              0.5555555555555556,
              "#d8576b"
             ],
             [
              0.6666666666666666,
              "#ed7953"
             ],
             [
              0.7777777777777778,
              "#fb9f3a"
             ],
             [
              0.8888888888888888,
              "#fdca26"
             ],
             [
              1,
              "#f0f921"
             ]
            ],
            "type": "heatmap"
           }
          ],
          "heatmapgl": [
           {
            "colorbar": {
             "outlinewidth": 0,
             "ticks": ""
            },
            "colorscale": [
             [
              0,
              "#0d0887"
             ],
             [
              0.1111111111111111,
              "#46039f"
             ],
             [
              0.2222222222222222,
              "#7201a8"
             ],
             [
              0.3333333333333333,
              "#9c179e"
             ],
             [
              0.4444444444444444,
              "#bd3786"
             ],
             [
              0.5555555555555556,
              "#d8576b"
             ],
             [
              0.6666666666666666,
              "#ed7953"
             ],
             [
              0.7777777777777778,
              "#fb9f3a"
             ],
             [
              0.8888888888888888,
              "#fdca26"
             ],
             [
              1,
              "#f0f921"
             ]
            ],
            "type": "heatmapgl"
           }
          ],
          "histogram": [
           {
            "marker": {
             "pattern": {
              "fillmode": "overlay",
              "size": 10,
              "solidity": 0.2
             }
            },
            "type": "histogram"
           }
          ],
          "histogram2d": [
           {
            "colorbar": {
             "outlinewidth": 0,
             "ticks": ""
            },
            "colorscale": [
             [
              0,
              "#0d0887"
             ],
             [
              0.1111111111111111,
              "#46039f"
             ],
             [
              0.2222222222222222,
              "#7201a8"
             ],
             [
              0.3333333333333333,
              "#9c179e"
             ],
             [
              0.4444444444444444,
              "#bd3786"
             ],
             [
              0.5555555555555556,
              "#d8576b"
             ],
             [
              0.6666666666666666,
              "#ed7953"
             ],
             [
              0.7777777777777778,
              "#fb9f3a"
             ],
             [
              0.8888888888888888,
              "#fdca26"
             ],
             [
              1,
              "#f0f921"
             ]
            ],
            "type": "histogram2d"
           }
          ],
          "histogram2dcontour": [
           {
            "colorbar": {
             "outlinewidth": 0,
             "ticks": ""
            },
            "colorscale": [
             [
              0,
              "#0d0887"
             ],
             [
              0.1111111111111111,
              "#46039f"
             ],
             [
              0.2222222222222222,
              "#7201a8"
             ],
             [
              0.3333333333333333,
              "#9c179e"
             ],
             [
              0.4444444444444444,
              "#bd3786"
             ],
             [
              0.5555555555555556,
              "#d8576b"
             ],
             [
              0.6666666666666666,
              "#ed7953"
             ],
             [
              0.7777777777777778,
              "#fb9f3a"
             ],
             [
              0.8888888888888888,
              "#fdca26"
             ],
             [
              1,
              "#f0f921"
             ]
            ],
            "type": "histogram2dcontour"
           }
          ],
          "mesh3d": [
           {
            "colorbar": {
             "outlinewidth": 0,
             "ticks": ""
            },
            "type": "mesh3d"
           }
          ],
          "parcoords": [
           {
            "line": {
             "colorbar": {
              "outlinewidth": 0,
              "ticks": ""
             }
            },
            "type": "parcoords"
           }
          ],
          "pie": [
           {
            "automargin": true,
            "type": "pie"
           }
          ],
          "scatter": [
           {
            "marker": {
             "line": {
              "color": "#283442"
             }
            },
            "type": "scatter"
           }
          ],
          "scatter3d": [
           {
            "line": {
             "colorbar": {
              "outlinewidth": 0,
              "ticks": ""
             }
            },
            "marker": {
             "colorbar": {
              "outlinewidth": 0,
              "ticks": ""
             }
            },
            "type": "scatter3d"
           }
          ],
          "scattercarpet": [
           {
            "marker": {
             "colorbar": {
              "outlinewidth": 0,
              "ticks": ""
             }
            },
            "type": "scattercarpet"
           }
          ],
          "scattergeo": [
           {
            "marker": {
             "colorbar": {
              "outlinewidth": 0,
              "ticks": ""
             }
            },
            "type": "scattergeo"
           }
          ],
          "scattergl": [
           {
            "marker": {
             "line": {
              "color": "#283442"
             }
            },
            "type": "scattergl"
           }
          ],
          "scattermapbox": [
           {
            "marker": {
             "colorbar": {
              "outlinewidth": 0,
              "ticks": ""
             }
            },
            "type": "scattermapbox"
           }
          ],
          "scatterpolar": [
           {
            "marker": {
             "colorbar": {
              "outlinewidth": 0,
              "ticks": ""
             }
            },
            "type": "scatterpolar"
           }
          ],
          "scatterpolargl": [
           {
            "marker": {
             "colorbar": {
              "outlinewidth": 0,
              "ticks": ""
             }
            },
            "type": "scatterpolargl"
           }
          ],
          "scatterternary": [
           {
            "marker": {
             "colorbar": {
              "outlinewidth": 0,
              "ticks": ""
             }
            },
            "type": "scatterternary"
           }
          ],
          "surface": [
           {
            "colorbar": {
             "outlinewidth": 0,
             "ticks": ""
            },
            "colorscale": [
             [
              0,
              "#0d0887"
             ],
             [
              0.1111111111111111,
              "#46039f"
             ],
             [
              0.2222222222222222,
              "#7201a8"
             ],
             [
              0.3333333333333333,
              "#9c179e"
             ],
             [
              0.4444444444444444,
              "#bd3786"
             ],
             [
              0.5555555555555556,
              "#d8576b"
             ],
             [
              0.6666666666666666,
              "#ed7953"
             ],
             [
              0.7777777777777778,
              "#fb9f3a"
             ],
             [
              0.8888888888888888,
              "#fdca26"
             ],
             [
              1,
              "#f0f921"
             ]
            ],
            "type": "surface"
           }
          ],
          "table": [
           {
            "cells": {
             "fill": {
              "color": "#506784"
             },
             "line": {
              "color": "rgb(17,17,17)"
             }
            },
            "header": {
             "fill": {
              "color": "#2a3f5f"
             },
             "line": {
              "color": "rgb(17,17,17)"
             }
            },
            "type": "table"
           }
          ]
         },
         "layout": {
          "annotationdefaults": {
           "arrowcolor": "#f2f5fa",
           "arrowhead": 0,
           "arrowwidth": 1
          },
          "autotypenumbers": "strict",
          "coloraxis": {
           "colorbar": {
            "outlinewidth": 0,
            "ticks": ""
           }
          },
          "colorscale": {
           "diverging": [
            [
             0,
             "#8e0152"
            ],
            [
             0.1,
             "#c51b7d"
            ],
            [
             0.2,
             "#de77ae"
            ],
            [
             0.3,
             "#f1b6da"
            ],
            [
             0.4,
             "#fde0ef"
            ],
            [
             0.5,
             "#f7f7f7"
            ],
            [
             0.6,
             "#e6f5d0"
            ],
            [
             0.7,
             "#b8e186"
            ],
            [
             0.8,
             "#7fbc41"
            ],
            [
             0.9,
             "#4d9221"
            ],
            [
             1,
             "#276419"
            ]
           ],
           "sequential": [
            [
             0,
             "#0d0887"
            ],
            [
             0.1111111111111111,
             "#46039f"
            ],
            [
             0.2222222222222222,
             "#7201a8"
            ],
            [
             0.3333333333333333,
             "#9c179e"
            ],
            [
             0.4444444444444444,
             "#bd3786"
            ],
            [
             0.5555555555555556,
             "#d8576b"
            ],
            [
             0.6666666666666666,
             "#ed7953"
            ],
            [
             0.7777777777777778,
             "#fb9f3a"
            ],
            [
             0.8888888888888888,
             "#fdca26"
            ],
            [
             1,
             "#f0f921"
            ]
           ],
           "sequentialminus": [
            [
             0,
             "#0d0887"
            ],
            [
             0.1111111111111111,
             "#46039f"
            ],
            [
             0.2222222222222222,
             "#7201a8"
            ],
            [
             0.3333333333333333,
             "#9c179e"
            ],
            [
             0.4444444444444444,
             "#bd3786"
            ],
            [
             0.5555555555555556,
             "#d8576b"
            ],
            [
             0.6666666666666666,
             "#ed7953"
            ],
            [
             0.7777777777777778,
             "#fb9f3a"
            ],
            [
             0.8888888888888888,
             "#fdca26"
            ],
            [
             1,
             "#f0f921"
            ]
           ]
          },
          "colorway": [
           "#636efa",
           "#EF553B",
           "#00cc96",
           "#ab63fa",
           "#FFA15A",
           "#19d3f3",
           "#FF6692",
           "#B6E880",
           "#FF97FF",
           "#FECB52"
          ],
          "font": {
           "color": "#f2f5fa"
          },
          "geo": {
           "bgcolor": "rgb(17,17,17)",
           "lakecolor": "rgb(17,17,17)",
           "landcolor": "rgb(17,17,17)",
           "showlakes": true,
           "showland": true,
           "subunitcolor": "#506784"
          },
          "hoverlabel": {
           "align": "left"
          },
          "hovermode": "closest",
          "mapbox": {
           "style": "dark"
          },
          "paper_bgcolor": "rgb(17,17,17)",
          "plot_bgcolor": "rgb(17,17,17)",
          "polar": {
           "angularaxis": {
            "gridcolor": "#506784",
            "linecolor": "#506784",
            "ticks": ""
           },
           "bgcolor": "rgb(17,17,17)",
           "radialaxis": {
            "gridcolor": "#506784",
            "linecolor": "#506784",
            "ticks": ""
           }
          },
          "scene": {
           "xaxis": {
            "backgroundcolor": "rgb(17,17,17)",
            "gridcolor": "#506784",
            "gridwidth": 2,
            "linecolor": "#506784",
            "showbackground": true,
            "ticks": "",
            "zerolinecolor": "#C8D4E3"
           },
           "yaxis": {
            "backgroundcolor": "rgb(17,17,17)",
            "gridcolor": "#506784",
            "gridwidth": 2,
            "linecolor": "#506784",
            "showbackground": true,
            "ticks": "",
            "zerolinecolor": "#C8D4E3"
           },
           "zaxis": {
            "backgroundcolor": "rgb(17,17,17)",
            "gridcolor": "#506784",
            "gridwidth": 2,
            "linecolor": "#506784",
            "showbackground": true,
            "ticks": "",
            "zerolinecolor": "#C8D4E3"
           }
          },
          "shapedefaults": {
           "line": {
            "color": "#f2f5fa"
           }
          },
          "sliderdefaults": {
           "bgcolor": "#C8D4E3",
           "bordercolor": "rgb(17,17,17)",
           "borderwidth": 1,
           "tickwidth": 0
          },
          "ternary": {
           "aaxis": {
            "gridcolor": "#506784",
            "linecolor": "#506784",
            "ticks": ""
           },
           "baxis": {
            "gridcolor": "#506784",
            "linecolor": "#506784",
            "ticks": ""
           },
           "bgcolor": "rgb(17,17,17)",
           "caxis": {
            "gridcolor": "#506784",
            "linecolor": "#506784",
            "ticks": ""
           }
          },
          "title": {
           "x": 0.05
          },
          "updatemenudefaults": {
           "bgcolor": "#506784",
           "borderwidth": 0
          },
          "xaxis": {
           "automargin": true,
           "gridcolor": "#283442",
           "linecolor": "#506784",
           "ticks": "",
           "title": {
            "standoff": 15
           },
           "zerolinecolor": "#283442",
           "zerolinewidth": 2
          },
          "yaxis": {
           "automargin": true,
           "gridcolor": "#283442",
           "linecolor": "#506784",
           "ticks": "",
           "title": {
            "standoff": 15
           },
           "zerolinecolor": "#283442",
           "zerolinewidth": 2
          }
         }
        },
        "title": {
         "text": "500 tasks 4 workers batch-size => 5 : fast  Plot for Throughput Trends Over Time"
        },
        "xaxis": {
         "showgrid": true,
         "title": {
          "text": "Time"
         }
        },
        "yaxis": {
         "showgrid": true,
         "title": {
          "text": "Tasks Completed (Throughput)"
         }
        }
       }
      }
     },
     "metadata": {},
     "output_type": "display_data"
    }
   ],
   "source": [
    "\n",
    "\n",
    "def analyze_lentency(logs,desc):\n",
    "  latency_df = calculate_latency_per_messages(logs)\n",
    "  # print(latency_df)\n",
    "  # plot_latency_distribution(latency_df)\n",
    "  plot_latency_trends(latency_df,desc)\n",
    "  \n",
    "\n",
    "def analyze_throughtput(logs,desc):\n",
    "  throughput_df = calculate_throughput(logs)\n",
    "  # print(throughput_df)\n",
    "  plot_throughput_trends(throughput_df,desc)\n",
    "  \n",
    "\n",
    "\n",
    "exps = [\n",
    "  \n",
    "  # (\"10 tasks 2 workers batch-size => 5 : slow \",\"gs://cameltrain-sight/doing_mq_analysis/2024-12-20T09:00:43.541533.json\"),\n",
    "  # (\"50 tasks 2 workers batch-size => 5 : slow \",\"gs://cameltrain-sight/doing_mq_analysis/2024-12-23T15:15:49.032019.json\"),\n",
    "  # (\"100 tasks 2 workers batch-size => 5 : slow \",\"gs://cameltrain-sight/doing_mq_analysis/2024-12-23T19:26:50.355211.json\"),\n",
    "  # (\"500 tasks 2 workers batch-size => 5 : slow \",\"gs://cameltrain-sight/doing_mq_analysis/2024-12-22T15:48:18.956719.json\"),\n",
    "  \n",
    "  # (\"50 tasks 4 workers batch-size => 5 : slow \",\"gs://cameltrain-sight/doing_mq_analysis/2024-12-27T09:26:30.675248.json\"),\n",
    "  # (\"100 tasks 4 workers batch-size => 5 : slow \",\"gs://cameltrain-sight/doing_mq_analysis/2024-12-27T15:29:03.534160.json\"),\n",
    "  # (\"500 tasks 4 workers batch-size => 5 : slow \",\"gs://cameltrain-sight/doing_mq_analysis/2024-12-22T15:48:18.956719.json\"),\n",
    "  \n",
    "  (\"10 tasks 1 workers batch-size => 1 : fast \",\"gs://cameltrain-sight/doing_mq_analysis/2025-01-04T19:48:06.083435.json\"),\n",
    "  \n",
    "  (\"10 tasks 2 workers batch-size => 5 : fast \",\"gs://cameltrain-sight/doing_mq_analysis/2024-12-31T09:40:23.962527.json\"),\n",
    "  (\"50 tasks 2 workers batch-size => 5 : fast \",\"gs://cameltrain-sight/doing_mq_analysis/2024-12-31T10:27:32.520731.json\"),\n",
    "  (\"100 tasks 2 workers batch-size => 5 : fast \",\"gs://cameltrain-sight/doing_mq_analysis/2024-12-31T10:52:02.779873.json\"),\n",
    "  (\"500 tasks 2 workers batch-size => 5 : fast \",\"gs://cameltrain-sight/doing_mq_analysis/2024-12-31T12:06:54.093683.json\"), \n",
    "  \n",
    "  (\"50 tasks 4 workers batch-size => 5 : fast \",\"gs://cameltrain-sight/doing_mq_analysis/2024-12-31T08:09:08.847832.json\"), \n",
    "  (\"100 tasks 4 workers batch-size => 5 : fast \",\"gs://cameltrain-sight/doing_mq_analysis/2024-12-31T09:08:46.723731.json\"), \n",
    "  (\"500 tasks 4 workers batch-size => 5 : fast \",\"gs://cameltrain-sight/doing_mq_analysis/2024-12-31T12:06:54.093683.json\")\n",
    "]\n",
    "\n",
    "\n",
    "for (desc,uri) in exps:\n",
    "  logsx = read_logs_from_gs_uri(gs_uri = uri )\n",
    "  analyze_message_flow(logsx,desc)\n",
    "  analyze_lentency(logsx,desc)\n",
    "  analyze_throughtput(logsx,desc)\n"
   ]
  }
 ],
 "metadata": {
  "kernelspec": {
   "display_name": ".venv",
   "language": "python",
   "name": "python3"
  },
  "language_info": {
   "codemirror_mode": {
    "name": "ipython",
    "version": 3
   },
   "file_extension": ".py",
   "mimetype": "text/x-python",
   "name": "python",
   "nbconvert_exporter": "python",
   "pygments_lexer": "ipython3",
   "version": "3.10.0"
  }
 },
 "nbformat": 4,
 "nbformat_minor": 2
}
