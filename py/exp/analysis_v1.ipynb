{
 "cells": [
  {
   "cell_type": "code",
   "execution_count": null,
   "metadata": {
    "vscode": {
     "languageId": "plaintext"
    }
   },
   "outputs": [],
   "source": [
    "for (desc,uri) in exps:\n",
    "  logsx = read_logs_from_gs_uri(gs_uri = uri )\n",
    "  analyze_message_flow(logsx,desc)\n",
    "  analyze_lentency(logsx,desc)\n",
    "  analyze_throughtput(logsx,desc)"
   ]
  }
 ],
 "metadata": {
  "language_info": {
   "name": "python"
  }
 },
 "nbformat": 4,
 "nbformat_minor": 2
}
